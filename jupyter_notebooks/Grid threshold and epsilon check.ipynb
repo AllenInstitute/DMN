{
 "cells": [
  {
   "cell_type": "code",
   "execution_count": 1,
   "metadata": {},
   "outputs": [],
   "source": [
    "import os\n",
    "import pandas as pd\n",
    "import platform\n",
    "import seaborn as sns\n",
    "from allensdk.core.mouse_connectivity_cache import MouseConnectivityCache\n",
    "import numpy as np\n",
    "\n",
    "import scipy.stats as stats\n",
    "\n",
    "import seaborn as sns\n",
    "sns.set_context('paper')\n",
    "sns.set_style('white')\n",
    "\n",
    "import matplotlib.pyplot as plt\n",
    "import matplotlib as mpl\n",
    "mpl.rcParams['pdf.fonttype'] = 42"
   ]
  },
  {
   "cell_type": "code",
   "execution_count": 2,
   "metadata": {},
   "outputs": [],
   "source": [
    "mcc = MouseConnectivityCache(manifest_file = '..connectivity/mouse_connectivity_manifest.json',\n",
    "                            resolution = 100)\n",
    "st = mcc.get_structure_tree()"
   ]
  },
  {
   "cell_type": "code",
   "execution_count": 3,
   "metadata": {},
   "outputs": [
    {
     "name": "stderr",
     "output_type": "stream",
     "text": [
      "2020-11-19 19:54:46,564 allensdk.api.api.retrieve_file_over_http INFO     Downloading URL: http://download.alleninstitute.org/informatics-archive/current-release/mouse_ccf/annotation/ccf_2017/structure_masks/structure_masks_100/structure_315.nrrd\n"
     ]
    }
   ],
   "source": [
    "iso = st.get_structures_by_acronym(['Isocortex'])[0]\n",
    "iso_mask = mcc.get_structure_mask(iso['id'])[0]"
   ]
  },
  {
   "cell_type": "code",
   "execution_count": 4,
   "metadata": {},
   "outputs": [],
   "source": [
    "isid = 521255975"
   ]
  },
  {
   "cell_type": "code",
   "execution_count": 5,
   "metadata": {},
   "outputs": [
    {
     "name": "stderr",
     "output_type": "stream",
     "text": [
      "2020-11-19 19:54:49,884 allensdk.api.api.retrieve_file_over_http INFO     Downloading URL: http://api.brain-map.org/grid_data/download_file/521255975?image=projection_density&resolution=100\n"
     ]
    }
   ],
   "source": [
    "proj_grid = mcc.get_projection_density(isid)[0]\n",
    "proj_grid = proj_grid*iso_mask"
   ]
  },
  {
   "cell_type": "code",
   "execution_count": 6,
   "metadata": {},
   "outputs": [
    {
     "data": {
      "text/plain": [
       "(132, 80, 114)"
      ]
     },
     "execution_count": 6,
     "metadata": {},
     "output_type": "execute_result"
    }
   ],
   "source": [
    "proj_grid.shape"
   ]
  },
  {
   "cell_type": "code",
   "execution_count": 7,
   "metadata": {},
   "outputs": [
    {
     "data": {
      "text/plain": [
       "<matplotlib.image.AxesImage at 0x1a22ca82d0>"
      ]
     },
     "execution_count": 7,
     "metadata": {},
     "output_type": "execute_result"
    },
    {
     "data": {
      "image/png": "[encoded data removed]",
      "text/plain": [
       "<Figure size 432x288 with 1 Axes>"
      ]
     },
     "metadata": {},
     "output_type": "display_data"
    }
   ],
   "source": [
    "plt.imshow(proj_grid[:,20,:])"
   ]
  },
  {
   "cell_type": "code",
   "execution_count": 8,
   "metadata": {},
   "outputs": [
    {
     "data": {
      "text/plain": [
       "0.043983847"
      ]
     },
     "execution_count": 8,
     "metadata": {},
     "output_type": "execute_result"
    }
   ],
   "source": [
    "proj_grid[:,20,:].max()"
   ]
  },
  {
   "cell_type": "code",
   "execution_count": 9,
   "metadata": {},
   "outputs": [
    {
     "data": {
      "text/plain": [
       "0.0004225797"
      ]
     },
     "execution_count": 9,
     "metadata": {},
     "output_type": "execute_result"
    }
   ],
   "source": [
    "proj_grid[:,20,:][50,50]"
   ]
  },
  {
   "cell_type": "code",
   "execution_count": 10,
   "metadata": {},
   "outputs": [
    {
     "name": "stderr",
     "output_type": "stream",
     "text": [
      "/opt/anaconda3/lib/python3.7/site-packages/seaborn/distributions.py:2551: FutureWarning: `distplot` is a deprecated function and will be removed in a future version. Please adapt your code to use either `displot` (a figure-level function with similar flexibility) or `histplot` (an axes-level function for histograms).\n",
      "  warnings.warn(msg, FutureWarning)\n"
     ]
    },
    {
     "data": {
      "text/plain": [
       "<AxesSubplot:>"
      ]
     },
     "execution_count": 10,
     "metadata": {},
     "output_type": "execute_result"
    },
    {
     "data": {
      "image/png": "[encoded data removed]",
      "text/plain": [
       "<Figure size 432x288 with 1 Axes>"
      ]
     },
     "metadata": {},
     "output_type": "display_data"
    }
   ],
   "source": [
    "bins = [0.001, 0.005, 0.01, 0.015, 0.02, 0.025, 0.03, 0.035, 0.04, 0.045, 0.05]\n",
    "sns.distplot(proj_grid[:,20,:].flatten(), bins = bins, kde = False)"
   ]
  },
  {
   "cell_type": "code",
   "execution_count": 11,
   "metadata": {},
   "outputs": [
    {
     "name": "stderr",
     "output_type": "stream",
     "text": [
      "/opt/anaconda3/lib/python3.7/site-packages/seaborn/distributions.py:2551: FutureWarning: `distplot` is a deprecated function and will be removed in a future version. Please adapt your code to use either `displot` (a figure-level function with similar flexibility) or `kdeplot` (an axes-level function for kernel density plots).\n",
      "  warnings.warn(msg, FutureWarning)\n"
     ]
    },
    {
     "data": {
      "text/plain": [
       "<AxesSubplot:ylabel='Density'>"
      ]
     },
     "execution_count": 11,
     "metadata": {},
     "output_type": "execute_result"
    },
    {
     "data": {
      "image/png": "[encoded data removed]",
      "text/plain": [
       "<Figure size 432x288 with 1 Axes>"
      ]
     },
     "metadata": {},
     "output_type": "display_data"
    }
   ],
   "source": [
    "bins = [0.1, 0.2, 0.3, 0.4, 0.5, 0.6, 0.7, 0.8, 0.9, 1]\n",
    "sns.distplot(proj_grid.flatten(), bins = bins, hist = False)"
   ]
  },
  {
   "cell_type": "code",
   "execution_count": 12,
   "metadata": {},
   "outputs": [
    {
     "name": "stderr",
     "output_type": "stream",
     "text": [
      "/opt/anaconda3/lib/python3.7/site-packages/seaborn/distributions.py:2551: FutureWarning: `distplot` is a deprecated function and will be removed in a future version. Please adapt your code to use either `displot` (a figure-level function with similar flexibility) or `kdeplot` (an axes-level function for kernel density plots).\n",
      "  warnings.warn(msg, FutureWarning)\n"
     ]
    },
    {
     "data": {
      "text/plain": [
       "<AxesSubplot:ylabel='Density'>"
      ]
     },
     "execution_count": 12,
     "metadata": {},
     "output_type": "execute_result"
    },
    {
     "data": {
      "image/png": "[encoded data removed]",
      "text/plain": [
       "<Figure size 432x288 with 1 Axes>"
      ]
     },
     "metadata": {},
     "output_type": "display_data"
    }
   ],
   "source": [
    "bins = [-3, -2.5, -2, -1.5, -1, -0.5, 0, 0.5, 1]\n",
    "sns.distplot(np.log10(proj_grid.flatten()+1e-12), bins = bins, hist = False)"
   ]
  },
  {
   "cell_type": "code",
   "execution_count": 13,
   "metadata": {},
   "outputs": [
    {
     "name": "stderr",
     "output_type": "stream",
     "text": [
      "/opt/anaconda3/lib/python3.7/site-packages/seaborn/distributions.py:2551: FutureWarning: `distplot` is a deprecated function and will be removed in a future version. Please adapt your code to use either `displot` (a figure-level function with similar flexibility) or `kdeplot` (an axes-level function for kernel density plots).\n",
      "  warnings.warn(msg, FutureWarning)\n"
     ]
    },
    {
     "data": {
      "text/plain": [
       "<AxesSubplot:ylabel='Density'>"
      ]
     },
     "execution_count": 13,
     "metadata": {},
     "output_type": "execute_result"
    },
    {
     "data": {
      "image/png": "[encoded data removed]",
      "text/plain": [
       "<Figure size 432x288 with 1 Axes>"
      ]
     },
     "metadata": {},
     "output_type": "display_data"
    }
   ],
   "source": [
    "bins = [0, 0.1, 0.2, 0.3, 0.4, 0.5]\n",
    "sns.distplot(np.log10(proj_grid.flatten()+1), bins = bins, hist = False)"
   ]
  },
  {
   "cell_type": "code",
   "execution_count": 14,
   "metadata": {},
   "outputs": [],
   "source": [
    "td_experiments = pd.DataFrame(mcc.get_experiments(cre=['Ai75(RCL-nt)']))"
   ]
  },
  {
   "cell_type": "code",
   "execution_count": 15,
   "metadata": {},
   "outputs": [],
   "source": [
    "td_ids = td_experiments['id'].unique()"
   ]
  },
  {
   "cell_type": "code",
   "execution_count": 16,
   "metadata": {
    "scrolled": true
   },
   "outputs": [
    {
     "name": "stderr",
     "output_type": "stream",
     "text": [
      "2020-11-19 19:55:28,123 allensdk.api.api.retrieve_file_over_http INFO     Downloading URL: http://api.brain-map.org/grid_data/download_file/578332611?image=projection_density&resolution=100\n",
      "2020-11-19 19:55:29,237 allensdk.api.api.retrieve_file_over_http INFO     Downloading URL: http://api.brain-map.org/grid_data/download_file/614435699?image=projection_density&resolution=100\n",
      "2020-11-19 19:55:29,697 allensdk.api.api.retrieve_file_over_http INFO     Downloading URL: http://api.brain-map.org/grid_data/download_file/475828414?image=projection_density&resolution=100\n",
      "2020-11-19 19:55:30,020 allensdk.api.api.retrieve_file_over_http INFO     Downloading URL: http://api.brain-map.org/grid_data/download_file/613898292?image=projection_density&resolution=100\n",
      "2020-11-19 19:55:30,519 allensdk.api.api.retrieve_file_over_http INFO     Downloading URL: http://api.brain-map.org/grid_data/download_file/605092364?image=projection_density&resolution=100\n",
      "2020-11-19 19:55:31,387 allensdk.api.api.retrieve_file_over_http INFO     Downloading URL: http://api.brain-map.org/grid_data/download_file/485553574?image=projection_density&resolution=100\n",
      "2020-11-19 19:55:31,749 allensdk.api.api.retrieve_file_over_http INFO     Downloading URL: http://api.brain-map.org/grid_data/download_file/571652998?image=projection_density&resolution=100\n",
      "2020-11-19 19:55:33,221 allensdk.api.api.retrieve_file_over_http INFO     Downloading URL: http://api.brain-map.org/grid_data/download_file/521955016?image=projection_density&resolution=100\n",
      "2020-11-19 19:55:33,648 allensdk.api.api.retrieve_file_over_http INFO     Downloading URL: http://api.brain-map.org/grid_data/download_file/607316031?image=projection_density&resolution=100\n",
      "2020-11-19 19:55:35,176 allensdk.api.api.retrieve_file_over_http INFO     Downloading URL: http://api.brain-map.org/grid_data/download_file/567301515?image=projection_density&resolution=100\n",
      "2020-11-19 19:55:36,605 allensdk.api.api.retrieve_file_over_http INFO     Downloading URL: http://api.brain-map.org/grid_data/download_file/589398486?image=projection_density&resolution=100\n",
      "2020-11-19 19:55:37,411 allensdk.api.api.retrieve_file_over_http INFO     Downloading URL: http://api.brain-map.org/grid_data/download_file/589399902?image=projection_density&resolution=100\n",
      "2020-11-19 19:55:38,023 allensdk.api.api.retrieve_file_over_http INFO     Downloading URL: http://api.brain-map.org/grid_data/download_file/572388976?image=projection_density&resolution=100\n",
      "2020-11-19 19:55:38,536 allensdk.api.api.retrieve_file_over_http INFO     Downloading URL: http://api.brain-map.org/grid_data/download_file/475829896?image=projection_density&resolution=100\n",
      "2020-11-19 19:55:39,791 allensdk.api.api.retrieve_file_over_http INFO     Downloading URL: http://api.brain-map.org/grid_data/download_file/483094671?image=projection_density&resolution=100\n",
      "2020-11-19 19:55:40,386 allensdk.api.api.retrieve_file_over_http INFO     Downloading URL: http://api.brain-map.org/grid_data/download_file/561918904?image=projection_density&resolution=100\n",
      "2020-11-19 19:55:41,334 allensdk.api.api.retrieve_file_over_http INFO     Downloading URL: http://api.brain-map.org/grid_data/download_file/561307215?image=projection_density&resolution=100\n",
      "2020-11-19 19:55:41,990 allensdk.api.api.retrieve_file_over_http INFO     Downloading URL: http://api.brain-map.org/grid_data/download_file/546389260?image=projection_density&resolution=100\n",
      "2020-11-19 19:55:42,777 allensdk.api.api.retrieve_file_over_http INFO     Downloading URL: http://api.brain-map.org/grid_data/download_file/527393013?image=projection_density&resolution=100\n",
      "2020-11-19 19:55:44,963 allensdk.api.api.retrieve_file_over_http INFO     Downloading URL: http://api.brain-map.org/grid_data/download_file/605093074?image=projection_density&resolution=100\n",
      "2020-11-19 19:55:45,360 allensdk.api.api.retrieve_file_over_http INFO     Downloading URL: http://api.brain-map.org/grid_data/download_file/595259180?image=projection_density&resolution=100\n",
      "2020-11-19 19:55:45,779 allensdk.api.api.retrieve_file_over_http INFO     Downloading URL: http://api.brain-map.org/grid_data/download_file/501785691?image=projection_density&resolution=100\n",
      "2020-11-19 19:55:46,280 allensdk.api.api.retrieve_file_over_http INFO     Downloading URL: http://api.brain-map.org/grid_data/download_file/601359621?image=projection_density&resolution=100\n",
      "2020-11-19 19:55:47,158 allensdk.api.api.retrieve_file_over_http INFO     Downloading URL: http://api.brain-map.org/grid_data/download_file/502005076?image=projection_density&resolution=100\n",
      "2020-11-19 19:55:47,578 allensdk.api.api.retrieve_file_over_http INFO     Downloading URL: http://api.brain-map.org/grid_data/download_file/531443949?image=projection_density&resolution=100\n",
      "2020-11-19 19:55:48,508 allensdk.api.api.retrieve_file_over_http INFO     Downloading URL: http://api.brain-map.org/grid_data/download_file/495877413?image=projection_density&resolution=100\n",
      "2020-11-19 19:55:49,262 allensdk.api.api.retrieve_file_over_http INFO     Downloading URL: http://api.brain-map.org/grid_data/download_file/563352720?image=projection_density&resolution=100\n",
      "2020-11-19 19:55:49,813 allensdk.api.api.retrieve_file_over_http INFO     Downloading URL: http://api.brain-map.org/grid_data/download_file/495346667?image=projection_density&resolution=100\n",
      "2020-11-19 19:55:50,332 allensdk.api.api.retrieve_file_over_http INFO     Downloading URL: http://api.brain-map.org/grid_data/download_file/623838656?image=projection_density&resolution=100\n",
      "2020-11-19 19:55:50,968 allensdk.api.api.retrieve_file_over_http INFO     Downloading URL: http://api.brain-map.org/grid_data/download_file/526783792?image=projection_density&resolution=100\n",
      "2020-11-19 19:55:52,500 allensdk.api.api.retrieve_file_over_http INFO     Downloading URL: http://api.brain-map.org/grid_data/download_file/525413115?image=projection_density&resolution=100\n",
      "2020-11-19 19:55:53,269 allensdk.api.api.retrieve_file_over_http INFO     Downloading URL: http://api.brain-map.org/grid_data/download_file/553080579?image=projection_density&resolution=100\n",
      "2020-11-19 19:55:54,811 allensdk.api.api.retrieve_file_over_http INFO     Downloading URL: http://api.brain-map.org/grid_data/download_file/524063357?image=projection_density&resolution=100\n",
      "2020-11-19 19:55:55,420 allensdk.api.api.retrieve_file_over_http INFO     Downloading URL: http://api.brain-map.org/grid_data/download_file/520615681?image=projection_density&resolution=100\n",
      "2020-11-19 19:55:57,111 allensdk.api.api.retrieve_file_over_http INFO     Downloading URL: http://api.brain-map.org/grid_data/download_file/569993539?image=projection_density&resolution=100\n",
      "2020-11-19 19:55:59,031 allensdk.api.api.retrieve_file_over_http INFO     Downloading URL: http://api.brain-map.org/grid_data/download_file/575683857?image=projection_density&resolution=100\n",
      "2020-11-19 19:55:59,591 allensdk.api.api.retrieve_file_over_http INFO     Downloading URL: http://api.brain-map.org/grid_data/download_file/502592260?image=projection_density&resolution=100\n",
      "2020-11-19 19:55:59,943 allensdk.api.api.retrieve_file_over_http INFO     Downloading URL: http://api.brain-map.org/grid_data/download_file/570461017?image=projection_density&resolution=100\n",
      "2020-11-19 19:56:00,320 allensdk.api.api.retrieve_file_over_http INFO     Downloading URL: http://api.brain-map.org/grid_data/download_file/528511254?image=projection_density&resolution=100\n",
      "2020-11-19 19:56:01,474 allensdk.api.api.retrieve_file_over_http INFO     Downloading URL: http://api.brain-map.org/grid_data/download_file/569932566?image=projection_density&resolution=100\n",
      "2020-11-19 19:56:02,489 allensdk.api.api.retrieve_file_over_http INFO     Downloading URL: http://api.brain-map.org/grid_data/download_file/527713883?image=projection_density&resolution=100\n",
      "2020-11-19 19:56:03,014 allensdk.api.api.retrieve_file_over_http INFO     Downloading URL: http://api.brain-map.org/grid_data/download_file/526784559?image=projection_density&resolution=100\n",
      "2020-11-19 19:56:03,427 allensdk.api.api.retrieve_file_over_http INFO     Downloading URL: http://api.brain-map.org/grid_data/download_file/525412369?image=projection_density&resolution=100\n",
      "2020-11-19 19:56:04,108 allensdk.api.api.retrieve_file_over_http INFO     Downloading URL: http://api.brain-map.org/grid_data/download_file/475733382?image=projection_density&resolution=100\n"
     ]
    },
    {
     "name": "stderr",
     "output_type": "stream",
     "text": [
      "2020-11-19 19:56:05,408 allensdk.api.api.retrieve_file_over_http INFO     Downloading URL: http://api.brain-map.org/grid_data/download_file/555012592?image=projection_density&resolution=100\n",
      "2020-11-19 19:56:06,173 allensdk.api.api.retrieve_file_over_http INFO     Downloading URL: http://api.brain-map.org/grid_data/download_file/528741104?image=projection_density&resolution=100\n",
      "2020-11-19 19:56:07,724 allensdk.api.api.retrieve_file_over_http INFO     Downloading URL: http://api.brain-map.org/grid_data/download_file/561506791?image=projection_density&resolution=100\n",
      "2020-11-19 19:56:12,201 allensdk.api.api.retrieve_file_over_http INFO     Downloading URL: http://api.brain-map.org/grid_data/download_file/589702885?image=projection_density&resolution=100\n",
      "2020-11-19 19:56:15,516 allensdk.api.api.retrieve_file_over_http INFO     Downloading URL: http://api.brain-map.org/grid_data/download_file/572390577?image=projection_density&resolution=100\n",
      "2020-11-19 19:56:17,200 allensdk.api.api.retrieve_file_over_http INFO     Downloading URL: http://api.brain-map.org/grid_data/download_file/515920693?image=projection_density&resolution=100\n",
      "2020-11-19 19:56:17,690 allensdk.api.api.retrieve_file_over_http INFO     Downloading URL: http://api.brain-map.org/grid_data/download_file/539514325?image=projection_density&resolution=100\n",
      "2020-11-19 19:56:18,704 allensdk.api.api.retrieve_file_over_http INFO     Downloading URL: http://api.brain-map.org/grid_data/download_file/523457583?image=projection_density&resolution=100\n",
      "2020-11-19 19:56:19,366 allensdk.api.api.retrieve_file_over_http INFO     Downloading URL: http://api.brain-map.org/grid_data/download_file/523704892?image=projection_density&resolution=100\n",
      "2020-11-19 19:56:20,475 allensdk.api.api.retrieve_file_over_http INFO     Downloading URL: http://api.brain-map.org/grid_data/download_file/528512680?image=projection_density&resolution=100\n",
      "2020-11-19 19:56:21,639 allensdk.api.api.retrieve_file_over_http INFO     Downloading URL: http://api.brain-map.org/grid_data/download_file/607321130?image=projection_density&resolution=100\n",
      "2020-11-19 19:56:22,536 allensdk.api.api.retrieve_file_over_http INFO     Downloading URL: http://api.brain-map.org/grid_data/download_file/560029094?image=projection_density&resolution=100\n",
      "2020-11-19 19:56:24,134 allensdk.api.api.retrieve_file_over_http INFO     Downloading URL: http://api.brain-map.org/grid_data/download_file/527713163?image=projection_density&resolution=100\n",
      "2020-11-19 19:56:24,691 allensdk.api.api.retrieve_file_over_http INFO     Downloading URL: http://api.brain-map.org/grid_data/download_file/601885751?image=projection_density&resolution=100\n",
      "2020-11-19 19:56:25,248 allensdk.api.api.retrieve_file_over_http INFO     Downloading URL: http://api.brain-map.org/grid_data/download_file/604100536?image=projection_density&resolution=100\n",
      "2020-11-19 19:56:25,988 allensdk.api.api.retrieve_file_over_http INFO     Downloading URL: http://api.brain-map.org/grid_data/download_file/573331541?image=projection_density&resolution=100\n",
      "2020-11-19 19:56:26,783 allensdk.api.api.retrieve_file_over_http INFO     Downloading URL: http://api.brain-map.org/grid_data/download_file/601904029?image=projection_density&resolution=100\n",
      "2020-11-19 19:56:27,670 allensdk.api.api.retrieve_file_over_http INFO     Downloading URL: http://api.brain-map.org/grid_data/download_file/501837158?image=projection_density&resolution=100\n",
      "2020-11-19 19:56:27,875 allensdk.api.api.retrieve_file_over_http INFO     Downloading URL: http://api.brain-map.org/grid_data/download_file/607059419?image=projection_density&resolution=100\n",
      "2020-11-19 19:56:29,838 allensdk.api.api.retrieve_file_over_http INFO     Downloading URL: http://api.brain-map.org/grid_data/download_file/585761377?image=projection_density&resolution=100\n",
      "2020-11-19 19:56:30,695 allensdk.api.api.retrieve_file_over_http INFO     Downloading URL: http://api.brain-map.org/grid_data/download_file/617898760?image=projection_density&resolution=100\n",
      "2020-11-19 19:56:31,265 allensdk.api.api.retrieve_file_over_http INFO     Downloading URL: http://api.brain-map.org/grid_data/download_file/544454674?image=projection_density&resolution=100\n",
      "2020-11-19 19:56:31,994 allensdk.api.api.retrieve_file_over_http INFO     Downloading URL: http://api.brain-map.org/grid_data/download_file/589397775?image=projection_density&resolution=100\n",
      "2020-11-19 19:56:32,607 allensdk.api.api.retrieve_file_over_http INFO     Downloading URL: http://api.brain-map.org/grid_data/download_file/584651014?image=projection_density&resolution=100\n",
      "2020-11-19 19:56:33,021 allensdk.api.api.retrieve_file_over_http INFO     Downloading URL: http://api.brain-map.org/grid_data/download_file/605496542?image=projection_density&resolution=100\n",
      "2020-11-19 19:56:33,970 allensdk.api.api.retrieve_file_over_http INFO     Downloading URL: http://api.brain-map.org/grid_data/download_file/477435412?image=projection_density&resolution=100\n",
      "2020-11-19 19:56:34,663 allensdk.api.api.retrieve_file_over_http INFO     Downloading URL: http://api.brain-map.org/grid_data/download_file/567723369?image=projection_density&resolution=100\n",
      "2020-11-19 19:56:35,961 allensdk.api.api.retrieve_file_over_http INFO     Downloading URL: http://api.brain-map.org/grid_data/download_file/569623967?image=projection_density&resolution=100\n",
      "2020-11-19 19:56:36,803 allensdk.api.api.retrieve_file_over_http INFO     Downloading URL: http://api.brain-map.org/grid_data/download_file/501711996?image=projection_density&resolution=100\n",
      "2020-11-19 19:56:37,669 allensdk.api.api.retrieve_file_over_http INFO     Downloading URL: http://api.brain-map.org/grid_data/download_file/607289053?image=projection_density&resolution=100\n",
      "2020-11-19 19:56:40,690 allensdk.api.api.retrieve_file_over_http INFO     Downloading URL: http://api.brain-map.org/grid_data/download_file/521617657?image=projection_density&resolution=100\n",
      "2020-11-19 19:56:43,746 allensdk.api.api.retrieve_file_over_http INFO     Downloading URL: http://api.brain-map.org/grid_data/download_file/589726838?image=projection_density&resolution=100\n",
      "2020-11-19 19:56:44,701 allensdk.api.api.retrieve_file_over_http INFO     Downloading URL: http://api.brain-map.org/grid_data/download_file/485929089?image=projection_density&resolution=100\n",
      "2020-11-19 19:56:47,415 allensdk.api.api.retrieve_file_over_http INFO     Downloading URL: http://api.brain-map.org/grid_data/download_file/571653937?image=projection_density&resolution=100\n",
      "2020-11-19 19:56:49,054 allensdk.api.api.retrieve_file_over_http INFO     Downloading URL: http://api.brain-map.org/grid_data/download_file/527390805?image=projection_density&resolution=100\n",
      "2020-11-19 19:56:49,550 allensdk.api.api.retrieve_file_over_http INFO     Downloading URL: http://api.brain-map.org/grid_data/download_file/523177830?image=projection_density&resolution=100\n",
      "2020-11-19 19:56:50,289 allensdk.api.api.retrieve_file_over_http INFO     Downloading URL: http://api.brain-map.org/grid_data/download_file/565146821?image=projection_density&resolution=100\n",
      "2020-11-19 19:56:50,979 allensdk.api.api.retrieve_file_over_http INFO     Downloading URL: http://api.brain-map.org/grid_data/download_file/475616128?image=projection_density&resolution=100\n",
      "2020-11-19 19:56:53,068 allensdk.api.api.retrieve_file_over_http INFO     Downloading URL: http://api.brain-map.org/grid_data/download_file/609475867?image=projection_density&resolution=100\n",
      "2020-11-19 19:56:53,691 allensdk.api.api.retrieve_file_over_http INFO     Downloading URL: http://api.brain-map.org/grid_data/download_file/529129011?image=projection_density&resolution=100\n",
      "2020-11-19 19:56:54,326 allensdk.api.api.retrieve_file_over_http INFO     Downloading URL: http://api.brain-map.org/grid_data/download_file/543297033?image=projection_density&resolution=100\n",
      "2020-11-19 19:56:54,860 allensdk.api.api.retrieve_file_over_http INFO     Downloading URL: http://api.brain-map.org/grid_data/download_file/478995566?image=projection_density&resolution=100\n",
      "2020-11-19 19:56:56,585 allensdk.api.api.retrieve_file_over_http INFO     Downloading URL: http://api.brain-map.org/grid_data/download_file/592698832?image=projection_density&resolution=100\n",
      "2020-11-19 19:56:57,032 allensdk.api.api.retrieve_file_over_http INFO     Downloading URL: http://api.brain-map.org/grid_data/download_file/573977678?image=projection_density&resolution=100\n"
     ]
    },
    {
     "name": "stderr",
     "output_type": "stream",
     "text": [
      "2020-11-19 19:56:57,918 allensdk.api.api.retrieve_file_over_http INFO     Downloading URL: http://api.brain-map.org/grid_data/download_file/478678606?image=projection_density&resolution=100\n",
      "2020-11-19 19:56:58,337 allensdk.api.api.retrieve_file_over_http INFO     Downloading URL: http://api.brain-map.org/grid_data/download_file/478877019?image=projection_density&resolution=100\n",
      "2020-11-19 19:56:59,611 allensdk.api.api.retrieve_file_over_http INFO     Downloading URL: http://api.brain-map.org/grid_data/download_file/479115470?image=projection_density&resolution=100\n",
      "2020-11-19 19:57:00,545 allensdk.api.api.retrieve_file_over_http INFO     Downloading URL: http://api.brain-map.org/grid_data/download_file/592522663?image=projection_density&resolution=100\n",
      "2020-11-19 19:57:00,873 allensdk.api.api.retrieve_file_over_http INFO     Downloading URL: http://api.brain-map.org/grid_data/download_file/571647261?image=projection_density&resolution=100\n",
      "2020-11-19 19:57:01,567 allensdk.api.api.retrieve_file_over_http INFO     Downloading URL: http://api.brain-map.org/grid_data/download_file/536920234?image=projection_density&resolution=100\n",
      "2020-11-19 19:57:02,774 allensdk.api.api.retrieve_file_over_http INFO     Downloading URL: http://api.brain-map.org/grid_data/download_file/560045081?image=projection_density&resolution=100\n",
      "2020-11-19 19:57:04,248 allensdk.api.api.retrieve_file_over_http INFO     Downloading URL: http://api.brain-map.org/grid_data/download_file/529428776?image=projection_density&resolution=100\n",
      "2020-11-19 19:57:04,680 allensdk.api.api.retrieve_file_over_http INFO     Downloading URL: http://api.brain-map.org/grid_data/download_file/571410278?image=projection_density&resolution=100\n",
      "2020-11-19 19:57:05,609 allensdk.api.api.retrieve_file_over_http INFO     Downloading URL: http://api.brain-map.org/grid_data/download_file/617900105?image=projection_density&resolution=100\n",
      "2020-11-19 19:57:05,956 allensdk.api.api.retrieve_file_over_http INFO     Downloading URL: http://api.brain-map.org/grid_data/download_file/568502684?image=projection_density&resolution=100\n",
      "2020-11-19 19:57:06,706 allensdk.api.api.retrieve_file_over_http INFO     Downloading URL: http://api.brain-map.org/grid_data/download_file/572595932?image=projection_density&resolution=100\n",
      "2020-11-19 19:57:07,185 allensdk.api.api.retrieve_file_over_http INFO     Downloading URL: http://api.brain-map.org/grid_data/download_file/521954271?image=projection_density&resolution=100\n",
      "2020-11-19 19:57:08,013 allensdk.api.api.retrieve_file_over_http INFO     Downloading URL: http://api.brain-map.org/grid_data/download_file/606278526?image=projection_density&resolution=100\n",
      "2020-11-19 19:57:08,790 allensdk.api.api.retrieve_file_over_http INFO     Downloading URL: http://api.brain-map.org/grid_data/download_file/651703553?image=projection_density&resolution=100\n",
      "2020-11-19 19:57:09,184 allensdk.api.api.retrieve_file_over_http INFO     Downloading URL: http://api.brain-map.org/grid_data/download_file/539323512?image=projection_density&resolution=100\n",
      "2020-11-19 19:57:09,642 allensdk.api.api.retrieve_file_over_http INFO     Downloading URL: http://api.brain-map.org/grid_data/download_file/475616836?image=projection_density&resolution=100\n",
      "2020-11-19 19:57:11,131 allensdk.api.api.retrieve_file_over_http INFO     Downloading URL: http://api.brain-map.org/grid_data/download_file/570071403?image=projection_density&resolution=100\n",
      "2020-11-19 19:57:11,555 allensdk.api.api.retrieve_file_over_http INFO     Downloading URL: http://api.brain-map.org/grid_data/download_file/664716091?image=projection_density&resolution=100\n",
      "2020-11-19 19:57:12,085 allensdk.api.api.retrieve_file_over_http INFO     Downloading URL: http://api.brain-map.org/grid_data/download_file/580594514?image=projection_density&resolution=100\n",
      "2020-11-19 19:57:12,463 allensdk.api.api.retrieve_file_over_http INFO     Downloading URL: http://api.brain-map.org/grid_data/download_file/522274859?image=projection_density&resolution=100\n",
      "2020-11-19 19:57:13,486 allensdk.api.api.retrieve_file_over_http INFO     Downloading URL: http://api.brain-map.org/grid_data/download_file/569904687?image=projection_density&resolution=100\n",
      "2020-11-19 19:57:14,510 allensdk.api.api.retrieve_file_over_http INFO     Downloading URL: http://api.brain-map.org/grid_data/download_file/657424207?image=projection_density&resolution=100\n",
      "2020-11-19 19:57:15,626 allensdk.api.api.retrieve_file_over_http INFO     Downloading URL: http://api.brain-map.org/grid_data/download_file/524266253?image=projection_density&resolution=100\n",
      "2020-11-19 19:57:16,475 allensdk.api.api.retrieve_file_over_http INFO     Downloading URL: http://api.brain-map.org/grid_data/download_file/529435133?image=projection_density&resolution=100\n",
      "2020-11-19 19:57:17,028 allensdk.api.api.retrieve_file_over_http INFO     Downloading URL: http://api.brain-map.org/grid_data/download_file/496965687?image=projection_density&resolution=100\n",
      "2020-11-19 19:57:17,617 allensdk.api.api.retrieve_file_over_http INFO     Downloading URL: http://api.brain-map.org/grid_data/download_file/592698087?image=projection_density&resolution=100\n",
      "2020-11-19 19:57:18,100 allensdk.api.api.retrieve_file_over_http INFO     Downloading URL: http://api.brain-map.org/grid_data/download_file/501786400?image=projection_density&resolution=100\n",
      "2020-11-19 19:57:18,733 allensdk.api.api.retrieve_file_over_http INFO     Downloading URL: http://api.brain-map.org/grid_data/download_file/502956560?image=projection_density&resolution=100\n",
      "2020-11-19 19:57:19,494 allensdk.api.api.retrieve_file_over_http INFO     Downloading URL: http://api.brain-map.org/grid_data/download_file/501923898?image=projection_density&resolution=100\n",
      "2020-11-19 19:57:19,809 allensdk.api.api.retrieve_file_over_http INFO     Downloading URL: http://api.brain-map.org/grid_data/download_file/623286726?image=projection_density&resolution=100\n",
      "2020-11-19 19:57:20,632 allensdk.api.api.retrieve_file_over_http INFO     Downloading URL: http://api.brain-map.org/grid_data/download_file/528328648?image=projection_density&resolution=100\n",
      "2020-11-19 19:57:21,264 allensdk.api.api.retrieve_file_over_http INFO     Downloading URL: http://api.brain-map.org/grid_data/download_file/528511967?image=projection_density&resolution=100\n",
      "2020-11-19 19:57:22,032 allensdk.api.api.retrieve_file_over_http INFO     Downloading URL: http://api.brain-map.org/grid_data/download_file/561512675?image=projection_density&resolution=100\n",
      "2020-11-19 19:57:22,431 allensdk.api.api.retrieve_file_over_http INFO     Downloading URL: http://api.brain-map.org/grid_data/download_file/524267323?image=projection_density&resolution=100\n",
      "2020-11-19 19:57:23,797 allensdk.api.api.retrieve_file_over_http INFO     Downloading URL: http://api.brain-map.org/grid_data/download_file/572771153?image=projection_density&resolution=100\n",
      "2020-11-19 19:57:24,252 allensdk.api.api.retrieve_file_over_http INFO     Downloading URL: http://api.brain-map.org/grid_data/download_file/504176074?image=projection_density&resolution=100\n",
      "2020-11-19 19:57:25,642 allensdk.api.api.retrieve_file_over_http INFO     Downloading URL: http://api.brain-map.org/grid_data/download_file/609475139?image=projection_density&resolution=100\n",
      "2020-11-19 19:57:26,427 allensdk.api.api.retrieve_file_over_http INFO     Downloading URL: http://api.brain-map.org/grid_data/download_file/601804603?image=projection_density&resolution=100\n",
      "2020-11-19 19:57:26,740 allensdk.api.api.retrieve_file_over_http INFO     Downloading URL: http://api.brain-map.org/grid_data/download_file/606260719?image=projection_density&resolution=100\n",
      "2020-11-19 19:57:28,041 allensdk.api.api.retrieve_file_over_http INFO     Downloading URL: http://api.brain-map.org/grid_data/download_file/531397136?image=projection_density&resolution=100\n",
      "2020-11-19 19:57:28,743 allensdk.api.api.retrieve_file_over_http INFO     Downloading URL: http://api.brain-map.org/grid_data/download_file/552543088?image=projection_density&resolution=100\n",
      "2020-11-19 19:57:29,468 allensdk.api.api.retrieve_file_over_http INFO     Downloading URL: http://api.brain-map.org/grid_data/download_file/523180728?image=projection_density&resolution=100\n",
      "2020-11-19 19:57:31,399 allensdk.api.api.retrieve_file_over_http INFO     Downloading URL: http://api.brain-map.org/grid_data/download_file/585931968?image=projection_density&resolution=100\n"
     ]
    },
    {
     "name": "stderr",
     "output_type": "stream",
     "text": [
      "2020-11-19 19:57:31,701 allensdk.api.api.retrieve_file_over_http INFO     Downloading URL: http://api.brain-map.org/grid_data/download_file/561910766?image=projection_density&resolution=100\n",
      "2020-11-19 19:57:32,193 allensdk.api.api.retrieve_file_over_http INFO     Downloading URL: http://api.brain-map.org/grid_data/download_file/607052300?image=projection_density&resolution=100\n",
      "2020-11-19 19:57:32,521 allensdk.api.api.retrieve_file_over_http INFO     Downloading URL: http://api.brain-map.org/grid_data/download_file/475617622?image=projection_density&resolution=100\n",
      "2020-11-19 19:57:33,940 allensdk.api.api.retrieve_file_over_http INFO     Downloading URL: http://api.brain-map.org/grid_data/download_file/571816813?image=projection_density&resolution=100\n",
      "2020-11-19 19:57:34,637 allensdk.api.api.retrieve_file_over_http INFO     Downloading URL: http://api.brain-map.org/grid_data/download_file/561918178?image=projection_density&resolution=100\n",
      "2020-11-19 19:57:35,371 allensdk.api.api.retrieve_file_over_http INFO     Downloading URL: http://api.brain-map.org/grid_data/download_file/571401645?image=projection_density&resolution=100\n",
      "2020-11-19 19:57:36,159 allensdk.api.api.retrieve_file_over_http INFO     Downloading URL: http://api.brain-map.org/grid_data/download_file/609157409?image=projection_density&resolution=100\n",
      "2020-11-19 19:57:37,745 allensdk.api.api.retrieve_file_over_http INFO     Downloading URL: http://api.brain-map.org/grid_data/download_file/589065144?image=projection_density&resolution=100\n",
      "2020-11-19 19:57:38,234 allensdk.api.api.retrieve_file_over_http INFO     Downloading URL: http://api.brain-map.org/grid_data/download_file/501787135?image=projection_density&resolution=100\n",
      "2020-11-19 19:57:39,239 allensdk.api.api.retrieve_file_over_http INFO     Downloading URL: http://api.brain-map.org/grid_data/download_file/572753855?image=projection_density&resolution=100\n",
      "2020-11-19 19:57:40,705 allensdk.api.api.retrieve_file_over_http INFO     Downloading URL: http://api.brain-map.org/grid_data/download_file/539511058?image=projection_density&resolution=100\n",
      "2020-11-19 19:57:41,074 allensdk.api.api.retrieve_file_over_http INFO     Downloading URL: http://api.brain-map.org/grid_data/download_file/475830603?image=projection_density&resolution=100\n",
      "2020-11-19 19:57:41,552 allensdk.api.api.retrieve_file_over_http INFO     Downloading URL: http://api.brain-map.org/grid_data/download_file/518605181?image=projection_density&resolution=100\n",
      "2020-11-19 19:57:42,783 allensdk.api.api.retrieve_file_over_http INFO     Downloading URL: http://api.brain-map.org/grid_data/download_file/502955689?image=projection_density&resolution=100\n",
      "2020-11-19 19:57:43,929 allensdk.api.api.retrieve_file_over_http INFO     Downloading URL: http://api.brain-map.org/grid_data/download_file/614738437?image=projection_density&resolution=100\n",
      "2020-11-19 19:57:44,758 allensdk.api.api.retrieve_file_over_http INFO     Downloading URL: http://api.brain-map.org/grid_data/download_file/523481517?image=projection_density&resolution=100\n",
      "2020-11-19 19:57:45,803 allensdk.api.api.retrieve_file_over_http INFO     Downloading URL: http://api.brain-map.org/grid_data/download_file/636799953?image=projection_density&resolution=100\n",
      "2020-11-19 19:57:46,070 allensdk.api.api.retrieve_file_over_http INFO     Downloading URL: http://api.brain-map.org/grid_data/download_file/585022673?image=projection_density&resolution=100\n",
      "2020-11-19 19:57:47,231 allensdk.api.api.retrieve_file_over_http INFO     Downloading URL: http://api.brain-map.org/grid_data/download_file/532005897?image=projection_density&resolution=100\n",
      "2020-11-19 19:57:47,716 allensdk.api.api.retrieve_file_over_http INFO     Downloading URL: http://api.brain-map.org/grid_data/download_file/545799841?image=projection_density&resolution=100\n",
      "2020-11-19 19:57:49,791 allensdk.api.api.retrieve_file_over_http INFO     Downloading URL: http://api.brain-map.org/grid_data/download_file/518012479?image=projection_density&resolution=100\n",
      "2020-11-19 19:57:51,074 allensdk.api.api.retrieve_file_over_http INFO     Downloading URL: http://api.brain-map.org/grid_data/download_file/501883865?image=projection_density&resolution=100\n",
      "2020-11-19 19:57:52,371 allensdk.api.api.retrieve_file_over_http INFO     Downloading URL: http://api.brain-map.org/grid_data/download_file/502590301?image=projection_density&resolution=100\n",
      "2020-11-19 19:57:53,581 allensdk.api.api.retrieve_file_over_http INFO     Downloading URL: http://api.brain-map.org/grid_data/download_file/591168591?image=projection_density&resolution=100\n",
      "2020-11-19 19:57:55,146 allensdk.api.api.retrieve_file_over_http INFO     Downloading URL: http://api.brain-map.org/grid_data/download_file/563205064?image=projection_density&resolution=100\n",
      "2020-11-19 19:57:56,518 allensdk.api.api.retrieve_file_over_http INFO     Downloading URL: http://api.brain-map.org/grid_data/download_file/560965104?image=projection_density&resolution=100\n",
      "2020-11-19 19:57:57,304 allensdk.api.api.retrieve_file_over_http INFO     Downloading URL: http://api.brain-map.org/grid_data/download_file/518013943?image=projection_density&resolution=100\n",
      "2020-11-19 19:57:57,832 allensdk.api.api.retrieve_file_over_http INFO     Downloading URL: http://api.brain-map.org/grid_data/download_file/528732005?image=projection_density&resolution=100\n",
      "2020-11-19 19:57:58,571 allensdk.api.api.retrieve_file_over_http INFO     Downloading URL: http://api.brain-map.org/grid_data/download_file/649362978?image=projection_density&resolution=100\n",
      "2020-11-19 19:57:59,533 allensdk.api.api.retrieve_file_over_http INFO     Downloading URL: http://api.brain-map.org/grid_data/download_file/589322070?image=projection_density&resolution=100\n",
      "2020-11-19 19:57:59,936 allensdk.api.api.retrieve_file_over_http INFO     Downloading URL: http://api.brain-map.org/grid_data/download_file/591394174?image=projection_density&resolution=100\n",
      "2020-11-19 19:58:00,340 allensdk.api.api.retrieve_file_over_http INFO     Downloading URL: http://api.brain-map.org/grid_data/download_file/527711024?image=projection_density&resolution=100\n",
      "2020-11-19 19:58:03,365 allensdk.api.api.retrieve_file_over_http INFO     Downloading URL: http://api.brain-map.org/grid_data/download_file/561986735?image=projection_density&resolution=100\n",
      "2020-11-19 19:58:04,336 allensdk.api.api.retrieve_file_over_http INFO     Downloading URL: http://api.brain-map.org/grid_data/download_file/616674416?image=projection_density&resolution=100\n",
      "2020-11-19 19:58:04,844 allensdk.api.api.retrieve_file_over_http INFO     Downloading URL: http://api.brain-map.org/grid_data/download_file/528964707?image=projection_density&resolution=100\n",
      "2020-11-19 19:58:05,069 allensdk.api.api.retrieve_file_over_http INFO     Downloading URL: http://api.brain-map.org/grid_data/download_file/484612961?image=projection_density&resolution=100\n",
      "2020-11-19 19:58:05,532 allensdk.api.api.retrieve_file_over_http INFO     Downloading URL: http://api.brain-map.org/grid_data/download_file/561511939?image=projection_density&resolution=100\n",
      "2020-11-19 19:58:05,883 allensdk.api.api.retrieve_file_over_http INFO     Downloading URL: http://api.brain-map.org/grid_data/download_file/592724077?image=projection_density&resolution=100\n",
      "2020-11-19 19:58:06,097 allensdk.api.api.retrieve_file_over_http INFO     Downloading URL: http://api.brain-map.org/grid_data/download_file/601900484?image=projection_density&resolution=100\n",
      "2020-11-19 19:58:06,422 allensdk.api.api.retrieve_file_over_http INFO     Downloading URL: http://api.brain-map.org/grid_data/download_file/531233132?image=projection_density&resolution=100\n",
      "2020-11-19 19:58:07,291 allensdk.api.api.retrieve_file_over_http INFO     Downloading URL: http://api.brain-map.org/grid_data/download_file/637855050?image=projection_density&resolution=100\n",
      "2020-11-19 19:58:07,635 allensdk.api.api.retrieve_file_over_http INFO     Downloading URL: http://api.brain-map.org/grid_data/download_file/530000865?image=projection_density&resolution=100\n",
      "2020-11-19 19:58:07,995 allensdk.api.api.retrieve_file_over_http INFO     Downloading URL: http://api.brain-map.org/grid_data/download_file/589064435?image=projection_density&resolution=100\n",
      "2020-11-19 19:58:09,137 allensdk.api.api.retrieve_file_over_http INFO     Downloading URL: http://api.brain-map.org/grid_data/download_file/574637452?image=projection_density&resolution=100\n"
     ]
    },
    {
     "name": "stderr",
     "output_type": "stream",
     "text": [
      "2020-11-19 19:58:09,671 allensdk.api.api.retrieve_file_over_http INFO     Downloading URL: http://api.brain-map.org/grid_data/download_file/617901499?image=projection_density&resolution=100\n",
      "2020-11-19 19:58:10,400 allensdk.api.api.retrieve_file_over_http INFO     Downloading URL: http://api.brain-map.org/grid_data/download_file/563731437?image=projection_density&resolution=100\n",
      "2020-11-19 19:58:10,894 allensdk.api.api.retrieve_file_over_http INFO     Downloading URL: http://api.brain-map.org/grid_data/download_file/666090944?image=projection_density&resolution=100\n",
      "2020-11-19 19:58:12,214 allensdk.api.api.retrieve_file_over_http INFO     Downloading URL: http://api.brain-map.org/grid_data/download_file/496964969?image=projection_density&resolution=100\n"
     ]
    }
   ],
   "source": [
    "all_voxels = []\n",
    "valid_voxels = []\n",
    "percentile = []\n",
    "for isid in td_ids:\n",
    "    proj_grid = mcc.get_projection_density(isid)[0]\n",
    "    proj_grid = proj_grid*iso_mask\n",
    "    all_voxels.append(proj_grid.flatten())\n",
    "    proj_grid[np.where(proj_grid < 6e-3)] = 0\n",
    "    valid_voxels.append(proj_grid[proj_grid > 0])\n",
    "    percentile.append(np.percentile(proj_grid, 95))"
   ]
  },
  {
   "cell_type": "code",
   "execution_count": 17,
   "metadata": {},
   "outputs": [],
   "source": [
    "all_voxels = [item for sublist in all_voxels for item in sublist]\n",
    "valid_voxels = [item for sublist in valid_voxels for item in sublist]"
   ]
  },
  {
   "cell_type": "code",
   "execution_count": 18,
   "metadata": {},
   "outputs": [
    {
     "name": "stderr",
     "output_type": "stream",
     "text": [
      "/opt/anaconda3/lib/python3.7/site-packages/seaborn/distributions.py:2551: FutureWarning: `distplot` is a deprecated function and will be removed in a future version. Please adapt your code to use either `displot` (a figure-level function with similar flexibility) or `histplot` (an axes-level function for histograms).\n",
      "  warnings.warn(msg, FutureWarning)\n"
     ]
    },
    {
     "data": {
      "text/plain": [
       "<AxesSubplot:>"
      ]
     },
     "execution_count": 18,
     "metadata": {},
     "output_type": "execute_result"
    },
    {
     "data": {
      "image/png": "[encoded data removed]",
      "text/plain": [
       "<Figure size 432x288 with 1 Axes>"
      ]
     },
     "metadata": {},
     "output_type": "display_data"
    }
   ],
   "source": [
    "sns.distplot(np.log10(valid_voxels), kde = False)"
   ]
  },
  {
   "cell_type": "code",
   "execution_count": 19,
   "metadata": {},
   "outputs": [
    {
     "data": {
      "text/plain": [
       "<AxesSubplot:>"
      ]
     },
     "execution_count": 19,
     "metadata": {},
     "output_type": "execute_result"
    },
    {
     "data": {
      "image/png": "[encoded data removed]",
      "text/plain": [
       "<Figure size 432x288 with 1 Axes>"
      ]
     },
     "metadata": {},
     "output_type": "display_data"
    }
   ],
   "source": [
    "sns.distplot([np.log10(voxel + 6e-3) for voxel in all_voxels], kde = False)"
   ]
  },
  {
   "cell_type": "code",
   "execution_count": 20,
   "metadata": {},
   "outputs": [
    {
     "data": {
      "text/plain": [
       "array([0.])"
      ]
     },
     "execution_count": 20,
     "metadata": {},
     "output_type": "execute_result"
    }
   ],
   "source": [
    "np.unique(percentile)"
   ]
  },
  {
   "cell_type": "code",
   "execution_count": 21,
   "metadata": {},
   "outputs": [
    {
     "data": {
      "text/plain": [
       "0.0"
      ]
     },
     "execution_count": 21,
     "metadata": {},
     "output_type": "execute_result"
    }
   ],
   "source": [
    "np.mean(percentile)"
   ]
  },
  {
   "cell_type": "code",
   "execution_count": 22,
   "metadata": {},
   "outputs": [
    {
     "data": {
      "text/plain": [
       "<AxesSubplot:>"
      ]
     },
     "execution_count": 22,
     "metadata": {},
     "output_type": "execute_result"
    },
    {
     "data": {
      "image/png": "[encoded data removed]",
      "text/plain": [
       "<Figure size 432x288 with 1 Axes>"
      ]
     },
     "metadata": {},
     "output_type": "display_data"
    }
   ],
   "source": [
    "bins = [0, 1e-3, 2e-3, 3e-3, 4e-3, 5e-3]\n",
    "sns.distplot(percentile, bins = bins, kde = False)"
   ]
  },
  {
   "cell_type": "code",
   "execution_count": 23,
   "metadata": {},
   "outputs": [],
   "source": [
    "proj_grid[np.where(proj_grid < 1e-3)] = 0"
   ]
  },
  {
   "cell_type": "code",
   "execution_count": 24,
   "metadata": {},
   "outputs": [
    {
     "data": {
      "text/plain": [
       "<AxesSubplot:>"
      ]
     },
     "execution_count": 24,
     "metadata": {},
     "output_type": "execute_result"
    },
    {
     "data": {
      "image/png": "[encoded data removed]",
      "text/plain": [
       "<Figure size 432x288 with 1 Axes>"
      ]
     },
     "metadata": {},
     "output_type": "display_data"
    }
   ],
   "source": [
    "bins = [-2, -1.75, -1.5, -1.25, -1, -0.75, -0.5, -0.25, 0, 0.25, 0.5, 0.75, 1]\n",
    "sns.distplot(proj_grid.flatten(), bins = bins, kde = False)"
   ]
  },
  {
   "cell_type": "code",
   "execution_count": 25,
   "metadata": {},
   "outputs": [
    {
     "data": {
      "text/plain": [
       "<AxesSubplot:>"
      ]
     },
     "execution_count": 25,
     "metadata": {},
     "output_type": "execute_result"
    },
    {
     "data": {
      "image/png": "[encoded data removed]",
      "text/plain": [
       "<Figure size 432x288 with 1 Axes>"
      ]
     },
     "metadata": {},
     "output_type": "display_data"
    }
   ],
   "source": [
    "bins = [-2, -1.75, -1.5, -1.25, -1, -0.75, -0.5, -0.25, 0, 0.25, 0.5, 0.75, 1]\n",
    "sns.distplot(np.log10(proj_grid.flatten()+1e-3), bins = bins, kde = False)"
   ]
  },
  {
   "cell_type": "code",
   "execution_count": null,
   "metadata": {},
   "outputs": [],
   "source": []
  }
 ],
 "metadata": {
  "kernelspec": {
   "display_name": "Python 3",
   "language": "python",
   "name": "python3"
  },
  "language_info": {
   "codemirror_mode": {
    "name": "ipython",
    "version": 3
   },
   "file_extension": ".py",
   "mimetype": "text/x-python",
   "name": "python",
   "nbconvert_exporter": "python",
   "pygments_lexer": "ipython3",
   "version": "3.7.4"
  }
 },
 "nbformat": 4,
 "nbformat_minor": 2
}
