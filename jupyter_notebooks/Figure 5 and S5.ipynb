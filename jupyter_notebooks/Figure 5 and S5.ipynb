{
 "cells": [
  {
   "cell_type": "code",
   "execution_count": 1,
   "metadata": {},
   "outputs": [],
   "source": [
    "import os\n",
    "import numpy as np\n",
    "import pandas as pd\n",
    "import json\n",
    "import sys\n",
    "import matplotlib.pyplot as plt\n",
    "import seaborn as sns\n",
    "sns.set_context('paper')\n",
    "sns.set_style('white')\n",
    "import scipy.stats as stats\n",
    "import statsmodels.api as sm\n",
    "from statsmodels.stats.anova import anova_lm\n",
    "from statsmodels.formula.api import ols\n",
    "from statsmodels.stats.multicomp import MultiComparison\n",
    "\n",
    "%matplotlib inline\n",
    "import matplotlib as mpl\n",
    "mpl.rcParams['pdf.fonttype'] = 42\n",
    "\n",
    "from allensdk.core.mouse_connectivity_cache import MouseConnectivityCache\n",
    "from anatomy.anatomy_api import AnatomyApi"
   ]
  },
  {
   "cell_type": "code",
   "execution_count": 2,
   "metadata": {},
   "outputs": [
    {
     "name": "stdout",
     "output_type": "stream",
     "text": [
      "627\n",
      "586\n",
      "241\n",
      "121\n"
     ]
    }
   ],
   "source": [
    "basepath = r'../../../'\n",
    "datpath = r'../data_files'\n",
    "fig5_path = os.path.join(basepath, '_final_figures', 'Figure_5')\n",
    "\n",
    "c_by_source = pd.read_csv(os.path.join(datpath, 'good_wt_correlations.csv'))\n",
    "print(len(c_by_source))\n",
    "alldat = pd.read_csv(os.path.join(datpath, 'good_td_wt_correlations.csv'))\n",
    "print(len(alldat))\n",
    "td_dat = pd.read_csv(os.path.join(datpath, 'good_td_td_correlations.csv'))\n",
    "print(len(td_dat))\n",
    "dataset = pd.read_csv(os.path.join(datpath, 'target_defined_dataset.csv'))\n",
    "dataset = dataset[dataset['include'] == 'yes']\n",
    "print(len(dataset))"
   ]
  },
  {
   "cell_type": "code",
   "execution_count": 7,
   "metadata": {
    "scrolled": false
   },
   "outputs": [
    {
     "name": "stdout",
     "output_type": "stream",
     "text": [
      "37920\n"
     ]
    }
   ],
   "source": [
    "mcc = MouseConnectivityCache(manifest_file = 'connectivity/mouse_connectivity_manifest.json')\n",
    "aapi = AnatomyApi()\n",
    "ss = aapi.get_summary_structure_data('id')\n",
    "new_expts = [868641659]\n",
    "new_expts = [expt for expt in new_expts if expt in dataset['image_series_id'].values]\n",
    "online_expts = [expt for expt in dataset['image_series_id'].unique() if expt not in new_expts]\n",
    "td_exps = mcc.get_structure_unionizes(experiment_ids = online_expts,\n",
    "                                    is_injection = False, structure_ids = ss, \n",
    "                                     hemisphere_ids = [3])\n",
    "td_exps = td_exps[['hemisphere_id', 'experiment_id', 'is_injection',\n",
    "       'normalized_projection_volume', 'projection_volume', 'structure_id']]\n",
    "print(len(td_exps))"
   ]
  },
  {
   "cell_type": "code",
   "execution_count": 9,
   "metadata": {},
   "outputs": [
    {
     "name": "stdout",
     "output_type": "stream",
     "text": [
      "38163\n"
     ]
    }
   ],
   "source": [
    "for isid in new_expts:\n",
    "    unionize_path = os.path.join(datpath, 'alternative_unionizes',\n",
    "                                         'experiment_{0}'.format(str(isid)), \n",
    "                                         'output.json') #new data not online yet\n",
    "    with open(unionize_path, 'r') as jsonfile:\n",
    "        unionize_dat = json.load(jsonfile)\n",
    "    unionize_dat = pd.DataFrame(unionize_dat)\n",
    "    unionize_dat = unionize_dat[unionize_dat['threshold'] == 0]\n",
    "    unionize_dat.drop_duplicates(inplace = True)\n",
    "    unionize_dat.rename(columns = {'projection_volume_above_threshold': 'projection_volume',\n",
    "                               'normalized_projection_volume_above_threshold': \n",
    "                                   'normalized_projection_volume',\n",
    "                                   'image_series_id': 'experiment_id'}, \n",
    "        inplace = True)\n",
    "    unionize = unionize_dat[(unionize_dat['is_injection'] == False) &\n",
    "                          (unionize_dat['structure_id'].isin(ss)) &\n",
    "                          (unionize_dat['hemisphere_id'] == 3)]\n",
    "    unionize = unionize[['hemisphere_id', 'experiment_id', 'is_injection',\n",
    "       'normalized_projection_volume', 'projection_volume', 'structure_id']]\n",
    "    td_exps = td_exps.append(unionize)\n",
    "print(len(td_exps))"
   ]
  },
  {
   "cell_type": "code",
   "execution_count": 10,
   "metadata": {
    "scrolled": false
   },
   "outputs": [
    {
     "name": "stderr",
     "output_type": "stream",
     "text": [
      "/opt/anaconda3/envs/DMN/lib/python3.7/site-packages/ipykernel_launcher.py:9: RuntimeWarning: divide by zero encountered in log10\n",
      "  if __name__ == '__main__':\n",
      "/opt/anaconda3/envs/DMN/lib/python3.7/site-packages/ipykernel_launcher.py:10: RuntimeWarning: divide by zero encountered in log10\n",
      "  # Remove the CWD from sys.path while we load stuff.\n",
      "/opt/anaconda3/envs/DMN/lib/python3.7/site-packages/ipykernel_launcher.py:22: RuntimeWarning: divide by zero encountered in log10\n",
      "/opt/anaconda3/envs/DMN/lib/python3.7/site-packages/ipykernel_launcher.py:23: RuntimeWarning: divide by zero encountered in log10\n"
     ]
    }
   ],
   "source": [
    "td_count = []\n",
    "wt_count = []\n",
    "td_sum = []\n",
    "wt_sum = []\n",
    "for isid in alldat['image_series_id'].unique():\n",
    "    td = td_exps[(td_exps['experiment_id'] == isid) &\n",
    "                     (td_exps['hemisphere_id'] == 3)][\n",
    "        'normalized_projection_volume']\n",
    "    td_count.append(len(td[np.log10(td.values) > -1.5]))\n",
    "    td_sum.append(td[np.log10(td.values) > -1.5].sum())\n",
    "    wts = pd.DataFrame()\n",
    "    match_set = alldat[alldat['image_series_id'] == isid]\n",
    "    match_unionizes = mcc.get_structure_unionizes(\n",
    "        experiment_ids = match_set['match_id'].unique(),\n",
    "        is_injection = False, structure_ids = ss, \n",
    "        hemisphere_ids = [3])\n",
    "    if len(match_set) > 0:\n",
    "        for match_id in match_set['match_id'].unique():\n",
    "            wt = match_unionizes[(match_unionizes['experiment_id'] == match_id)][\n",
    "            'normalized_projection_volume']\n",
    "            wts = pd.concat([wts, wt], axis = 1)\n",
    "    wt_count.append(wts[np.log10(wts.values) > -1.5].count().mean())\n",
    "    wt_sum.append(wts[np.log10(wts.values) > -1.5].sum().mean())"
   ]
  },
  {
   "cell_type": "code",
   "execution_count": 11,
   "metadata": {},
   "outputs": [],
   "source": [
    "df = pd.DataFrame({'image_series_id': alldat['image_series_id'].unique(),\n",
    "                  'td_num_targets': td_count,\n",
    "                  'wt_num_targets': wt_count,\n",
    "                  'td_sum': td_sum,\n",
    "                  'wt_sum': wt_sum})"
   ]
  },
  {
   "cell_type": "code",
   "execution_count": 14,
   "metadata": {},
   "outputs": [],
   "source": [
    "meandat = pd.read_csv(os.path.join(datpath, 'td_mean_corr_dat.csv'))"
   ]
  },
  {
   "cell_type": "code",
   "execution_count": 15,
   "metadata": {},
   "outputs": [],
   "source": [
    "df = df.merge(meandat, on = 'image_series_id', how = 'left')"
   ]
  },
  {
   "cell_type": "code",
   "execution_count": 16,
   "metadata": {},
   "outputs": [
    {
     "data": {
      "text/plain": [
       "123.0"
      ]
     },
     "execution_count": 16,
     "metadata": {},
     "output_type": "execute_result"
    }
   ],
   "source": [
    "df['wt_num_targets'].max()"
   ]
  },
  {
   "cell_type": "code",
   "execution_count": 17,
   "metadata": {},
   "outputs": [
    {
     "data": {
      "image/png": "[encoded data removed]",
      "text/plain": [
       "<Figure size 72x122.4 with 1 Axes>"
      ]
     },
     "metadata": {
      "needs_background": "light"
     },
     "output_type": "display_data"
    }
   ],
   "source": [
    "fig, ax = plt.subplots(figsize = (1, 1.7))\n",
    "ax.errorbar([0, 1], [df['wt_num_targets'].mean(), \n",
    "                     df['td_num_targets'].mean()],\n",
    "               yerr = [df['wt_num_targets'].std(), \n",
    "                    df['td_num_targets'].std()],\n",
    "              c = 'k', marker = 'o', linewidth = 2, zorder = 3);\n",
    "for index, row in df.iterrows():\n",
    "    ax.plot([0, 1], [row['wt_num_targets'], row['td_num_targets']], \n",
    "            marker = '.', color = 'gray', linewidth = 0.5, zorder = -1)\n",
    "ax.tick_params(pad = -3)\n",
    "ax.set_xlim([-0.2,1.2])\n",
    "ax.set_xticks([0.1,0.9])\n",
    "ax.set_xticklabels(['WT', 'TD'], fontsize = 8)\n",
    "ax.yaxis.labelpad = -1\n",
    "ax.set_ylabel('# Targets', fontsize = 8)\n",
    "ax.axhline(y = 0, xmin=0, xmax=1.2, color = 'gray', linestyle = 'dashed',\n",
    "          linewidth = 0.5)\n",
    "ax.axhline(y = 50, xmin=0, xmax=1.2, color = 'gray', linestyle = 'dashed',\n",
    "          linewidth = 0.5)\n",
    "ax.axhline(y = 100, xmin=0, xmax=1.2, color = 'gray', linestyle = 'dashed',\n",
    "          linewidth = 0.5)\n",
    "ax.axhline(y = 150, xmin=0, xmax=1.2, color = 'gray', linestyle = 'dashed',\n",
    "          linewidth = 0.5)\n",
    "plt.tight_layout()\n",
    "sns.despine(left = True, bottom = True)\n",
    "#plt.savefig(os.path.join(fig5_path, 'num_targets wt-td ipsi_and_contra.pdf'), format = 'pdf', \n",
    "#            resolution = 300, transparent = True)"
   ]
  },
  {
   "cell_type": "code",
   "execution_count": 18,
   "metadata": {},
   "outputs": [
    {
     "data": {
      "text/plain": [
       "Ttest_indResult(statistic=11.569961008480199, pvalue=1.8871758808063676e-24)"
      ]
     },
     "execution_count": 18,
     "metadata": {},
     "output_type": "execute_result"
    }
   ],
   "source": [
    "stats.ttest_ind(df['wt_num_targets'], df['td_num_targets'])"
   ]
  },
  {
   "cell_type": "code",
   "execution_count": 19,
   "metadata": {},
   "outputs": [
    {
     "data": {
      "text/html": [
       "<div>\n",
       "<style scoped>\n",
       "    .dataframe tbody tr th:only-of-type {\n",
       "        vertical-align: middle;\n",
       "    }\n",
       "\n",
       "    .dataframe tbody tr th {\n",
       "        vertical-align: top;\n",
       "    }\n",
       "\n",
       "    .dataframe thead th {\n",
       "        text-align: right;\n",
       "    }\n",
       "</style>\n",
       "<table border=\"1\" class=\"dataframe\">\n",
       "  <thead>\n",
       "    <tr style=\"text-align: right;\">\n",
       "      <th></th>\n",
       "      <th>image_series_id</th>\n",
       "      <th>td_num_targets</th>\n",
       "      <th>wt_num_targets</th>\n",
       "      <th>td_sum</th>\n",
       "      <th>wt_sum</th>\n",
       "      <th>spearman_correlation</th>\n",
       "      <th>exp_predicted</th>\n",
       "      <th>low_pred_band</th>\n",
       "      <th>CAV_percent_DMN</th>\n",
       "      <th>number of comparisons</th>\n",
       "      <th>injection_size</th>\n",
       "      <th>fraction_low_corr</th>\n",
       "      <th>mean_overlap</th>\n",
       "    </tr>\n",
       "  </thead>\n",
       "  <tbody>\n",
       "    <tr>\n",
       "      <th>count</th>\n",
       "      <td>1.100000e+02</td>\n",
       "      <td>110.000000</td>\n",
       "      <td>110.000000</td>\n",
       "      <td>110.000000</td>\n",
       "      <td>110.000000</td>\n",
       "      <td>110.000000</td>\n",
       "      <td>110.000000</td>\n",
       "      <td>110.000000</td>\n",
       "      <td>105.000000</td>\n",
       "      <td>110.000000</td>\n",
       "      <td>110.000000</td>\n",
       "      <td>110.000000</td>\n",
       "      <td>110.000000</td>\n",
       "    </tr>\n",
       "    <tr>\n",
       "      <th>mean</th>\n",
       "      <td>5.587594e+08</td>\n",
       "      <td>32.863636</td>\n",
       "      <td>63.085115</td>\n",
       "      <td>23.143103</td>\n",
       "      <td>28.388921</td>\n",
       "      <td>0.771926</td>\n",
       "      <td>0.785095</td>\n",
       "      <td>0.670158</td>\n",
       "      <td>59.748871</td>\n",
       "      <td>5.327273</td>\n",
       "      <td>0.025866</td>\n",
       "      <td>0.130963</td>\n",
       "      <td>0.348768</td>\n",
       "    </tr>\n",
       "    <tr>\n",
       "      <th>std</th>\n",
       "      <td>5.624133e+07</td>\n",
       "      <td>17.097388</td>\n",
       "      <td>21.405512</td>\n",
       "      <td>23.116766</td>\n",
       "      <td>10.707105</td>\n",
       "      <td>0.105292</td>\n",
       "      <td>0.047701</td>\n",
       "      <td>0.046342</td>\n",
       "      <td>44.035296</td>\n",
       "      <td>5.200757</td>\n",
       "      <td>0.037015</td>\n",
       "      <td>0.281210</td>\n",
       "      <td>0.200658</td>\n",
       "    </tr>\n",
       "    <tr>\n",
       "      <th>min</th>\n",
       "      <td>4.756176e+08</td>\n",
       "      <td>9.000000</td>\n",
       "      <td>31.083333</td>\n",
       "      <td>4.630211</td>\n",
       "      <td>7.433941</td>\n",
       "      <td>0.235626</td>\n",
       "      <td>0.719958</td>\n",
       "      <td>0.610342</td>\n",
       "      <td>0.000000</td>\n",
       "      <td>1.000000</td>\n",
       "      <td>0.000518</td>\n",
       "      <td>0.000000</td>\n",
       "      <td>0.053977</td>\n",
       "    </tr>\n",
       "    <tr>\n",
       "      <th>25%</th>\n",
       "      <td>5.214307e+08</td>\n",
       "      <td>24.250000</td>\n",
       "      <td>44.125000</td>\n",
       "      <td>10.961129</td>\n",
       "      <td>18.463662</td>\n",
       "      <td>0.736018</td>\n",
       "      <td>0.743370</td>\n",
       "      <td>0.630324</td>\n",
       "      <td>2.586009</td>\n",
       "      <td>2.000000</td>\n",
       "      <td>0.004338</td>\n",
       "      <td>0.000000</td>\n",
       "      <td>0.196140</td>\n",
       "    </tr>\n",
       "    <tr>\n",
       "      <th>50%</th>\n",
       "      <td>5.615094e+08</td>\n",
       "      <td>30.000000</td>\n",
       "      <td>63.000000</td>\n",
       "      <td>17.283117</td>\n",
       "      <td>29.530130</td>\n",
       "      <td>0.784050</td>\n",
       "      <td>0.774211</td>\n",
       "      <td>0.660134</td>\n",
       "      <td>88.132916</td>\n",
       "      <td>3.500000</td>\n",
       "      <td>0.013546</td>\n",
       "      <td>0.000000</td>\n",
       "      <td>0.321734</td>\n",
       "    </tr>\n",
       "    <tr>\n",
       "      <th>75%</th>\n",
       "      <td>5.922405e+08</td>\n",
       "      <td>36.000000</td>\n",
       "      <td>77.857143</td>\n",
       "      <td>27.478421</td>\n",
       "      <td>37.254936</td>\n",
       "      <td>0.842531</td>\n",
       "      <td>0.823531</td>\n",
       "      <td>0.706872</td>\n",
       "      <td>99.659112</td>\n",
       "      <td>7.000000</td>\n",
       "      <td>0.031588</td>\n",
       "      <td>0.000000</td>\n",
       "      <td>0.477950</td>\n",
       "    </tr>\n",
       "    <tr>\n",
       "      <th>max</th>\n",
       "      <td>8.686417e+08</td>\n",
       "      <td>138.000000</td>\n",
       "      <td>123.000000</td>\n",
       "      <td>175.901804</td>\n",
       "      <td>52.418624</td>\n",
       "      <td>0.931809</td>\n",
       "      <td>0.890684</td>\n",
       "      <td>0.781197</td>\n",
       "      <td>100.000000</td>\n",
       "      <td>23.000000</td>\n",
       "      <td>0.242198</td>\n",
       "      <td>1.000000</td>\n",
       "      <td>1.130372</td>\n",
       "    </tr>\n",
       "  </tbody>\n",
       "</table>\n",
       "</div>"
      ],
      "text/plain": [
       "       image_series_id  td_num_targets  wt_num_targets      td_sum  \\\n",
       "count     1.100000e+02      110.000000      110.000000  110.000000   \n",
       "mean      5.587594e+08       32.863636       63.085115   23.143103   \n",
       "std       5.624133e+07       17.097388       21.405512   23.116766   \n",
       "min       4.756176e+08        9.000000       31.083333    4.630211   \n",
       "25%       5.214307e+08       24.250000       44.125000   10.961129   \n",
       "50%       5.615094e+08       30.000000       63.000000   17.283117   \n",
       "75%       5.922405e+08       36.000000       77.857143   27.478421   \n",
       "max       8.686417e+08      138.000000      123.000000  175.901804   \n",
       "\n",
       "           wt_sum  spearman_correlation  exp_predicted  low_pred_band  \\\n",
       "count  110.000000            110.000000     110.000000     110.000000   \n",
       "mean    28.388921              0.771926       0.785095       0.670158   \n",
       "std     10.707105              0.105292       0.047701       0.046342   \n",
       "min      7.433941              0.235626       0.719958       0.610342   \n",
       "25%     18.463662              0.736018       0.743370       0.630324   \n",
       "50%     29.530130              0.784050       0.774211       0.660134   \n",
       "75%     37.254936              0.842531       0.823531       0.706872   \n",
       "max     52.418624              0.931809       0.890684       0.781197   \n",
       "\n",
       "       CAV_percent_DMN  number of comparisons  injection_size  \\\n",
       "count       105.000000             110.000000      110.000000   \n",
       "mean         59.748871               5.327273        0.025866   \n",
       "std          44.035296               5.200757        0.037015   \n",
       "min           0.000000               1.000000        0.000518   \n",
       "25%           2.586009               2.000000        0.004338   \n",
       "50%          88.132916               3.500000        0.013546   \n",
       "75%          99.659112               7.000000        0.031588   \n",
       "max         100.000000              23.000000        0.242198   \n",
       "\n",
       "       fraction_low_corr  mean_overlap  \n",
       "count         110.000000    110.000000  \n",
       "mean            0.130963      0.348768  \n",
       "std             0.281210      0.200658  \n",
       "min             0.000000      0.053977  \n",
       "25%             0.000000      0.196140  \n",
       "50%             0.000000      0.321734  \n",
       "75%             0.000000      0.477950  \n",
       "max             1.000000      1.130372  "
      ]
     },
     "execution_count": 19,
     "metadata": {},
     "output_type": "execute_result"
    }
   ],
   "source": [
    "df.describe()"
   ]
  },
  {
   "cell_type": "code",
   "execution_count": 20,
   "metadata": {},
   "outputs": [
    {
     "data": {
      "text/html": [
       "<div>\n",
       "<style scoped>\n",
       "    .dataframe tbody tr th:only-of-type {\n",
       "        vertical-align: middle;\n",
       "    }\n",
       "\n",
       "    .dataframe tbody tr th {\n",
       "        vertical-align: top;\n",
       "    }\n",
       "\n",
       "    .dataframe thead th {\n",
       "        text-align: right;\n",
       "    }\n",
       "</style>\n",
       "<table border=\"1\" class=\"dataframe\">\n",
       "  <thead>\n",
       "    <tr style=\"text-align: right;\">\n",
       "      <th></th>\n",
       "      <th>image_series_id</th>\n",
       "      <th>source</th>\n",
       "      <th>target_by_polygon</th>\n",
       "      <th>td_num_targets</th>\n",
       "      <th>wt_num_targets</th>\n",
       "    </tr>\n",
       "  </thead>\n",
       "  <tbody>\n",
       "    <tr>\n",
       "      <th>50</th>\n",
       "      <td>518012479</td>\n",
       "      <td>VISl</td>\n",
       "      <td>VISp</td>\n",
       "      <td>110</td>\n",
       "      <td>49.500000</td>\n",
       "    </tr>\n",
       "    <tr>\n",
       "      <th>76</th>\n",
       "      <td>539511058</td>\n",
       "      <td>VISp</td>\n",
       "      <td>VISpor</td>\n",
       "      <td>38</td>\n",
       "      <td>35.833333</td>\n",
       "    </tr>\n",
       "    <tr>\n",
       "      <th>91</th>\n",
       "      <td>531443949</td>\n",
       "      <td>RSPv</td>\n",
       "      <td>VISpor</td>\n",
       "      <td>39</td>\n",
       "      <td>33.000000</td>\n",
       "    </tr>\n",
       "    <tr>\n",
       "      <th>105</th>\n",
       "      <td>484612961</td>\n",
       "      <td>ECT</td>\n",
       "      <td>PL</td>\n",
       "      <td>94</td>\n",
       "      <td>92.000000</td>\n",
       "    </tr>\n",
       "    <tr>\n",
       "      <th>109</th>\n",
       "      <td>868641659</td>\n",
       "      <td>RSPv</td>\n",
       "      <td>VISp</td>\n",
       "      <td>138</td>\n",
       "      <td>63.000000</td>\n",
       "    </tr>\n",
       "  </tbody>\n",
       "</table>\n",
       "</div>"
      ],
      "text/plain": [
       "     image_series_id source target_by_polygon  td_num_targets  wt_num_targets\n",
       "50         518012479   VISl              VISp             110       49.500000\n",
       "76         539511058   VISp            VISpor              38       35.833333\n",
       "91         531443949   RSPv            VISpor              39       33.000000\n",
       "105        484612961    ECT                PL              94       92.000000\n",
       "109        868641659   RSPv              VISp             138       63.000000"
      ]
     },
     "execution_count": 20,
     "metadata": {},
     "output_type": "execute_result"
    }
   ],
   "source": [
    "df[df['wt_num_targets'] < df['td_num_targets']][['image_series_id', 'source', \n",
    "                                                           'target_by_polygon',\n",
    "                                                          'td_num_targets',\n",
    "                                                          'wt_num_targets']]"
   ]
  },
  {
   "cell_type": "code",
   "execution_count": 21,
   "metadata": {},
   "outputs": [],
   "source": [
    "replicates = td_dat.loc[np.where(td_dat['td_target'].values == td_dat['match_target'].values)]"
   ]
  },
  {
   "cell_type": "code",
   "execution_count": 22,
   "metadata": {},
   "outputs": [],
   "source": [
    "c_by_source['pair_type'] = 'WT-WT'\n",
    "alldat['pair_type'] = 'WT-TD'"
   ]
  },
  {
   "cell_type": "code",
   "execution_count": 23,
   "metadata": {},
   "outputs": [],
   "source": [
    "pltdat = pd.concat([c_by_source[['pair_type', 'spearman_correlation', 'source']],\n",
    "                    alldat[['pair_type', 'spearman_correlation', 'source']]])"
   ]
  },
  {
   "cell_type": "code",
   "execution_count": 24,
   "metadata": {},
   "outputs": [
    {
     "data": {
      "text/plain": [
       "array(['WT-WT', 'WT-TD'], dtype=object)"
      ]
     },
     "execution_count": 24,
     "metadata": {},
     "output_type": "execute_result"
    }
   ],
   "source": [
    "pltdat.pair_type.unique()"
   ]
  },
  {
   "cell_type": "code",
   "execution_count": 25,
   "metadata": {},
   "outputs": [
    {
     "data": {
      "text/plain": [
       "<matplotlib.lines.Line2D at 0x1c18cbbcd0>"
      ]
     },
     "execution_count": 25,
     "metadata": {},
     "output_type": "execute_result"
    },
    {
     "data": {
      "image/png": "[encoded data removed]",
      "text/plain": [
       "<Figure size 21.6x108 with 1 Axes>"
      ]
     },
     "metadata": {
      "needs_background": "light"
     },
     "output_type": "display_data"
    }
   ],
   "source": [
    "fig, ax = plt.subplots(figsize = (0.3, 1.5))\n",
    "sns.boxplot('pair_type', 'spearman_correlation', data = pltdat,\n",
    "           ax = ax, palette = ['gray', 'w'], linewidth = 0.5, fliersize = 1)\n",
    "sns.despine()\n",
    "plt.xticks([0,1.2], rotation=90)\n",
    "ax.set_xlim([-0.7, 1.7])\n",
    "ax.set_ylim([0, 1.05])\n",
    "ax.tick_params(bottom = False, left = True)\n",
    "ax.tick_params('x', pad=-3)\n",
    "ax.set_ylabel(\"Spearman's Rho\", fontsize = 8)\n",
    "ax.set_xlabel(\"\");\n",
    "ax.set_xticklabels(ax.get_xticklabels(), fontsize = 8)\n",
    "ax.axhline(y=1, xmin=-0.7, xmax=1.7, color = 'grey', linestyle = 'dashed', \n",
    "           linewidth = 0.5, zorder = -1)\n",
    "#plt.savefig(os.path.join(fig5_path, 'correlation_by_pair_type.pdf'),\n",
    "#                        bbox_inches='tight', pad_inches=0.3, transparent = True, dpi = 300)"
   ]
  },
  {
   "cell_type": "code",
   "execution_count": 26,
   "metadata": {},
   "outputs": [
    {
     "data": {
      "text/plain": [
       "Ttest_indResult(statistic=17.099016176698232, pvalue=6.976661940679885e-59)"
      ]
     },
     "execution_count": 26,
     "metadata": {},
     "output_type": "execute_result"
    }
   ],
   "source": [
    "stats.ttest_ind(pltdat[pltdat['pair_type'] == 'WT-WT']['spearman_correlation'],\n",
    "                pltdat[pltdat['pair_type'] == 'WT-TD']['spearman_correlation'])"
   ]
  },
  {
   "cell_type": "code",
   "execution_count": 27,
   "metadata": {},
   "outputs": [
    {
     "data": {
      "text/html": [
       "<div>\n",
       "<style scoped>\n",
       "    .dataframe tbody tr th:only-of-type {\n",
       "        vertical-align: middle;\n",
       "    }\n",
       "\n",
       "    .dataframe tbody tr th {\n",
       "        vertical-align: top;\n",
       "    }\n",
       "\n",
       "    .dataframe thead tr th {\n",
       "        text-align: left;\n",
       "    }\n",
       "\n",
       "    .dataframe thead tr:last-of-type th {\n",
       "        text-align: right;\n",
       "    }\n",
       "</style>\n",
       "<table border=\"1\" class=\"dataframe\">\n",
       "  <thead>\n",
       "    <tr>\n",
       "      <th></th>\n",
       "      <th colspan=\"8\" halign=\"left\">spearman_correlation</th>\n",
       "    </tr>\n",
       "    <tr>\n",
       "      <th></th>\n",
       "      <th>count</th>\n",
       "      <th>mean</th>\n",
       "      <th>std</th>\n",
       "      <th>min</th>\n",
       "      <th>25%</th>\n",
       "      <th>50%</th>\n",
       "      <th>75%</th>\n",
       "      <th>max</th>\n",
       "    </tr>\n",
       "    <tr>\n",
       "      <th>pair_type</th>\n",
       "      <th></th>\n",
       "      <th></th>\n",
       "      <th></th>\n",
       "      <th></th>\n",
       "      <th></th>\n",
       "      <th></th>\n",
       "      <th></th>\n",
       "      <th></th>\n",
       "    </tr>\n",
       "  </thead>\n",
       "  <tbody>\n",
       "    <tr>\n",
       "      <th>WT-TD</th>\n",
       "      <td>586.0</td>\n",
       "      <td>0.777056</td>\n",
       "      <td>0.095607</td>\n",
       "      <td>0.208107</td>\n",
       "      <td>0.725525</td>\n",
       "      <td>0.783067</td>\n",
       "      <td>0.840576</td>\n",
       "      <td>0.995513</td>\n",
       "    </tr>\n",
       "    <tr>\n",
       "      <th>WT-WT</th>\n",
       "      <td>627.0</td>\n",
       "      <td>0.859518</td>\n",
       "      <td>0.071317</td>\n",
       "      <td>0.596485</td>\n",
       "      <td>0.813910</td>\n",
       "      <td>0.867519</td>\n",
       "      <td>0.914891</td>\n",
       "      <td>0.997767</td>\n",
       "    </tr>\n",
       "  </tbody>\n",
       "</table>\n",
       "</div>"
      ],
      "text/plain": [
       "          spearman_correlation                                          \\\n",
       "                         count      mean       std       min       25%   \n",
       "pair_type                                                                \n",
       "WT-TD                    586.0  0.777056  0.095607  0.208107  0.725525   \n",
       "WT-WT                    627.0  0.859518  0.071317  0.596485  0.813910   \n",
       "\n",
       "                                         \n",
       "                50%       75%       max  \n",
       "pair_type                                \n",
       "WT-TD      0.783067  0.840576  0.995513  \n",
       "WT-WT      0.867519  0.914891  0.997767  "
      ]
     },
     "execution_count": 27,
     "metadata": {},
     "output_type": "execute_result"
    }
   ],
   "source": [
    "pltdat.groupby('pair_type').describe()"
   ]
  },
  {
   "cell_type": "code",
   "execution_count": 28,
   "metadata": {},
   "outputs": [],
   "source": [
    "c_by_source['expt_type'] = 'WT-WT'\n",
    "alldat['expt_type'] = 'WT-TD'\n",
    "td_dat['expt_type'] = 'TD-TD'"
   ]
  },
  {
   "cell_type": "code",
   "execution_count": 29,
   "metadata": {},
   "outputs": [],
   "source": [
    "c_by_source['low_corr'] = False #don't use these because model was constructed\n",
    "                                # with this data\n",
    "alldat['low_corr'] = alldat['spearman_correlation'] < alldat['low_pred_band']\n",
    "td_dat['low_corr'] = td_dat['spearman_correlation'] < td_dat['low_pred_band']"
   ]
  },
  {
   "cell_type": "code",
   "execution_count": 30,
   "metadata": {},
   "outputs": [],
   "source": [
    "pltdat = pd.concat([c_by_source[['source', 'spearman_correlation', 'expt_type', 'low_corr']],\n",
    "                    alldat[['source', 'spearman_correlation', 'expt_type', 'low_corr']],\n",
    "                    td_dat[['source', 'spearman_correlation', 'expt_type', 'low_corr']]])"
   ]
  },
  {
   "cell_type": "code",
   "execution_count": 31,
   "metadata": {},
   "outputs": [
    {
     "data": {
      "text/plain": [
       "1454"
      ]
     },
     "execution_count": 31,
     "metadata": {},
     "output_type": "execute_result"
    }
   ],
   "source": [
    "len(pltdat)"
   ]
  },
  {
   "cell_type": "code",
   "execution_count": 32,
   "metadata": {},
   "outputs": [
    {
     "name": "stdout",
     "output_type": "stream",
     "text": [
      "1407\n"
     ]
    }
   ],
   "source": [
    "pltdat = pltdat[pltdat['source'].isin(alldat['source'].unique())]\n",
    "#pltdat = pltdat[pltdat['source'].isin(c_by_source['source'].unique())]\n",
    "print(len(pltdat))"
   ]
  },
  {
   "cell_type": "code",
   "execution_count": 33,
   "metadata": {},
   "outputs": [
    {
     "name": "stdout",
     "output_type": "stream",
     "text": [
      "[]\n",
      "[]\n"
     ]
    }
   ],
   "source": [
    "plot_order = ['ACAd', 'ACAv', 'PL', 'ILA', 'ORBl', 'ORBm', 'ORBvl', 'VISa', 'VISam', \n",
    "              'RSPagl', 'RSPd', 'RSPv', 'MOs', 'SSp-tr', 'SSp-ll',\n",
    "              'VISpm', 'ECT', 'VISl', 'VISp', 'VISli', 'VISpor', 'VISrl']\n",
    "print([source for source in plot_order if source not in pltdat['source'].unique()])\n",
    "print([source for source in pltdat['source'].unique() if source not in plot_order])"
   ]
  },
  {
   "cell_type": "code",
   "execution_count": 34,
   "metadata": {},
   "outputs": [
    {
     "data": {
      "text/plain": [
       "array(['WT-WT', 'WT-TD', 'TD-TD'], dtype=object)"
      ]
     },
     "execution_count": 34,
     "metadata": {},
     "output_type": "execute_result"
    }
   ],
   "source": [
    "pltdat['expt_type'].unique()"
   ]
  },
  {
   "cell_type": "code",
   "execution_count": 35,
   "metadata": {},
   "outputs": [
    {
     "name": "stderr",
     "output_type": "stream",
     "text": [
      "/opt/anaconda3/envs/DMN/lib/python3.7/site-packages/seaborn/categorical.py:1187: FutureWarning: elementwise comparison failed; returning scalar instead, but in the future will perform elementwise comparison\n",
      "  hue_mask = self.plot_hues[i] == hue_level\n"
     ]
    },
    {
     "data": {
      "image/png": "[encoded data removed]",
      "text/plain": [
       "<Figure size 266.4x108 with 1 Axes>"
      ]
     },
     "metadata": {
      "needs_background": "light"
     },
     "output_type": "display_data"
    }
   ],
   "source": [
    "fig, ax = plt.subplots(figsize = (3.7, 1.5))\n",
    "sns.boxplot('source', 'spearman_correlation', data = pltdat,\n",
    "            order = plot_order, hue = 'expt_type',\n",
    "           ax = ax, palette = ['gray', 'w'], \n",
    "            hue_order = ['WT-WT'], linewidth = 0.5, fliersize = 0.5)\n",
    "sns.stripplot('source', 'spearman_correlation', \n",
    "              data = pltdat[~pltdat['low_corr']],\n",
    "            order = plot_order, hue = 'expt_type',\n",
    "              s=3,\n",
    "           ax = ax, palette = ['w'], \n",
    "            hue_order = ['WT-TD'], linewidth = 0.5, dodge = True,\n",
    "             alpha = 0.7)\n",
    "sns.stripplot('source', 'spearman_correlation', \n",
    "              data = pltdat[pltdat['low_corr']],\n",
    "            order = plot_order, hue = 'expt_type',\n",
    "              s=3,\n",
    "           ax = ax, palette = ['w'], \n",
    "            hue_order = ['WT-TD'], linewidth = 0.5, edgecolor='k', dodge = True)\n",
    "sns.despine()\n",
    "ax.tick_params(bottom = True, left = True)\n",
    "ax.set_ylabel(\"Spearman's Rho\", fontsize = 7, labelpad=1)\n",
    "ax.set_xlabel(\"\");\n",
    "ax.set_xticklabels(ax.get_xticklabels(), fontsize = 7, rotation=90)\n",
    "ax.set_ylim([0,1.05])\n",
    "ax.tick_params(top = False, right = False, left = True, bottom = False, pad = 1)\n",
    "ax.tick_params(axis = 'x', pad=-3)\n",
    "ax.set_xticks(np.linspace(ax.get_xbound()[0]+0.5, \n",
    "                          ax.get_xbound()[1]-0.5, len(plot_order)))\n",
    "plt.xticks(rotation = 90, fontsize = 7)\n",
    "plt.yticks([0, 0.5, 1], fontsize = 7)\n",
    "ax.axhline(y=1, xmin=0, xmax=1, color = 'grey', linestyle = 'dashed', \n",
    "           linewidth = 0.5, zorder = -1)\n",
    "ax.legend_.remove()\n",
    "#plt.savefig(os.path.join(fig5_path, 'correlation_by_source_type.pdf'),\n",
    "#                        bbox_inches='tight', pad_inches=0.3, transparent = True, dpi = 300)"
   ]
  },
  {
   "cell_type": "code",
   "execution_count": 36,
   "metadata": {
    "scrolled": false
   },
   "outputs": [
    {
     "data": {
      "text/plain": [
       "0.13651877133105803"
      ]
     },
     "execution_count": 36,
     "metadata": {},
     "output_type": "execute_result"
    }
   ],
   "source": [
    "len(alldat[alldat['low_corr']])/len(alldat)"
   ]
  },
  {
   "cell_type": "code",
   "execution_count": 37,
   "metadata": {},
   "outputs": [
    {
     "name": "stdout",
     "output_type": "stream",
     "text": [
      "80\n",
      "43\n",
      "586\n"
     ]
    }
   ],
   "source": [
    "print(len(alldat[alldat['spearman_correlation'] < alldat['low_pred_band']]))\n",
    "print(len(alldat[alldat['spearman_correlation'] > alldat['high_pred_band']]))\n",
    "print(len(alldat))"
   ]
  },
  {
   "cell_type": "code",
   "execution_count": 38,
   "metadata": {},
   "outputs": [
    {
     "data": {
      "text/plain": [
       "0.2098976109215017"
      ]
     },
     "execution_count": 38,
     "metadata": {},
     "output_type": "execute_result"
    }
   ],
   "source": [
    "(80+43)/586"
   ]
  },
  {
   "cell_type": "code",
   "execution_count": 39,
   "metadata": {},
   "outputs": [
    {
     "data": {
      "text/plain": [
       "12"
      ]
     },
     "execution_count": 39,
     "metadata": {},
     "output_type": "execute_result"
    }
   ],
   "source": [
    "len(alldat[alldat['source'] == 'ACAv'])"
   ]
  },
  {
   "cell_type": "code",
   "execution_count": 40,
   "metadata": {},
   "outputs": [
    {
     "data": {
      "text/plain": [
       "50"
      ]
     },
     "execution_count": 40,
     "metadata": {},
     "output_type": "execute_result"
    }
   ],
   "source": [
    "len(alldat[alldat['source'] == 'ACAd'])"
   ]
  },
  {
   "cell_type": "code",
   "execution_count": 41,
   "metadata": {},
   "outputs": [
    {
     "data": {
      "text/plain": [
       "1"
      ]
     },
     "execution_count": 41,
     "metadata": {},
     "output_type": "execute_result"
    }
   ],
   "source": [
    "len(alldat[alldat['source'] == 'ILA'])"
   ]
  },
  {
   "cell_type": "code",
   "execution_count": 42,
   "metadata": {},
   "outputs": [
    {
     "data": {
      "text/plain": [
       "['ORBm']"
      ]
     },
     "execution_count": 42,
     "metadata": {},
     "output_type": "execute_result"
    }
   ],
   "source": [
    "[source for source in alldat[\n",
    "    (alldat['low_corr'])]['source'].unique() if source not in c_by_source['source'].unique()]"
   ]
  },
  {
   "cell_type": "code",
   "execution_count": 43,
   "metadata": {},
   "outputs": [],
   "source": [
    "sourcedat = meandat.groupby('source').mean().reset_index()"
   ]
  },
  {
   "cell_type": "code",
   "execution_count": 44,
   "metadata": {},
   "outputs": [
    {
     "name": "stdout",
     "output_type": "stream",
     "text": [
      "[]\n"
     ]
    },
    {
     "name": "stderr",
     "output_type": "stream",
     "text": [
      "/opt/anaconda3/envs/DMN/lib/python3.7/site-packages/ipykernel_launcher.py:26: UserWarning: FixedFormatter should only be used together with FixedLocator\n"
     ]
    },
    {
     "data": {
      "image/png": "[encoded data removed]",
      "text/plain": [
       "<Figure size 230.4x108 with 2 Axes>"
      ]
     },
     "metadata": {
      "needs_background": "light"
     },
     "output_type": "display_data"
    }
   ],
   "source": [
    "order = ['ORBl', 'ACAv', 'ORBvl', 'MOs', 'ORBm', 'PL', 'VISp', 'VISl', 'RSPv', \n",
    "        'ACAd', 'VISam', 'RSPagl', 'VISpor', 'VISrl', 'RSPd', 'VISpm', 'VISa',  \n",
    "        'ECT', 'SSp-ll', 'SSp-tr', 'ILA', 'VISli']\n",
    "print([source for source in sourcedat['source'].unique() if source not in order])\n",
    "numpairs = pd.DataFrame(alldat.groupby('source').count()['distance']).reset_index()\n",
    "numpairs['log_scale'] = [np.log10(count) for count in numpairs['distance'].values]\n",
    "fig, ax = plt.subplots(figsize = (3.2, 1.5))\n",
    "sns.stripplot('source', 'fraction_low_corr', \n",
    "              data = sourcedat, \n",
    "            order = order, color = 'k', zorder = 1, \n",
    "             dodge = False, jitter = False, s=4)\n",
    "plt.xticks(rotation = 90, fontsize = 8);\n",
    "plt.yticks([0, 0.25, 0.5], rotation = 90, fontsize = 8);\n",
    "ax2 = ax.twinx()\n",
    "sns.stripplot('source', 'log_scale', \n",
    "              data = numpairs, \n",
    "            order = order, color = 'gray', ax = ax2, edgecolors = 'k', linewidth=0.5,\n",
    "             dodge = False, jitter = False, alpha = 0.7, zorder = 0, s=4)\n",
    "plt.yticks(rotation = 90, fontsize = 8);\n",
    "ax.tick_params(top=False, right=False, left=True)\n",
    "ax.tick_params('x', pad = -3)\n",
    "sns.despine(right = False)\n",
    "ax.set_ylabel('Frac Low Corr', fontsize = 8)\n",
    "ax.set_xlabel(None)\n",
    "ax2.set_ylabel('# Pairs', fontsize = 8) \n",
    "ax2.set_yticklabels([0, 1, 10, 100])\n",
    "plt.tight_layout()\n",
    "#plt.savefig(os.path.join(fig5_path, \n",
    "#                         'proj_diversity_by_source.pdf'), \n",
    "#            bbox_inches='tight', format='pdf', transparent = True, dpi=300)"
   ]
  },
  {
   "cell_type": "code",
   "execution_count": 45,
   "metadata": {},
   "outputs": [
    {
     "data": {
      "text/plain": [
       "(0.07964459321331338, 0.7245976462313162)"
      ]
     },
     "execution_count": 45,
     "metadata": {},
     "output_type": "execute_result"
    }
   ],
   "source": [
    "stats.pearsonr(sourcedat['fraction_low_corr'].values, \n",
    "                sourcedat['number of comparisons'].values)"
   ]
  },
  {
   "cell_type": "code",
   "execution_count": 46,
   "metadata": {},
   "outputs": [],
   "source": [
    "def assign_module(df):\n",
    "    df.loc[df['source'].isin(['ACAd', 'ACAv', 'ORBl','ORBm', 'ORBvl', \n",
    "                                                    'ILA', 'PL', 'FRP']), 'module'] = 'Prefrontal'\n",
    "    df.loc[df['source'].isin(['VISam', 'RSPagl', 'RSPv', 'VISpm',\n",
    "                                                    'VISa', 'RSPd']), 'module'] = 'Medial'\n",
    "    df.loc[df['source'].isin(['SSp-tr', 'SSp-ll', 'SSp-bfd', 'SSp-un',\n",
    "                                                    'SSp-ul', 'MOs', 'MOp', 'SSs', 'SSp-n',\n",
    "                                                    'SSp-m']), 'module'] = 'Somatomotor'\n",
    "    df.loc[df['source'].isin(['VISal', 'VISl', 'VISli', 'VISp', 'VISpl',\n",
    "                                                    'VISpor', 'VISrl']), 'module'] = 'Visual'\n",
    "    df.loc[df['source'].isin(['AUDpo', 'AUDd', 'AUDp', 'AUDv']), \n",
    "                    'module'] = 'Auditory'\n",
    "    df.loc[df['source'].isin(['TEa', 'PERI', 'ECT', 'GU', 'AId', 'AIv',\n",
    "                                                    'AIp', 'VISC']), 'module'] = 'Lateral'\n",
    "    print(len(df[df['module'].isnull()]))\n",
    "    return df"
   ]
  },
  {
   "cell_type": "code",
   "execution_count": 47,
   "metadata": {},
   "outputs": [
    {
     "name": "stdout",
     "output_type": "stream",
     "text": [
      "0\n"
     ]
    },
    {
     "data": {
      "text/plain": [
       "<matplotlib.lines.Line2D at 0x1c24e1e750>"
      ]
     },
     "execution_count": 47,
     "metadata": {},
     "output_type": "execute_result"
    },
    {
     "data": {
      "image/png": "[encoded data removed]",
      "text/plain": [
       "<Figure size 36x79.2 with 1 Axes>"
      ]
     },
     "metadata": {
      "needs_background": "light"
     },
     "output_type": "display_data"
    }
   ],
   "source": [
    "alldat = assign_module(alldat)\n",
    "mod_order = ['Prefrontal', 'Medial', 'Somatomotor', 'Visual']\n",
    "fig, ax = plt.subplots(1, figsize = (0.5, 1.1))\n",
    "sns.boxplot('module', 'spearman_correlation', \n",
    "            data = alldat[alldat['spearman_correlation'] < alldat['low_pred_band']], \n",
    "            order = mod_order, ax = ax,\n",
    "            fliersize = 0.1, color = 'w', linewidth = 0.5)\n",
    "ax.tick_params(top = False, right = False)\n",
    "ax.set_ylim([0,1.1])\n",
    "plt.yticks([0, 0.5, 1], rotation = 90, fontsize = 8)\n",
    "plt.xticks(rotation = 90, fontsize = 8)\n",
    "ax.set_xlabel(\"\", fontsize = 8)\n",
    "ax.set_ylabel(\"Spearman's Rho (r$_s$)\", fontsize = 8)\n",
    "ax.tick_params(top = False, right = False, left = True, bottom = False, pad = 1)\n",
    "ax.tick_params(axis = 'x', pad=-3)\n",
    "sns.despine()\n",
    "ax.axhline(y = 0.775, xmin=0, xmax=1.2, color = 'gray', linestyle = 'dashed',\n",
    "          linewidth = 0.5, zorder = -1)\n",
    "#plt.savefig(os.path.join(fig5_path, 'TD-WT_low_corr_by_module_boxplot.pdf'), \n",
    "#            bbox_inches='tight', pad_inches=0.3, format='pdf', transparent=True, dpi=300)"
   ]
  },
  {
   "cell_type": "code",
   "execution_count": 48,
   "metadata": {},
   "outputs": [
    {
     "data": {
      "text/html": [
       "<div>\n",
       "<style scoped>\n",
       "    .dataframe tbody tr th:only-of-type {\n",
       "        vertical-align: middle;\n",
       "    }\n",
       "\n",
       "    .dataframe tbody tr th {\n",
       "        vertical-align: top;\n",
       "    }\n",
       "\n",
       "    .dataframe thead th {\n",
       "        text-align: right;\n",
       "    }\n",
       "</style>\n",
       "<table border=\"1\" class=\"dataframe\">\n",
       "  <thead>\n",
       "    <tr style=\"text-align: right;\">\n",
       "      <th></th>\n",
       "      <th>sum_sq</th>\n",
       "      <th>df</th>\n",
       "      <th>F</th>\n",
       "      <th>PR(&gt;F)</th>\n",
       "    </tr>\n",
       "  </thead>\n",
       "  <tbody>\n",
       "    <tr>\n",
       "      <th>C(module)</th>\n",
       "      <td>0.4744</td>\n",
       "      <td>3.0</td>\n",
       "      <td>20.9025</td>\n",
       "      <td>0.0</td>\n",
       "    </tr>\n",
       "    <tr>\n",
       "      <th>Residual</th>\n",
       "      <td>0.5750</td>\n",
       "      <td>76.0</td>\n",
       "      <td>NaN</td>\n",
       "      <td>NaN</td>\n",
       "    </tr>\n",
       "  </tbody>\n",
       "</table>\n",
       "</div>"
      ],
      "text/plain": [
       "           sum_sq    df        F  PR(>F)\n",
       "C(module)  0.4744   3.0  20.9025     0.0\n",
       "Residual   0.5750  76.0      NaN     NaN"
      ]
     },
     "execution_count": 48,
     "metadata": {},
     "output_type": "execute_result"
    }
   ],
   "source": [
    "formula = 'spearman_correlation~C(module)' \n",
    "model = ols(formula, alldat[alldat['spearman_correlation'] < alldat['low_pred_band']]).fit()\n",
    "aov_table = anova_lm(model, typ=2) #http://www.utstat.utoronto.ca/reid/sta442f/2009/typeSS.pdf\n",
    "aov_table.round(4)"
   ]
  },
  {
   "cell_type": "code",
   "execution_count": 49,
   "metadata": {},
   "outputs": [
    {
     "data": {
      "text/plain": [
       "array(['Visual', 'Prefrontal', 'Somatomotor', 'Medial', 'Lateral'],\n",
       "      dtype=object)"
      ]
     },
     "execution_count": 49,
     "metadata": {},
     "output_type": "execute_result"
    }
   ],
   "source": [
    "alldat['module'].unique()"
   ]
  },
  {
   "cell_type": "code",
   "execution_count": 50,
   "metadata": {},
   "outputs": [
    {
     "name": "stdout",
     "output_type": "stream",
     "text": [
      "11.845313772987915 1.5390558325931493e-07\n"
     ]
    }
   ],
   "source": [
    "f_value, p_value = stats.f_oneway(\n",
    "    alldat[alldat['module'] == 'Prefrontal']['spearman_correlation'], \n",
    "    alldat[alldat['module'] == 'Medial']['spearman_correlation'],\n",
    "    alldat[alldat['module'] == 'Somatomotor']['spearman_correlation'],\n",
    "    alldat[alldat['module'] == 'Visual']['spearman_correlation']\n",
    ")\n",
    "print(f_value, p_value)"
   ]
  },
  {
   "cell_type": "code",
   "execution_count": 51,
   "metadata": {},
   "outputs": [
    {
     "name": "stdout",
     "output_type": "stream",
     "text": [
      "Visual Prefrontal\n",
      "Ttest_indResult(statistic=2.6838917217131995, pvalue=0.0075254176909822215)\n",
      "Visual Medial\n",
      "Ttest_indResult(statistic=-5.324682693737474, pvalue=1.5877428204678714e-07)\n",
      "Visual Somatomotor\n",
      "Ttest_indResult(statistic=-0.16806183454304804, pvalue=0.8666226538161222)\n",
      "Prefrontal Medial\n",
      "Ttest_indResult(statistic=-4.58336104403097, pvalue=8.181872865391765e-06)\n",
      "Prefrontal Somatomotor\n",
      "Ttest_indResult(statistic=-0.7899516372046798, pvalue=0.43108873630825506)\n",
      "Medial Somatomotor\n",
      "Ttest_indResult(statistic=1.6521291375475375, pvalue=0.1018449293862432)\n"
     ]
    }
   ],
   "source": [
    "module_pairs = []\n",
    "modules = ['Visual', 'Prefrontal', 'Medial', 'Somatomotor']\n",
    "pvals = []\n",
    "\n",
    "for mod1 in range(3):\n",
    "    for mod2  in range(mod1+1,4):\n",
    "        module_pairs.append((modules[mod1], modules[mod2]))\n",
    "        \n",
    "# Conduct t-test on each pair\n",
    "for module1, module2 in module_pairs: \n",
    "    print(module1, module2)\n",
    "    print(stats.ttest_ind(alldat[alldat['module'] == module1]['spearman_correlation'], \n",
    "                          alldat[alldat['module'] == module2]['spearman_correlation'])) \n",
    "    pvals.append(stats.ttest_ind(alldat[alldat['module'] == module1]['spearman_correlation'], \n",
    "                          alldat[alldat['module'] == module2]['spearman_correlation'])[1])"
   ]
  },
  {
   "cell_type": "code",
   "execution_count": 52,
   "metadata": {},
   "outputs": [
    {
     "name": "stdout",
     "output_type": "stream",
     "text": [
      "(array([ True,  True, False,  True, False, False]), array([1.50508354e-02, 9.52645692e-07, 8.66622654e-01, 2.45456186e-05,\n",
      "       5.17306484e-01, 1.52767394e-01]))\n"
     ]
    }
   ],
   "source": [
    "fdrcorr = sm.stats.fdrcorrection(pvals, alpha=0.05, method='indep')\n",
    "print(fdrcorr)"
   ]
  },
  {
   "cell_type": "code",
   "execution_count": 53,
   "metadata": {},
   "outputs": [
    {
     "data": {
      "text/html": [
       "<div>\n",
       "<style scoped>\n",
       "    .dataframe tbody tr th:only-of-type {\n",
       "        vertical-align: middle;\n",
       "    }\n",
       "\n",
       "    .dataframe tbody tr th {\n",
       "        vertical-align: top;\n",
       "    }\n",
       "\n",
       "    .dataframe thead th {\n",
       "        text-align: right;\n",
       "    }\n",
       "</style>\n",
       "<table border=\"1\" class=\"dataframe\">\n",
       "  <thead>\n",
       "    <tr style=\"text-align: right;\">\n",
       "      <th></th>\n",
       "      <th>source</th>\n",
       "      <th>distance</th>\n",
       "      <th>exclusion_zone_overlap</th>\n",
       "      <th>fraction of match covered by td exclusion zone</th>\n",
       "      <th>fraction of match covered by td injection</th>\n",
       "      <th>image_series_id</th>\n",
       "      <th>injection_overlap</th>\n",
       "      <th>match_id</th>\n",
       "      <th>pearson_correlation</th>\n",
       "      <th>spearman_correlation</th>\n",
       "      <th>...</th>\n",
       "      <th>same_secondary</th>\n",
       "      <th>injection_size_ratio</th>\n",
       "      <th>dice</th>\n",
       "      <th>CAV_percent_DMN</th>\n",
       "      <th>exp_predicted</th>\n",
       "      <th>low_pred_band</th>\n",
       "      <th>high_pred_band</th>\n",
       "      <th>sig</th>\n",
       "      <th>low_corr</th>\n",
       "      <th>prediction_error</th>\n",
       "    </tr>\n",
       "  </thead>\n",
       "  <tbody>\n",
       "    <tr>\n",
       "      <th>0</th>\n",
       "      <td>ACAd</td>\n",
       "      <td>252.919539</td>\n",
       "      <td>0.365772</td>\n",
       "      <td>0.771205</td>\n",
       "      <td>0.319479</td>\n",
       "      <td>5.700463e+08</td>\n",
       "      <td>0.629327</td>\n",
       "      <td>3.763765e+08</td>\n",
       "      <td>0.883542</td>\n",
       "      <td>0.815654</td>\n",
       "      <td>...</td>\n",
       "      <td>0.72</td>\n",
       "      <td>14.981729</td>\n",
       "      <td>0.511208</td>\n",
       "      <td>87.468797</td>\n",
       "      <td>0.805474</td>\n",
       "      <td>0.69935</td>\n",
       "      <td>0.911598</td>\n",
       "      <td>0.0</td>\n",
       "      <td>0.0</td>\n",
       "      <td>0.01018</td>\n",
       "    </tr>\n",
       "  </tbody>\n",
       "</table>\n",
       "<p>1 rows × 27 columns</p>\n",
       "</div>"
      ],
      "text/plain": [
       "  source    distance  exclusion_zone_overlap  \\\n",
       "0   ACAd  252.919539                0.365772   \n",
       "\n",
       "   fraction of match covered by td exclusion zone  \\\n",
       "0                                        0.771205   \n",
       "\n",
       "   fraction of match covered by td injection  image_series_id  \\\n",
       "0                                   0.319479     5.700463e+08   \n",
       "\n",
       "   injection_overlap      match_id  pearson_correlation  spearman_correlation  \\\n",
       "0           0.629327  3.763765e+08             0.883542              0.815654   \n",
       "\n",
       "   ...  same_secondary  injection_size_ratio      dice  CAV_percent_DMN  \\\n",
       "0  ...            0.72             14.981729  0.511208        87.468797   \n",
       "\n",
       "   exp_predicted  low_pred_band  high_pred_band  sig  low_corr  \\\n",
       "0       0.805474        0.69935        0.911598  0.0       0.0   \n",
       "\n",
       "   prediction_error  \n",
       "0           0.01018  \n",
       "\n",
       "[1 rows x 27 columns]"
      ]
     },
     "execution_count": 53,
     "metadata": {},
     "output_type": "execute_result"
    }
   ],
   "source": [
    "alldat['prediction_error'] = alldat['spearman_correlation'] - alldat['exp_predicted']\n",
    "pltdat = alldat.groupby('source').mean().reset_index()\n",
    "pltdat.head(1)"
   ]
  },
  {
   "cell_type": "code",
   "execution_count": 54,
   "metadata": {},
   "outputs": [
    {
     "data": {
      "text/plain": [
       "0.7770561269829352"
      ]
     },
     "execution_count": 54,
     "metadata": {},
     "output_type": "execute_result"
    }
   ],
   "source": [
    "alldat['spearman_correlation'].mean()"
   ]
  },
  {
   "cell_type": "code",
   "execution_count": 56,
   "metadata": {},
   "outputs": [
    {
     "name": "stdout",
     "output_type": "stream",
     "text": [
      "['VISp', 'VISl', 'ORBvl', 'ACAv', 'ORBl', 'RSPv']\n"
     ]
    }
   ],
   "source": [
    "print([source for source in alldat['source'].unique() if len(alldat[\n",
    "    (alldat['source'] == source) & (alldat['spearman_correlation'] < alldat['low_pred_band'])\n",
    "]) > 1])"
   ]
  },
  {
   "cell_type": "code",
   "execution_count": 64,
   "metadata": {
    "scrolled": false
   },
   "outputs": [
    {
     "name": "stdout",
     "output_type": "stream",
     "text": [
      "[]\n"
     ]
    },
    {
     "data": {
      "image/png": "[encoded data removed]",
      "text/plain": [
       "<Figure size 230.4x108 with 2 Axes>"
      ]
     },
     "metadata": {
      "needs_background": "light"
     },
     "output_type": "display_data"
    }
   ],
   "source": [
    "lc_dat = alldat[alldat['spearman_correlation'] < alldat[\n",
    "    'low_pred_band']].groupby('source').mean().reset_index()\n",
    "hc_dat = alldat[alldat['spearman_correlation'] > alldat[\n",
    "    'low_pred_band']].groupby('source').mean().reset_index()\n",
    "countdat = alldat[alldat['spearman_correlation'] < alldat[\n",
    "    'low_pred_band']].groupby('source').count().reset_index()\n",
    "countdat['log_scale'] = [np.log10(count) for count in countdat['distance'].values]\n",
    "order = ['ORBl', 'ACAv', 'ORBvl', 'MOs', 'ORBm', 'PL', 'VISp', 'VISl', 'RSPv', \n",
    "        'ACAd', 'VISam', 'RSPagl', 'VISpor', 'VISrl', 'RSPd', 'VISpm', 'VISa',  \n",
    "        'ECT', 'SSp-ll', 'SSp-tr', 'ILA', 'VISli']\n",
    "print([source for source in pltdat['source'].unique() if source not in order])\n",
    "fig, ax = plt.subplots(figsize = (3.2, 1.5))\n",
    "sns.stripplot('source', 'spearman_correlation', \n",
    "              data = hc_dat[hc_dat['source'].isin(order)], \n",
    "            order = order, color = 'k', ax = ax,\n",
    "             dodge = False, jitter = False, s=4, alpha = 0.8\n",
    "             )\n",
    "sns.stripplot('source', 'spearman_correlation', \n",
    "              data = lc_dat[lc_dat['source'].isin(order)], \n",
    "            order = order, color = 'w', ax = ax, linewidth=0.5,\n",
    "             dodge = False, jitter = False, s=4)\n",
    "plt.xticks(rotation = 90, fontsize = 8);\n",
    "plt.yticks(rotation = 90, fontsize = 8);\n",
    "ax2 = ax.twinx()\n",
    "sns.stripplot('source', 'spearman_correlation', \n",
    "              data = countdat[countdat['source'].isin(order)], \n",
    "            order = order, color = 'gray', ax = ax2, linewidth=0.5,\n",
    "             dodge = False, jitter = False, s=4)\n",
    "plt.yticks(rotation = 90, fontsize = 8);\n",
    "ax.set_ylim([0,1.1])\n",
    "ax.tick_params(top=False, right=False, bottom = False, left=True)\n",
    "ax.set_yticks([0, 0.5, 1])\n",
    "ax.set_ylabel(\"Mean r$_s$\", fontsize = 8)\n",
    "ax.set_xlabel(None)\n",
    "sns.despine(right = False, bottom=True, left=False)\n",
    "ax2.tick_params(right=True)\n",
    "ax2.set_ylim([0,50])\n",
    "ax2.set_yticks([0, 20, 40])\n",
    "ax2.set_ylabel(\"# Low-Corr Pairs\", fontsize = 8)\n",
    "ax.axhline(y = 0.775, xmin=0, xmax=1.2, color = 'gray', linestyle = 'dashed',\n",
    "          linewidth = 0.5)\n",
    "plt.tight_layout()\n",
    "#plt.savefig(os.path.join(fig5_path, \n",
    "#                         'corr_by_source.pdf'), \n",
    "#            bbox_inches='tight', format='pdf', transparent = True, dpi=300)"
   ]
  },
  {
   "cell_type": "code",
   "execution_count": null,
   "metadata": {},
   "outputs": [],
   "source": []
  }
 ],
 "metadata": {
  "kernelspec": {
   "display_name": "Python 3",
   "language": "python",
   "name": "python3"
  },
  "language_info": {
   "codemirror_mode": {
    "name": "ipython",
    "version": 3
   },
   "file_extension": ".py",
   "mimetype": "text/x-python",
   "name": "python",
   "nbconvert_exporter": "python",
   "pygments_lexer": "ipython3",
   "version": "3.7.4"
  }
 },
 "nbformat": 4,
 "nbformat_minor": 2
}
