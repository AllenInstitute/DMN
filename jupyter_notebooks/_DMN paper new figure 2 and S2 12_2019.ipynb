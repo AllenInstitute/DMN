{
 "cells": [
  {
   "cell_type": "code",
   "execution_count": 1,
   "metadata": {},
   "outputs": [
    {
     "name": "stderr",
     "output_type": "stream",
     "text": [
      "/Users/jenniferwh/Dropbox (Allen Institute)/Mesoscale Connectome Papers in Progress/2019 DMN/_new_figures/jupyter_notebooks/env/lib/python3.7/site-packages/statsmodels/compat/pandas.py:23: FutureWarning: The Panel class is removed from pandas. Accessing it from the top-level namespace will also be removed in the next version\n",
      "  data_klasses = (pandas.Series, pandas.DataFrame, pandas.Panel)\n"
     ]
    },
    {
     "ename": "ModuleNotFoundError",
     "evalue": "No module named 'pywt'",
     "output_type": "error",
     "traceback": [
      "\u001b[0;31m---------------------------------------------------------------------------\u001b[0m",
      "\u001b[0;31mModuleNotFoundError\u001b[0m                       Traceback (most recent call last)",
      "\u001b[0;32m<ipython-input-1-c0f1b1f1cc95>\u001b[0m in \u001b[0;36m<module>\u001b[0;34m\u001b[0m\n\u001b[1;32m      8\u001b[0m \u001b[0;32mimport\u001b[0m \u001b[0mstatsmodels\u001b[0m\u001b[0;34m.\u001b[0m\u001b[0mapi\u001b[0m \u001b[0;32mas\u001b[0m \u001b[0msm\u001b[0m\u001b[0;34m\u001b[0m\u001b[0;34m\u001b[0m\u001b[0m\n\u001b[1;32m      9\u001b[0m \u001b[0;32mimport\u001b[0m \u001b[0mskimage\u001b[0m\u001b[0;34m\u001b[0m\u001b[0;34m\u001b[0m\u001b[0m\n\u001b[0;32m---> 10\u001b[0;31m \u001b[0;32mimport\u001b[0m \u001b[0mskimage\u001b[0m\u001b[0;34m.\u001b[0m\u001b[0mfeature\u001b[0m\u001b[0;34m\u001b[0m\u001b[0;34m\u001b[0m\u001b[0m\n\u001b[0m\u001b[1;32m     11\u001b[0m \u001b[0;34m\u001b[0m\u001b[0m\n\u001b[1;32m     12\u001b[0m \u001b[0;32mimport\u001b[0m \u001b[0mseaborn\u001b[0m \u001b[0;32mas\u001b[0m \u001b[0msns\u001b[0m\u001b[0;34m\u001b[0m\u001b[0;34m\u001b[0m\u001b[0m\n",
      "\u001b[0;32m~/Dropbox (Allen Institute)/Mesoscale Connectome Papers in Progress/2019 DMN/_new_figures/jupyter_notebooks/env/lib/python3.7/site-packages/scikit_image-0.16.2-py3.7-macosx-10.9-x86_64.egg/skimage/feature/__init__.py\u001b[0m in \u001b[0;36m<module>\u001b[0;34m\u001b[0m\n\u001b[0;32m----> 1\u001b[0;31m \u001b[0;32mfrom\u001b[0m \u001b[0;34m.\u001b[0m\u001b[0m_canny\u001b[0m \u001b[0;32mimport\u001b[0m \u001b[0mcanny\u001b[0m\u001b[0;34m\u001b[0m\u001b[0;34m\u001b[0m\u001b[0m\n\u001b[0m\u001b[1;32m      2\u001b[0m \u001b[0;32mfrom\u001b[0m \u001b[0;34m.\u001b[0m\u001b[0m_cascade\u001b[0m \u001b[0;32mimport\u001b[0m \u001b[0mCascade\u001b[0m\u001b[0;34m\u001b[0m\u001b[0;34m\u001b[0m\u001b[0m\n\u001b[1;32m      3\u001b[0m \u001b[0;32mfrom\u001b[0m \u001b[0;34m.\u001b[0m\u001b[0m_daisy\u001b[0m \u001b[0;32mimport\u001b[0m \u001b[0mdaisy\u001b[0m\u001b[0;34m\u001b[0m\u001b[0;34m\u001b[0m\u001b[0m\n\u001b[1;32m      4\u001b[0m \u001b[0;32mfrom\u001b[0m \u001b[0;34m.\u001b[0m\u001b[0m_hog\u001b[0m \u001b[0;32mimport\u001b[0m \u001b[0mhog\u001b[0m\u001b[0;34m\u001b[0m\u001b[0;34m\u001b[0m\u001b[0m\n\u001b[1;32m      5\u001b[0m from .texture import (greycomatrix, greycoprops,\n",
      "\u001b[0;32m~/Dropbox (Allen Institute)/Mesoscale Connectome Papers in Progress/2019 DMN/_new_figures/jupyter_notebooks/env/lib/python3.7/site-packages/scikit_image-0.16.2-py3.7-macosx-10.9-x86_64.egg/skimage/feature/_canny.py\u001b[0m in \u001b[0;36m<module>\u001b[0;34m\u001b[0m\n\u001b[1;32m     16\u001b[0m \u001b[0;32mimport\u001b[0m \u001b[0mscipy\u001b[0m\u001b[0;34m.\u001b[0m\u001b[0mndimage\u001b[0m \u001b[0;32mas\u001b[0m \u001b[0mndi\u001b[0m\u001b[0;34m\u001b[0m\u001b[0;34m\u001b[0m\u001b[0m\n\u001b[1;32m     17\u001b[0m \u001b[0;32mfrom\u001b[0m \u001b[0mscipy\u001b[0m\u001b[0;34m.\u001b[0m\u001b[0mndimage\u001b[0m \u001b[0;32mimport\u001b[0m \u001b[0mgenerate_binary_structure\u001b[0m\u001b[0;34m,\u001b[0m \u001b[0mbinary_erosion\u001b[0m\u001b[0;34m,\u001b[0m \u001b[0mlabel\u001b[0m\u001b[0;34m\u001b[0m\u001b[0;34m\u001b[0m\u001b[0m\n\u001b[0;32m---> 18\u001b[0;31m \u001b[0;32mfrom\u001b[0m \u001b[0;34m.\u001b[0m\u001b[0;34m.\u001b[0m\u001b[0mfilters\u001b[0m \u001b[0;32mimport\u001b[0m \u001b[0mgaussian\u001b[0m\u001b[0;34m\u001b[0m\u001b[0;34m\u001b[0m\u001b[0m\n\u001b[0m\u001b[1;32m     19\u001b[0m \u001b[0;32mfrom\u001b[0m \u001b[0;34m.\u001b[0m\u001b[0;34m.\u001b[0m \u001b[0;32mimport\u001b[0m \u001b[0mdtype_limits\u001b[0m\u001b[0;34m,\u001b[0m \u001b[0mimg_as_float\u001b[0m\u001b[0;34m\u001b[0m\u001b[0;34m\u001b[0m\u001b[0m\n\u001b[1;32m     20\u001b[0m \u001b[0;32mfrom\u001b[0m \u001b[0;34m.\u001b[0m\u001b[0;34m.\u001b[0m\u001b[0m_shared\u001b[0m\u001b[0;34m.\u001b[0m\u001b[0mutils\u001b[0m \u001b[0;32mimport\u001b[0m \u001b[0mcheck_nD\u001b[0m\u001b[0;34m\u001b[0m\u001b[0;34m\u001b[0m\u001b[0m\n",
      "\u001b[0;32m~/Dropbox (Allen Institute)/Mesoscale Connectome Papers in Progress/2019 DMN/_new_figures/jupyter_notebooks/env/lib/python3.7/site-packages/scikit_image-0.16.2-py3.7-macosx-10.9-x86_64.egg/skimage/filters/__init__.py\u001b[0m in \u001b[0;36m<module>\u001b[0;34m\u001b[0m\n\u001b[1;32m      1\u001b[0m \u001b[0;32mfrom\u001b[0m \u001b[0;34m.\u001b[0m\u001b[0mlpi_filter\u001b[0m \u001b[0;32mimport\u001b[0m \u001b[0minverse\u001b[0m\u001b[0;34m,\u001b[0m \u001b[0mwiener\u001b[0m\u001b[0;34m,\u001b[0m \u001b[0mLPIFilter2D\u001b[0m\u001b[0;34m\u001b[0m\u001b[0;34m\u001b[0m\u001b[0m\n\u001b[1;32m      2\u001b[0m \u001b[0;32mfrom\u001b[0m \u001b[0;34m.\u001b[0m\u001b[0m_gaussian\u001b[0m \u001b[0;32mimport\u001b[0m \u001b[0mgaussian\u001b[0m\u001b[0;34m,\u001b[0m \u001b[0m_guess_spatial_dimensions\u001b[0m\u001b[0;34m\u001b[0m\u001b[0;34m\u001b[0m\u001b[0m\n\u001b[0;32m----> 3\u001b[0;31m from .edges import (sobel, sobel_h, sobel_v,\n\u001b[0m\u001b[1;32m      4\u001b[0m                     \u001b[0mscharr\u001b[0m\u001b[0;34m,\u001b[0m \u001b[0mscharr_h\u001b[0m\u001b[0;34m,\u001b[0m \u001b[0mscharr_v\u001b[0m\u001b[0;34m,\u001b[0m\u001b[0;34m\u001b[0m\u001b[0;34m\u001b[0m\u001b[0m\n\u001b[1;32m      5\u001b[0m                     \u001b[0mprewitt\u001b[0m\u001b[0;34m,\u001b[0m \u001b[0mprewitt_h\u001b[0m\u001b[0;34m,\u001b[0m \u001b[0mprewitt_v\u001b[0m\u001b[0;34m,\u001b[0m\u001b[0;34m\u001b[0m\u001b[0;34m\u001b[0m\u001b[0m\n",
      "\u001b[0;32m~/Dropbox (Allen Institute)/Mesoscale Connectome Papers in Progress/2019 DMN/_new_figures/jupyter_notebooks/env/lib/python3.7/site-packages/scikit_image-0.16.2-py3.7-macosx-10.9-x86_64.egg/skimage/filters/edges.py\u001b[0m in \u001b[0;36m<module>\u001b[0;34m\u001b[0m\n\u001b[1;32m     15\u001b[0m \u001b[0;32mfrom\u001b[0m \u001b[0mscipy\u001b[0m\u001b[0;34m.\u001b[0m\u001b[0mndimage\u001b[0m \u001b[0;32mimport\u001b[0m \u001b[0mconvolve\u001b[0m\u001b[0;34m,\u001b[0m \u001b[0mbinary_erosion\u001b[0m\u001b[0;34m,\u001b[0m \u001b[0mgenerate_binary_structure\u001b[0m\u001b[0;34m\u001b[0m\u001b[0;34m\u001b[0m\u001b[0m\n\u001b[1;32m     16\u001b[0m \u001b[0;34m\u001b[0m\u001b[0m\n\u001b[0;32m---> 17\u001b[0;31m \u001b[0;32mfrom\u001b[0m \u001b[0;34m.\u001b[0m\u001b[0;34m.\u001b[0m\u001b[0mrestoration\u001b[0m\u001b[0;34m.\u001b[0m\u001b[0muft\u001b[0m \u001b[0;32mimport\u001b[0m \u001b[0mlaplacian\u001b[0m\u001b[0;34m\u001b[0m\u001b[0;34m\u001b[0m\u001b[0m\n\u001b[0m\u001b[1;32m     18\u001b[0m \u001b[0;34m\u001b[0m\u001b[0m\n\u001b[1;32m     19\u001b[0m \u001b[0mEROSION_SELEM\u001b[0m \u001b[0;34m=\u001b[0m \u001b[0mgenerate_binary_structure\u001b[0m\u001b[0;34m(\u001b[0m\u001b[0;36m2\u001b[0m\u001b[0;34m,\u001b[0m \u001b[0;36m2\u001b[0m\u001b[0;34m)\u001b[0m\u001b[0;34m\u001b[0m\u001b[0;34m\u001b[0m\u001b[0m\n",
      "\u001b[0;32m~/Dropbox (Allen Institute)/Mesoscale Connectome Papers in Progress/2019 DMN/_new_figures/jupyter_notebooks/env/lib/python3.7/site-packages/scikit_image-0.16.2-py3.7-macosx-10.9-x86_64.egg/skimage/restoration/__init__.py\u001b[0m in \u001b[0;36m<module>\u001b[0;34m\u001b[0m\n\u001b[1;32m      5\u001b[0m \u001b[0;32mfrom\u001b[0m \u001b[0;34m.\u001b[0m\u001b[0mdeconvolution\u001b[0m \u001b[0;32mimport\u001b[0m \u001b[0mwiener\u001b[0m\u001b[0;34m,\u001b[0m \u001b[0munsupervised_wiener\u001b[0m\u001b[0;34m,\u001b[0m \u001b[0mrichardson_lucy\u001b[0m\u001b[0;34m\u001b[0m\u001b[0;34m\u001b[0m\u001b[0m\n\u001b[1;32m      6\u001b[0m \u001b[0;32mfrom\u001b[0m \u001b[0;34m.\u001b[0m\u001b[0munwrap\u001b[0m \u001b[0;32mimport\u001b[0m \u001b[0munwrap_phase\u001b[0m\u001b[0;34m\u001b[0m\u001b[0;34m\u001b[0m\u001b[0m\n\u001b[0;32m----> 7\u001b[0;31m from ._denoise import (denoise_tv_chambolle, denoise_tv_bregman,\n\u001b[0m\u001b[1;32m      8\u001b[0m                        denoise_bilateral, denoise_wavelet, estimate_sigma)\n\u001b[1;32m      9\u001b[0m \u001b[0;32mfrom\u001b[0m \u001b[0;34m.\u001b[0m\u001b[0m_cycle_spin\u001b[0m \u001b[0;32mimport\u001b[0m \u001b[0mcycle_spin\u001b[0m\u001b[0;34m\u001b[0m\u001b[0;34m\u001b[0m\u001b[0m\n",
      "\u001b[0;32m~/Dropbox (Allen Institute)/Mesoscale Connectome Papers in Progress/2019 DMN/_new_figures/jupyter_notebooks/env/lib/python3.7/site-packages/scikit_image-0.16.2-py3.7-macosx-10.9-x86_64.egg/skimage/restoration/_denoise.py\u001b[0m in \u001b[0;36m<module>\u001b[0;34m\u001b[0m\n\u001b[1;32m      5\u001b[0m \u001b[0;32mfrom\u001b[0m \u001b[0;34m.\u001b[0m\u001b[0m_denoise_cy\u001b[0m \u001b[0;32mimport\u001b[0m \u001b[0m_denoise_bilateral\u001b[0m\u001b[0;34m,\u001b[0m \u001b[0m_denoise_tv_bregman\u001b[0m\u001b[0;34m\u001b[0m\u001b[0;34m\u001b[0m\u001b[0m\n\u001b[1;32m      6\u001b[0m \u001b[0;32mfrom\u001b[0m \u001b[0;34m.\u001b[0m\u001b[0;34m.\u001b[0m\u001b[0m_shared\u001b[0m\u001b[0;34m.\u001b[0m\u001b[0mutils\u001b[0m \u001b[0;32mimport\u001b[0m \u001b[0mwarn\u001b[0m\u001b[0;34m\u001b[0m\u001b[0;34m\u001b[0m\u001b[0m\n\u001b[0;32m----> 7\u001b[0;31m \u001b[0;32mimport\u001b[0m \u001b[0mpywt\u001b[0m\u001b[0;34m\u001b[0m\u001b[0;34m\u001b[0m\u001b[0m\n\u001b[0m\u001b[1;32m      8\u001b[0m \u001b[0;32mimport\u001b[0m \u001b[0mskimage\u001b[0m\u001b[0;34m.\u001b[0m\u001b[0mcolor\u001b[0m \u001b[0;32mas\u001b[0m \u001b[0mcolor\u001b[0m\u001b[0;34m\u001b[0m\u001b[0;34m\u001b[0m\u001b[0m\n\u001b[1;32m      9\u001b[0m \u001b[0;32mfrom\u001b[0m \u001b[0mskimage\u001b[0m\u001b[0;34m.\u001b[0m\u001b[0mcolor\u001b[0m\u001b[0;34m.\u001b[0m\u001b[0mcolorconv\u001b[0m \u001b[0;32mimport\u001b[0m \u001b[0mycbcr_from_rgb\u001b[0m\u001b[0;34m\u001b[0m\u001b[0;34m\u001b[0m\u001b[0m\n",
      "\u001b[0;31mModuleNotFoundError\u001b[0m: No module named 'pywt'"
     ]
    }
   ],
   "source": [
    "import matplotlib.pyplot as plt\n",
    "%matplotlib inline\n",
    "import numpy as np\n",
    "import os\n",
    "import pandas as pd\n",
    "import numpy as np\n",
    "\n",
    "import statsmodels.api as sm\n",
    "import skimage\n",
    "import skimage.feature\n",
    "\n",
    "import seaborn as sns\n",
    "sns.set_context('paper')\n",
    "sns.set_style('white')\n",
    "\n",
    "import matplotlib as mpl\n",
    "mpl.rcParams['pdf.fonttype'] = 42"
   ]
  },
  {
   "cell_type": "code",
   "execution_count": 3,
   "metadata": {},
   "outputs": [],
   "source": [
    "import platform\n",
    "if platform.system() == 'Windows':\n",
    "    basepath = r'C:\\Users\\jenniferwh\\Dropbox (Allen Institute)\\Mesoscale Connectome Papers in Progress/2019 DMN'\n",
    "elif platform.system() == 'Darwin':\n",
    "    basepath = r'/Users/jenniferwh/Dropbox (Allen Institute)/Mesoscale Connectome Papers in Progress/2019 DMN'\n",
    "path = os.path.join(basepath, '_new_figures', 'Figure_2')\n",
    "maskpath = os.path.join(basepath, 'fMRI_masks')"
   ]
  },
  {
   "cell_type": "code",
   "execution_count": 4,
   "metadata": {},
   "outputs": [],
   "source": [
    "import nrrd\n",
    "both_dmn_masks, _ = nrrd.read(os.path.join(maskpath, 'dmn_mask_and_core.nrrd'))\n",
    "dmn_mask = np.zeros(both_dmn_masks.shape)\n",
    "dmn_mask[np.where(both_dmn_masks > 0)] = 1\n",
    "core_mask = np.zeros(both_dmn_masks.shape)\n",
    "core_mask[np.where(both_dmn_masks == 2)] = 1"
   ]
  },
  {
   "cell_type": "code",
   "execution_count": 5,
   "metadata": {},
   "outputs": [
    {
     "data": {
      "text/plain": [
       "<matplotlib.image.AxesImage at 0x12b306650>"
      ]
     },
     "execution_count": 5,
     "metadata": {},
     "output_type": "execute_result"
    },
    {
     "data": {
      "image/png": "[encoded data removed]",
      "text/plain": [
       "<Figure size 1080x360 with 3 Axes>"
      ]
     },
     "metadata": {},
     "output_type": "display_data"
    }
   ],
   "source": [
    "fig, ax = plt.subplots(1, 3, figsize = (15, 5))\n",
    "ax[0].imshow(both_dmn_masks[50])\n",
    "ax[1].imshow(dmn_mask[50])\n",
    "ax[2].imshow(core_mask[50])"
   ]
  },
  {
   "cell_type": "markdown",
   "metadata": {},
   "source": [
    "## Figure 2a"
   ]
  },
  {
   "cell_type": "code",
   "execution_count": 6,
   "metadata": {},
   "outputs": [],
   "source": [
    "import scipy.ndimage\n",
    "def get_mask(axis):\n",
    "    mask, _ = nrrd.read(os.path.join(maskpath, \n",
    "                                     'all ICA components and masks zscore 1',\n",
    "                                     'ica_all_05_icasso_iter_1000_comp_1_mask_z_1_allen_masked_sym_thresh_2.nrrd'))\n",
    "    mask1 = make_mask(mask, axis)\n",
    "    return mask1\n",
    "\n",
    "def get_core_mask(axis):\n",
    "    mask1 = make_mask(mask, axis)\n",
    "    return mask1\n",
    "\n",
    "def make_mask(mask, axis):\n",
    "    mask = scipy.ndimage.filters.gaussian_filter(mask, 1, order = 0)\n",
    "    mask = scipy.ndimage.zoom(mask, 4, order=2)\n",
    "    if axis == 'horizontal':\n",
    "        mask = mask.max(axis = 1)\n",
    "    elif axis == 'sagittal':\n",
    "        mask = mask[:,:,228:]\n",
    "        mask = mask.max(axis = 2)\n",
    "    elif axis == 'section':\n",
    "        mask[np.where(mask < -0.1)] = np.nan\n",
    "        \n",
    "    return mask"
   ]
  },
  {
   "cell_type": "code",
   "execution_count": 7,
   "metadata": {},
   "outputs": [],
   "source": [
    "from allensdk.core.mouse_connectivity_cache import MouseConnectivityCache\n",
    "mcc = MouseConnectivityCache(manifest_file='../connectivity/mouse_connectivity_manifest.json',\n",
    "                            resolution=25) #Use 25 for images, 100 for calculations\n",
    "template, _ = mcc.get_template_volume()"
   ]
  },
  {
   "cell_type": "code",
   "execution_count": 8,
   "metadata": {},
   "outputs": [],
   "source": [
    "ctx_glm_dat = pd.read_csv(os.path.join(basepath, \n",
    "                                       'data_files',\n",
    "                                       'wt_cre_ctx_injections_DMN_and_core_projections_coefficients.csv'))\n",
    "ctx_coord_dat = pd.read_csv(os.path.join(basepath, \n",
    "                                         'data_files',\n",
    "                                         'cortical_flatmap_coordinates.csv'))"
   ]
  },
  {
   "cell_type": "code",
   "execution_count": 9,
   "metadata": {},
   "outputs": [
    {
     "name": "stdout",
     "output_type": "stream",
     "text": [
      "316\n"
     ]
    }
   ],
   "source": [
    "structure_tree = mcc.get_structure_tree()\n",
    "summary_structures = structure_tree.get_structures_by_set_id([167587189])\n",
    "summary_structure_ids = [item['id'] for item in summary_structures]\n",
    "print(len(summary_structure_ids))"
   ]
  },
  {
   "cell_type": "code",
   "execution_count": 10,
   "metadata": {},
   "outputs": [],
   "source": [
    "mcc = MouseConnectivityCache(manifest_file='../connectivity/mouse_connectivity_manifest.json',\n",
    "                            resolution=10)"
   ]
  },
  {
   "cell_type": "code",
   "execution_count": 11,
   "metadata": {},
   "outputs": [
    {
     "name": "stdout",
     "output_type": "stream",
     "text": [
      "129\n"
     ]
    }
   ],
   "source": [
    "iso = structure_tree.get_structures_by_acronym(['Isocortex'])[0] # get a 100 um isocortex mask\n",
    "ctx_exps = pd.DataFrame(mcc.get_experiments(cre=False, \n",
    "                                       injection_structure_ids=[iso['id']]))\n",
    "print(len(ctx_exps))"
   ]
  },
  {
   "cell_type": "code",
   "execution_count": 12,
   "metadata": {},
   "outputs": [
    {
     "name": "stdout",
     "output_type": "stream",
     "text": [
      "300\n"
     ]
    }
   ],
   "source": [
    "cre_experiments = pd.DataFrame(mcc.get_experiments(cre=['Emx1-IRES-Cre','Rbp4-Cre_KL100'],\n",
    "                                      injection_structure_ids = [iso['id']]))\n",
    "ctx_exps = pd.concat([ctx_exps, cre_experiments])\n",
    "\n",
    "'''fail_expts = [114008926, 120280939, 180073473, 180403712, 180601025, 183174303, 183329222,\n",
    "              249396394, 296047806, 299446445, 301060890, 303784745, 480069939, 482578964, \n",
    "              506947040, 514333422, 525796603, 545428296, 559878074, 638314843, 182888003,\n",
    "             304585910, 183171679, 272930013, 523718075, 517072832, 148964212, 304762965,\n",
    "             566992832, 272930013, 304762965, 266250904, 114399224, 286483411, 286417464,\n",
    "             593277684, 546103149, 642809043, 286483411, 304564721] #VISp outlier excluded\n",
    "\n",
    "ctx_exps = ctx_exps[~ctx_exps['id'].isin(fail_expts)]\n",
    "'''\n",
    "print(len(ctx_exps))"
   ]
  },
  {
   "cell_type": "code",
   "execution_count": 13,
   "metadata": {},
   "outputs": [],
   "source": [
    "ia_map = structure_tree.get_id_acronym_map()\n",
    "ai_map = {value: key for key, value in ia_map.items()}"
   ]
  },
  {
   "cell_type": "code",
   "execution_count": 14,
   "metadata": {},
   "outputs": [],
   "source": [
    "ctx_exps = ctx_exps.merge(ctx_glm_dat[['id', 'injection dmn fraction', \n",
    "                                       'projection dmn fraction',\n",
    "                                      'DMN coefficient']], on = 'id',\n",
    "                         how = 'left')\n",
    "\n",
    "ctx_exps = ctx_exps.merge(ctx_coord_dat[['id', \n",
    "                                         'top_x', \n",
    "                                       'top_y']], on = 'id',\n",
    "                         how = 'left')\n",
    "ctx_exps['percent_dmn'] = ctx_exps['projection dmn fraction']*100\n",
    "ctx_exps['injection_percent_dmn'] = ctx_exps['injection dmn fraction']*100\n",
    "ctx_exps.rename(columns = {'DMN coefficient': 'DMN_coefficient'}, inplace = True)"
   ]
  },
  {
   "cell_type": "code",
   "execution_count": 15,
   "metadata": {},
   "outputs": [
    {
     "data": {
      "text/plain": [
       "300"
      ]
     },
     "execution_count": 15,
     "metadata": {},
     "output_type": "execute_result"
    }
   ],
   "source": [
    "len(ctx_exps)"
   ]
  },
  {
   "cell_type": "markdown",
   "metadata": {},
   "source": [
    "## Plot wild type cortical injections on top down cortex view"
   ]
  },
  {
   "cell_type": "code",
   "execution_count": 16,
   "metadata": {},
   "outputs": [],
   "source": [
    "import imageio\n",
    "imb = imageio.imread(os.path.join(path, 'DMN_cortical_projection_boundaries.png'))\n",
    "imm = imageio.imread(os.path.join(path, 'CorticalProjectionsSurfaceMapModules.png'))"
   ]
  },
  {
   "cell_type": "code",
   "execution_count": 17,
   "metadata": {},
   "outputs": [
    {
     "data": {
      "text/plain": [
       "95.36984298680056"
      ]
     },
     "execution_count": 17,
     "metadata": {},
     "output_type": "execute_result"
    }
   ],
   "source": [
    "ctx_exps['percent_dmn'].max()"
   ]
  },
  {
   "cell_type": "code",
   "execution_count": 18,
   "metadata": {},
   "outputs": [
    {
     "data": {
      "image/png": "[encoded data removed]",
      "text/plain": [
       "<Figure size 180x180 with 2 Axes>"
      ]
     },
     "metadata": {},
     "output_type": "display_data"
    }
   ],
   "source": [
    "fig,ax = plt.subplots(1,1)\n",
    "ax.imshow(imb)\n",
    "cax = ax.scatter(ctx_exps.top_x,\n",
    "           ctx_exps.top_y,\n",
    "           c = ctx_exps['injection dmn fraction'],\n",
    "           edgecolor = 'k',\n",
    "           s = ctx_exps.injection_volume.values*100,\n",
    "           cmap = 'hot')\n",
    "\n",
    "cbar = plt.colorbar(cax, ax = ax, orientation='vertical', \n",
    "                    fraction=0.032, \n",
    "                    pad=-0.01)\n",
    "cbar_ax = fig.axes[-1]\n",
    "cbar.solids.set_rasterized(True)\n",
    "cbar.solids.set_edgecolor(\"face\")\n",
    "cbar.set_alpha(1)\n",
    "cbar.draw_all()\n",
    "ax.set_aspect('equal')\n",
    "plt.axis('off')\n",
    "fig.set_size_inches(2.5,2.5)\n",
    "plt.savefig(os.path.join(path, 'wt_injections_on_DMN_ctx_injection_fraction.pdf'), \n",
    "            bbox_inches='tight', pad_inches=0.3, format='pdf', transparent=True, dpi=300)"
   ]
  },
  {
   "cell_type": "code",
   "execution_count": 19,
   "metadata": {},
   "outputs": [
    {
     "data": {
      "image/png": "[encoded data removed]",
      "text/plain": [
       "<Figure size 180x180 with 2 Axes>"
      ]
     },
     "metadata": {},
     "output_type": "display_data"
    }
   ],
   "source": [
    "fig,ax = plt.subplots(1,1)\n",
    "ax.imshow(imb)\n",
    "cax = ax.scatter(ctx_exps.top_x,\n",
    "           ctx_exps.top_y,\n",
    "           c = ctx_exps['projection dmn fraction'],\n",
    "           edgecolor = 'k',\n",
    "           s = 25,\n",
    "           cmap = 'hot')\n",
    "cbar = plt.colorbar(cax, ax = ax, orientation='vertical', \n",
    "                    fraction=0.033, \n",
    "                    pad=0.01)\n",
    "\n",
    "cbar.solids.set_rasterized(True)\n",
    "cbar.solids.set_edgecolor(\"face\")\n",
    "cbar.set_alpha(1)\n",
    "cbar.draw_all()\n",
    "ax.set_aspect('equal')\n",
    "plt.axis('off')\n",
    "fig.set_size_inches(2.5,2.5)\n",
    "plt.savefig(os.path.join(path, 'wt_injections_on_DMN_ctx_DMN_fraction.pdf'), \n",
    "            bbox_inches='tight', pad_inches=0.3, format='pdf', transparent=True, dpi=300)"
   ]
  },
  {
   "cell_type": "code",
   "execution_count": 20,
   "metadata": {},
   "outputs": [
    {
     "name": "stdout",
     "output_type": "stream",
     "text": [
      "-0.5869309856090605\n",
      "0.3920405971066395\n"
     ]
    }
   ],
   "source": [
    "print(ctx_exps['DMN_coefficient'].min())\n",
    "print(ctx_exps['DMN_coefficient'].max())"
   ]
  },
  {
   "cell_type": "code",
   "execution_count": 21,
   "metadata": {},
   "outputs": [
    {
     "data": {
      "image/png": "[encoded data removed]",
      "text/plain": [
       "<Figure size 180x180 with 2 Axes>"
      ]
     },
     "metadata": {},
     "output_type": "display_data"
    }
   ],
   "source": [
    "fig,ax = plt.subplots(1,1)\n",
    "ax.imshow(imb)\n",
    "ctx_exps['sorter'] = ctx_exps.injection_z.abs()\n",
    "ctx_exps.sort_values(by='sorter', inplace = True, ascending = False)\n",
    "cax = ax.scatter(ctx_exps.top_x,\n",
    "           ctx_exps.top_y,\n",
    "           c = ctx_exps['DMN_coefficient'],\n",
    "           edgecolor = 'k',\n",
    "           s = 25,\n",
    "           cmap = 'bwr',\n",
    "                 vmax = 0.6,\n",
    "                 vmin = -0.6)\n",
    "# put ORBl, AId, AIv on top\n",
    "cax = ax.scatter(ctx_exps[ctx_exps['id'].isin(\n",
    "    [180709230, 166153483, 296048512, 272737914, 112596790,\n",
    "    521600943, 540145406, 518606617, 657334568, 272929308, 524874308])].top_x, #ORBl, AIv, AId, AId\n",
    "           ctx_exps[ctx_exps['id'].isin(\n",
    "    [180709230, 166153483, 296048512, 272737914, 112596790,\n",
    "    521600943, 540145406, 518606617, 657334568, 272929308, 524874308])].top_y,\n",
    "           c = ctx_exps[ctx_exps['id'].isin(\n",
    "    [180709230, 166153483, 296048512, 272737914, 112596790,\n",
    "    521600943, 540145406, 518606617, 657334568, 272929308, 524874308])]['DMN_coefficient'],\n",
    "           edgecolor = 'k',\n",
    "           s = 25,\n",
    "           cmap = 'bwr',\n",
    "                 vmax = 0.6,\n",
    "                 vmin = -0.6,\n",
    "                zorder = 1)\n",
    "cbar = plt.colorbar(cax, ax = ax, orientation='vertical', \n",
    "                    fraction=0.033, ticks = [-0.6, -0.3, 0, 0.3, 0.6],\n",
    "                    pad=0.01)\n",
    "\n",
    "cbar.solids.set_rasterized(True)\n",
    "cbar.solids.set_edgecolor(\"face\")\n",
    "cbar.set_alpha(1)\n",
    "cbar.draw_all()\n",
    "ax.set_aspect('equal')\n",
    "plt.axis('off')\n",
    "fig.set_size_inches(2.5,2.5)\n",
    "fig_s2_path = r'/Users/jenniferwh/Dropbox (Allen Institute)/Mesoscale Connectome Papers in Progress/2019 DMN/_new_figures/Figure_S2'\n",
    "plt.savefig(os.path.join(fig_s2_path, 'wt_injections_on_DMN_ctx_DMN_coefficient.pdf'), \n",
    "            bbox_inches='tight', pad_inches=0.3, format='pdf', transparent=True, dpi=300)"
   ]
  },
  {
   "cell_type": "code",
   "execution_count": 22,
   "metadata": {},
   "outputs": [
    {
     "data": {
      "text/plain": [
       "1"
      ]
     },
     "execution_count": 22,
     "metadata": {},
     "output_type": "execute_result"
    }
   ],
   "source": [
    "len([ctx_exps['DMN_coefficient']==0])"
   ]
  },
  {
   "cell_type": "code",
   "execution_count": 23,
   "metadata": {},
   "outputs": [
    {
     "data": {
      "text/plain": [
       "(-0.5, 1139.5, 1319.5, -0.5)"
      ]
     },
     "execution_count": 23,
     "metadata": {},
     "output_type": "execute_result"
    },
    {
     "data": {
      "image/png": "[encoded data removed]",
      "text/plain": [
       "<Figure size 432x288 with 2 Axes>"
      ]
     },
     "metadata": {},
     "output_type": "display_data"
    }
   ],
   "source": [
    "fig,ax = plt.subplots(1,1)\n",
    "ax.imshow(imb)\n",
    "cax = ax.scatter(ctx_exps[ctx_exps['id'].isin(\n",
    "    [180709230, 166153483, 296048512, 272737914, 112596790])].top_x, #ORBl, AIv, AId, AId\n",
    "           ctx_exps[ctx_exps['id'].isin(\n",
    "    [180709230, 166153483, 296048512, 272737914, 112596790])].top_y,\n",
    "           c = ctx_exps[ctx_exps['id'].isin(\n",
    "    [180709230, 166153483, 296048512, 272737914, 112596790])]['DMN_coefficient'],\n",
    "           edgecolor = 'k',\n",
    "           s = 25,\n",
    "           cmap = 'bwr',\n",
    "                 vmax = 0.06,\n",
    "                 vmin = -0.06)\n",
    "\n",
    "cbar = plt.colorbar(cax, ax = ax, orientation='vertical', \n",
    "                    fraction=0.033, ticks = [-0.05, 0, 0.05],\n",
    "                    pad=0.01)\n",
    "cbar_ax = fig.axes[-1]\n",
    "cbar.solids.set_rasterized(True)\n",
    "cbar.solids.set_edgecolor(\"face\")\n",
    "cbar.set_alpha(1)\n",
    "cbar.draw_all()\n",
    "cbar.ax.tick_params(labelsize=8) \n",
    "ax.set_aspect('equal')\n",
    "plt.axis('off')"
   ]
  },
  {
   "cell_type": "code",
   "execution_count": 24,
   "metadata": {},
   "outputs": [
    {
     "data": {
      "text/plain": [
       "(-0.5, 1139.5, 1319.5, -0.5)"
      ]
     },
     "execution_count": 24,
     "metadata": {},
     "output_type": "execute_result"
    },
    {
     "data": {
      "image/png": "[encoded data removed]",
      "text/plain": [
       "<Figure size 432x288 with 2 Axes>"
      ]
     },
     "metadata": {},
     "output_type": "display_data"
    }
   ],
   "source": [
    "fig,ax = plt.subplots(1,1)\n",
    "ax.imshow(imb)\n",
    "cax = ax.scatter(ctx_exps[ctx_exps['id'].isin(\n",
    "    [521600943, 540145406, 518606617, 657334568, 272929308, 524874308])].top_x, #VISrl\n",
    "           ctx_exps[ctx_exps['id'].isin(\n",
    "    [521600943, 540145406, 518606617, 657334568, 272929308, 524874308])].top_y,\n",
    "           c = ctx_exps[ctx_exps['id'].isin(\n",
    "    [521600943, 540145406, 518606617, 657334568, 272929308, 524874308])]['DMN_coefficient'],\n",
    "           edgecolor = 'k',\n",
    "           s = 25,\n",
    "           cmap = 'bwr',\n",
    "                 vmax = 0.06,\n",
    "                 vmin = -0.06)\n",
    "\n",
    "cbar = plt.colorbar(cax, ax = ax, orientation='vertical', \n",
    "                    fraction=0.033, ticks = [-0.05, 0, 0.05],\n",
    "                    pad=0.01)\n",
    "cbar_ax = fig.axes[-1]\n",
    "cbar.solids.set_rasterized(True)\n",
    "cbar.solids.set_edgecolor(\"face\")\n",
    "cbar.set_alpha(1)\n",
    "cbar.draw_all()\n",
    "cbar.ax.tick_params(labelsize=8) \n",
    "ax.set_aspect('equal')\n",
    "plt.axis('off')"
   ]
  },
  {
   "cell_type": "code",
   "execution_count": 25,
   "metadata": {},
   "outputs": [
    {
     "data": {
      "text/plain": [
       "224    0.068051\n",
       "220    0.117226\n",
       "266    0.075409\n",
       "175    0.105683\n",
       "145    0.098807\n",
       "197    0.075735\n",
       "Name: DMN_coefficient, dtype: float64"
      ]
     },
     "execution_count": 25,
     "metadata": {},
     "output_type": "execute_result"
    }
   ],
   "source": [
    "ctx_exps[ctx_exps['structure_abbrev'] == 'VISrl']['DMN_coefficient']"
   ]
  },
  {
   "cell_type": "code",
   "execution_count": 26,
   "metadata": {},
   "outputs": [
    {
     "name": "stdout",
     "output_type": "stream",
     "text": [
      "0\n"
     ]
    }
   ],
   "source": [
    "ctx_exps.loc[ctx_exps['structure_abbrev'].isin(['ACAd', 'ACAv', 'ORBl','ORBm', 'ORBvl', \n",
    "                                                'ILA', 'PL', 'FRP']), 'module'] = 'Prefrontal'\n",
    "ctx_exps.loc[ctx_exps['structure_abbrev'].isin(['VISam', 'RSPagl', 'RSPv', 'VISpm',\n",
    "                                                'VISa', 'RSPd']), 'module'] = 'Medial'\n",
    "ctx_exps.loc[ctx_exps['structure_abbrev'].isin(['SSp-tr', 'SSp-ll', 'SSp-bfd', 'SSp-un',\n",
    "                                                'SSp-ul', 'MOs', 'MOp', 'SSs', 'SSp-n',\n",
    "                                                'SSp-m']), 'module'] = 'Somatomotor'\n",
    "ctx_exps.loc[ctx_exps['structure_abbrev'].isin(['VISal', 'VISl', 'VISli', 'VISp', 'VISpl',\n",
    "                                                'VISpor', 'VISrl']), 'module'] = 'Visual'\n",
    "ctx_exps.loc[ctx_exps['structure_abbrev'].isin(['AUDpo', 'AUDd', 'AUDp', 'AUDv']), \n",
    "                'module'] = 'Auditory'\n",
    "ctx_exps.loc[ctx_exps['structure_abbrev'].isin(['TEa', 'PERI', 'ECT', 'GU', 'AId', 'AIv',\n",
    "                                                'AIp', 'VISC']), 'module'] = 'Lateral'\n",
    "print(len(ctx_exps[ctx_exps['module'].isnull()]))"
   ]
  },
  {
   "cell_type": "code",
   "execution_count": 27,
   "metadata": {},
   "outputs": [],
   "source": [
    "module_colors = {'Prefrontal': '#ff0000', 'Medial': '#5252a9', 'Somatomotor': '#f9922b', \n",
    "                 'Lateral': '#ffff66', 'Visual': '#90bff9', 'Auditory': '#7c429b'}"
   ]
  },
  {
   "cell_type": "code",
   "execution_count": 28,
   "metadata": {},
   "outputs": [
    {
     "data": {
      "image/png": "[encoded data removed]",
      "text/plain": [
       "<Figure size 216x216 with 1 Axes>"
      ]
     },
     "metadata": {},
     "output_type": "display_data"
    }
   ],
   "source": [
    "ctx_exps.sort_values(by='injection_y', ascending = False, inplace = True)\n",
    "fig,ax = plt.subplots(1,1)\n",
    "ax.imshow(imm)\n",
    "for module in ctx_exps['module'].unique():\n",
    "    cax = ax.scatter(ctx_exps[ctx_exps['module'] == module].top_x,\n",
    "               ctx_exps[ctx_exps['module'] == module].top_y,\n",
    "               c = module_colors[module],\n",
    "               edgecolor = 'k',\n",
    "               s = ctx_exps[ctx_exps['module'] == module].injection_volume.values*50)\n",
    "ax.set_aspect('equal')\n",
    "plt.axis('off')\n",
    "fig.set_size_inches(3,3)\n",
    "plt.savefig(os.path.join(path, 'wt_injections_on_DMN_ctx_with_boundaries_module_colors.pdf'), \n",
    "            bbox_inches='tight', pad_inches=0.3, format='pdf', transparent=True, dpi=300)"
   ]
  },
  {
   "cell_type": "markdown",
   "metadata": {},
   "source": [
    "# Individual sections with DMN overlap on template brain"
   ]
  },
  {
   "cell_type": "code",
   "execution_count": 29,
   "metadata": {
    "scrolled": false
   },
   "outputs": [],
   "source": [
    "import colormap\n",
    "c = colormap.Colormap()\n",
    "all_green_cmap = c.cmap_linear('green', 'green', 'green')\n",
    "green_cmap = c.cmap_linear('black', 'green', 'lightgreen')\n",
    "orangered_cmap = c.cmap_linear('black', 'red', 'orangered')\n",
    "red_cmap = c.cmap_linear('black', 'darkred', 'orangered')\n",
    "light_red_cmap = c.cmap_linear('black', 'crimson', 'white')\n",
    "white_cmap = c.cmap_linear('black','white', 'white')\n",
    "gray_cmap = c.cmap_linear('black', 'black', 'LightGray')\n",
    "dark_cmap = c.cmap_linear('black', 'black', 'dimgray')"
   ]
  },
  {
   "cell_type": "code",
   "execution_count": 30,
   "metadata": {},
   "outputs": [],
   "source": [
    "mcc = MouseConnectivityCache(manifest_file='../connectivity/mouse_connectivity_manifest.json',\n",
    "                            resolution=25)\n",
    "iso_mask = mcc.get_structure_mask(iso['id'])[0]"
   ]
  },
  {
   "cell_type": "code",
   "execution_count": 31,
   "metadata": {},
   "outputs": [],
   "source": [
    "image_mask = make_mask(dmn_mask, 'section')\n",
    "core_mask = make_mask(core_mask, 'section')"
   ]
  },
  {
   "cell_type": "code",
   "execution_count": 32,
   "metadata": {},
   "outputs": [
    {
     "data": {
      "image/png": "[encoded data removed]",
      "text/plain": [
       "<Figure size 432x288 with 1 Axes>"
      ]
     },
     "metadata": {},
     "output_type": "display_data"
    }
   ],
   "source": [
    "from matplotlib import cm\n",
    "edges = skimage.feature.canny(\n",
    "    image=iso_mask[100],\n",
    "    sigma=0.05,\n",
    "    low_threshold=0,\n",
    "    high_threshold=1,\n",
    ")\n",
    "# Any value whose absolute value is > .0001 will have zero transparency\n",
    "xmin = 0\n",
    "xmax = 1\n",
    "ymin = 0\n",
    "ymax = 1\n",
    "alphas = cm.colors.Normalize(0, .3, clip=True)(np.abs(edges))\n",
    "alphas = np.clip(alphas, .4, 1)  # alpha value clipped at the bottom at .4\n",
    "\n",
    "# Normalize the colors b/w 0 and 1, we'll then pass an MxNx4 array to imshow\n",
    "colors = cm.colors.Normalize(0, 1)(edges)\n",
    "cmap = plt.cm.gray\n",
    "colors = cmap(colors)\n",
    "\n",
    "# Now set the alpha channel to the one we created above\n",
    "colors[..., -1] = alphas\n",
    "\n",
    "# Create the figure and image\n",
    "# Note that the absolute values may be slightly different\n",
    "fig, ax = plt.subplots()\n",
    "ax.imshow(edges, extent=(xmin, xmax, ymin, ymax))\n",
    "ax.imshow(colors)\n",
    "\n",
    "# Add contour lines to further highlight different levels.\n",
    "ax.contour(edges, levels=[-.1, .1], colors='k', linestyles='-')\n",
    "ax.set_axis_off()\n",
    "plt.show()\n",
    "\n",
    "ax.contour(edges, levels=[-.0001, .0001], colors='k', linestyles='-')\n",
    "ax.set_axis_off()\n",
    "plt.show()"
   ]
  },
  {
   "cell_type": "code",
   "execution_count": 33,
   "metadata": {},
   "outputs": [
    {
     "data": {
      "image/png": "[encoded data removed]",
      "text/plain": [
       "<Figure size 288x288 with 1 Axes>"
      ]
     },
     "metadata": {},
     "output_type": "display_data"
    }
   ],
   "source": [
    "maxi = 180\n",
    "edges = skimage.feature.canny(\n",
    "    image=iso_mask[maxi],\n",
    "    sigma=0.05,\n",
    "    low_threshold=0,\n",
    "    high_threshold=1,\n",
    ")\n",
    "xmin = 0.5\n",
    "xmax = 1\n",
    "ymin = 0.5\n",
    "ymax = 1\n",
    "fig, ax = plt.subplots(1,1, figsize=(4,4))\n",
    "ax.imshow(image_mask[maxi], cmap = white_cmap, alpha = 0.8)\n",
    "ax.imshow(core_mask[maxi], cmap = gray_cmap, alpha = 0.4)\n",
    "ax.imshow(template[maxi], cmap='gray', interpolation = 'none', alpha = 0.6)\n",
    "ax.imshow(edges, extent=(xmin, xmax, ymin, ymax))\n",
    "ax.imshow(colors)\n",
    "# Add contour lines to further highlight different levels.\n",
    "ax.contour(edges, levels=[-.1, .1], colors='k', linestyles='-')\n",
    "ax.contour(edges, levels=[-.0001, .0001], colors='k', linestyles='-')\n",
    "\n",
    "ax.get_xaxis().set_visible(False)\n",
    "ax.get_yaxis().set_visible(False)\n",
    "filename = os.path.join(path, 'DMN mask on template section '+str(maxi)+'.pdf')\n",
    "#plt.savefig(filename, dpi=300, bbox_inches='tight')"
   ]
  },
  {
   "cell_type": "code",
   "execution_count": 34,
   "metadata": {},
   "outputs": [],
   "source": [
    "isid = 141603190 #MOs2 585025284 #MOs 100141219 #VISp 112458114 #ACAd 584903636 \n",
    "inj_den, _ = mcc.get_injection_density(isid)\n",
    "proj_den, _ = mcc.get_projection_density(isid)\n",
    "data_mask, _ = mcc.get_data_mask(isid)"
   ]
  },
  {
   "cell_type": "code",
   "execution_count": 35,
   "metadata": {},
   "outputs": [
    {
     "name": "stdout",
     "output_type": "stream",
     "text": [
      "167\n"
     ]
    }
   ],
   "source": [
    "# Injection\n",
    "density = np.copy(inj_den)\n",
    "invalid = np.logical_not(data_mask)\n",
    "density[invalid] = 0\n",
    "max_signal = []\n",
    "for ix in np.unique(np.nonzero(density)):\n",
    "    max_signal.append([ix, np.count_nonzero(density[ix])])\n",
    "    if max_signal != []:\n",
    "        maxi = []\n",
    "        maxs = 0\n",
    "        for ij in max_signal:\n",
    "            if ij[1] > maxs:\n",
    "                maxs = ij[1]\n",
    "                maxi = ij[0]\n",
    "print(maxi)"
   ]
  },
  {
   "cell_type": "code",
   "execution_count": 36,
   "metadata": {},
   "outputs": [],
   "source": [
    "density[density < 0.01] = np.nan"
   ]
  },
  {
   "cell_type": "code",
   "execution_count": 37,
   "metadata": {},
   "outputs": [
    {
     "data": {
      "image/png": "[encoded data removed]",
      "text/plain": [
       "<Figure size 360x360 with 1 Axes>"
      ]
     },
     "metadata": {},
     "output_type": "display_data"
    }
   ],
   "source": [
    "#maxi = 145 #MOp\n",
    "edges = skimage.feature.canny(\n",
    "    image=iso_mask[maxi],\n",
    "    sigma=0.05,\n",
    "    low_threshold=0,\n",
    "    high_threshold=1,\n",
    ")\n",
    "fig, ax = plt.subplots(1,1, figsize=(5,5))\n",
    "#image_mask = get_mask('section')\n",
    "#ax.imshow(template[maxi], cmap='gray', interpolation = 'none')\n",
    "ax.imshow(image_mask[maxi], cmap = dark_cmap)\n",
    "#ax.imshow(core_mask[maxi], cmap = white_cmap, alpha = 0.6)\n",
    "#ax.contour(edges, levels=[-0.1, 0.5], colors='#70ff71')\n",
    "#ax.imshow(density[maxi], cmap = all_green_cmap)\n",
    "ax.get_xaxis().set_visible(False)\n",
    "ax.get_yaxis().set_visible(False)\n",
    "filename = os.path.join(path, 'MOs_'+'injection_'+str(isid)+'_'+str(maxi)+'DMN_mask'+'.pdf')\n",
    "#plt.savefig(filename, dpi=300, bbox_inches='tight')"
   ]
  },
  {
   "cell_type": "code",
   "execution_count": 38,
   "metadata": {},
   "outputs": [
    {
     "name": "stdout",
     "output_type": "stream",
     "text": [
      "265\n"
     ]
    }
   ],
   "source": [
    "# Projection\n",
    "density = np.copy(proj_den)\n",
    "invalid = np.logical_not(data_mask)\n",
    "density[invalid] = 0\n",
    "max_signal = []\n",
    "for ix in np.unique(np.nonzero(density)):\n",
    "    max_signal.append([ix, np.count_nonzero(density[ix])])\n",
    "    if max_signal != []:\n",
    "        maxi = []\n",
    "        maxs = 0\n",
    "        for ij in max_signal:\n",
    "            if ij[1] > maxs:\n",
    "                maxs = ij[1]\n",
    "                maxi = ij[0]\n",
    "print(maxi) "
   ]
  },
  {
   "cell_type": "code",
   "execution_count": 39,
   "metadata": {},
   "outputs": [
    {
     "data": {
      "text/plain": [
       "1.0"
      ]
     },
     "execution_count": 39,
     "metadata": {},
     "output_type": "execute_result"
    }
   ],
   "source": [
    "np.max(density[maxi])"
   ]
  },
  {
   "cell_type": "code",
   "execution_count": 40,
   "metadata": {},
   "outputs": [
    {
     "data": {
      "image/png": "[encoded data removed]",
      "text/plain": [
       "<Figure size 360x360 with 1 Axes>"
      ]
     },
     "metadata": {},
     "output_type": "display_data"
    }
   ],
   "source": [
    "#maxi = 340 #VISp #maxi = 300 #ACAd #\n",
    "# because it shows more of the DMN signal in the thalamus\n",
    "edges = skimage.feature.canny(\n",
    "    image=iso_mask[maxi],\n",
    "    sigma=0.05,\n",
    "    low_threshold=0,\n",
    "    high_threshold=0.5,\n",
    ")\n",
    "alphas = cm.colors.Normalize(clip=True)(density[maxi])\n",
    "alphas = np.clip(alphas, .5, 1)  # alpha value clipped at the bottom at .4\n",
    "\n",
    "# Normalize the colors b/w 0 and 1, we'll then pass an MxNx4 array to imshow\n",
    "vmin = 0\n",
    "vmax = 0.5\n",
    "colors = cm.colors.Normalize(vmin, vmax)(density[maxi])\n",
    "colors = green_cmap(colors)\n",
    "\n",
    "# Now set the alpha channel to the one we created above\n",
    "colors[..., -1] = alphas\n",
    "\n",
    "fig, ax = plt.subplots(1,1, figsize=(5,5))\n",
    "ax.imshow(image_mask[maxi], cmap = dark_cmap)\n",
    "#ax.imshow(template[maxi], cmap='gray', interpolation = 'none')\n",
    "#ax.imshow(density[maxi], cmap = green_cmap)\n",
    "#ax.imshow(core_mask[maxi], cmap = white_cmap, alpha = 0.5)\n",
    "# Add contour lines to further highlight different levels.\n",
    "ax.contour(edges, levels=[-0.1, 0.5], colors='#70ff71', linestyles = '-')\n",
    "#ax.imshow(colors)\n",
    "ax.get_xaxis().set_visible(False)\n",
    "ax.get_yaxis().set_visible(False)\n",
    "filename = os.path.join(path, 'MOs_'+'projection_'+str(isid)+'_'+str(maxi)+'DMN_mask'+'.pdf')\n",
    "#plt.savefig(filename, dpi=300, bbox_inches='tight')"
   ]
  },
  {
   "cell_type": "markdown",
   "metadata": {},
   "source": [
    "## plots"
   ]
  },
  {
   "cell_type": "code",
   "execution_count": 41,
   "metadata": {},
   "outputs": [
    {
     "data": {
      "image/png": "[encoded data removed]",
      "text/plain": [
       "<Figure size 108x108 with 1 Axes>"
      ]
     },
     "metadata": {},
     "output_type": "display_data"
    }
   ],
   "source": [
    "fig, ax = plt.subplots(figsize = (1.5, 1.5))\n",
    "sns.regplot(x = 'injection dmn fraction',\n",
    "            y = 'projection dmn fraction',\n",
    "            data = ctx_glm_dat,\n",
    "            ax = ax,\n",
    "            color = '#70ff71',\n",
    "            scatter_kws={'s':10,\n",
    "                        'edgecolor':'k',\n",
    "                        'linewidth':0.5},\n",
    "            line_kws={'color':'k',\n",
    "                     'linewidth':0.5},\n",
    "           label = 'DMN (z>1)')\n",
    "'''\n",
    "sns.regplot(x = 'inj_percent_core',\n",
    "            y = 'proj_percent_core',\n",
    "            data = ctx_glm_dat,\n",
    "            ax = ax,\n",
    "            color = 'k',\n",
    "            scatter_kws={'s':10},\n",
    "           label = 'Core (z>1.7)')\n",
    "           '''\n",
    "ax.set_ylabel('Projection DMN Fraction', fontsize = 8)\n",
    "ax.set_xlabel('Injection DMN Fraction', fontsize = 8)\n",
    "ax.axhline(y = 0.5, xmin=0, xmax=1, color = 'gray', linestyle = 'dashed',\n",
    "          linewidth = 0.5)\n",
    "ax.set_title('Isocortex Injections', fontsize = 10)\n",
    "sns.despine()\n",
    "ax.set_xlim([-0.05,1.05])\n",
    "ax.set_ylim([-0.05,1.05])\n",
    "ax.tick_params(top = False, right = False, left = True, bottom=True)\n",
    "plt.xticks([0, 0.5, 1.0], fontsize = 8)\n",
    "plt.yticks([0, 0.5, 1.0], fontsize = 8)\n",
    "ax.yaxis.labelpad = 0\n",
    "#everything on zorder -1 or lower will be rasterized\n",
    "ax.set_rasterization_zorder(0)\n",
    "\n",
    "plt.savefig(os.path.join(path, 'wt_injection_projection_DMN_fraction.pdf'), \n",
    "            bbox_inches='tight', transparent=True, dpi=300)"
   ]
  },
  {
   "cell_type": "code",
   "execution_count": 42,
   "metadata": {},
   "outputs": [
    {
     "name": "stderr",
     "output_type": "stream",
     "text": [
      "/Users/jenniferwh/Dropbox (Allen Institute)/Mesoscale Connectome Papers in Progress/2019 DMN/_new_figures/jupyter_notebooks/env/lib/python3.7/site-packages/numpy/core/fromnumeric.py:2495: FutureWarning: Method .ptp is deprecated and will be removed in a future version. Use numpy.ptp instead.\n",
      "  return ptp(axis=axis, out=out, **kwargs)\n"
     ]
    },
    {
     "name": "stdout",
     "output_type": "stream",
     "text": [
      "                               OLS Regression Results                              \n",
      "===================================================================================\n",
      "Dep. Variable:     projection dmn fraction   R-squared:                       0.881\n",
      "Model:                                 OLS   Adj. R-squared:                  0.880\n",
      "Method:                      Least Squares   F-statistic:                     2201.\n",
      "Date:                     Mon, 11 May 2020   Prob (F-statistic):          1.19e-139\n",
      "Time:                             18:23:55   Log-Likelihood:                 272.44\n",
      "No. Observations:                      300   AIC:                            -540.9\n",
      "Df Residuals:                          298   BIC:                            -533.5\n",
      "Df Model:                                1                                         \n",
      "Covariance Type:                 nonrobust                                         \n",
      "==========================================================================================\n",
      "                             coef    std err          t      P>|t|      [0.025      0.975]\n",
      "------------------------------------------------------------------------------------------\n",
      "const                      0.1677      0.008     22.295      0.000       0.153       0.183\n",
      "injection dmn fraction     0.6169      0.013     46.918      0.000       0.591       0.643\n",
      "==============================================================================\n",
      "Omnibus:                        6.247   Durbin-Watson:                   2.247\n",
      "Prob(Omnibus):                  0.044   Jarque-Bera (JB):                6.418\n",
      "Skew:                           0.351   Prob(JB):                       0.0404\n",
      "Kurtosis:                       2.860   Cond. No.                         2.72\n",
      "==============================================================================\n",
      "\n",
      "Warnings:\n",
      "[1] Standard Errors assume that the covariance matrix of the errors is correctly specified.\n"
     ]
    }
   ],
   "source": [
    "x=ctx_glm_dat['injection dmn fraction']\n",
    "y = ctx_glm_dat['projection dmn fraction']\n",
    "fit = sm.OLS(y, sm.add_constant(x, prepend=True)).fit()\n",
    "print(fit.summary())"
   ]
  },
  {
   "cell_type": "code",
   "execution_count": 43,
   "metadata": {},
   "outputs": [
    {
     "data": {
      "text/plain": [
       "(0.9384912900683847, 1.1899041056903782e-139)"
      ]
     },
     "execution_count": 43,
     "metadata": {},
     "output_type": "execute_result"
    }
   ],
   "source": [
    "scipy.stats.pearsonr(y, x)"
   ]
  },
  {
   "cell_type": "markdown",
   "metadata": {},
   "source": [
    "## Boxplots"
   ]
  },
  {
   "cell_type": "markdown",
   "metadata": {},
   "source": [
    "## Isocortex Injections"
   ]
  },
  {
   "cell_type": "code",
   "execution_count": 44,
   "metadata": {},
   "outputs": [],
   "source": [
    "ctx_glm_dat = ctx_glm_dat.merge(ctx_exps[['id',\n",
    "                                         'module']], on='id')"
   ]
  },
  {
   "cell_type": "code",
   "execution_count": 45,
   "metadata": {},
   "outputs": [],
   "source": [
    "in_strs = ['ACAd', 'ACAv', 'PL', 'ILA', 'ORBl', 'ORBm', 'ORBvl', 'VISa', 'VISam', 'RSPagl',\n",
    "    'RSPd', 'RSPv', 'SSp-tr', 'SSp-ll', 'MOs']\n",
    "ctx_glm_dat.loc[ctx_glm_dat['injection structure'].isin(in_strs), 'in-out'] = 'in'\n",
    "ctx_glm_dat.loc[~ctx_glm_dat['injection structure'].isin(in_strs), 'in-out'] = 'out'"
   ]
  },
  {
   "cell_type": "code",
   "execution_count": 46,
   "metadata": {},
   "outputs": [
    {
     "name": "stdout",
     "output_type": "stream",
     "text": [
      "[]\n",
      "[]\n"
     ]
    }
   ],
   "source": [
    "# Custom order\n",
    "plot_order = ['ACAd', 'ACAv', 'PL', 'ILA', 'ORBl', 'ORBm', 'ORBvl', 'VISa', 'VISam', \n",
    "              'RSPagl', 'RSPd', 'RSPv', 'SSp-tr', 'SSp-ll', 'MOs',\n",
    "              'SSs', 'SSp-bfd', 'SSp-ul', 'SSp-un', 'SSp-n', 'SSp-m', 'MOp',\n",
    "              'FRP', 'VISpm', 'AId', 'AIv', 'AIp', 'GU', 'VISC', 'ECT', 'VISal', 'VISl', \n",
    "              'VISp', 'VISpl', 'VISli', 'VISpor', 'VISrl', 'AUDd', 'AUDp', 'AUDpo', 'AUDv']\n",
    "print([structure for structure in ctx_glm_dat['injection structure'].unique() \n",
    "       if structure not in plot_order])\n",
    "print([structure for structure in plot_order\n",
    "       if structure not in ctx_glm_dat['injection structure'].unique() ])"
   ]
  },
  {
   "cell_type": "code",
   "execution_count": 47,
   "metadata": {},
   "outputs": [],
   "source": [
    "sns.set(font_scale=2)\n",
    "sns.set_style('white')"
   ]
  },
  {
   "cell_type": "code",
   "execution_count": 48,
   "metadata": {},
   "outputs": [
    {
     "data": {
      "text/plain": [
       "0.4583010079825303"
      ]
     },
     "execution_count": 48,
     "metadata": {},
     "output_type": "execute_result"
    }
   ],
   "source": [
    "ctx_glm_dat[ctx_glm_dat['injection structure'] == 'MOs']['projection dmn fraction'].mean()"
   ]
  },
  {
   "cell_type": "code",
   "execution_count": 49,
   "metadata": {},
   "outputs": [
    {
     "data": {
      "image/png": "[encoded data removed]",
      "text/plain": [
       "<Figure size 345.6x108 with 1 Axes>"
      ]
     },
     "metadata": {},
     "output_type": "display_data"
    }
   ],
   "source": [
    "fig, ax = plt.subplots(1, figsize = (4.8, 1.5))\n",
    "sns.boxplot('injection structure', 'projection dmn fraction', \n",
    "            data = ctx_glm_dat, \n",
    "            order = plot_order, ax = ax, color = 'white', linewidth = 0.5,\n",
    "           fliersize = 0.1)\n",
    "sns.stripplot('injection structure', 'projection dmn fraction', \n",
    "              data = ctx_glm_dat, \n",
    "            order = plot_order, ax = ax, \n",
    "              hue = 'injection dmn fraction', palette = 'hot', \n",
    "              linewidth = 0.5, s = 4, alpha = 0.8)\n",
    "ax.set_xticks(np.linspace(ax.get_xbound()[0]+0.5, \n",
    "                          ax.get_xbound()[1]-0.5, len(plot_order)))\n",
    "plt.xticks(rotation = 90, fontsize = 7)\n",
    "plt.yticks([0, 0.5, 1.0], fontsize = 7)\n",
    "sns.despine()\n",
    "ax.tick_params(top = False, right = False)\n",
    "ax.set_xlabel(\"\")\n",
    "ax.yaxis.labelpad = 0\n",
    "ax.set_ylabel(\"Projection DMN Fraction\", fontsize = 7)\n",
    "ax.legend_.remove()\n",
    "ax.tick_params(top = False, right = False, left = True)\n",
    "ax.tick_params('x', pad=-3)\n",
    "ax.axhline(y = 0.5, xmin=0, xmax=1, color = 'gray', linestyle = 'dashed',\n",
    "          linewidth = 0.5)\n",
    "plt.savefig(os.path.join(path, 'DMN_proj_by_source_wt_boxplot_in-out.pdf'), \n",
    "            bbox_inches='tight', pad_inches=0.3, format='pdf', transparent=True, dpi=300)"
   ]
  },
  {
   "cell_type": "code",
   "execution_count": 50,
   "metadata": {},
   "outputs": [
    {
     "data": {
      "image/png": "[encoded data removed]",
      "text/plain": [
       "<Figure size 36x108 with 1 Axes>"
      ]
     },
     "metadata": {},
     "output_type": "display_data"
    }
   ],
   "source": [
    "fig, ax = plt.subplots(1, figsize = (0.5, 1.5))\n",
    "sns.boxplot('in-out', 'projection dmn fraction',  \n",
    "            data = ctx_glm_dat, ax = ax, color = 'white', order = ['in', 'out'],\n",
    "           fliersize = 0.1, linewidth = 0.5)\n",
    "sns.stripplot('in-out', 'projection dmn fraction',\n",
    "              data = ctx_glm_dat, order = ['in', 'out'], linewidth = 0.5,\n",
    "              ax = ax, hue = 'injection dmn fraction', palette = 'hot', s = 4, alpha = 0.8)\n",
    "plt.yticks([0, 0.5, 1], fontsize = 7)\n",
    "plt.xticks([0, 1], fontsize = 7)\n",
    "sns.despine()\n",
    "ax.tick_params(top = False, right = False)\n",
    "ax.set_xlabel(\"\")\n",
    "ax.set_ylabel(\"Projection DMN Fraction\", fontsize = 7)\n",
    "ax.tick_params(top = False, right = False, left = True)\n",
    "ax.yaxis.labelpad = 0\n",
    "ax.legend_.remove()\n",
    "ax.axhline(y = 0.5, xmin=0, xmax=1, color = 'gray', linestyle = 'dashed',\n",
    "          linewidth = 0.5)\n",
    "plt.savefig(os.path.join(path, 'DMN_proj_wt_boxplot_in-out.pdf'), \n",
    "            bbox_inches='tight', pad_inches=0.3, format='pdf', transparent=True, dpi=300)"
   ]
  },
  {
   "cell_type": "code",
   "execution_count": 51,
   "metadata": {},
   "outputs": [],
   "source": [
    "mcd = {'red': '#ff0000', 'orange': '#f9922b', 'yellow': '#ffff66', 'light_blue': '#90bff9',\n",
    "      'dark_blue': '#5252a9', 'purple': '#7c429b'}"
   ]
  },
  {
   "cell_type": "code",
   "execution_count": 52,
   "metadata": {},
   "outputs": [],
   "source": [
    "mod_colors = [mcd['red'], mcd['red'], mcd['red'], mcd['red'], mcd['red'], mcd['dark_blue'], mcd['red'],\n",
    "             mcd['dark_blue'], mcd['orange'], mcd['dark_blue'], mcd['light_blue'], mcd['orange'],\n",
    "             mcd['light_blue'], mcd['light_blue'], mcd['dark_blue'], mcd['orange'], mcd['purple'],\n",
    "             mcd['light_blue'], mcd['orange'], mcd['light_blue'], mcd['dark_blue'], mcd['yellow'],\n",
    "             mcd['purple'], mcd['orange'], mcd['red'], mcd['purple'], mcd['light_blue'], mcd['purple'],\n",
    "             mcd['yellow'], mcd['orange'], mcd['yellow'], mcd['yellow'], mcd['orange'], mcd['orange'],\n",
    "             mcd['orange'], mcd['red'], mcd['orange']]"
   ]
  },
  {
   "cell_type": "code",
   "execution_count": 53,
   "metadata": {},
   "outputs": [],
   "source": [
    "mod_order = ['Prefrontal', 'Medial', 'Somatomotor', 'Lateral', 'Visual', 'Auditory']\n",
    "colors = [mcd['red'], mcd['dark_blue'], mcd['orange'], mcd['yellow'], mcd['light_blue'], mcd['purple']]"
   ]
  },
  {
   "cell_type": "code",
   "execution_count": 54,
   "metadata": {},
   "outputs": [
    {
     "data": {
      "image/png": "[encoded data removed]",
      "text/plain": [
       "<Figure size 64.8x108 with 1 Axes>"
      ]
     },
     "metadata": {},
     "output_type": "display_data"
    }
   ],
   "source": [
    "fig, ax = plt.subplots(1, figsize = (0.9, 1.5))\n",
    "sns.boxplot('module', 'projection dmn fraction', data = ctx_glm_dat, \n",
    "            order = mod_order, ax = ax, color = 'white', linewidth = 0.5, fliersize = 0.1)\n",
    "sns.stripplot('module', 'projection dmn fraction', data = ctx_glm_dat, linewidth = 0.5,\n",
    "            order = mod_order, ax = ax, palette = colors, s = 4, alpha = 0.8)\n",
    "sns.despine()\n",
    "ax.tick_params(top = False, right = False)\n",
    "plt.yticks([0, 0.5, 1], fontsize = 7)\n",
    "plt.xticks(rotation = 90, fontsize = 7)\n",
    "ax.set_xlabel(\"\")\n",
    "ax.set_ylabel(\"Projection DMN Fraction\", fontsize = 7)\n",
    "ax.tick_params(top = False, right = False, left = True)\n",
    "ax.tick_params('x', pad=-3)\n",
    "ax.yaxis.labelpad = 0\n",
    "ax.axhline(y = 0.5, xmin=0, xmax=100, color = 'gray', linestyle = 'dashed',\n",
    "          linewidth = 0.5)\n",
    "plt.savefig(os.path.join(path, 'DMN_proj_by_module_wt_boxplot_horizontal.pdf'), \n",
    "            bbox_inches='tight', pad_inches=0.3, format='pdf', transparent=True, dpi=300)"
   ]
  },
  {
   "cell_type": "markdown",
   "metadata": {},
   "source": [
    "## DMN coefficient graphs (moved to Figure S2)"
   ]
  },
  {
   "cell_type": "code",
   "execution_count": 55,
   "metadata": {},
   "outputs": [],
   "source": [
    "S2path = r'/Users/jenniferwh/Dropbox (Allen Institute)/Mesoscale Connectome Papers in Progress/2019 DMN/_new_figures/Figure_S2'"
   ]
  },
  {
   "cell_type": "code",
   "execution_count": 143,
   "metadata": {},
   "outputs": [
    {
     "data": {
      "image/png": "[encoded data removed]",
      "text/plain": [
       "<Figure size 108x108 with 1 Axes>"
      ]
     },
     "metadata": {},
     "output_type": "display_data"
    }
   ],
   "source": [
    "ctx_glm_dat['distance_coeff_x10'] = 10*ctx_glm_dat['distance coefficient']\n",
    "fig, ax = plt.subplots(figsize = (1.5, 1.5))\n",
    "sns.regplot(x = 'injection dmn fraction',\n",
    "            y = 'DMN coefficient',\n",
    "            data = ctx_glm_dat,\n",
    "            ax = ax,\n",
    "            color = 'k',\n",
    "            ci=False,\n",
    "            scatter_kws={'alpha':0.7, 'linewidth': 0.5,\n",
    "                         'edgecolor': 'k', 's':10,\n",
    "                        'zorder':1})\n",
    "sns.regplot(x = 'injection dmn fraction',\n",
    "            y = 'DMN coefficient',\n",
    "            data = ctx_glm_dat[ctx_glm_dat['id'] == 125833030],\n",
    "            ax = ax,\n",
    "            color = 'k',\n",
    "            ci=False,\n",
    "            fit_reg = False,\n",
    "            scatter_kws={'alpha':0.7, 'linewidth': 0.5,\n",
    "                         'edgecolor': '#00ffff', 's':10,\n",
    "                        'zorder':10})\n",
    "sns.regplot(x = 'injection dmn fraction',\n",
    "            y = 'DMN coefficient',\n",
    "            data = ctx_glm_dat[ctx_glm_dat['id'] == 180436360],\n",
    "            ax = ax,\n",
    "            color = 'k',\n",
    "            ci=False,\n",
    "            fit_reg = False,\n",
    "            scatter_kws={'alpha':0.7, 'linewidth': 0.5,\n",
    "                         'edgecolor': 'lime', 's':10,\n",
    "                        'zorder':10})\n",
    "ax.set_xlim([-0.1, 1.1])\n",
    "ax.set_xlabel('Injection DMN Fraction', fontsize = 7)\n",
    "ax.set_ylim([-0.65, 0.6])\n",
    "ax.set_ylabel('DMN Coefficient', fontsize = 7)\n",
    "plt.xticks([0, 0.5, 1], fontsize = 7)\n",
    "plt.yticks([-0.6, -0.3, 0, 0.3, 0.6], fontsize = 7)\n",
    "ax.tick_params(top = False, right = False, left = True, bottom=True)\n",
    "plt.axhline(y=0, linestyle='--', linewidth=0.5, zorder=-1, color = 'gray')\n",
    "sns.despine()\n",
    "#everything on zorder -1 or lower will be rasterized\n",
    "ax.set_rasterization_zorder(0)\n",
    "\n",
    "plt.savefig(os.path.join(S2path, 'wt_DMN_coeff.pdf'), \n",
    "            bbox_inches='tight', transparent=True, dpi=300)"
   ]
  },
  {
   "cell_type": "code",
   "execution_count": 142,
   "metadata": {},
   "outputs": [
    {
     "data": {
      "image/png": "[encoded data removed]",
      "text/plain": [
       "<Figure size 108x108 with 1 Axes>"
      ]
     },
     "metadata": {},
     "output_type": "display_data"
    }
   ],
   "source": [
    "ctx_glm_dat['distance_coeff_x10'] = 10*ctx_glm_dat['distance coefficient']\n",
    "fig, ax = plt.subplots(figsize = (1.5, 1.5))\n",
    "sns.regplot(x = 'injection dmn fraction',\n",
    "            y = 'distance coefficient',\n",
    "            data = ctx_glm_dat,\n",
    "            ax = ax,\n",
    "            ci = False,\n",
    "            color = 'darkgray',\n",
    "            scatter_kws={'s':10, 'linewidth':0.5, \n",
    "                      'edgecolor': 'k',\n",
    "                        'zorder':-1},\n",
    "            line_kws={'zorder': -2, 'alpha':0.8},\n",
    "           label = r'Distance (r=-0.16)')\n",
    "sns.regplot(x = 'injection dmn fraction',\n",
    "            y = 'distance coefficient',\n",
    "            data = ctx_glm_dat[ctx_glm_dat['id'] == 125833030],\n",
    "            ax = ax,\n",
    "            color = 'darkgray',\n",
    "            ci=False,\n",
    "            fit_reg = False,\n",
    "            scatter_kws={'alpha':0.7, 'linewidth': 0.5,\n",
    "                         'edgecolor': '#00ffff', 's':10,\n",
    "                        'zorder':10})\n",
    "sns.regplot(x = 'injection dmn fraction',\n",
    "            y = 'distance coefficient',\n",
    "            data = ctx_glm_dat[ctx_glm_dat['id'] == 180436360],\n",
    "            ax = ax,\n",
    "            color = 'darkgray',\n",
    "            ci=False,\n",
    "            fit_reg = False,\n",
    "            scatter_kws={'alpha':0.7, 'linewidth': 0.5,\n",
    "                         'edgecolor': 'lime', 's':10,\n",
    "                        'zorder':10})\n",
    "ax.set_xlim([-0.1, 1.1])\n",
    "ax.set_xlabel('Injection DMN Fraction', fontsize = 7)\n",
    "ax.set_ylim([-0.025, 0.001])\n",
    "ax.tick_params(top = False, right = False, left = True, bottom=True)\n",
    "ax.set_ylabel('Distance Coefficient', fontsize = 7)\n",
    "plt.yticks([-0.02, -0.01, 0], fontsize = 7)\n",
    "plt.xticks([0, 0.5, 1], fontsize = 7)\n",
    "plt.axhline(y=0, linestyle='--', linewidth=0.5, zorder=-1, color = 'gray')\n",
    "sns.despine()\n",
    "\n",
    "plt.savefig(os.path.join(S2path, 'wt_distance_coeff.pdf'), \n",
    "            bbox_inches='tight', transparent=True, dpi=300)"
   ]
  },
  {
   "cell_type": "code",
   "execution_count": 56,
   "metadata": {},
   "outputs": [
    {
     "data": {
      "image/png": "[encoded data removed]",
      "text/plain": [
       "<Figure size 108x108 with 2 Axes>"
      ]
     },
     "metadata": {},
     "output_type": "display_data"
    }
   ],
   "source": [
    "ctx_glm_dat['distance_coeff_x10'] = 10*ctx_glm_dat['distance coefficient']\n",
    "fig, ax = plt.subplots(figsize = (1.5, 1.5))\n",
    "sns.regplot(x = 'injection dmn fraction',\n",
    "            y = 'DMN coefficient',\n",
    "            data = ctx_glm_dat,\n",
    "            ax = ax,\n",
    "            color = 'k',\n",
    "            ci=False,\n",
    "            scatter_kws={'alpha':0.7, 'linewidth': 0.5,\n",
    "                         'edgecolor': 'k', 's':10,\n",
    "                        'zorder':1},\n",
    "           label = r'DMN (r=0.60)')\n",
    "'''\n",
    "sns.regplot(x = 'inj_percent_core',\n",
    "            y = 'DMN core coefficient',\n",
    "            data = ctx_glm_dat,\n",
    "            ax = ax,\n",
    "            color = 'k',\n",
    "            scatter_kws={'alpha':0.7, 's':10},\n",
    "           label = r'Core (r=)')\n",
    "           '''\n",
    "ax.set_xlim([-0.1, 1.1])\n",
    "ax.set_xlabel('Injection DMN Fraction', fontsize = 7)\n",
    "ax.set_ylim([-0.65, 0.6])\n",
    "ax.set_ylabel('DMN Coefficient', fontsize = 7)\n",
    "plt.xticks([0, 0.5, 1], fontsize = 7)\n",
    "plt.yticks([-0.6, -0.3, 0, 0.3, 0.6], fontsize = 7)\n",
    "ax.tick_params(top = False, right = False, left = True, bottom=True)\n",
    "plt.axhline(y=0, linestyle='--', linewidth=0.5, zorder=-1)\n",
    "\n",
    "leg = plt.legend(fontsize = 5, labelspacing=0.2, frameon = False,\n",
    "          loc = 1, bbox_to_anchor = [0.63, 1.02])\n",
    "for lh in leg.legendHandles: \n",
    "    lh.set_alpha(1)\n",
    "\n",
    "# Plot distance coefficient on right axis\n",
    "ax2 = ax.twinx()\n",
    "sns.regplot(x = 'injection dmn fraction',\n",
    "            y = 'distance coefficient',\n",
    "            data = ctx_glm_dat,\n",
    "            ax = ax2,\n",
    "            ci = False,\n",
    "            color = 'darkgray',\n",
    "            scatter_kws={'s':10, 'linewidth':0.5, \n",
    "                      'edgecolor': 'k',\n",
    "                        'zorder':-1},\n",
    "            line_kws={'zorder': -2, 'alpha':0.8},\n",
    "           label = r'Distance (r=-0.16)')\n",
    "ax2.set_ylim([-0.02, 0.018])\n",
    "ax2.tick_params(top = False, right = True, left = False, bottom=True)\n",
    "ax2.set_ylabel('Distance Coefficient', fontsize = 7)\n",
    "plt.yticks([-0.02, -0.01, 0, 0.01], fontsize = 7)\n",
    "sns.despine(right = False)\n",
    "\n",
    "leg = plt.legend(fontsize = 5, labelspacing=0.2, frameon = False,\n",
    "          loc = 1, bbox_to_anchor = [0.75, 0.92])\n",
    "for lh in leg.legendHandles: \n",
    "    lh.set_alpha(1)\n",
    "\n",
    "#everything on zorder -1 or lower will be rasterized\n",
    "ax.set_rasterization_zorder(0)\n",
    "\n",
    "plt.savefig(os.path.join(S2path, 'wt_distance_DMN_coeff.pdf'), bbox_inches='tight', transparent=True, dpi=300)"
   ]
  },
  {
   "cell_type": "code",
   "execution_count": 57,
   "metadata": {},
   "outputs": [
    {
     "name": "stdout",
     "output_type": "stream",
     "text": [
      "-0.01921182163274248\n",
      "0.00011174013366384988\n"
     ]
    }
   ],
   "source": [
    "print(ctx_glm_dat['distance coefficient'].min())\n",
    "print(ctx_glm_dat['distance coefficient'].max())"
   ]
  },
  {
   "cell_type": "code",
   "execution_count": 58,
   "metadata": {},
   "outputs": [
    {
     "data": {
      "text/plain": [
       "0.0001"
      ]
     },
     "execution_count": 58,
     "metadata": {},
     "output_type": "execute_result"
    }
   ],
   "source": [
    "10**-4"
   ]
  },
  {
   "cell_type": "code",
   "execution_count": 59,
   "metadata": {},
   "outputs": [
    {
     "name": "stderr",
     "output_type": "stream",
     "text": [
      "/Users/jenniferwh/Dropbox (Allen Institute)/Mesoscale Connectome Papers in Progress/2019 DMN/_new_figures/jupyter_notebooks/env/lib/python3.7/site-packages/numpy/core/fromnumeric.py:2495: FutureWarning: Method .ptp is deprecated and will be removed in a future version. Use numpy.ptp instead.\n",
      "  return ptp(axis=axis, out=out, **kwargs)\n"
     ]
    },
    {
     "name": "stdout",
     "output_type": "stream",
     "text": [
      "                             OLS Regression Results                             \n",
      "================================================================================\n",
      "Dep. Variable:     distance coefficient   R-squared:                       0.027\n",
      "Model:                              OLS   Adj. R-squared:                  0.023\n",
      "Method:                   Least Squares   F-statistic:                     8.189\n",
      "Date:                  Mon, 11 May 2020   Prob (F-statistic):            0.00451\n",
      "Time:                          18:24:00   Log-Likelihood:                 1250.4\n",
      "No. Observations:                   300   AIC:                            -2497.\n",
      "Df Residuals:                       298   BIC:                            -2489.\n",
      "Df Model:                             1                                         \n",
      "Covariance Type:              nonrobust                                         \n",
      "==========================================================================================\n",
      "                             coef    std err          t      P>|t|      [0.025      0.975]\n",
      "------------------------------------------------------------------------------------------\n",
      "const                     -0.0074      0.000    -25.645      0.000      -0.008      -0.007\n",
      "injection dmn fraction    -0.0014      0.001     -2.862      0.005      -0.002      -0.000\n",
      "==============================================================================\n",
      "Omnibus:                        4.342   Durbin-Watson:                   2.068\n",
      "Prob(Omnibus):                  0.114   Jarque-Bera (JB):                4.421\n",
      "Skew:                          -0.277   Prob(JB):                        0.110\n",
      "Kurtosis:                       2.786   Cond. No.                         2.72\n",
      "==============================================================================\n",
      "\n",
      "Warnings:\n",
      "[1] Standard Errors assume that the covariance matrix of the errors is correctly specified.\n"
     ]
    }
   ],
   "source": [
    "x=ctx_glm_dat['injection dmn fraction']\n",
    "y = ctx_glm_dat['distance coefficient']\n",
    "fit = sm.OLS(y, sm.add_constant(x, prepend=True)).fit()\n",
    "print(fit.summary())"
   ]
  },
  {
   "cell_type": "code",
   "execution_count": 60,
   "metadata": {},
   "outputs": [
    {
     "data": {
      "text/plain": [
       "(-0.16354261362005687, 0.004511905350175012)"
      ]
     },
     "execution_count": 60,
     "metadata": {},
     "output_type": "execute_result"
    }
   ],
   "source": [
    "scipy.stats.pearsonr(y, x)"
   ]
  },
  {
   "cell_type": "code",
   "execution_count": 61,
   "metadata": {},
   "outputs": [
    {
     "name": "stdout",
     "output_type": "stream",
     "text": [
      "                            OLS Regression Results                            \n",
      "==============================================================================\n",
      "Dep. Variable:        DMN coefficient   R-squared:                       0.356\n",
      "Model:                            OLS   Adj. R-squared:                  0.354\n",
      "Method:                 Least Squares   F-statistic:                     165.1\n",
      "Date:                Mon, 11 May 2020   Prob (F-statistic):           2.29e-30\n",
      "Time:                        18:24:00   Log-Likelihood:                 214.63\n",
      "No. Observations:                 300   AIC:                            -425.3\n",
      "Df Residuals:                     298   BIC:                            -417.8\n",
      "Df Model:                           1                                         \n",
      "Covariance Type:            nonrobust                                         \n",
      "==========================================================================================\n",
      "                             coef    std err          t      P>|t|      [0.025      0.975]\n",
      "------------------------------------------------------------------------------------------\n",
      "const                     -0.1149      0.009    -12.596      0.000      -0.133      -0.097\n",
      "injection dmn fraction     0.2049      0.016     12.849      0.000       0.173       0.236\n",
      "==============================================================================\n",
      "Omnibus:                       93.134   Durbin-Watson:                   2.018\n",
      "Prob(Omnibus):                  0.000   Jarque-Bera (JB):              244.038\n",
      "Skew:                          -1.449   Prob(JB):                     1.02e-53\n",
      "Kurtosis:                       6.335   Cond. No.                         2.72\n",
      "==============================================================================\n",
      "\n",
      "Warnings:\n",
      "[1] Standard Errors assume that the covariance matrix of the errors is correctly specified.\n"
     ]
    }
   ],
   "source": [
    "x=ctx_glm_dat['injection dmn fraction']\n",
    "y = ctx_glm_dat['DMN coefficient']\n",
    "fit = sm.OLS(y, sm.add_constant(x, prepend=True)).fit()\n",
    "print(fit.summary())"
   ]
  },
  {
   "cell_type": "code",
   "execution_count": 62,
   "metadata": {},
   "outputs": [
    {
     "data": {
      "text/plain": [
       "(0.5970670608367806, 2.2945731099922987e-30)"
      ]
     },
     "execution_count": 62,
     "metadata": {},
     "output_type": "execute_result"
    }
   ],
   "source": [
    "scipy.stats.pearsonr(y, x)"
   ]
  },
  {
   "cell_type": "code",
   "execution_count": 63,
   "metadata": {},
   "outputs": [
    {
     "data": {
      "image/png": "[encoded data removed]",
      "text/plain": [
       "<Figure size 345.6x108 with 1 Axes>"
      ]
     },
     "metadata": {},
     "output_type": "display_data"
    }
   ],
   "source": [
    "fig, ax = plt.subplots(1, figsize = (4.8, 1.5))\n",
    "sns.boxplot('injection structure', 'DMN coefficient', \n",
    "            data = ctx_glm_dat[ctx_glm_dat['in-out'] == 'out'], \n",
    "            order = plot_order, ax = ax, color = 'white',\n",
    "            linewidth = 0.5,\n",
    "           fliersize = 0.1)\n",
    "sns.stripplot('injection structure', 'DMN coefficient', \n",
    "              data = ctx_glm_dat[ctx_glm_dat['in-out'] == 'out'], \n",
    "            order = plot_order, ax = ax, linewidth = 0.5,\n",
    "              color = 'b', s = 4, alpha = 0.9)\n",
    "sns.boxplot('injection structure', 'DMN coefficient', \n",
    "            data = ctx_glm_dat[ctx_glm_dat['in-out'] == 'in'], \n",
    "            order = plot_order, ax = ax, color = 'white',\n",
    "           linewidth = 0.5, fliersize = 1)\n",
    "sns.stripplot('injection structure', 'DMN coefficient', \n",
    "              data = ctx_glm_dat[ctx_glm_dat['in-out'] == 'in'], \n",
    "            order = plot_order, ax = ax, linewidth = 0.5,\n",
    "             color = 'r', s = 4, alpha = 0.9)\n",
    "ax.set_xticks(np.linspace(ax.get_xbound()[0]+0.5, \n",
    "                          ax.get_xbound()[1]-0.5, len(plot_order)))\n",
    "plt.xticks(rotation = 90, fontsize = 7)\n",
    "plt.yticks(fontsize = 7)\n",
    "sns.despine()\n",
    "ax.tick_params(top = False, right = False, left = True)\n",
    "ax.set_xlabel(\"\")\n",
    "ax.set_ylabel(\"DMN Coefficient\", fontsize = 7)\n",
    "ax.tick_params(top = False, right = False)\n",
    "ax.tick_params('x', pad=-3)\n",
    "ax.set_ylim([-0.65, 0.6])\n",
    "ax.set_yticks([-0.6, -0.3, 0, 0.3, 0.6])\n",
    "ax.axhline(y = 0, xmin=0, xmax=1, color = 'gray', linestyle = 'dashed',\n",
    "          linewidth = 0.5)\n",
    "plt.savefig(os.path.join(S2path, 'DMN_coeff_by_source_wt_boxplot_in-out.pdf'), \n",
    "            bbox_inches='tight', pad_inches=0.3, format='pdf', transparent=True, dpi=300)"
   ]
  },
  {
   "cell_type": "code",
   "execution_count": 64,
   "metadata": {},
   "outputs": [
    {
     "data": {
      "image/png": "[encoded data removed]",
      "text/plain": [
       "<Figure size 36x108 with 1 Axes>"
      ]
     },
     "metadata": {},
     "output_type": "display_data"
    }
   ],
   "source": [
    "fig, ax = plt.subplots(1, figsize = (0.5, 1.5))\n",
    "sns.boxplot('in-out', 'DMN coefficient',  \n",
    "            data = ctx_glm_dat, ax = ax, color = 'white', order = ['in', 'out'],\n",
    "           linewidth = 0.5, fliersize = 0.1)\n",
    "sns.stripplot('in-out', 'DMN coefficient',\n",
    "              data = ctx_glm_dat, order = ['in', 'out'], linewidth = 0.5,\n",
    "              ax = ax, palette = ['r', 'b'], s = 4, alpha = 0.8)\n",
    "ax.set_ylim([-0.65, 0.6])\n",
    "ax.set_yticks([-0.6, -0.3, 0, 0.3, 0.6])\n",
    "plt.yticks(fontsize = 7)\n",
    "plt.xticks([0, 1], fontsize = 7)\n",
    "sns.despine()\n",
    "ax.tick_params(top = False, right = False)\n",
    "ax.set_xlabel(\"\")\n",
    "ax.set_ylabel(\"DMN Coefficient\", fontsize = 7)\n",
    "ax.tick_params(top = False, right = False, left = True)\n",
    "ax.axhline(y = 0, xmin=0, xmax=100, color = 'gray', linestyle = 'dashed',\n",
    "          linewidth = 0.5)\n",
    "plt.savefig(os.path.join(S2path, 'DMN_coeff_wt_boxplot_in-out.pdf'), \n",
    "            bbox_inches='tight', pad_inches=0.3, format='pdf', transparent=True, dpi=300)"
   ]
  },
  {
   "cell_type": "code",
   "execution_count": 65,
   "metadata": {},
   "outputs": [
    {
     "data": {
      "image/png": "[encoded data removed]",
      "text/plain": [
       "<Figure size 64.8x108 with 1 Axes>"
      ]
     },
     "metadata": {},
     "output_type": "display_data"
    }
   ],
   "source": [
    "fig, ax = plt.subplots(1, figsize = (0.9, 1.5))\n",
    "sns.boxplot('module', 'DMN coefficient', data = ctx_glm_dat, \n",
    "            order = mod_order, ax = ax, color = 'white', linewidth = 0.5, fliersize = 0.1)\n",
    "sns.stripplot('module', 'DMN coefficient', data = ctx_glm_dat, \n",
    "            order = mod_order, ax = ax, palette = colors, linewidth = 0.5,\n",
    "              s = 4, alpha = 0.8)\n",
    "sns.despine()\n",
    "ax.tick_params(top = False, right = False)\n",
    "plt.yticks(fontsize = 7)\n",
    "plt.xticks(rotation = 90, fontsize = 7)\n",
    "ax.set_xlabel(\"\")\n",
    "ax.set_ylabel(\"DMN Coefficient\", fontsize = 7)\n",
    "ax.tick_params(top = False, right = False, left = True)\n",
    "ax.tick_params('x', pad=-3)\n",
    "ax.set_ylim([-0.65, 0.6])\n",
    "ax.set_yticks([-0.6, -0.3, 0, 0.3, 0.6])\n",
    "ax.axhline(y = 0, xmin=0, xmax=100, color = 'gray', linestyle = 'dashed',\n",
    "          linewidth = 0.5)\n",
    "plt.savefig(os.path.join(S2path, 'DMN_coeff_by_module_wt_boxplot_horizontal.pdf'), \n",
    "            bbox_inches='tight', pad_inches=0.3, format='pdf', transparent=True, dpi=300)"
   ]
  },
  {
   "cell_type": "code",
   "execution_count": 66,
   "metadata": {},
   "outputs": [
    {
     "name": "stderr",
     "output_type": "stream",
     "text": [
      "/Users/jenniferwh/Dropbox (Allen Institute)/Mesoscale Connectome Papers in Progress/2019 DMN/_new_figures/jupyter_notebooks/env/lib/python3.7/site-packages/numpy/core/fromnumeric.py:2495: FutureWarning: Method .ptp is deprecated and will be removed in a future version. Use numpy.ptp instead.\n",
      "  return ptp(axis=axis, out=out, **kwargs)\n"
     ]
    },
    {
     "name": "stdout",
     "output_type": "stream",
     "text": [
      "                            OLS Regression Results                            \n",
      "==============================================================================\n",
      "Dep. Variable:        DMN coefficient   R-squared:                       0.356\n",
      "Model:                            OLS   Adj. R-squared:                  0.354\n",
      "Method:                 Least Squares   F-statistic:                     165.1\n",
      "Date:                Mon, 11 May 2020   Prob (F-statistic):           2.29e-30\n",
      "Time:                        18:24:02   Log-Likelihood:                 214.63\n",
      "No. Observations:                 300   AIC:                            -425.3\n",
      "Df Residuals:                     298   BIC:                            -417.8\n",
      "Df Model:                           1                                         \n",
      "Covariance Type:            nonrobust                                         \n",
      "==========================================================================================\n",
      "                             coef    std err          t      P>|t|      [0.025      0.975]\n",
      "------------------------------------------------------------------------------------------\n",
      "const                     -0.1149      0.009    -12.596      0.000      -0.133      -0.097\n",
      "injection dmn fraction     0.2049      0.016     12.849      0.000       0.173       0.236\n",
      "==============================================================================\n",
      "Omnibus:                       93.134   Durbin-Watson:                   2.018\n",
      "Prob(Omnibus):                  0.000   Jarque-Bera (JB):              244.038\n",
      "Skew:                          -1.449   Prob(JB):                     1.02e-53\n",
      "Kurtosis:                       6.335   Cond. No.                         2.72\n",
      "==============================================================================\n",
      "\n",
      "Warnings:\n",
      "[1] Standard Errors assume that the covariance matrix of the errors is correctly specified.\n"
     ]
    }
   ],
   "source": [
    "x=ctx_glm_dat['injection dmn fraction']\n",
    "y = ctx_glm_dat['DMN coefficient']\n",
    "fit = sm.OLS(y, sm.add_constant(x, prepend=True)).fit()\n",
    "print(fit.summary())"
   ]
  },
  {
   "cell_type": "code",
   "execution_count": 67,
   "metadata": {},
   "outputs": [],
   "source": [
    "outpath = os.path.join(basepath, 'data_files')\n",
    "outdat = ctx_glm_dat.groupby('injection structure').mean().reset_index()\n",
    "outdat.to_csv(os.path.join(outpath, 'mean_wt_300_data.csv'), index = False)"
   ]
  },
  {
   "cell_type": "code",
   "execution_count": 68,
   "metadata": {},
   "outputs": [],
   "source": [
    "outpath = os.path.join(basepath, 'data_files')\n",
    "outdat = ctx_glm_dat.groupby('injection structure').std().reset_index()\n",
    "outdat.to_csv(os.path.join(outpath, 'std_wt_300_data.csv'), index = False)"
   ]
  },
  {
   "cell_type": "code",
   "execution_count": 69,
   "metadata": {},
   "outputs": [],
   "source": [
    "outpath = os.path.join(basepath, 'data_files')\n",
    "outdat = ctx_glm_dat.groupby('injection structure').count().reset_index()\n",
    "outdat.to_csv(os.path.join(outpath, 'count_wt_300_data.csv'), index = False)"
   ]
  },
  {
   "cell_type": "code",
   "execution_count": null,
   "metadata": {},
   "outputs": [],
   "source": []
  }
 ],
 "metadata": {
  "kernelspec": {
   "display_name": "dmn-virtualenv",
   "language": "python",
   "name": "dmn-virtualenv"
  },
  "language_info": {
   "codemirror_mode": {
    "name": "ipython",
    "version": 3
   },
   "file_extension": ".py",
   "mimetype": "text/x-python",
   "name": "python",
   "nbconvert_exporter": "python",
   "pygments_lexer": "ipython3",
   "version": "3.7.4"
  }
 },
 "nbformat": 4,
 "nbformat_minor": 2
}
