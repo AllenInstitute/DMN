{
 "cells": [
  {
   "cell_type": "code",
   "execution_count": 1,
   "metadata": {},
   "outputs": [],
   "source": [
    "import os\n",
    "import pandas as pd\n",
    "import seaborn as sns\n",
    "import numpy as np\n",
    "import scipy.stats as stats\n",
    "\n",
    "sns.set_context('paper')\n",
    "sns.set_style('white')\n",
    "\n",
    "%matplotlib inline\n",
    "import matplotlib as mpl\n",
    "mpl.rcParams['pdf.fonttype'] = 42\n",
    "import matplotlib.pyplot as plt"
   ]
  },
  {
   "cell_type": "code",
   "execution_count": 2,
   "metadata": {},
   "outputs": [],
   "source": [
    "import platform\n",
    "if platform.system() == 'Darwin':\n",
    "    path = '/Users/jenniferwh/Dropbox/DMN data/layers'\n",
    "    td_dataset = pd.read_csv(r'/Users/jenniferwh/Dropbox (Allen Institute)/Mesoscale Connectome Papers in Progress/2019 DMN/target_defined_dataset.csv')\n",
    "    dat = pd.read_csv(r'/Users/jenniferwh/Dropbox/DMN data/correlations/_final/good_td_wt_correlations_with_inj_corr.csv')\n",
    "    cdat = pd.read_csv(r'/Users/jenniferwh/Dropbox/DMN data/correlations/_final/good_wt_correlations_with_inj_corr.csv')\n",
    "elif platform.system() == 'Windows':\n",
    "    path = r'C:\\Users\\jenniferwh\\Dropbox\\DMN data\\layers'\n",
    "    td_dataset = pd.read_csv(r\"C:\\Users\\jenniferwh\\Dropbox (Allen Institute)\\Mesoscale Connectome Papers in Progress\\2019 DMN\\target_defined_dataset.csv\")\n",
    "    dat = pd.read_csv(r\"C:\\Users\\jenniferwh\\Dropbox (Personal)\\DMN data\\correlations\\_final\\good_td_wt_correlations_with_inj_corr.csv\")\n",
    "    cdat = pd.read_csv(r\"C:\\Users\\jenniferwh\\Dropbox (Personal)\\DMN data\\correlations\\_final\\good_wt_correlations_with_inj_corr.csv\")"
   ]
  },
  {
   "cell_type": "code",
   "execution_count": 3,
   "metadata": {},
   "outputs": [
    {
     "data": {
      "text/plain": [
       "<matplotlib.legend.Legend at 0x1a2244da50>"
      ]
     },
     "execution_count": 3,
     "metadata": {},
     "output_type": "execute_result"
    },
    {
     "data": {
      "image/png": "[encoded data removed]",
      "text/plain": [
       "<Figure size 144x144 with 1 Axes>"
      ]
     },
     "metadata": {
      "needs_background": "light"
     },
     "output_type": "display_data"
    }
   ],
   "source": [
    "fig, ax = plt.subplots(figsize = (2, 2))\n",
    "sns.regplot('inj_corr', 'spearman_correlation', data = cdat, label = 'control')\n",
    "sns.regplot('inj_corr', 'spearman_correlation', data = dat, label = 'target-defined')\n",
    "plt.legend()"
   ]
  },
  {
   "cell_type": "code",
   "execution_count": 4,
   "metadata": {},
   "outputs": [],
   "source": [
    "dat = dat.merge(td_dataset[['image_series_id', 'target_by_projection']], on = 'image_series_id',\n",
    "               how = 'left')"
   ]
  },
  {
   "cell_type": "code",
   "execution_count": 5,
   "metadata": {},
   "outputs": [],
   "source": [
    "low_corr = dat[dat['inj_corr'] < 0][['image_series_id',\n",
    "                                              'source', \n",
    "                                               'target_by_projection',\n",
    "                                               'inj_corr', 'sig',\n",
    "                                              'sig_with_contra',\n",
    "                                              'sig_ipsi_and_contra']]['image_series_id'].unique()"
   ]
  },
  {
   "cell_type": "code",
   "execution_count": 6,
   "metadata": {},
   "outputs": [],
   "source": [
    "meandat = pd.read_csv(r'/Users/jenniferwh/Dropbox/DMN data/correlations/_final/td_mean_corr_dat_final.csv')"
   ]
  },
  {
   "cell_type": "code",
   "execution_count": 7,
   "metadata": {
    "scrolled": true
   },
   "outputs": [
    {
     "data": {
      "text/html": [
       "<div>\n",
       "<style scoped>\n",
       "    .dataframe tbody tr th:only-of-type {\n",
       "        vertical-align: middle;\n",
       "    }\n",
       "\n",
       "    .dataframe tbody tr th {\n",
       "        vertical-align: top;\n",
       "    }\n",
       "\n",
       "    .dataframe thead th {\n",
       "        text-align: right;\n",
       "    }\n",
       "</style>\n",
       "<table border=\"1\" class=\"dataframe\">\n",
       "  <thead>\n",
       "    <tr style=\"text-align: right;\">\n",
       "      <th></th>\n",
       "      <th>image_series_id</th>\n",
       "      <th>source</th>\n",
       "      <th>target_by_projection</th>\n",
       "      <th>inj_corr</th>\n",
       "      <th>sig_ipsi</th>\n",
       "      <th>sig_ipsi_and_contra</th>\n",
       "      <th>both_sig</th>\n",
       "    </tr>\n",
       "  </thead>\n",
       "  <tbody>\n",
       "    <tr>\n",
       "      <th>9</th>\n",
       "      <td>478995566</td>\n",
       "      <td>CLA</td>\n",
       "      <td>ENTl</td>\n",
       "      <td>0.333333</td>\n",
       "      <td>False</td>\n",
       "      <td>False</td>\n",
       "      <td>False</td>\n",
       "    </tr>\n",
       "    <tr>\n",
       "      <th>12</th>\n",
       "      <td>484612961</td>\n",
       "      <td>ECT</td>\n",
       "      <td>PL</td>\n",
       "      <td>-0.219367</td>\n",
       "      <td>False</td>\n",
       "      <td>True</td>\n",
       "      <td>False</td>\n",
       "    </tr>\n",
       "    <tr>\n",
       "      <th>14</th>\n",
       "      <td>495346667</td>\n",
       "      <td>VISp</td>\n",
       "      <td>VISl</td>\n",
       "      <td>0.659950</td>\n",
       "      <td>False</td>\n",
       "      <td>False</td>\n",
       "      <td>False</td>\n",
       "    </tr>\n",
       "    <tr>\n",
       "      <th>31</th>\n",
       "      <td>521617657</td>\n",
       "      <td>TEa</td>\n",
       "      <td>AUDp</td>\n",
       "      <td>-0.145057</td>\n",
       "      <td>True</td>\n",
       "      <td>False</td>\n",
       "      <td>False</td>\n",
       "    </tr>\n",
       "    <tr>\n",
       "      <th>33</th>\n",
       "      <td>521955016</td>\n",
       "      <td>ORBvl</td>\n",
       "      <td>VISam</td>\n",
       "      <td>0.443182</td>\n",
       "      <td>True</td>\n",
       "      <td>False</td>\n",
       "      <td>False</td>\n",
       "    </tr>\n",
       "    <tr>\n",
       "      <th>43</th>\n",
       "      <td>526784559</td>\n",
       "      <td>VISp</td>\n",
       "      <td>VISpm</td>\n",
       "      <td>0.769197</td>\n",
       "      <td>False</td>\n",
       "      <td>False</td>\n",
       "      <td>False</td>\n",
       "    </tr>\n",
       "    <tr>\n",
       "      <th>54</th>\n",
       "      <td>529428776</td>\n",
       "      <td>TEa</td>\n",
       "      <td>AId</td>\n",
       "      <td>-1.000000</td>\n",
       "      <td>True</td>\n",
       "      <td>True</td>\n",
       "      <td>True</td>\n",
       "    </tr>\n",
       "    <tr>\n",
       "      <th>59</th>\n",
       "      <td>532005897</td>\n",
       "      <td>ORBvl</td>\n",
       "      <td>VISam</td>\n",
       "      <td>0.344863</td>\n",
       "      <td>True</td>\n",
       "      <td>True</td>\n",
       "      <td>True</td>\n",
       "    </tr>\n",
       "    <tr>\n",
       "      <th>62</th>\n",
       "      <td>539511058</td>\n",
       "      <td>VISp</td>\n",
       "      <td>VISpor</td>\n",
       "      <td>0.600675</td>\n",
       "      <td>False</td>\n",
       "      <td>False</td>\n",
       "      <td>False</td>\n",
       "    </tr>\n",
       "    <tr>\n",
       "      <th>63</th>\n",
       "      <td>539514325</td>\n",
       "      <td>VISp</td>\n",
       "      <td>VISp</td>\n",
       "      <td>0.558363</td>\n",
       "      <td>False</td>\n",
       "      <td>False</td>\n",
       "      <td>False</td>\n",
       "    </tr>\n",
       "    <tr>\n",
       "      <th>64</th>\n",
       "      <td>543297033</td>\n",
       "      <td>VISp</td>\n",
       "      <td>VISpm</td>\n",
       "      <td>0.848737</td>\n",
       "      <td>False</td>\n",
       "      <td>False</td>\n",
       "      <td>False</td>\n",
       "    </tr>\n",
       "    <tr>\n",
       "      <th>67</th>\n",
       "      <td>553080579</td>\n",
       "      <td>VISl</td>\n",
       "      <td>RSPv</td>\n",
       "      <td>-0.020330</td>\n",
       "      <td>False</td>\n",
       "      <td>False</td>\n",
       "      <td>False</td>\n",
       "    </tr>\n",
       "    <tr>\n",
       "      <th>77</th>\n",
       "      <td>561918178</td>\n",
       "      <td>VISp</td>\n",
       "      <td>VISl</td>\n",
       "      <td>0.364951</td>\n",
       "      <td>True</td>\n",
       "      <td>True</td>\n",
       "      <td>True</td>\n",
       "    </tr>\n",
       "    <tr>\n",
       "      <th>82</th>\n",
       "      <td>565146821</td>\n",
       "      <td>VISp</td>\n",
       "      <td>VISpl</td>\n",
       "      <td>0.633713</td>\n",
       "      <td>False</td>\n",
       "      <td>False</td>\n",
       "      <td>False</td>\n",
       "    </tr>\n",
       "    <tr>\n",
       "      <th>101</th>\n",
       "      <td>573331541</td>\n",
       "      <td>RSPagl</td>\n",
       "      <td>RSPv</td>\n",
       "      <td>-1.000000</td>\n",
       "      <td>False</td>\n",
       "      <td>False</td>\n",
       "      <td>False</td>\n",
       "    </tr>\n",
       "    <tr>\n",
       "      <th>109</th>\n",
       "      <td>595259180</td>\n",
       "      <td>RSPagl</td>\n",
       "      <td>ACAv</td>\n",
       "      <td>0.230659</td>\n",
       "      <td>False</td>\n",
       "      <td>False</td>\n",
       "      <td>False</td>\n",
       "    </tr>\n",
       "    <tr>\n",
       "      <th>125</th>\n",
       "      <td>617898760</td>\n",
       "      <td>ORBvl</td>\n",
       "      <td>VISam</td>\n",
       "      <td>0.652478</td>\n",
       "      <td>True</td>\n",
       "      <td>True</td>\n",
       "      <td>True</td>\n",
       "    </tr>\n",
       "  </tbody>\n",
       "</table>\n",
       "</div>"
      ],
      "text/plain": [
       "     image_series_id  source target_by_projection  inj_corr  sig_ipsi  \\\n",
       "9          478995566     CLA                 ENTl  0.333333     False   \n",
       "12         484612961     ECT                   PL -0.219367     False   \n",
       "14         495346667    VISp                 VISl  0.659950     False   \n",
       "31         521617657     TEa                 AUDp -0.145057      True   \n",
       "33         521955016   ORBvl                VISam  0.443182      True   \n",
       "43         526784559    VISp                VISpm  0.769197     False   \n",
       "54         529428776     TEa                  AId -1.000000      True   \n",
       "59         532005897   ORBvl                VISam  0.344863      True   \n",
       "62         539511058    VISp               VISpor  0.600675     False   \n",
       "63         539514325    VISp                 VISp  0.558363     False   \n",
       "64         543297033    VISp                VISpm  0.848737     False   \n",
       "67         553080579    VISl                 RSPv -0.020330     False   \n",
       "77         561918178    VISp                 VISl  0.364951      True   \n",
       "82         565146821    VISp                VISpl  0.633713     False   \n",
       "101        573331541  RSPagl                 RSPv -1.000000     False   \n",
       "109        595259180  RSPagl                 ACAv  0.230659     False   \n",
       "125        617898760   ORBvl                VISam  0.652478      True   \n",
       "\n",
       "     sig_ipsi_and_contra  both_sig  \n",
       "9                  False     False  \n",
       "12                  True     False  \n",
       "14                 False     False  \n",
       "31                 False     False  \n",
       "33                 False     False  \n",
       "43                 False     False  \n",
       "54                  True      True  \n",
       "59                  True      True  \n",
       "62                 False     False  \n",
       "63                 False     False  \n",
       "64                 False     False  \n",
       "67                 False     False  \n",
       "77                  True      True  \n",
       "82                 False     False  \n",
       "101                False     False  \n",
       "109                False     False  \n",
       "125                 True      True  "
      ]
     },
     "execution_count": 7,
     "metadata": {},
     "output_type": "execute_result"
    }
   ],
   "source": [
    "meandat[meandat['image_series_id'].isin(low_corr)][['image_series_id',\n",
    "                                              'source', \n",
    "                                               'target_by_projection',\n",
    "                                               'inj_corr', 'sig_ipsi',\n",
    "                                              'sig_ipsi_and_contra',\n",
    "                                                   'both_sig']]"
   ]
  },
  {
   "cell_type": "code",
   "execution_count": 8,
   "metadata": {},
   "outputs": [],
   "source": [
    "meanc = pd.read_csv(r'/Users/jenniferwh/Dropbox/DMN data/correlations/_final/control_mean_corr_dat_final.csv')"
   ]
  },
  {
   "cell_type": "code",
   "execution_count": 9,
   "metadata": {},
   "outputs": [
    {
     "data": {
      "text/plain": [
       "-1.0"
      ]
     },
     "execution_count": 9,
     "metadata": {},
     "output_type": "execute_result"
    }
   ],
   "source": [
    "meandat['inj_corr'].min()"
   ]
  },
  {
   "cell_type": "code",
   "execution_count": 10,
   "metadata": {},
   "outputs": [
    {
     "data": {
      "image/png": "[encoded data removed]",
      "text/plain": [
       "<Figure size 288x118.8 with 1 Axes>"
      ]
     },
     "metadata": {
      "needs_background": "light"
     },
     "output_type": "display_data"
    }
   ],
   "source": [
    "fig, ax = plt.subplots(figsize = (4, 1.65))\n",
    "bins = np.arange(-1, 1, 0.05)\n",
    "'''sns.distplot(cmeans['inj_corr'], bins = bins, label = 'controls', kde = False, color='k')'''\n",
    "sns.distplot(meanc['inj_corr'], bins = bins, kde = False, color='k', label = 'controls',\n",
    "            hist_kws={\"histtype\": \"step\"})\n",
    "sns.distplot(meandat[(meandat['sig_ipsi'] == False) & \n",
    "                 (meandat['sig_ipsi_and_contra'] == False) & \n",
    "                 (meandat['both_sig'] == False)]['inj_corr'], \n",
    "             bins = bins,\n",
    "             label = 'target-defined, not diff from match', kde = False, color = 'gray')            \n",
    "sns.distplot(meandat[meandat['sig_ipsi']]['inj_corr'], \n",
    "             bins = bins,\n",
    "             label = 'target-defined, sig ipsi', kde = False, color = 'tomato')\n",
    "sns.distplot(meandat[meandat['sig_ipsi_and_contra']]['inj_corr'], \n",
    "             bins = bins,\n",
    "             label = 'target-defined, sig ipsi and contra', kde = False, color = 'firebrick')\n",
    "sns.distplot(meandat[meandat['sig_ipsi_and_contra']]['inj_corr'], \n",
    "             bins = bins,\n",
    "             kde = False, color = 'firebrick')\n",
    "sns.distplot(meanc['inj_corr'], bins = bins, kde = False, color='k', \n",
    "            hist_kws={\"histtype\": \"step\", \"alpha\": 1})\n",
    "plt.legend(loc = 2, frameon = False, fontsize = 8, labelspacing=0.2)\n",
    "plt.title('Injection Layer Correlation (ILC)')\n",
    "ax.set_ylabel('Number of Pairs')\n",
    "ax.set_xlabel(\"\")\n",
    "\n",
    "plt.savefig(os.path.join(path, 'mean inj corr per experiment.pdf'), \n",
    "            bbox_inches='tight', pad_inches=0.3, format='pdf', dpi=300)"
   ]
  },
  {
   "cell_type": "code",
   "execution_count": 11,
   "metadata": {},
   "outputs": [
    {
     "data": {
      "text/plain": [
       "True"
      ]
     },
     "execution_count": 11,
     "metadata": {},
     "output_type": "execute_result"
    }
   ],
   "source": [
    "554421791 in meanc['image_series_id'].unique()"
   ]
  },
  {
   "cell_type": "code",
   "execution_count": 12,
   "metadata": {},
   "outputs": [
    {
     "data": {
      "text/html": [
       "<div>\n",
       "<style scoped>\n",
       "    .dataframe tbody tr th:only-of-type {\n",
       "        vertical-align: middle;\n",
       "    }\n",
       "\n",
       "    .dataframe tbody tr th {\n",
       "        vertical-align: top;\n",
       "    }\n",
       "\n",
       "    .dataframe thead th {\n",
       "        text-align: right;\n",
       "    }\n",
       "</style>\n",
       "<table border=\"1\" class=\"dataframe\">\n",
       "  <thead>\n",
       "    <tr style=\"text-align: right;\">\n",
       "      <th></th>\n",
       "      <th>image_series_id</th>\n",
       "      <th>source</th>\n",
       "      <th>injection_size</th>\n",
       "      <th>number_comparisons</th>\n",
       "      <th>spearman_correlation</th>\n",
       "      <th>predicted_spearman</th>\n",
       "      <th>mean_overlap</th>\n",
       "      <th>mean_distance</th>\n",
       "      <th>low_pred</th>\n",
       "      <th>inj_corr</th>\n",
       "      <th>coeff_var</th>\n",
       "      <th>spearman_correlation_with_contra</th>\n",
       "      <th>predicted_spearman_with_contra</th>\n",
       "      <th>low_pred_with_contra</th>\n",
       "      <th>coeff_var_ic</th>\n",
       "      <th>sig</th>\n",
       "      <th>sig_ipsi_and_contra</th>\n",
       "      <th>both_sig</th>\n",
       "      <th>any_sig</th>\n",
       "    </tr>\n",
       "  </thead>\n",
       "  <tbody>\n",
       "    <tr>\n",
       "      <th>182</th>\n",
       "      <td>554421791</td>\n",
       "      <td>AUDpo</td>\n",
       "      <td>0.065066</td>\n",
       "      <td>1</td>\n",
       "      <td>0.925786</td>\n",
       "      <td>0.894676</td>\n",
       "      <td>0.641034</td>\n",
       "      <td>418.210473</td>\n",
       "      <td>0.827797</td>\n",
       "      <td>1.000000</td>\n",
       "      <td>NaN</td>\n",
       "      <td>0.938189</td>\n",
       "      <td>0.853292</td>\n",
       "      <td>0.777471</td>\n",
       "      <td>NaN</td>\n",
       "      <td>False</td>\n",
       "      <td>False</td>\n",
       "      <td>False</td>\n",
       "      <td>False</td>\n",
       "    </tr>\n",
       "    <tr>\n",
       "      <th>20</th>\n",
       "      <td>112514915</td>\n",
       "      <td>SSs</td>\n",
       "      <td>0.302667</td>\n",
       "      <td>1</td>\n",
       "      <td>0.933411</td>\n",
       "      <td>0.889145</td>\n",
       "      <td>0.189428</td>\n",
       "      <td>764.525997</td>\n",
       "      <td>0.822224</td>\n",
       "      <td>0.999508</td>\n",
       "      <td>NaN</td>\n",
       "      <td>0.894004</td>\n",
       "      <td>0.850003</td>\n",
       "      <td>0.774134</td>\n",
       "      <td>NaN</td>\n",
       "      <td>False</td>\n",
       "      <td>False</td>\n",
       "      <td>False</td>\n",
       "      <td>False</td>\n",
       "    </tr>\n",
       "    <tr>\n",
       "      <th>35</th>\n",
       "      <td>117298988</td>\n",
       "      <td>SSs</td>\n",
       "      <td>0.302667</td>\n",
       "      <td>1</td>\n",
       "      <td>0.933411</td>\n",
       "      <td>0.889145</td>\n",
       "      <td>0.189428</td>\n",
       "      <td>764.525997</td>\n",
       "      <td>0.822224</td>\n",
       "      <td>0.999508</td>\n",
       "      <td>NaN</td>\n",
       "      <td>0.894004</td>\n",
       "      <td>0.850003</td>\n",
       "      <td>0.774134</td>\n",
       "      <td>NaN</td>\n",
       "      <td>False</td>\n",
       "      <td>False</td>\n",
       "      <td>False</td>\n",
       "      <td>False</td>\n",
       "    </tr>\n",
       "    <tr>\n",
       "      <th>162</th>\n",
       "      <td>510417993</td>\n",
       "      <td>VISp</td>\n",
       "      <td>0.020779</td>\n",
       "      <td>1</td>\n",
       "      <td>0.901152</td>\n",
       "      <td>0.876526</td>\n",
       "      <td>0.952616</td>\n",
       "      <td>104.880885</td>\n",
       "      <td>0.809533</td>\n",
       "      <td>0.999351</td>\n",
       "      <td>NaN</td>\n",
       "      <td>0.793910</td>\n",
       "      <td>0.833330</td>\n",
       "      <td>0.757380</td>\n",
       "      <td>NaN</td>\n",
       "      <td>False</td>\n",
       "      <td>False</td>\n",
       "      <td>False</td>\n",
       "      <td>False</td>\n",
       "    </tr>\n",
       "    <tr>\n",
       "      <th>173</th>\n",
       "      <td>524874308</td>\n",
       "      <td>VISrl</td>\n",
       "      <td>0.200678</td>\n",
       "      <td>1</td>\n",
       "      <td>0.912578</td>\n",
       "      <td>0.910175</td>\n",
       "      <td>0.777258</td>\n",
       "      <td>726.773692</td>\n",
       "      <td>0.843253</td>\n",
       "      <td>0.998872</td>\n",
       "      <td>NaN</td>\n",
       "      <td>0.896519</td>\n",
       "      <td>0.871098</td>\n",
       "      <td>0.795228</td>\n",
       "      <td>NaN</td>\n",
       "      <td>False</td>\n",
       "      <td>False</td>\n",
       "      <td>False</td>\n",
       "      <td>False</td>\n",
       "    </tr>\n",
       "    <tr>\n",
       "      <th>...</th>\n",
       "      <td>...</td>\n",
       "      <td>...</td>\n",
       "      <td>...</td>\n",
       "      <td>...</td>\n",
       "      <td>...</td>\n",
       "      <td>...</td>\n",
       "      <td>...</td>\n",
       "      <td>...</td>\n",
       "      <td>...</td>\n",
       "      <td>...</td>\n",
       "      <td>...</td>\n",
       "      <td>...</td>\n",
       "      <td>...</td>\n",
       "      <td>...</td>\n",
       "      <td>...</td>\n",
       "      <td>...</td>\n",
       "      <td>...</td>\n",
       "      <td>...</td>\n",
       "      <td>...</td>\n",
       "    </tr>\n",
       "    <tr>\n",
       "      <th>46</th>\n",
       "      <td>126907302</td>\n",
       "      <td>SSp-bfd</td>\n",
       "      <td>0.108884</td>\n",
       "      <td>2</td>\n",
       "      <td>0.931711</td>\n",
       "      <td>0.917665</td>\n",
       "      <td>0.915556</td>\n",
       "      <td>458.916871</td>\n",
       "      <td>0.846166</td>\n",
       "      <td>-0.049817</td>\n",
       "      <td>0.013478</td>\n",
       "      <td>0.870959</td>\n",
       "      <td>0.878878</td>\n",
       "      <td>0.797993</td>\n",
       "      <td>0.011086</td>\n",
       "      <td>False</td>\n",
       "      <td>False</td>\n",
       "      <td>False</td>\n",
       "      <td>False</td>\n",
       "    </tr>\n",
       "    <tr>\n",
       "      <th>13</th>\n",
       "      <td>100149969</td>\n",
       "      <td>SSp-m</td>\n",
       "      <td>0.197858</td>\n",
       "      <td>3</td>\n",
       "      <td>0.814632</td>\n",
       "      <td>0.899535</td>\n",
       "      <td>0.303670</td>\n",
       "      <td>525.248717</td>\n",
       "      <td>0.818229</td>\n",
       "      <td>-0.053048</td>\n",
       "      <td>0.058501</td>\n",
       "      <td>0.845018</td>\n",
       "      <td>0.861612</td>\n",
       "      <td>0.769977</td>\n",
       "      <td>0.059068</td>\n",
       "      <td>True</td>\n",
       "      <td>False</td>\n",
       "      <td>False</td>\n",
       "      <td>True</td>\n",
       "    </tr>\n",
       "    <tr>\n",
       "      <th>216</th>\n",
       "      <td>606929366</td>\n",
       "      <td>VISp</td>\n",
       "      <td>0.106491</td>\n",
       "      <td>1</td>\n",
       "      <td>0.828946</td>\n",
       "      <td>0.910227</td>\n",
       "      <td>0.829025</td>\n",
       "      <td>558.838080</td>\n",
       "      <td>0.843287</td>\n",
       "      <td>-0.170955</td>\n",
       "      <td>NaN</td>\n",
       "      <td>0.862939</td>\n",
       "      <td>0.870342</td>\n",
       "      <td>0.794450</td>\n",
       "      <td>NaN</td>\n",
       "      <td>True</td>\n",
       "      <td>False</td>\n",
       "      <td>False</td>\n",
       "      <td>True</td>\n",
       "    </tr>\n",
       "    <tr>\n",
       "      <th>28</th>\n",
       "      <td>113226232</td>\n",
       "      <td>ENTm</td>\n",
       "      <td>0.399350</td>\n",
       "      <td>1</td>\n",
       "      <td>0.663761</td>\n",
       "      <td>0.898726</td>\n",
       "      <td>0.352435</td>\n",
       "      <td>659.772688</td>\n",
       "      <td>0.831787</td>\n",
       "      <td>-0.209089</td>\n",
       "      <td>NaN</td>\n",
       "      <td>0.702998</td>\n",
       "      <td>0.860625</td>\n",
       "      <td>0.784735</td>\n",
       "      <td>NaN</td>\n",
       "      <td>True</td>\n",
       "      <td>True</td>\n",
       "      <td>True</td>\n",
       "      <td>True</td>\n",
       "    </tr>\n",
       "    <tr>\n",
       "      <th>142</th>\n",
       "      <td>479982715</td>\n",
       "      <td>VISp</td>\n",
       "      <td>0.076392</td>\n",
       "      <td>8</td>\n",
       "      <td>0.885540</td>\n",
       "      <td>0.894470</td>\n",
       "      <td>0.542808</td>\n",
       "      <td>473.782845</td>\n",
       "      <td>0.809183</td>\n",
       "      <td>-1.000000</td>\n",
       "      <td>0.060958</td>\n",
       "      <td>0.834296</td>\n",
       "      <td>0.853451</td>\n",
       "      <td>0.758217</td>\n",
       "      <td>0.088614</td>\n",
       "      <td>False</td>\n",
       "      <td>False</td>\n",
       "      <td>False</td>\n",
       "      <td>False</td>\n",
       "    </tr>\n",
       "  </tbody>\n",
       "</table>\n",
       "<p>227 rows × 19 columns</p>\n",
       "</div>"
      ],
      "text/plain": [
       "     image_series_id   source  injection_size  number_comparisons  \\\n",
       "182        554421791    AUDpo        0.065066                   1   \n",
       "20         112514915      SSs        0.302667                   1   \n",
       "35         117298988      SSs        0.302667                   1   \n",
       "162        510417993     VISp        0.020779                   1   \n",
       "173        524874308    VISrl        0.200678                   1   \n",
       "..               ...      ...             ...                 ...   \n",
       "46         126907302  SSp-bfd        0.108884                   2   \n",
       "13         100149969    SSp-m        0.197858                   3   \n",
       "216        606929366     VISp        0.106491                   1   \n",
       "28         113226232     ENTm        0.399350                   1   \n",
       "142        479982715     VISp        0.076392                   8   \n",
       "\n",
       "     spearman_correlation  predicted_spearman  mean_overlap  mean_distance  \\\n",
       "182              0.925786            0.894676      0.641034     418.210473   \n",
       "20               0.933411            0.889145      0.189428     764.525997   \n",
       "35               0.933411            0.889145      0.189428     764.525997   \n",
       "162              0.901152            0.876526      0.952616     104.880885   \n",
       "173              0.912578            0.910175      0.777258     726.773692   \n",
       "..                    ...                 ...           ...            ...   \n",
       "46               0.931711            0.917665      0.915556     458.916871   \n",
       "13               0.814632            0.899535      0.303670     525.248717   \n",
       "216              0.828946            0.910227      0.829025     558.838080   \n",
       "28               0.663761            0.898726      0.352435     659.772688   \n",
       "142              0.885540            0.894470      0.542808     473.782845   \n",
       "\n",
       "     low_pred  inj_corr  coeff_var  spearman_correlation_with_contra  \\\n",
       "182  0.827797  1.000000        NaN                          0.938189   \n",
       "20   0.822224  0.999508        NaN                          0.894004   \n",
       "35   0.822224  0.999508        NaN                          0.894004   \n",
       "162  0.809533  0.999351        NaN                          0.793910   \n",
       "173  0.843253  0.998872        NaN                          0.896519   \n",
       "..        ...       ...        ...                               ...   \n",
       "46   0.846166 -0.049817   0.013478                          0.870959   \n",
       "13   0.818229 -0.053048   0.058501                          0.845018   \n",
       "216  0.843287 -0.170955        NaN                          0.862939   \n",
       "28   0.831787 -0.209089        NaN                          0.702998   \n",
       "142  0.809183 -1.000000   0.060958                          0.834296   \n",
       "\n",
       "     predicted_spearman_with_contra  low_pred_with_contra  coeff_var_ic  \\\n",
       "182                        0.853292              0.777471           NaN   \n",
       "20                         0.850003              0.774134           NaN   \n",
       "35                         0.850003              0.774134           NaN   \n",
       "162                        0.833330              0.757380           NaN   \n",
       "173                        0.871098              0.795228           NaN   \n",
       "..                              ...                   ...           ...   \n",
       "46                         0.878878              0.797993      0.011086   \n",
       "13                         0.861612              0.769977      0.059068   \n",
       "216                        0.870342              0.794450           NaN   \n",
       "28                         0.860625              0.784735           NaN   \n",
       "142                        0.853451              0.758217      0.088614   \n",
       "\n",
       "       sig  sig_ipsi_and_contra  both_sig  any_sig  \n",
       "182  False                False     False    False  \n",
       "20   False                False     False    False  \n",
       "35   False                False     False    False  \n",
       "162  False                False     False    False  \n",
       "173  False                False     False    False  \n",
       "..     ...                  ...       ...      ...  \n",
       "46   False                False     False    False  \n",
       "13    True                False     False     True  \n",
       "216   True                False     False     True  \n",
       "28    True                 True      True     True  \n",
       "142  False                False     False    False  \n",
       "\n",
       "[227 rows x 19 columns]"
      ]
     },
     "execution_count": 12,
     "metadata": {},
     "output_type": "execute_result"
    }
   ],
   "source": [
    "meanc.sort_values(by='inj_corr', ascending = False)"
   ]
  },
  {
   "cell_type": "code",
   "execution_count": 13,
   "metadata": {},
   "outputs": [
    {
     "data": {
      "text/plain": [
       "count    227.000000\n",
       "mean       0.750570\n",
       "std        0.284836\n",
       "min       -1.000000\n",
       "25%        0.657332\n",
       "50%        0.826175\n",
       "75%        0.958397\n",
       "max        1.000000\n",
       "Name: inj_corr, dtype: float64"
      ]
     },
     "execution_count": 13,
     "metadata": {},
     "output_type": "execute_result"
    }
   ],
   "source": [
    "meanc['inj_corr'].describe()"
   ]
  },
  {
   "cell_type": "code",
   "execution_count": 14,
   "metadata": {},
   "outputs": [
    {
     "data": {
      "text/plain": [
       "count    109.000000\n",
       "mean       0.847674\n",
       "std        0.252833\n",
       "min       -1.000000\n",
       "25%        0.798483\n",
       "50%        0.940122\n",
       "75%        0.982520\n",
       "max        1.000000\n",
       "Name: inj_corr, dtype: float64"
      ]
     },
     "execution_count": 14,
     "metadata": {},
     "output_type": "execute_result"
    }
   ],
   "source": [
    "meandat[(meandat['sig_ipsi'] == False) & \n",
    "                 (meandat['sig_ipsi_and_contra'] == False) & \n",
    "                 (meandat['both_sig'] == False)]['inj_corr'].describe()"
   ]
  },
  {
   "cell_type": "code",
   "execution_count": 15,
   "metadata": {},
   "outputs": [
    {
     "data": {
      "text/plain": [
       "count    19.000000\n",
       "mean      0.522891\n",
       "std       0.512862\n",
       "min      -1.000000\n",
       "25%       0.354907\n",
       "50%       0.699049\n",
       "75%       0.851529\n",
       "max       0.991519\n",
       "Name: inj_corr, dtype: float64"
      ]
     },
     "execution_count": 15,
     "metadata": {},
     "output_type": "execute_result"
    }
   ],
   "source": [
    "meandat[(meandat['sig_ipsi']) | \n",
    "        (meandat['sig_ipsi_and_contra'])]['inj_corr'].describe()"
   ]
  },
  {
   "cell_type": "code",
   "execution_count": 16,
   "metadata": {},
   "outputs": [
    {
     "data": {
      "text/plain": [
       "25"
      ]
     },
     "execution_count": 16,
     "metadata": {},
     "output_type": "execute_result"
    }
   ],
   "source": [
    "len(meandat[(meandat['sig_ipsi']) |\n",
    "                 (meandat['sig_ipsi_and_contra']) |\n",
    "                 (meandat['both_sig'])])"
   ]
  },
  {
   "cell_type": "code",
   "execution_count": 17,
   "metadata": {},
   "outputs": [
    {
     "data": {
      "text/plain": [
       "-0.21936747"
      ]
     },
     "execution_count": 17,
     "metadata": {},
     "output_type": "execute_result"
    }
   ],
   "source": [
    "meandat[meandat['inj_corr'] > -1]['inj_corr'].min()"
   ]
  },
  {
   "cell_type": "code",
   "execution_count": 18,
   "metadata": {},
   "outputs": [
    {
     "data": {
      "text/plain": [
       "0.7994639402968751"
      ]
     },
     "execution_count": 18,
     "metadata": {},
     "output_type": "execute_result"
    }
   ],
   "source": [
    "meandat['inj_corr'].mean()"
   ]
  },
  {
   "cell_type": "code",
   "execution_count": 19,
   "metadata": {},
   "outputs": [
    {
     "data": {
      "text/plain": [
       "0.32415892768404847"
      ]
     },
     "execution_count": 19,
     "metadata": {},
     "output_type": "execute_result"
    }
   ],
   "source": [
    "meandat['inj_corr'].std()"
   ]
  },
  {
   "cell_type": "code",
   "execution_count": 20,
   "metadata": {},
   "outputs": [
    {
     "data": {
      "text/plain": [
       "0.7505699391997921"
      ]
     },
     "execution_count": 20,
     "metadata": {},
     "output_type": "execute_result"
    }
   ],
   "source": [
    "meanc['inj_corr'].mean()"
   ]
  },
  {
   "cell_type": "code",
   "execution_count": 21,
   "metadata": {},
   "outputs": [
    {
     "data": {
      "text/plain": [
       "0.2848358156746664"
      ]
     },
     "execution_count": 21,
     "metadata": {},
     "output_type": "execute_result"
    }
   ],
   "source": [
    "meanc['inj_corr'].std()"
   ]
  },
  {
   "cell_type": "code",
   "execution_count": null,
   "metadata": {},
   "outputs": [],
   "source": []
  },
  {
   "cell_type": "code",
   "execution_count": 22,
   "metadata": {},
   "outputs": [
    {
     "data": {
      "text/plain": [
       "853"
      ]
     },
     "execution_count": 22,
     "metadata": {},
     "output_type": "execute_result"
    }
   ],
   "source": [
    "len(dat)"
   ]
  },
  {
   "cell_type": "code",
   "execution_count": null,
   "metadata": {},
   "outputs": [],
   "source": []
  }
 ],
 "metadata": {
  "kernelspec": {
   "display_name": "Python 3",
   "language": "python",
   "name": "python3"
  },
  "language_info": {
   "codemirror_mode": {
    "name": "ipython",
    "version": 3
   },
   "file_extension": ".py",
   "mimetype": "text/x-python",
   "name": "python",
   "nbconvert_exporter": "python",
   "pygments_lexer": "ipython3",
   "version": "3.7.6"
  }
 },
 "nbformat": 4,
 "nbformat_minor": 2
}
