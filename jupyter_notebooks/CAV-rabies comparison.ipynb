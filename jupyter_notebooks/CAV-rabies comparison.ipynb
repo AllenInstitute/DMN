{
 "cells": [
  {
   "cell_type": "code",
   "execution_count": 1,
   "metadata": {},
   "outputs": [],
   "source": [
    "import os\n",
    "import pandas as pd\n",
    "import platform\n",
    "from anatomy.anatomy_api import AnatomyApi\n",
    "from allensdk.core.mouse_connectivity_cache import MouseConnectivityCache\n",
    "\n",
    "import seaborn as sns\n",
    "sns.set_context('paper')\n",
    "sns.set_style('white')\n",
    "if platform.system() == 'Darwin':\n",
    "    path = r'/Users/jenniferwh/Dropbox (Allen Institute)/Mesoscale Connectome Papers in Progress/2019 DMN'\n",
    "elif platform.system() == 'Windows':\n",
    "    path = r'C:\\Users\\jenniferwh\\Dropbox (Allen Institute)\\Mesoscale Connectome Papers in Progress\\2019 DMN'\n",
    "savepath = os.path.join(path, '_new_figures', 'Figure_5')"
   ]
  },
  {
   "cell_type": "code",
   "execution_count": 2,
   "metadata": {},
   "outputs": [],
   "source": [
    "aapi = AnatomyApi()\n",
    "ss = aapi.get_summary_structure_data('id')\n",
    "mcc = MouseConnectivityCache(manifest_file = '../connectivity/mouse_connectivity_manifest.json')\n",
    "structure_tree = mcc.get_structure_tree()\n",
    "isocortex = structure_tree.get_structures_by_acronym(['Isocortex'])[0]\n",
    "cla = structure_tree.get_structures_by_acronym(['CLA'])[0]['id']\n",
    "HPF = structure_tree.get_structures_by_acronym(['HPF'])[0]\n",
    "iso = structure_tree.descendant_ids([isocortex['id']])[0]\n",
    "iso = [structure for structure in iso if structure in ss]\n",
    "hipp = structure_tree.descendant_ids([HPF['id']])[0]\n",
    "hipp = [structure for structure in hipp if structure in ss]\n",
    "ia_map = structure_tree.get_id_acronym_map()\n",
    "ai_map = {value:key for key, value in ia_map.items()}\n",
    "ctx_strs = [ai_map[structure] for structure in iso]\n",
    "hipp_strs = [ai_map[structure] for structure in hipp]\n",
    "valid_strs = ctx_strs+hipp_strs #No Cla"
   ]
  },
  {
   "cell_type": "code",
   "execution_count": 3,
   "metadata": {},
   "outputs": [
    {
     "name": "stdout",
     "output_type": "stream",
     "text": [
      "14\n"
     ]
    }
   ],
   "source": [
    "td_dataset = pd.read_csv(os.path.join(savepath, 'td_matches_for_rabies.csv'))\n",
    "td_dataset['tracer_type'] = 'CAV'\n",
    "print(len(td_dataset))"
   ]
  },
  {
   "cell_type": "code",
   "execution_count": 4,
   "metadata": {},
   "outputs": [],
   "source": [
    "rabies_dat = pd.read_csv(os.path.join(path, \n",
    "                                      'data_files', \n",
    "                                      'rabies_experiments_sources_targets_GLM_target_removed.csv'))\n",
    "rabies_dat.rename(columns = {'id': 'image_series_id',\n",
    "                             'primary-source-abbrev': 'source',\n",
    "                             'injection dmn fraction target removed': 'injection dmn fraction',\n",
    "                            'projection dmn fraction target removed': 'projection dmn fraction',\n",
    "                            'primary target acronym': 'target_by_polygon',\n",
    "                            'DMN coefficient target removed': 'DMN coefficient'},\n",
    "                 inplace = True)\n",
    "rabies_dat = rabies_dat[rabies_dat['source'].isin(['RSPv', 'ACAv', 'ACAd'])]\n",
    "rabies_dat = rabies_dat[rabies_dat['target_by_polygon'].isin(['RSPv', 'VISp', 'ACAv'])]\n",
    "rabies_dat['tracer_type'] = 'rabies'"
   ]
  },
  {
   "cell_type": "code",
   "execution_count": 5,
   "metadata": {},
   "outputs": [],
   "source": [
    "dat = pd.concat([td_dataset[['image_series_id', 'source', 'target_by_polygon',\n",
    "                            'injection dmn fraction', 'projection dmn fraction',\n",
    "                            'DMN coefficient', 'tracer_type']],\n",
    "                rabies_dat[['image_series_id', 'source', 'target_by_polygon',\n",
    "                            'injection dmn fraction', 'projection dmn fraction',\n",
    "                            'DMN coefficient', 'tracer_type']]])\n",
    "dat.loc[dat['source'].isin(['ACAd', 'ACAv']), 'td_type'] = 'ACA_RSP'\n",
    "dat.loc[(dat['source'] == 'RSPv') & (dat['target_by_polygon'].isin(['ACAd', 'ACAv'])), \n",
    "       'td_type'] = 'RSPv_ACA'\n",
    "# including one VISpl experiment that was move VISp, but not the others that look like \n",
    "# RSPv-ACA projection type\n",
    "dat.loc[(dat['source'] == 'RSPv') & (dat['target_by_polygon'].isin(['VISp', 'VISpl'])), \n",
    "       'td_type'] = 'RSPv_VISp'"
   ]
  },
  {
   "cell_type": "code",
   "execution_count": 6,
   "metadata": {},
   "outputs": [
    {
     "data": {
      "text/plain": [
       "<matplotlib.axes._subplots.AxesSubplot at 0x1a30a699d0>"
      ]
     },
     "execution_count": 6,
     "metadata": {},
     "output_type": "execute_result"
    },
    {
     "data": {
      "image/png": "[encoded data removed]",
      "text/plain": [
       "<Figure size 432x288 with 1 Axes>"
      ]
     },
     "metadata": {},
     "output_type": "display_data"
    }
   ],
   "source": [
    "sns.stripplot('td_type', 'projection dmn fraction', data = dat, hue = 'tracer_type')"
   ]
  },
  {
   "cell_type": "code",
   "execution_count": 7,
   "metadata": {},
   "outputs": [
    {
     "data": {
      "text/html": [
       "<div>\n",
       "<style scoped>\n",
       "    .dataframe tbody tr th:only-of-type {\n",
       "        vertical-align: middle;\n",
       "    }\n",
       "\n",
       "    .dataframe tbody tr th {\n",
       "        vertical-align: top;\n",
       "    }\n",
       "\n",
       "    .dataframe thead th {\n",
       "        text-align: right;\n",
       "    }\n",
       "</style>\n",
       "<table border=\"1\" class=\"dataframe\">\n",
       "  <thead>\n",
       "    <tr style=\"text-align: right;\">\n",
       "      <th></th>\n",
       "      <th></th>\n",
       "      <th>image_series_id</th>\n",
       "      <th>injection dmn fraction</th>\n",
       "      <th>projection dmn fraction</th>\n",
       "      <th>DMN coefficient</th>\n",
       "      <th>tracer_type</th>\n",
       "      <th>td_type</th>\n",
       "    </tr>\n",
       "    <tr>\n",
       "      <th>source</th>\n",
       "      <th>target_by_polygon</th>\n",
       "      <th></th>\n",
       "      <th></th>\n",
       "      <th></th>\n",
       "      <th></th>\n",
       "      <th></th>\n",
       "      <th></th>\n",
       "    </tr>\n",
       "  </thead>\n",
       "  <tbody>\n",
       "    <tr>\n",
       "      <th rowspan=\"2\" valign=\"top\">ACAd</th>\n",
       "      <th>RSPagl</th>\n",
       "      <td>1</td>\n",
       "      <td>1</td>\n",
       "      <td>1</td>\n",
       "      <td>1</td>\n",
       "      <td>1</td>\n",
       "      <td>1</td>\n",
       "    </tr>\n",
       "    <tr>\n",
       "      <th>RSPv</th>\n",
       "      <td>4</td>\n",
       "      <td>4</td>\n",
       "      <td>4</td>\n",
       "      <td>4</td>\n",
       "      <td>4</td>\n",
       "      <td>4</td>\n",
       "    </tr>\n",
       "    <tr>\n",
       "      <th rowspan=\"3\" valign=\"top\">ACAv</th>\n",
       "      <th>RSPagl</th>\n",
       "      <td>1</td>\n",
       "      <td>1</td>\n",
       "      <td>1</td>\n",
       "      <td>1</td>\n",
       "      <td>1</td>\n",
       "      <td>1</td>\n",
       "    </tr>\n",
       "    <tr>\n",
       "      <th>RSPd</th>\n",
       "      <td>1</td>\n",
       "      <td>1</td>\n",
       "      <td>1</td>\n",
       "      <td>1</td>\n",
       "      <td>1</td>\n",
       "      <td>1</td>\n",
       "    </tr>\n",
       "    <tr>\n",
       "      <th>RSPv</th>\n",
       "      <td>2</td>\n",
       "      <td>2</td>\n",
       "      <td>2</td>\n",
       "      <td>2</td>\n",
       "      <td>2</td>\n",
       "      <td>2</td>\n",
       "    </tr>\n",
       "    <tr>\n",
       "      <th rowspan=\"4\" valign=\"top\">RSPv</th>\n",
       "      <th>ACAd</th>\n",
       "      <td>5</td>\n",
       "      <td>5</td>\n",
       "      <td>5</td>\n",
       "      <td>5</td>\n",
       "      <td>5</td>\n",
       "      <td>5</td>\n",
       "    </tr>\n",
       "    <tr>\n",
       "      <th>ACAv</th>\n",
       "      <td>3</td>\n",
       "      <td>3</td>\n",
       "      <td>3</td>\n",
       "      <td>3</td>\n",
       "      <td>3</td>\n",
       "      <td>3</td>\n",
       "    </tr>\n",
       "    <tr>\n",
       "      <th>VISp</th>\n",
       "      <td>3</td>\n",
       "      <td>3</td>\n",
       "      <td>3</td>\n",
       "      <td>3</td>\n",
       "      <td>3</td>\n",
       "      <td>3</td>\n",
       "    </tr>\n",
       "    <tr>\n",
       "      <th>VISpl</th>\n",
       "      <td>1</td>\n",
       "      <td>1</td>\n",
       "      <td>1</td>\n",
       "      <td>1</td>\n",
       "      <td>1</td>\n",
       "      <td>1</td>\n",
       "    </tr>\n",
       "  </tbody>\n",
       "</table>\n",
       "</div>"
      ],
      "text/plain": [
       "                          image_series_id  injection dmn fraction  \\\n",
       "source target_by_polygon                                            \n",
       "ACAd   RSPagl                           1                       1   \n",
       "       RSPv                             4                       4   \n",
       "ACAv   RSPagl                           1                       1   \n",
       "       RSPd                             1                       1   \n",
       "       RSPv                             2                       2   \n",
       "RSPv   ACAd                             5                       5   \n",
       "       ACAv                             3                       3   \n",
       "       VISp                             3                       3   \n",
       "       VISpl                            1                       1   \n",
       "\n",
       "                          projection dmn fraction  DMN coefficient  \\\n",
       "source target_by_polygon                                             \n",
       "ACAd   RSPagl                                   1                1   \n",
       "       RSPv                                     4                4   \n",
       "ACAv   RSPagl                                   1                1   \n",
       "       RSPd                                     1                1   \n",
       "       RSPv                                     2                2   \n",
       "RSPv   ACAd                                     5                5   \n",
       "       ACAv                                     3                3   \n",
       "       VISp                                     3                3   \n",
       "       VISpl                                    1                1   \n",
       "\n",
       "                          tracer_type  td_type  \n",
       "source target_by_polygon                        \n",
       "ACAd   RSPagl                       1        1  \n",
       "       RSPv                         4        4  \n",
       "ACAv   RSPagl                       1        1  \n",
       "       RSPd                         1        1  \n",
       "       RSPv                         2        2  \n",
       "RSPv   ACAd                         5        5  \n",
       "       ACAv                         3        3  \n",
       "       VISp                         3        3  \n",
       "       VISpl                        1        1  "
      ]
     },
     "execution_count": 7,
     "metadata": {},
     "output_type": "execute_result"
    }
   ],
   "source": [
    "dat.groupby(['source', 'target_by_polygon']).count()"
   ]
  },
  {
   "cell_type": "code",
   "execution_count": null,
   "metadata": {},
   "outputs": [],
   "source": []
  }
 ],
 "metadata": {
  "kernelspec": {
   "display_name": "Python 3",
   "language": "python",
   "name": "python3"
  },
  "language_info": {
   "codemirror_mode": {
    "name": "ipython",
    "version": 3
   },
   "file_extension": ".py",
   "mimetype": "text/x-python",
   "name": "python",
   "nbconvert_exporter": "python",
   "pygments_lexer": "ipython3",
   "version": "3.7.6"
  }
 },
 "nbformat": 4,
 "nbformat_minor": 2
}
