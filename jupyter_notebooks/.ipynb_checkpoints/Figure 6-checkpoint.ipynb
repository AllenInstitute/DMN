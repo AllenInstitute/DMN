{
 "cells": [
  {
   "cell_type": "code",
   "execution_count": 1,
   "metadata": {},
   "outputs": [
    {
     "name": "stderr",
     "output_type": "stream",
     "text": [
      "In /opt/anaconda3/envs/DMN/lib/python3.7/site-packages/matplotlib/mpl-data/stylelib/_classic_test.mplstyle: \n",
      "The text.latex.preview rcparam was deprecated in Matplotlib 3.3 and will be removed two minor releases later.\n",
      "In /opt/anaconda3/envs/DMN/lib/python3.7/site-packages/matplotlib/mpl-data/stylelib/_classic_test.mplstyle: \n",
      "The mathtext.fallback_to_cm rcparam was deprecated in Matplotlib 3.3 and will be removed two minor releases later.\n",
      "In /opt/anaconda3/envs/DMN/lib/python3.7/site-packages/matplotlib/mpl-data/stylelib/_classic_test.mplstyle: Support for setting the 'mathtext.fallback_to_cm' rcParam is deprecated since 3.3 and will be removed two minor releases later; use 'mathtext.fallback : 'cm' instead.\n",
      "In /opt/anaconda3/envs/DMN/lib/python3.7/site-packages/matplotlib/mpl-data/stylelib/_classic_test.mplstyle: \n",
      "The validate_bool_maybe_none function was deprecated in Matplotlib 3.3 and will be removed two minor releases later.\n",
      "In /opt/anaconda3/envs/DMN/lib/python3.7/site-packages/matplotlib/mpl-data/stylelib/_classic_test.mplstyle: \n",
      "The savefig.jpeg_quality rcparam was deprecated in Matplotlib 3.3 and will be removed two minor releases later.\n",
      "In /opt/anaconda3/envs/DMN/lib/python3.7/site-packages/matplotlib/mpl-data/stylelib/_classic_test.mplstyle: \n",
      "The keymap.all_axes rcparam was deprecated in Matplotlib 3.3 and will be removed two minor releases later.\n",
      "In /opt/anaconda3/envs/DMN/lib/python3.7/site-packages/matplotlib/mpl-data/stylelib/_classic_test.mplstyle: \n",
      "The animation.avconv_path rcparam was deprecated in Matplotlib 3.3 and will be removed two minor releases later.\n",
      "In /opt/anaconda3/envs/DMN/lib/python3.7/site-packages/matplotlib/mpl-data/stylelib/_classic_test.mplstyle: \n",
      "The animation.avconv_args rcparam was deprecated in Matplotlib 3.3 and will be removed two minor releases later.\n",
      "/opt/anaconda3/envs/DMN/lib/python3.7/site-packages/statsmodels/compat/pandas.py:49: FutureWarning: The Panel class is removed from pandas. Accessing it from the top-level namespace will also be removed in the next version\n",
      "  data_klasses = (pandas.Series, pandas.DataFrame, pandas.Panel)\n"
     ]
    }
   ],
   "source": [
    "import pandas as pd\n",
    "import matplotlib.pyplot as plt\n",
    "import numpy as np\n",
    "import os\n",
    "import nrrd\n",
    "import json\n",
    "from allensdk.core.mouse_connectivity_cache import MouseConnectivityCache\n",
    "from allensdk.api.queries.ontologies_api import OntologiesApi\n",
    "import requests\n",
    "from anatomy.anatomy_api import AnatomyApi\n",
    "import scipy.stats as stats\n",
    "from statsmodels.stats.anova import anova_lm\n",
    "from statsmodels.stats.multicomp import MultiComparison\n",
    "import statsmodels.api as sm\n",
    "from scipy.optimize import curve_fit\n",
    "from statsmodels.sandbox.regression.predstd import wls_prediction_std\n",
    "from statsmodels.graphics import utils\n",
    "from statsmodels.formula.api import ols\n",
    "import scipy\n",
    "\n",
    "import seaborn as sns\n",
    "sns.set_context('paper')\n",
    "sns.set_style('white')\n",
    "\n",
    "%matplotlib inline\n",
    "import matplotlib as mpl\n",
    "mpl.rcParams['pdf.fonttype'] = 42\n",
    "\n",
    "distance_threshold = 800\n",
    "overlap_threshold = 0.05"
   ]
  },
  {
   "cell_type": "code",
   "execution_count": 2,
   "metadata": {},
   "outputs": [],
   "source": [
    "aapi = AnatomyApi()\n",
    "ss = aapi.get_summary_structure_data('id')\n",
    "mcc = MouseConnectivityCache(manifest_file = 'connectivity/mouse_connectivity_manifest.json')\n",
    "structure_tree = mcc.get_structure_tree()\n",
    "isocortex = structure_tree.get_structures_by_acronym(['Isocortex'])[0]\n",
    "cla = structure_tree.get_structures_by_acronym(['CLA'])[0]['id']\n",
    "HPF = structure_tree.get_structures_by_acronym(['HPF'])[0]\n",
    "iso = structure_tree.descendant_ids([isocortex['id']])[0]\n",
    "iso = [structure for structure in iso if structure in ss]\n",
    "hipp = structure_tree.descendant_ids([HPF['id']])[0]\n",
    "hipp = [structure for structure in hipp if structure in ss]\n",
    "ia_map = structure_tree.get_id_acronym_map()\n",
    "ai_map = {value:key for key, value in ia_map.items()}\n",
    "ctx_strs = [ai_map[structure] for structure in iso]\n",
    "hipp_strs = [ai_map[structure] for structure in hipp]\n",
    "valid_strs = ctx_strs#+hipp_strs #No Cla"
   ]
  },
  {
   "cell_type": "code",
   "execution_count": 4,
   "metadata": {},
   "outputs": [
    {
     "name": "stdout",
     "output_type": "stream",
     "text": [
      "121\n"
     ]
    }
   ],
   "source": [
    "basepath = r'../../../'\n",
    "datpath = r'../data_files'\n",
    "savepath = os.path.join(basepath, '_new_figures', 'Figure_6')\n",
    "td_dataset = pd.read_csv(os.path.join(datpath, 'target_defined_dataset.csv'))\n",
    "\n",
    "td_dataset = td_dataset[td_dataset['include'] == 'yes']\n",
    "td_dataset = td_dataset[td_dataset['source'].isin(valid_strs)]\n",
    "td_dataset = td_dataset[td_dataset['target_by_polygon'] != 'POST']\n",
    "print(len(td_dataset))"
   ]
  },
  {
   "cell_type": "code",
   "execution_count": 6,
   "metadata": {},
   "outputs": [
    {
     "name": "stdout",
     "output_type": "stream",
     "text": [
      "1397\n",
      "973\n"
     ]
    }
   ],
   "source": [
    "# including primary/secondary switch matches within 500 um, all others no distance or overlap constraint\n",
    "dat = pd.read_csv(os.path.join(datpath, 'td_matched_correlations.csv'))\n",
    "print(len(dat))\n",
    "dat = dat[dat['image_series_id'].isin(td_dataset['image_series_id'].unique())]\n",
    "dat = dat[dat['match_id'].isin(td_dataset['image_series_id'].unique())]\n",
    "dat = dat[dat['same_primary'] == True]\n",
    "dat = dat[dat['same secondary for <60% primary'] != False]\n",
    "print(len(dat))\n"
   ]
  },
  {
   "cell_type": "code",
   "execution_count": 7,
   "metadata": {},
   "outputs": [],
   "source": [
    "dat = dat.merge(td_dataset[['image_series_id', 'target_by_polygon', 'CAV_percent_DMN']],\n",
    "               on = 'image_series_id', how = 'left')\n",
    "dat.rename(columns = {'CAV_percent_DMN': 'td_CAV_percent_DMN',\n",
    "                     'target_by_polygon': 'td_target'}, inplace = True)\n",
    "td_dataset['match_id'] = td_dataset['image_series_id']\n",
    "dat = dat.merge(td_dataset[['match_id', 'target_by_polygon', 'CAV_percent_DMN']],\n",
    "               on = 'match_id', how = 'left')\n",
    "dat.rename(columns = {'CAV_percent_DMN': 'match_CAV_percent_DMN',\n",
    "                     'target_by_polygon': 'match_target'}, inplace = True)"
   ]
  },
  {
   "cell_type": "code",
   "execution_count": 8,
   "metadata": {
    "scrolled": true
   },
   "outputs": [
    {
     "name": "stdout",
     "output_type": "stream",
     "text": [
      "495\n"
     ]
    }
   ],
   "source": [
    "# check for duplicates\n",
    "dat['index_original'] = dat.groupby(['image_series_id', 'match_id']).image_series_id.transform('idxmin')    \n",
    "dat = dat[~dat.duplicated(subset=['image_series_id', 'match_id'], keep='first')]\n",
    "for isid in dat['image_series_id'].unique():\n",
    "    matches = dat[dat['image_series_id'] == isid]['match_id'].values\n",
    "    for match in matches:\n",
    "        index = dat[(dat['image_series_id'] == match) &\n",
    "                        (dat['match_id'] == isid)].index\n",
    "        dat = dat.drop(index)\n",
    "print(len(dat))"
   ]
  },
  {
   "cell_type": "code",
   "execution_count": 9,
   "metadata": {},
   "outputs": [
    {
     "name": "stdout",
     "output_type": "stream",
     "text": [
      "357\n",
      "241\n"
     ]
    }
   ],
   "source": [
    "# Clearly distance is the most important factor. Apply distance threshold\n",
    "dat = dat[dat['distance'] < distance_threshold]\n",
    "print(len(dat))\n",
    "dat = dat[dat['dice_coefficient'] > overlap_threshold]\n",
    "print(len(dat))"
   ]
  },
  {
   "cell_type": "code",
   "execution_count": 10,
   "metadata": {},
   "outputs": [
    {
     "name": "stdout",
     "output_type": "stream",
     "text": [
      "241\n",
      "76\n"
     ]
    }
   ],
   "source": [
    "print(len(dat))\n",
    "print(len(dat['match_id'].unique()))"
   ]
  },
  {
   "cell_type": "markdown",
   "metadata": {},
   "source": [
    "## Proceed with the best model"
   ]
  },
  {
   "cell_type": "markdown",
   "metadata": {},
   "source": [
    "#### model fit parameters = [-1.49862876e-01, 8.48657022e-02, -3.46958054e-05,  4.37213721e-02, 8.75721400e-01]\n",
    " "
   ]
  },
  {
   "cell_type": "code",
   "execution_count": 11,
   "metadata": {},
   "outputs": [],
   "source": [
    "def exp(X, a, b, c, d, e):\n",
    "    x,y,z = X\n",
    "    return a * 10**(-x / b) + (c * y) + (d * z) + e\n",
    "popt = [-1.49862876e-01, 8.48657022e-02, -3.46958054e-05, 4.37213721e-02, 8.75721400e-01]"
   ]
  },
  {
   "cell_type": "code",
   "execution_count": 12,
   "metadata": {},
   "outputs": [],
   "source": [
    "dat['exp_predicted'] = exp((dat['td_injection_size'],\n",
    "                               dat['distance'].values,\n",
    "                              dat['dice_coefficient'].values), *popt)"
   ]
  },
  {
   "cell_type": "code",
   "execution_count": 13,
   "metadata": {},
   "outputs": [],
   "source": [
    "def predband(x, xd, yd, f_vars, conf=0.95):\n",
    "    \"\"\"\n",
    "    Code adapted from Rodrigo Nemmen's post:\n",
    "    http://astropython.blogspot.com.ar/2011/12/calculating-prediction-band-\n",
    "    of-linear.html\n",
    "\n",
    "    Calculates the prediction band of the regression model at the\n",
    "    desired confidence level.\n",
    "\n",
    "    Clarification of the difference between confidence and prediction bands:\n",
    "\n",
    "    \"The prediction bands are further from the best-fit line than the\n",
    "    confidence bands, a lot further if you have many data points. The 95%\n",
    "    prediction band is the area in which you expect 95% of all data points\n",
    "    to fall. In contrast, the 95% confidence band is the area that has a\n",
    "    95% chance of containing the true regression line.\"\n",
    "    (from http://www.graphpad.com/guides/prism/6/curve-fitting/index.htm?\n",
    "    reg_graphing_tips_linear_regressio.htm)\n",
    "\n",
    "    Arguments:\n",
    "    - x: array with x values to calculate the confidence band.\n",
    "    - xd, yd: data arrays.\n",
    "    - a, b, c: linear fit parameters.\n",
    "    - conf: desired confidence level, by default 0.95 (2 sigma)\n",
    "\n",
    "    References:\n",
    "    1. http://www.JerryDallal.com/LHSP/slr.htm, Introduction to Simple Linear\n",
    "    Regression, Gerard E. Dallal, Ph.D.\n",
    "    \"\"\"\n",
    "    for ix, val in enumerate(xd):\n",
    "        if all(x == val):\n",
    "            index = ix\n",
    "    alpha = 1. - conf    # Significance\n",
    "    N = len(xd) * len(xd[index])          # data sample size\n",
    "    var_n = len(f_vars)  # Number of variables used by the fitted function.\n",
    "\n",
    "    # Quantile of Student's t distribution for p=(1 - alpha/2)\n",
    "    q = stats.t.ppf(1. - alpha / 2., N - var_n)\n",
    "\n",
    "    # Std. deviation of an individual measurement (Bevington, eq. 6.15)\n",
    "    se = np.sqrt(1. / (N - var_n) * np.sum((yd - exp(xd, *f_vars)) ** 2))\n",
    "\n",
    "    # Auxiliary definitions\n",
    "    sx = (x - xd[0].mean()) ** 2\n",
    "    sxd = np.sum((xd[0] - xd[index].mean()) ** 2)\n",
    "\n",
    "    # Predicted values (best-fit model)\n",
    "    yp = exp(xd, *f_vars)\n",
    "    # Prediction band\n",
    "    dy = q * se * np.sqrt(1. + (1. / N) + (sx / sxd))\n",
    "\n",
    "    # Upper & lower prediction bands.\n",
    "    lpb, upb = yp - dy, yp + dy\n",
    "\n",
    "    return lpb, upb"
   ]
  },
  {
   "cell_type": "code",
   "execution_count": 14,
   "metadata": {},
   "outputs": [],
   "source": [
    "low_pred_band = pd.DataFrame()\n",
    "high_pred_band = pd.DataFrame()\n",
    "for key in ['td_injection_size', 'distance', 'dice_coefficient']:\n",
    "    low_pred_band[key] = predband(dat[key].values, \n",
    "                                       (dat['td_injection_size'].values, \n",
    "                                        dat['distance'].values,\n",
    "                                        dat['dice_coefficient'].values), \n",
    "                                       dat['spearman_correlation'].values, popt)[0]\n",
    "    high_pred_band[key] = predband(dat[key].values, \n",
    "                                       (dat['td_injection_size'].values, \n",
    "                                        dat['distance'].values,\n",
    "                                        dat['dice_coefficient'].values), \n",
    "                                       dat['spearman_correlation'].values, popt)[1]"
   ]
  },
  {
   "cell_type": "code",
   "execution_count": 15,
   "metadata": {},
   "outputs": [],
   "source": [
    "dat['low_pred_band'] = low_pred_band.min(axis = 1).values\n",
    "dat['high_pred_band'] = high_pred_band.max(axis = 1).values"
   ]
  },
  {
   "cell_type": "code",
   "execution_count": 16,
   "metadata": {},
   "outputs": [
    {
     "name": "stdout",
     "output_type": "stream",
     "text": [
      "118\n",
      "14\n",
      "241\n"
     ]
    },
    {
     "data": {
      "text/plain": [
       "array(['VISp', 'ORBvl', 'ORBl', 'RSPv'], dtype=object)"
      ]
     },
     "execution_count": 16,
     "metadata": {},
     "output_type": "execute_result"
    }
   ],
   "source": [
    "print(len(dat[dat['spearman_correlation'] < dat['exp_predicted']]))\n",
    "print(len(dat[dat['spearman_correlation'] < dat['low_pred_band']]['image_series_id'].unique()))\n",
    "print(len(dat))\n",
    "dat[dat['spearman_correlation'] < dat['low_pred_band']]['source'].unique()"
   ]
  },
  {
   "cell_type": "markdown",
   "metadata": {},
   "source": [
    "## Find mean per experiment for target-defined data"
   ]
  },
  {
   "cell_type": "code",
   "execution_count": 17,
   "metadata": {},
   "outputs": [],
   "source": [
    "all_isids = np.unique(np.concatenate(\n",
    "    (dat['image_series_id'].unique(), dat['match_id'].unique())))\n",
    "num_comparisons = []\n",
    "corr = []\n",
    "predicted_corr = []\n",
    "sources = []\n",
    "inj_sizes = []\n",
    "mean_ol = []\n",
    "mean_dist = []\n",
    "mean_low_pred = []\n",
    "mean_high_pred = []\n",
    "frac_low_corr = []\n",
    "for isid in all_isids:\n",
    "    if len(dat[dat['image_series_id'] == isid]['td_primary_source'].values) > 0:\n",
    "        sources.append(dat[dat['image_series_id'] == isid][\n",
    "            'td_primary_source'].values[0])\n",
    "        inj_sizes.append(dat[dat['image_series_id'] == isid][\n",
    "            'td_injection_size'].values[0])\n",
    "    else:\n",
    "        sources.append(dat[dat['match_id'] == isid][\n",
    "            'match_primary_source'].values[0])\n",
    "        inj_sizes.append(dat[dat['match_id'] == isid][\n",
    "            'match_injection_size'].values[0])\n",
    "    dataset = dat[(dat['image_series_id'] == isid) | (\n",
    "        dat['match_id'] == isid)]\n",
    "    \n",
    "    num_comparisons.append(len(dataset))\n",
    "    frac_low_corr.append(\n",
    "        len(dataset[dataset['spearman_correlation'] < dataset['low_pred_band']])/len(dataset))\n",
    "    corr.append(dataset['spearman_correlation'].mean())\n",
    "    predicted_corr.append(dataset['exp_predicted'].mean())\n",
    "    mean_ol.append(dataset['dice_coefficient'].mean())\n",
    "    mean_dist.append(dataset['distance'].mean())\n",
    "    mean_low_pred.append(dataset['low_pred_band'].min())\n",
    "    mean_high_pred.append(dataset['high_pred_band'].max())"
   ]
  },
  {
   "cell_type": "code",
   "execution_count": 18,
   "metadata": {
    "scrolled": false
   },
   "outputs": [
    {
     "name": "stdout",
     "output_type": "stream",
     "text": [
      "98\n"
     ]
    }
   ],
   "source": [
    "meandat = pd.DataFrame({'image_series_id': all_isids, 'source': sources, \n",
    "                       'injection_size': inj_sizes, 'number_comparisons': num_comparisons, \n",
    "                       'fraction_low_corr': frac_low_corr,\n",
    "                       'spearman_correlation': corr, 'exp_predicted': predicted_corr,\n",
    "                      'mean_overlap': mean_ol, 'mean_distance': mean_dist, \n",
    "                       'low_pred': mean_low_pred})\n",
    "print(len(meandat))"
   ]
  },
  {
   "cell_type": "code",
   "execution_count": 19,
   "metadata": {},
   "outputs": [],
   "source": [
    "meansig = meandat[meandat['fraction_low_corr'] > 0.5]"
   ]
  },
  {
   "cell_type": "code",
   "execution_count": 20,
   "metadata": {},
   "outputs": [
    {
     "data": {
      "text/plain": [
       "8"
      ]
     },
     "execution_count": 20,
     "metadata": {},
     "output_type": "execute_result"
    }
   ],
   "source": [
    "len(meansig)"
   ]
  },
  {
   "cell_type": "code",
   "execution_count": 21,
   "metadata": {
    "scrolled": true
   },
   "outputs": [
    {
     "data": {
      "text/plain": [
       "array(['VISp', 'ORBvl', 'ORBl', 'RSPv'], dtype=object)"
      ]
     },
     "execution_count": 21,
     "metadata": {},
     "output_type": "execute_result"
    }
   ],
   "source": [
    "meansig['source'].unique()"
   ]
  },
  {
   "cell_type": "code",
   "execution_count": 22,
   "metadata": {},
   "outputs": [],
   "source": [
    "meandat.loc[meandat['image_series_id'].isin(meansig['image_series_id'].values), \n",
    "            'low_corr_experiment'] = True"
   ]
  },
  {
   "cell_type": "code",
   "execution_count": 23,
   "metadata": {},
   "outputs": [],
   "source": [
    "dat.loc[(dat['td_CAV_percent_DMN'] > 50) &\n",
    "        (dat['match_CAV_percent_DMN'] > 50), 'experiment_type'] = 'both in'\n",
    "dat.loc[(dat['td_CAV_percent_DMN'] < 50) &\n",
    "        (dat['match_CAV_percent_DMN'] < 50), 'experiment_type'] = 'both out'\n",
    "dat.loc[(dat['td_CAV_percent_DMN'] < 50) &\n",
    "        (dat['match_CAV_percent_DMN'] > 50), 'experiment_type'] = 'in-out'\n",
    "dat.loc[(dat['td_CAV_percent_DMN'] > 50) &\n",
    "        (dat['match_CAV_percent_DMN'] < 50), 'experiment_type'] = 'in-out'"
   ]
  },
  {
   "cell_type": "code",
   "execution_count": 24,
   "metadata": {},
   "outputs": [
    {
     "data": {
      "text/plain": [
       "array(['both out', 'in-out', 'both in', nan], dtype=object)"
      ]
     },
     "execution_count": 24,
     "metadata": {},
     "output_type": "execute_result"
    }
   ],
   "source": [
    "dat['experiment_type'].unique()"
   ]
  },
  {
   "cell_type": "code",
   "execution_count": 25,
   "metadata": {},
   "outputs": [
    {
     "name": "stdout",
     "output_type": "stream",
     "text": [
      "9\n",
      "28\n"
     ]
    }
   ],
   "source": [
    "print(len(dat[dat['spearman_correlation'] > dat['high_pred_band']]))\n",
    "print(len(dat[dat['spearman_correlation'] < dat['low_pred_band']]))"
   ]
  },
  {
   "cell_type": "code",
   "execution_count": 26,
   "metadata": {},
   "outputs": [
    {
     "data": {
      "text/plain": [
       "8"
      ]
     },
     "execution_count": 26,
     "metadata": {},
     "output_type": "execute_result"
    }
   ],
   "source": [
    "len(meandat[meandat['fraction_low_corr'] > 0.5])"
   ]
  },
  {
   "cell_type": "code",
   "execution_count": 27,
   "metadata": {},
   "outputs": [
    {
     "data": {
      "text/plain": [
       "array(['VISp', 'ORBvl', 'ORBl', 'RSPv'], dtype=object)"
      ]
     },
     "execution_count": 27,
     "metadata": {},
     "output_type": "execute_result"
    }
   ],
   "source": [
    "meandat[meandat['fraction_low_corr'] > 0.5]['source'].unique()"
   ]
  },
  {
   "cell_type": "code",
   "execution_count": 28,
   "metadata": {},
   "outputs": [],
   "source": [
    "def assign_module(df):\n",
    "    df.loc[df['source'].isin(['ACAd', 'ACAv', 'ORBl','ORBm', 'ORBvl', \n",
    "                                                    'ILA', 'PL', 'FRP']), 'module'] = 'Prefrontal'\n",
    "    df.loc[df['source'].isin(['VISam', 'RSPagl', 'RSPv', 'VISpm',\n",
    "                                                    'VISa', 'RSPd']), 'module'] = 'Medial'\n",
    "    df.loc[df['source'].isin(['SSp-tr', 'SSp-ll', 'SSp-bfd', 'SSp-un',\n",
    "                                                    'SSp-ul', 'MOs', 'MOp', 'SSs', 'SSp-n',\n",
    "                                                    'SSp-m']), 'module'] = 'Somatomotor'\n",
    "    df.loc[df['source'].isin(['VISal', 'VISl', 'VISli', 'VISp', 'VISpl',\n",
    "                                                    'VISpor', 'VISrl']), 'module'] = 'Visual'\n",
    "    df.loc[df['source'].isin(['AUDpo', 'AUDd', 'AUDp', 'AUDv']), \n",
    "                    'module'] = 'Auditory'\n",
    "    df.loc[df['source'].isin(['TEa', 'PERI', 'ECT', 'GU', 'AId', 'AIv',\n",
    "                                                    'AIp', 'VISC']), 'module'] = 'Lateral'\n",
    "    print(len(df[df['module'].isnull()]))\n",
    "    return df"
   ]
  },
  {
   "cell_type": "code",
   "execution_count": 29,
   "metadata": {},
   "outputs": [
    {
     "name": "stdout",
     "output_type": "stream",
     "text": [
      "0\n"
     ]
    }
   ],
   "source": [
    "dat = assign_module(dat)"
   ]
  },
  {
   "cell_type": "code",
   "execution_count": 30,
   "metadata": {},
   "outputs": [],
   "source": [
    "in_strs = ['ACAd', 'ACAv', 'PL', 'ILA', 'ORBl', 'ORBm', 'ORBvl', 'VISa', 'VISam', 'RSPagl',\n",
    "    'RSPd', 'RSPv', 'SSp-tr', 'SSp-ll', 'MOs']\n",
    "dat.loc[dat['source'].isin(in_strs), 'in-out'] = 'in'\n",
    "dat.loc[~dat['source'].isin(in_strs), 'in-out'] = 'out'"
   ]
  },
  {
   "cell_type": "code",
   "execution_count": 31,
   "metadata": {},
   "outputs": [
    {
     "name": "stdout",
     "output_type": "stream",
     "text": [
      "32\n"
     ]
    }
   ],
   "source": [
    "rspv = dat[(dat['source'] == 'RSPv')]\n",
    "print(len(rspv))"
   ]
  },
  {
   "cell_type": "code",
   "execution_count": 32,
   "metadata": {},
   "outputs": [
    {
     "name": "stdout",
     "output_type": "stream",
     "text": [
      "10\n"
     ]
    }
   ],
   "source": [
    "rspv_sig = rspv[rspv['spearman_correlation'] < rspv['low_pred_band']]\n",
    "print(len(rspv_sig))"
   ]
  },
  {
   "cell_type": "code",
   "execution_count": 33,
   "metadata": {},
   "outputs": [
    {
     "data": {
      "text/plain": [
       "0.3125"
      ]
     },
     "execution_count": 33,
     "metadata": {},
     "output_type": "execute_result"
    }
   ],
   "source": [
    "len(rspv_sig)/len(rspv)"
   ]
  },
  {
   "cell_type": "markdown",
   "metadata": {},
   "source": [
    "## Plot projections from various RSPv injections"
   ]
  },
  {
   "cell_type": "code",
   "execution_count": 34,
   "metadata": {},
   "outputs": [
    {
     "name": "stdout",
     "output_type": "stream",
     "text": [
      "7\n"
     ]
    }
   ],
   "source": [
    "all_isids = [592522663, 623838656, 521255975, 561511939, 569904687, 868641659, 112595376]\n",
    "print(len(all_isids))"
   ]
  },
  {
   "cell_type": "code",
   "execution_count": 37,
   "metadata": {},
   "outputs": [],
   "source": [
    "new_isid = 868641659\n",
    "online_isids = [isid for isid in all_isids if isid != new_isid]\n",
    "unionize_path = os.path.join(datpath, 'alternative_unionizes',\n",
    "                             'experiment_{0}'.format(str(new_isid)), \n",
    "                             'output.json') #new data not online yet\n",
    "with open(unionize_path, 'r') as jsonfile:\n",
    "    unionize_dat = json.load(jsonfile)\n",
    "unionize_dat = pd.DataFrame(unionize_dat)\n",
    "unionize_dat = unionize_dat[unionize_dat['threshold'] == 0]\n",
    "unionize_dat.drop_duplicates(inplace = True)\n",
    "unionize_dat.rename(columns = {'projection_volume_above_threshold': 'projection_volume',\n",
    "                           'normalized_projection_volume_above_threshold': \n",
    "                               'normalized_projection_volume',\n",
    "                               'image_series_id': 'experiment_id'}, \n",
    "    inplace = True)\n",
    "td_unionize = unionize_dat[(unionize_dat['is_injection'] == False) &\n",
    "                           (unionize_dat['hemisphere_id'].isin([1,2]))]\n",
    "td_unionize = td_unionize[['experiment_id', 'hemisphere_id', 'is_injection',\n",
    "                          'normalized_projection_volume', 'structure_id']]"
   ]
  },
  {
   "cell_type": "code",
   "execution_count": 38,
   "metadata": {},
   "outputs": [
    {
     "name": "stdout",
     "output_type": "stream",
     "text": [
      "7\n"
     ]
    }
   ],
   "source": [
    "unionize_dat = pd.DataFrame( mcc.get_structure_unionizes(experiment_ids = online_isids,\n",
    "                                                is_injection = False,\n",
    "                                                hemisphere_ids = [1,2],\n",
    "                                                structure_ids = ss))\n",
    "unionize_dat.loc[(unionize_dat['experiment_id'] == 112595376) &\n",
    "                (unionize_dat['hemisphere_id'] == 1), 'hemisphere_id'] = 0\n",
    "unionize_dat.loc[(unionize_dat['experiment_id'] == 112595376) &\n",
    "                (unionize_dat['hemisphere_id'] == 2), 'hemisphere_id'] = 1\n",
    "unionize_dat.loc[(unionize_dat['experiment_id'] == 112595376) &\n",
    "                (unionize_dat['hemisphere_id'] == 0), 'hemisphere_id'] = 2\n",
    "unionize_dat = unionize_dat[['experiment_id', 'hemisphere_id', 'is_injection',\n",
    "                           'normalized_projection_volume', 'structure_id']]\n",
    "unionize_dat = pd.concat([unionize_dat, td_unionize])\n",
    "print(len(unionize_dat['experiment_id'].unique()))"
   ]
  },
  {
   "cell_type": "code",
   "execution_count": 39,
   "metadata": {},
   "outputs": [],
   "source": [
    "rspv_targets = ['ACAd', 'ACAv', 'PL', 'ILA', 'ORBl', 'ORBm', 'ORBvl', \n",
    "                'VISa', 'VISam', 'RSPagl', 'RSPd', 'RSPv', 'VISpm', 'VISal', 'VISl', \n",
    "                'VISp', 'VISpl', 'VISli', 'VISpor', 'VISrl']\n",
    "structures = [ia_map[structure] for structure in rspv_targets]\n",
    "pltdat = unionize_dat[(unionize_dat['hemisphere_id'] == 1) &\n",
    "                      (unionize_dat['structure_id'].isin(structures))]"
   ]
  },
  {
   "cell_type": "code",
   "execution_count": 40,
   "metadata": {},
   "outputs": [
    {
     "name": "stderr",
     "output_type": "stream",
     "text": [
      "/opt/anaconda3/envs/DMN/lib/python3.7/site-packages/pandas/core/indexing.py:376: SettingWithCopyWarning: \n",
      "A value is trying to be set on a copy of a slice from a DataFrame.\n",
      "Try using .loc[row_indexer,col_indexer] = value instead\n",
      "\n",
      "See the caveats in the documentation: http://pandas.pydata.org/pandas-docs/stable/user_guide/indexing.html#returning-a-view-versus-a-copy\n",
      "  self.obj[key] = _infer_fill_value(value)\n",
      "/opt/anaconda3/envs/DMN/lib/python3.7/site-packages/pandas/core/indexing.py:494: SettingWithCopyWarning: \n",
      "A value is trying to be set on a copy of a slice from a DataFrame.\n",
      "Try using .loc[row_indexer,col_indexer] = value instead\n",
      "\n",
      "See the caveats in the documentation: http://pandas.pydata.org/pandas-docs/stable/user_guide/indexing.html#returning-a-view-versus-a-copy\n",
      "  self.obj[item] = s\n"
     ]
    }
   ],
   "source": [
    "pltdat.loc[pltdat['experiment_id'] == 112595376, 'expt_type'] = 'WT'\n",
    "pltdat.loc[pltdat['experiment_id'].isin([569904687, 868641659]), 'expt_type'] = 'VISp/VISl'\n",
    "pltdat.loc[pltdat['experiment_id'].isin([592522663, 623838656]), 'expt_type'] = 'PL'\n",
    "pltdat.loc[pltdat['experiment_id'].isin([521255975, 561511939]), 'expt_type'] = 'ACAd'"
   ]
  },
  {
   "cell_type": "code",
   "execution_count": 41,
   "metadata": {},
   "outputs": [
    {
     "name": "stderr",
     "output_type": "stream",
     "text": [
      "/opt/anaconda3/envs/DMN/lib/python3.7/site-packages/ipykernel_launcher.py:8: UserWarning: FixedFormatter should only be used together with FixedLocator\n",
      "  \n"
     ]
    },
    {
     "data": {
      "text/plain": [
       "<matplotlib.lines.Line2D at 0x1178f9510>"
      ]
     },
     "execution_count": 41,
     "metadata": {},
     "output_type": "execute_result"
    },
    {
     "data": {
      "image/png": "[encoded data removed]",
      "text/plain": [
       "<Figure size 216x72 with 1 Axes>"
      ]
     },
     "metadata": {
      "needs_background": "light"
     },
     "output_type": "display_data"
    }
   ],
   "source": [
    "fig, ax = plt.subplots(figsize = (3, 1))\n",
    "sns.stripplot('structure_id', 'normalized_projection_volume', \n",
    "              data = pltdat, order = structures, hue = 'expt_type', \n",
    "              hue_order = ['PL', 'ACAd', 'VISp/VISl', 'WT'],\n",
    "            palette = ['m', 'c', 'lime', 'k'], dodge = False, s=4, linewidth = 0.5,\n",
    "              alpha = 0.7)\n",
    "ax.set_xticklabels(rspv_targets, rotation=90, fontsize = 7)\n",
    "ax.set_yticklabels(ax.get_yticklabels(), fontsize = 7)\n",
    "ax.set_ylim([10**-2.5, 100])\n",
    "ax.set_yscale('log')\n",
    "sns.despine()\n",
    "ax.set_ylabel('Log$_{10}$ NPV', fontsize = 7)\n",
    "ax.set_xlabel(None)\n",
    "ax.tick_params(left = True, pad = 1)\n",
    "ax.tick_params('x', pad = -3)\n",
    "ax.yaxis.labelpad = -1\n",
    "ax.legend_.remove()\n",
    "ax.set_yticks([10**-2, 10**-1, 10**0, 10**1, 10**2])\n",
    "ax.axhline(y = 0.01, xmin=0, xmax=1, color = 'gray', linestyle = 'dashed',\n",
    "          linewidth = 0.5, zorder = -1)\n",
    "ax.axhline(y = 0.1, xmin=0, xmax=1, color = 'gray', linestyle = 'dashed',\n",
    "          linewidth = 0.5, zorder = -1)\n",
    "ax.axhline(y = 1, xmin=0, xmax=1, color = 'gray', linestyle = 'dashed',\n",
    "          linewidth = 0.5, zorder = -1)\n",
    "ax.axhline(y = 10, xmin=0, xmax=1, color = 'gray', linestyle = 'dashed',\n",
    "          linewidth = 0.5, zorder = -1)\n",
    "ax.axhline(y = 100, xmin=0, xmax=1, color = 'gray', linestyle = 'dashed',\n",
    "          linewidth = 0.5, zorder = -1)\n",
    "#plt.savefig(os.path.join(savepath, 'RSPv_targets_NPV_ipsi.pdf'), \n",
    "#            bbox_inches='tight', pad_inches=0.3, format='pdf', transparent=True, dpi=300)"
   ]
  },
  {
   "cell_type": "code",
   "execution_count": 42,
   "metadata": {},
   "outputs": [
    {
     "ename": "NameError",
     "evalue": "name 'pltdat_mean' is not defined",
     "output_type": "error",
     "traceback": [
      "\u001b[0;31m-------------------------------------------------------------------------\u001b[0m",
      "\u001b[0;31mNameError\u001b[0m                               Traceback (most recent call last)",
      "\u001b[0;32m<ipython-input-42-2b99a34cfafd>\u001b[0m in \u001b[0;36m<module>\u001b[0;34m\u001b[0m\n\u001b[0;32m----> 1\u001b[0;31m \u001b[0mpltdat_mean\u001b[0m\u001b[0;34m[\u001b[0m\u001b[0;34m'expt_type'\u001b[0m\u001b[0;34m]\u001b[0m\u001b[0;34m.\u001b[0m\u001b[0munique\u001b[0m\u001b[0;34m(\u001b[0m\u001b[0;34m)\u001b[0m\u001b[0;34m\u001b[0m\u001b[0;34m\u001b[0m\u001b[0m\n\u001b[0m",
      "\u001b[0;31mNameError\u001b[0m: name 'pltdat_mean' is not defined"
     ]
    }
   ],
   "source": [
    "pltdat_mean['expt_type'].unique()"
   ]
  },
  {
   "cell_type": "code",
   "execution_count": 43,
   "metadata": {},
   "outputs": [
    {
     "name": "stderr",
     "output_type": "stream",
     "text": [
      "/opt/anaconda3/envs/DMN/lib/python3.7/site-packages/ipykernel_launcher.py:13: UserWarning: FixedFormatter should only be used together with FixedLocator\n",
      "  del sys.path[0]\n"
     ]
    },
    {
     "data": {
      "text/plain": [
       "<matplotlib.lines.Line2D at 0x11940f810>"
      ]
     },
     "execution_count": 43,
     "metadata": {},
     "output_type": "execute_result"
    },
    {
     "data": {
      "image/png": "[encoded data removed]",
      "text/plain": [
       "<Figure size 216x72 with 1 Axes>"
      ]
     },
     "metadata": {
      "needs_background": "light"
     },
     "output_type": "display_data"
    }
   ],
   "source": [
    "fig, ax = plt.subplots(figsize = (3, 1))\n",
    "pltdat_mean = pltdat.groupby(['expt_type', 'structure_id']).mean().reset_index()\n",
    "sns.stripplot('structure_id', 'normalized_projection_volume', \n",
    "              data = pltdat_mean[pltdat_mean['expt_type'] == 'WT'], \n",
    "              order = structures, color = 'k', \n",
    "              dodge = False, s=4, linewidth = 0.5, zorder = -1)\n",
    "sns.stripplot('structure_id', 'normalized_projection_volume', \n",
    "              data = pltdat_mean[pltdat_mean['expt_type'] != 'WT'], \n",
    "              order = structures, hue = 'expt_type', \n",
    "              hue_order = ['PL', 'ACAd', 'VISp/VISl'],\n",
    "            palette = ['m', 'c', 'lime'], dodge = False, s=4, linewidth = 0.5)\n",
    "ax.set_xticklabels(rspv_targets, rotation=90, fontsize = 7)\n",
    "ax.set_yticklabels(ax.get_yticklabels(), fontsize = 7)\n",
    "ax.set_ylim([10**-2.5, 100])\n",
    "ax.set_yscale('log')\n",
    "sns.despine()\n",
    "ax.set_ylabel('Log$_{10}$ NPV', fontsize = 7)\n",
    "ax.set_xlabel(None)\n",
    "ax.tick_params(left = True, pad = 1)\n",
    "ax.tick_params('x', pad = -3)\n",
    "ax.yaxis.labelpad = -1\n",
    "ax.legend_.remove()\n",
    "ax.set_yticks([10**-2, 10**-1, 10**0, 10**1, 10**2])\n",
    "ax.axhline(y = 0.01, xmin=0, xmax=1, color = 'gray', linestyle = 'dashed',\n",
    "          linewidth = 0.5, zorder = -2)\n",
    "ax.axhline(y = 0.1, xmin=0, xmax=1, color = 'gray', linestyle = 'dashed',\n",
    "          linewidth = 0.5, zorder = -2)\n",
    "ax.axhline(y = 1, xmin=0, xmax=1, color = 'gray', linestyle = 'dashed',\n",
    "          linewidth = 0.5, zorder = -2)\n",
    "ax.axhline(y = 10, xmin=0, xmax=1, color = 'gray', linestyle = 'dashed',\n",
    "          linewidth = 0.5, zorder = -2)\n",
    "ax.axhline(y = 100, xmin=0, xmax=1, color = 'gray', linestyle = 'dashed',\n",
    "          linewidth = 0.5, zorder = -2)\n",
    "#plt.savefig(os.path.join(savepath, 'RSPv_targets_NPV_ipsi_mean.pdf'), \n",
    "#            bbox_inches='tight', pad_inches=0.3, format='pdf', transparent=True, dpi=300)"
   ]
  },
  {
   "cell_type": "code",
   "execution_count": 44,
   "metadata": {},
   "outputs": [],
   "source": [
    "prefrontal = ['ACAd', 'ACAv', 'ORBl','ORBm', 'ORBvl', 'ILA', 'PL', 'FRP']\n",
    "medial = ['VISam', 'RSPagl', 'RSPv', 'VISpm','VISa', 'RSPd']\n",
    "visual = ['VISal', 'VISl', 'VISli', 'VISp', 'VISpl', 'VISpor', 'VISrl']\n",
    "prefrontal_strs = [ia_map[structure] for structure in prefrontal]\n",
    "medial_strs = [ia_map[structure] for structure in medial]\n",
    "visual_strs = [ia_map[structure] for structure in visual]\n",
    "pltdat = unionize_dat[(unionize_dat['hemisphere_id'] == 1) &\n",
    "                      (unionize_dat['structure_id'].isin(\n",
    "                          prefrontal_strs+medial_strs+visual_strs))]\n",
    "pltdat.loc[np.log10(pltdat['normalized_projection_volume']+10e-5) < -2.5,\n",
    "          'normalized_projection_volume'] = 10**-2.5"
   ]
  },
  {
   "cell_type": "code",
   "execution_count": 45,
   "metadata": {},
   "outputs": [],
   "source": [
    "pltdat.loc[pltdat['structure_id'].isin(prefrontal_strs), 'module'] = 'Prefrontal'\n",
    "pltdat.loc[pltdat['structure_id'].isin(medial_strs), 'module'] = 'Medial'\n",
    "pltdat.loc[pltdat['structure_id'].isin(visual_strs), 'module'] = 'Visual'"
   ]
  },
  {
   "cell_type": "code",
   "execution_count": 46,
   "metadata": {},
   "outputs": [],
   "source": [
    "pltdat.loc[pltdat['experiment_id'] == 112595376, 'expt_type'] = 'WT'\n",
    "pltdat.loc[pltdat['experiment_id'].isin([569904687, 868641659]), 'expt_type'] = 'VISp/VISl'\n",
    "pltdat.loc[pltdat['experiment_id'].isin([592522663, 623838656]), 'expt_type'] = 'PL'\n",
    "pltdat.loc[pltdat['experiment_id'].isin([521255975, 561511939]), 'expt_type'] = 'ACAd'"
   ]
  },
  {
   "cell_type": "code",
   "execution_count": 47,
   "metadata": {},
   "outputs": [
    {
     "name": "stderr",
     "output_type": "stream",
     "text": [
      "/opt/anaconda3/envs/DMN/lib/python3.7/site-packages/ipykernel_launcher.py:8: UserWarning: FixedFormatter should only be used together with FixedLocator\n",
      "  \n"
     ]
    },
    {
     "data": {
      "image/png": "[encoded data removed]",
      "text/plain": [
       "<Figure size 72x72 with 1 Axes>"
      ]
     },
     "metadata": {
      "needs_background": "light"
     },
     "output_type": "display_data"
    }
   ],
   "source": [
    "fig, ax = plt.subplots(figsize = (1, 1))\n",
    "sns.boxplot('module', 'normalized_projection_volume', \n",
    "              data = pltdat, hue = 'expt_type', hue_order = ['PL', 'ACAd', 'VISp/VISl', 'WT'],\n",
    "            palette = ['m', 'c', 'lime', 'k'],\n",
    "             order = ['Prefrontal', 'Medial', 'Visual'], linewidth = 0.5,\n",
    "            fliersize = 0.1)\n",
    "ax.set_xticklabels(ax.get_xticklabels(), rotation=90, fontsize = 7)\n",
    "ax.set_yticklabels(ax.get_yticklabels(), fontsize = 7)\n",
    "ax.set_yscale('log')\n",
    "ax.set_ylim([10**-2.5, 100])\n",
    "ax.set_yticks([10**-2, 10**-1, 10**0, 10**1])\n",
    "sns.despine()\n",
    "ax.set_ylabel('Log$_{10}$ NPV', fontsize = 7)\n",
    "ax.set_xlabel(None)\n",
    "ax.tick_params(left = True, pad = 1)\n",
    "ax.tick_params('x', pad = -3)\n",
    "ax.yaxis.labelpad = -1\n",
    "ax.legend_.remove()\n",
    "#plt.savefig(os.path.join(savepath, 'RSPv_targets_NPV_ipsi_modules_combined.pdf'), \n",
    "#            bbox_inches='tight', pad_inches=0.3, format='pdf', transparent=True, dpi=300)"
   ]
  },
  {
   "cell_type": "code",
   "execution_count": 48,
   "metadata": {},
   "outputs": [
    {
     "data": {
      "text/plain": [
       "<AxesSubplot:xlabel='normalized_projection_volume'>"
      ]
     },
     "execution_count": 48,
     "metadata": {},
     "output_type": "execute_result"
    },
    {
     "data": {
      "image/png": "[encoded data removed]",
      "text/plain": [
       "<Figure size 432x288 with 2 Axes>"
      ]
     },
     "metadata": {
      "needs_background": "light"
     },
     "output_type": "display_data"
    }
   ],
   "source": [
    "fig, ax = plt.subplots(1, 2)\n",
    "sns.distplot(pltdat['normalized_projection_volume'], ax = ax[0])\n",
    "sns.distplot(np.log10(pltdat['normalized_projection_volume']+10e-5), ax = ax[1])"
   ]
  },
  {
   "cell_type": "code",
   "execution_count": 49,
   "metadata": {},
   "outputs": [
    {
     "name": "stdout",
     "output_type": "stream",
     "text": [
      "147\n",
      "126\n"
     ]
    }
   ],
   "source": [
    "#drop wt for stats\n",
    "print(len(pltdat))\n",
    "pltdat = pltdat[pltdat['expt_type'] != 'WT']\n",
    "print(len(pltdat))"
   ]
  },
  {
   "cell_type": "code",
   "execution_count": 50,
   "metadata": {},
   "outputs": [
    {
     "data": {
      "text/html": [
       "<div>\n",
       "<style scoped>\n",
       "    .dataframe tbody tr th:only-of-type {\n",
       "        vertical-align: middle;\n",
       "    }\n",
       "\n",
       "    .dataframe tbody tr th {\n",
       "        vertical-align: top;\n",
       "    }\n",
       "\n",
       "    .dataframe thead th {\n",
       "        text-align: right;\n",
       "    }\n",
       "</style>\n",
       "<table border=\"1\" class=\"dataframe\">\n",
       "  <thead>\n",
       "    <tr style=\"text-align: right;\">\n",
       "      <th></th>\n",
       "      <th>sum_sq</th>\n",
       "      <th>df</th>\n",
       "      <th>F</th>\n",
       "      <th>PR(&gt;F)</th>\n",
       "    </tr>\n",
       "  </thead>\n",
       "  <tbody>\n",
       "    <tr>\n",
       "      <th>C(module)</th>\n",
       "      <td>23.7679</td>\n",
       "      <td>2.0</td>\n",
       "      <td>11.7586</td>\n",
       "      <td>0.0000</td>\n",
       "    </tr>\n",
       "    <tr>\n",
       "      <th>C(expt_type)</th>\n",
       "      <td>1.7289</td>\n",
       "      <td>2.0</td>\n",
       "      <td>0.8553</td>\n",
       "      <td>0.4278</td>\n",
       "    </tr>\n",
       "    <tr>\n",
       "      <th>C(module):C(expt_type)</th>\n",
       "      <td>23.3292</td>\n",
       "      <td>4.0</td>\n",
       "      <td>5.7708</td>\n",
       "      <td>0.0003</td>\n",
       "    </tr>\n",
       "    <tr>\n",
       "      <th>Residual</th>\n",
       "      <td>118.2477</td>\n",
       "      <td>117.0</td>\n",
       "      <td>NaN</td>\n",
       "      <td>NaN</td>\n",
       "    </tr>\n",
       "  </tbody>\n",
       "</table>\n",
       "</div>"
      ],
      "text/plain": [
       "                          sum_sq     df        F  PR(>F)\n",
       "C(module)                23.7679    2.0  11.7586  0.0000\n",
       "C(expt_type)              1.7289    2.0   0.8553  0.4278\n",
       "C(module):C(expt_type)   23.3292    4.0   5.7708  0.0003\n",
       "Residual                118.2477  117.0      NaN     NaN"
      ]
     },
     "execution_count": 50,
     "metadata": {},
     "output_type": "execute_result"
    }
   ],
   "source": [
    "pltdat['log_NPV'] = np.log10(pltdat['normalized_projection_volume']+10e-5)\n",
    "formula = 'log_NPV~C(module)*C(expt_type)' \n",
    "model = ols(formula, pltdat).fit()\n",
    "aov_table = anova_lm(model, typ=2) #http://www.utstat.utoronto.ca/reid/sta442f/2009/typeSS.pdf\n",
    "aov_table.round(4)"
   ]
  },
  {
   "cell_type": "code",
   "execution_count": 51,
   "metadata": {},
   "outputs": [
    {
     "data": {
      "image/png": "[encoded data removed]",
      "text/plain": [
       "<Figure size 432x288 with 1 Axes>"
      ]
     },
     "metadata": {
      "needs_background": "light"
     },
     "output_type": "display_data"
    }
   ],
   "source": [
    "res = model.resid \n",
    "fig = sm.qqplot(res, line='s')\n",
    "plt.show()"
   ]
  },
  {
   "cell_type": "code",
   "execution_count": 52,
   "metadata": {},
   "outputs": [
    {
     "name": "stdout",
     "output_type": "stream",
     "text": [
      "Prefrontal\n",
      "Multiple Comparison of Means - Tukey HSD,FWER=0.05\n",
      "================================================\n",
      "group1   group2  meandiff  lower   upper  reject\n",
      "------------------------------------------------\n",
      " ACAd      PL     0.9209   0.053   1.7888  True \n",
      " ACAd  VISp/VISl -0.2072  -1.0751  0.6608 False \n",
      "  PL   VISp/VISl -1.1281   -1.996 -0.2602  True \n",
      "------------------------------------------------\n",
      "Medial\n",
      "Multiple Comparison of Means - Tukey HSD,FWER=0.05\n",
      "===============================================\n",
      "group1   group2  meandiff  lower  upper  reject\n",
      "-----------------------------------------------\n",
      " ACAd      PL    -0.2599  -1.5006 0.9807 False \n",
      " ACAd  VISp/VISl -0.0918  -1.3325 1.1488 False \n",
      "  PL   VISp/VISl  0.1681  -1.0726 1.4088 False \n",
      "-----------------------------------------------\n",
      "Visual\n",
      "Multiple Comparison of Means - Tukey HSD,FWER=0.05\n",
      "===============================================\n",
      "group1   group2  meandiff  lower  upper  reject\n",
      "-----------------------------------------------\n",
      " ACAd      PL    -0.1418  -0.8245 0.541  False \n",
      " ACAd  VISp/VISl  1.1076   0.4248 1.7903  True \n",
      "  PL   VISp/VISl  1.2493   0.5666 1.932   True \n",
      "-----------------------------------------------\n"
     ]
    }
   ],
   "source": [
    "for module in ['Prefrontal', 'Medial', 'Visual']:\n",
    "    print(module)\n",
    "    mc = MultiComparison(pltdat[(pltdat['module'] == module)]['log_NPV'], \n",
    "                         pltdat[(pltdat['module'] == module)]['expt_type'])\n",
    "    mc_results = mc.tukeyhsd()\n",
    "    print(mc_results)"
   ]
  },
  {
   "cell_type": "markdown",
   "metadata": {},
   "source": [
    "## Text"
   ]
  },
  {
   "cell_type": "code",
   "execution_count": 53,
   "metadata": {},
   "outputs": [
    {
     "data": {
      "text/html": [
       "<div>\n",
       "<style scoped>\n",
       "    .dataframe tbody tr th:only-of-type {\n",
       "        vertical-align: middle;\n",
       "    }\n",
       "\n",
       "    .dataframe tbody tr th {\n",
       "        vertical-align: top;\n",
       "    }\n",
       "\n",
       "    .dataframe thead th {\n",
       "        text-align: right;\n",
       "    }\n",
       "</style>\n",
       "<table border=\"1\" class=\"dataframe\">\n",
       "  <thead>\n",
       "    <tr style=\"text-align: right;\">\n",
       "      <th></th>\n",
       "      <th>image_series_id</th>\n",
       "      <th>match_id</th>\n",
       "      <th>spearman_correlation</th>\n",
       "      <th>distance</th>\n",
       "      <th>dice_coefficient</th>\n",
       "      <th>experiment_type</th>\n",
       "    </tr>\n",
       "  </thead>\n",
       "  <tbody>\n",
       "    <tr>\n",
       "      <th>134</th>\n",
       "      <td>592522663</td>\n",
       "      <td>623838656</td>\n",
       "      <td>0.618487</td>\n",
       "      <td>199.364193</td>\n",
       "      <td>0.35941</td>\n",
       "      <td>both in</td>\n",
       "    </tr>\n",
       "  </tbody>\n",
       "</table>\n",
       "</div>"
      ],
      "text/plain": [
       "     image_series_id   match_id  spearman_correlation    distance  \\\n",
       "134        592522663  623838656              0.618487  199.364193   \n",
       "\n",
       "     dice_coefficient experiment_type  \n",
       "134           0.35941         both in  "
      ]
     },
     "execution_count": 53,
     "metadata": {},
     "output_type": "execute_result"
    }
   ],
   "source": [
    "rspv[(rspv['source'] == 'RSPv') &\n",
    "    (rspv['td_target'] == 'PL') &\n",
    "   (rspv['match_target'] == 'PL')][['image_series_id',\n",
    "                                    'match_id',\n",
    "                                    'spearman_correlation',\n",
    "                                    'distance',\n",
    "                                    'dice_coefficient',\n",
    "                                    'experiment_type']]"
   ]
  },
  {
   "cell_type": "code",
   "execution_count": 54,
   "metadata": {},
   "outputs": [
    {
     "data": {
      "text/html": [
       "<div>\n",
       "<style scoped>\n",
       "    .dataframe tbody tr th:only-of-type {\n",
       "        vertical-align: middle;\n",
       "    }\n",
       "\n",
       "    .dataframe tbody tr th {\n",
       "        vertical-align: top;\n",
       "    }\n",
       "\n",
       "    .dataframe thead th {\n",
       "        text-align: right;\n",
       "    }\n",
       "</style>\n",
       "<table border=\"1\" class=\"dataframe\">\n",
       "  <thead>\n",
       "    <tr style=\"text-align: right;\">\n",
       "      <th></th>\n",
       "      <th>image_series_id</th>\n",
       "      <th>match_id</th>\n",
       "      <th>spearman_correlation</th>\n",
       "      <th>distance</th>\n",
       "      <th>dice_coefficient</th>\n",
       "      <th>experiment_type</th>\n",
       "    </tr>\n",
       "  </thead>\n",
       "  <tbody>\n",
       "    <tr>\n",
       "      <th>113</th>\n",
       "      <td>555012592</td>\n",
       "      <td>570071403</td>\n",
       "      <td>0.741734</td>\n",
       "      <td>177.750710</td>\n",
       "      <td>0.621497</td>\n",
       "      <td>both in</td>\n",
       "    </tr>\n",
       "    <tr>\n",
       "      <th>114</th>\n",
       "      <td>555012592</td>\n",
       "      <td>571647261</td>\n",
       "      <td>0.731916</td>\n",
       "      <td>65.688797</td>\n",
       "      <td>0.973482</td>\n",
       "      <td>both in</td>\n",
       "    </tr>\n",
       "    <tr>\n",
       "      <th>388</th>\n",
       "      <td>561511939</td>\n",
       "      <td>521255975</td>\n",
       "      <td>0.837052</td>\n",
       "      <td>433.073188</td>\n",
       "      <td>0.134674</td>\n",
       "      <td>both in</td>\n",
       "    </tr>\n",
       "    <tr>\n",
       "      <th>469</th>\n",
       "      <td>571647261</td>\n",
       "      <td>570071403</td>\n",
       "      <td>0.784812</td>\n",
       "      <td>115.150350</td>\n",
       "      <td>0.844992</td>\n",
       "      <td>both in</td>\n",
       "    </tr>\n",
       "  </tbody>\n",
       "</table>\n",
       "</div>"
      ],
      "text/plain": [
       "     image_series_id   match_id  spearman_correlation    distance  \\\n",
       "113        555012592  570071403              0.741734  177.750710   \n",
       "114        555012592  571647261              0.731916   65.688797   \n",
       "388        561511939  521255975              0.837052  433.073188   \n",
       "469        571647261  570071403              0.784812  115.150350   \n",
       "\n",
       "     dice_coefficient experiment_type  \n",
       "113          0.621497         both in  \n",
       "114          0.973482         both in  \n",
       "388          0.134674         both in  \n",
       "469          0.844992         both in  "
      ]
     },
     "execution_count": 54,
     "metadata": {},
     "output_type": "execute_result"
    }
   ],
   "source": [
    "rspv[(rspv['source'] == 'RSPv') &\n",
    "    (rspv['td_target'] == 'ACAd') &\n",
    "   (rspv['match_target'] == 'ACAd')][['image_series_id',\n",
    "                                                                    'match_id',\n",
    "                                                                    'spearman_correlation',\n",
    "                                                                    'distance',\n",
    "                                                                    'dice_coefficient',\n",
    "                                                                    'experiment_type']]"
   ]
  },
  {
   "cell_type": "code",
   "execution_count": 55,
   "metadata": {},
   "outputs": [
    {
     "data": {
      "text/html": [
       "<div>\n",
       "<style scoped>\n",
       "    .dataframe tbody tr th:only-of-type {\n",
       "        vertical-align: middle;\n",
       "    }\n",
       "\n",
       "    .dataframe tbody tr th {\n",
       "        vertical-align: top;\n",
       "    }\n",
       "\n",
       "    .dataframe thead th {\n",
       "        text-align: right;\n",
       "    }\n",
       "</style>\n",
       "<table border=\"1\" class=\"dataframe\">\n",
       "  <thead>\n",
       "    <tr style=\"text-align: right;\">\n",
       "      <th></th>\n",
       "      <th>image_series_id</th>\n",
       "      <th>specimen_name</th>\n",
       "      <th>sex</th>\n",
       "      <th>age_at_CAV_injection</th>\n",
       "      <th>age_at_AAV_injection</th>\n",
       "      <th>injection_structures</th>\n",
       "      <th>injection_volume</th>\n",
       "      <th>primary_injection_structure</th>\n",
       "      <th>source</th>\n",
       "      <th>structure_id</th>\n",
       "      <th>...</th>\n",
       "      <th>experiment_detail_page</th>\n",
       "      <th>injection_dmn_fraction</th>\n",
       "      <th>projection_dmn_fraction</th>\n",
       "      <th>distance_coefficient</th>\n",
       "      <th>DMN_coefficient</th>\n",
       "      <th>CAV_percent_DMN</th>\n",
       "      <th>WT_matches</th>\n",
       "      <th>TD_matches</th>\n",
       "      <th>injection_matched_group</th>\n",
       "      <th>match_id</th>\n",
       "    </tr>\n",
       "  </thead>\n",
       "  <tbody>\n",
       "    <tr>\n",
       "      <th>4</th>\n",
       "      <td>475828414</td>\n",
       "      <td>Ai75(T503)-176840</td>\n",
       "      <td>M</td>\n",
       "      <td>53</td>\n",
       "      <td>53</td>\n",
       "      <td>[886]</td>\n",
       "      <td>0.006795</td>\n",
       "      <td>886.0</td>\n",
       "      <td>RSPv</td>\n",
       "      <td>886.0</td>\n",
       "      <td>...</td>\n",
       "      <td>http://connectivity.brain-map.org/projection/e...</td>\n",
       "      <td>1.000000</td>\n",
       "      <td>0.915411</td>\n",
       "      <td>-0.002608</td>\n",
       "      <td>0.001505</td>\n",
       "      <td>99.659112</td>\n",
       "      <td>[100148142, 100140949, 159832064]</td>\n",
       "      <td>[475830603, 561512675, 616674416]</td>\n",
       "      <td>[nan]</td>\n",
       "      <td>475828414</td>\n",
       "    </tr>\n",
       "    <tr>\n",
       "      <th>6</th>\n",
       "      <td>475830603</td>\n",
       "      <td>Ai75(RCL-nT)-181901</td>\n",
       "      <td>M</td>\n",
       "      <td>55</td>\n",
       "      <td>55</td>\n",
       "      <td>[879, 886]</td>\n",
       "      <td>0.034618</td>\n",
       "      <td>879.0</td>\n",
       "      <td>RSPv</td>\n",
       "      <td>886.0</td>\n",
       "      <td>...</td>\n",
       "      <td>http://connectivity.brain-map.org/projection/e...</td>\n",
       "      <td>0.999745</td>\n",
       "      <td>0.914113</td>\n",
       "      <td>-0.003413</td>\n",
       "      <td>0.009542</td>\n",
       "      <td>97.215782</td>\n",
       "      <td>[100148142, 100140949, 159832064, 591535205]</td>\n",
       "      <td>[475828414, 616674416]</td>\n",
       "      <td>[nan]</td>\n",
       "      <td>475830603</td>\n",
       "    </tr>\n",
       "    <tr>\n",
       "      <th>38</th>\n",
       "      <td>521255975</td>\n",
       "      <td>Ai75(T503)-215057</td>\n",
       "      <td>M</td>\n",
       "      <td>55</td>\n",
       "      <td>55</td>\n",
       "      <td>[886, 1037]</td>\n",
       "      <td>0.005848</td>\n",
       "      <td>886.0</td>\n",
       "      <td>RSPv</td>\n",
       "      <td>886.0</td>\n",
       "      <td>...</td>\n",
       "      <td>http://connectivity.brain-map.org/projection/e...</td>\n",
       "      <td>0.053660</td>\n",
       "      <td>0.600392</td>\n",
       "      <td>-0.001616</td>\n",
       "      <td>0.004499</td>\n",
       "      <td>100.000000</td>\n",
       "      <td>[112595376]</td>\n",
       "      <td>[561511939, 569904687, 592522663, 592724077, 6...</td>\n",
       "      <td>[112595376, 521255975, 592522663, 623838656, 6...</td>\n",
       "      <td>521255975</td>\n",
       "    </tr>\n",
       "    <tr>\n",
       "      <th>86</th>\n",
       "      <td>555012592</td>\n",
       "      <td>Ai75(T503)-271670</td>\n",
       "      <td>M</td>\n",
       "      <td>58</td>\n",
       "      <td>58</td>\n",
       "      <td>[879, 886]</td>\n",
       "      <td>0.011666</td>\n",
       "      <td>879.0</td>\n",
       "      <td>RSPv</td>\n",
       "      <td>886.0</td>\n",
       "      <td>...</td>\n",
       "      <td>http://connectivity.brain-map.org/projection/e...</td>\n",
       "      <td>1.000000</td>\n",
       "      <td>0.875807</td>\n",
       "      <td>-0.002836</td>\n",
       "      <td>0.011745</td>\n",
       "      <td>100.000000</td>\n",
       "      <td>[501484658, 592540591, 166054929]</td>\n",
       "      <td>[570071403, 571647261]</td>\n",
       "      <td>[nan]</td>\n",
       "      <td>555012592</td>\n",
       "    </tr>\n",
       "    <tr>\n",
       "      <th>92</th>\n",
       "      <td>561511939</td>\n",
       "      <td>Ai75(T601)-276538</td>\n",
       "      <td>M</td>\n",
       "      <td>55</td>\n",
       "      <td>55</td>\n",
       "      <td>[886]</td>\n",
       "      <td>0.005104</td>\n",
       "      <td>886.0</td>\n",
       "      <td>RSPv</td>\n",
       "      <td>886.0</td>\n",
       "      <td>...</td>\n",
       "      <td>http://connectivity.brain-map.org/projection/e...</td>\n",
       "      <td>0.399288</td>\n",
       "      <td>0.708294</td>\n",
       "      <td>-0.002409</td>\n",
       "      <td>0.006872</td>\n",
       "      <td>100.000000</td>\n",
       "      <td>[501484658, 112595376]</td>\n",
       "      <td>[521255975, 592522663]</td>\n",
       "      <td>[nan]</td>\n",
       "      <td>561511939</td>\n",
       "    </tr>\n",
       "    <tr>\n",
       "      <th>109</th>\n",
       "      <td>570071403</td>\n",
       "      <td>Ai75(T503)-291431</td>\n",
       "      <td>M</td>\n",
       "      <td>58</td>\n",
       "      <td>58</td>\n",
       "      <td>[879, 886]</td>\n",
       "      <td>0.002877</td>\n",
       "      <td>879.0</td>\n",
       "      <td>RSPv</td>\n",
       "      <td>886.0</td>\n",
       "      <td>...</td>\n",
       "      <td>http://connectivity.brain-map.org/projection/e...</td>\n",
       "      <td>1.000000</td>\n",
       "      <td>0.872069</td>\n",
       "      <td>-0.000964</td>\n",
       "      <td>0.003847</td>\n",
       "      <td>100.000000</td>\n",
       "      <td>[501484658, 592540591, 166054929]</td>\n",
       "      <td>[555012592, 571647261]</td>\n",
       "      <td>[nan]</td>\n",
       "      <td>570071403</td>\n",
       "    </tr>\n",
       "    <tr>\n",
       "      <th>113</th>\n",
       "      <td>571647261</td>\n",
       "      <td>Ai75(T503)-281795</td>\n",
       "      <td>F</td>\n",
       "      <td>55</td>\n",
       "      <td>55</td>\n",
       "      <td>[879, 886]</td>\n",
       "      <td>0.024159</td>\n",
       "      <td>879.0</td>\n",
       "      <td>RSPv</td>\n",
       "      <td>886.0</td>\n",
       "      <td>...</td>\n",
       "      <td>http://connectivity.brain-map.org/projection/e...</td>\n",
       "      <td>1.000000</td>\n",
       "      <td>0.835767</td>\n",
       "      <td>-0.003579</td>\n",
       "      <td>0.009697</td>\n",
       "      <td>89.968845</td>\n",
       "      <td>[592540591, 166054929, 501484658]</td>\n",
       "      <td>[555012592, 570071403]</td>\n",
       "      <td>[nan]</td>\n",
       "      <td>571647261</td>\n",
       "    </tr>\n",
       "  </tbody>\n",
       "</table>\n",
       "<p>7 rows × 24 columns</p>\n",
       "</div>"
      ],
      "text/plain": [
       "     image_series_id        specimen_name sex  age_at_CAV_injection  \\\n",
       "4          475828414    Ai75(T503)-176840   M                    53   \n",
       "6          475830603  Ai75(RCL-nT)-181901   M                    55   \n",
       "38         521255975    Ai75(T503)-215057   M                    55   \n",
       "86         555012592    Ai75(T503)-271670   M                    58   \n",
       "92         561511939    Ai75(T601)-276538   M                    55   \n",
       "109        570071403    Ai75(T503)-291431   M                    58   \n",
       "113        571647261    Ai75(T503)-281795   F                    55   \n",
       "\n",
       "     age_at_AAV_injection injection_structures  injection_volume  \\\n",
       "4                      53                [886]          0.006795   \n",
       "6                      55           [879, 886]          0.034618   \n",
       "38                     55          [886, 1037]          0.005848   \n",
       "86                     58           [879, 886]          0.011666   \n",
       "92                     55                [886]          0.005104   \n",
       "109                    58           [879, 886]          0.002877   \n",
       "113                    55           [879, 886]          0.024159   \n",
       "\n",
       "     primary_injection_structure source  structure_id  ...  \\\n",
       "4                          886.0   RSPv         886.0  ...   \n",
       "6                          879.0   RSPv         886.0  ...   \n",
       "38                         886.0   RSPv         886.0  ...   \n",
       "86                         879.0   RSPv         886.0  ...   \n",
       "92                         886.0   RSPv         886.0  ...   \n",
       "109                        879.0   RSPv         886.0  ...   \n",
       "113                        879.0   RSPv         886.0  ...   \n",
       "\n",
       "                                experiment_detail_page injection_dmn_fraction  \\\n",
       "4    http://connectivity.brain-map.org/projection/e...               1.000000   \n",
       "6    http://connectivity.brain-map.org/projection/e...               0.999745   \n",
       "38   http://connectivity.brain-map.org/projection/e...               0.053660   \n",
       "86   http://connectivity.brain-map.org/projection/e...               1.000000   \n",
       "92   http://connectivity.brain-map.org/projection/e...               0.399288   \n",
       "109  http://connectivity.brain-map.org/projection/e...               1.000000   \n",
       "113  http://connectivity.brain-map.org/projection/e...               1.000000   \n",
       "\n",
       "    projection_dmn_fraction distance_coefficient DMN_coefficient  \\\n",
       "4                  0.915411            -0.002608        0.001505   \n",
       "6                  0.914113            -0.003413        0.009542   \n",
       "38                 0.600392            -0.001616        0.004499   \n",
       "86                 0.875807            -0.002836        0.011745   \n",
       "92                 0.708294            -0.002409        0.006872   \n",
       "109                0.872069            -0.000964        0.003847   \n",
       "113                0.835767            -0.003579        0.009697   \n",
       "\n",
       "     CAV_percent_DMN                                    WT_matches  \\\n",
       "4          99.659112             [100148142, 100140949, 159832064]   \n",
       "6          97.215782  [100148142, 100140949, 159832064, 591535205]   \n",
       "38        100.000000                                   [112595376]   \n",
       "86        100.000000             [501484658, 592540591, 166054929]   \n",
       "92        100.000000                        [501484658, 112595376]   \n",
       "109       100.000000             [501484658, 592540591, 166054929]   \n",
       "113        89.968845             [592540591, 166054929, 501484658]   \n",
       "\n",
       "                                            TD_matches  \\\n",
       "4                    [475830603, 561512675, 616674416]   \n",
       "6                               [475828414, 616674416]   \n",
       "38   [561511939, 569904687, 592522663, 592724077, 6...   \n",
       "86                              [570071403, 571647261]   \n",
       "92                              [521255975, 592522663]   \n",
       "109                             [555012592, 571647261]   \n",
       "113                             [555012592, 570071403]   \n",
       "\n",
       "                               injection_matched_group   match_id  \n",
       "4                                                [nan]  475828414  \n",
       "6                                                [nan]  475830603  \n",
       "38   [112595376, 521255975, 592522663, 623838656, 6...  521255975  \n",
       "86                                               [nan]  555012592  \n",
       "92                                               [nan]  561511939  \n",
       "109                                              [nan]  570071403  \n",
       "113                                              [nan]  571647261  \n",
       "\n",
       "[7 rows x 24 columns]"
      ]
     },
     "execution_count": 55,
     "metadata": {},
     "output_type": "execute_result"
    }
   ],
   "source": [
    "td_dataset[(td_dataset['source'] == 'RSPv') & \n",
    "           (td_dataset['target_by_polygon'].isin(['ACAd', 'ACAv', 'MOs']))]"
   ]
  },
  {
   "cell_type": "code",
   "execution_count": 56,
   "metadata": {},
   "outputs": [
    {
     "name": "stdout",
     "output_type": "stream",
     "text": [
      "586\n"
     ]
    }
   ],
   "source": [
    "alldat = pd.read_csv(os.path.join(datpath, 'good_td_wt_correlations.csv'))\n",
    "print(len(alldat))"
   ]
  },
  {
   "cell_type": "code",
   "execution_count": 57,
   "metadata": {},
   "outputs": [
    {
     "data": {
      "text/html": [
       "<div>\n",
       "<style scoped>\n",
       "    .dataframe tbody tr th:only-of-type {\n",
       "        vertical-align: middle;\n",
       "    }\n",
       "\n",
       "    .dataframe tbody tr th {\n",
       "        vertical-align: top;\n",
       "    }\n",
       "\n",
       "    .dataframe thead th {\n",
       "        text-align: right;\n",
       "    }\n",
       "</style>\n",
       "<table border=\"1\" class=\"dataframe\">\n",
       "  <thead>\n",
       "    <tr style=\"text-align: right;\">\n",
       "      <th></th>\n",
       "      <th>distance</th>\n",
       "      <th>exclusion_zone_overlap</th>\n",
       "      <th>fraction of match covered by td exclusion zone</th>\n",
       "      <th>fraction of match covered by td injection</th>\n",
       "      <th>image_series_id</th>\n",
       "      <th>injection_overlap</th>\n",
       "      <th>match_id</th>\n",
       "      <th>pearson_correlation</th>\n",
       "      <th>source</th>\n",
       "      <th>spearman_correlation</th>\n",
       "      <th>...</th>\n",
       "      <th>Julie call</th>\n",
       "      <th>PN_type_JH</th>\n",
       "      <th>JW_pass-fail</th>\n",
       "      <th>dice</th>\n",
       "      <th>include</th>\n",
       "      <th>CAV_percent_DMN</th>\n",
       "      <th>exp_predicted</th>\n",
       "      <th>low_pred_band</th>\n",
       "      <th>high_pred_band</th>\n",
       "      <th>sig</th>\n",
       "    </tr>\n",
       "  </thead>\n",
       "  <tbody>\n",
       "    <tr>\n",
       "      <th>146</th>\n",
       "      <td>309.266574</td>\n",
       "      <td>0.191553</td>\n",
       "      <td>0.336906</td>\n",
       "      <td>0.031516</td>\n",
       "      <td>592522663</td>\n",
       "      <td>0.421307</td>\n",
       "      <td>112595376</td>\n",
       "      <td>0.908320</td>\n",
       "      <td>RSPv</td>\n",
       "      <td>0.527093</td>\n",
       "      <td>...</td>\n",
       "      <td>Y</td>\n",
       "      <td>IT PT CT</td>\n",
       "      <td>good</td>\n",
       "      <td>0.062609</td>\n",
       "      <td>yes</td>\n",
       "      <td>97.940510</td>\n",
       "      <td>0.719958</td>\n",
       "      <td>0.614106</td>\n",
       "      <td>0.825810</td>\n",
       "      <td>True</td>\n",
       "    </tr>\n",
       "    <tr>\n",
       "      <th>191</th>\n",
       "      <td>375.094674</td>\n",
       "      <td>0.205033</td>\n",
       "      <td>0.308338</td>\n",
       "      <td>0.066791</td>\n",
       "      <td>623838656</td>\n",
       "      <td>0.645127</td>\n",
       "      <td>112595376</td>\n",
       "      <td>0.824779</td>\n",
       "      <td>RSPv</td>\n",
       "      <td>0.700694</td>\n",
       "      <td>...</td>\n",
       "      <td>Y</td>\n",
       "      <td>IT PT CT</td>\n",
       "      <td>good</td>\n",
       "      <td>0.129753</td>\n",
       "      <td>yes</td>\n",
       "      <td>95.186863</td>\n",
       "      <td>0.728922</td>\n",
       "      <td>0.623028</td>\n",
       "      <td>0.834815</td>\n",
       "      <td>False</td>\n",
       "    </tr>\n",
       "  </tbody>\n",
       "</table>\n",
       "<p>2 rows × 37 columns</p>\n",
       "</div>"
      ],
      "text/plain": [
       "       distance  exclusion_zone_overlap  \\\n",
       "146  309.266574                0.191553   \n",
       "191  375.094674                0.205033   \n",
       "\n",
       "     fraction of match covered by td exclusion zone  \\\n",
       "146                                        0.336906   \n",
       "191                                        0.308338   \n",
       "\n",
       "     fraction of match covered by td injection  image_series_id  \\\n",
       "146                                   0.031516        592522663   \n",
       "191                                   0.066791        623838656   \n",
       "\n",
       "     injection_overlap   match_id  pearson_correlation source  \\\n",
       "146           0.421307  112595376             0.908320   RSPv   \n",
       "191           0.645127  112595376             0.824779   RSPv   \n",
       "\n",
       "     spearman_correlation  ... Julie call  PN_type_JH  JW_pass-fail      dice  \\\n",
       "146              0.527093  ...          Y    IT PT CT          good  0.062609   \n",
       "191              0.700694  ...          Y    IT PT CT          good  0.129753   \n",
       "\n",
       "     include CAV_percent_DMN  exp_predicted  low_pred_band high_pred_band  \\\n",
       "146      yes       97.940510       0.719958       0.614106       0.825810   \n",
       "191      yes       95.186863       0.728922       0.623028       0.834815   \n",
       "\n",
       "       sig  \n",
       "146   True  \n",
       "191  False  \n",
       "\n",
       "[2 rows x 37 columns]"
      ]
     },
     "execution_count": 57,
     "metadata": {},
     "output_type": "execute_result"
    }
   ],
   "source": [
    "alldat[alldat['image_series_id'].isin([592522663, 623838656])]"
   ]
  },
  {
   "cell_type": "code",
   "execution_count": 58,
   "metadata": {},
   "outputs": [
    {
     "data": {
      "text/html": [
       "<div>\n",
       "<style scoped>\n",
       "    .dataframe tbody tr th:only-of-type {\n",
       "        vertical-align: middle;\n",
       "    }\n",
       "\n",
       "    .dataframe tbody tr th {\n",
       "        vertical-align: top;\n",
       "    }\n",
       "\n",
       "    .dataframe thead th {\n",
       "        text-align: right;\n",
       "    }\n",
       "</style>\n",
       "<table border=\"1\" class=\"dataframe\">\n",
       "  <thead>\n",
       "    <tr style=\"text-align: right;\">\n",
       "      <th></th>\n",
       "      <th>image_series_id</th>\n",
       "      <th>match_id</th>\n",
       "      <th>source</th>\n",
       "      <th>spearman_correlation</th>\n",
       "      <th>distance</th>\n",
       "    </tr>\n",
       "  </thead>\n",
       "  <tbody>\n",
       "    <tr>\n",
       "      <th>32</th>\n",
       "      <td>561511939</td>\n",
       "      <td>501484658</td>\n",
       "      <td>RSPv</td>\n",
       "      <td>0.826827</td>\n",
       "      <td>606.813030</td>\n",
       "    </tr>\n",
       "    <tr>\n",
       "      <th>171</th>\n",
       "      <td>561511939</td>\n",
       "      <td>112595376</td>\n",
       "      <td>RSPv</td>\n",
       "      <td>0.774766</td>\n",
       "      <td>677.760122</td>\n",
       "    </tr>\n",
       "    <tr>\n",
       "      <th>188</th>\n",
       "      <td>521255975</td>\n",
       "      <td>112595376</td>\n",
       "      <td>RSPv</td>\n",
       "      <td>0.815790</td>\n",
       "      <td>297.706103</td>\n",
       "    </tr>\n",
       "  </tbody>\n",
       "</table>\n",
       "</div>"
      ],
      "text/plain": [
       "     image_series_id   match_id source  spearman_correlation    distance\n",
       "32         561511939  501484658   RSPv              0.826827  606.813030\n",
       "171        561511939  112595376   RSPv              0.774766  677.760122\n",
       "188        521255975  112595376   RSPv              0.815790  297.706103"
      ]
     },
     "execution_count": 58,
     "metadata": {},
     "output_type": "execute_result"
    }
   ],
   "source": [
    "alldat[alldat['image_series_id'].isin([521255975, 561511939])][['image_series_id',\n",
    "                                                                    'match_id',\n",
    "                                                                'source',\n",
    "                                                                    'spearman_correlation',\n",
    "                                                                    'distance']]"
   ]
  },
  {
   "cell_type": "code",
   "execution_count": 59,
   "metadata": {},
   "outputs": [
    {
     "data": {
      "text/plain": [
       "0.024631843768503213"
      ]
     },
     "execution_count": 59,
     "metadata": {},
     "output_type": "execute_result"
    }
   ],
   "source": [
    "#rostral\n",
    "alldat[alldat['image_series_id'].isin([475828414, 475830603])]['spearman_correlation'].std()"
   ]
  },
  {
   "cell_type": "code",
   "execution_count": 60,
   "metadata": {},
   "outputs": [
    {
     "data": {
      "text/plain": [
       "0.06355306331247931"
      ]
     },
     "execution_count": 60,
     "metadata": {},
     "output_type": "execute_result"
    }
   ],
   "source": [
    "#dorsal\n",
    "alldat[alldat['image_series_id'].isin([555012592, 570071403,\n",
    "                                      571647261])]['spearman_correlation'].std()"
   ]
  }
 ],
 "metadata": {
  "kernelspec": {
   "display_name": "Python 3",
   "language": "python",
   "name": "python3"
  },
  "language_info": {
   "codemirror_mode": {
    "name": "ipython",
    "version": 3
   },
   "file_extension": ".py",
   "mimetype": "text/x-python",
   "name": "python",
   "nbconvert_exporter": "python",
   "pygments_lexer": "ipython3",
   "version": "3.7.4"
  }
 },
 "nbformat": 4,
 "nbformat_minor": 1
}
