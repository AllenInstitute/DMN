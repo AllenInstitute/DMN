{
 "cells": [
  {
   "cell_type": "code",
   "execution_count": 1,
   "metadata": {},
   "outputs": [],
   "source": [
    "import pandas as pd\n",
    "import matplotlib.pyplot as plt\n",
    "import numpy as np\n",
    "import os\n",
    "import nrrd\n",
    "import json\n",
    "from allensdk.core.mouse_connectivity_cache import MouseConnectivityCache\n",
    "from allensdk.api.queries.ontologies_api import OntologiesApi\n",
    "import requests\n",
    "from anatomy.anatomy_api import AnatomyApi\n",
    "import scipy.stats as stats\n",
    "import statsmodels.api as sm\n",
    "from statsmodels.stats.anova import anova_lm\n",
    "from scipy.optimize import curve_fit\n",
    "from statsmodels.sandbox.regression.predstd import wls_prediction_std\n",
    "from statsmodels.graphics import utils\n",
    "from statsmodels.formula.api import ols\n",
    "from statsmodels.stats.multicomp import MultiComparison\n",
    "\n",
    "import seaborn as sns\n",
    "sns.set_context('paper')\n",
    "sns.set_style('white')\n",
    "\n",
    "%matplotlib inline\n",
    "import matplotlib as mpl\n",
    "mpl.rcParams['pdf.fonttype'] = 42"
   ]
  },
  {
   "cell_type": "code",
   "execution_count": 2,
   "metadata": {},
   "outputs": [],
   "source": [
    "aapi = AnatomyApi()\n",
    "ss = aapi.get_summary_structure_data('id')\n",
    "mcc = MouseConnectivityCache(manifest_file = '../connectivity/mouse_connectivity_manifest.json')\n",
    "structure_tree = mcc.get_structure_tree()\n",
    "isocortex = structure_tree.get_structures_by_acronym(['Isocortex'])[0]\n",
    "cla = structure_tree.get_structures_by_acronym(['CLA'])[0]['id']\n",
    "HPF = structure_tree.get_structures_by_acronym(['HPF'])[0]\n",
    "iso = structure_tree.descendant_ids([isocortex['id']])[0]\n",
    "iso = [structure for structure in iso if structure in ss]\n",
    "hipp = structure_tree.descendant_ids([HPF['id']])[0]\n",
    "hipp = [structure for structure in hipp if structure in ss]\n",
    "ia_map = structure_tree.get_id_acronym_map()\n",
    "ai_map = {value:key for key, value in ia_map.items()}\n",
    "ctx_strs = [ai_map[structure] for structure in iso]\n",
    "hipp_strs = [ai_map[structure] for structure in hipp]\n",
    "valid_strs = ctx_strs#+hipp_strs #No Cla"
   ]
  },
  {
   "cell_type": "code",
   "execution_count": 4,
   "metadata": {},
   "outputs": [
    {
     "name": "stdout",
     "output_type": "stream",
     "text": [
      "121\n",
      "25\n"
     ]
    }
   ],
   "source": [
    "basepath = r'../../../'\n",
    "datpath = (r'../data_files')\n",
    "savepath = os.path.join(basepath, '_Neuron_final', '_final_figures', 'Figure_4')\n",
    "\n",
    "td_dataset = pd.read_csv(os.path.join(datpath, 'target_defined_dataset.csv'))\n",
    "td_dataset = td_dataset[td_dataset['include'] == 'yes']\n",
    "td_dataset = td_dataset[td_dataset['source'].isin(valid_strs)]\n",
    "td_dataset = td_dataset[td_dataset['target_by_polygon'] != 'POST']\n",
    "print(len(td_dataset))\n",
    "print(len(td_dataset['source'].unique()))"
   ]
  },
  {
   "cell_type": "code",
   "execution_count": 5,
   "metadata": {},
   "outputs": [
    {
     "name": "stdout",
     "output_type": "stream",
     "text": [
      "627\n",
      "586\n",
      "241\n"
     ]
    }
   ],
   "source": [
    "c_by_source = pd.read_csv(os.path.join(datpath, 'good_wt_correlations.csv'))\n",
    "print(len(c_by_source))\n",
    "alldat = pd.read_csv(os.path.join(datpath, 'good_td_wt_correlations.csv'))\n",
    "print(len(alldat))\n",
    "td_dat = pd.read_csv(os.path.join(datpath, 'good_td_td_correlations.csv'))\n",
    "print(len(td_dat))"
   ]
  },
  {
   "cell_type": "code",
   "execution_count": 9,
   "metadata": {},
   "outputs": [],
   "source": [
    "with open(os.path.join(datpath, 'matched_sets.json'), 'r') as jsonfile:\n",
    "    groups = json.load(jsonfile)\n",
    "groups = pd.DataFrame(groups)"
   ]
  },
  {
   "cell_type": "code",
   "execution_count": 10,
   "metadata": {
    "scrolled": true
   },
   "outputs": [
    {
     "name": "stdout",
     "output_type": "stream",
     "text": [
      "VISp\n",
      "[[485553574, 495346667, 501711996, 501786400, 501787135, 501837158, 502592260, 515920693, 526784559, 539511058, 546389260, 561918178, 563352720, 565146821, 574637452], [485553574, 501711996, 501786400, 501787135, 501837158, 502592260, 515920693, 526784559, 539511058, 546389260, 561918178, 563352720, 565146821, 574637452], [485553574, 501711996, 501786400, 501787135, 501837158, 502592260, 515920693, 526784559, 546389260, 561918178, 563352720, 565146821, 574637452], [485553574, 501786400, 501787135, 501837158, 502592260, 515920693, 526784559, 546389260, 563352720, 574637452]]\n",
      "VISl\n",
      "[[501785691, 501883865, 502590301, 502955689, 502956560, 504176074, 518013943, 523180728, 531397136, 552543088, 553080579, 560965104, 571653937], [501785691, 501883865, 502590301, 502955689, 502956560, 504176074, 518013943, 523180728, 531397136, 552543088, 553080579, 560965104, 571653937, 572388976], [501785691, 501883865, 502590301, 502955689, 502956560, 504176074, 518013943, 531397136, 552543088, 553080579, 560965104], [501785691, 501883865, 502590301, 502955689, 502956560, 504176074, 531397136, 552543088, 553080579], [501785691, 501883865, 502590301, 502955689, 502956560, 504176074, 531397136, 552543088, 553080579, 560965104], [501785691, 501883865, 502590301, 502956560, 504176074, 531397136, 552543088, 553080579], [501785691, 502590301, 502956560, 504176074, 531397136, 552543088, 553080579]]\n",
      "RSPagl\n",
      "[604100536, 617901499]\n",
      "ACAd\n",
      "[475829896, 528741104, 571401645, 607059419, 607321130, 609475867]\n",
      "RSPv\n",
      "[[521255975, 569904687, 592522663, 592724077, 623838656, 664716091, 666090944, 868641659], [521255975, 592522663, 592724077, 623838656, 868641659]]\n",
      "ORBvl\n",
      "[479115470, 617898760, 617900105]\n",
      "ORBl\n",
      "[571816813, 572390577, 601804603, 636799953]\n",
      "VISam\n",
      "[478678606, 560045081, 561986735, 591168591, 613898292, 651703553]\n",
      "PL\n",
      "[575683857, 606260719, 609157409]\n",
      "RSPd\n",
      "[518605181, 529129011]\n"
     ]
    }
   ],
   "source": [
    "# formatting is all screwed up. Correct manually.\n",
    "for ix, row in groups.iterrows():\n",
    "    print(row['source'])\n",
    "    print(row['td_sets']) # many of these are subsets of larger sets"
   ]
  },
  {
   "cell_type": "code",
   "execution_count": 7,
   "metadata": {},
   "outputs": [],
   "source": [
    "VISp_td = [485553574, 495346667, 501711996, 501786400, 501787135, 501837158, 502592260, \n",
    "  515920693, 526784559, 539511058, 546389260, 561918178, 563352720, 565146821, 574637452]\n",
    "VISl_td = [501785691, 501883865, 502590301, 502955689, 502956560, 504176074, 518013943, \n",
    "     523180728, 531397136, 552543088, 553080579, 560965104, 571653937, 572388976]\n",
    "RSPagl_td = [604100536, 617901499]\n",
    "ACAd_td = [475829896, 528741104, 571401645, 607059419, 607321130, 609475867]\n",
    "RSPv_td = [521255975, 569904687, 592522663, 592724077, 623838656, 664716091, 666090944, \n",
    "           868641659]\n",
    "ORBvl_td = [479115470, 617898760, 617900105]\n",
    "ORBl_td = [571816813, 572390577, 601804603, 636799953]\n",
    "VISam_td = [478678606, 560045081, 561986735, 591168591, 613898292, 651703553]\n",
    "PL_td = [575683857, 606260719, 609157409]\n",
    "RSPd_td = [518605181, 529129011]"
   ]
  },
  {
   "cell_type": "code",
   "execution_count": 8,
   "metadata": {},
   "outputs": [],
   "source": [
    "groups.loc[groups['source'] == 'VISp', 'td_sets'] = [VISp_td]\n",
    "groups.loc[groups['source'] == 'VISl', 'td_sets'] = [VISl_td]\n",
    "groups.loc[groups['source'] == 'RSPagl', 'td_sets'] = [RSPagl_td]\n",
    "groups.loc[groups['source'] == 'ACAd', 'td_sets'] = [ACAd_td]\n",
    "groups.loc[groups['source'] == 'RSPv', 'td_sets'] = [RSPv_td]\n",
    "groups.loc[groups['source'] == 'ORBvl', 'td_sets'] = [ORBvl_td]\n",
    "groups.loc[groups['source'] == 'ORBl', 'td_sets'] = [ORBl_td]\n",
    "groups.loc[groups['source'] == 'VISam', 'td_sets'] = [VISam_td]\n",
    "groups.loc[groups['source'] == 'PL', 'td_sets'] = [PL_td]\n",
    "groups.loc[groups['source'] == 'RSPd', 'td_sets'] = [RSPd_td]"
   ]
  },
  {
   "cell_type": "code",
   "execution_count": 9,
   "metadata": {},
   "outputs": [
    {
     "data": {
      "text/plain": [
       "Index(['source', 'td_sets', 'wt_sets'], dtype='object')"
      ]
     },
     "execution_count": 9,
     "metadata": {},
     "output_type": "execute_result"
    }
   ],
   "source": [
    "groups.keys()"
   ]
  },
  {
   "cell_type": "code",
   "execution_count": 10,
   "metadata": {},
   "outputs": [
    {
     "name": "stdout",
     "output_type": "stream",
     "text": [
      "VISp\n",
      "TD 15\n",
      "38\n",
      "5\n",
      "VISl\n",
      "TD 14\n",
      "10\n",
      "1\n",
      "RSPagl\n",
      "TD 2\n",
      "6\n",
      "6\n",
      "ACAd\n",
      "TD 6\n",
      "9\n",
      "6\n",
      "RSPv\n",
      "TD 8\n",
      "2\n",
      "1\n",
      "ORBvl\n",
      "TD 3\n",
      "5\n",
      "4\n",
      "ORBl\n",
      "TD 4\n",
      "4\n",
      "2\n",
      "VISam\n",
      "TD 6\n",
      "5\n",
      "5\n",
      "PL\n",
      "TD 3\n",
      "2\n",
      "2\n",
      "RSPd\n",
      "TD 2\n",
      "2\n",
      "2\n"
     ]
    }
   ],
   "source": [
    "for source in groups['source'].unique():\n",
    "    print(source)\n",
    "    td_exps = groups[groups['source'] == source]['td_sets'].values[0]\n",
    "    print('TD', len(td_exps))\n",
    "    wt = alldat[alldat['image_series_id'].isin(td_exps)]\n",
    "    wt_matches = alldat[alldat['image_series_id'].isin(td_exps)][\n",
    "            'match_id'].unique()\n",
    "    print(len(wt_matches))\n",
    "    for match in wt_matches:\n",
    "        if len(wt[wt['match_id'] == match]) < len(td_exps)-1:\n",
    "            wt_matches = wt_matches[wt_matches != match]\n",
    "    print(len(wt_matches))\n",
    "    groups.loc[groups['source'] == source, 'wt_sets'] = [wt_matches]"
   ]
  },
  {
   "cell_type": "code",
   "execution_count": 11,
   "metadata": {},
   "outputs": [],
   "source": [
    "groups.to_csv(os.path.join(savepath, 'curated_matches.csv'), index = False)"
   ]
  },
  {
   "cell_type": "code",
   "execution_count": 12,
   "metadata": {},
   "outputs": [],
   "source": [
    "groups.to_json(os.path.join(savepath, 'curated_matches.json'))"
   ]
  },
  {
   "cell_type": "code",
   "execution_count": 13,
   "metadata": {},
   "outputs": [
    {
     "name": "stdout",
     "output_type": "stream",
     "text": [
      "63\n",
      "34\n"
     ]
    }
   ],
   "source": [
    "all_td_exps = list(groups['td_sets'].values)\n",
    "all_td_exps = set([item for sublist in all_td_exps for item in sublist])\n",
    "print(len(all_td_exps))\n",
    "all_wt_exps = list(groups['wt_sets'].values)\n",
    "all_wt_exps = set([item for sublist in all_wt_exps for item in sublist])\n",
    "print(len(all_wt_exps))"
   ]
  },
  {
   "cell_type": "code",
   "execution_count": 14,
   "metadata": {},
   "outputs": [
    {
     "data": {
      "text/plain": [
       "0      VISp\n",
       "1      VISl\n",
       "2    RSPagl\n",
       "3      ACAd\n",
       "4      RSPv\n",
       "5     ORBvl\n",
       "6      ORBl\n",
       "7     VISam\n",
       "8        PL\n",
       "9      RSPd\n",
       "Name: source, dtype: object"
      ]
     },
     "execution_count": 14,
     "metadata": {},
     "output_type": "execute_result"
    }
   ],
   "source": [
    "groups['source']"
   ]
  },
  {
   "cell_type": "code",
   "execution_count": null,
   "metadata": {},
   "outputs": [],
   "source": []
  }
 ],
 "metadata": {
  "kernelspec": {
   "display_name": "Python 3",
   "language": "python",
   "name": "python3"
  },
  "language_info": {
   "codemirror_mode": {
    "name": "ipython",
    "version": 3
   },
   "file_extension": ".py",
   "mimetype": "text/x-python",
   "name": "python",
   "nbconvert_exporter": "python",
   "pygments_lexer": "ipython3",
   "version": "3.7.4"
  }
 },
 "nbformat": 4,
 "nbformat_minor": 1
}
