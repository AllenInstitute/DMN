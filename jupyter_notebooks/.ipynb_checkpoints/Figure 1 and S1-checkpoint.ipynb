{
 "cells": [
  {
   "cell_type": "code",
   "execution_count": 1,
   "metadata": {},
   "outputs": [
    {
     "name": "stderr",
     "output_type": "stream",
     "text": [
      "In /opt/anaconda3/envs/DMN/lib/python3.7/site-packages/matplotlib/mpl-data/stylelib/_classic_test.mplstyle: \n",
      "The text.latex.preview rcparam was deprecated in Matplotlib 3.3 and will be removed two minor releases later.\n",
      "In /opt/anaconda3/envs/DMN/lib/python3.7/site-packages/matplotlib/mpl-data/stylelib/_classic_test.mplstyle: \n",
      "The mathtext.fallback_to_cm rcparam was deprecated in Matplotlib 3.3 and will be removed two minor releases later.\n",
      "In /opt/anaconda3/envs/DMN/lib/python3.7/site-packages/matplotlib/mpl-data/stylelib/_classic_test.mplstyle: Support for setting the 'mathtext.fallback_to_cm' rcParam is deprecated since 3.3 and will be removed two minor releases later; use 'mathtext.fallback : 'cm' instead.\n",
      "In /opt/anaconda3/envs/DMN/lib/python3.7/site-packages/matplotlib/mpl-data/stylelib/_classic_test.mplstyle: \n",
      "The validate_bool_maybe_none function was deprecated in Matplotlib 3.3 and will be removed two minor releases later.\n",
      "In /opt/anaconda3/envs/DMN/lib/python3.7/site-packages/matplotlib/mpl-data/stylelib/_classic_test.mplstyle: \n",
      "The savefig.jpeg_quality rcparam was deprecated in Matplotlib 3.3 and will be removed two minor releases later.\n",
      "In /opt/anaconda3/envs/DMN/lib/python3.7/site-packages/matplotlib/mpl-data/stylelib/_classic_test.mplstyle: \n",
      "The keymap.all_axes rcparam was deprecated in Matplotlib 3.3 and will be removed two minor releases later.\n",
      "In /opt/anaconda3/envs/DMN/lib/python3.7/site-packages/matplotlib/mpl-data/stylelib/_classic_test.mplstyle: \n",
      "The animation.avconv_path rcparam was deprecated in Matplotlib 3.3 and will be removed two minor releases later.\n",
      "In /opt/anaconda3/envs/DMN/lib/python3.7/site-packages/matplotlib/mpl-data/stylelib/_classic_test.mplstyle: \n",
      "The animation.avconv_args rcparam was deprecated in Matplotlib 3.3 and will be removed two minor releases later.\n"
     ]
    }
   ],
   "source": [
    "import os\n",
    "import nrrd\n",
    "import matplotlib.pyplot as plt\n",
    "from allensdk.core.mouse_connectivity_cache import MouseConnectivityCache\n",
    "import numpy as np\n",
    "import json\n",
    "\n",
    "%matplotlib inline\n",
    "import matplotlib as mpl\n",
    "mpl.rcParams['pdf.fonttype'] = 42"
   ]
  },
  {
   "cell_type": "code",
   "execution_count": 2,
   "metadata": {},
   "outputs": [],
   "source": [
    "maskpath = r'../fMRI_masks'\n",
    "savepath = r'../../../_final_figures/Figure_S1'\n",
    "\n",
    "with open(r'../ccf_colors.json', 'r') as jsonfile:\n",
    "    ccf_colors = json.load(jsonfile)"
   ]
  },
  {
   "cell_type": "code",
   "execution_count": 3,
   "metadata": {},
   "outputs": [],
   "source": [
    "mcc = MouseConnectivityCache(manifest_file = 'connectivity/mouse_connectivity_manifest.json', resolution=100)"
   ]
  },
  {
   "cell_type": "code",
   "execution_count": 4,
   "metadata": {},
   "outputs": [],
   "source": [
    "structure_tree = mcc.get_structure_tree()"
   ]
  },
  {
   "cell_type": "code",
   "execution_count": 5,
   "metadata": {},
   "outputs": [],
   "source": [
    "coarse_structures = structure_tree.get_structures_by_set_id([2])"
   ]
  },
  {
   "cell_type": "code",
   "execution_count": 6,
   "metadata": {},
   "outputs": [],
   "source": [
    "coarse_structure_ids = [structure['id'] for structure in coarse_structures]"
   ]
  },
  {
   "cell_type": "code",
   "execution_count": 7,
   "metadata": {},
   "outputs": [
    {
     "data": {
      "text/plain": [
       "12"
      ]
     },
     "execution_count": 7,
     "metadata": {},
     "output_type": "execute_result"
    }
   ],
   "source": [
    "len(coarse_structure_ids)"
   ]
  },
  {
   "cell_type": "code",
   "execution_count": 8,
   "metadata": {
    "scrolled": true
   },
   "outputs": [],
   "source": [
    "names = []\n",
    "acronyms = []\n",
    "ids = []\n",
    "masks = []\n",
    "\n",
    "for structure in coarse_structures:\n",
    "    mask = mcc.get_structure_mask(structure['id'])\n",
    "    names.append(structure['name'])\n",
    "    acronyms.append(structure['acronym'])\n",
    "    ids.append(structure['id'])\n",
    "    masks.append(mask[0])"
   ]
  },
  {
   "cell_type": "code",
   "execution_count": 9,
   "metadata": {},
   "outputs": [],
   "source": [
    "names.append(u'fiber tracts')\n",
    "ids.append(1009)\n",
    "masks.append(mcc.get_structure_mask(1009)[0])\n",
    "acronyms.append('fiber tracts')"
   ]
  },
  {
   "cell_type": "code",
   "execution_count": 10,
   "metadata": {},
   "outputs": [
    {
     "data": {
      "text/plain": [
       "['Isocortex',\n",
       " 'Olfactory areas',\n",
       " 'Hippocampal formation',\n",
       " 'Cortical subplate',\n",
       " 'Striatum',\n",
       " 'Pallidum',\n",
       " 'Thalamus',\n",
       " 'Hypothalamus',\n",
       " 'Midbrain',\n",
       " 'Pons',\n",
       " 'Medulla',\n",
       " 'Cerebellum',\n",
       " 'fiber tracts']"
      ]
     },
     "execution_count": 10,
     "metadata": {},
     "output_type": "execute_result"
    }
   ],
   "source": [
    "names"
   ]
  },
  {
   "cell_type": "code",
   "execution_count": 11,
   "metadata": {},
   "outputs": [
    {
     "data": {
      "text/plain": [
       "['Isocortex',\n",
       " 'OLF',\n",
       " 'HPF',\n",
       " 'CTXsp',\n",
       " 'STR',\n",
       " 'PAL',\n",
       " 'TH',\n",
       " 'HY',\n",
       " 'MB',\n",
       " 'P',\n",
       " 'MY',\n",
       " 'CB',\n",
       " 'fiber tracts']"
      ]
     },
     "execution_count": 11,
     "metadata": {},
     "output_type": "execute_result"
    }
   ],
   "source": [
    "acronyms"
   ]
  },
  {
   "cell_type": "code",
   "execution_count": 12,
   "metadata": {},
   "outputs": [],
   "source": [
    "ICA0, _ = nrrd.read(os.path.join(maskpath, 'ica_all_05_icasso_iter_1000_comp_0_mask_z_1_allen_masked_sym_thresh.nrrd'))"
   ]
  },
  {
   "cell_type": "code",
   "execution_count": 13,
   "metadata": {},
   "outputs": [
    {
     "data": {
      "text/plain": [
       "array([0., 1.], dtype=float32)"
      ]
     },
     "execution_count": 13,
     "metadata": {},
     "output_type": "execute_result"
    }
   ],
   "source": [
    "np.unique(ICA0)"
   ]
  },
  {
   "cell_type": "code",
   "execution_count": 14,
   "metadata": {},
   "outputs": [
    {
     "data": {
      "text/plain": [
       "(132, 80, 114)"
      ]
     },
     "execution_count": 14,
     "metadata": {},
     "output_type": "execute_result"
    }
   ],
   "source": [
    "ICA0.shape"
   ]
  },
  {
   "cell_type": "code",
   "execution_count": 15,
   "metadata": {},
   "outputs": [
    {
     "data": {
      "text/plain": [
       "(132, 80, 114)"
      ]
     },
     "execution_count": 15,
     "metadata": {},
     "output_type": "execute_result"
    }
   ],
   "source": [
    "masks[0].shape"
   ]
  },
  {
   "cell_type": "code",
   "execution_count": 16,
   "metadata": {},
   "outputs": [],
   "source": [
    "root_mask, _ = mcc.get_structure_mask(997)"
   ]
  },
  {
   "cell_type": "code",
   "execution_count": 17,
   "metadata": {},
   "outputs": [],
   "source": [
    "percent_coverage = []\n",
    "for mask in masks:\n",
    "    overlap = float(np.sum(mask[np.where(ICA0)]))/float(np.sum(root_mask[np.where(ICA0)]))\n",
    "    percent_coverage.append(overlap)"
   ]
  },
  {
   "cell_type": "code",
   "execution_count": 18,
   "metadata": {},
   "outputs": [
    {
     "data": {
      "text/plain": [
       "[0.7762993762993763,\n",
       " 0.04453684453684454,\n",
       " 0.00619080619080619,\n",
       " 0.0027412027412027414,\n",
       " 0.06931546931546932,\n",
       " 0.0003696003696003696,\n",
       " 0.023408023408023407,\n",
       " 0.0,\n",
       " 0.005898205898205898,\n",
       " 0.0,\n",
       " 0.0,\n",
       " 0.0,\n",
       " 0.06985446985446986]"
      ]
     },
     "execution_count": 18,
     "metadata": {},
     "output_type": "execute_result"
    }
   ],
   "source": [
    "percent_coverage"
   ]
  },
  {
   "cell_type": "code",
   "execution_count": 19,
   "metadata": {},
   "outputs": [
    {
     "data": {
      "text/plain": [
       "array(['Isocortex', 'Olfactory areas', 'Hippocampal formation',\n",
       "       'Cortical subplate', 'Striatum', 'Pallidum', 'Thalamus',\n",
       "       'Midbrain', 'fiber tracts'], dtype='<U21')"
      ]
     },
     "execution_count": 19,
     "metadata": {},
     "output_type": "execute_result"
    }
   ],
   "source": [
    "percent = np.array(percent_coverage)\n",
    "names = np.array(names)\n",
    "acronyms = np.array(acronyms)\n",
    "names[np.where(percent > 0)]"
   ]
  },
  {
   "cell_type": "code",
   "execution_count": 20,
   "metadata": {},
   "outputs": [
    {
     "data": {
      "text/plain": [
       "array(['Isocortex', 'OLF', 'HPF', 'CTXsp', 'STR', 'PAL', 'TH', 'MB',\n",
       "       'fiber tracts'], dtype='<U12')"
      ]
     },
     "execution_count": 20,
     "metadata": {},
     "output_type": "execute_result"
    }
   ],
   "source": [
    "acronyms[np.where(percent>0)]"
   ]
  },
  {
   "cell_type": "code",
   "execution_count": 21,
   "metadata": {},
   "outputs": [
    {
     "name": "stderr",
     "output_type": "stream",
     "text": [
      "/opt/anaconda3/envs/DMN/lib/python3.7/site-packages/ipykernel_launcher.py:6: MatplotlibDeprecationWarning: normalize=None does not normalize if the sum is less than 1 but this behavior is deprecated since 3.3 until two minor releases later. After the deprecation period the default value will be normalize=True. To prevent normalization pass normalize=False \n",
      "  \n"
     ]
    },
    {
     "data": {
      "image/png": "[encoded data removed]",
      "text/plain": [
       "<Figure size 360x360 with 1 Axes>"
      ]
     },
     "metadata": {},
     "output_type": "display_data"
    }
   ],
   "source": [
    "labels = names[np.where(percent > 0)]\n",
    "sizes = percent[np.where(percent > 0)]\n",
    "colors = [ccf_colors[key] for key in ccf_colors.keys() if key in acronyms[np.where(percent>0)]]\n",
    " \n",
    "fig, ax = plt.subplots(figsize = (5, 5))\n",
    "ax.pie(sizes, labels=labels, autopct='%1.1f%%', colors = colors, shadow=False, startangle=90)\n",
    "ax.axis('equal')  # Equal aspect ratio ensures that pie is drawn as a circle.\n",
    "#plt.savefig(os.path.join(savepath, 'ICA_0.pdf'), bbox_inches='tight', \n",
    "#            pad_inches=0.3, transparent = True, dpi=300)"
   ]
  },
  {
   "cell_type": "code",
   "execution_count": 22,
   "metadata": {},
   "outputs": [],
   "source": [
    "ICA1, _ = nrrd.read(os.path.join(maskpath, 'ica_all_05_icasso_iter_1000_comp_1_mask_z_1_allen_masked_sym_thresh.nrrd'))"
   ]
  },
  {
   "cell_type": "code",
   "execution_count": 23,
   "metadata": {},
   "outputs": [],
   "source": [
    "percent_coverage = []\n",
    "for mask in masks:\n",
    "    overlap = float(np.sum(mask[np.where(ICA1)]))/float(np.sum(root_mask[np.where(ICA1)]))\n",
    "    percent_coverage.append(overlap)"
   ]
  },
  {
   "cell_type": "code",
   "execution_count": 24,
   "metadata": {},
   "outputs": [
    {
     "data": {
      "text/plain": [
       "array(['Isocortex', 'Hippocampal formation', 'Striatum', 'fiber tracts'],\n",
       "      dtype='<U21')"
      ]
     },
     "execution_count": 24,
     "metadata": {},
     "output_type": "execute_result"
    }
   ],
   "source": [
    "percent = np.array(percent_coverage)\n",
    "names = np.array(names)\n",
    "names[np.where(percent > 0)]"
   ]
  },
  {
   "cell_type": "code",
   "execution_count": 25,
   "metadata": {},
   "outputs": [
    {
     "name": "stderr",
     "output_type": "stream",
     "text": [
      "/opt/anaconda3/envs/DMN/lib/python3.7/site-packages/ipykernel_launcher.py:6: MatplotlibDeprecationWarning: normalize=None does not normalize if the sum is less than 1 but this behavior is deprecated since 3.3 until two minor releases later. After the deprecation period the default value will be normalize=True. To prevent normalization pass normalize=False \n",
      "  \n"
     ]
    },
    {
     "data": {
      "image/png": "[encoded data removed]",
      "text/plain": [
       "<Figure size 360x360 with 1 Axes>"
      ]
     },
     "metadata": {},
     "output_type": "display_data"
    }
   ],
   "source": [
    "labels = names[np.where(percent > 0)]\n",
    "sizes = percent[np.where(percent > 0)]\n",
    "colors = [ccf_colors[key] for key in ccf_colors.keys() if key in acronyms[np.where(percent>0)]]\n",
    "\n",
    "fig, ax = plt.subplots(figsize = (5, 5))\n",
    "ax.pie(sizes, labels=labels, autopct='%1.1f%%', colors = colors, shadow=False, startangle=90)\n",
    "ax.axis('equal')  # Equal aspect ratio ensures that pie is drawn as a circle.\n",
    "#plt.savefig(os.path.join(savepath, 'ICA_1.pdf'), bbox_inches='tight', \n",
    "#            pad_inches=0.3, transparent = True, dpi=300)"
   ]
  },
  {
   "cell_type": "code",
   "execution_count": 26,
   "metadata": {},
   "outputs": [],
   "source": [
    "ICA2, _ = nrrd.read(os.path.join(maskpath, 'ica_all_05_icasso_iter_1000_comp_2_mask_z_1_allen_masked_sym_thresh.nrrd'))"
   ]
  },
  {
   "cell_type": "code",
   "execution_count": 27,
   "metadata": {},
   "outputs": [],
   "source": [
    "percent_coverage = []\n",
    "for mask in masks:\n",
    "    overlap = float(np.sum(mask[np.where(ICA2)]))/float(np.sum(root_mask[np.where(ICA2)]))\n",
    "    percent_coverage.append(overlap)"
   ]
  },
  {
   "cell_type": "code",
   "execution_count": 28,
   "metadata": {},
   "outputs": [
    {
     "data": {
      "text/plain": [
       "array(['Isocortex', 'Olfactory areas', 'Cortical subplate', 'Striatum',\n",
       "       'Pallidum', 'fiber tracts'], dtype='<U21')"
      ]
     },
     "execution_count": 28,
     "metadata": {},
     "output_type": "execute_result"
    }
   ],
   "source": [
    "percent = np.array(percent_coverage)\n",
    "names = np.array(names)\n",
    "names[np.where(percent > 0)]"
   ]
  },
  {
   "cell_type": "code",
   "execution_count": 29,
   "metadata": {},
   "outputs": [
    {
     "data": {
      "image/png": "[encoded data removed]",
      "text/plain": [
       "<Figure size 360x360 with 1 Axes>"
      ]
     },
     "metadata": {},
     "output_type": "display_data"
    }
   ],
   "source": [
    "labels = names[np.where(percent > 0)]\n",
    "sizes = percent[np.where(percent > 0)]\n",
    "colors = [ccf_colors[key] for key in ccf_colors.keys() if key in acronyms[np.where(percent>0)]]\n",
    "\n",
    "fig, ax = plt.subplots(figsize = (5, 5))\n",
    "ax.pie(sizes, labels=labels, autopct='%1.1f%%', colors = colors, shadow=False, startangle=90)\n",
    "ax.axis('equal')  # Equal aspect ratio ensures that pie is drawn as a circle.\n",
    "#plt.savefig(os.path.join(savepath, 'ICA_2.pdf'), bbox_inches='tight', \n",
    "#            pad_inches=0.3, transparent = True, dpi=300)"
   ]
  },
  {
   "cell_type": "code",
   "execution_count": 30,
   "metadata": {},
   "outputs": [],
   "source": [
    "ICA3, _ = nrrd.read(os.path.join(maskpath, 'ica_all_05_icasso_iter_1000_comp_3_mask_z_1_allen_masked_sym_thresh.nrrd'))"
   ]
  },
  {
   "cell_type": "code",
   "execution_count": 31,
   "metadata": {},
   "outputs": [],
   "source": [
    "percent_coverage = []\n",
    "for mask in masks:\n",
    "    overlap = float(np.sum(mask[np.where(ICA3)]))/float(np.sum(root_mask[np.where(ICA3)]))\n",
    "    percent_coverage.append(overlap)"
   ]
  },
  {
   "cell_type": "code",
   "execution_count": 32,
   "metadata": {},
   "outputs": [
    {
     "data": {
      "text/plain": [
       "array(['Isocortex', 'Olfactory areas', 'Hippocampal formation',\n",
       "       'Thalamus', 'Midbrain', 'fiber tracts'], dtype='<U21')"
      ]
     },
     "execution_count": 32,
     "metadata": {},
     "output_type": "execute_result"
    }
   ],
   "source": [
    "percent = np.array(percent_coverage)\n",
    "names = np.array(names)\n",
    "names[np.where(percent > 0)]"
   ]
  },
  {
   "cell_type": "code",
   "execution_count": 33,
   "metadata": {},
   "outputs": [
    {
     "name": "stderr",
     "output_type": "stream",
     "text": [
      "/opt/anaconda3/envs/DMN/lib/python3.7/site-packages/ipykernel_launcher.py:6: MatplotlibDeprecationWarning: normalize=None does not normalize if the sum is less than 1 but this behavior is deprecated since 3.3 until two minor releases later. After the deprecation period the default value will be normalize=True. To prevent normalization pass normalize=False \n",
      "  \n"
     ]
    },
    {
     "data": {
      "image/png": "[encoded data removed]",
      "text/plain": [
       "<Figure size 360x360 with 1 Axes>"
      ]
     },
     "metadata": {},
     "output_type": "display_data"
    }
   ],
   "source": [
    "labels = names[np.where(percent > 0)]\n",
    "sizes = percent[np.where(percent > 0)]\n",
    "colors = [ccf_colors[key] for key in ccf_colors.keys() if key in acronyms[np.where(percent>0)]]\n",
    "\n",
    "fig, ax = plt.subplots(figsize = (5, 5))\n",
    "ax.pie(sizes, labels=labels, autopct='%1.1f%%', colors = colors, shadow=False, startangle=90)\n",
    "ax.axis('equal')  # Equal aspect ratio ensures that pie is drawn as a circle.\n",
    "#plt.savefig(os.path.join(savepath, 'ICA_3.pdf'), bbox_inches='tight', \n",
    "#            pad_inches=0.3, transparent = True, dpi=300)"
   ]
  },
  {
   "cell_type": "code",
   "execution_count": 34,
   "metadata": {},
   "outputs": [],
   "source": [
    "ICA4, _ = nrrd.read(os.path.join(maskpath, 'ica_all_05_icasso_iter_1000_comp_4_mask_z_1_allen_masked_sym_thresh.nrrd'))"
   ]
  },
  {
   "cell_type": "code",
   "execution_count": 35,
   "metadata": {},
   "outputs": [],
   "source": [
    "percent_coverage = []\n",
    "for mask in masks:\n",
    "    overlap = float(np.sum(mask[np.where(ICA4)]))/float(np.sum(root_mask[np.where(ICA4)]))\n",
    "    percent_coverage.append(overlap)"
   ]
  },
  {
   "cell_type": "code",
   "execution_count": 36,
   "metadata": {},
   "outputs": [
    {
     "data": {
      "text/plain": [
       "array(['Isocortex', 'Hippocampal formation', 'Midbrain', 'fiber tracts'],\n",
       "      dtype='<U21')"
      ]
     },
     "execution_count": 36,
     "metadata": {},
     "output_type": "execute_result"
    }
   ],
   "source": [
    "percent = np.array(percent_coverage)\n",
    "names = np.array(names)\n",
    "names[np.where(percent > 0)]"
   ]
  },
  {
   "cell_type": "code",
   "execution_count": 37,
   "metadata": {},
   "outputs": [
    {
     "name": "stderr",
     "output_type": "stream",
     "text": [
      "/opt/anaconda3/envs/DMN/lib/python3.7/site-packages/ipykernel_launcher.py:6: MatplotlibDeprecationWarning: normalize=None does not normalize if the sum is less than 1 but this behavior is deprecated since 3.3 until two minor releases later. After the deprecation period the default value will be normalize=True. To prevent normalization pass normalize=False \n",
      "  \n"
     ]
    },
    {
     "data": {
      "image/png": "[encoded data removed]",
      "text/plain": [
       "<Figure size 360x360 with 1 Axes>"
      ]
     },
     "metadata": {},
     "output_type": "display_data"
    }
   ],
   "source": [
    "labels = names[np.where(percent > 0)]\n",
    "sizes = percent[np.where(percent > 0)]\n",
    "colors = [ccf_colors[key] for key in ccf_colors.keys() if key in acronyms[np.where(percent>0)]]\n",
    "\n",
    "fig, ax = plt.subplots(figsize = (5, 5))\n",
    "ax.pie(sizes, labels=labels, autopct='%1.1f%%', colors = colors, shadow=False, startangle=90)\n",
    "ax.axis('equal')  # Equal aspect ratio ensures that pie is drawn as a circle.\n",
    "#plt.savefig(os.path.join(savepath, 'ICA_4.pdf'), bbox_inches='tight', \n",
    "#            pad_inches=0.3, transparent = True, dpi=300)"
   ]
  },
  {
   "cell_type": "code",
   "execution_count": 38,
   "metadata": {},
   "outputs": [],
   "source": [
    "core_mask, _ = nrrd.read(os.path.join(maskpath, 'dmn_mask_and_core.nrrd'))"
   ]
  },
  {
   "cell_type": "code",
   "execution_count": 39,
   "metadata": {},
   "outputs": [
    {
     "name": "stdout",
     "output_type": "stream",
     "text": [
      "[0. 1. 2.]\n",
      "[0. 2.]\n"
     ]
    }
   ],
   "source": [
    "print(np.unique(core_mask))\n",
    "core_mask[np.where(core_mask == 1)] = 0\n",
    "print(np.unique(core_mask))"
   ]
  },
  {
   "cell_type": "code",
   "execution_count": 40,
   "metadata": {},
   "outputs": [],
   "source": [
    "percent_coverage = []\n",
    "for mask in masks:\n",
    "    overlap = float(np.sum(mask[np.where(core_mask)]))/float(\n",
    "        np.sum(root_mask[np.where(core_mask)]))\n",
    "    percent_coverage.append(overlap)"
   ]
  },
  {
   "cell_type": "code",
   "execution_count": 41,
   "metadata": {},
   "outputs": [
    {
     "data": {
      "text/plain": [
       "array(['Isocortex', 'Olfactory areas', 'Hippocampal formation',\n",
       "       'Cortical subplate', 'Striatum', 'Pallidum', 'Thalamus',\n",
       "       'Midbrain', 'fiber tracts'], dtype='<U21')"
      ]
     },
     "execution_count": 41,
     "metadata": {},
     "output_type": "execute_result"
    }
   ],
   "source": [
    "percent = np.array(percent_coverage)\n",
    "names = np.array(names)\n",
    "names[np.where(percent > 0)]"
   ]
  },
  {
   "cell_type": "code",
   "execution_count": 42,
   "metadata": {},
   "outputs": [
    {
     "name": "stderr",
     "output_type": "stream",
     "text": [
      "/opt/anaconda3/envs/DMN/lib/python3.7/site-packages/ipykernel_launcher.py:6: MatplotlibDeprecationWarning: normalize=None does not normalize if the sum is less than 1 but this behavior is deprecated since 3.3 until two minor releases later. After the deprecation period the default value will be normalize=True. To prevent normalization pass normalize=False \n",
      "  \n"
     ]
    },
    {
     "data": {
      "image/png": "[encoded data removed]",
      "text/plain": [
       "<Figure size 360x360 with 1 Axes>"
      ]
     },
     "metadata": {},
     "output_type": "display_data"
    }
   ],
   "source": [
    "labels = names[np.where(percent > 0)]\n",
    "sizes = percent[np.where(percent > 0)]\n",
    "colors = [ccf_colors[key] for key in ccf_colors.keys() if key in acronyms[np.where(percent>0)]]\n",
    "\n",
    "fig, ax = plt.subplots(figsize = (5, 5))\n",
    "ax.pie(sizes, labels=labels, autopct='%1.1f%%', colors = colors, shadow=False, startangle=90)\n",
    "ax.axis('equal')  # Equal aspect ratio ensures that pie is drawn as a circle.\n",
    "#plt.savefig(os.path.join(savepath, 'DMN_core.pdf'), bbox_inches='tight', \n",
    "#            pad_inches=0.3, transparent = True, dpi=300)"
   ]
  },
  {
   "cell_type": "code",
   "execution_count": null,
   "metadata": {},
   "outputs": [],
   "source": []
  }
 ],
 "metadata": {
  "kernelspec": {
   "display_name": "Python 3",
   "language": "python",
   "name": "python3"
  },
  "language_info": {
   "codemirror_mode": {
    "name": "ipython",
    "version": 3
   },
   "file_extension": ".py",
   "mimetype": "text/x-python",
   "name": "python",
   "nbconvert_exporter": "python",
   "pygments_lexer": "ipython3",
   "version": "3.7.6"
  }
 },
 "nbformat": 4,
 "nbformat_minor": 2
}
