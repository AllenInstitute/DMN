{
 "cells": [
  {
   "cell_type": "code",
   "execution_count": 1,
   "metadata": {},
   "outputs": [
    {
     "name": "stderr",
     "output_type": "stream",
     "text": [
      "/opt/anaconda3/envs/DMN/lib/python3.7/site-packages/statsmodels/compat/pandas.py:49: FutureWarning: The Panel class is removed from pandas. Accessing it from the top-level namespace will also be removed in the next version\n",
      "  data_klasses = (pandas.Series, pandas.DataFrame, pandas.Panel)\n"
     ]
    }
   ],
   "source": [
    "import os\n",
    "import pandas as pd\n",
    "import seaborn as sns\n",
    "sns.set_context('paper')\n",
    "sns.set_style('white')\n",
    "from anatomy.anatomy_api import AnatomyApi\n",
    "from allensdk.core.mouse_connectivity_cache import MouseConnectivityCache\n",
    "import matplotlib.pyplot as plt\n",
    "%matplotlib inline\n",
    "import scipy.stats as stats\n",
    "from statsmodels.formula.api import ols\n",
    "import statsmodels.api as sm\n",
    "from statsmodels.stats.multicomp import MultiComparison\n",
    "\n",
    "import matplotlib as mpl\n",
    "mpl.rcParams['pdf.fonttype'] = 42"
   ]
  },
  {
   "cell_type": "code",
   "execution_count": 2,
   "metadata": {},
   "outputs": [],
   "source": [
    "aapi = AnatomyApi()\n",
    "ss = aapi.get_summary_structure_data('id')\n",
    "mcc = MouseConnectivityCache(manifest_file = '../connectivity/mouse_connectivity_manifest.json')\n",
    "structure_tree = mcc.get_structure_tree()\n",
    "ia_map = structure_tree.get_id_acronym_map()\n",
    "ai_map = {value:key for key,value in ia_map.items()}\n",
    "isocortex = structure_tree.get_structures_by_acronym(['Isocortex'])[0]\n",
    "iso = structure_tree.descendant_ids([isocortex['id']])[0]\n",
    "iso = [structure for structure in iso if structure in ss]\n",
    "iso_strs = [ai_map[structure] for structure in iso]"
   ]
  },
  {
   "cell_type": "code",
   "execution_count": 3,
   "metadata": {},
   "outputs": [],
   "source": [
    "basepath = r'/Users/jenniferwh/Dropbox (Allen Institute)/Mesoscale Connectome Papers in Progress/2019 DMN'\n",
    "savepath = os.path.join(basepath, '_new_figures', 'Figure_5')"
   ]
  },
  {
   "cell_type": "code",
   "execution_count": 4,
   "metadata": {},
   "outputs": [
    {
     "name": "stdout",
     "output_type": "stream",
     "text": [
      "130\n"
     ]
    }
   ],
   "source": [
    "dat = pd.read_csv(os.path.join(savepath, 'TD_injection_layers.csv'))\n",
    "dat = dat[dat['source'].isin(iso_strs)]\n",
    "dat = dat[dat['include'] == 'yes']\n",
    "print(len(dat))"
   ]
  },
  {
   "cell_type": "code",
   "execution_count": 5,
   "metadata": {},
   "outputs": [
    {
     "data": {
      "image/png": "[encoded data removed]",
      "text/plain": [
       "<Figure size 108x108 with 1 Axes>"
      ]
     },
     "metadata": {
      "needs_background": "light"
     },
     "output_type": "display_data"
    }
   ],
   "source": [
    "fig, ax = plt.subplots(figsize = (1.5, 1.5))\n",
    "sns.regplot('L2/3', 'projection dmn fraction', data = dat, color='c',\n",
    "            fit_reg = False,\n",
    "            label = 'L2/3', scatter_kws={'edgecolors':'k',\n",
    "                        'linewidth':0.5,\n",
    "                        's': 40,\n",
    "                        'alpha': 0.6,\n",
    "                        'zorder':2})\n",
    "sns.regplot('L5', 'projection dmn fraction', data = dat, color = 'gray',\n",
    "            fit_reg = False,\n",
    "            label = 'L5', scatter_kws={'edgecolors':'k',\n",
    "                        'linewidth':0.5,\n",
    "                        's': 40,\n",
    "                        'alpha': 0.6,\n",
    "                        'zorder': 1})\n",
    "ax.set_xticks([0, 0.5, 1])\n",
    "ax.set_xlabel('Fraction of Injection in Layer', fontsize=8)\n",
    "ax.set_ylabel('Projection DMN Fraction', fontsize = 8)\n",
    "plt.legend(loc = 2, fontsize = 8, labelspacing = 0.2, \n",
    "           bbox_to_anchor = [0,1.2])\n",
    "sns.despine()\n",
    "plt.savefig(os.path.join(savepath, 'TD_experiments_by_injection_layer.pdf'), \n",
    "            bbox_inches='tight', pad_inches=0.3, format='pdf', transparent = True, dpi=300)"
   ]
  },
  {
   "cell_type": "code",
   "execution_count": 6,
   "metadata": {},
   "outputs": [],
   "source": [
    "dat.loc[dat['CAV_percent_DMN']>50, 'target_type'] = 'in DMN'\n",
    "dat.loc[dat['CAV_percent_DMN']<50, 'target_type'] = 'out DMN'"
   ]
  },
  {
   "cell_type": "code",
   "execution_count": 10,
   "metadata": {},
   "outputs": [
    {
     "data": {
      "image/png": "[encoded data removed]",
      "text/plain": [
       "<Figure size 108x108 with 1 Axes>"
      ]
     },
     "metadata": {
      "needs_background": "light"
     },
     "output_type": "display_data"
    }
   ],
   "source": [
    "fig, ax = plt.subplots(figsize = (1.5, 1.5))\n",
    "sns.regplot('projection dmn fraction', 'L23_5_ratio', \n",
    "            data = dat[dat['target_type'] == 'in DMN'], \n",
    "            color='mediumpurple',\n",
    "            fit_reg = False,\n",
    "            scatter_kws={'edgecolors':'k',\n",
    "                        'linewidth':0.5,\n",
    "                        's': 30,\n",
    "                        'alpha': 0.6,\n",
    "                        'zorder':2})\n",
    "sns.regplot('projection dmn fraction', 'L23_5_ratio', \n",
    "            data = dat[dat['target_type'] == 'out DMN'], \n",
    "            color='w',\n",
    "            fit_reg = False,\n",
    "            scatter_kws={'edgecolors':'k',\n",
    "                        'linewidth':0.5,\n",
    "                        's': 30,\n",
    "                        'alpha': 0.6,\n",
    "                        'zorder':2})\n",
    "ax.set_ylim([-0.15, 2.2])\n",
    "ax.set_yticks([0, 1, 2])\n",
    "ax.set_xticks([0, 0.5, 1])\n",
    "ax.set_ylabel('Inj. L2/3 / L5 Ratio')\n",
    "ax.set_xlabel('Projection DMN Fraction')\n",
    "ax.tick_params(bottom = True, left = True)\n",
    "sns.despine()\n",
    "plt.savefig(os.path.join(savepath, 'TD_experiments_by_injection_layer_ratio.pdf'), \n",
    "            bbox_inches='tight', pad_inches=0.3, format='pdf', transparent = True, dpi=300)"
   ]
  },
  {
   "cell_type": "code",
   "execution_count": 9,
   "metadata": {},
   "outputs": [],
   "source": [
    "meltdat = dat[['projection dmn fraction', 'L2/3', 'L5']].melt(\n",
    "    id_vars = ['L2/3', 'L5'], value_vars = 'projection dmn fraction')"
   ]
  },
  {
   "cell_type": "code",
   "execution_count": 10,
   "metadata": {},
   "outputs": [
    {
     "data": {
      "text/html": [
       "<div>\n",
       "<style scoped>\n",
       "    .dataframe tbody tr th:only-of-type {\n",
       "        vertical-align: middle;\n",
       "    }\n",
       "\n",
       "    .dataframe tbody tr th {\n",
       "        vertical-align: top;\n",
       "    }\n",
       "\n",
       "    .dataframe thead th {\n",
       "        text-align: right;\n",
       "    }\n",
       "</style>\n",
       "<table border=\"1\" class=\"dataframe\">\n",
       "  <thead>\n",
       "    <tr style=\"text-align: right;\">\n",
       "      <th></th>\n",
       "      <th>L2/3</th>\n",
       "      <th>L5</th>\n",
       "      <th>variable</th>\n",
       "      <th>value</th>\n",
       "    </tr>\n",
       "  </thead>\n",
       "  <tbody>\n",
       "    <tr>\n",
       "      <th>0</th>\n",
       "      <td>0.305025</td>\n",
       "      <td>0.662901</td>\n",
       "      <td>projection dmn fraction</td>\n",
       "      <td>0.607414</td>\n",
       "    </tr>\n",
       "    <tr>\n",
       "      <th>1</th>\n",
       "      <td>0.030346</td>\n",
       "      <td>0.969654</td>\n",
       "      <td>projection dmn fraction</td>\n",
       "      <td>0.652964</td>\n",
       "    </tr>\n",
       "    <tr>\n",
       "      <th>2</th>\n",
       "      <td>0.007064</td>\n",
       "      <td>0.983504</td>\n",
       "      <td>projection dmn fraction</td>\n",
       "      <td>0.628588</td>\n",
       "    </tr>\n",
       "    <tr>\n",
       "      <th>3</th>\n",
       "      <td>0.035084</td>\n",
       "      <td>0.949610</td>\n",
       "      <td>projection dmn fraction</td>\n",
       "      <td>0.537213</td>\n",
       "    </tr>\n",
       "    <tr>\n",
       "      <th>4</th>\n",
       "      <td>0.299050</td>\n",
       "      <td>0.685955</td>\n",
       "      <td>projection dmn fraction</td>\n",
       "      <td>0.682600</td>\n",
       "    </tr>\n",
       "  </tbody>\n",
       "</table>\n",
       "</div>"
      ],
      "text/plain": [
       "       L2/3        L5                 variable     value\n",
       "0  0.305025  0.662901  projection dmn fraction  0.607414\n",
       "1  0.030346  0.969654  projection dmn fraction  0.652964\n",
       "2  0.007064  0.983504  projection dmn fraction  0.628588\n",
       "3  0.035084  0.949610  projection dmn fraction  0.537213\n",
       "4  0.299050  0.685955  projection dmn fraction  0.682600"
      ]
     },
     "execution_count": 10,
     "metadata": {},
     "output_type": "execute_result"
    }
   ],
   "source": [
    "meltdat.head()"
   ]
  },
  {
   "cell_type": "code",
   "execution_count": 11,
   "metadata": {
    "scrolled": false
   },
   "outputs": [
    {
     "name": "stderr",
     "output_type": "stream",
     "text": [
      "/opt/anaconda3/envs/DMN/lib/python3.7/site-packages/numpy/core/fromnumeric.py:2495: FutureWarning: Method .ptp is deprecated and will be removed in a future version. Use numpy.ptp instead.\n",
      "  return ptp(axis=axis, out=out, **kwargs)\n"
     ]
    },
    {
     "data": {
      "text/html": [
       "<table class=\"simpletable\">\n",
       "<caption>OLS Regression Results</caption>\n",
       "<tr>\n",
       "  <th>Dep. Variable:</th>          <td>value</td>      <th>  R-squared:         </th> <td>   0.241</td>\n",
       "</tr>\n",
       "<tr>\n",
       "  <th>Model:</th>                   <td>OLS</td>       <th>  Adj. R-squared:    </th> <td>   0.235</td>\n",
       "</tr>\n",
       "<tr>\n",
       "  <th>Method:</th>             <td>Least Squares</td>  <th>  F-statistic:       </th> <td>   40.60</td>\n",
       "</tr>\n",
       "<tr>\n",
       "  <th>Date:</th>             <td>Wed, 11 Mar 2020</td> <th>  Prob (F-statistic):</th> <td>3.09e-09</td>\n",
       "</tr>\n",
       "<tr>\n",
       "  <th>Time:</th>                 <td>15:52:37</td>     <th>  Log-Likelihood:    </th> <td>  4.1655</td>\n",
       "</tr>\n",
       "<tr>\n",
       "  <th>No. Observations:</th>      <td>   130</td>      <th>  AIC:               </th> <td>  -4.331</td>\n",
       "</tr>\n",
       "<tr>\n",
       "  <th>Df Residuals:</th>          <td>   128</td>      <th>  BIC:               </th> <td>   1.404</td>\n",
       "</tr>\n",
       "<tr>\n",
       "  <th>Df Model:</th>              <td>     1</td>      <th>                     </th>     <td> </td>   \n",
       "</tr>\n",
       "<tr>\n",
       "  <th>Covariance Type:</th>      <td>nonrobust</td>    <th>                     </th>     <td> </td>   \n",
       "</tr>\n",
       "</table>\n",
       "<table class=\"simpletable\">\n",
       "<tr>\n",
       "    <td></td>       <th>coef</th>     <th>std err</th>      <th>t</th>      <th>P>|t|</th>  <th>[0.025</th>    <th>0.975]</th>  \n",
       "</tr>\n",
       "<tr>\n",
       "  <th>const</th> <td>    0.3222</td> <td>    0.028</td> <td>   11.322</td> <td> 0.000</td> <td>    0.266</td> <td>    0.378</td>\n",
       "</tr>\n",
       "<tr>\n",
       "  <th>L2_3</th>  <td>    0.9469</td> <td>    0.149</td> <td>    6.371</td> <td> 0.000</td> <td>    0.653</td> <td>    1.241</td>\n",
       "</tr>\n",
       "</table>\n",
       "<table class=\"simpletable\">\n",
       "<tr>\n",
       "  <th>Omnibus:</th>       <td>31.049</td> <th>  Durbin-Watson:     </th> <td>   0.929</td>\n",
       "</tr>\n",
       "<tr>\n",
       "  <th>Prob(Omnibus):</th> <td> 0.000</td> <th>  Jarque-Bera (JB):  </th> <td>   6.595</td>\n",
       "</tr>\n",
       "<tr>\n",
       "  <th>Skew:</th>          <td> 0.032</td> <th>  Prob(JB):          </th> <td>  0.0370</td>\n",
       "</tr>\n",
       "<tr>\n",
       "  <th>Kurtosis:</th>      <td> 1.898</td> <th>  Cond. No.          </th> <td>    7.30</td>\n",
       "</tr>\n",
       "</table><br/><br/>Warnings:<br/>[1] Standard Errors assume that the covariance matrix of the errors is correctly specified."
      ],
      "text/plain": [
       "<class 'statsmodels.iolib.summary.Summary'>\n",
       "\"\"\"\n",
       "                            OLS Regression Results                            \n",
       "==============================================================================\n",
       "Dep. Variable:                  value   R-squared:                       0.241\n",
       "Model:                            OLS   Adj. R-squared:                  0.235\n",
       "Method:                 Least Squares   F-statistic:                     40.60\n",
       "Date:                Wed, 11 Mar 2020   Prob (F-statistic):           3.09e-09\n",
       "Time:                        15:52:37   Log-Likelihood:                 4.1655\n",
       "No. Observations:                 130   AIC:                            -4.331\n",
       "Df Residuals:                     128   BIC:                             1.404\n",
       "Df Model:                           1                                         \n",
       "Covariance Type:            nonrobust                                         \n",
       "==============================================================================\n",
       "                 coef    std err          t      P>|t|      [0.025      0.975]\n",
       "------------------------------------------------------------------------------\n",
       "const          0.3222      0.028     11.322      0.000       0.266       0.378\n",
       "L2_3           0.9469      0.149      6.371      0.000       0.653       1.241\n",
       "==============================================================================\n",
       "Omnibus:                       31.049   Durbin-Watson:                   0.929\n",
       "Prob(Omnibus):                  0.000   Jarque-Bera (JB):                6.595\n",
       "Skew:                           0.032   Prob(JB):                       0.0370\n",
       "Kurtosis:                       1.898   Cond. No.                         7.30\n",
       "==============================================================================\n",
       "\n",
       "Warnings:\n",
       "[1] Standard Errors assume that the covariance matrix of the errors is correctly specified.\n",
       "\"\"\""
      ]
     },
     "execution_count": 11,
     "metadata": {},
     "output_type": "execute_result"
    }
   ],
   "source": [
    "meltdat.rename(columns = {'L2/3': 'L2_3'}, inplace = True)\n",
    "X = meltdat[\"L2_3\"]\n",
    "y = meltdat[\"value\"]\n",
    "X = sm.add_constant(X) ## add an intercept\n",
    "\n",
    "# Note the difference in argument order\n",
    "model = sm.OLS(y, X).fit()\n",
    "predictions = model.predict(X) # make the predictions by the model\n",
    "\n",
    "# Print out the statistics\n",
    "model.summary()"
   ]
  },
  {
   "cell_type": "code",
   "execution_count": 12,
   "metadata": {},
   "outputs": [
    {
     "data": {
      "text/html": [
       "<table class=\"simpletable\">\n",
       "<caption>OLS Regression Results</caption>\n",
       "<tr>\n",
       "  <th>Dep. Variable:</th>          <td>value</td>      <th>  R-squared:         </th> <td>   0.014</td>\n",
       "</tr>\n",
       "<tr>\n",
       "  <th>Model:</th>                   <td>OLS</td>       <th>  Adj. R-squared:    </th> <td>   0.007</td>\n",
       "</tr>\n",
       "<tr>\n",
       "  <th>Method:</th>             <td>Least Squares</td>  <th>  F-statistic:       </th> <td>   1.849</td>\n",
       "</tr>\n",
       "<tr>\n",
       "  <th>Date:</th>             <td>Wed, 11 Mar 2020</td> <th>  Prob (F-statistic):</th>  <td> 0.176</td> \n",
       "</tr>\n",
       "<tr>\n",
       "  <th>Time:</th>                 <td>15:52:37</td>     <th>  Log-Likelihood:    </th> <td> -12.808</td>\n",
       "</tr>\n",
       "<tr>\n",
       "  <th>No. Observations:</th>      <td>   130</td>      <th>  AIC:               </th> <td>   29.62</td>\n",
       "</tr>\n",
       "<tr>\n",
       "  <th>Df Residuals:</th>          <td>   128</td>      <th>  BIC:               </th> <td>   35.35</td>\n",
       "</tr>\n",
       "<tr>\n",
       "  <th>Df Model:</th>              <td>     1</td>      <th>                     </th>     <td> </td>   \n",
       "</tr>\n",
       "<tr>\n",
       "  <th>Covariance Type:</th>      <td>nonrobust</td>    <th>                     </th>     <td> </td>   \n",
       "</tr>\n",
       "</table>\n",
       "<table class=\"simpletable\">\n",
       "<tr>\n",
       "    <td></td>       <th>coef</th>     <th>std err</th>      <th>t</th>      <th>P>|t|</th>  <th>[0.025</th>    <th>0.975]</th>  \n",
       "</tr>\n",
       "<tr>\n",
       "  <th>const</th> <td>    0.3343</td> <td>    0.086</td> <td>    3.895</td> <td> 0.000</td> <td>    0.164</td> <td>    0.504</td>\n",
       "</tr>\n",
       "<tr>\n",
       "  <th>L5</th>    <td>    0.1641</td> <td>    0.121</td> <td>    1.360</td> <td> 0.176</td> <td>   -0.075</td> <td>    0.403</td>\n",
       "</tr>\n",
       "</table>\n",
       "<table class=\"simpletable\">\n",
       "<tr>\n",
       "  <th>Omnibus:</th>       <td>131.664</td> <th>  Durbin-Watson:     </th> <td>   0.492</td>\n",
       "</tr>\n",
       "<tr>\n",
       "  <th>Prob(Omnibus):</th> <td> 0.000</td>  <th>  Jarque-Bera (JB):  </th> <td>  10.425</td>\n",
       "</tr>\n",
       "<tr>\n",
       "  <th>Skew:</th>          <td>-0.117</td>  <th>  Prob(JB):          </th> <td> 0.00545</td>\n",
       "</tr>\n",
       "<tr>\n",
       "  <th>Kurtosis:</th>      <td> 1.633</td>  <th>  Cond. No.          </th> <td>    7.57</td>\n",
       "</tr>\n",
       "</table><br/><br/>Warnings:<br/>[1] Standard Errors assume that the covariance matrix of the errors is correctly specified."
      ],
      "text/plain": [
       "<class 'statsmodels.iolib.summary.Summary'>\n",
       "\"\"\"\n",
       "                            OLS Regression Results                            \n",
       "==============================================================================\n",
       "Dep. Variable:                  value   R-squared:                       0.014\n",
       "Model:                            OLS   Adj. R-squared:                  0.007\n",
       "Method:                 Least Squares   F-statistic:                     1.849\n",
       "Date:                Wed, 11 Mar 2020   Prob (F-statistic):              0.176\n",
       "Time:                        15:52:37   Log-Likelihood:                -12.808\n",
       "No. Observations:                 130   AIC:                             29.62\n",
       "Df Residuals:                     128   BIC:                             35.35\n",
       "Df Model:                           1                                         \n",
       "Covariance Type:            nonrobust                                         \n",
       "==============================================================================\n",
       "                 coef    std err          t      P>|t|      [0.025      0.975]\n",
       "------------------------------------------------------------------------------\n",
       "const          0.3343      0.086      3.895      0.000       0.164       0.504\n",
       "L5             0.1641      0.121      1.360      0.176      -0.075       0.403\n",
       "==============================================================================\n",
       "Omnibus:                      131.664   Durbin-Watson:                   0.492\n",
       "Prob(Omnibus):                  0.000   Jarque-Bera (JB):               10.425\n",
       "Skew:                          -0.117   Prob(JB):                      0.00545\n",
       "Kurtosis:                       1.633   Cond. No.                         7.57\n",
       "==============================================================================\n",
       "\n",
       "Warnings:\n",
       "[1] Standard Errors assume that the covariance matrix of the errors is correctly specified.\n",
       "\"\"\""
      ]
     },
     "execution_count": 12,
     "metadata": {},
     "output_type": "execute_result"
    }
   ],
   "source": [
    "X = meltdat[\"L5\"]\n",
    "y = meltdat[\"value\"]\n",
    "X = sm.add_constant(X) ## let's add an intercept (beta_0) to our model\n",
    "\n",
    "# Note the difference in argument order\n",
    "model = sm.OLS(y, X).fit()\n",
    "predictions = model.predict(X) # make the predictions by the model\n",
    "\n",
    "# Print out the statistics\n",
    "model.summary()"
   ]
  },
  {
   "cell_type": "code",
   "execution_count": 13,
   "metadata": {},
   "outputs": [],
   "source": [
    "pltdat = dat[['source', 'L2/3', 'projection dmn fraction',\n",
    "              'CAV_percent_DMN']].melt(id_vars = ['source', 'CAV_percent_DMN'],\n",
    "                                       value_vars = 'L2/3')\n",
    "in_strs = ['ACAd', 'ACAv', 'PL', 'ILA', 'ORBl', 'ORBm', 'ORBvl', 'VISa', 'VISam', 'RSPagl',\n",
    "    'RSPd', 'RSPv', 'SSp-tr', 'SSp-ll', 'MOs']\n",
    "pltdat.loc[pltdat['source'].isin(in_strs), 'in-out'] = 'in'\n",
    "pltdat.loc[~pltdat['source'].isin(in_strs), 'in-out'] = 'out'\n",
    "pltdat.loc[pltdat['CAV_percent_DMN']>50, 'Target Type'] = 'in DMN'\n",
    "pltdat.loc[pltdat['CAV_percent_DMN']<50, 'Target Type'] = 'out DMN'"
   ]
  },
  {
   "cell_type": "code",
   "execution_count": 14,
   "metadata": {},
   "outputs": [
    {
     "data": {
      "image/png": "[encoded data removed]",
      "text/plain": [
       "<Figure size 108x108 with 1 Axes>"
      ]
     },
     "metadata": {
      "needs_background": "light"
     },
     "output_type": "display_data"
    }
   ],
   "source": [
    "fig, ax = plt.subplots(figsize = (1.5, 1.5))\n",
    "sns.boxplot('in-out', 'value', data = pltdat, \n",
    "            hue = 'Target Type', palette = ['mediumpurple', 'white'],\n",
    "            hue_order = ['in DMN', 'out DMN'],\n",
    "            fliersize = 0.1, linewidth = 0.5)\n",
    "sns.despine()\n",
    "ax.set_ylim([-0.05,1.05])\n",
    "ax.set_yticks([0, 0.5, 1])\n",
    "ax.set_ylabel('Inj. L2/3 Fraction')\n",
    "ax.set_xlabel('Source Type')\n",
    "ax.legend_.remove()\n",
    "plt.savefig(os.path.join(savepath, 'TD_experiments_L23_frac_by_in-out.pdf'), \n",
    "            bbox_inches='tight', pad_inches=0.3, format='pdf', transparent = True, dpi=300)"
   ]
  },
  {
   "cell_type": "code",
   "execution_count": 15,
   "metadata": {},
   "outputs": [
    {
     "data": {
      "image/png": "[encoded data removed]",
      "text/plain": [
       "<Figure size 108x108 with 1 Axes>"
      ]
     },
     "metadata": {
      "needs_background": "light"
     },
     "output_type": "display_data"
    }
   ],
   "source": [
    "fig, ax = plt.subplots(figsize = (1.5, 1.5))\n",
    "sns.boxplot('in-out', 'value', data = pltdat, \n",
    "            hue = 'Target Type', palette = ['mediumpurple', 'white'],\n",
    "            hue_order = ['in DMN', 'out DMN'],\n",
    "            fliersize = 0.1, linewidth = 0.5)\n",
    "sns.despine()\n",
    "ax.set_ylim([-0.05,1.05])\n",
    "ax.set_yticks([0, 0.5, 1])\n",
    "ax.set_ylabel('Fraction of Injection in L2/3')\n",
    "ax.set_xlabel('Source Type')\n",
    "plt.legend(loc = 1, labelspacing = 0.2, fontsize = 8, title='Target Type',\n",
    "          bbox_to_anchor = [1.9,1])\n",
    "plt.savefig(os.path.join(savepath, 'TD_experiments_layer_frac_by_in-out_legend.pdf'), \n",
    "            bbox_inches='tight', pad_inches=0.3, format='pdf', transparent = True, dpi=300)"
   ]
  },
  {
   "cell_type": "code",
   "execution_count": 16,
   "metadata": {},
   "outputs": [],
   "source": [
    "pltdat = dat[['source', 'L5', 'projection dmn fraction',\n",
    "              'CAV_percent_DMN']].melt(id_vars = ['source', 'CAV_percent_DMN'],\n",
    "                                       value_vars = 'L5')\n",
    "in_strs = ['ACAd', 'ACAv', 'PL', 'ILA', 'ORBl', 'ORBm', 'ORBvl', 'VISa', 'VISam', 'RSPagl',\n",
    "    'RSPd', 'RSPv', 'SSp-tr', 'SSp-ll', 'MOs']\n",
    "pltdat.loc[pltdat['source'].isin(in_strs), 'in-out'] = 'in'\n",
    "pltdat.loc[~pltdat['source'].isin(in_strs), 'in-out'] = 'out'\n",
    "pltdat.loc[pltdat['CAV_percent_DMN']>50, 'Target Type'] = 'in DMN'\n",
    "pltdat.loc[pltdat['CAV_percent_DMN']<50, 'Target Type'] = 'out DMN'"
   ]
  },
  {
   "cell_type": "code",
   "execution_count": 17,
   "metadata": {},
   "outputs": [
    {
     "data": {
      "image/png": "[encoded data removed]",
      "text/plain": [
       "<Figure size 108x108 with 1 Axes>"
      ]
     },
     "metadata": {
      "needs_background": "light"
     },
     "output_type": "display_data"
    }
   ],
   "source": [
    "fig, ax = plt.subplots(figsize = (1.5, 1.5))\n",
    "sns.boxplot('in-out', 'value', data = pltdat, \n",
    "            hue = 'Target Type', palette = ['mediumpurple', 'white'],\n",
    "            hue_order = ['in DMN', 'out DMN'],\n",
    "            fliersize = 0.1, linewidth = 0.5)\n",
    "sns.despine()\n",
    "ax.set_ylim([-0.05,1.05])\n",
    "ax.set_yticks([0, 0.5, 1])\n",
    "ax.set_ylabel('Inj. L5 Fraction')\n",
    "ax.set_xlabel('Source Type')\n",
    "ax.legend_.remove()\n",
    "plt.savefig(os.path.join(savepath, 'TD_experiments_L5_frac_by_in-out.pdf'), \n",
    "            bbox_inches='tight', pad_inches=0.3, format='pdf', transparent = True, dpi=300)"
   ]
  },
  {
   "cell_type": "code",
   "execution_count": 18,
   "metadata": {},
   "outputs": [],
   "source": [
    "dat.loc[dat['source'].isin(in_strs), 'in_out'] = 'in'\n",
    "dat.loc[~dat['source'].isin(in_strs), 'in_out'] = 'out'\n",
    "dat.loc[dat['CAV_percent_DMN']>50, 'target_type'] = 'in DMN'\n",
    "dat.loc[dat['CAV_percent_DMN']<50, 'target_type'] = 'out DMN'"
   ]
  },
  {
   "cell_type": "code",
   "execution_count": 19,
   "metadata": {},
   "outputs": [
    {
     "data": {
      "text/html": [
       "<div>\n",
       "<style scoped>\n",
       "    .dataframe tbody tr th:only-of-type {\n",
       "        vertical-align: middle;\n",
       "    }\n",
       "\n",
       "    .dataframe tbody tr th {\n",
       "        vertical-align: top;\n",
       "    }\n",
       "\n",
       "    .dataframe thead th {\n",
       "        text-align: right;\n",
       "    }\n",
       "</style>\n",
       "<table border=\"1\" class=\"dataframe\">\n",
       "  <thead>\n",
       "    <tr style=\"text-align: right;\">\n",
       "      <th></th>\n",
       "      <th>image_series_id</th>\n",
       "      <th>specimen_name</th>\n",
       "      <th>gender</th>\n",
       "      <th>injection_structures</th>\n",
       "      <th>injection_volume</th>\n",
       "      <th>injection_x</th>\n",
       "      <th>injection_y</th>\n",
       "      <th>injection_z</th>\n",
       "      <th>primary_injection_structure</th>\n",
       "      <th>source</th>\n",
       "      <th>...</th>\n",
       "      <th>Rbp4_Syp</th>\n",
       "      <th>match comments</th>\n",
       "      <th>L1</th>\n",
       "      <th>L2/3</th>\n",
       "      <th>L4</th>\n",
       "      <th>L5</th>\n",
       "      <th>L6</th>\n",
       "      <th>L23_5_ratio</th>\n",
       "      <th>in_out</th>\n",
       "      <th>target_type</th>\n",
       "    </tr>\n",
       "  </thead>\n",
       "  <tbody>\n",
       "    <tr>\n",
       "      <th>0</th>\n",
       "      <td>475829896</td>\n",
       "      <td>Ai75(RCL-nT)-176762</td>\n",
       "      <td>M</td>\n",
       "      <td>[39, 48, 993]</td>\n",
       "      <td>0.055739</td>\n",
       "      <td>4920.0</td>\n",
       "      <td>1410.0</td>\n",
       "      <td>5420.0</td>\n",
       "      <td>39.0</td>\n",
       "      <td>ACAd</td>\n",
       "      <td>...</td>\n",
       "      <td>1.0</td>\n",
       "      <td>NaN</td>\n",
       "      <td>0.029921</td>\n",
       "      <td>0.305025</td>\n",
       "      <td>0.0</td>\n",
       "      <td>0.662901</td>\n",
       "      <td>0.002153</td>\n",
       "      <td>0.460137</td>\n",
       "      <td>in</td>\n",
       "      <td>in DMN</td>\n",
       "    </tr>\n",
       "    <tr>\n",
       "      <th>1</th>\n",
       "      <td>649362978</td>\n",
       "      <td>Ai75(RCL-nT)-342002</td>\n",
       "      <td>M</td>\n",
       "      <td>[39, 48, 993]</td>\n",
       "      <td>0.020209</td>\n",
       "      <td>3990.0</td>\n",
       "      <td>1860.0</td>\n",
       "      <td>5340.0</td>\n",
       "      <td>39.0</td>\n",
       "      <td>ACAd</td>\n",
       "      <td>...</td>\n",
       "      <td>0.0</td>\n",
       "      <td>NaN</td>\n",
       "      <td>0.000000</td>\n",
       "      <td>0.030346</td>\n",
       "      <td>0.0</td>\n",
       "      <td>0.969654</td>\n",
       "      <td>0.000000</td>\n",
       "      <td>0.031296</td>\n",
       "      <td>in</td>\n",
       "      <td>in DMN</td>\n",
       "    </tr>\n",
       "    <tr>\n",
       "      <th>2</th>\n",
       "      <td>567301515</td>\n",
       "      <td>Ai75(T503)-284534</td>\n",
       "      <td>M</td>\n",
       "      <td>[39, 48, 993]</td>\n",
       "      <td>0.009040</td>\n",
       "      <td>5260.0</td>\n",
       "      <td>1280.0</td>\n",
       "      <td>5210.0</td>\n",
       "      <td>39.0</td>\n",
       "      <td>ACAd</td>\n",
       "      <td>...</td>\n",
       "      <td>0.0</td>\n",
       "      <td>NaN</td>\n",
       "      <td>0.000000</td>\n",
       "      <td>0.007064</td>\n",
       "      <td>0.0</td>\n",
       "      <td>0.983504</td>\n",
       "      <td>0.009431</td>\n",
       "      <td>0.007183</td>\n",
       "      <td>in</td>\n",
       "      <td>out DMN</td>\n",
       "    </tr>\n",
       "    <tr>\n",
       "      <th>3</th>\n",
       "      <td>607059419</td>\n",
       "      <td>Ai75(T601)-333321</td>\n",
       "      <td>F</td>\n",
       "      <td>[39, 48, 993]</td>\n",
       "      <td>0.068628</td>\n",
       "      <td>5400.0</td>\n",
       "      <td>1410.0</td>\n",
       "      <td>5430.0</td>\n",
       "      <td>39.0</td>\n",
       "      <td>ACAd</td>\n",
       "      <td>...</td>\n",
       "      <td>1.0</td>\n",
       "      <td>NaN</td>\n",
       "      <td>0.000000</td>\n",
       "      <td>0.035084</td>\n",
       "      <td>0.0</td>\n",
       "      <td>0.949610</td>\n",
       "      <td>0.015307</td>\n",
       "      <td>0.036945</td>\n",
       "      <td>in</td>\n",
       "      <td>in DMN</td>\n",
       "    </tr>\n",
       "    <tr>\n",
       "      <th>4</th>\n",
       "      <td>607321130</td>\n",
       "      <td>Ai75(T601)-331322</td>\n",
       "      <td>M</td>\n",
       "      <td>[39, 48]</td>\n",
       "      <td>0.007219</td>\n",
       "      <td>5020.0</td>\n",
       "      <td>1920.0</td>\n",
       "      <td>5370.0</td>\n",
       "      <td>39.0</td>\n",
       "      <td>ACAd</td>\n",
       "      <td>...</td>\n",
       "      <td>1.0</td>\n",
       "      <td>NaN</td>\n",
       "      <td>0.014995</td>\n",
       "      <td>0.299050</td>\n",
       "      <td>0.0</td>\n",
       "      <td>0.685955</td>\n",
       "      <td>0.000000</td>\n",
       "      <td>0.435962</td>\n",
       "      <td>in</td>\n",
       "      <td>in DMN</td>\n",
       "    </tr>\n",
       "  </tbody>\n",
       "</table>\n",
       "<p>5 rows × 35 columns</p>\n",
       "</div>"
      ],
      "text/plain": [
       "   image_series_id        specimen_name gender injection_structures  \\\n",
       "0        475829896  Ai75(RCL-nT)-176762      M        [39, 48, 993]   \n",
       "1        649362978  Ai75(RCL-nT)-342002      M        [39, 48, 993]   \n",
       "2        567301515    Ai75(T503)-284534      M        [39, 48, 993]   \n",
       "3        607059419    Ai75(T601)-333321      F        [39, 48, 993]   \n",
       "4        607321130    Ai75(T601)-331322      M             [39, 48]   \n",
       "\n",
       "   injection_volume  injection_x  injection_y  injection_z  \\\n",
       "0          0.055739       4920.0       1410.0       5420.0   \n",
       "1          0.020209       3990.0       1860.0       5340.0   \n",
       "2          0.009040       5260.0       1280.0       5210.0   \n",
       "3          0.068628       5400.0       1410.0       5430.0   \n",
       "4          0.007219       5020.0       1920.0       5370.0   \n",
       "\n",
       "   primary_injection_structure source  ...  Rbp4_Syp match comments        L1  \\\n",
       "0                         39.0   ACAd  ...       1.0            NaN  0.029921   \n",
       "1                         39.0   ACAd  ...       0.0            NaN  0.000000   \n",
       "2                         39.0   ACAd  ...       0.0            NaN  0.000000   \n",
       "3                         39.0   ACAd  ...       1.0            NaN  0.000000   \n",
       "4                         39.0   ACAd  ...       1.0            NaN  0.014995   \n",
       "\n",
       "       L2/3   L4        L5        L6  L23_5_ratio  in_out  target_type  \n",
       "0  0.305025  0.0  0.662901  0.002153     0.460137      in       in DMN  \n",
       "1  0.030346  0.0  0.969654  0.000000     0.031296      in       in DMN  \n",
       "2  0.007064  0.0  0.983504  0.009431     0.007183      in      out DMN  \n",
       "3  0.035084  0.0  0.949610  0.015307     0.036945      in       in DMN  \n",
       "4  0.299050  0.0  0.685955  0.000000     0.435962      in       in DMN  \n",
       "\n",
       "[5 rows x 35 columns]"
      ]
     },
     "execution_count": 19,
     "metadata": {},
     "output_type": "execute_result"
    }
   ],
   "source": [
    "dat.head()"
   ]
  },
  {
   "cell_type": "code",
   "execution_count": 20,
   "metadata": {},
   "outputs": [
    {
     "data": {
      "text/html": [
       "<div>\n",
       "<style scoped>\n",
       "    .dataframe tbody tr th:only-of-type {\n",
       "        vertical-align: middle;\n",
       "    }\n",
       "\n",
       "    .dataframe tbody tr th {\n",
       "        vertical-align: top;\n",
       "    }\n",
       "\n",
       "    .dataframe thead th {\n",
       "        text-align: right;\n",
       "    }\n",
       "</style>\n",
       "<table border=\"1\" class=\"dataframe\">\n",
       "  <thead>\n",
       "    <tr style=\"text-align: right;\">\n",
       "      <th></th>\n",
       "      <th>sum_sq</th>\n",
       "      <th>df</th>\n",
       "      <th>F</th>\n",
       "      <th>PR(&gt;F)</th>\n",
       "    </tr>\n",
       "  </thead>\n",
       "  <tbody>\n",
       "    <tr>\n",
       "      <th>C(in_out)</th>\n",
       "      <td>0.3891</td>\n",
       "      <td>1.0</td>\n",
       "      <td>24.8289</td>\n",
       "      <td>0.0000</td>\n",
       "    </tr>\n",
       "    <tr>\n",
       "      <th>C(target_type)</th>\n",
       "      <td>0.0337</td>\n",
       "      <td>1.0</td>\n",
       "      <td>2.1523</td>\n",
       "      <td>0.1448</td>\n",
       "    </tr>\n",
       "    <tr>\n",
       "      <th>C(in_out):C(target_type)</th>\n",
       "      <td>0.0700</td>\n",
       "      <td>1.0</td>\n",
       "      <td>4.4690</td>\n",
       "      <td>0.0365</td>\n",
       "    </tr>\n",
       "    <tr>\n",
       "      <th>Residual</th>\n",
       "      <td>1.9744</td>\n",
       "      <td>126.0</td>\n",
       "      <td>NaN</td>\n",
       "      <td>NaN</td>\n",
       "    </tr>\n",
       "  </tbody>\n",
       "</table>\n",
       "</div>"
      ],
      "text/plain": [
       "                          sum_sq     df        F  PR(>F)\n",
       "C(in_out)                 0.3891    1.0  24.8289  0.0000\n",
       "C(target_type)            0.0337    1.0   2.1523  0.1448\n",
       "C(in_out):C(target_type)  0.0700    1.0   4.4690  0.0365\n",
       "Residual                  1.9744  126.0      NaN     NaN"
      ]
     },
     "execution_count": 20,
     "metadata": {},
     "output_type": "execute_result"
    }
   ],
   "source": [
    "dat.rename(columns = {'L2/3': 'L2_3'}, inplace = True)\n",
    "formula = 'L2_3~C(in_out)*C(target_type)'\n",
    "model = ols(formula, dat).fit()\n",
    "aov_table = sm.stats.anova_lm(model, typ=2) #http://www.utstat.utoronto.ca/reid/sta442f/2009/typeSS.pdf\n",
    "aov_table.round(4)"
   ]
  },
  {
   "cell_type": "code",
   "execution_count": 21,
   "metadata": {},
   "outputs": [
    {
     "name": "stdout",
     "output_type": "stream",
     "text": [
      "(0.9112744331359863, 3.21608524700423e-07)\n"
     ]
    },
    {
     "data": {
      "image/png": "[encoded data removed]",
      "text/plain": [
       "<Figure size 432x288 with 1 Axes>"
      ]
     },
     "metadata": {
      "needs_background": "light"
     },
     "output_type": "display_data"
    }
   ],
   "source": [
    "print(stats.shapiro(model.resid))\n",
    "res = model.resid \n",
    "fig = sm.qqplot(res, line='s')\n",
    "plt.show()"
   ]
  },
  {
   "cell_type": "code",
   "execution_count": 22,
   "metadata": {},
   "outputs": [
    {
     "name": "stdout",
     "output_type": "stream",
     "text": [
      "Multiple Comparison of Means - Tukey HSD,FWER=0.05\n",
      "==============================================\n",
      "group1  group2 meandiff  lower   upper  reject\n",
      "----------------------------------------------\n",
      "in DMN out DMN -0.0713  -0.1392 -0.0034  True \n",
      "----------------------------------------------\n"
     ]
    }
   ],
   "source": [
    "mc = MultiComparison(dat[dat['in_out'] == 'in']['L2_3'], \n",
    "                    dat[dat['in_out'] == 'in']['target_type'])\n",
    "mc_results = mc.tukeyhsd()\n",
    "print(mc_results)"
   ]
  },
  {
   "cell_type": "code",
   "execution_count": 23,
   "metadata": {},
   "outputs": [
    {
     "name": "stdout",
     "output_type": "stream",
     "text": [
      "Multiple Comparison of Means - Tukey HSD,FWER=0.05\n",
      "============================================\n",
      "group1  group2 meandiff  lower  upper reject\n",
      "--------------------------------------------\n",
      "in DMN out DMN  0.0268  -0.0144 0.068 False \n",
      "--------------------------------------------\n"
     ]
    }
   ],
   "source": [
    "mc = MultiComparison(dat[dat['in_out'] == 'out']['L2_3'], \n",
    "                    dat[dat['in_out'] == 'out']['target_type'])\n",
    "mc_results = mc.tukeyhsd()\n",
    "print(mc_results)"
   ]
  },
  {
   "cell_type": "code",
   "execution_count": 24,
   "metadata": {},
   "outputs": [
    {
     "data": {
      "text/html": [
       "<div>\n",
       "<style scoped>\n",
       "    .dataframe tbody tr th:only-of-type {\n",
       "        vertical-align: middle;\n",
       "    }\n",
       "\n",
       "    .dataframe tbody tr th {\n",
       "        vertical-align: top;\n",
       "    }\n",
       "\n",
       "    .dataframe thead th {\n",
       "        text-align: right;\n",
       "    }\n",
       "</style>\n",
       "<table border=\"1\" class=\"dataframe\">\n",
       "  <thead>\n",
       "    <tr style=\"text-align: right;\">\n",
       "      <th></th>\n",
       "      <th>sum_sq</th>\n",
       "      <th>df</th>\n",
       "      <th>F</th>\n",
       "      <th>PR(&gt;F)</th>\n",
       "    </tr>\n",
       "  </thead>\n",
       "  <tbody>\n",
       "    <tr>\n",
       "      <th>C(in_out)</th>\n",
       "      <td>0.1626</td>\n",
       "      <td>1.0</td>\n",
       "      <td>4.4883</td>\n",
       "      <td>0.0361</td>\n",
       "    </tr>\n",
       "    <tr>\n",
       "      <th>C(target_type)</th>\n",
       "      <td>0.0013</td>\n",
       "      <td>1.0</td>\n",
       "      <td>0.0367</td>\n",
       "      <td>0.8485</td>\n",
       "    </tr>\n",
       "    <tr>\n",
       "      <th>C(in_out):C(target_type)</th>\n",
       "      <td>0.2320</td>\n",
       "      <td>1.0</td>\n",
       "      <td>6.4033</td>\n",
       "      <td>0.0126</td>\n",
       "    </tr>\n",
       "    <tr>\n",
       "      <th>Residual</th>\n",
       "      <td>4.5650</td>\n",
       "      <td>126.0</td>\n",
       "      <td>NaN</td>\n",
       "      <td>NaN</td>\n",
       "    </tr>\n",
       "  </tbody>\n",
       "</table>\n",
       "</div>"
      ],
      "text/plain": [
       "                          sum_sq     df       F  PR(>F)\n",
       "C(in_out)                 0.1626    1.0  4.4883  0.0361\n",
       "C(target_type)            0.0013    1.0  0.0367  0.8485\n",
       "C(in_out):C(target_type)  0.2320    1.0  6.4033  0.0126\n",
       "Residual                  4.5650  126.0     NaN     NaN"
      ]
     },
     "execution_count": 24,
     "metadata": {},
     "output_type": "execute_result"
    }
   ],
   "source": [
    "formula = 'L5~C(in_out)*C(target_type)'\n",
    "model = ols(formula, dat).fit()\n",
    "aov_table = sm.stats.anova_lm(model, typ=2) #http://www.utstat.utoronto.ca/reid/sta442f/2009/typeSS.pdf\n",
    "aov_table.round(4)"
   ]
  },
  {
   "cell_type": "code",
   "execution_count": 25,
   "metadata": {},
   "outputs": [
    {
     "name": "stdout",
     "output_type": "stream",
     "text": [
      "(0.9520144462585449, 0.0001623173156986013)\n"
     ]
    },
    {
     "data": {
      "image/png": "[encoded data removed]",
      "text/plain": [
       "<Figure size 432x288 with 1 Axes>"
      ]
     },
     "metadata": {
      "needs_background": "light"
     },
     "output_type": "display_data"
    }
   ],
   "source": [
    "print(stats.shapiro(model.resid))\n",
    "res = model.resid \n",
    "fig = sm.qqplot(res, line='s')\n",
    "plt.show()"
   ]
  },
  {
   "cell_type": "code",
   "execution_count": 26,
   "metadata": {},
   "outputs": [
    {
     "name": "stdout",
     "output_type": "stream",
     "text": [
      "Multiple Comparison of Means - Tukey HSD,FWER=0.05\n",
      "=============================================\n",
      "group1  group2 meandiff  lower  upper  reject\n",
      "---------------------------------------------\n",
      "in DMN out DMN  0.0628  -0.0199 0.1455 False \n",
      "---------------------------------------------\n"
     ]
    }
   ],
   "source": [
    "mc = MultiComparison(dat[dat['in_out'] == 'in']['L5'], \n",
    "                    dat[dat['in_out'] == 'in']['target_type'])\n",
    "mc_results = mc.tukeyhsd()\n",
    "print(mc_results)"
   ]
  },
  {
   "cell_type": "code",
   "execution_count": 27,
   "metadata": {},
   "outputs": [
    {
     "name": "stdout",
     "output_type": "stream",
     "text": [
      "Multiple Comparison of Means - Tukey HSD,FWER=0.05\n",
      "=============================================\n",
      "group1  group2 meandiff  lower  upper  reject\n",
      "---------------------------------------------\n",
      "in DMN out DMN -0.1157  -0.2365 0.0052 False \n",
      "---------------------------------------------\n"
     ]
    }
   ],
   "source": [
    "mc = MultiComparison(dat[dat['in_out'] == 'out']['L5'], \n",
    "                    dat[dat['in_out'] == 'out']['target_type'])\n",
    "mc_results = mc.tukeyhsd()\n",
    "print(mc_results)"
   ]
  },
  {
   "cell_type": "code",
   "execution_count": 50,
   "metadata": {},
   "outputs": [],
   "source": [
    "pltdat = dat[['source', 'L23_5_ratio', 'projection dmn fraction',\n",
    "              'CAV_percent_DMN']].melt(id_vars = ['source', 'CAV_percent_DMN'],\n",
    "                                       value_vars = 'L23_5_ratio')\n",
    "in_strs = ['ACAd', 'ACAv', 'PL', 'ILA', 'ORBl', 'ORBm', 'ORBvl', 'VISa', 'VISam', 'RSPagl',\n",
    "    'RSPd', 'RSPv', 'SSp-tr', 'SSp-ll', 'MOs']\n",
    "pltdat.loc[pltdat['source'].isin(in_strs), 'in-out'] = 'in'\n",
    "pltdat.loc[~pltdat['source'].isin(in_strs), 'in-out'] = 'out'\n",
    "pltdat.loc[pltdat['CAV_percent_DMN']>50, 'Target Type'] = 'in DMN'\n",
    "pltdat.loc[pltdat['CAV_percent_DMN']<50, 'Target Type'] = 'out DMN'"
   ]
  },
  {
   "cell_type": "code",
   "execution_count": 51,
   "metadata": {},
   "outputs": [
    {
     "data": {
      "image/png": "[encoded data removed]",
      "text/plain": [
       "<Figure size 36x108 with 1 Axes>"
      ]
     },
     "metadata": {
      "needs_background": "light"
     },
     "output_type": "display_data"
    }
   ],
   "source": [
    "fig, ax = plt.subplots(figsize = (0.5, 1.5))\n",
    "sns.boxplot('in-out', 'value', data = pltdat, \n",
    "            hue = 'Target Type', palette = ['mediumpurple', 'white'],\n",
    "            hue_order = ['in DMN', 'out DMN'],\n",
    "            fliersize = 1, linewidth = 0.5)\n",
    "sns.despine()\n",
    "ax.tick_params(bottom = True, left = True)\n",
    "ax.set_ylim([-0.15,2.2])\n",
    "ax.set_yticks([0, 1, 2])\n",
    "ax.set_ylabel('Inj. L2/3 / L5 Ratio')\n",
    "ax.set_xlabel('Source Type')\n",
    "ax.legend_.remove()\n",
    "plt.savefig(os.path.join(savepath, 'TD_experiments_L235_ratio_by_in-out.pdf'), \n",
    "            bbox_inches='tight', pad_inches=0.3, format='pdf', transparent = True, dpi=300)"
   ]
  },
  {
   "cell_type": "code",
   "execution_count": 52,
   "metadata": {},
   "outputs": [
    {
     "name": "stdout",
     "output_type": "stream",
     "text": [
      "26\n",
      "13\n"
     ]
    }
   ],
   "source": [
    "print(len(pltdat['source'].unique()))\n",
    "for source in pltdat['source'].unique():\n",
    "    if len(pltdat[(pltdat['source'] == source) &\n",
    "                 (pltdat['CAV_percent_DMN'] > 50)]) == 0 or len(\n",
    "        pltdat[(pltdat['source'] == source) &\n",
    "                 (pltdat['CAV_percent_DMN'] < 50)]) == 0:\n",
    "        pltdat = pltdat[pltdat['source'] != source]\n",
    "print(len(pltdat['source'].unique()))"
   ]
  },
  {
   "cell_type": "code",
   "execution_count": 53,
   "metadata": {},
   "outputs": [],
   "source": [
    "plot_order = ['ACAd', 'PL', 'ILA', 'ORBl','ORBvl', \n",
    "              'VISam', 'RSPd', 'RSPv', 'RSPagl', \n",
    "              'MOs', 'TEa','VISl', 'VISp']"
   ]
  },
  {
   "cell_type": "code",
   "execution_count": 54,
   "metadata": {},
   "outputs": [
    {
     "name": "stdout",
     "output_type": "stream",
     "text": [
      "[]\n",
      "[]\n"
     ]
    }
   ],
   "source": [
    "print([source for source in pltdat['source'].unique() if source not in plot_order])\n",
    "print([source for source in plot_order if source not in pltdat['source'].unique()])"
   ]
  },
  {
   "cell_type": "code",
   "execution_count": 55,
   "metadata": {},
   "outputs": [
    {
     "data": {
      "text/plain": [
       "1.9390630276832348"
      ]
     },
     "execution_count": 55,
     "metadata": {},
     "output_type": "execute_result"
    }
   ],
   "source": [
    "pltdat['value'].max()"
   ]
  },
  {
   "cell_type": "code",
   "execution_count": 56,
   "metadata": {},
   "outputs": [
    {
     "data": {
      "image/png": "[encoded data removed]",
      "text/plain": [
       "<Figure size 252x108 with 1 Axes>"
      ]
     },
     "metadata": {
      "needs_background": "light"
     },
     "output_type": "display_data"
    }
   ],
   "source": [
    "fig, ax = plt.subplots(figsize = (3.5, 1.5))\n",
    "sns.boxplot('source', 'value', data = pltdat, order = plot_order, \n",
    "            hue = 'Target Type', palette = ['mediumpurple', 'white'],\n",
    "            hue_order = ['in DMN', 'out DMN'],\n",
    "            fliersize = 1, linewidth = 0.5)\n",
    "plt.xticks(rotation = 90);\n",
    "ax.tick_params(left = True)\n",
    "sns.despine()\n",
    "ax.legend_.remove()\n",
    "ax.tick_params('x', pad = -3)\n",
    "ax.set_ylim([-0.15, 2.2])\n",
    "ax.set_yticks([0, 1, 2]);\n",
    "ax.set_ylabel('Inj. L2/3 / L5 Ratio')\n",
    "plt.savefig(os.path.join(savepath, 'TD_experiments_L235_ratio_by_source.pdf'), \n",
    "            bbox_inches='tight', pad_inches=0.3, format='pdf', transparent = True, dpi=300)"
   ]
  },
  {
   "cell_type": "code",
   "execution_count": 57,
   "metadata": {},
   "outputs": [],
   "source": [
    "def assign_module(df):\n",
    "    df.loc[df['source'].isin(['ACAd', 'ACAv', 'ORBl','ORBm', 'ORBvl', \n",
    "                                                    'ILA', 'PL', 'FRP']), 'module'] = 'Prefrontal'\n",
    "    df.loc[df['source'].isin(['VISam', 'RSPagl', 'RSPv', 'VISpm',\n",
    "                                                    'VISa', 'RSPd']), 'module'] = 'Medial'\n",
    "    df.loc[df['source'].isin(['SSp-tr', 'SSp-ll', 'SSp-bfd', 'SSp-un',\n",
    "                                                    'SSp-ul', 'MOs', 'MOp', 'SSs', 'SSp-n',\n",
    "                                                    'SSp-m']), 'module'] = 'Somatomotor'\n",
    "    df.loc[df['source'].isin(['VISal', 'VISl', 'VISli', 'VISp', 'VISpl',\n",
    "                                                    'VISpor', 'VISrl']), 'module'] = 'Visual'\n",
    "    df.loc[df['source'].isin(['AUDpo', 'AUDd', 'AUDp', 'AUDv']), \n",
    "                    'module'] = 'Auditory'\n",
    "    df.loc[df['source'].isin(['TEa', 'PERI', 'ECT', 'GU', 'AId', 'AIv',\n",
    "                                                    'AIp', 'VISC']), 'module'] = 'Lateral'\n",
    "    print(len(df[df['module'].isnull()]))\n",
    "    return df"
   ]
  },
  {
   "cell_type": "code",
   "execution_count": 58,
   "metadata": {},
   "outputs": [
    {
     "data": {
      "text/html": [
       "<div>\n",
       "<style scoped>\n",
       "    .dataframe tbody tr th:only-of-type {\n",
       "        vertical-align: middle;\n",
       "    }\n",
       "\n",
       "    .dataframe tbody tr th {\n",
       "        vertical-align: top;\n",
       "    }\n",
       "\n",
       "    .dataframe thead th {\n",
       "        text-align: right;\n",
       "    }\n",
       "</style>\n",
       "<table border=\"1\" class=\"dataframe\">\n",
       "  <thead>\n",
       "    <tr style=\"text-align: right;\">\n",
       "      <th></th>\n",
       "      <th>source</th>\n",
       "      <th>CAV_percent_DMN</th>\n",
       "      <th>variable</th>\n",
       "      <th>value</th>\n",
       "      <th>in-out</th>\n",
       "      <th>Target Type</th>\n",
       "    </tr>\n",
       "  </thead>\n",
       "  <tbody>\n",
       "    <tr>\n",
       "      <th>0</th>\n",
       "      <td>ACAd</td>\n",
       "      <td>100.000000</td>\n",
       "      <td>L23_5_ratio</td>\n",
       "      <td>0.460137</td>\n",
       "      <td>in</td>\n",
       "      <td>in DMN</td>\n",
       "    </tr>\n",
       "    <tr>\n",
       "      <th>1</th>\n",
       "      <td>ACAd</td>\n",
       "      <td>85.811661</td>\n",
       "      <td>L23_5_ratio</td>\n",
       "      <td>0.031296</td>\n",
       "      <td>in</td>\n",
       "      <td>in DMN</td>\n",
       "    </tr>\n",
       "    <tr>\n",
       "      <th>2</th>\n",
       "      <td>ACAd</td>\n",
       "      <td>0.000000</td>\n",
       "      <td>L23_5_ratio</td>\n",
       "      <td>0.007183</td>\n",
       "      <td>in</td>\n",
       "      <td>out DMN</td>\n",
       "    </tr>\n",
       "    <tr>\n",
       "      <th>3</th>\n",
       "      <td>ACAd</td>\n",
       "      <td>100.000000</td>\n",
       "      <td>L23_5_ratio</td>\n",
       "      <td>0.036945</td>\n",
       "      <td>in</td>\n",
       "      <td>in DMN</td>\n",
       "    </tr>\n",
       "    <tr>\n",
       "      <th>4</th>\n",
       "      <td>ACAd</td>\n",
       "      <td>100.000000</td>\n",
       "      <td>L23_5_ratio</td>\n",
       "      <td>0.435962</td>\n",
       "      <td>in</td>\n",
       "      <td>in DMN</td>\n",
       "    </tr>\n",
       "  </tbody>\n",
       "</table>\n",
       "</div>"
      ],
      "text/plain": [
       "  source  CAV_percent_DMN     variable     value in-out Target Type\n",
       "0   ACAd       100.000000  L23_5_ratio  0.460137     in      in DMN\n",
       "1   ACAd        85.811661  L23_5_ratio  0.031296     in      in DMN\n",
       "2   ACAd         0.000000  L23_5_ratio  0.007183     in     out DMN\n",
       "3   ACAd       100.000000  L23_5_ratio  0.036945     in      in DMN\n",
       "4   ACAd       100.000000  L23_5_ratio  0.435962     in      in DMN"
      ]
     },
     "execution_count": 58,
     "metadata": {},
     "output_type": "execute_result"
    }
   ],
   "source": [
    "pltdat.head()"
   ]
  },
  {
   "cell_type": "code",
   "execution_count": 61,
   "metadata": {},
   "outputs": [
    {
     "name": "stdout",
     "output_type": "stream",
     "text": [
      "0\n"
     ]
    },
    {
     "data": {
      "image/png": "[encoded data removed]",
      "text/plain": [
       "<Figure size 57.6x108 with 1 Axes>"
      ]
     },
     "metadata": {
      "needs_background": "light"
     },
     "output_type": "display_data"
    }
   ],
   "source": [
    "pltdat = assign_module(pltdat)\n",
    "mod_order = ['Prefrontal', 'Medial', 'Visual']\n",
    "fig, ax = plt.subplots(1, figsize = (0.8, 1.5))\n",
    "sns.boxplot('module', 'value', data = pltdat, \n",
    "            order = mod_order, ax = ax, \n",
    "            hue = 'Target Type', hue_order = ['in DMN', 'out DMN'],\n",
    "            palette = ['mediumpurple', 'w'],\n",
    "            fliersize = 1, linewidth = 0.5)\n",
    "ax.tick_params(top = False, right = False)\n",
    "ax.set_ylim([-0.15, 2.2])\n",
    "plt.yticks([0, 1, 2])\n",
    "plt.xticks(rotation = 90)\n",
    "ax.set_xlabel(\"Source Module\")\n",
    "ax.set_ylabel(\"Inj. L2/3 / L5 Ratio\")\n",
    "ax.yaxis.labelpad = 1\n",
    "ax.xaxis.labelpad = 3\n",
    "ax.tick_params(top = False, right = False, left = True, bottom = False, pad = 1)\n",
    "ax.tick_params(axis = 'x', pad=-2)\n",
    "ax.legend_.remove()\n",
    "sns.despine()\n",
    "ax.axhline(y=1, xmin=0, xmax=1, color = 'grey', linestyle = 'dashed', \n",
    "           linewidth = 0.5, zorder = -1)\n",
    "plt.savefig(os.path.join(savepath, 'TD_L235_ratio_by_module.pdf'), \n",
    "            bbox_inches='tight', pad_inches=0.3, format='pdf', transparent=True, dpi=300)"
   ]
  },
  {
   "cell_type": "code",
   "execution_count": 40,
   "metadata": {},
   "outputs": [
    {
     "name": "stdout",
     "output_type": "stream",
     "text": [
      "7\n"
     ]
    }
   ],
   "source": [
    "dat.loc[dat['target_by_polygon'].isin(['ACAd', 'ACAv', 'ORBl','ORBm', 'ORBvl', \n",
    "                                        'ILA', 'PL', 'FRP']), 'target_module'] = 'Prefrontal'\n",
    "dat.loc[dat['target_by_polygon'].isin(['VISam', 'RSPagl', 'RSPv', 'VISpm',\n",
    "                                        'VISa', 'RSPd']), 'target_module'] = 'Medial'\n",
    "dat.loc[dat['target_by_polygon'].isin(['SSp-tr', 'SSp-ll', 'SSp-bfd', 'SSp-un',\n",
    "                                        'SSp-ul', 'MOs', 'MOp', 'SSs', 'SSp-n',\n",
    "                                        'SSp-m']), 'target_module'] = 'Somatomotor'\n",
    "dat.loc[dat['target_by_polygon'].isin(['VISal', 'VISl', 'VISli', 'VISp', 'VISpl',\n",
    "                                        'VISpor', 'VISrl']), 'target_module'] = 'Visual'\n",
    "dat.loc[dat['target_by_polygon'].isin(['AUDpo', 'AUDd', 'AUDp', 'AUDv']), \n",
    "                    'target_module'] = 'Auditory'\n",
    "dat.loc[dat['target_by_polygon'].isin(['TEa', 'PERI', 'ECT', 'GU', 'AId', 'AIv',\n",
    "                                        'AIp', 'VISC']), 'target_module'] = 'Lateral'\n",
    "print(len(dat[dat['target_module'].isnull()]))\n"
   ]
  },
  {
   "cell_type": "code",
   "execution_count": 41,
   "metadata": {},
   "outputs": [
    {
     "data": {
      "text/plain": [
       "2     POST\n",
       "20    ENTl\n",
       "21    ENTm\n",
       "42    ENTl\n",
       "66    ENTm\n",
       "67    ENTm\n",
       "68    POST\n",
       "Name: target_by_polygon, dtype: object"
      ]
     },
     "execution_count": 41,
     "metadata": {},
     "output_type": "execute_result"
    }
   ],
   "source": [
    "dat[dat['target_module'].isnull()]['target_by_polygon']"
   ]
  },
  {
   "cell_type": "code",
   "execution_count": 42,
   "metadata": {},
   "outputs": [
    {
     "data": {
      "text/plain": [
       "array(['Somatomotor', 'Prefrontal', nan, 'Medial', 'Visual', 'Lateral',\n",
       "       'Auditory'], dtype=object)"
      ]
     },
     "execution_count": 42,
     "metadata": {},
     "output_type": "execute_result"
    }
   ],
   "source": [
    "dat['target_module'].unique()"
   ]
  },
  {
   "cell_type": "code",
   "execution_count": 43,
   "metadata": {},
   "outputs": [
    {
     "data": {
      "image/png": "[encoded data removed]",
      "text/plain": [
       "<Figure size 72x108 with 1 Axes>"
      ]
     },
     "metadata": {
      "needs_background": "light"
     },
     "output_type": "display_data"
    }
   ],
   "source": [
    "mod_order = ['Prefrontal', 'Medial', 'Somatomotor', 'Lateral', 'Visual']\n",
    "fig, ax = plt.subplots(1, figsize = (1, 1.5))\n",
    "sns.boxplot('target_module', 'L23_5_ratio', data = dat, \n",
    "            order = mod_order, ax = ax, \n",
    "            hue = 'target_type', hue_order = ['in DMN', 'out DMN'],\n",
    "            palette = ['mediumpurple', 'w'],\n",
    "            fliersize = 0.1, linewidth = 0.5)\n",
    "ax.tick_params(top = False, right = False)\n",
    "ax.set_ylim([-0.05, 1.05])\n",
    "plt.yticks([0, 0.5, 1], fontsize = 8)\n",
    "plt.xticks(rotation = 90, fontsize = 8)\n",
    "ax.set_xlabel(\"Target Module\", fontsize = 8)\n",
    "ax.set_ylabel(\"Inj. L2/3 / L5 Ratio\", fontsize = 8)\n",
    "ax.yaxis.labelpad = 1\n",
    "ax.xaxis.labelpad = 3\n",
    "ax.tick_params(top = False, right = False, left = True, bottom = False, pad = 1)\n",
    "ax.tick_params(axis = 'x', pad=-2)\n",
    "ax.legend_.remove()\n",
    "sns.despine()\n",
    "ax.axhline(y=1, xmin=0, xmax=1, color = 'grey', linestyle = 'dashed', \n",
    "           linewidth = 0.5, zorder = -1)\n",
    "plt.savefig(os.path.join(savepath, 'TD_L235_ratio_by_target_module.pdf'), \n",
    "            bbox_inches='tight', pad_inches=0.3, format='pdf', transparent=True, dpi=300)"
   ]
  },
  {
   "cell_type": "code",
   "execution_count": null,
   "metadata": {},
   "outputs": [],
   "source": []
  },
  {
   "cell_type": "code",
   "execution_count": null,
   "metadata": {},
   "outputs": [],
   "source": []
  }
 ],
 "metadata": {
  "kernelspec": {
   "display_name": "Python 3",
   "language": "python",
   "name": "python3"
  },
  "language_info": {
   "codemirror_mode": {
    "name": "ipython",
    "version": 3
   },
   "file_extension": ".py",
   "mimetype": "text/x-python",
   "name": "python",
   "nbconvert_exporter": "python",
   "pygments_lexer": "ipython3",
   "version": "3.7.6"
  }
 },
 "nbformat": 4,
 "nbformat_minor": 2
}
