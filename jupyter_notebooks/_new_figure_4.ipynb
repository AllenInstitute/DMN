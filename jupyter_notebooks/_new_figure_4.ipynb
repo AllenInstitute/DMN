{
 "cells": [
  {
   "cell_type": "code",
   "execution_count": 1,
   "metadata": {},
   "outputs": [
    {
     "name": "stderr",
     "output_type": "stream",
     "text": [
      "/Users/jenniferwh/Dropbox (Allen Institute)/Mesoscale Connectome Papers in Progress/2019 DMN/_new_figures/jupyter_notebooks/env/lib/python3.7/site-packages/statsmodels/compat/pandas.py:23: FutureWarning: The Panel class is removed from pandas. Accessing it from the top-level namespace will also be removed in the next version\n",
      "  data_klasses = (pandas.Series, pandas.DataFrame, pandas.Panel)\n"
     ]
    }
   ],
   "source": [
    "import pandas as pd\n",
    "import matplotlib.pyplot as plt\n",
    "import numpy as np\n",
    "import os\n",
    "import nrrd\n",
    "import json\n",
    "from allensdk.core.mouse_connectivity_cache import MouseConnectivityCache\n",
    "from allensdk.api.queries.ontologies_api import OntologiesApi\n",
    "import requests\n",
    "from anatomy.anatomy_api import AnatomyApi\n",
    "import scipy.stats as stats\n",
    "import statsmodels.api as sm\n",
    "from statsmodels.stats.anova import anova_lm\n",
    "from scipy.optimize import curve_fit\n",
    "from statsmodels.sandbox.regression.predstd import wls_prediction_std\n",
    "from statsmodels.graphics import utils\n",
    "from statsmodels.formula.api import ols\n",
    "from statsmodels.stats.multicomp import MultiComparison\n",
    "import scipy\n",
    "\n",
    "import seaborn as sns\n",
    "sns.set_context('paper')\n",
    "sns.set_style('white')\n",
    "\n",
    "%matplotlib inline\n",
    "import matplotlib as mpl\n",
    "mpl.rcParams['pdf.fonttype'] = 42"
   ]
  },
  {
   "cell_type": "code",
   "execution_count": 2,
   "metadata": {},
   "outputs": [],
   "source": [
    "aapi = AnatomyApi()\n",
    "ss = aapi.get_summary_structure_data('id')\n",
    "mcc = MouseConnectivityCache(manifest_file = '../connectivity/mouse_connectivity_manifest.json')\n",
    "structure_tree = mcc.get_structure_tree()\n",
    "isocortex = structure_tree.get_structures_by_acronym(['Isocortex'])[0]\n",
    "cla = structure_tree.get_structures_by_acronym(['CLA'])[0]['id']\n",
    "HPF = structure_tree.get_structures_by_acronym(['HPF'])[0]\n",
    "iso = structure_tree.descendant_ids([isocortex['id']])[0]\n",
    "iso = [structure for structure in iso if structure in ss]\n",
    "hipp = structure_tree.descendant_ids([HPF['id']])[0]\n",
    "hipp = [structure for structure in hipp if structure in ss]\n",
    "ia_map = structure_tree.get_id_acronym_map()\n",
    "ai_map = {value:key for key, value in ia_map.items()}\n",
    "ctx_strs = [ai_map[structure] for structure in iso]\n",
    "hipp_strs = [ai_map[structure] for structure in hipp]\n",
    "valid_strs = ctx_strs#+hipp_strs #No Cla"
   ]
  },
  {
   "cell_type": "code",
   "execution_count": 3,
   "metadata": {},
   "outputs": [
    {
     "name": "stdout",
     "output_type": "stream",
     "text": [
      "183\n",
      "121\n"
     ]
    },
    {
     "name": "stderr",
     "output_type": "stream",
     "text": [
      "/Users/jenniferwh/Dropbox (Allen Institute)/Mesoscale Connectome Papers in Progress/2019 DMN/_new_figures/jupyter_notebooks/env/lib/python3.7/site-packages/pandas/core/frame.py:4238: SettingWithCopyWarning: \n",
      "A value is trying to be set on a copy of a slice from a DataFrame\n",
      "\n",
      "See the caveats in the documentation: http://pandas.pydata.org/pandas-docs/stable/user_guide/indexing.html#returning-a-view-versus-a-copy\n",
      "  return super().rename(**kwargs)\n"
     ]
    }
   ],
   "source": [
    "import platform\n",
    "if platform.system() == 'Darwin':\n",
    "    basepath = r'/Users/jenniferwh/Dropbox (Allen Institute)/Mesoscale Connectome Papers in Progress/2019 DMN'\n",
    "if platform.system() == 'Windows':\n",
    "    basepath = r'C:\\Users\\jenniferwh\\Dropbox (Allen Institute)\\Mesoscale Connectome Papers in Progress\\2019 DMN'\n",
    "\n",
    "datpath = os.path.join(basepath, 'data_files')\n",
    "savepath = os.path.join(basepath, '_new_figures', 'Figure_4')\n",
    "full_td_dataset = pd.read_csv(os.path.join(basepath, 'target_defined_dataset.csv'))\n",
    "td_exps = full_td_dataset[full_td_dataset['include'] == 'yes']\n",
    "td_exps.rename(columns = {'image_series_id': 'id'}, inplace = True)\n",
    "print(len(full_td_dataset))\n",
    "print(len(td_exps))"
   ]
  },
  {
   "cell_type": "code",
   "execution_count": 4,
   "metadata": {},
   "outputs": [],
   "source": [
    "iso = structure_tree.get_structures_by_acronym(['Isocortex'])[0] # get a 100 um isocortex mask\n",
    "ctx_exps = pd.DataFrame(mcc.get_experiments(cre=False, \n",
    "                                       injection_structure_ids=[iso['id']]))\n",
    "cre_experiments = pd.DataFrame(mcc.get_experiments(cre=['Emx1-IRES-Cre','Rbp4-Cre_KL100'],\n",
    "                                      injection_structure_ids = [iso['id']]))\n",
    "ctx_exps = pd.concat([ctx_exps, cre_experiments])"
   ]
  },
  {
   "cell_type": "code",
   "execution_count": 5,
   "metadata": {},
   "outputs": [
    {
     "name": "stdout",
     "output_type": "stream",
     "text": [
      "627\n",
      "586\n",
      "241\n"
     ]
    }
   ],
   "source": [
    "c_by_source = pd.read_csv(os.path.join(datpath, 'good_wt_correlations.csv'))\n",
    "print(len(c_by_source))\n",
    "alldat = pd.read_csv(os.path.join(datpath, 'good_td_wt_correlations.csv'))\n",
    "print(len(alldat))\n",
    "td_dat = pd.read_csv(os.path.join(datpath, 'good_td_td_correlations.csv'))\n",
    "print(len(td_dat))"
   ]
  },
  {
   "cell_type": "code",
   "execution_count": 6,
   "metadata": {},
   "outputs": [],
   "source": [
    "all_isids = np.unique(np.concatenate((c_by_source['match_A'].unique(), c_by_source['match_B'].unique())))"
   ]
  },
  {
   "cell_type": "code",
   "execution_count": 7,
   "metadata": {},
   "outputs": [
    {
     "name": "stdout",
     "output_type": "stream",
     "text": [
      "108\n",
      "20\n"
     ]
    }
   ],
   "source": [
    "print(len([isid for isid in alldat['match_id'].unique() if isid in all_isids]))\n",
    "print(len([isid for isid in alldat['match_id'].unique() if isid not in all_isids]))"
   ]
  },
  {
   "cell_type": "code",
   "execution_count": 8,
   "metadata": {},
   "outputs": [
    {
     "name": "stdout",
     "output_type": "stream",
     "text": [
      "128\n"
     ]
    }
   ],
   "source": [
    "print(len(alldat['match_id'].unique()))"
   ]
  },
  {
   "cell_type": "code",
   "execution_count": 9,
   "metadata": {},
   "outputs": [],
   "source": [
    "with open(os.path.join(savepath, 'curated_matches.json'), 'r') as jsonfile:\n",
    "    groups = json.load(jsonfile)\n",
    "groups = pd.DataFrame(groups)"
   ]
  },
  {
   "cell_type": "code",
   "execution_count": 10,
   "metadata": {},
   "outputs": [
    {
     "name": "stdout",
     "output_type": "stream",
     "text": [
      "63\n",
      "34\n"
     ]
    }
   ],
   "source": [
    "all_td_exps = list(groups['td_sets'].values)\n",
    "all_td_exps = set([item for sublist in all_td_exps for item in sublist])\n",
    "print(len(all_td_exps))\n",
    "all_wt_exps = list(groups['wt_sets'].values)\n",
    "all_wt_exps = set([item for sublist in all_wt_exps for item in sublist])\n",
    "print(len(all_wt_exps))"
   ]
  },
  {
   "cell_type": "code",
   "execution_count": 11,
   "metadata": {},
   "outputs": [],
   "source": [
    "ctx_glm_dat = pd.read_csv(os.path.join(datpath,\n",
    "                                       'wt_cre_ctx_injections_DMN_and_core_projections_coefficients.csv'))\n",
    "td_glm_dat = pd.read_csv(os.path.join(datpath,\n",
    "                                       'td_ctx_injections_DMN_and_core_projections_coefficients.csv'))\n",
    "td_glm_dat.rename(columns = {'image_series_id': 'id'}, inplace = True)\n",
    "ctx_coord_dat = pd.read_csv(os.path.join(datpath,\n",
    "                                         'cortical_flatmap_coordinates.csv'))"
   ]
  },
  {
   "cell_type": "code",
   "execution_count": 12,
   "metadata": {},
   "outputs": [
    {
     "data": {
      "text/html": [
       "<div>\n",
       "<style scoped>\n",
       "    .dataframe tbody tr th:only-of-type {\n",
       "        vertical-align: middle;\n",
       "    }\n",
       "\n",
       "    .dataframe tbody tr th {\n",
       "        vertical-align: top;\n",
       "    }\n",
       "\n",
       "    .dataframe thead th {\n",
       "        text-align: right;\n",
       "    }\n",
       "</style>\n",
       "<table border=\"1\" class=\"dataframe\">\n",
       "  <thead>\n",
       "    <tr style=\"text-align: right;\">\n",
       "      <th></th>\n",
       "      <th>flat_x</th>\n",
       "      <th>top_x</th>\n",
       "      <th>flat_y</th>\n",
       "      <th>id</th>\n",
       "      <th>top_y</th>\n",
       "    </tr>\n",
       "  </thead>\n",
       "  <tbody>\n",
       "    <tr>\n",
       "      <th>0</th>\n",
       "      <td>173.0</td>\n",
       "      <td>335.0</td>\n",
       "      <td>885.0</td>\n",
       "      <td>528328648.0</td>\n",
       "      <td>633.0</td>\n",
       "    </tr>\n",
       "    <tr>\n",
       "      <th>1</th>\n",
       "      <td>634.0</td>\n",
       "      <td>297.0</td>\n",
       "      <td>1090.0</td>\n",
       "      <td>515920693.0</td>\n",
       "      <td>914.0</td>\n",
       "    </tr>\n",
       "    <tr>\n",
       "      <th>2</th>\n",
       "      <td>359.0</td>\n",
       "      <td>724.0</td>\n",
       "      <td>875.0</td>\n",
       "      <td>112935169.0</td>\n",
       "      <td>548.0</td>\n",
       "    </tr>\n",
       "    <tr>\n",
       "      <th>3</th>\n",
       "      <td>1111.0</td>\n",
       "      <td>412.0</td>\n",
       "      <td>640.0</td>\n",
       "      <td>267749107.0</td>\n",
       "      <td>447.0</td>\n",
       "    </tr>\n",
       "    <tr>\n",
       "      <th>4</th>\n",
       "      <td>672.0</td>\n",
       "      <td>281.0</td>\n",
       "      <td>914.0</td>\n",
       "      <td>657334568.0</td>\n",
       "      <td>736.0</td>\n",
       "    </tr>\n",
       "  </tbody>\n",
       "</table>\n",
       "</div>"
      ],
      "text/plain": [
       "   flat_x  top_x  flat_y           id  top_y\n",
       "0   173.0  335.0   885.0  528328648.0  633.0\n",
       "1   634.0  297.0  1090.0  515920693.0  914.0\n",
       "2   359.0  724.0   875.0  112935169.0  548.0\n",
       "3  1111.0  412.0   640.0  267749107.0  447.0\n",
       "4   672.0  281.0   914.0  657334568.0  736.0"
      ]
     },
     "execution_count": 12,
     "metadata": {},
     "output_type": "execute_result"
    }
   ],
   "source": [
    "ctx_coord_dat.head()"
   ]
  },
  {
   "cell_type": "code",
   "execution_count": 13,
   "metadata": {},
   "outputs": [
    {
     "name": "stdout",
     "output_type": "stream",
     "text": [
      "34\n",
      "63\n"
     ]
    }
   ],
   "source": [
    "wt = ctx_glm_dat[ctx_glm_dat['id'].isin(all_wt_exps)]\n",
    "td = td_glm_dat[td_glm_dat['id'].isin(all_td_exps)]\n",
    "wt = wt.merge(ctx_coord_dat[['id', 'top_x', 'top_y', 'flat_x', 'flat_y']], \n",
    "                              on = 'id', how = 'left')\n",
    "td = td.merge(ctx_coord_dat[['id', 'top_x', 'top_y', 'flat_x', 'flat_y']], \n",
    "                              on = 'id', how = 'left')\n",
    "print(len(wt))\n",
    "print(len(td))"
   ]
  },
  {
   "cell_type": "code",
   "execution_count": 14,
   "metadata": {},
   "outputs": [
    {
     "name": "stdout",
     "output_type": "stream",
     "text": [
      "[126861679 139426984 100148503 112229103 112595376 112423392 112306316\n",
      " 157711748 158435116 307593747 100141219 112424813 593018150 526783054\n",
      " 518742338 125833030 480994108 287769286 478491090 266250195 584895127\n",
      " 576341623 479755622 575782182 524667618 478376911 156741826 159753308\n",
      " 121510421 646525156 482580380 496576666 263106036 562674923]\n"
     ]
    }
   ],
   "source": [
    "print(wt['id'].unique())"
   ]
  },
  {
   "cell_type": "code",
   "execution_count": 15,
   "metadata": {},
   "outputs": [
    {
     "name": "stdout",
     "output_type": "stream",
     "text": [
      "[]\n",
      "[]\n"
     ]
    }
   ],
   "source": [
    "print(wt[wt['flat_x'].isnull()]['id'].values)\n",
    "print(td[td['flat_x'].isnull()]['id'].values)"
   ]
  },
  {
   "cell_type": "code",
   "execution_count": 16,
   "metadata": {},
   "outputs": [],
   "source": [
    "td = td.merge(td_exps[['id', 'CAV_percent_DMN']])"
   ]
  },
  {
   "cell_type": "code",
   "execution_count": 24,
   "metadata": {},
   "outputs": [
    {
     "name": "stderr",
     "output_type": "stream",
     "text": [
      "/Users/jenniferwh/Dropbox (Allen Institute)/Mesoscale Connectome Papers in Progress/2019 DMN/_new_figures/jupyter_notebooks/env/lib/python3.7/site-packages/ipykernel_launcher.py:1: FutureWarning: Sorting because non-concatenation axis is not aligned. A future version\n",
      "of pandas will change to not sort by default.\n",
      "\n",
      "To accept the future behavior, pass 'sort=False'.\n",
      "\n",
      "To retain the current behavior and silence the warning, pass 'sort=True'.\n",
      "\n",
      "  \"\"\"Entry point for launching an IPython kernel.\n"
     ]
    }
   ],
   "source": [
    "both = pd.concat([td, wt])"
   ]
  },
  {
   "cell_type": "code",
   "execution_count": 99,
   "metadata": {},
   "outputs": [],
   "source": [
    "import imageio\n",
    "imb = imageio.imread(os.path.join(savepath, 'FlatmapAreaBoundaries.png'))"
   ]
  },
  {
   "cell_type": "code",
   "execution_count": 100,
   "metadata": {},
   "outputs": [
    {
     "data": {
      "text/plain": [
       "(1365, 1200, 4)"
      ]
     },
     "execution_count": 100,
     "metadata": {},
     "output_type": "execute_result"
    }
   ],
   "source": [
    "imb.shape"
   ]
  },
  {
   "cell_type": "code",
   "execution_count": 67,
   "metadata": {},
   "outputs": [
    {
     "name": "stdout",
     "output_type": "stream",
     "text": [
      "injection structure\n",
      "ACAd      1076.0\n",
      "ORBl       849.0\n",
      "ORBvl      902.0\n",
      "PL        1134.0\n",
      "RSPagl     828.0\n",
      "RSPd       921.0\n",
      "RSPv      1024.0\n",
      "VISam      783.0\n",
      "VISl       480.0\n",
      "VISp       640.0\n",
      "Name: flat_x, dtype: float64\n",
      "injection structure\n",
      "ACAd       686.0\n",
      "ORBl       144.0\n",
      "ORBvl      117.0\n",
      "PL         421.0\n",
      "RSPagl     978.0\n",
      "RSPd      1042.0\n",
      "RSPv      1200.0\n",
      "VISam      962.0\n",
      "VISl      1063.0\n",
      "VISp      1098.0\n",
      "Name: flat_y, dtype: float64\n"
     ]
    }
   ],
   "source": [
    "mean_x = both.groupby('injection structure').mean()['flat_x'].round()\n",
    "mean_y = both.groupby('injection structure').mean()['flat_y'].round()\n",
    "print(mean_x)\n",
    "print(mean_y)"
   ]
  },
  {
   "cell_type": "code",
   "execution_count": 101,
   "metadata": {},
   "outputs": [
    {
     "data": {
      "image/png": "[encoded data removed]",
      "text/plain": [
       "<Figure size 180x180 with 1 Axes>"
      ]
     },
     "metadata": {
      "needs_background": "light"
     },
     "output_type": "display_data"
    }
   ],
   "source": [
    "fig,ax = plt.subplots(figsize = (2.5, 2.5))\n",
    "ax.imshow(imb)\n",
    "cax = ax.scatter(both[both['injection structure'] == 'VISp'].flat_x,\n",
    "           both[both['injection structure'] == 'VISp'].flat_y,\n",
    "           c = 'lightblue',\n",
    "           edgecolor = 'k',\n",
    "           s = 25,\n",
    "                label = 'TD, in-DMN Target',\n",
    "                zorder = 2)\n",
    "cax = ax.scatter(both[both['injection structure'] == 'VISl'].flat_x,\n",
    "           both[both['injection structure'] == 'VISl'].flat_y,\n",
    "           c = 'k',\n",
    "           edgecolor = 'k',\n",
    "           s = 25,\n",
    "                label = 'TD, in-DMN Target',\n",
    "                zorder = 2)\n",
    "cax = ax.scatter(both[both['injection structure'] == 'ORBl'].flat_x,\n",
    "           both[both['injection structure'] == 'ORBl'].flat_y,\n",
    "           c = 'gray',\n",
    "           edgecolor = 'k',\n",
    "           s = 25,\n",
    "                label = 'TD, in-DMN Target',\n",
    "                zorder = 2)\n",
    "cax = ax.scatter(both[both['injection structure'] == 'ORBvl'].flat_x,\n",
    "           both[both['injection structure'] == 'ORBvl'].flat_y,\n",
    "           c = 'w',\n",
    "           edgecolor = 'k',\n",
    "           s = 25,\n",
    "                label = 'TD, in-DMN Target',\n",
    "                zorder = 2)\n",
    "cax = ax.scatter(both[both['injection structure'] == 'PL'].flat_x,\n",
    "           both[both['injection structure'] == 'PL'].flat_y,\n",
    "           c = 'r',\n",
    "           edgecolor = 'k',\n",
    "           s = 25,\n",
    "                label = 'TD, in-DMN Target',\n",
    "                zorder = 2)\n",
    "cax = ax.scatter(both[both['injection structure'] == 'ACAd'].flat_x,\n",
    "           both[both['injection structure'] == 'ACAd'].flat_y,\n",
    "           c = 'pink',\n",
    "           edgecolor = 'k',\n",
    "           s = 25,\n",
    "                label = 'TD, in-DMN Target',\n",
    "                zorder = 2)\n",
    "cax = ax.scatter(both[both['injection structure'] == 'RSPv'].flat_x,\n",
    "           both[both['injection structure'] == 'RSPv'].flat_y,\n",
    "           c = 'b',\n",
    "           edgecolor = 'k',\n",
    "           s = 25,\n",
    "                label = 'TD, in-DMN Target',\n",
    "                zorder = 2)\n",
    "cax = ax.scatter(both[both['injection structure'] == 'RSPd'].flat_x,\n",
    "           both[both['injection structure'] == 'RSPd'].flat_y,\n",
    "           c = 'cornflowerblue',\n",
    "           edgecolor = 'k',\n",
    "           s = 25,\n",
    "                label = 'TD, in-DMN Target',\n",
    "                zorder = 2)\n",
    "cax = ax.scatter(both[both['injection structure'] == 'RSPagl'].flat_x,\n",
    "           both[both['injection structure'] == 'RSPagl'].flat_y,\n",
    "           c = 'c',\n",
    "           edgecolor = 'k',\n",
    "           s = 25,\n",
    "                label = 'TD, in-DMN Target',\n",
    "                zorder = 2)\n",
    "cax = ax.scatter(both[both['injection structure'] == 'VISam'].flat_x,\n",
    "           both[both['injection structure'] == 'VISam'].flat_y,\n",
    "           c = 'g',\n",
    "           edgecolor = 'k',\n",
    "           s = 25,\n",
    "                label = 'TD, in-DMN Target',\n",
    "                zorder = 2)\n",
    "ax.set_aspect('equal')\n",
    "plt.axis('off')\n",
    "plt.savefig(os.path.join(savepath, 'td_injections_matched_with_wt_flat_map_colors.pdf'), \n",
    "            bbox_inches='tight', format='pdf', transparent=True, dpi=300)"
   ]
  },
  {
   "cell_type": "code",
   "execution_count": 138,
   "metadata": {},
   "outputs": [
    {
     "data": {
      "image/png": "[encoded data removed]",
      "text/plain": [
       "<Figure size 180x180 with 1 Axes>"
      ]
     },
     "metadata": {
      "needs_background": "light"
     },
     "output_type": "display_data"
    }
   ],
   "source": [
    "td_exps.sort_values(by='injection_volume')\n",
    "fig,ax = plt.subplots(figsize = (2.5, 2.5))\n",
    "ax.imshow(imb)\n",
    "cax = ax.scatter(td[(td['CAV_percent_DMN'] > 50)].flat_x,\n",
    "           td[(td['CAV_percent_DMN'] > 50)].flat_y,\n",
    "           c = 'mediumpurple',\n",
    "           edgecolor = 'k',\n",
    "           s = 25,\n",
    "                label = 'TD, in-DMN Target',\n",
    "                zorder = 3,\n",
    "                alpha = 0.7)\n",
    "cax = ax.scatter(td[(td['CAV_percent_DMN'] < 50)].flat_x,\n",
    "           td[(td['CAV_percent_DMN'] < 50)].flat_y,\n",
    "           c = 'w',\n",
    "           edgecolor = 'k',\n",
    "           s = 25,\n",
    "                label = 'TD, out-DMN Target',\n",
    "                alpha = 0.8,\n",
    "                zorder = 2)\n",
    "cax = ax.scatter(wt.flat_x,\n",
    "           wt.flat_y,\n",
    "           c = 'k',\n",
    "           edgecolor = 'k',\n",
    "           s = 25,\n",
    "                label = 'Matched WT',\n",
    "                zorder = 1)\n",
    "cax = ax.scatter(mean_x,\n",
    "                mean_y,\n",
    "                 c = 'None',\n",
    "                 edgecolor = 'r',\n",
    "                 s= 200,\n",
    "                 zorder = 2)\n",
    "'''\n",
    "legend = plt.legend(frameon = False, fontsize = 8, loc = 1, bbox_to_anchor = [0.9,0.23],\n",
    "                   labelspacing = 0.2)\n",
    "legend.legendHandles[0]._sizes = [20]\n",
    "legend.legendHandles[1]._sizes = [20]\n",
    "legend.legendHandles[2]._sizes = [20]\n",
    "'''\n",
    "ax.set_aspect('equal')\n",
    "plt.axis('off')\n",
    "plt.savefig(os.path.join(savepath, 'td_injections_matched_with_wt_flat_map.pdf'), \n",
    "            bbox_inches='tight', format='pdf', transparent=True, dpi=300)"
   ]
  },
  {
   "cell_type": "code",
   "execution_count": 103,
   "metadata": {},
   "outputs": [
    {
     "data": {
      "text/plain": [
       "(-0.5, 1199.5, 1364.5, -0.5)"
      ]
     },
     "execution_count": 103,
     "metadata": {},
     "output_type": "execute_result"
    },
    {
     "data": {
      "image/png": "[encoded data removed]",
      "text/plain": [
       "<Figure size 180x180 with 1 Axes>"
      ]
     },
     "metadata": {
      "needs_background": "light"
     },
     "output_type": "display_data"
    }
   ],
   "source": [
    "fig,ax = plt.subplots(figsize = (2.5, 2.5))\n",
    "ax.imshow(imb)\n",
    "pltdat = td[td['injection structure'] == 'RSPv']\n",
    "cax = ax.scatter(pltdat[(pltdat['CAV_percent_DMN'] > 50)].top_x,\n",
    "           pltdat[(pltdat['CAV_percent_DMN'] > 50)].top_y,\n",
    "           c = 'mediumpurple',\n",
    "           edgecolor = 'k',\n",
    "           s = 25,\n",
    "                label = 'TD, in-DMN Target',\n",
    "                zorder = 2)\n",
    "cax = ax.scatter(pltdat[(pltdat['CAV_percent_DMN'] < 50)].top_x,\n",
    "           pltdat[(pltdat['CAV_percent_DMN'] < 50)].top_y,\n",
    "           c = 'w',\n",
    "           edgecolor = 'k',\n",
    "           s = 25,\n",
    "                label = 'TD, out-DMN Target',\n",
    "                zorder = 3,\n",
    "                alpha = 0.3)\n",
    "cax = ax.scatter(wt[wt['injection structure'] == 'RSPv'].top_x,\n",
    "           wt[wt['injection structure'] == 'RSPv'].top_y,\n",
    "           c = 'gray',\n",
    "           edgecolor = 'gray',\n",
    "           s = 25,\n",
    "                label = 'Matched WT',\n",
    "                zorder = 1)\n",
    "legend = plt.legend(frameon = False, fontsize = 8, loc = 1, bbox_to_anchor = [0.9,0.23],\n",
    "                   labelspacing = 0.2)\n",
    "legend.legendHandles[0]._sizes = [20]\n",
    "legend.legendHandles[1]._sizes = [20]\n",
    "legend.legendHandles[2]._sizes = [20]\n",
    "ax.set_aspect('equal')\n",
    "plt.axis('off')"
   ]
  },
  {
   "cell_type": "code",
   "execution_count": 104,
   "metadata": {},
   "outputs": [
    {
     "data": {
      "text/plain": [
       "array([521255975, 592522663, 623838656, 664716091, 569904687, 868641659,\n",
       "       592724077, 666090944])"
      ]
     },
     "execution_count": 104,
     "metadata": {},
     "output_type": "execute_result"
    }
   ],
   "source": [
    "pltdat['id'].unique()"
   ]
  },
  {
   "cell_type": "code",
   "execution_count": 105,
   "metadata": {},
   "outputs": [
    {
     "data": {
      "text/html": [
       "<div>\n",
       "<style scoped>\n",
       "    .dataframe tbody tr th:only-of-type {\n",
       "        vertical-align: middle;\n",
       "    }\n",
       "\n",
       "    .dataframe tbody tr th {\n",
       "        vertical-align: top;\n",
       "    }\n",
       "\n",
       "    .dataframe thead th {\n",
       "        text-align: right;\n",
       "    }\n",
       "</style>\n",
       "<table border=\"1\" class=\"dataframe\">\n",
       "  <thead>\n",
       "    <tr style=\"text-align: right;\">\n",
       "      <th></th>\n",
       "      <th>id</th>\n",
       "      <th>target_by_polygon</th>\n",
       "    </tr>\n",
       "  </thead>\n",
       "  <tbody>\n",
       "    <tr>\n",
       "      <th>29</th>\n",
       "      <td>521255975</td>\n",
       "      <td>ACAd</td>\n",
       "    </tr>\n",
       "    <tr>\n",
       "      <th>70</th>\n",
       "      <td>569904687</td>\n",
       "      <td>VISl</td>\n",
       "    </tr>\n",
       "    <tr>\n",
       "      <th>92</th>\n",
       "      <td>592522663</td>\n",
       "      <td>PL</td>\n",
       "    </tr>\n",
       "    <tr>\n",
       "      <th>93</th>\n",
       "      <td>592724077</td>\n",
       "      <td>VISpl</td>\n",
       "    </tr>\n",
       "    <tr>\n",
       "      <th>112</th>\n",
       "      <td>623838656</td>\n",
       "      <td>PL</td>\n",
       "    </tr>\n",
       "    <tr>\n",
       "      <th>118</th>\n",
       "      <td>664716091</td>\n",
       "      <td>RSPd</td>\n",
       "    </tr>\n",
       "    <tr>\n",
       "      <th>119</th>\n",
       "      <td>666090944</td>\n",
       "      <td>VISpl</td>\n",
       "    </tr>\n",
       "    <tr>\n",
       "      <th>120</th>\n",
       "      <td>868641659</td>\n",
       "      <td>VISp</td>\n",
       "    </tr>\n",
       "  </tbody>\n",
       "</table>\n",
       "</div>"
      ],
      "text/plain": [
       "            id target_by_polygon\n",
       "29   521255975              ACAd\n",
       "70   569904687              VISl\n",
       "92   592522663                PL\n",
       "93   592724077             VISpl\n",
       "112  623838656                PL\n",
       "118  664716091              RSPd\n",
       "119  666090944             VISpl\n",
       "120  868641659              VISp"
      ]
     },
     "execution_count": 105,
     "metadata": {},
     "output_type": "execute_result"
    }
   ],
   "source": [
    "td_exps[td_exps['id'].isin(pltdat['id'].unique())][['id', 'target_by_polygon']]"
   ]
  },
  {
   "cell_type": "markdown",
   "metadata": {},
   "source": [
    "## Boxplots by source"
   ]
  },
  {
   "cell_type": "code",
   "execution_count": 106,
   "metadata": {},
   "outputs": [
    {
     "name": "stdout",
     "output_type": "stream",
     "text": [
      "[]\n"
     ]
    }
   ],
   "source": [
    "plot_order = ['ACAd', 'PL', 'ORBl', 'ORBvl', \n",
    "              'VISam', 'RSPd', 'RSPv', 'RSPagl', \n",
    "             'VISl', 'VISp']\n",
    "print([source for source in groups['source'].values if source not in plot_order])"
   ]
  },
  {
   "cell_type": "code",
   "execution_count": 107,
   "metadata": {},
   "outputs": [],
   "source": [
    "dmn_colors = {'in':'mediumpurple', 'out': 'w'}"
   ]
  },
  {
   "cell_type": "code",
   "execution_count": 140,
   "metadata": {},
   "outputs": [
    {
     "data": {
      "image/png": "[encoded data removed]",
      "text/plain": [
       "<Figure size 108x108 with 1 Axes>"
      ]
     },
     "metadata": {
      "needs_background": "light"
     },
     "output_type": "display_data"
    }
   ],
   "source": [
    "fig, ax = plt.subplots(figsize = (1.5, 1.5))\n",
    "sns.regplot(x = 'injection dmn fraction',\n",
    "            y = 'projection dmn fraction',\n",
    "            data = wt,\n",
    "            ax = ax,\n",
    "            color = 'k',\n",
    "            ci = False,\n",
    "            scatter_kws={'s':15,\n",
    "                        'linewidth':0.5},\n",
    "           label = 'WT Matches')\n",
    "sns.regplot(x = 'injection dmn fraction',\n",
    "            y = 'projection dmn fraction',\n",
    "            data = td[td['CAV_percent_DMN'] < 50],\n",
    "            ax = ax,\n",
    "            ci = False,\n",
    "            color = dmn_colors['out'],\n",
    "            scatter_kws={'s':15,\n",
    "                         'edgecolor': 'k',\n",
    "                        'linewidth':0.5},\n",
    "            line_kws={'color':'gray'},\n",
    "           label = 'TD (out-target)')\n",
    "sns.regplot(x = 'injection dmn fraction',\n",
    "            y = 'projection dmn fraction',\n",
    "            data = td[td['CAV_percent_DMN'] > 50],\n",
    "            ax = ax,\n",
    "            color = dmn_colors['in'],\n",
    "            ci=False,\n",
    "            scatter_kws={'s':12,\n",
    "                        'edgecolor': 'k',\n",
    "                        'linewidth':0.5},\n",
    "           label = 'TD (in-target)')\n",
    "ax.set_xlim([-0.1, 1.1])\n",
    "ax.set_ylim([-0.1, 1.1])\n",
    "plt.xticks([0, 0.5, 1], fontsize = 7)\n",
    "plt.yticks([0, 0.5, 1], fontsize = 7)\n",
    "ax.set_ylabel('Projection DMN Fraction', fontsize = 7)\n",
    "ax.xaxis.labelpad = 1\n",
    "ax.yaxis.labelpad = 1\n",
    "ax.set_xlabel('Injection DMN Fraction', fontsize = 7)\n",
    "ax.axhline(y = 0.5, xmin=0, xmax=1, color = 'gray', linestyle = 'dashed',\n",
    "          linewidth = 0.5, zorder = -1)\n",
    "handles, labels = ax.get_legend_handles_labels()\n",
    "order = [2, 1, 0]\n",
    "plt.legend([handles[idx] for idx in order],[labels[idx] for idx in order],\n",
    "          loc = 2, fontsize = 6, frameon = False,\n",
    "          bbox_to_anchor = [-0.05, 1], handletextpad=0.1,\n",
    "          labelspacing = 0.3)\n",
    "sns.despine()\n",
    "ax.tick_params(top = False, right = False, bottom = True, left = True, pad = 1)\n",
    "#everything on zorder -1 or lower will be rasterized\n",
    "ax.set_rasterization_zorder(0)\n",
    "\n",
    "plt.savefig(os.path.join(savepath, 'td_matched_wt_injection_projection_DMN_fraction.pdf'), \n",
    "            bbox_inches='tight', transparent=True, dpi=300)"
   ]
  },
  {
   "cell_type": "code",
   "execution_count": 109,
   "metadata": {},
   "outputs": [],
   "source": [
    "pltdat = pd.concat([wt, td], sort=True)"
   ]
  },
  {
   "cell_type": "code",
   "execution_count": 110,
   "metadata": {},
   "outputs": [
    {
     "data": {
      "text/plain": [
       "Index(['CAV_percent_DMN', 'DMN coefficient', 'DMN core coefficient',\n",
       "       'DMN p values', 'DMN t values', 'core distance coefficient',\n",
       "       'core p values', 'core t values', 'distance coefficient', 'flat_x',\n",
       "       'flat_y', 'id', 'injection core fraction', 'injection dmn fraction',\n",
       "       'injection structure', 'projection core fraction',\n",
       "       'projection dmn fraction', 'top_x', 'top_y'],\n",
       "      dtype='object')"
      ]
     },
     "execution_count": 110,
     "metadata": {},
     "output_type": "execute_result"
    }
   ],
   "source": [
    "pltdat.keys()"
   ]
  },
  {
   "cell_type": "code",
   "execution_count": 111,
   "metadata": {},
   "outputs": [
    {
     "data": {
      "text/plain": [
       "Index(['image_series_id', 'specimen_name', 'sex', 'age_at_injection',\n",
       "       'injection_structures', 'injection_volume',\n",
       "       'primary_injection_structure', 'source', 'structure_id',\n",
       "       'target_by_polygon', 'include', 'exclusion reason',\n",
       "       'cortical_projection_view', 'experiment_detail_page',\n",
       "       'injection dmn fraction', 'projection dmn fraction',\n",
       "       'distance coefficient', 'DMN coefficient', 'CAV_percent_DMN',\n",
       "       'WT_matches', 'TD_matches', 'injection_matched_group'],\n",
       "      dtype='object')"
      ]
     },
     "execution_count": 111,
     "metadata": {},
     "output_type": "execute_result"
    }
   ],
   "source": [
    "full_td_dataset.keys()"
   ]
  },
  {
   "cell_type": "code",
   "execution_count": 112,
   "metadata": {},
   "outputs": [
    {
     "name": "stdout",
     "output_type": "stream",
     "text": [
      "VISam\n",
      "ACAd\n",
      "RSPagl\n",
      "RSPv\n",
      "ORBvl\n",
      "ORBl\n",
      "PL\n",
      "VISp\n",
      "RSPd\n",
      "VISl\n"
     ]
    }
   ],
   "source": [
    "full_td_dataset['injection_matched_group'] = np.nan\n",
    "full_td_dataset['injection_matched_group'] = full_td_dataset[\n",
    "    'injection_matched_group'].astype('object')\n",
    "matches_per_isid = dict()\n",
    "for source in pltdat['injection structure'].unique():\n",
    "    print(source)\n",
    "    dataset = list(pltdat[pltdat['injection structure'] == source]['id'].unique())\n",
    "    for isid in full_td_dataset['image_series_id'].unique():\n",
    "        if isid in dataset:\n",
    "            matches_per_isid[isid] = dataset"
   ]
  },
  {
   "cell_type": "code",
   "execution_count": 113,
   "metadata": {},
   "outputs": [],
   "source": [
    "matched_sets = []\n",
    "for isid in full_td_dataset['image_series_id'].unique():\n",
    "    if isid in matches_per_isid.keys():\n",
    "        matched_sets.append(matches_per_isid[isid])\n",
    "    else:\n",
    "        matched_sets.append([np.nan])\n",
    "full_td_dataset['injection_matched_group'] = matched_sets"
   ]
  },
  {
   "cell_type": "code",
   "execution_count": 114,
   "metadata": {},
   "outputs": [],
   "source": [
    "#full_td_dataset.to_csv(r'/Users/jenniferwh/Dropbox (Allen Institute)/Mesoscale Connectome Papers in Progress/2019 DMN/target_defined_dataset.csv',\n",
    "#                     index = False)"
   ]
  },
  {
   "cell_type": "code",
   "execution_count": 115,
   "metadata": {},
   "outputs": [],
   "source": [
    "pltdat.loc[pltdat['injection dmn fraction'] < 0.5, 'dmn_by_ol'] = 'out'\n",
    "pltdat.loc[pltdat['injection dmn fraction'] > 0.5, 'dmn_by_ol'] = 'in'"
   ]
  },
  {
   "cell_type": "code",
   "execution_count": 116,
   "metadata": {},
   "outputs": [],
   "source": [
    "pltdat.loc[pltdat['CAV_percent_DMN'].isnull(), 'expt_type'] = 'WT'\n",
    "pltdat.loc[pltdat['CAV_percent_DMN'] < 50, 'expt_type'] = 'out_target'\n",
    "pltdat.loc[pltdat['CAV_percent_DMN'] > 50, 'expt_type'] = 'in_target'"
   ]
  },
  {
   "cell_type": "code",
   "execution_count": 117,
   "metadata": {},
   "outputs": [
    {
     "data": {
      "text/html": [
       "<div>\n",
       "<style scoped>\n",
       "    .dataframe tbody tr th:only-of-type {\n",
       "        vertical-align: middle;\n",
       "    }\n",
       "\n",
       "    .dataframe tbody tr th {\n",
       "        vertical-align: top;\n",
       "    }\n",
       "\n",
       "    .dataframe thead th {\n",
       "        text-align: right;\n",
       "    }\n",
       "</style>\n",
       "<table border=\"1\" class=\"dataframe\">\n",
       "  <thead>\n",
       "    <tr style=\"text-align: right;\">\n",
       "      <th></th>\n",
       "      <th>sum_sq</th>\n",
       "      <th>df</th>\n",
       "      <th>F</th>\n",
       "      <th>PR(&gt;F)</th>\n",
       "    </tr>\n",
       "  </thead>\n",
       "  <tbody>\n",
       "    <tr>\n",
       "      <th>C(expt_type)</th>\n",
       "      <td>0.1381</td>\n",
       "      <td>2.0</td>\n",
       "      <td>6.9773</td>\n",
       "      <td>0.0015</td>\n",
       "    </tr>\n",
       "    <tr>\n",
       "      <th>inj_dmn_frac</th>\n",
       "      <td>7.5886</td>\n",
       "      <td>1.0</td>\n",
       "      <td>766.5918</td>\n",
       "      <td>0.0000</td>\n",
       "    </tr>\n",
       "    <tr>\n",
       "      <th>inj_dmn_frac:C(expt_type)</th>\n",
       "      <td>0.0156</td>\n",
       "      <td>2.0</td>\n",
       "      <td>0.7888</td>\n",
       "      <td>0.4575</td>\n",
       "    </tr>\n",
       "    <tr>\n",
       "      <th>Residual</th>\n",
       "      <td>0.9008</td>\n",
       "      <td>91.0</td>\n",
       "      <td>NaN</td>\n",
       "      <td>NaN</td>\n",
       "    </tr>\n",
       "  </tbody>\n",
       "</table>\n",
       "</div>"
      ],
      "text/plain": [
       "                           sum_sq    df         F  PR(>F)\n",
       "C(expt_type)               0.1381   2.0    6.9773  0.0015\n",
       "inj_dmn_frac               7.5886   1.0  766.5918  0.0000\n",
       "inj_dmn_frac:C(expt_type)  0.0156   2.0    0.7888  0.4575\n",
       "Residual                   0.9008  91.0       NaN     NaN"
      ]
     },
     "execution_count": 117,
     "metadata": {},
     "output_type": "execute_result"
    }
   ],
   "source": [
    "pltdat.rename(columns = {'projection dmn fraction': 'proj_dmn_frac'}, inplace = True)\n",
    "pltdat.rename(columns = {'injection dmn fraction': 'inj_dmn_frac'}, inplace = True)\n",
    "formula = 'proj_dmn_frac~inj_dmn_frac*C(expt_type)' \n",
    "model = ols(formula, pltdat).fit()\n",
    "aov_table = anova_lm(model, typ=2) #http://www.utstat.utoronto.ca/reid/sta442f/2009/typeSS.pdf\n",
    "aov_table.round(4)"
   ]
  },
  {
   "cell_type": "code",
   "execution_count": 118,
   "metadata": {},
   "outputs": [
    {
     "name": "stdout",
     "output_type": "stream",
     "text": [
      "WT\n",
      "(0.9453906146425747, 1.2870786383001948e-18)\n",
      "in_target\n",
      "(0.9360438354217584, 3.789048067232947e-15)\n",
      "out_target\n",
      "(0.9571321954871435, 1.646891101680549e-15)\n"
     ]
    }
   ],
   "source": [
    "for expt_type in pltdat['expt_type'].unique():\n",
    "    print(expt_type)\n",
    "    x=pltdat[pltdat['expt_type'] == expt_type]['inj_dmn_frac']\n",
    "    y = pltdat[pltdat['expt_type'] == expt_type]['proj_dmn_frac']\n",
    "    corr = scipy.stats.pearsonr(y, x)\n",
    "    print(corr)"
   ]
  },
  {
   "cell_type": "code",
   "execution_count": 119,
   "metadata": {},
   "outputs": [
    {
     "data": {
      "text/html": [
       "<div>\n",
       "<style scoped>\n",
       "    .dataframe tbody tr th:only-of-type {\n",
       "        vertical-align: middle;\n",
       "    }\n",
       "\n",
       "    .dataframe tbody tr th {\n",
       "        vertical-align: top;\n",
       "    }\n",
       "\n",
       "    .dataframe thead th {\n",
       "        text-align: right;\n",
       "    }\n",
       "</style>\n",
       "<table border=\"1\" class=\"dataframe\">\n",
       "  <thead>\n",
       "    <tr style=\"text-align: right;\">\n",
       "      <th></th>\n",
       "      <th>CAV_percent_DMN</th>\n",
       "      <th>DMN coefficient</th>\n",
       "      <th>DMN core coefficient</th>\n",
       "      <th>DMN p values</th>\n",
       "      <th>DMN t values</th>\n",
       "      <th>core distance coefficient</th>\n",
       "      <th>core p values</th>\n",
       "      <th>core t values</th>\n",
       "      <th>distance coefficient</th>\n",
       "      <th>flat_x</th>\n",
       "      <th>...</th>\n",
       "      <th>id</th>\n",
       "      <th>injection core fraction</th>\n",
       "      <th>inj_dmn_frac</th>\n",
       "      <th>injection structure</th>\n",
       "      <th>projection core fraction</th>\n",
       "      <th>proj_dmn_frac</th>\n",
       "      <th>top_x</th>\n",
       "      <th>top_y</th>\n",
       "      <th>dmn_by_ol</th>\n",
       "      <th>expt_type</th>\n",
       "    </tr>\n",
       "  </thead>\n",
       "  <tbody>\n",
       "    <tr>\n",
       "      <th>0</th>\n",
       "      <td>NaN</td>\n",
       "      <td>0.082467</td>\n",
       "      <td>0.086963</td>\n",
       "      <td>[0.00000000e+000 1.85527619e-289 0.00000000e+000]</td>\n",
       "      <td>[-213.54184027   36.45736686 -333.05615664]</td>\n",
       "      <td>-0.013759</td>\n",
       "      <td>[0.0000000e+000 3.1407173e-279 0.0000000e+000]</td>\n",
       "      <td>[-207.27327792   35.79905763 -331.41260115]</td>\n",
       "      <td>-0.013887</td>\n",
       "      <td>796.0</td>\n",
       "      <td>...</td>\n",
       "      <td>126861679</td>\n",
       "      <td>0.879147</td>\n",
       "      <td>0.979492</td>\n",
       "      <td>VISam</td>\n",
       "      <td>0.583373</td>\n",
       "      <td>0.671645</td>\n",
       "      <td>396.0</td>\n",
       "      <td>741.0</td>\n",
       "      <td>in</td>\n",
       "      <td>WT</td>\n",
       "    </tr>\n",
       "  </tbody>\n",
       "</table>\n",
       "<p>1 rows × 21 columns</p>\n",
       "</div>"
      ],
      "text/plain": [
       "   CAV_percent_DMN  DMN coefficient  DMN core coefficient  \\\n",
       "0              NaN         0.082467              0.086963   \n",
       "\n",
       "                                        DMN p values  \\\n",
       "0  [0.00000000e+000 1.85527619e-289 0.00000000e+000]   \n",
       "\n",
       "                                  DMN t values  core distance coefficient  \\\n",
       "0  [-213.54184027   36.45736686 -333.05615664]                  -0.013759   \n",
       "\n",
       "                                    core p values  \\\n",
       "0  [0.0000000e+000 3.1407173e-279 0.0000000e+000]   \n",
       "\n",
       "                                 core t values  distance coefficient  flat_x  \\\n",
       "0  [-207.27327792   35.79905763 -331.41260115]             -0.013887   796.0   \n",
       "\n",
       "   ...         id  injection core fraction  inj_dmn_frac  injection structure  \\\n",
       "0  ...  126861679                 0.879147      0.979492                VISam   \n",
       "\n",
       "  projection core fraction  proj_dmn_frac  top_x  top_y  dmn_by_ol expt_type  \n",
       "0                 0.583373       0.671645  396.0  741.0         in        WT  \n",
       "\n",
       "[1 rows x 21 columns]"
      ]
     },
     "execution_count": 119,
     "metadata": {},
     "output_type": "execute_result"
    }
   ],
   "source": [
    "pltdat.head(1)"
   ]
  },
  {
   "cell_type": "code",
   "execution_count": 120,
   "metadata": {},
   "outputs": [
    {
     "data": {
      "image/png": "[encoded data removed]",
      "text/plain": [
       "<Figure size 36x28.8 with 1 Axes>"
      ]
     },
     "metadata": {
      "needs_background": "light"
     },
     "output_type": "display_data"
    }
   ],
   "source": [
    "fig, ax = plt.subplots(figsize = (0.5,0.4))\n",
    "sns.boxplot(x='dmn_by_ol', \n",
    "            y='proj_dmn_frac', \n",
    "            order = ['out', 'in'],\n",
    "            data = pltdat,\n",
    "            hue = 'expt_type',\n",
    "            hue_order = ['in_target', 'out_target', 'WT'],\n",
    "                 palette = ['mediumpurple', 'w', 'k'],\n",
    "                ax = ax,\n",
    "            linewidth = 0.5,\n",
    "           fliersize = 0.1)\n",
    "sns.despine()\n",
    "ax.set_ylim([0,1])\n",
    "ax.set_yticks([0, 0.5, 1])\n",
    "ax.set_xticklabels(['<0.5', '>0.5'], fontsize = 5)\n",
    "ax.set_yticklabels([0, 0.5, 1], fontsize = 5)\n",
    "ax.set_xlabel(\"\")\n",
    "ax.set_ylabel(\"\")\n",
    "ax.tick_params(bottom=False, left = False, pad=-3)\n",
    "ax.axhline(y = 0.5, xmin=0, xmax=1, color = 'gray', linestyle = 'dashed',\n",
    "          linewidth = 0.5)\n",
    "ax.legend_.remove()\n",
    "plt.savefig(os.path.join(savepath, 'DMN_proj_fraction_boxplot_by_inj_frac_in-out.pdf'), \n",
    "            bbox_inches='tight', \n",
    "            pad_inches=0.3, format='pdf', transparent = True, dpi=300)"
   ]
  },
  {
   "cell_type": "code",
   "execution_count": 121,
   "metadata": {},
   "outputs": [
    {
     "data": {
      "text/html": [
       "<div>\n",
       "<style scoped>\n",
       "    .dataframe tbody tr th:only-of-type {\n",
       "        vertical-align: middle;\n",
       "    }\n",
       "\n",
       "    .dataframe tbody tr th {\n",
       "        vertical-align: top;\n",
       "    }\n",
       "\n",
       "    .dataframe thead th {\n",
       "        text-align: right;\n",
       "    }\n",
       "</style>\n",
       "<table border=\"1\" class=\"dataframe\">\n",
       "  <thead>\n",
       "    <tr style=\"text-align: right;\">\n",
       "      <th></th>\n",
       "      <th>sum_sq</th>\n",
       "      <th>df</th>\n",
       "      <th>F</th>\n",
       "      <th>PR(&gt;F)</th>\n",
       "    </tr>\n",
       "  </thead>\n",
       "  <tbody>\n",
       "    <tr>\n",
       "      <th>dmn_by_ol</th>\n",
       "      <td>6.8552</td>\n",
       "      <td>1.0</td>\n",
       "      <td>389.5084</td>\n",
       "      <td>0.0000</td>\n",
       "    </tr>\n",
       "    <tr>\n",
       "      <th>C(expt_type)</th>\n",
       "      <td>0.1718</td>\n",
       "      <td>2.0</td>\n",
       "      <td>4.8814</td>\n",
       "      <td>0.0097</td>\n",
       "    </tr>\n",
       "    <tr>\n",
       "      <th>dmn_by_ol:C(expt_type)</th>\n",
       "      <td>0.0482</td>\n",
       "      <td>2.0</td>\n",
       "      <td>1.3708</td>\n",
       "      <td>0.2591</td>\n",
       "    </tr>\n",
       "    <tr>\n",
       "      <th>Residual</th>\n",
       "      <td>1.6016</td>\n",
       "      <td>91.0</td>\n",
       "      <td>NaN</td>\n",
       "      <td>NaN</td>\n",
       "    </tr>\n",
       "  </tbody>\n",
       "</table>\n",
       "</div>"
      ],
      "text/plain": [
       "                        sum_sq    df         F  PR(>F)\n",
       "dmn_by_ol               6.8552   1.0  389.5084  0.0000\n",
       "C(expt_type)            0.1718   2.0    4.8814  0.0097\n",
       "dmn_by_ol:C(expt_type)  0.0482   2.0    1.3708  0.2591\n",
       "Residual                1.6016  91.0       NaN     NaN"
      ]
     },
     "execution_count": 121,
     "metadata": {},
     "output_type": "execute_result"
    }
   ],
   "source": [
    "formula = 'proj_dmn_frac~dmn_by_ol*C(expt_type)' \n",
    "model = ols(formula, pltdat).fit()\n",
    "aov_table = anova_lm(model, typ=2) #http://www.utstat.utoronto.ca/reid/sta442f/2009/typeSS.pdf\n",
    "aov_table.round(4)"
   ]
  },
  {
   "cell_type": "code",
   "execution_count": 122,
   "metadata": {},
   "outputs": [
    {
     "data": {
      "text/html": [
       "<div>\n",
       "<style scoped>\n",
       "    .dataframe tbody tr th:only-of-type {\n",
       "        vertical-align: middle;\n",
       "    }\n",
       "\n",
       "    .dataframe tbody tr th {\n",
       "        vertical-align: top;\n",
       "    }\n",
       "\n",
       "    .dataframe thead th {\n",
       "        text-align: right;\n",
       "    }\n",
       "</style>\n",
       "<table border=\"1\" class=\"dataframe\">\n",
       "  <thead>\n",
       "    <tr style=\"text-align: right;\">\n",
       "      <th></th>\n",
       "      <th>sum_sq</th>\n",
       "      <th>df</th>\n",
       "      <th>F</th>\n",
       "      <th>PR(&gt;F)</th>\n",
       "    </tr>\n",
       "  </thead>\n",
       "  <tbody>\n",
       "    <tr>\n",
       "      <th>dmn_by_ol</th>\n",
       "      <td>6.8552</td>\n",
       "      <td>1.0</td>\n",
       "      <td>386.4273</td>\n",
       "      <td>0.00</td>\n",
       "    </tr>\n",
       "    <tr>\n",
       "      <th>C(expt_type)</th>\n",
       "      <td>0.1718</td>\n",
       "      <td>2.0</td>\n",
       "      <td>4.8428</td>\n",
       "      <td>0.01</td>\n",
       "    </tr>\n",
       "    <tr>\n",
       "      <th>Residual</th>\n",
       "      <td>1.6498</td>\n",
       "      <td>93.0</td>\n",
       "      <td>NaN</td>\n",
       "      <td>NaN</td>\n",
       "    </tr>\n",
       "  </tbody>\n",
       "</table>\n",
       "</div>"
      ],
      "text/plain": [
       "              sum_sq    df         F  PR(>F)\n",
       "dmn_by_ol     6.8552   1.0  386.4273    0.00\n",
       "C(expt_type)  0.1718   2.0    4.8428    0.01\n",
       "Residual      1.6498  93.0       NaN     NaN"
      ]
     },
     "execution_count": 122,
     "metadata": {},
     "output_type": "execute_result"
    }
   ],
   "source": [
    "# interaction term not significant\n",
    "pltdat.rename(columns = {'projection dmn fraction': 'proj_dmn_frac'}, inplace = True)\n",
    "formula = 'proj_dmn_frac~dmn_by_ol+C(expt_type)' \n",
    "model = ols(formula, pltdat).fit()\n",
    "aov_table = anova_lm(model, typ=2) #http://www.utstat.utoronto.ca/reid/sta442f/2009/typeSS.pdf\n",
    "aov_table.round(4)"
   ]
  },
  {
   "cell_type": "code",
   "execution_count": 123,
   "metadata": {},
   "outputs": [
    {
     "name": "stdout",
     "output_type": "stream",
     "text": [
      "   Multiple Comparison of Means - Tukey HSD, FWER=0.05   \n",
      "=========================================================\n",
      "  group1    group2   meandiff p-adj  lower  upper  reject\n",
      "---------------------------------------------------------\n",
      "in_target out_target -0.0774  0.1151 -0.175 0.0202 False \n",
      "---------------------------------------------------------\n"
     ]
    }
   ],
   "source": [
    "mc = MultiComparison(pltdat[(pltdat['expt_type'].isin(['in_target', 'out_target'])) &\n",
    "                            (pltdat['dmn_by_ol'] == 'in')]['proj_dmn_frac'], \n",
    "                     pltdat[(pltdat['expt_type'].isin(['in_target', 'out_target'])) &\n",
    "                            (pltdat['dmn_by_ol'] == 'in')]['expt_type'])\n",
    "mc_results = mc.tukeyhsd()\n",
    "print(mc_results)"
   ]
  },
  {
   "cell_type": "code",
   "execution_count": 124,
   "metadata": {},
   "outputs": [
    {
     "name": "stdout",
     "output_type": "stream",
     "text": [
      "   Multiple Comparison of Means - Tukey HSD, FWER=0.05    \n",
      "==========================================================\n",
      "  group1    group2   meandiff p-adj   lower  upper  reject\n",
      "----------------------------------------------------------\n",
      "in_target out_target -0.0938  0.0949 -0.2048 0.0173 False \n",
      "----------------------------------------------------------\n"
     ]
    }
   ],
   "source": [
    "mc = MultiComparison(pltdat[(pltdat['expt_type'].isin(['in_target', 'out_target'])) &\n",
    "                            (pltdat['dmn_by_ol'] == 'out')]['proj_dmn_frac'], \n",
    "                     pltdat[(pltdat['expt_type'].isin(['in_target', 'out_target'])) &\n",
    "                            (pltdat['dmn_by_ol'] == 'out')]['expt_type'])\n",
    "mc_results = mc.tukeyhsd()\n",
    "print(mc_results)"
   ]
  },
  {
   "cell_type": "code",
   "execution_count": 125,
   "metadata": {},
   "outputs": [
    {
     "data": {
      "text/html": [
       "<div>\n",
       "<style scoped>\n",
       "    .dataframe tbody tr th:only-of-type {\n",
       "        vertical-align: middle;\n",
       "    }\n",
       "\n",
       "    .dataframe tbody tr th {\n",
       "        vertical-align: top;\n",
       "    }\n",
       "\n",
       "    .dataframe thead th {\n",
       "        text-align: right;\n",
       "    }\n",
       "</style>\n",
       "<table border=\"1\" class=\"dataframe\">\n",
       "  <thead>\n",
       "    <tr style=\"text-align: right;\">\n",
       "      <th></th>\n",
       "      <th>CAV_percent_DMN</th>\n",
       "      <th>DMN coefficient</th>\n",
       "      <th>DMN core coefficient</th>\n",
       "      <th>DMN p values</th>\n",
       "      <th>DMN t values</th>\n",
       "      <th>core distance coefficient</th>\n",
       "      <th>core p values</th>\n",
       "      <th>core t values</th>\n",
       "      <th>distance coefficient</th>\n",
       "      <th>flat_x</th>\n",
       "      <th>...</th>\n",
       "      <th>id</th>\n",
       "      <th>injection core fraction</th>\n",
       "      <th>inj_dmn_frac</th>\n",
       "      <th>injection structure</th>\n",
       "      <th>projection core fraction</th>\n",
       "      <th>proj_dmn_frac</th>\n",
       "      <th>top_x</th>\n",
       "      <th>top_y</th>\n",
       "      <th>dmn_by_ol</th>\n",
       "      <th>expt_type</th>\n",
       "    </tr>\n",
       "  </thead>\n",
       "  <tbody>\n",
       "    <tr>\n",
       "      <th>0</th>\n",
       "      <td>NaN</td>\n",
       "      <td>0.082467</td>\n",
       "      <td>0.086963</td>\n",
       "      <td>[0.00000000e+000 1.85527619e-289 0.00000000e+000]</td>\n",
       "      <td>[-213.54184027   36.45736686 -333.05615664]</td>\n",
       "      <td>-0.013759</td>\n",
       "      <td>[0.0000000e+000 3.1407173e-279 0.0000000e+000]</td>\n",
       "      <td>[-207.27327792   35.79905763 -331.41260115]</td>\n",
       "      <td>-0.013887</td>\n",
       "      <td>796.0</td>\n",
       "      <td>...</td>\n",
       "      <td>126861679</td>\n",
       "      <td>0.879147</td>\n",
       "      <td>0.979492</td>\n",
       "      <td>VISam</td>\n",
       "      <td>0.583373</td>\n",
       "      <td>0.671645</td>\n",
       "      <td>396.0</td>\n",
       "      <td>741.0</td>\n",
       "      <td>in</td>\n",
       "      <td>WT</td>\n",
       "    </tr>\n",
       "  </tbody>\n",
       "</table>\n",
       "<p>1 rows × 21 columns</p>\n",
       "</div>"
      ],
      "text/plain": [
       "   CAV_percent_DMN  DMN coefficient  DMN core coefficient  \\\n",
       "0              NaN         0.082467              0.086963   \n",
       "\n",
       "                                        DMN p values  \\\n",
       "0  [0.00000000e+000 1.85527619e-289 0.00000000e+000]   \n",
       "\n",
       "                                  DMN t values  core distance coefficient  \\\n",
       "0  [-213.54184027   36.45736686 -333.05615664]                  -0.013759   \n",
       "\n",
       "                                    core p values  \\\n",
       "0  [0.0000000e+000 3.1407173e-279 0.0000000e+000]   \n",
       "\n",
       "                                 core t values  distance coefficient  flat_x  \\\n",
       "0  [-207.27327792   35.79905763 -331.41260115]             -0.013887   796.0   \n",
       "\n",
       "   ...         id  injection core fraction  inj_dmn_frac  injection structure  \\\n",
       "0  ...  126861679                 0.879147      0.979492                VISam   \n",
       "\n",
       "  projection core fraction  proj_dmn_frac  top_x  top_y  dmn_by_ol expt_type  \n",
       "0                 0.583373       0.671645  396.0  741.0         in        WT  \n",
       "\n",
       "[1 rows x 21 columns]"
      ]
     },
     "execution_count": 125,
     "metadata": {},
     "output_type": "execute_result"
    }
   ],
   "source": [
    "pltdat.head(1)"
   ]
  },
  {
   "cell_type": "code",
   "execution_count": 141,
   "metadata": {},
   "outputs": [
    {
     "data": {
      "image/png": "[encoded data removed]",
      "text/plain": [
       "<Figure size 180x108 with 1 Axes>"
      ]
     },
     "metadata": {
      "needs_background": "light"
     },
     "output_type": "display_data"
    }
   ],
   "source": [
    "fig, ax = plt.subplots(1, figsize = (2.5, 1.5))\n",
    "sns.stripplot('injection structure', 'proj_dmn_frac', \n",
    "            data = pltdat, \n",
    "            hue = 'expt_type', palette = [dmn_colors['in'], dmn_colors['out'], 'k'], \n",
    "            hue_order = ['in_target', 'out_target', 'WT'],\n",
    "              s=3.5,\n",
    "            order = plot_order, ax = ax, linewidth = 0.5,\n",
    "             dodge = True, jitter = False)\n",
    "ax.set_ylim([-0.1,1.1])\n",
    "ax.set_xlabel(None)\n",
    "ax.set_ylabel(\"Projection DMN Fraction\", fontsize = 7, labelpad=1)\n",
    "ax.tick_params(top = False, right = False, left = True, pad = 1)\n",
    "ax.tick_params(axis = 'x', pad=-3)\n",
    "ax.set_xticks(np.linspace(ax.get_xbound()[0]+0.5, \n",
    "                          ax.get_xbound()[1]-0.5, len(plot_order)))\n",
    "plt.xticks(rotation = 90, fontsize = 7)\n",
    "plt.yticks([0, 0.5, 1], fontsize = 7)\n",
    "sns.despine()\n",
    "ax.set_xlabel(\"\")\n",
    "ax.legend_.remove()\n",
    "ax.axhline(y=0.5, xmin=0, xmax=1, color = 'grey', linestyle = 'dashed', \n",
    "           linewidth = 0.5, zorder = -1)\n",
    "plt.savefig(os.path.join(savepath, 'DMN_proj_fraction_by_source_boxplot_in-out.pdf'), \n",
    "            bbox_inches='tight', pad_inches=0.3, format='pdf', transparent=True, dpi=300)"
   ]
  },
  {
   "cell_type": "code",
   "execution_count": 142,
   "metadata": {},
   "outputs": [
    {
     "name": "stdout",
     "output_type": "stream",
     "text": [
      "['VISam' 'ACAd' 'RSPagl' 'RSPv' 'ORBvl' 'ORBl' 'PL' 'RSPd']\n",
      "['VISp' 'VISl']\n"
     ]
    }
   ],
   "source": [
    "in_strs = ['ACAd', 'ACAv', 'PL', 'ILA', 'ORBl', 'ORBm', 'ORBvl', 'VISa', 'VISam', 'RSPagl',\n",
    "    'RSPd', 'RSPv', 'SSp-tr', 'SSp-ll', 'MOs']\n",
    "pltdat.loc[pltdat['injection structure'].isin(in_strs), 'source_type'] = 'in'\n",
    "pltdat.loc[~pltdat['injection structure'].isin(in_strs), 'source_type'] = 'out'\n",
    "pltdat.loc[pltdat['injection structure'].isin(in_strs), 'in_out'] = 'in'\n",
    "pltdat.loc[~pltdat['injection structure'].isin(in_strs), 'in_out'] = 'out'\n",
    "print(pltdat[pltdat['in_out'] == 'in']['injection structure'].unique())\n",
    "print(pltdat[pltdat['in_out'] == 'out']['injection structure'].unique())\n",
    "pltdat.loc[(pltdat['in_out'] == 'in') & \n",
    "           (pltdat['expt_type'] == 'in_target'), 'in_out'] = 'in_in'\n",
    "pltdat.loc[(pltdat['in_out'] == 'out') & \n",
    "           (pltdat['expt_type'] == 'in_target'), 'in_out'] = 'out_in'\n",
    "pltdat.loc[(pltdat['in_out'] == 'in') & \n",
    "           (pltdat['expt_type'] == 'out_target'), 'in_out'] = 'in_out'\n",
    "pltdat.loc[(pltdat['in_out'] == 'out') & \n",
    "           (pltdat['expt_type'] == 'out_target'), 'in_out'] = 'out_out'"
   ]
  },
  {
   "cell_type": "code",
   "execution_count": 143,
   "metadata": {},
   "outputs": [],
   "source": [
    "type_order = ['in_in', 'in_out', 'in',  '', 'out_in', 'out_out', 'out']"
   ]
  },
  {
   "cell_type": "code",
   "execution_count": 145,
   "metadata": {},
   "outputs": [
    {
     "data": {
      "image/png": "[encoded data removed]",
      "text/plain": [
       "<Figure size 36x108 with 1 Axes>"
      ]
     },
     "metadata": {
      "needs_background": "light"
     },
     "output_type": "display_data"
    }
   ],
   "source": [
    "fig, ax = plt.subplots(1, figsize = (0.5, 1.5))\n",
    "sns.boxplot('in_out', 'proj_dmn_frac',\n",
    "              data = pltdat, order = type_order,\n",
    "              hue = 'in_out',\n",
    "              hue_order = type_order,\n",
    "              linewidth = 0.5, ax = ax,  \n",
    "              palette = [dmn_colors['in'], dmn_colors['out'], 'k', 'k'],\n",
    "             fliersize = 0.5, dodge = False)\n",
    "ax.set_xlim([-1, 7])\n",
    "ax.set_ylim([-0.1,1.1])\n",
    "plt.xticks([1, 5], fontsize = 7, labels = ['in', 'out'])\n",
    "plt.yticks([0, 0.5, 1], fontsize = 7)\n",
    "ax.set_ylabel(\"Projection DMN Fraction\", fontsize = 7)\n",
    "ax.yaxis.labelpad = 1\n",
    "sns.despine()\n",
    "ax.set_xlabel(\"\")\n",
    "ax.legend_.remove()\n",
    "ax.axhline(y=0.5, xmin=0, xmax=1, color = 'grey', linestyle = 'dashed', \n",
    "           linewidth = 0.5, zorder = -1)\n",
    "ax.tick_params(top = False, right = False, left = True, pad = 1)\n",
    "ax.axhline(y=50, xmin=0, xmax=100, color = 'grey', linestyle = 'dashed', \n",
    "           linewidth = 0.5, zorder = -1)\n",
    "plt.savefig(os.path.join(savepath, 'DMN_proj_boxplot_wt-out-in.pdf'), \n",
    "            bbox_inches='tight', pad_inches=0.3, format='pdf', transparent=True, dpi=300)"
   ]
  },
  {
   "cell_type": "code",
   "execution_count": 146,
   "metadata": {},
   "outputs": [
    {
     "data": {
      "text/html": [
       "<div>\n",
       "<style scoped>\n",
       "    .dataframe tbody tr th:only-of-type {\n",
       "        vertical-align: middle;\n",
       "    }\n",
       "\n",
       "    .dataframe tbody tr th {\n",
       "        vertical-align: top;\n",
       "    }\n",
       "\n",
       "    .dataframe thead th {\n",
       "        text-align: right;\n",
       "    }\n",
       "</style>\n",
       "<table border=\"1\" class=\"dataframe\">\n",
       "  <thead>\n",
       "    <tr style=\"text-align: right;\">\n",
       "      <th></th>\n",
       "      <th>sum_sq</th>\n",
       "      <th>df</th>\n",
       "      <th>F</th>\n",
       "      <th>PR(&gt;F)</th>\n",
       "    </tr>\n",
       "  </thead>\n",
       "  <tbody>\n",
       "    <tr>\n",
       "      <th>C(source_type)</th>\n",
       "      <td>7.3004</td>\n",
       "      <td>1.0</td>\n",
       "      <td>564.5899</td>\n",
       "      <td>0.0000</td>\n",
       "    </tr>\n",
       "    <tr>\n",
       "      <th>C(expt_type)</th>\n",
       "      <td>0.0850</td>\n",
       "      <td>2.0</td>\n",
       "      <td>3.2855</td>\n",
       "      <td>0.0419</td>\n",
       "    </tr>\n",
       "    <tr>\n",
       "      <th>C(source_type):C(expt_type)</th>\n",
       "      <td>0.0279</td>\n",
       "      <td>2.0</td>\n",
       "      <td>1.0792</td>\n",
       "      <td>0.3442</td>\n",
       "    </tr>\n",
       "    <tr>\n",
       "      <th>Residual</th>\n",
       "      <td>1.1767</td>\n",
       "      <td>91.0</td>\n",
       "      <td>NaN</td>\n",
       "      <td>NaN</td>\n",
       "    </tr>\n",
       "  </tbody>\n",
       "</table>\n",
       "</div>"
      ],
      "text/plain": [
       "                             sum_sq    df         F  PR(>F)\n",
       "C(source_type)               7.3004   1.0  564.5899  0.0000\n",
       "C(expt_type)                 0.0850   2.0    3.2855  0.0419\n",
       "C(source_type):C(expt_type)  0.0279   2.0    1.0792  0.3442\n",
       "Residual                     1.1767  91.0       NaN     NaN"
      ]
     },
     "execution_count": 146,
     "metadata": {},
     "output_type": "execute_result"
    }
   ],
   "source": [
    "formula = 'proj_dmn_frac~C(source_type)*C(expt_type)' \n",
    "model = ols(formula, pltdat).fit()\n",
    "aov_table = anova_lm(model, typ=2) #http://www.utstat.utoronto.ca/reid/sta442f/2009/typeSS.pdf\n",
    "aov_table.round(4)"
   ]
  },
  {
   "cell_type": "code",
   "execution_count": 147,
   "metadata": {},
   "outputs": [
    {
     "data": {
      "text/html": [
       "<div>\n",
       "<style scoped>\n",
       "    .dataframe tbody tr th:only-of-type {\n",
       "        vertical-align: middle;\n",
       "    }\n",
       "\n",
       "    .dataframe tbody tr th {\n",
       "        vertical-align: top;\n",
       "    }\n",
       "\n",
       "    .dataframe thead th {\n",
       "        text-align: right;\n",
       "    }\n",
       "</style>\n",
       "<table border=\"1\" class=\"dataframe\">\n",
       "  <thead>\n",
       "    <tr style=\"text-align: right;\">\n",
       "      <th></th>\n",
       "      <th>sum_sq</th>\n",
       "      <th>df</th>\n",
       "      <th>F</th>\n",
       "      <th>PR(&gt;F)</th>\n",
       "    </tr>\n",
       "  </thead>\n",
       "  <tbody>\n",
       "    <tr>\n",
       "      <th>C(source_type)</th>\n",
       "      <td>7.3004</td>\n",
       "      <td>1.0</td>\n",
       "      <td>563.6295</td>\n",
       "      <td>0.000</td>\n",
       "    </tr>\n",
       "    <tr>\n",
       "      <th>C(expt_type)</th>\n",
       "      <td>0.0850</td>\n",
       "      <td>2.0</td>\n",
       "      <td>3.2800</td>\n",
       "      <td>0.042</td>\n",
       "    </tr>\n",
       "    <tr>\n",
       "      <th>Residual</th>\n",
       "      <td>1.2046</td>\n",
       "      <td>93.0</td>\n",
       "      <td>NaN</td>\n",
       "      <td>NaN</td>\n",
       "    </tr>\n",
       "  </tbody>\n",
       "</table>\n",
       "</div>"
      ],
      "text/plain": [
       "                sum_sq    df         F  PR(>F)\n",
       "C(source_type)  7.3004   1.0  563.6295   0.000\n",
       "C(expt_type)    0.0850   2.0    3.2800   0.042\n",
       "Residual        1.2046  93.0       NaN     NaN"
      ]
     },
     "execution_count": 147,
     "metadata": {},
     "output_type": "execute_result"
    }
   ],
   "source": [
    "# interaction term not significant\n",
    "formula = 'proj_dmn_frac~C(source_type)+C(expt_type)' \n",
    "model = ols(formula, pltdat).fit()\n",
    "aov_table = anova_lm(model, typ=2) #http://www.utstat.utoronto.ca/reid/sta442f/2009/typeSS.pdf\n",
    "aov_table.round(4)"
   ]
  },
  {
   "cell_type": "code",
   "execution_count": 148,
   "metadata": {},
   "outputs": [
    {
     "data": {
      "text/plain": [
       "array(['in', 'out'], dtype=object)"
      ]
     },
     "execution_count": 148,
     "metadata": {},
     "output_type": "execute_result"
    }
   ],
   "source": [
    "pltdat['source_type'].unique()"
   ]
  },
  {
   "cell_type": "code",
   "execution_count": 149,
   "metadata": {},
   "outputs": [
    {
     "data": {
      "text/plain": [
       "(0.969099760055542, 0.02179638110101223)"
      ]
     },
     "execution_count": 149,
     "metadata": {},
     "output_type": "execute_result"
    }
   ],
   "source": [
    "stats.shapiro(model.resid)"
   ]
  },
  {
   "cell_type": "code",
   "execution_count": 150,
   "metadata": {},
   "outputs": [
    {
     "name": "stdout",
     "output_type": "stream",
     "text": [
      "   Multiple Comparison of Means - Tukey HSD, FWER=0.05    \n",
      "==========================================================\n",
      "  group1    group2   meandiff p-adj   lower  upper  reject\n",
      "----------------------------------------------------------\n",
      "in_target out_target -0.0588  0.2751 -0.1669 0.0493 False \n",
      "----------------------------------------------------------\n"
     ]
    }
   ],
   "source": [
    "mc = MultiComparison(pltdat[(pltdat['expt_type'].isin(['in_target', 'out_target'])) &\n",
    "                            (pltdat['source_type'] == 'in')]['proj_dmn_frac'], \n",
    "                     pltdat[(pltdat['expt_type'].isin(['in_target', 'out_target'])) &\n",
    "                            (pltdat['source_type'] == 'in')]['expt_type'])\n",
    "mc_results = mc.tukeyhsd()\n",
    "print(mc_results)"
   ]
  },
  {
   "cell_type": "code",
   "execution_count": 151,
   "metadata": {},
   "outputs": [
    {
     "name": "stdout",
     "output_type": "stream",
     "text": [
      "   Multiple Comparison of Means - Tukey HSD, FWER=0.05   \n",
      "=========================================================\n",
      "  group1    group2   meandiff p-adj  lower  upper  reject\n",
      "---------------------------------------------------------\n",
      "in_target out_target  -0.024  0.2824 -0.069 0.0209 False \n",
      "---------------------------------------------------------\n"
     ]
    }
   ],
   "source": [
    "mc = MultiComparison(pltdat[(pltdat['expt_type'].isin(['in_target', 'out_target'])) &\n",
    "                            (pltdat['source_type'] == 'out')]['proj_dmn_frac'], \n",
    "                     pltdat[(pltdat['expt_type'].isin(['in_target', 'out_target'])) &\n",
    "                            (pltdat['source_type'] == 'out')]['expt_type'])\n",
    "mc_results = mc.tukeyhsd()\n",
    "print(mc_results)"
   ]
  },
  {
   "cell_type": "code",
   "execution_count": 152,
   "metadata": {},
   "outputs": [],
   "source": [
    "def assign_module(df):\n",
    "    df.loc[df['structure_abbrev'].isin(['ACAd', 'ACAv', 'ORBl','ORBm', 'ORBvl', \n",
    "                                                    'ILA', 'PL', 'FRP']), 'module'] = 'Prefrontal'\n",
    "    df.loc[df['structure_abbrev'].isin(['VISam', 'RSPagl', 'RSPv', 'VISpm',\n",
    "                                                    'VISa', 'RSPd']), 'module'] = 'Medial'\n",
    "    df.loc[df['structure_abbrev'].isin(['SSp-tr', 'SSp-ll', 'SSp-bfd', 'SSp-un',\n",
    "                                                    'SSp-ul', 'MOs', 'MOp', 'SSs', 'SSp-n',\n",
    "                                                    'SSp-m']), 'module'] = 'Somatomotor'\n",
    "    df.loc[df['structure_abbrev'].isin(['VISal', 'VISl', 'VISli', 'VISp', 'VISpl',\n",
    "                                                    'VISpor', 'VISrl']), 'module'] = 'Visual'\n",
    "    df.loc[df['structure_abbrev'].isin(['AUDpo', 'AUDd', 'AUDp', 'AUDv']), \n",
    "                    'module'] = 'Auditory'\n",
    "    df.loc[df['structure_abbrev'].isin(['TEa', 'PERI', 'ECT', 'GU', 'AId', 'AIv',\n",
    "                                                    'AIp', 'VISC']), 'module'] = 'Lateral'\n",
    "    print(len(df[df['module'].isnull()]))\n",
    "    return df"
   ]
  },
  {
   "cell_type": "code",
   "execution_count": 153,
   "metadata": {},
   "outputs": [
    {
     "name": "stdout",
     "output_type": "stream",
     "text": [
      "0\n"
     ]
    }
   ],
   "source": [
    "pltdat['structure_abbrev'] = pltdat['injection structure']\n",
    "pltdat = assign_module(pltdat)"
   ]
  },
  {
   "cell_type": "code",
   "execution_count": 155,
   "metadata": {},
   "outputs": [
    {
     "data": {
      "image/png": "[encoded data removed]",
      "text/plain": [
       "<Figure size 50.4x108 with 1 Axes>"
      ]
     },
     "metadata": {
      "needs_background": "light"
     },
     "output_type": "display_data"
    }
   ],
   "source": [
    "mod_order = ['Prefrontal', 'Medial', 'Visual']\n",
    "fig, ax = plt.subplots(1, figsize = (0.7, 1.5))\n",
    "sns.boxplot('module', 'proj_dmn_frac', data = pltdat, \n",
    "            order = mod_order, ax = ax, \n",
    "            hue = 'expt_type', hue_order = ['in_target', 'out_target', 'WT'],\n",
    "            palette = [dmn_colors['in'], dmn_colors['out'], 'k', 'k'], \n",
    "            fliersize = 0.1, linewidth = 0.5)\n",
    "ax.tick_params(top = False, right = False)\n",
    "ax.set_ylim([-0.1, 1.1])\n",
    "plt.yticks([0, 0.5, 1], fontsize = 7)\n",
    "plt.xticks(rotation = 90, fontsize = 7)\n",
    "#plt.title('Intra-DMN', fontsize = 10, y=0.96)\n",
    "ax.set_xlabel(\"\")\n",
    "ax.set_ylabel(\"Projection DMN Fraction\", fontsize = 7)\n",
    "ax.yaxis.labelpad = 1\n",
    "ax.xaxis.labelpad = 8\n",
    "ax.tick_params(top = False, right = False, left = True, bottom = False, pad = 1)\n",
    "ax.tick_params(axis = 'x', pad=-3)\n",
    "ax.legend_.remove()\n",
    "sns.despine()\n",
    "ax.axhline(y=0.5, xmin=0, xmax=1, color = 'grey', linestyle = 'dashed', \n",
    "           linewidth = 0.5, zorder = -1)\n",
    "plt.savefig(os.path.join(savepath, 'DMN_proj_by_module_and_target_boxplot_horizontal.pdf'), \n",
    "            bbox_inches='tight', pad_inches=0.3, format='pdf', transparent=True, dpi=300)"
   ]
  },
  {
   "cell_type": "code",
   "execution_count": 67,
   "metadata": {},
   "outputs": [
    {
     "data": {
      "text/html": [
       "<div>\n",
       "<style scoped>\n",
       "    .dataframe tbody tr th:only-of-type {\n",
       "        vertical-align: middle;\n",
       "    }\n",
       "\n",
       "    .dataframe tbody tr th {\n",
       "        vertical-align: top;\n",
       "    }\n",
       "\n",
       "    .dataframe thead th {\n",
       "        text-align: right;\n",
       "    }\n",
       "</style>\n",
       "<table border=\"1\" class=\"dataframe\">\n",
       "  <thead>\n",
       "    <tr style=\"text-align: right;\">\n",
       "      <th></th>\n",
       "      <th>sum_sq</th>\n",
       "      <th>df</th>\n",
       "      <th>F</th>\n",
       "      <th>PR(&gt;F)</th>\n",
       "    </tr>\n",
       "  </thead>\n",
       "  <tbody>\n",
       "    <tr>\n",
       "      <th>C(module)</th>\n",
       "      <td>7.9949</td>\n",
       "      <td>2.0</td>\n",
       "      <td>758.5728</td>\n",
       "      <td>0.0000</td>\n",
       "    </tr>\n",
       "    <tr>\n",
       "      <th>C(expt_type)</th>\n",
       "      <td>0.0608</td>\n",
       "      <td>2.0</td>\n",
       "      <td>5.7713</td>\n",
       "      <td>0.0044</td>\n",
       "    </tr>\n",
       "    <tr>\n",
       "      <th>C(module):C(expt_type)</th>\n",
       "      <td>0.0463</td>\n",
       "      <td>4.0</td>\n",
       "      <td>2.1986</td>\n",
       "      <td>0.0756</td>\n",
       "    </tr>\n",
       "    <tr>\n",
       "      <th>Residual</th>\n",
       "      <td>0.4637</td>\n",
       "      <td>88.0</td>\n",
       "      <td>NaN</td>\n",
       "      <td>NaN</td>\n",
       "    </tr>\n",
       "  </tbody>\n",
       "</table>\n",
       "</div>"
      ],
      "text/plain": [
       "                        sum_sq    df         F  PR(>F)\n",
       "C(module)               7.9949   2.0  758.5728  0.0000\n",
       "C(expt_type)            0.0608   2.0    5.7713  0.0044\n",
       "C(module):C(expt_type)  0.0463   4.0    2.1986  0.0756\n",
       "Residual                0.4637  88.0       NaN     NaN"
      ]
     },
     "execution_count": 67,
     "metadata": {},
     "output_type": "execute_result"
    }
   ],
   "source": [
    "formula = 'proj_dmn_frac~C(module)*C(expt_type)' \n",
    "model = ols(formula, pltdat).fit()\n",
    "aov_table = anova_lm(model, typ=2) #http://www.utstat.utoronto.ca/reid/sta442f/2009/typeSS.pdf\n",
    "aov_table.round(4)"
   ]
  },
  {
   "cell_type": "code",
   "execution_count": 125,
   "metadata": {},
   "outputs": [
    {
     "data": {
      "text/plain": [
       "array(['WT', 'in_target', 'out_target'], dtype=object)"
      ]
     },
     "execution_count": 125,
     "metadata": {},
     "output_type": "execute_result"
    }
   ],
   "source": [
    "pltdat['expt_type'].unique()"
   ]
  },
  {
   "cell_type": "code",
   "execution_count": 126,
   "metadata": {},
   "outputs": [
    {
     "data": {
      "text/html": [
       "<div>\n",
       "<style scoped>\n",
       "    .dataframe tbody tr th:only-of-type {\n",
       "        vertical-align: middle;\n",
       "    }\n",
       "\n",
       "    .dataframe tbody tr th {\n",
       "        vertical-align: top;\n",
       "    }\n",
       "\n",
       "    .dataframe thead th {\n",
       "        text-align: right;\n",
       "    }\n",
       "</style>\n",
       "<table border=\"1\" class=\"dataframe\">\n",
       "  <thead>\n",
       "    <tr style=\"text-align: right;\">\n",
       "      <th></th>\n",
       "      <th>sum_sq</th>\n",
       "      <th>df</th>\n",
       "      <th>F</th>\n",
       "      <th>PR(&gt;F)</th>\n",
       "    </tr>\n",
       "  </thead>\n",
       "  <tbody>\n",
       "    <tr>\n",
       "      <th>C(module)</th>\n",
       "      <td>6.1028</td>\n",
       "      <td>2.0</td>\n",
       "      <td>683.5002</td>\n",
       "      <td>0.0000</td>\n",
       "    </tr>\n",
       "    <tr>\n",
       "      <th>C(expt_type)</th>\n",
       "      <td>0.0203</td>\n",
       "      <td>1.0</td>\n",
       "      <td>4.5573</td>\n",
       "      <td>0.0372</td>\n",
       "    </tr>\n",
       "    <tr>\n",
       "      <th>Residual</th>\n",
       "      <td>0.2500</td>\n",
       "      <td>56.0</td>\n",
       "      <td>NaN</td>\n",
       "      <td>NaN</td>\n",
       "    </tr>\n",
       "  </tbody>\n",
       "</table>\n",
       "</div>"
      ],
      "text/plain": [
       "              sum_sq    df         F  PR(>F)\n",
       "C(module)     6.1028   2.0  683.5002  0.0000\n",
       "C(expt_type)  0.0203   1.0    4.5573  0.0372\n",
       "Residual      0.2500  56.0       NaN     NaN"
      ]
     },
     "execution_count": 126,
     "metadata": {},
     "output_type": "execute_result"
    }
   ],
   "source": [
    "#interaction term not significant\n",
    "formula = 'proj_dmn_frac~C(module)+C(expt_type)' \n",
    "model = ols(formula, pltdat[pltdat['expt_type'].isin(['in_target', 'out_target'])]).fit()\n",
    "aov_table = anova_lm(model, typ=2) #http://www.utstat.utoronto.ca/reid/sta442f/2009/typeSS.pdf\n",
    "aov_table.round(4)"
   ]
  },
  {
   "cell_type": "code",
   "execution_count": 128,
   "metadata": {},
   "outputs": [
    {
     "name": "stdout",
     "output_type": "stream",
     "text": [
      "    Multiple Comparison of Means - Tukey HSD, FWER=0.05    \n",
      "===========================================================\n",
      "  group1     group2   meandiff p-adj  lower   upper  reject\n",
      "-----------------------------------------------------------\n",
      "  Medial   Prefrontal  0.2257  0.001  0.1661  0.2852  True \n",
      "  Medial     Visual   -0.5428  0.001 -0.5955 -0.4901  True \n",
      "Prefrontal   Visual   -0.7684  0.001  -0.82  -0.7168  True \n",
      "-----------------------------------------------------------\n"
     ]
    }
   ],
   "source": [
    "mc = MultiComparison(pltdat[pltdat['expt_type'].isin(['in_target', 'out_target'])]['proj_dmn_frac'], \n",
    "                     pltdat[pltdat['expt_type'].isin(['in_target', 'out_target'])]['module'])\n",
    "mc_results = mc.tukeyhsd()\n",
    "print(mc_results)"
   ]
  },
  {
   "cell_type": "code",
   "execution_count": 129,
   "metadata": {},
   "outputs": [
    {
     "name": "stdout",
     "output_type": "stream",
     "text": [
      "   Multiple Comparison of Means - Tukey HSD, FWER=0.05    \n",
      "==========================================================\n",
      "  group1    group2   meandiff p-adj   lower  upper  reject\n",
      "----------------------------------------------------------\n",
      "in_target out_target  0.0048  0.8378 -0.0431 0.0527 False \n",
      "----------------------------------------------------------\n"
     ]
    }
   ],
   "source": [
    "mc = MultiComparison(pltdat[(pltdat['expt_type'].isin(['in_target', 'out_target'])) &\n",
    "                             (pltdat['module'] == 'Prefrontal')]['proj_dmn_frac'], \n",
    "                     pltdat[(pltdat['expt_type'].isin(['in_target', 'out_target'])) &\n",
    "                             (pltdat['module'] == 'Prefrontal')]['expt_type'])\n",
    "mc_results = mc.tukeyhsd()\n",
    "print(mc_results)"
   ]
  },
  {
   "cell_type": "code",
   "execution_count": 130,
   "metadata": {},
   "outputs": [
    {
     "name": "stdout",
     "output_type": "stream",
     "text": [
      "    Multiple Comparison of Means - Tukey HSD, FWER=0.05    \n",
      "===========================================================\n",
      "  group1    group2   meandiff p-adj   lower   upper  reject\n",
      "-----------------------------------------------------------\n",
      "in_target out_target -0.1135  0.0428 -0.2228 -0.0043  True \n",
      "-----------------------------------------------------------\n"
     ]
    }
   ],
   "source": [
    "mc = MultiComparison(pltdat[(pltdat['expt_type'].isin(['in_target', 'out_target'])) &\n",
    "                            (pltdat['module'] == 'Medial')]['proj_dmn_frac'], \n",
    "                     pltdat[(pltdat['expt_type'].isin(['in_target', 'out_target'])) &\n",
    "                            (pltdat['module'] == 'Medial')]['expt_type'])\n",
    "mc_results = mc.tukeyhsd()\n",
    "print(mc_results)"
   ]
  },
  {
   "cell_type": "code",
   "execution_count": 131,
   "metadata": {},
   "outputs": [
    {
     "name": "stdout",
     "output_type": "stream",
     "text": [
      "   Multiple Comparison of Means - Tukey HSD, FWER=0.05   \n",
      "=========================================================\n",
      "  group1    group2   meandiff p-adj  lower  upper  reject\n",
      "---------------------------------------------------------\n",
      "in_target out_target  -0.024  0.2824 -0.069 0.0209 False \n",
      "---------------------------------------------------------\n"
     ]
    }
   ],
   "source": [
    "mc = MultiComparison(pltdat[(pltdat['expt_type'].isin(['in_target', 'out_target'])) &\n",
    "                            (pltdat['module'] == 'Visual')]['proj_dmn_frac'], \n",
    "                     pltdat[(pltdat['expt_type'].isin(['in_target', 'out_target'])) &\n",
    "                            (pltdat['module'] == 'Visual')]['expt_type'])\n",
    "mc_results = mc.tukeyhsd()\n",
    "print(mc_results)"
   ]
  },
  {
   "cell_type": "code",
   "execution_count": 104,
   "metadata": {},
   "outputs": [],
   "source": [
    "paireddat = pltdat.groupby(['structure_abbrev', 'expt_type']).mean().reset_index()\n",
    "#paireddat = paireddat[paireddat['expt_type'].isin(['in_target', 'out_target'])]"
   ]
  },
  {
   "cell_type": "code",
   "execution_count": 105,
   "metadata": {},
   "outputs": [
    {
     "data": {
      "text/html": [
       "<div>\n",
       "<style scoped>\n",
       "    .dataframe tbody tr th:only-of-type {\n",
       "        vertical-align: middle;\n",
       "    }\n",
       "\n",
       "    .dataframe tbody tr th {\n",
       "        vertical-align: top;\n",
       "    }\n",
       "\n",
       "    .dataframe thead th {\n",
       "        text-align: right;\n",
       "    }\n",
       "</style>\n",
       "<table border=\"1\" class=\"dataframe\">\n",
       "  <thead>\n",
       "    <tr style=\"text-align: right;\">\n",
       "      <th></th>\n",
       "      <th>structure_abbrev</th>\n",
       "      <th>expt_type</th>\n",
       "      <th>CAV_percent_DMN</th>\n",
       "      <th>DMN coefficient</th>\n",
       "      <th>DMN core coefficient</th>\n",
       "      <th>core distance coefficient</th>\n",
       "      <th>distance coefficient</th>\n",
       "      <th>flat_x</th>\n",
       "      <th>flat_y</th>\n",
       "      <th>flipped_flat_x</th>\n",
       "      <th>id</th>\n",
       "      <th>injection core fraction</th>\n",
       "      <th>inj_dmn_frac</th>\n",
       "      <th>projection core fraction</th>\n",
       "      <th>proj_dmn_frac</th>\n",
       "      <th>top_x</th>\n",
       "      <th>top_y</th>\n",
       "    </tr>\n",
       "  </thead>\n",
       "  <tbody>\n",
       "    <tr>\n",
       "      <th>0</th>\n",
       "      <td>ACAd</td>\n",
       "      <td>WT</td>\n",
       "      <td>NaN</td>\n",
       "      <td>0.218329</td>\n",
       "      <td>0.305947</td>\n",
       "      <td>-0.003930</td>\n",
       "      <td>-0.005744</td>\n",
       "      <td>315.000000</td>\n",
       "      <td>823.333333</td>\n",
       "      <td>315.000000</td>\n",
       "      <td>3.742480e+08</td>\n",
       "      <td>0.999890</td>\n",
       "      <td>0.999890</td>\n",
       "      <td>0.851792</td>\n",
       "      <td>0.885737</td>\n",
       "      <td>569.666667</td>\n",
       "      <td>463.000000</td>\n",
       "    </tr>\n",
       "    <tr>\n",
       "      <th>1</th>\n",
       "      <td>ACAd</td>\n",
       "      <td>in_target</td>\n",
       "      <td>99.481307</td>\n",
       "      <td>0.036602</td>\n",
       "      <td>0.059099</td>\n",
       "      <td>-0.002543</td>\n",
       "      <td>-0.003018</td>\n",
       "      <td>319.000000</td>\n",
       "      <td>703.000000</td>\n",
       "      <td>NaN</td>\n",
       "      <td>5.580706e+08</td>\n",
       "      <td>0.999349</td>\n",
       "      <td>0.999349</td>\n",
       "      <td>0.890369</td>\n",
       "      <td>0.914535</td>\n",
       "      <td>569.000000</td>\n",
       "      <td>473.600000</td>\n",
       "    </tr>\n",
       "    <tr>\n",
       "      <th>2</th>\n",
       "      <td>ACAd</td>\n",
       "      <td>out_target</td>\n",
       "      <td>10.329886</td>\n",
       "      <td>0.006696</td>\n",
       "      <td>0.012143</td>\n",
       "      <td>-0.000869</td>\n",
       "      <td>-0.000984</td>\n",
       "      <td>NaN</td>\n",
       "      <td>NaN</td>\n",
       "      <td>NaN</td>\n",
       "      <td>6.094759e+08</td>\n",
       "      <td>1.000000</td>\n",
       "      <td>1.000000</td>\n",
       "      <td>0.863241</td>\n",
       "      <td>0.894676</td>\n",
       "      <td>569.000000</td>\n",
       "      <td>470.000000</td>\n",
       "    </tr>\n",
       "    <tr>\n",
       "      <th>3</th>\n",
       "      <td>ORBl</td>\n",
       "      <td>WT</td>\n",
       "      <td>NaN</td>\n",
       "      <td>0.157332</td>\n",
       "      <td>0.118176</td>\n",
       "      <td>-0.011713</td>\n",
       "      <td>-0.011239</td>\n",
       "      <td>NaN</td>\n",
       "      <td>NaN</td>\n",
       "      <td>NaN</td>\n",
       "      <td>1.345241e+08</td>\n",
       "      <td>0.910837</td>\n",
       "      <td>0.978525</td>\n",
       "      <td>0.629173</td>\n",
       "      <td>0.771007</td>\n",
       "      <td>771.500000</td>\n",
       "      <td>198.000000</td>\n",
       "    </tr>\n",
       "    <tr>\n",
       "      <th>4</th>\n",
       "      <td>ORBl</td>\n",
       "      <td>in_target</td>\n",
       "      <td>96.642483</td>\n",
       "      <td>0.041540</td>\n",
       "      <td>0.047082</td>\n",
       "      <td>-0.002241</td>\n",
       "      <td>-0.002226</td>\n",
       "      <td>174.000000</td>\n",
       "      <td>722.000000</td>\n",
       "      <td>NaN</td>\n",
       "      <td>5.721037e+08</td>\n",
       "      <td>0.990809</td>\n",
       "      <td>0.999828</td>\n",
       "      <td>0.813517</td>\n",
       "      <td>0.902225</td>\n",
       "      <td>345.500000</td>\n",
       "      <td>214.000000</td>\n",
       "    </tr>\n",
       "    <tr>\n",
       "      <th>5</th>\n",
       "      <td>ORBl</td>\n",
       "      <td>out_target</td>\n",
       "      <td>1.683044</td>\n",
       "      <td>0.005508</td>\n",
       "      <td>0.007615</td>\n",
       "      <td>-0.000277</td>\n",
       "      <td>-0.000286</td>\n",
       "      <td>NaN</td>\n",
       "      <td>NaN</td>\n",
       "      <td>NaN</td>\n",
       "      <td>6.193023e+08</td>\n",
       "      <td>0.981140</td>\n",
       "      <td>1.000000</td>\n",
       "      <td>0.878514</td>\n",
       "      <td>0.924342</td>\n",
       "      <td>351.500000</td>\n",
       "      <td>204.500000</td>\n",
       "    </tr>\n",
       "    <tr>\n",
       "      <th>6</th>\n",
       "      <td>ORBvl</td>\n",
       "      <td>WT</td>\n",
       "      <td>NaN</td>\n",
       "      <td>0.231028</td>\n",
       "      <td>0.242439</td>\n",
       "      <td>-0.002924</td>\n",
       "      <td>-0.002733</td>\n",
       "      <td>NaN</td>\n",
       "      <td>NaN</td>\n",
       "      <td>NaN</td>\n",
       "      <td>2.599055e+08</td>\n",
       "      <td>0.990614</td>\n",
       "      <td>0.995993</td>\n",
       "      <td>0.710610</td>\n",
       "      <td>0.796151</td>\n",
       "      <td>645.750000</td>\n",
       "      <td>198.000000</td>\n",
       "    </tr>\n",
       "    <tr>\n",
       "      <th>7</th>\n",
       "      <td>ORBvl</td>\n",
       "      <td>in_target</td>\n",
       "      <td>99.845403</td>\n",
       "      <td>0.025326</td>\n",
       "      <td>0.029306</td>\n",
       "      <td>-0.000942</td>\n",
       "      <td>-0.000942</td>\n",
       "      <td>NaN</td>\n",
       "      <td>NaN</td>\n",
       "      <td>NaN</td>\n",
       "      <td>5.485071e+08</td>\n",
       "      <td>1.000000</td>\n",
       "      <td>1.000000</td>\n",
       "      <td>0.877730</td>\n",
       "      <td>0.935647</td>\n",
       "      <td>474.500000</td>\n",
       "      <td>204.000000</td>\n",
       "    </tr>\n",
       "    <tr>\n",
       "      <th>8</th>\n",
       "      <td>ORBvl</td>\n",
       "      <td>out_target</td>\n",
       "      <td>6.032285</td>\n",
       "      <td>0.006041</td>\n",
       "      <td>0.009573</td>\n",
       "      <td>-0.000384</td>\n",
       "      <td>-0.000405</td>\n",
       "      <td>146.000000</td>\n",
       "      <td>836.000000</td>\n",
       "      <td>NaN</td>\n",
       "      <td>6.179001e+08</td>\n",
       "      <td>1.000000</td>\n",
       "      <td>1.000000</td>\n",
       "      <td>0.943738</td>\n",
       "      <td>0.958065</td>\n",
       "      <td>378.000000</td>\n",
       "      <td>195.000000</td>\n",
       "    </tr>\n",
       "    <tr>\n",
       "      <th>9</th>\n",
       "      <td>PL</td>\n",
       "      <td>WT</td>\n",
       "      <td>NaN</td>\n",
       "      <td>0.063749</td>\n",
       "      <td>0.070069</td>\n",
       "      <td>-0.005970</td>\n",
       "      <td>-0.005971</td>\n",
       "      <td>NaN</td>\n",
       "      <td>NaN</td>\n",
       "      <td>NaN</td>\n",
       "      <td>2.104089e+08</td>\n",
       "      <td>1.000000</td>\n",
       "      <td>1.000000</td>\n",
       "      <td>0.748060</td>\n",
       "      <td>0.825987</td>\n",
       "      <td>572.000000</td>\n",
       "      <td>226.000000</td>\n",
       "    </tr>\n",
       "    <tr>\n",
       "      <th>10</th>\n",
       "      <td>PL</td>\n",
       "      <td>in_target</td>\n",
       "      <td>89.870325</td>\n",
       "      <td>0.029958</td>\n",
       "      <td>0.040233</td>\n",
       "      <td>-0.003463</td>\n",
       "      <td>-0.003546</td>\n",
       "      <td>188.000000</td>\n",
       "      <td>758.000000</td>\n",
       "      <td>NaN</td>\n",
       "      <td>6.077091e+08</td>\n",
       "      <td>0.999955</td>\n",
       "      <td>0.999955</td>\n",
       "      <td>0.823704</td>\n",
       "      <td>0.870609</td>\n",
       "      <td>568.500000</td>\n",
       "      <td>256.500000</td>\n",
       "    </tr>\n",
       "    <tr>\n",
       "      <th>11</th>\n",
       "      <td>PL</td>\n",
       "      <td>out_target</td>\n",
       "      <td>2.181549</td>\n",
       "      <td>0.004743</td>\n",
       "      <td>0.008742</td>\n",
       "      <td>-0.000664</td>\n",
       "      <td>-0.000702</td>\n",
       "      <td>NaN</td>\n",
       "      <td>NaN</td>\n",
       "      <td>NaN</td>\n",
       "      <td>5.756839e+08</td>\n",
       "      <td>1.000000</td>\n",
       "      <td>1.000000</td>\n",
       "      <td>0.825475</td>\n",
       "      <td>0.863412</td>\n",
       "      <td>569.000000</td>\n",
       "      <td>240.000000</td>\n",
       "    </tr>\n",
       "    <tr>\n",
       "      <th>12</th>\n",
       "      <td>RSPagl</td>\n",
       "      <td>WT</td>\n",
       "      <td>NaN</td>\n",
       "      <td>0.045072</td>\n",
       "      <td>0.039040</td>\n",
       "      <td>-0.010321</td>\n",
       "      <td>-0.010302</td>\n",
       "      <td>476.200000</td>\n",
       "      <td>755.200000</td>\n",
       "      <td>291.800000</td>\n",
       "      <td>5.110952e+08</td>\n",
       "      <td>0.687922</td>\n",
       "      <td>0.907891</td>\n",
       "      <td>0.591395</td>\n",
       "      <td>0.700897</td>\n",
       "      <td>471.166667</td>\n",
       "      <td>762.666667</td>\n",
       "    </tr>\n",
       "    <tr>\n",
       "      <th>13</th>\n",
       "      <td>RSPagl</td>\n",
       "      <td>in_target</td>\n",
       "      <td>99.981371</td>\n",
       "      <td>0.018034</td>\n",
       "      <td>0.017235</td>\n",
       "      <td>-0.003083</td>\n",
       "      <td>-0.003092</td>\n",
       "      <td>NaN</td>\n",
       "      <td>NaN</td>\n",
       "      <td>NaN</td>\n",
       "      <td>6.179015e+08</td>\n",
       "      <td>0.968588</td>\n",
       "      <td>0.995356</td>\n",
       "      <td>0.718131</td>\n",
       "      <td>0.801758</td>\n",
       "      <td>442.000000</td>\n",
       "      <td>748.000000</td>\n",
       "    </tr>\n",
       "    <tr>\n",
       "      <th>14</th>\n",
       "      <td>RSPagl</td>\n",
       "      <td>out_target</td>\n",
       "      <td>5.587761</td>\n",
       "      <td>0.002104</td>\n",
       "      <td>-0.001080</td>\n",
       "      <td>-0.001068</td>\n",
       "      <td>-0.001036</td>\n",
       "      <td>477.000000</td>\n",
       "      <td>872.000000</td>\n",
       "      <td>291.000000</td>\n",
       "      <td>6.041005e+08</td>\n",
       "      <td>0.860973</td>\n",
       "      <td>0.985742</td>\n",
       "      <td>0.570270</td>\n",
       "      <td>0.694220</td>\n",
       "      <td>433.000000</td>\n",
       "      <td>769.000000</td>\n",
       "    </tr>\n",
       "    <tr>\n",
       "      <th>15</th>\n",
       "      <td>RSPd</td>\n",
       "      <td>WT</td>\n",
       "      <td>NaN</td>\n",
       "      <td>-0.018224</td>\n",
       "      <td>-0.032203</td>\n",
       "      <td>-0.006266</td>\n",
       "      <td>-0.006102</td>\n",
       "      <td>519.000000</td>\n",
       "      <td>556.000000</td>\n",
       "      <td>249.000000</td>\n",
       "      <td>3.486600e+08</td>\n",
       "      <td>0.995580</td>\n",
       "      <td>0.999718</td>\n",
       "      <td>0.615726</td>\n",
       "      <td>0.701487</td>\n",
       "      <td>589.500000</td>\n",
       "      <td>828.000000</td>\n",
       "    </tr>\n",
       "    <tr>\n",
       "      <th>16</th>\n",
       "      <td>RSPd</td>\n",
       "      <td>in_target</td>\n",
       "      <td>98.364971</td>\n",
       "      <td>-0.001340</td>\n",
       "      <td>-0.002556</td>\n",
       "      <td>-0.001508</td>\n",
       "      <td>-0.001491</td>\n",
       "      <td>472.000000</td>\n",
       "      <td>892.000000</td>\n",
       "      <td>296.000000</td>\n",
       "      <td>5.291290e+08</td>\n",
       "      <td>0.995841</td>\n",
       "      <td>0.995841</td>\n",
       "      <td>0.738868</td>\n",
       "      <td>0.788320</td>\n",
       "      <td>497.000000</td>\n",
       "      <td>758.000000</td>\n",
       "    </tr>\n",
       "    <tr>\n",
       "      <th>17</th>\n",
       "      <td>RSPd</td>\n",
       "      <td>out_target</td>\n",
       "      <td>0.000000</td>\n",
       "      <td>-0.040922</td>\n",
       "      <td>-0.052894</td>\n",
       "      <td>-0.004406</td>\n",
       "      <td>-0.004226</td>\n",
       "      <td>501.000000</td>\n",
       "      <td>578.000000</td>\n",
       "      <td>267.000000</td>\n",
       "      <td>5.186052e+08</td>\n",
       "      <td>0.999994</td>\n",
       "      <td>0.999994</td>\n",
       "      <td>0.465694</td>\n",
       "      <td>0.541763</td>\n",
       "      <td>542.000000</td>\n",
       "      <td>816.000000</td>\n",
       "    </tr>\n",
       "    <tr>\n",
       "      <th>18</th>\n",
       "      <td>RSPv</td>\n",
       "      <td>WT</td>\n",
       "      <td>NaN</td>\n",
       "      <td>-0.015997</td>\n",
       "      <td>-0.029683</td>\n",
       "      <td>-0.003764</td>\n",
       "      <td>-0.003639</td>\n",
       "      <td>502.500000</td>\n",
       "      <td>946.000000</td>\n",
       "      <td>265.500000</td>\n",
       "      <td>5.780110e+08</td>\n",
       "      <td>0.234822</td>\n",
       "      <td>0.486544</td>\n",
       "      <td>0.305631</td>\n",
       "      <td>0.483975</td>\n",
       "      <td>548.250000</td>\n",
       "      <td>865.750000</td>\n",
       "    </tr>\n",
       "    <tr>\n",
       "      <th>19</th>\n",
       "      <td>RSPv</td>\n",
       "      <td>in_target</td>\n",
       "      <td>97.709124</td>\n",
       "      <td>0.003541</td>\n",
       "      <td>0.001603</td>\n",
       "      <td>-0.000970</td>\n",
       "      <td>-0.000957</td>\n",
       "      <td>NaN</td>\n",
       "      <td>NaN</td>\n",
       "      <td>NaN</td>\n",
       "      <td>5.792058e+08</td>\n",
       "      <td>0.000000</td>\n",
       "      <td>0.119126</td>\n",
       "      <td>0.478009</td>\n",
       "      <td>0.594094</td>\n",
       "      <td>403.000000</td>\n",
       "      <td>805.666667</td>\n",
       "    </tr>\n",
       "    <tr>\n",
       "      <th>20</th>\n",
       "      <td>RSPv</td>\n",
       "      <td>out_target</td>\n",
       "      <td>0.000000</td>\n",
       "      <td>-0.013751</td>\n",
       "      <td>-0.023960</td>\n",
       "      <td>-0.002069</td>\n",
       "      <td>-0.001970</td>\n",
       "      <td>516.000000</td>\n",
       "      <td>738.000000</td>\n",
       "      <td>252.000000</td>\n",
       "      <td>5.813144e+08</td>\n",
       "      <td>0.207021</td>\n",
       "      <td>0.614968</td>\n",
       "      <td>0.337522</td>\n",
       "      <td>0.550739</td>\n",
       "      <td>550.500000</td>\n",
       "      <td>873.500000</td>\n",
       "    </tr>\n",
       "    <tr>\n",
       "      <th>21</th>\n",
       "      <td>VISam</td>\n",
       "      <td>WT</td>\n",
       "      <td>NaN</td>\n",
       "      <td>0.048718</td>\n",
       "      <td>0.041638</td>\n",
       "      <td>-0.012379</td>\n",
       "      <td>-0.012361</td>\n",
       "      <td>471.000000</td>\n",
       "      <td>737.000000</td>\n",
       "      <td>297.000000</td>\n",
       "      <td>2.860347e+08</td>\n",
       "      <td>0.738842</td>\n",
       "      <td>0.913303</td>\n",
       "      <td>0.557060</td>\n",
       "      <td>0.659890</td>\n",
       "      <td>598.800000</td>\n",
       "      <td>756.600000</td>\n",
       "    </tr>\n",
       "    <tr>\n",
       "      <th>22</th>\n",
       "      <td>VISam</td>\n",
       "      <td>in_target</td>\n",
       "      <td>98.483112</td>\n",
       "      <td>0.012262</td>\n",
       "      <td>0.008157</td>\n",
       "      <td>-0.002906</td>\n",
       "      <td>-0.002876</td>\n",
       "      <td>469.000000</td>\n",
       "      <td>727.500000</td>\n",
       "      <td>299.000000</td>\n",
       "      <td>5.794872e+08</td>\n",
       "      <td>0.815616</td>\n",
       "      <td>0.933567</td>\n",
       "      <td>0.652825</td>\n",
       "      <td>0.769172</td>\n",
       "      <td>384.400000</td>\n",
       "      <td>754.200000</td>\n",
       "    </tr>\n",
       "    <tr>\n",
       "      <th>23</th>\n",
       "      <td>VISam</td>\n",
       "      <td>out_target</td>\n",
       "      <td>0.000000</td>\n",
       "      <td>0.033147</td>\n",
       "      <td>0.030625</td>\n",
       "      <td>-0.006369</td>\n",
       "      <td>-0.006372</td>\n",
       "      <td>472.000000</td>\n",
       "      <td>773.000000</td>\n",
       "      <td>296.000000</td>\n",
       "      <td>5.600451e+08</td>\n",
       "      <td>0.674587</td>\n",
       "      <td>0.915710</td>\n",
       "      <td>0.589652</td>\n",
       "      <td>0.703980</td>\n",
       "      <td>378.000000</td>\n",
       "      <td>758.000000</td>\n",
       "    </tr>\n",
       "    <tr>\n",
       "      <th>24</th>\n",
       "      <td>VISl</td>\n",
       "      <td>WT</td>\n",
       "      <td>NaN</td>\n",
       "      <td>-0.086445</td>\n",
       "      <td>-0.093410</td>\n",
       "      <td>-0.005340</td>\n",
       "      <td>-0.005278</td>\n",
       "      <td>550.000000</td>\n",
       "      <td>630.000000</td>\n",
       "      <td>218.000000</td>\n",
       "      <td>4.825804e+08</td>\n",
       "      <td>0.000000</td>\n",
       "      <td>0.000000</td>\n",
       "      <td>0.063673</td>\n",
       "      <td>0.102133</td>\n",
       "      <td>197.000000</td>\n",
       "      <td>925.000000</td>\n",
       "    </tr>\n",
       "    <tr>\n",
       "      <th>25</th>\n",
       "      <td>VISl</td>\n",
       "      <td>in_target</td>\n",
       "      <td>83.737572</td>\n",
       "      <td>-0.023272</td>\n",
       "      <td>-0.026385</td>\n",
       "      <td>-0.002240</td>\n",
       "      <td>-0.002222</td>\n",
       "      <td>550.250000</td>\n",
       "      <td>852.250000</td>\n",
       "      <td>217.750000</td>\n",
       "      <td>5.542742e+08</td>\n",
       "      <td>0.000000</td>\n",
       "      <td>0.000000</td>\n",
       "      <td>0.117585</td>\n",
       "      <td>0.166819</td>\n",
       "      <td>190.000000</td>\n",
       "      <td>925.500000</td>\n",
       "    </tr>\n",
       "    <tr>\n",
       "      <th>26</th>\n",
       "      <td>VISl</td>\n",
       "      <td>out_target</td>\n",
       "      <td>9.229063</td>\n",
       "      <td>-0.028405</td>\n",
       "      <td>-0.031944</td>\n",
       "      <td>-0.002582</td>\n",
       "      <td>-0.002560</td>\n",
       "      <td>553.875000</td>\n",
       "      <td>755.500000</td>\n",
       "      <td>214.125000</td>\n",
       "      <td>5.182475e+08</td>\n",
       "      <td>0.000000</td>\n",
       "      <td>0.000000</td>\n",
       "      <td>0.110457</td>\n",
       "      <td>0.150641</td>\n",
       "      <td>193.000000</td>\n",
       "      <td>936.300000</td>\n",
       "    </tr>\n",
       "    <tr>\n",
       "      <th>27</th>\n",
       "      <td>VISp</td>\n",
       "      <td>WT</td>\n",
       "      <td>NaN</td>\n",
       "      <td>-0.068363</td>\n",
       "      <td>-0.091892</td>\n",
       "      <td>-0.008084</td>\n",
       "      <td>-0.007953</td>\n",
       "      <td>549.500000</td>\n",
       "      <td>717.750000</td>\n",
       "      <td>218.500000</td>\n",
       "      <td>2.550502e+08</td>\n",
       "      <td>0.000000</td>\n",
       "      <td>0.000169</td>\n",
       "      <td>0.105388</td>\n",
       "      <td>0.172254</td>\n",
       "      <td>729.200000</td>\n",
       "      <td>917.600000</td>\n",
       "    </tr>\n",
       "    <tr>\n",
       "      <th>28</th>\n",
       "      <td>VISp</td>\n",
       "      <td>in_target</td>\n",
       "      <td>75.882195</td>\n",
       "      <td>-0.025414</td>\n",
       "      <td>-0.030701</td>\n",
       "      <td>-0.002144</td>\n",
       "      <td>-0.002105</td>\n",
       "      <td>545.800000</td>\n",
       "      <td>772.400000</td>\n",
       "      <td>222.200000</td>\n",
       "      <td>5.246646e+08</td>\n",
       "      <td>0.001449</td>\n",
       "      <td>0.003251</td>\n",
       "      <td>0.092712</td>\n",
       "      <td>0.150028</td>\n",
       "      <td>311.142857</td>\n",
       "      <td>912.000000</td>\n",
       "    </tr>\n",
       "    <tr>\n",
       "      <th>29</th>\n",
       "      <td>VISp</td>\n",
       "      <td>out_target</td>\n",
       "      <td>1.212502</td>\n",
       "      <td>-0.022850</td>\n",
       "      <td>-0.027364</td>\n",
       "      <td>-0.001974</td>\n",
       "      <td>-0.001941</td>\n",
       "      <td>547.428571</td>\n",
       "      <td>716.857143</td>\n",
       "      <td>220.571429</td>\n",
       "      <td>5.264529e+08</td>\n",
       "      <td>0.000000</td>\n",
       "      <td>0.000203</td>\n",
       "      <td>0.070123</td>\n",
       "      <td>0.108919</td>\n",
       "      <td>299.500000</td>\n",
       "      <td>924.750000</td>\n",
       "    </tr>\n",
       "  </tbody>\n",
       "</table>\n",
       "</div>"
      ],
      "text/plain": [
       "   structure_abbrev   expt_type  CAV_percent_DMN  DMN coefficient  \\\n",
       "0              ACAd          WT              NaN         0.218329   \n",
       "1              ACAd   in_target        99.481307         0.036602   \n",
       "2              ACAd  out_target        10.329886         0.006696   \n",
       "3              ORBl          WT              NaN         0.157332   \n",
       "4              ORBl   in_target        96.642483         0.041540   \n",
       "5              ORBl  out_target         1.683044         0.005508   \n",
       "6             ORBvl          WT              NaN         0.231028   \n",
       "7             ORBvl   in_target        99.845403         0.025326   \n",
       "8             ORBvl  out_target         6.032285         0.006041   \n",
       "9                PL          WT              NaN         0.063749   \n",
       "10               PL   in_target        89.870325         0.029958   \n",
       "11               PL  out_target         2.181549         0.004743   \n",
       "12           RSPagl          WT              NaN         0.045072   \n",
       "13           RSPagl   in_target        99.981371         0.018034   \n",
       "14           RSPagl  out_target         5.587761         0.002104   \n",
       "15             RSPd          WT              NaN        -0.018224   \n",
       "16             RSPd   in_target        98.364971        -0.001340   \n",
       "17             RSPd  out_target         0.000000        -0.040922   \n",
       "18             RSPv          WT              NaN        -0.015997   \n",
       "19             RSPv   in_target        97.709124         0.003541   \n",
       "20             RSPv  out_target         0.000000        -0.013751   \n",
       "21            VISam          WT              NaN         0.048718   \n",
       "22            VISam   in_target        98.483112         0.012262   \n",
       "23            VISam  out_target         0.000000         0.033147   \n",
       "24             VISl          WT              NaN        -0.086445   \n",
       "25             VISl   in_target        83.737572        -0.023272   \n",
       "26             VISl  out_target         9.229063        -0.028405   \n",
       "27             VISp          WT              NaN        -0.068363   \n",
       "28             VISp   in_target        75.882195        -0.025414   \n",
       "29             VISp  out_target         1.212502        -0.022850   \n",
       "\n",
       "    DMN core coefficient  core distance coefficient  distance coefficient  \\\n",
       "0               0.305947                  -0.003930             -0.005744   \n",
       "1               0.059099                  -0.002543             -0.003018   \n",
       "2               0.012143                  -0.000869             -0.000984   \n",
       "3               0.118176                  -0.011713             -0.011239   \n",
       "4               0.047082                  -0.002241             -0.002226   \n",
       "5               0.007615                  -0.000277             -0.000286   \n",
       "6               0.242439                  -0.002924             -0.002733   \n",
       "7               0.029306                  -0.000942             -0.000942   \n",
       "8               0.009573                  -0.000384             -0.000405   \n",
       "9               0.070069                  -0.005970             -0.005971   \n",
       "10              0.040233                  -0.003463             -0.003546   \n",
       "11              0.008742                  -0.000664             -0.000702   \n",
       "12              0.039040                  -0.010321             -0.010302   \n",
       "13              0.017235                  -0.003083             -0.003092   \n",
       "14             -0.001080                  -0.001068             -0.001036   \n",
       "15             -0.032203                  -0.006266             -0.006102   \n",
       "16             -0.002556                  -0.001508             -0.001491   \n",
       "17             -0.052894                  -0.004406             -0.004226   \n",
       "18             -0.029683                  -0.003764             -0.003639   \n",
       "19              0.001603                  -0.000970             -0.000957   \n",
       "20             -0.023960                  -0.002069             -0.001970   \n",
       "21              0.041638                  -0.012379             -0.012361   \n",
       "22              0.008157                  -0.002906             -0.002876   \n",
       "23              0.030625                  -0.006369             -0.006372   \n",
       "24             -0.093410                  -0.005340             -0.005278   \n",
       "25             -0.026385                  -0.002240             -0.002222   \n",
       "26             -0.031944                  -0.002582             -0.002560   \n",
       "27             -0.091892                  -0.008084             -0.007953   \n",
       "28             -0.030701                  -0.002144             -0.002105   \n",
       "29             -0.027364                  -0.001974             -0.001941   \n",
       "\n",
       "        flat_x      flat_y  flipped_flat_x            id  \\\n",
       "0   315.000000  823.333333      315.000000  3.742480e+08   \n",
       "1   319.000000  703.000000             NaN  5.580706e+08   \n",
       "2          NaN         NaN             NaN  6.094759e+08   \n",
       "3          NaN         NaN             NaN  1.345241e+08   \n",
       "4   174.000000  722.000000             NaN  5.721037e+08   \n",
       "5          NaN         NaN             NaN  6.193023e+08   \n",
       "6          NaN         NaN             NaN  2.599055e+08   \n",
       "7          NaN         NaN             NaN  5.485071e+08   \n",
       "8   146.000000  836.000000             NaN  6.179001e+08   \n",
       "9          NaN         NaN             NaN  2.104089e+08   \n",
       "10  188.000000  758.000000             NaN  6.077091e+08   \n",
       "11         NaN         NaN             NaN  5.756839e+08   \n",
       "12  476.200000  755.200000      291.800000  5.110952e+08   \n",
       "13         NaN         NaN             NaN  6.179015e+08   \n",
       "14  477.000000  872.000000      291.000000  6.041005e+08   \n",
       "15  519.000000  556.000000      249.000000  3.486600e+08   \n",
       "16  472.000000  892.000000      296.000000  5.291290e+08   \n",
       "17  501.000000  578.000000      267.000000  5.186052e+08   \n",
       "18  502.500000  946.000000      265.500000  5.780110e+08   \n",
       "19         NaN         NaN             NaN  5.792058e+08   \n",
       "20  516.000000  738.000000      252.000000  5.813144e+08   \n",
       "21  471.000000  737.000000      297.000000  2.860347e+08   \n",
       "22  469.000000  727.500000      299.000000  5.794872e+08   \n",
       "23  472.000000  773.000000      296.000000  5.600451e+08   \n",
       "24  550.000000  630.000000      218.000000  4.825804e+08   \n",
       "25  550.250000  852.250000      217.750000  5.542742e+08   \n",
       "26  553.875000  755.500000      214.125000  5.182475e+08   \n",
       "27  549.500000  717.750000      218.500000  2.550502e+08   \n",
       "28  545.800000  772.400000      222.200000  5.246646e+08   \n",
       "29  547.428571  716.857143      220.571429  5.264529e+08   \n",
       "\n",
       "    injection core fraction  inj_dmn_frac  projection core fraction  \\\n",
       "0                  0.999890      0.999890                  0.851792   \n",
       "1                  0.999349      0.999349                  0.890369   \n",
       "2                  1.000000      1.000000                  0.863241   \n",
       "3                  0.910837      0.978525                  0.629173   \n",
       "4                  0.990809      0.999828                  0.813517   \n",
       "5                  0.981140      1.000000                  0.878514   \n",
       "6                  0.990614      0.995993                  0.710610   \n",
       "7                  1.000000      1.000000                  0.877730   \n",
       "8                  1.000000      1.000000                  0.943738   \n",
       "9                  1.000000      1.000000                  0.748060   \n",
       "10                 0.999955      0.999955                  0.823704   \n",
       "11                 1.000000      1.000000                  0.825475   \n",
       "12                 0.687922      0.907891                  0.591395   \n",
       "13                 0.968588      0.995356                  0.718131   \n",
       "14                 0.860973      0.985742                  0.570270   \n",
       "15                 0.995580      0.999718                  0.615726   \n",
       "16                 0.995841      0.995841                  0.738868   \n",
       "17                 0.999994      0.999994                  0.465694   \n",
       "18                 0.234822      0.486544                  0.305631   \n",
       "19                 0.000000      0.119126                  0.478009   \n",
       "20                 0.207021      0.614968                  0.337522   \n",
       "21                 0.738842      0.913303                  0.557060   \n",
       "22                 0.815616      0.933567                  0.652825   \n",
       "23                 0.674587      0.915710                  0.589652   \n",
       "24                 0.000000      0.000000                  0.063673   \n",
       "25                 0.000000      0.000000                  0.117585   \n",
       "26                 0.000000      0.000000                  0.110457   \n",
       "27                 0.000000      0.000169                  0.105388   \n",
       "28                 0.001449      0.003251                  0.092712   \n",
       "29                 0.000000      0.000203                  0.070123   \n",
       "\n",
       "    proj_dmn_frac       top_x       top_y  \n",
       "0        0.885737  569.666667  463.000000  \n",
       "1        0.914535  569.000000  473.600000  \n",
       "2        0.894676  569.000000  470.000000  \n",
       "3        0.771007  771.500000  198.000000  \n",
       "4        0.902225  345.500000  214.000000  \n",
       "5        0.924342  351.500000  204.500000  \n",
       "6        0.796151  645.750000  198.000000  \n",
       "7        0.935647  474.500000  204.000000  \n",
       "8        0.958065  378.000000  195.000000  \n",
       "9        0.825987  572.000000  226.000000  \n",
       "10       0.870609  568.500000  256.500000  \n",
       "11       0.863412  569.000000  240.000000  \n",
       "12       0.700897  471.166667  762.666667  \n",
       "13       0.801758  442.000000  748.000000  \n",
       "14       0.694220  433.000000  769.000000  \n",
       "15       0.701487  589.500000  828.000000  \n",
       "16       0.788320  497.000000  758.000000  \n",
       "17       0.541763  542.000000  816.000000  \n",
       "18       0.483975  548.250000  865.750000  \n",
       "19       0.594094  403.000000  805.666667  \n",
       "20       0.550739  550.500000  873.500000  \n",
       "21       0.659890  598.800000  756.600000  \n",
       "22       0.769172  384.400000  754.200000  \n",
       "23       0.703980  378.000000  758.000000  \n",
       "24       0.102133  197.000000  925.000000  \n",
       "25       0.166819  190.000000  925.500000  \n",
       "26       0.150641  193.000000  936.300000  \n",
       "27       0.172254  729.200000  917.600000  \n",
       "28       0.150028  311.142857  912.000000  \n",
       "29       0.108919  299.500000  924.750000  "
      ]
     },
     "execution_count": 105,
     "metadata": {},
     "output_type": "execute_result"
    }
   ],
   "source": [
    "paireddat"
   ]
  },
  {
   "cell_type": "code",
   "execution_count": 106,
   "metadata": {},
   "outputs": [
    {
     "data": {
      "text/html": [
       "<div>\n",
       "<style scoped>\n",
       "    .dataframe tbody tr th:only-of-type {\n",
       "        vertical-align: middle;\n",
       "    }\n",
       "\n",
       "    .dataframe tbody tr th {\n",
       "        vertical-align: top;\n",
       "    }\n",
       "\n",
       "    .dataframe thead th {\n",
       "        text-align: right;\n",
       "    }\n",
       "</style>\n",
       "<table border=\"1\" class=\"dataframe\">\n",
       "  <thead>\n",
       "    <tr style=\"text-align: right;\">\n",
       "      <th></th>\n",
       "      <th>sum_sq</th>\n",
       "      <th>df</th>\n",
       "      <th>F</th>\n",
       "      <th>PR(&gt;F)</th>\n",
       "    </tr>\n",
       "  </thead>\n",
       "  <tbody>\n",
       "    <tr>\n",
       "      <th>C(structure_abbrev)</th>\n",
       "      <td>8.2117</td>\n",
       "      <td>9.0</td>\n",
       "      <td>332.2029</td>\n",
       "      <td>0.0000</td>\n",
       "    </tr>\n",
       "    <tr>\n",
       "      <th>C(expt_type)</th>\n",
       "      <td>0.0692</td>\n",
       "      <td>2.0</td>\n",
       "      <td>12.5949</td>\n",
       "      <td>0.0000</td>\n",
       "    </tr>\n",
       "    <tr>\n",
       "      <th>C(structure_abbrev):C(expt_type)</th>\n",
       "      <td>0.1093</td>\n",
       "      <td>18.0</td>\n",
       "      <td>2.2105</td>\n",
       "      <td>0.0102</td>\n",
       "    </tr>\n",
       "    <tr>\n",
       "      <th>Residual</th>\n",
       "      <td>0.1840</td>\n",
       "      <td>67.0</td>\n",
       "      <td>NaN</td>\n",
       "      <td>NaN</td>\n",
       "    </tr>\n",
       "  </tbody>\n",
       "</table>\n",
       "</div>"
      ],
      "text/plain": [
       "                                  sum_sq    df         F  PR(>F)\n",
       "C(structure_abbrev)               8.2117   9.0  332.2029  0.0000\n",
       "C(expt_type)                      0.0692   2.0   12.5949  0.0000\n",
       "C(structure_abbrev):C(expt_type)  0.1093  18.0    2.2105  0.0102\n",
       "Residual                          0.1840  67.0       NaN     NaN"
      ]
     },
     "execution_count": 106,
     "metadata": {},
     "output_type": "execute_result"
    }
   ],
   "source": [
    "formula = 'proj_dmn_frac~C(structure_abbrev)*C(expt_type)' \n",
    "model = ols(formula, pltdat).fit()\n",
    "aov_table = anova_lm(model, typ=2) #http://www.utstat.utoronto.ca/reid/sta442f/2009/typeSS.pdf\n",
    "aov_table.round(4)"
   ]
  },
  {
   "cell_type": "code",
   "execution_count": 107,
   "metadata": {},
   "outputs": [
    {
     "name": "stdout",
     "output_type": "stream",
     "text": [
      "                 Anova\n",
      "=======================================\n",
      "          F Value Num DF  Den DF Pr > F\n",
      "---------------------------------------\n",
      "expt_type  5.4189 2.0000 18.0000 0.0144\n",
      "=======================================\n",
      "\n"
     ]
    }
   ],
   "source": [
    "from statsmodels.stats.anova import AnovaRM\n",
    "aovrm2way = AnovaRM(paireddat, 'proj_dmn_frac', 'structure_abbrev', within=['expt_type'])\n",
    "res2way = aovrm2way.fit()\n",
    "\n",
    "print(res2way)"
   ]
  },
  {
   "cell_type": "code",
   "execution_count": 115,
   "metadata": {},
   "outputs": [
    {
     "name": "stdout",
     "output_type": "stream",
     "text": [
      "                 Anova\n",
      "=======================================\n",
      "          F Value Num DF  Den DF Pr > F\n",
      "---------------------------------------\n",
      "expt_type  5.4189 2.0000 18.0000 0.0144\n",
      "=======================================\n",
      "\n"
     ]
    }
   ],
   "source": [
    "aovrm2way = AnovaRM(pltdat, 'proj_dmn_frac', 'structure_abbrev', within=['expt_type'],\n",
    "                   aggregate_func = 'mean')\n",
    "res2way = aovrm2way.fit()\n",
    "\n",
    "print(res2way)"
   ]
  },
  {
   "cell_type": "code",
   "execution_count": 117,
   "metadata": {},
   "outputs": [
    {
     "data": {
      "text/plain": [
       "Index(['CAV_percent_DMN', 'DMN coefficient', 'DMN core coefficient',\n",
       "       'DMN p values', 'DMN t values', 'core distance coefficient',\n",
       "       'core p values', 'core t values', 'distance coefficient', 'flat_x',\n",
       "       'flat_y', 'flipped_flat_x', 'id', 'injection core fraction',\n",
       "       'inj_dmn_frac', 'injection structure', 'projection core fraction',\n",
       "       'proj_dmn_frac', 'top_x', 'top_y', 'dmn_by_ol', 'expt_type',\n",
       "       'source_type', 'in_out', 'structure_abbrev', 'module'],\n",
       "      dtype='object')"
      ]
     },
     "execution_count": 117,
     "metadata": {},
     "output_type": "execute_result"
    }
   ],
   "source": [
    "pltdat.keys()"
   ]
  },
  {
   "cell_type": "code",
   "execution_count": 118,
   "metadata": {},
   "outputs": [
    {
     "name": "stdout",
     "output_type": "stream",
     "text": [
      "                Anova\n",
      "======================================\n",
      "          F Value Num DF Den DF Pr > F\n",
      "--------------------------------------\n",
      "expt_type  6.2857 2.0000 6.0000 0.0337\n",
      "======================================\n",
      "\n"
     ]
    }
   ],
   "source": [
    "aovrm2way = AnovaRM(pltdat[pltdat['module'] == 'Prefrontal'], \n",
    "                    'proj_dmn_frac', 'structure_abbrev', within=['expt_type'],\n",
    "                   aggregate_func = 'mean')\n",
    "res2way = aovrm2way.fit()\n",
    "\n",
    "print(res2way)"
   ]
  },
  {
   "cell_type": "code",
   "execution_count": 124,
   "metadata": {},
   "outputs": [
    {
     "name": "stdout",
     "output_type": "stream",
     "text": [
      "                Anova\n",
      "======================================\n",
      "          F Value Num DF Den DF Pr > F\n",
      "--------------------------------------\n",
      "expt_type  5.0811 2.0000 6.0000 0.0512\n",
      "======================================\n",
      "\n"
     ]
    }
   ],
   "source": [
    "aovrm2way = AnovaRM(pltdat[pltdat['module'] == 'Medial'], \n",
    "                    'proj_dmn_frac', 'structure_abbrev', within=['expt_type'],\n",
    "                   aggregate_func = 'mean')\n",
    "res2way = aovrm2way.fit()\n",
    "\n",
    "print(res2way)"
   ]
  },
  {
   "cell_type": "code",
   "execution_count": 121,
   "metadata": {},
   "outputs": [
    {
     "name": "stdout",
     "output_type": "stream",
     "text": [
      "                Anova\n",
      "======================================\n",
      "          F Value Num DF Den DF Pr > F\n",
      "--------------------------------------\n",
      "expt_type  0.2564 2.0000 2.0000 0.7959\n",
      "======================================\n",
      "\n"
     ]
    }
   ],
   "source": [
    "aovrm2way = AnovaRM(pltdat[pltdat['module'] == 'Visual'], \n",
    "                    'proj_dmn_frac', 'structure_abbrev', within=['expt_type'],\n",
    "                   aggregate_func = 'mean')\n",
    "res2way = aovrm2way.fit()\n",
    "\n",
    "print(res2way)"
   ]
  },
  {
   "cell_type": "code",
   "execution_count": null,
   "metadata": {},
   "outputs": [],
   "source": []
  }
 ],
 "metadata": {
  "kernelspec": {
   "display_name": "dmn-virtualenv",
   "language": "python",
   "name": "dmn-virtualenv"
  },
  "language_info": {
   "codemirror_mode": {
    "name": "ipython",
    "version": 3
   },
   "file_extension": ".py",
   "mimetype": "text/x-python",
   "name": "python",
   "nbconvert_exporter": "python",
   "pygments_lexer": "ipython3",
   "version": "3.7.4"
  }
 },
 "nbformat": 4,
 "nbformat_minor": 1
}
