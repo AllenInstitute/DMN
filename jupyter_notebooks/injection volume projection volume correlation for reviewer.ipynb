{
 "cells": [
  {
   "cell_type": "code",
   "execution_count": 1,
   "metadata": {},
   "outputs": [
    {
     "name": "stderr",
     "output_type": "stream",
     "text": [
      "In /opt/anaconda3/envs/DMN/lib/python3.7/site-packages/matplotlib/mpl-data/stylelib/_classic_test.mplstyle: \n",
      "The text.latex.preview rcparam was deprecated in Matplotlib 3.3 and will be removed two minor releases later.\n",
      "In /opt/anaconda3/envs/DMN/lib/python3.7/site-packages/matplotlib/mpl-data/stylelib/_classic_test.mplstyle: \n",
      "The mathtext.fallback_to_cm rcparam was deprecated in Matplotlib 3.3 and will be removed two minor releases later.\n",
      "In /opt/anaconda3/envs/DMN/lib/python3.7/site-packages/matplotlib/mpl-data/stylelib/_classic_test.mplstyle: Support for setting the 'mathtext.fallback_to_cm' rcParam is deprecated since 3.3 and will be removed two minor releases later; use 'mathtext.fallback : 'cm' instead.\n",
      "In /opt/anaconda3/envs/DMN/lib/python3.7/site-packages/matplotlib/mpl-data/stylelib/_classic_test.mplstyle: \n",
      "The validate_bool_maybe_none function was deprecated in Matplotlib 3.3 and will be removed two minor releases later.\n",
      "In /opt/anaconda3/envs/DMN/lib/python3.7/site-packages/matplotlib/mpl-data/stylelib/_classic_test.mplstyle: \n",
      "The savefig.jpeg_quality rcparam was deprecated in Matplotlib 3.3 and will be removed two minor releases later.\n",
      "In /opt/anaconda3/envs/DMN/lib/python3.7/site-packages/matplotlib/mpl-data/stylelib/_classic_test.mplstyle: \n",
      "The keymap.all_axes rcparam was deprecated in Matplotlib 3.3 and will be removed two minor releases later.\n",
      "In /opt/anaconda3/envs/DMN/lib/python3.7/site-packages/matplotlib/mpl-data/stylelib/_classic_test.mplstyle: \n",
      "The animation.avconv_path rcparam was deprecated in Matplotlib 3.3 and will be removed two minor releases later.\n",
      "In /opt/anaconda3/envs/DMN/lib/python3.7/site-packages/matplotlib/mpl-data/stylelib/_classic_test.mplstyle: \n",
      "The animation.avconv_args rcparam was deprecated in Matplotlib 3.3 and will be removed two minor releases later.\n",
      "/opt/anaconda3/envs/DMN/lib/python3.7/site-packages/statsmodels/compat/pandas.py:49: FutureWarning: The Panel class is removed from pandas. Accessing it from the top-level namespace will also be removed in the next version\n",
      "  data_klasses = (pandas.Series, pandas.DataFrame, pandas.Panel)\n"
     ]
    }
   ],
   "source": [
    "import pandas as pd\n",
    "import matplotlib.pyplot as plt\n",
    "import numpy as np\n",
    "import os\n",
    "import nrrd\n",
    "import json\n",
    "from allensdk.core.mouse_connectivity_cache import MouseConnectivityCache\n",
    "from allensdk.api.queries.ontologies_api import OntologiesApi\n",
    "import requests\n",
    "from anatomy.anatomy_api import AnatomyApi\n",
    "import scipy.stats as stats\n",
    "import statsmodels.api as sm\n",
    "from statsmodels.stats.anova import anova_lm\n",
    "from scipy.optimize import curve_fit\n",
    "from statsmodels.sandbox.regression.predstd import wls_prediction_std\n",
    "from statsmodels.graphics import utils\n",
    "from statsmodels.formula.api import ols\n",
    "from statsmodels.stats.multicomp import MultiComparison\n",
    "\n",
    "import seaborn as sns\n",
    "sns.set_context('paper')\n",
    "sns.set_style('white')\n",
    "\n",
    "%matplotlib inline\n",
    "import matplotlib as mpl\n",
    "mpl.rcParams['pdf.fonttype'] = 42\n",
    "\n",
    "distance_threshold = 800\n",
    "overlap_threshold = 0.05"
   ]
  },
  {
   "cell_type": "code",
   "execution_count": 2,
   "metadata": {},
   "outputs": [],
   "source": [
    "aapi = AnatomyApi()\n",
    "ss = aapi.get_summary_structure_data('id')\n",
    "mcc = MouseConnectivityCache(manifest_file = '../connectivity/mouse_connectivity_manifest.json')\n",
    "structure_tree = mcc.get_structure_tree()\n",
    "isocortex = structure_tree.get_structures_by_acronym(['Isocortex'])[0]\n",
    "cla = structure_tree.get_structures_by_acronym(['CLA'])[0]['id']\n",
    "HPF = structure_tree.get_structures_by_acronym(['HPF'])[0]\n",
    "iso = structure_tree.descendant_ids([isocortex['id']])[0]\n",
    "iso = [structure for structure in iso if structure in ss]\n",
    "hipp = structure_tree.descendant_ids([HPF['id']])[0]\n",
    "hipp = [structure for structure in hipp if structure in ss]\n",
    "ia_map = structure_tree.get_id_acronym_map()\n",
    "ai_map = {value:key for key, value in ia_map.items()}\n",
    "ctx_strs = [ai_map[structure] for structure in iso]\n",
    "hipp_strs = [ai_map[structure] for structure in hipp]\n",
    "valid_strs = ctx_strs#+hipp_strs #No Cla"
   ]
  },
  {
   "cell_type": "code",
   "execution_count": 3,
   "metadata": {},
   "outputs": [
    {
     "name": "stdout",
     "output_type": "stream",
     "text": [
      "25\n",
      "183\n",
      "121\n",
      "25\n"
     ]
    }
   ],
   "source": [
    "path = r'../../../'\n",
    "datpath = r'../data_files'\n",
    "full_td_dataset = pd.read_csv(os.path.join(datpath, 'target_defined_dataset.csv'))\n",
    "td_dataset = full_td_dataset[full_td_dataset['include'] == 'yes']\n",
    "td_dataset = td_dataset[td_dataset['source'].isin(valid_strs)]\n",
    "td_dataset = td_dataset[td_dataset['target_by_polygon'] != 'POST']\n",
    "print(len(td_dataset['source'].unique()))\n",
    "print(len(full_td_dataset))\n",
    "print(len(td_dataset))\n",
    "print(len(td_dataset['source'].unique()))"
   ]
  },
  {
   "cell_type": "code",
   "execution_count": 4,
   "metadata": {},
   "outputs": [
    {
     "name": "stdout",
     "output_type": "stream",
     "text": [
      "5087\n",
      "3193\n",
      "1323\n",
      "3077\n"
     ]
    }
   ],
   "source": [
    "# including primary/secondary switch matches within 500 um, all others no distance or overlap constraint\n",
    "alldat = pd.read_csv(os.path.join(path, 'data_files', 'td_wt_cre_matched_correlations_NPV.csv'))\n",
    "print(len(alldat))\n",
    "alldat = alldat[alldat['image_series_id'].isin(td_dataset['image_series_id'].unique())]\n",
    "print(len(alldat))\n",
    "c_by_source = pd.read_csv(os.path.join(path, 'data_files', 'match_correlations_by_source_NPV_all_thresholded_1_5.csv'))\n",
    "c_by_source = c_by_source[c_by_source['same_primary'] == True]\n",
    "c_by_source = c_by_source[c_by_source['same secondary for <60% primary'] != False]\n",
    "alldat = alldat[alldat['same_primary'] == True]\n",
    "alldat = alldat[alldat['same secondary for <60% primary'] != False]\n",
    "print(len(alldat))\n",
    "print(len(c_by_source))"
   ]
  },
  {
   "cell_type": "code",
   "execution_count": 5,
   "metadata": {
    "scrolled": true
   },
   "outputs": [],
   "source": [
    "# check for duplicates\n",
    "c_by_source['index_original'] = c_by_source.groupby(['match_A', 'match_B']).match_A.transform('idxmin')    \n",
    "c_by_source = c_by_source[~c_by_source.duplicated(subset=['match_A', 'match_B'], keep='first')]\n",
    "for isid in c_by_source['match_A'].unique():\n",
    "    Bmatches = c_by_source[c_by_source['match_A'] == isid]['match_B'].values\n",
    "    Amatches = c_by_source[c_by_source['match_B'] == isid]['match_A'].values\n",
    "    duplicates = [match for match in Amatches if match in Bmatches]\n",
    "    if len(duplicates) > 0:\n",
    "        print(Bmatches)\n",
    "        print(Amatches)"
   ]
  },
  {
   "cell_type": "code",
   "execution_count": 6,
   "metadata": {},
   "outputs": [
    {
     "name": "stdout",
     "output_type": "stream",
     "text": [
      "2348\n",
      "1187\n"
     ]
    }
   ],
   "source": [
    "# experiments with leakage, tile edges, low GFP signal, surface artifacts, wrong injection site assigned,\n",
    "# or not all layers labeled, looks like PT cells only\n",
    "alldat = alldat.merge(td_dataset[['image_series_id', 'include', 'CAV_percent_DMN']], \n",
    "                      on='image_series_id', how = 'left')\n",
    "fail_expts = [114008926, 120280939, 180073473, 180403712, 180601025, 183174303, 183329222,\n",
    "              249396394, 296047806, 299446445, 301060890, 303784745, 480069939, 482578964, \n",
    "              506947040, 514333422, 525796603, 545428296, 559878074, 638314843, 182888003,\n",
    "             304585910, 183171679, 272930013, 523718075, 517072832, 148964212, 304762965,\n",
    "             566992832, 272930013, 304762965, 266250904, 114399224, 286483411, 286417464,\n",
    "             593277684, 546103149, 642809043, 286483411, 304564721] #VISp outlier excluded\n",
    "alldat = alldat[~alldat['match_id'].isin(fail_expts)]\n",
    "c_by_source = c_by_source[~c_by_source['match_A'].isin(fail_expts)]\n",
    "c_by_source = c_by_source[~c_by_source['match_B'].isin(fail_expts)]\n",
    "print(len(c_by_source))\n",
    "print(len(alldat))"
   ]
  },
  {
   "cell_type": "code",
   "execution_count": 7,
   "metadata": {},
   "outputs": [
    {
     "name": "stdout",
     "output_type": "stream",
     "text": [
      "2112\n",
      "target-defined experiments meeting criteria\n",
      "1187\n",
      "157\n"
     ]
    }
   ],
   "source": [
    "# Remove thalamus and hippocampus proper sources for this analysis\n",
    "c_by_source = c_by_source[(c_by_source['match_A_primary_source'].isin(valid_strs)) |\n",
    "                    (c_by_source['match_B_primary_source'].isin(valid_strs))]\n",
    "c_by_source['source'] = c_by_source['match_A_primary_source']\n",
    "c_by_source = c_by_source[~c_by_source['source'].isin(['CA1', 'CA3', 'DG', 'SUB',\n",
    "                                                      'ENTl', 'ENTm'])]\n",
    "alldat = alldat[~alldat['source'].isin(['CA1', 'CA3', 'DG', 'ENTl', 'ENTm', 'SUB'])]\n",
    "print(len(c_by_source))\n",
    "print('target-defined experiments meeting criteria')\n",
    "print(len(alldat))\n",
    "print(len(alldat['match_id'].unique()))"
   ]
  },
  {
   "cell_type": "code",
   "execution_count": 11,
   "metadata": {},
   "outputs": [],
   "source": [
    "# Sum_NPV seems to be ipsi and contra ctx and hippocampus. Pull NPV in whole brain and isocortex and use that instead\n",
    "unique_isids = np.unique(np.concatenate((c_by_source['match_A'].values, c_by_source['match_B'].values)))\n",
    "ip_dat = pd.DataFrame({'image_series_id': unique_isids})\n",
    "for isid in unique_isids:\n",
    "    pv_root = mcc.get_experiment_structure_unionizes(isid, is_injection=False, structure_ids = [997],\n",
    "                                                               hemisphere_ids = [3])\n",
    "    c_by_source.loc[c_by_source['match_A'] == isid, 'match_A_PV_root'] = pv_root[\n",
    "            'projection_volume'].values[0]\n",
    "    c_by_source.loc[c_by_source['match_B'] == isid, 'match_B_PV_root'] = pv_root[\n",
    "            'projection_volume'].values[0]\n",
    "    pv_ctx = mcc.get_experiment_structure_unionizes(isid, is_injection=False, structure_ids = [315],\n",
    "                                                               hemisphere_ids = [3])\n",
    "    c_by_source.loc[c_by_source['match_A'] == isid, 'match_A_PV_ctx'] = pv_ctx[\n",
    "            'projection_volume'].values[0]\n",
    "    c_by_source.loc[c_by_source['match_B'] == isid, 'match_B_PV_ctx'] = pv_ctx[\n",
    "            'projection_volume'].values[0]"
   ]
  },
  {
   "cell_type": "code",
   "execution_count": 12,
   "metadata": {},
   "outputs": [
    {
     "name": "stdout",
     "output_type": "stream",
     "text": [
      "0\n",
      "0\n"
     ]
    }
   ],
   "source": [
    "print(len(c_by_source[c_by_source['match_A_PV_ctx'].isnull()]))\n",
    "print(len(c_by_source[c_by_source['match_B_PV_ctx'].isnull()]))"
   ]
  },
  {
   "cell_type": "code",
   "execution_count": 16,
   "metadata": {},
   "outputs": [
    {
     "data": {
      "image/png": "[encoded data removed]",
      "text/plain": [
       "<Figure size 576x216 with 2 Axes>"
      ]
     },
     "metadata": {
      "needs_background": "light"
     },
     "output_type": "display_data"
    }
   ],
   "source": [
    "fig, ax = plt.subplots(1, 2, figsize = (8, 3))\n",
    "sns.scatterplot('match_A_injection_size', 'match_A_PV_ctx', data = c_by_source, ax = ax[0])\n",
    "sns.scatterplot('match_B_injection_size', 'match_B_PV_ctx', data = c_by_source, ax = ax[0], alpha = 0.5)\n",
    "sns.scatterplot('match_A_injection_size', 'match_A_PV_root', data = c_by_source, ax = ax[1])\n",
    "sns.scatterplot('match_B_injection_size', 'match_B_PV_root', data = c_by_source, ax = ax[1], alpha = 0.5)\n",
    "ax[0].set_xscale('log')\n",
    "ax[0].set_yscale('log')\n",
    "ax[1].set_xscale('log')\n",
    "ax[1].set_yscale('log')"
   ]
  },
  {
   "cell_type": "code",
   "execution_count": 17,
   "metadata": {},
   "outputs": [
    {
     "name": "stdout",
     "output_type": "stream",
     "text": [
      "868641659\n"
     ]
    }
   ],
   "source": [
    "unique_isids = np.unique(np.concatenate((alldat['image_series_id'].values, alldat['match_id'].values)))\n",
    "ip_dat = pd.DataFrame({'image_series_id': unique_isids})\n",
    "for isid in unique_isids:\n",
    "    try:\n",
    "        pv_root = mcc.get_experiment_structure_unionizes(isid, is_injection=False, structure_ids = [997],\n",
    "                                                                   hemisphere_ids = [3])\n",
    "        alldat.loc[alldat['image_series_id'] == isid, 'PV_root'] = pv_root[\n",
    "                'projection_volume'].values[0]\n",
    "        alldat.loc[alldat['match_id'] == isid, 'match_PV_root'] = pv_root[\n",
    "                'projection_volume'].values[0]\n",
    "        pv_ctx = mcc.get_experiment_structure_unionizes(isid, is_injection=False, structure_ids = [315],\n",
    "                                                                   hemisphere_ids = [3])\n",
    "        alldat.loc[alldat['image_series_id'] == isid, 'PV_ctx'] = pv_ctx[\n",
    "                'projection_volume'].values[0]\n",
    "        alldat.loc[alldat['match_id'] == isid, 'match_PV_ctx'] = pv_ctx[\n",
    "                'projection_volume'].values[0]\n",
    "    except:\n",
    "        print(isid)"
   ]
  },
  {
   "cell_type": "code",
   "execution_count": 19,
   "metadata": {},
   "outputs": [
    {
     "data": {
      "text/plain": [
       "<AxesSubplot:xlabel='td_injection_size', ylabel='PV_root'>"
      ]
     },
     "execution_count": 19,
     "metadata": {},
     "output_type": "execute_result"
    },
    {
     "data": {
      "image/png": "[encoded data removed]",
      "text/plain": [
       "<Figure size 432x288 with 1 Axes>"
      ]
     },
     "metadata": {
      "needs_background": "light"
     },
     "output_type": "display_data"
    }
   ],
   "source": [
    "fig, ax = plt.subplots()\n",
    "sns.regplot('td_injection_size', 'PV_ctx', data = alldat)\n",
    "sns.regplot('td_injection_size', 'PV_root', data = alldat)"
   ]
  },
  {
   "cell_type": "code",
   "execution_count": 20,
   "metadata": {},
   "outputs": [
    {
     "data": {
      "text/html": [
       "<div>\n",
       "<style scoped>\n",
       "    .dataframe tbody tr th:only-of-type {\n",
       "        vertical-align: middle;\n",
       "    }\n",
       "\n",
       "    .dataframe tbody tr th {\n",
       "        vertical-align: top;\n",
       "    }\n",
       "\n",
       "    .dataframe thead th {\n",
       "        text-align: right;\n",
       "    }\n",
       "</style>\n",
       "<table border=\"1\" class=\"dataframe\">\n",
       "  <thead>\n",
       "    <tr style=\"text-align: right;\">\n",
       "      <th></th>\n",
       "      <th>distance</th>\n",
       "      <th>exclusion_zone_overlap</th>\n",
       "      <th>fraction of match covered by td exclusion zone</th>\n",
       "      <th>fraction of match covered by td injection</th>\n",
       "      <th>image_series_id</th>\n",
       "      <th>injection_overlap</th>\n",
       "      <th>match_id</th>\n",
       "      <th>pearson_correlation</th>\n",
       "      <th>source</th>\n",
       "      <th>spearman_correlation</th>\n",
       "      <th>...</th>\n",
       "      <th>Julie call</th>\n",
       "      <th>PN_type_JH</th>\n",
       "      <th>JW_pass-fail</th>\n",
       "      <th>dice</th>\n",
       "      <th>include</th>\n",
       "      <th>CAV_percent_DMN</th>\n",
       "      <th>PV_root</th>\n",
       "      <th>match_PV_root</th>\n",
       "      <th>PV_ctx</th>\n",
       "      <th>match_PV_ctx</th>\n",
       "    </tr>\n",
       "  </thead>\n",
       "  <tbody>\n",
       "    <tr>\n",
       "      <th>1319</th>\n",
       "      <td>131.845400</td>\n",
       "      <td>0.250604</td>\n",
       "      <td>0.700805</td>\n",
       "      <td>0.160533</td>\n",
       "      <td>868641659</td>\n",
       "      <td>0.797123</td>\n",
       "      <td>112595376</td>\n",
       "      <td>0.904730</td>\n",
       "      <td>RSPv</td>\n",
       "      <td>0.235626</td>\n",
       "      <td>...</td>\n",
       "      <td>NaN</td>\n",
       "      <td>NaN</td>\n",
       "      <td>NaN</td>\n",
       "      <td>0.316008</td>\n",
       "      <td>yes</td>\n",
       "      <td>NaN</td>\n",
       "      <td>NaN</td>\n",
       "      <td>2.712604</td>\n",
       "      <td>NaN</td>\n",
       "      <td>1.134897</td>\n",
       "    </tr>\n",
       "    <tr>\n",
       "      <th>1320</th>\n",
       "      <td>810.902661</td>\n",
       "      <td>0.154036</td>\n",
       "      <td>0.135445</td>\n",
       "      <td>0.002920</td>\n",
       "      <td>868641659</td>\n",
       "      <td>0.017833</td>\n",
       "      <td>501484658</td>\n",
       "      <td>0.726230</td>\n",
       "      <td>RSPv</td>\n",
       "      <td>0.302617</td>\n",
       "      <td>...</td>\n",
       "      <td>NaN</td>\n",
       "      <td>NaN</td>\n",
       "      <td>NaN</td>\n",
       "      <td>0.005807</td>\n",
       "      <td>yes</td>\n",
       "      <td>NaN</td>\n",
       "      <td>NaN</td>\n",
       "      <td>1.899012</td>\n",
       "      <td>NaN</td>\n",
       "      <td>1.378071</td>\n",
       "    </tr>\n",
       "    <tr>\n",
       "      <th>1321</th>\n",
       "      <td>851.409781</td>\n",
       "      <td>0.147884</td>\n",
       "      <td>0.220043</td>\n",
       "      <td>0.010376</td>\n",
       "      <td>868641659</td>\n",
       "      <td>0.144362</td>\n",
       "      <td>592540591</td>\n",
       "      <td>0.727443</td>\n",
       "      <td>RSPv</td>\n",
       "      <td>0.273123</td>\n",
       "      <td>...</td>\n",
       "      <td>NaN</td>\n",
       "      <td>NaN</td>\n",
       "      <td>NaN</td>\n",
       "      <td>0.020634</td>\n",
       "      <td>yes</td>\n",
       "      <td>NaN</td>\n",
       "      <td>NaN</td>\n",
       "      <td>2.157377</td>\n",
       "      <td>NaN</td>\n",
       "      <td>1.270650</td>\n",
       "    </tr>\n",
       "  </tbody>\n",
       "</table>\n",
       "<p>3 rows × 37 columns</p>\n",
       "</div>"
      ],
      "text/plain": [
       "        distance  exclusion_zone_overlap  \\\n",
       "1319  131.845400                0.250604   \n",
       "1320  810.902661                0.154036   \n",
       "1321  851.409781                0.147884   \n",
       "\n",
       "      fraction of match covered by td exclusion zone  \\\n",
       "1319                                        0.700805   \n",
       "1320                                        0.135445   \n",
       "1321                                        0.220043   \n",
       "\n",
       "      fraction of match covered by td injection  image_series_id  \\\n",
       "1319                                   0.160533        868641659   \n",
       "1320                                   0.002920        868641659   \n",
       "1321                                   0.010376        868641659   \n",
       "\n",
       "      injection_overlap   match_id  pearson_correlation source  \\\n",
       "1319           0.797123  112595376             0.904730   RSPv   \n",
       "1320           0.017833  501484658             0.726230   RSPv   \n",
       "1321           0.144362  592540591             0.727443   RSPv   \n",
       "\n",
       "      spearman_correlation  ... Julie call  PN_type_JH  JW_pass-fail  \\\n",
       "1319              0.235626  ...        NaN         NaN           NaN   \n",
       "1320              0.302617  ...        NaN         NaN           NaN   \n",
       "1321              0.273123  ...        NaN         NaN           NaN   \n",
       "\n",
       "          dice  include CAV_percent_DMN  PV_root  match_PV_root PV_ctx  \\\n",
       "1319  0.316008      yes             NaN      NaN       2.712604    NaN   \n",
       "1320  0.005807      yes             NaN      NaN       1.899012    NaN   \n",
       "1321  0.020634      yes             NaN      NaN       2.157377    NaN   \n",
       "\n",
       "      match_PV_ctx  \n",
       "1319      1.134897  \n",
       "1320      1.378071  \n",
       "1321      1.270650  \n",
       "\n",
       "[3 rows x 37 columns]"
      ]
     },
     "execution_count": 20,
     "metadata": {},
     "output_type": "execute_result"
    }
   ],
   "source": [
    "alldat[alldat['PV_ctx'].isnull()]"
   ]
  },
  {
   "cell_type": "code",
   "execution_count": 21,
   "metadata": {},
   "outputs": [],
   "source": [
    "alternative_unionize_file = os.path.join(path, 'data_files', 'alternative_unionizes', 'experiment_868641659',\n",
    "                                        'output.json')\n",
    "with open(alternative_unionize_file, 'r') as jsondat:\n",
    "    nonreleased_dat = json.load(jsondat)\n",
    "nonreleased_dat = pd.DataFrame(nonreleased_dat)"
   ]
  },
  {
   "cell_type": "code",
   "execution_count": 23,
   "metadata": {},
   "outputs": [],
   "source": [
    "alldat.loc[alldat['image_series_id'] == 868641659, 'PV_ctx'] = nonreleased_dat[\n",
    "    (nonreleased_dat['is_injection'] == False) &\n",
    "    (nonreleased_dat['structure_id'] == 315) &\n",
    "    (nonreleased_dat['hemisphere_id'] == 3)]['projection_volume_above_threshold'].unique()[0]\n",
    "alldat.loc[alldat['image_series_id'] == 868641659, 'PV_root'] = nonreleased_dat[\n",
    "    (nonreleased_dat['is_injection'] == False) &\n",
    "    (nonreleased_dat['structure_id'] == 997) &\n",
    "    (nonreleased_dat['hemisphere_id'] == 3)]['projection_volume_above_threshold'].unique()[0]"
   ]
  },
  {
   "cell_type": "code",
   "execution_count": 24,
   "metadata": {},
   "outputs": [
    {
     "data": {
      "text/html": [
       "<div>\n",
       "<style scoped>\n",
       "    .dataframe tbody tr th:only-of-type {\n",
       "        vertical-align: middle;\n",
       "    }\n",
       "\n",
       "    .dataframe tbody tr th {\n",
       "        vertical-align: top;\n",
       "    }\n",
       "\n",
       "    .dataframe thead th {\n",
       "        text-align: right;\n",
       "    }\n",
       "</style>\n",
       "<table border=\"1\" class=\"dataframe\">\n",
       "  <thead>\n",
       "    <tr style=\"text-align: right;\">\n",
       "      <th></th>\n",
       "      <th>distance</th>\n",
       "      <th>exclusion_zone_overlap</th>\n",
       "      <th>fraction of match covered by td exclusion zone</th>\n",
       "      <th>fraction of match covered by td injection</th>\n",
       "      <th>image_series_id</th>\n",
       "      <th>injection_overlap</th>\n",
       "      <th>match_id</th>\n",
       "      <th>pearson_correlation</th>\n",
       "      <th>source</th>\n",
       "      <th>spearman_correlation</th>\n",
       "      <th>...</th>\n",
       "      <th>Julie call</th>\n",
       "      <th>PN_type_JH</th>\n",
       "      <th>JW_pass-fail</th>\n",
       "      <th>dice</th>\n",
       "      <th>include</th>\n",
       "      <th>CAV_percent_DMN</th>\n",
       "      <th>PV_root</th>\n",
       "      <th>match_PV_root</th>\n",
       "      <th>PV_ctx</th>\n",
       "      <th>match_PV_ctx</th>\n",
       "    </tr>\n",
       "  </thead>\n",
       "  <tbody>\n",
       "  </tbody>\n",
       "</table>\n",
       "<p>0 rows × 37 columns</p>\n",
       "</div>"
      ],
      "text/plain": [
       "Empty DataFrame\n",
       "Columns: [distance, exclusion_zone_overlap, fraction of match covered by td exclusion zone, fraction of match covered by td injection, image_series_id, injection_overlap, match_id, pearson_correlation, source, spearman_correlation, td_secondary_source, td_percent_secondary, td_injection_size, td_primary_source, td_percent_primary, match_secondary_source, match_percent_secondary, match_injection_size, match_primary_source, match_percent_primary, transgenic_line, Virus, same_primary, same_secondary, <60% primary, same secondary for <60% primary, injection_size_ratio, Julie call, PN_type_JH, JW_pass-fail, dice, include, CAV_percent_DMN, PV_root, match_PV_root, PV_ctx, match_PV_ctx]\n",
       "Index: []\n",
       "\n",
       "[0 rows x 37 columns]"
      ]
     },
     "execution_count": 24,
     "metadata": {},
     "output_type": "execute_result"
    }
   ],
   "source": [
    "alldat[alldat['PV_ctx'].isnull()]"
   ]
  },
  {
   "cell_type": "code",
   "execution_count": 92,
   "metadata": {},
   "outputs": [
    {
     "data": {
      "image/png": "[encoded data removed]",
      "text/plain": [
       "<Figure size 360x180 with 2 Axes>"
      ]
     },
     "metadata": {
      "needs_background": "light"
     },
     "output_type": "display_data"
    }
   ],
   "source": [
    "fig, ax = plt.subplots(1, 2, figsize = (5, 2.5))\n",
    "sns.scatterplot('match_A_injection_size', 'match_A_PV_root', \n",
    "            data = c_by_source, ax = ax[0], \n",
    "            ci = False, \n",
    "            color = 'k', marker = '.', \n",
    "            edgecolors = 'k',\n",
    "            linewidth = 0.5,\n",
    "            s = 40,\n",
    "            rasterized = True,\n",
    "           label = 'larger WT injection')\n",
    "sns.scatterplot('match_B_injection_size', 'match_B_PV_root', \n",
    "            data = c_by_source, ax = ax[0], \n",
    "            ci = False, \n",
    "            color = 'gray', marker = '.', \n",
    "            edgecolors = 'k',\n",
    "            linewidth = 0.5,\n",
    "            s = 40,\n",
    "            alpha = 0.5,\n",
    "            rasterized = True,\n",
    "           label = 'smaller WT injection')\n",
    "sns.scatterplot('td_injection_size', 'PV_root', \n",
    "            data = alldat[alldat['image_series_id'] != 868641659], ax = ax[0], \n",
    "            ci = False, \n",
    "            color = 'r', marker = '.', \n",
    "            edgecolors = 'k',\n",
    "            linewidth = 0.5,\n",
    "            s = 40,\n",
    "            alpha = 0.5,\n",
    "            rasterized = True,\n",
    "           label = 'TD injections')\n",
    "ax[0].tick_params(top = False, right = False, bottom=True, left=True, pad=1)\n",
    "ax[0].set_ylabel('Projection Volume (Whole Brain)', fontsize = 7)\n",
    "ax[0].set_xlabel(r'Injection Volume', fontsize = 7)\n",
    "ax[0].set_xscale('log')\n",
    "ax[0].set_yscale('log')\n",
    "ax[0].set_xlim([0.0001, 10])\n",
    "ax[0].set_ylim([0.001, 100])\n",
    "ax[0].legend_.remove()\n",
    "\n",
    "sns.scatterplot('match_A_injection_size', 'match_A_PV_ctx', \n",
    "            data = c_by_source, ax = ax[1], \n",
    "            ci = False, \n",
    "            color = 'k', marker = '.', \n",
    "                        edgecolors = 'k',\n",
    "            linewidth = 0.5,\n",
    "            s = 40,\n",
    "            rasterized = True,\n",
    "           label = 'larger WT injection')\n",
    "sns.scatterplot('match_B_injection_size', 'match_B_PV_ctx', \n",
    "            data = c_by_source, ax = ax[1], \n",
    "            ci = False, \n",
    "            color = 'gray', marker = '.', \n",
    "                        edgecolors = 'k',\n",
    "            linewidth = 0.5,\n",
    "            s = 40,\n",
    "            alpha = 0.5,\n",
    "            rasterized = True,\n",
    "           label = 'smaller WT injection')\n",
    "sns.scatterplot('td_injection_size', 'PV_ctx', \n",
    "            data = alldat[alldat['image_series_id'] != 868641659], ax = ax[1], \n",
    "            ci = False, \n",
    "            color = 'r', marker = '.', \n",
    "                        edgecolors = 'k',\n",
    "            linewidth = 0.5,\n",
    "            s = 40,\n",
    "            alpha = 0.5,\n",
    "            rasterized = True,\n",
    "           label = 'TD injections')\n",
    "ax[1].tick_params(top = False, right = False, bottom=True, left=True, pad=1)\n",
    "ax[1].set_ylabel('Projection Volume (Isocortex)', fontsize = 7)\n",
    "ax[1].set_xlabel(r'Injection Volume', fontsize = 7)\n",
    "ax[1].set_xscale('log')\n",
    "ax[1].set_yscale('log')\n",
    "ax[1].set_xlim([0.0001, 10])\n",
    "ax[1].set_ylim([0.001, 100])\n",
    "ax[1].legend_.remove()\n",
    "\n",
    "sns.despine()\n",
    "plt.tight_layout()\n",
    "#plt.savefig(os.path.join(path, 'PV_by_injection_volume.pdf'), \n",
    "#            format='pdf', transparent = True, dpi=300)"
   ]
  },
  {
   "cell_type": "code",
   "execution_count": 90,
   "metadata": {},
   "outputs": [
    {
     "name": "stdout",
     "output_type": "stream",
     "text": [
      "SpearmanrResult(correlation=0.6882868529466037, pvalue=3.473083783744528e-89)\n",
      "SpearmanrResult(correlation=0.592486862280425, pvalue=1.1164430466295746e-60)\n",
      "SpearmanrResult(correlation=0.8999577636051141, pvalue=1.0254974923729935e-212)\n"
     ]
    }
   ],
   "source": [
    "print(stats.spearmanr(c_by_source['match_A_injection_size'].values, c_by_source['match_A_PV_root'].values))\n",
    "print(stats.spearmanr(c_by_source['match_B_injection_size'].values, c_by_source['match_B_PV_root'].values))\n",
    "print(stats.spearmanr(alldat['td_injection_size'].values, alldat['PV_root'].values))"
   ]
  },
  {
   "cell_type": "code",
   "execution_count": 91,
   "metadata": {},
   "outputs": [
    {
     "name": "stdout",
     "output_type": "stream",
     "text": [
      "SpearmanrResult(correlation=0.7416674106752107, pvalue=1.7405418532511893e-110)\n",
      "SpearmanrResult(correlation=0.6580661465752657, pvalue=4.646649177776024e-79)\n",
      "SpearmanrResult(correlation=0.8694861093449223, pvalue=4.939785101551329e-181)\n"
     ]
    }
   ],
   "source": [
    "print(stats.spearmanr(c_by_source['match_A_injection_size'].values, c_by_source['match_A_PV_ctx'].values))\n",
    "print(stats.spearmanr(c_by_source['match_B_injection_size'].values, c_by_source['match_B_PV_ctx'].values))\n",
    "print(stats.spearmanr(alldat['td_injection_size'].values, alldat['PV_ctx'].values))"
   ]
  },
  {
   "cell_type": "code",
   "execution_count": null,
   "metadata": {},
   "outputs": [],
   "source": []
  }
 ],
 "metadata": {
  "kernelspec": {
   "display_name": "Python 3",
   "language": "python",
   "name": "python3"
  },
  "language_info": {
   "codemirror_mode": {
    "name": "ipython",
    "version": 3
   },
   "file_extension": ".py",
   "mimetype": "text/x-python",
   "name": "python",
   "nbconvert_exporter": "python",
   "pygments_lexer": "ipython3",
   "version": "3.7.6"
  }
 },
 "nbformat": 4,
 "nbformat_minor": 1
}
