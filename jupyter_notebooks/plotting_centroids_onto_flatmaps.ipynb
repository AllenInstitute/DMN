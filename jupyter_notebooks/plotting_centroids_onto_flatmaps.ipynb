{
 "cells": [
  {
   "cell_type": "code",
   "execution_count": 1,
   "metadata": {},
   "outputs": [],
   "source": [
    "import numpy as np\n",
    "import pandas as pd\n",
    "from allensdk.core.mouse_connectivity_cache import MouseConnectivityCache\n",
    "import h5py\n",
    "from PIL import Image, ImageDraw\n",
    "import nrrd\n",
    "import os\n",
    "\n",
    "from matplotlib import pyplot as plt\n",
    "%matplotlib notebook"
   ]
  },
  {
   "cell_type": "code",
   "execution_count": 2,
   "metadata": {},
   "outputs": [],
   "source": [
    "import platform\n",
    "if platform.system() == 'Windows':\n",
    "    basepath = r'C:\\Users\\jenniferwh\\Dropbox (Allen Institute)\\Mesoscale Connectome Papers in Progress/2019 DMN'\n",
    "elif platform.system() == 'Darwin':\n",
    "    basepath = r'/Users/jenniferwh/Dropbox (Allen Institute)/Mesoscale Connectome Papers in Progress/2019 DMN'\n",
    "savepath = os.path.join(basepath, 'data_files')"
   ]
  },
  {
   "cell_type": "markdown",
   "metadata": {},
   "source": [
    "# Load reference space"
   ]
  },
  {
   "cell_type": "code",
   "execution_count": 3,
   "metadata": {},
   "outputs": [],
   "source": [
    "mcc = MouseConnectivityCache(manifest_file='../connectivity/mouse_connectivity_manifest.json',\n",
    "                             resolution=10)\n",
    "rsp = mcc.get_reference_space()\n",
    "rsp.remove_unassigned();"
   ]
  },
  {
   "cell_type": "code",
   "execution_count": 4,
   "metadata": {},
   "outputs": [],
   "source": [
    "name_map = rsp.structure_tree.get_name_map()"
   ]
  },
  {
   "cell_type": "code",
   "execution_count": 5,
   "metadata": {},
   "outputs": [],
   "source": [
    "avg,meta = mcc.get_template_volume()"
   ]
  },
  {
   "cell_type": "code",
   "execution_count": 6,
   "metadata": {},
   "outputs": [
    {
     "data": {
      "text/plain": [
       "(1320, 800, 1140)"
      ]
     },
     "execution_count": 6,
     "metadata": {},
     "output_type": "execute_result"
    }
   ],
   "source": [
    "avg.shape"
   ]
  },
  {
   "cell_type": "markdown",
   "metadata": {},
   "source": [
    "# Load data"
   ]
  },
  {
   "cell_type": "code",
   "execution_count": 7,
   "metadata": {},
   "outputs": [],
   "source": [
    "structure_tree = mcc.get_structure_tree()\n",
    "iso = structure_tree.get_structures_by_acronym(['Isocortex'])[0]\n",
    "ctx_exps = pd.DataFrame(mcc.get_experiments(cre=False, \n",
    "                                       injection_structure_ids=[iso['id']]))"
   ]
  },
  {
   "cell_type": "code",
   "execution_count": 8,
   "metadata": {},
   "outputs": [
    {
     "name": "stdout",
     "output_type": "stream",
     "text": [
      "42\n"
     ]
    }
   ],
   "source": [
    "cre_exps = pd.DataFrame(mcc.get_experiments(cre=['Emx1-IRES-Cre','Rbp4-Cre_KL100'],\n",
    "                                      injection_structure_ids = [iso['id']]))\n",
    "ctx_exps = pd.concat([ctx_exps, cre_exps])\n",
    "Fig4_expts = [126861679, 146593590, 139426984, 100148503, 112229103, 307295727, 112595376,\n",
    "              112423392, 112306316, 157711748, 158435116, 307593747, 100141219, 100141599,\n",
    "              112424813, 478376197, 593018150, 526783054, 518742338, 125833030, 480994108,\n",
    "              287769286, 478491090, 266250195, 584895127, 646525997, 576341623, 479755622,\n",
    "              571100135, 575782182, 524667618, 478376911, 156741826, 159753308, 121510421,\n",
    "              646525156, 479673887, 482580380, 496576666, 263106036, 562674923, 167902586]\n",
    "ctx_exps = ctx_exps[ctx_exps['id'].isin(Fig4_expts)]\n",
    "print(len(ctx_exps))"
   ]
  },
  {
   "cell_type": "code",
   "execution_count": 9,
   "metadata": {},
   "outputs": [
    {
     "name": "stdout",
     "output_type": "stream",
     "text": [
      "42\n"
     ]
    }
   ],
   "source": [
    "subset = ctx_exps[['id', 'injection_x','injection_y','injection_z']]\n",
    "print(len(subset))"
   ]
  },
  {
   "cell_type": "code",
   "execution_count": 10,
   "metadata": {},
   "outputs": [],
   "source": [
    "# Put all injections in left hemisphere but keep track of where they started\n",
    "lr = []\n",
    "zcoords = []\n",
    "for ix,row in subset.iterrows():\n",
    "    if row['injection_z'] > 5700:\n",
    "        lr.append('right')\n",
    "        zcoords.append(row['injection_z'] - 5700)\n",
    "    else:\n",
    "        lr.append('left')\n",
    "        zcoords.append(row['injection_z'])"
   ]
  },
  {
   "cell_type": "code",
   "execution_count": 11,
   "metadata": {},
   "outputs": [
    {
     "name": "stderr",
     "output_type": "stream",
     "text": [
      "/Users/jenniferwh/Dropbox (Allen Institute)/Mesoscale Connectome Papers in Progress/2019 DMN/_new_figures/jupyter_notebooks/env/lib/python3.7/site-packages/ipykernel_launcher.py:1: SettingWithCopyWarning: \n",
      "A value is trying to be set on a copy of a slice from a DataFrame.\n",
      "Try using .loc[row_indexer,col_indexer] = value instead\n",
      "\n",
      "See the caveats in the documentation: http://pandas.pydata.org/pandas-docs/stable/user_guide/indexing.html#returning-a-view-versus-a-copy\n",
      "  \"\"\"Entry point for launching an IPython kernel.\n",
      "/Users/jenniferwh/Dropbox (Allen Institute)/Mesoscale Connectome Papers in Progress/2019 DMN/_new_figures/jupyter_notebooks/env/lib/python3.7/site-packages/ipykernel_launcher.py:2: SettingWithCopyWarning: \n",
      "A value is trying to be set on a copy of a slice from a DataFrame.\n",
      "Try using .loc[row_indexer,col_indexer] = value instead\n",
      "\n",
      "See the caveats in the documentation: http://pandas.pydata.org/pandas-docs/stable/user_guide/indexing.html#returning-a-view-versus-a-copy\n",
      "  \n"
     ]
    }
   ],
   "source": [
    "subset['injection_z'] = zcoords\n",
    "subset['hemisphere'] = lr"
   ]
  },
  {
   "cell_type": "markdown",
   "metadata": {},
   "source": [
    "# Get cortical map lookup tables"
   ]
  },
  {
   "cell_type": "code",
   "execution_count": 12,
   "metadata": {},
   "outputs": [
    {
     "name": "stderr",
     "output_type": "stream",
     "text": [
      "/Users/jenniferwh/Dropbox (Allen Institute)/Mesoscale Connectome Papers in Progress/2019 DMN/_new_figures/jupyter_notebooks/env/lib/python3.7/site-packages/ipykernel_launcher.py:1: H5pyDeprecationWarning: The default file mode will change to 'r' (read-only) in h5py 3.0. To suppress this warning, pass the mode you need to h5py.File(), or set the global default h5.get_config().default_file_mode, or set the environment variable H5PY_DEFAULT_READONLY=1. Available modes are: 'r', 'r+', 'w', 'w-'/'x', 'a'. See the docs for details.\n",
      "  \"\"\"Entry point for launching an IPython kernel.\n"
     ]
    }
   ],
   "source": [
    "with h5py.File('surface_paths_10.h5') as f:\n",
    "    path_lookup = f['volume lookup'][()]\n",
    "    paths = f['paths'][()]"
   ]
  },
  {
   "cell_type": "code",
   "execution_count": 13,
   "metadata": {},
   "outputs": [
    {
     "name": "stderr",
     "output_type": "stream",
     "text": [
      "/Users/jenniferwh/Dropbox (Allen Institute)/Mesoscale Connectome Papers in Progress/2019 DMN/_new_figures/jupyter_notebooks/env/lib/python3.7/site-packages/ipykernel_launcher.py:1: H5pyDeprecationWarning: The default file mode will change to 'r' (read-only) in h5py 3.0. To suppress this warning, pass the mode you need to h5py.File(), or set the global default h5.get_config().default_file_mode, or set the environment variable H5PY_DEFAULT_READONLY=1. Available modes are: 'r', 'r+', 'w', 'w-'/'x', 'a'. See the docs for details.\n",
      "  \"\"\"Entry point for launching an IPython kernel.\n"
     ]
    }
   ],
   "source": [
    "with h5py.File('top.h5') as f:\n",
    "    top_lookup = f['view lookup'][()]\n",
    "    top_size = f.attrs['view size']"
   ]
  },
  {
   "cell_type": "code",
   "execution_count": 14,
   "metadata": {},
   "outputs": [],
   "source": [
    "# This gives us the path indices that point to the side\n",
    "path_indices = path_lookup.flat[top_lookup[:,1]]\n",
    "\n",
    "# Now we can subsample the paths\n",
    "top_paths = paths[path_indices,:]"
   ]
  },
  {
   "cell_type": "code",
   "execution_count": 28,
   "metadata": {},
   "outputs": [
    {
     "name": "stderr",
     "output_type": "stream",
     "text": [
      "/Users/jenniferwh/Dropbox (Allen Institute)/Mesoscale Connectome Papers in Progress/2019 DMN/_new_figures/jupyter_notebooks/env/lib/python3.7/site-packages/ipykernel_launcher.py:2: H5pyDeprecationWarning: The default file mode will change to 'r' (read-only) in h5py 3.0. To suppress this warning, pass the mode you need to h5py.File(), or set the global default h5.get_config().default_file_mode, or set the environment variable H5PY_DEFAULT_READONLY=1. Available modes are: 'r', 'r+', 'w', 'w-'/'x', 'a'. See the docs for details.\n",
      "  \n"
     ]
    }
   ],
   "source": [
    "# Flat map lookup table\n",
    "flatmap_lookup = h5py.File('flatmap_lookup.h5')\n",
    "flat_paths = flatmap_lookup['flat_paths'][()]\n",
    "flat_map = flatmap_lookup['flat_map'][()]\n",
    "fsize = flatmap_lookup.attrs['size']\n",
    "flatmap_lookup.close()"
   ]
  },
  {
   "cell_type": "code",
   "execution_count": 29,
   "metadata": {},
   "outputs": [],
   "source": [
    "path_indeces = path_lookup.flat[flat_paths]\n",
    "flat_paths = paths[path_indeces,:]"
   ]
  },
  {
   "cell_type": "code",
   "execution_count": 15,
   "metadata": {},
   "outputs": [],
   "source": [
    "def get_top_centroid_coord(x,y,z,volume_shape,flat_shape, radius):\n",
    "    point_blank = np.zeros(volume_shape,dtype=np.uint8)\n",
    "    flat_blank = np.zeros(flat_shape,dtype=np.uint8)    \n",
    "    point_blank[x-radius:x+radius,y-radius:y+radius,z-radius:z+radius] = 1\n",
    "#    point_blank = np.flip(point_blank,axis=2)\n",
    "    \n",
    "    for streamline in np.arange(top_paths.shape[0]):\n",
    "        flat_blank.flat[top_lookup[streamline,0]] = \\\n",
    "                max(point_blank.flat[top_paths[streamline,:]])\n",
    "    \n",
    "    return np.round(np.mean(np.where(flat_blank),axis=1)).astype(int)"
   ]
  },
  {
   "cell_type": "code",
   "execution_count": 32,
   "metadata": {},
   "outputs": [],
   "source": [
    "def get_flat_centroid_coord(x,y,z,volume_shape,flat_shape, radius):\n",
    "    point_blank = np.zeros(volume_shape,dtype=np.uint8)\n",
    "    flat_blank = np.zeros(flat_shape,dtype=np.uint8)\n",
    "    \n",
    "    point_blank[x-radius:x+radius,y-radius:y+radius,z-radius:z+radius] = 1\n",
    "    point_blank = np.flip(point_blank,axis=2)\n",
    "    \n",
    "    for streamline in np.arange(flat_paths.shape[0]):\n",
    "        flat_blank.flat[flat_map[streamline]] = max(point_blank.flat[flat_paths[streamline,:]])\n",
    "    \n",
    "    return np.round(np.mean(np.where(flat_blank),axis=1)).astype(int)"
   ]
  },
  {
   "cell_type": "code",
   "execution_count": 17,
   "metadata": {},
   "outputs": [],
   "source": [
    "(x,y,z) = (subset.iloc[1,1:4]/10).astype(int)"
   ]
  },
  {
   "cell_type": "code",
   "execution_count": 18,
   "metadata": {},
   "outputs": [
    {
     "data": {
      "text/plain": [
       "(527, 165, 48)"
      ]
     },
     "execution_count": 18,
     "metadata": {},
     "output_type": "execute_result"
    }
   ],
   "source": [
    "x,y,z"
   ]
  },
  {
   "cell_type": "code",
   "execution_count": 19,
   "metadata": {},
   "outputs": [
    {
     "name": "stderr",
     "output_type": "stream",
     "text": [
      "/Users/jenniferwh/Dropbox (Allen Institute)/Mesoscale Connectome Papers in Progress/2019 DMN/_new_figures/jupyter_notebooks/env/lib/python3.7/site-packages/numpy/core/fromnumeric.py:3257: RuntimeWarning: Mean of empty slice.\n",
      "  out=out, **kwargs)\n",
      "/Users/jenniferwh/Dropbox (Allen Institute)/Mesoscale Connectome Papers in Progress/2019 DMN/_new_figures/jupyter_notebooks/env/lib/python3.7/site-packages/numpy/core/_methods.py:154: RuntimeWarning: invalid value encountered in true_divide\n",
      "  ret, rcount, out=ret, casting='unsafe', subok=False)\n"
     ]
    }
   ],
   "source": [
    "top_centroid = get_top_centroid_coord(x,y,z,avg.shape,top_size,1)\n",
    "if top_centroid[0] < 0:\n",
    "    j = 1\n",
    "    while top_centroid[0] < 0:\n",
    "        j += 1\n",
    "        if j > 10:\n",
    "            top_centroid = get_top_centroid_coord(x,y,z,avg.shape,top_size, j*10)\n",
    "        else:\n",
    "            top_centroid = get_top_centroid_coord(x,y,z,avg.shape,top_size, j)"
   ]
  },
  {
   "cell_type": "code",
   "execution_count": 20,
   "metadata": {},
   "outputs": [
    {
     "data": {
      "text/plain": [
       "array([ 366, 1023])"
      ]
     },
     "execution_count": 20,
     "metadata": {},
     "output_type": "execute_result"
    }
   ],
   "source": [
    "top_centroid"
   ]
  },
  {
   "cell_type": "code",
   "execution_count": 21,
   "metadata": {},
   "outputs": [],
   "source": [
    "flatpath = os.path.join(basepath, '_new_figures', 'Figure_4')\n",
    "import imageio\n",
    "imb = imageio.imread(os.path.join(flatpath, 'DMN_cortical_projection_boundaries.png'))"
   ]
  },
  {
   "cell_type": "code",
   "execution_count": 22,
   "metadata": {},
   "outputs": [
    {
     "data": {
      "text/plain": [
       "(1320, 1140, 4)"
      ]
     },
     "execution_count": 22,
     "metadata": {},
     "output_type": "execute_result"
    }
   ],
   "source": [
    "imb.shape"
   ]
  },
  {
   "cell_type": "code",
   "execution_count": 25,
   "metadata": {},
   "outputs": [
    {
     "data": {
      "application/javascript": [
       "/* Put everything inside the global mpl namespace */\n",
       "window.mpl = {};\n",
       "\n",
       "\n",
       "mpl.get_websocket_type = function() {\n",
       "    if (typeof(WebSocket) !== 'undefined') {\n",
       "        return WebSocket;\n",
       "    } else if (typeof(MozWebSocket) !== 'undefined') {\n",
       "        return MozWebSocket;\n",
       "    } else {\n",
       "        alert('Your browser does not have WebSocket support. ' +\n",
       "              'Please try Chrome, Safari or Firefox ≥ 6. ' +\n",
       "              'Firefox 4 and 5 are also supported but you ' +\n",
       "              'have to enable WebSockets in about:config.');\n",
       "    };\n",
       "}\n",
       "\n",
       "mpl.figure = function(figure_id, websocket, ondownload, parent_element) {\n",
       "    this.id = figure_id;\n",
       "\n",
       "    this.ws = websocket;\n",
       "\n",
       "    this.supports_binary = (this.ws.binaryType != undefined);\n",
       "\n",
       "    if (!this.supports_binary) {\n",
       "        var warnings = document.getElementById(\"mpl-warnings\");\n",
       "        if (warnings) {\n",
       "            warnings.style.display = 'block';\n",
       "            warnings.textContent = (\n",
       "                \"This browser does not support binary websocket messages. \" +\n",
       "                    \"Performance may be slow.\");\n",
       "        }\n",
       "    }\n",
       "\n",
       "    this.imageObj = new Image();\n",
       "\n",
       "    this.context = undefined;\n",
       "    this.message = undefined;\n",
       "    this.canvas = undefined;\n",
       "    this.rubberband_canvas = undefined;\n",
       "    this.rubberband_context = undefined;\n",
       "    this.format_dropdown = undefined;\n",
       "\n",
       "    this.image_mode = 'full';\n",
       "\n",
       "    this.root = $('<div/>');\n",
       "    this._root_extra_style(this.root)\n",
       "    this.root.attr('style', 'display: inline-block');\n",
       "\n",
       "    $(parent_element).append(this.root);\n",
       "\n",
       "    this._init_header(this);\n",
       "    this._init_canvas(this);\n",
       "    this._init_toolbar(this);\n",
       "\n",
       "    var fig = this;\n",
       "\n",
       "    this.waiting = false;\n",
       "\n",
       "    this.ws.onopen =  function () {\n",
       "            fig.send_message(\"supports_binary\", {value: fig.supports_binary});\n",
       "            fig.send_message(\"send_image_mode\", {});\n",
       "            if (mpl.ratio != 1) {\n",
       "                fig.send_message(\"set_dpi_ratio\", {'dpi_ratio': mpl.ratio});\n",
       "            }\n",
       "            fig.send_message(\"refresh\", {});\n",
       "        }\n",
       "\n",
       "    this.imageObj.onload = function() {\n",
       "            if (fig.image_mode == 'full') {\n",
       "                // Full images could contain transparency (where diff images\n",
       "                // almost always do), so we need to clear the canvas so that\n",
       "                // there is no ghosting.\n",
       "                fig.context.clearRect(0, 0, fig.canvas.width, fig.canvas.height);\n",
       "            }\n",
       "            fig.context.drawImage(fig.imageObj, 0, 0);\n",
       "        };\n",
       "\n",
       "    this.imageObj.onunload = function() {\n",
       "        fig.ws.close();\n",
       "    }\n",
       "\n",
       "    this.ws.onmessage = this._make_on_message_function(this);\n",
       "\n",
       "    this.ondownload = ondownload;\n",
       "}\n",
       "\n",
       "mpl.figure.prototype._init_header = function() {\n",
       "    var titlebar = $(\n",
       "        '<div class=\"ui-dialog-titlebar ui-widget-header ui-corner-all ' +\n",
       "        'ui-helper-clearfix\"/>');\n",
       "    var titletext = $(\n",
       "        '<div class=\"ui-dialog-title\" style=\"width: 100%; ' +\n",
       "        'text-align: center; padding: 3px;\"/>');\n",
       "    titlebar.append(titletext)\n",
       "    this.root.append(titlebar);\n",
       "    this.header = titletext[0];\n",
       "}\n",
       "\n",
       "\n",
       "\n",
       "mpl.figure.prototype._canvas_extra_style = function(canvas_div) {\n",
       "\n",
       "}\n",
       "\n",
       "\n",
       "mpl.figure.prototype._root_extra_style = function(canvas_div) {\n",
       "\n",
       "}\n",
       "\n",
       "mpl.figure.prototype._init_canvas = function() {\n",
       "    var fig = this;\n",
       "\n",
       "    var canvas_div = $('<div/>');\n",
       "\n",
       "    canvas_div.attr('style', 'position: relative; clear: both; outline: 0');\n",
       "\n",
       "    function canvas_keyboard_event(event) {\n",
       "        return fig.key_event(event, event['data']);\n",
       "    }\n",
       "\n",
       "    canvas_div.keydown('key_press', canvas_keyboard_event);\n",
       "    canvas_div.keyup('key_release', canvas_keyboard_event);\n",
       "    this.canvas_div = canvas_div\n",
       "    this._canvas_extra_style(canvas_div)\n",
       "    this.root.append(canvas_div);\n",
       "\n",
       "    var canvas = $('<canvas/>');\n",
       "    canvas.addClass('mpl-canvas');\n",
       "    canvas.attr('style', \"left: 0; top: 0; z-index: 0; outline: 0\")\n",
       "\n",
       "    this.canvas = canvas[0];\n",
       "    this.context = canvas[0].getContext(\"2d\");\n",
       "\n",
       "    var backingStore = this.context.backingStorePixelRatio ||\n",
       "\tthis.context.webkitBackingStorePixelRatio ||\n",
       "\tthis.context.mozBackingStorePixelRatio ||\n",
       "\tthis.context.msBackingStorePixelRatio ||\n",
       "\tthis.context.oBackingStorePixelRatio ||\n",
       "\tthis.context.backingStorePixelRatio || 1;\n",
       "\n",
       "    mpl.ratio = (window.devicePixelRatio || 1) / backingStore;\n",
       "\n",
       "    var rubberband = $('<canvas/>');\n",
       "    rubberband.attr('style', \"position: absolute; left: 0; top: 0; z-index: 1;\")\n",
       "\n",
       "    var pass_mouse_events = true;\n",
       "\n",
       "    canvas_div.resizable({\n",
       "        start: function(event, ui) {\n",
       "            pass_mouse_events = false;\n",
       "        },\n",
       "        resize: function(event, ui) {\n",
       "            fig.request_resize(ui.size.width, ui.size.height);\n",
       "        },\n",
       "        stop: function(event, ui) {\n",
       "            pass_mouse_events = true;\n",
       "            fig.request_resize(ui.size.width, ui.size.height);\n",
       "        },\n",
       "    });\n",
       "\n",
       "    function mouse_event_fn(event) {\n",
       "        if (pass_mouse_events)\n",
       "            return fig.mouse_event(event, event['data']);\n",
       "    }\n",
       "\n",
       "    rubberband.mousedown('button_press', mouse_event_fn);\n",
       "    rubberband.mouseup('button_release', mouse_event_fn);\n",
       "    // Throttle sequential mouse events to 1 every 20ms.\n",
       "    rubberband.mousemove('motion_notify', mouse_event_fn);\n",
       "\n",
       "    rubberband.mouseenter('figure_enter', mouse_event_fn);\n",
       "    rubberband.mouseleave('figure_leave', mouse_event_fn);\n",
       "\n",
       "    canvas_div.on(\"wheel\", function (event) {\n",
       "        event = event.originalEvent;\n",
       "        event['data'] = 'scroll'\n",
       "        if (event.deltaY < 0) {\n",
       "            event.step = 1;\n",
       "        } else {\n",
       "            event.step = -1;\n",
       "        }\n",
       "        mouse_event_fn(event);\n",
       "    });\n",
       "\n",
       "    canvas_div.append(canvas);\n",
       "    canvas_div.append(rubberband);\n",
       "\n",
       "    this.rubberband = rubberband;\n",
       "    this.rubberband_canvas = rubberband[0];\n",
       "    this.rubberband_context = rubberband[0].getContext(\"2d\");\n",
       "    this.rubberband_context.strokeStyle = \"#000000\";\n",
       "\n",
       "    this._resize_canvas = function(width, height) {\n",
       "        // Keep the size of the canvas, canvas container, and rubber band\n",
       "        // canvas in synch.\n",
       "        canvas_div.css('width', width)\n",
       "        canvas_div.css('height', height)\n",
       "\n",
       "        canvas.attr('width', width * mpl.ratio);\n",
       "        canvas.attr('height', height * mpl.ratio);\n",
       "        canvas.attr('style', 'width: ' + width + 'px; height: ' + height + 'px;');\n",
       "\n",
       "        rubberband.attr('width', width);\n",
       "        rubberband.attr('height', height);\n",
       "    }\n",
       "\n",
       "    // Set the figure to an initial 600x600px, this will subsequently be updated\n",
       "    // upon first draw.\n",
       "    this._resize_canvas(600, 600);\n",
       "\n",
       "    // Disable right mouse context menu.\n",
       "    $(this.rubberband_canvas).bind(\"contextmenu\",function(e){\n",
       "        return false;\n",
       "    });\n",
       "\n",
       "    function set_focus () {\n",
       "        canvas.focus();\n",
       "        canvas_div.focus();\n",
       "    }\n",
       "\n",
       "    window.setTimeout(set_focus, 100);\n",
       "}\n",
       "\n",
       "mpl.figure.prototype._init_toolbar = function() {\n",
       "    var fig = this;\n",
       "\n",
       "    var nav_element = $('<div/>');\n",
       "    nav_element.attr('style', 'width: 100%');\n",
       "    this.root.append(nav_element);\n",
       "\n",
       "    // Define a callback function for later on.\n",
       "    function toolbar_event(event) {\n",
       "        return fig.toolbar_button_onclick(event['data']);\n",
       "    }\n",
       "    function toolbar_mouse_event(event) {\n",
       "        return fig.toolbar_button_onmouseover(event['data']);\n",
       "    }\n",
       "\n",
       "    for(var toolbar_ind in mpl.toolbar_items) {\n",
       "        var name = mpl.toolbar_items[toolbar_ind][0];\n",
       "        var tooltip = mpl.toolbar_items[toolbar_ind][1];\n",
       "        var image = mpl.toolbar_items[toolbar_ind][2];\n",
       "        var method_name = mpl.toolbar_items[toolbar_ind][3];\n",
       "\n",
       "        if (!name) {\n",
       "            // put a spacer in here.\n",
       "            continue;\n",
       "        }\n",
       "        var button = $('<button/>');\n",
       "        button.addClass('ui-button ui-widget ui-state-default ui-corner-all ' +\n",
       "                        'ui-button-icon-only');\n",
       "        button.attr('role', 'button');\n",
       "        button.attr('aria-disabled', 'false');\n",
       "        button.click(method_name, toolbar_event);\n",
       "        button.mouseover(tooltip, toolbar_mouse_event);\n",
       "\n",
       "        var icon_img = $('<span/>');\n",
       "        icon_img.addClass('ui-button-icon-primary ui-icon');\n",
       "        icon_img.addClass(image);\n",
       "        icon_img.addClass('ui-corner-all');\n",
       "\n",
       "        var tooltip_span = $('<span/>');\n",
       "        tooltip_span.addClass('ui-button-text');\n",
       "        tooltip_span.html(tooltip);\n",
       "\n",
       "        button.append(icon_img);\n",
       "        button.append(tooltip_span);\n",
       "\n",
       "        nav_element.append(button);\n",
       "    }\n",
       "\n",
       "    var fmt_picker_span = $('<span/>');\n",
       "\n",
       "    var fmt_picker = $('<select/>');\n",
       "    fmt_picker.addClass('mpl-toolbar-option ui-widget ui-widget-content');\n",
       "    fmt_picker_span.append(fmt_picker);\n",
       "    nav_element.append(fmt_picker_span);\n",
       "    this.format_dropdown = fmt_picker[0];\n",
       "\n",
       "    for (var ind in mpl.extensions) {\n",
       "        var fmt = mpl.extensions[ind];\n",
       "        var option = $(\n",
       "            '<option/>', {selected: fmt === mpl.default_extension}).html(fmt);\n",
       "        fmt_picker.append(option);\n",
       "    }\n",
       "\n",
       "    // Add hover states to the ui-buttons\n",
       "    $( \".ui-button\" ).hover(\n",
       "        function() { $(this).addClass(\"ui-state-hover\");},\n",
       "        function() { $(this).removeClass(\"ui-state-hover\");}\n",
       "    );\n",
       "\n",
       "    var status_bar = $('<span class=\"mpl-message\"/>');\n",
       "    nav_element.append(status_bar);\n",
       "    this.message = status_bar[0];\n",
       "}\n",
       "\n",
       "mpl.figure.prototype.request_resize = function(x_pixels, y_pixels) {\n",
       "    // Request matplotlib to resize the figure. Matplotlib will then trigger a resize in the client,\n",
       "    // which will in turn request a refresh of the image.\n",
       "    this.send_message('resize', {'width': x_pixels, 'height': y_pixels});\n",
       "}\n",
       "\n",
       "mpl.figure.prototype.send_message = function(type, properties) {\n",
       "    properties['type'] = type;\n",
       "    properties['figure_id'] = this.id;\n",
       "    this.ws.send(JSON.stringify(properties));\n",
       "}\n",
       "\n",
       "mpl.figure.prototype.send_draw_message = function() {\n",
       "    if (!this.waiting) {\n",
       "        this.waiting = true;\n",
       "        this.ws.send(JSON.stringify({type: \"draw\", figure_id: this.id}));\n",
       "    }\n",
       "}\n",
       "\n",
       "\n",
       "mpl.figure.prototype.handle_save = function(fig, msg) {\n",
       "    var format_dropdown = fig.format_dropdown;\n",
       "    var format = format_dropdown.options[format_dropdown.selectedIndex].value;\n",
       "    fig.ondownload(fig, format);\n",
       "}\n",
       "\n",
       "\n",
       "mpl.figure.prototype.handle_resize = function(fig, msg) {\n",
       "    var size = msg['size'];\n",
       "    if (size[0] != fig.canvas.width || size[1] != fig.canvas.height) {\n",
       "        fig._resize_canvas(size[0], size[1]);\n",
       "        fig.send_message(\"refresh\", {});\n",
       "    };\n",
       "}\n",
       "\n",
       "mpl.figure.prototype.handle_rubberband = function(fig, msg) {\n",
       "    var x0 = msg['x0'] / mpl.ratio;\n",
       "    var y0 = (fig.canvas.height - msg['y0']) / mpl.ratio;\n",
       "    var x1 = msg['x1'] / mpl.ratio;\n",
       "    var y1 = (fig.canvas.height - msg['y1']) / mpl.ratio;\n",
       "    x0 = Math.floor(x0) + 0.5;\n",
       "    y0 = Math.floor(y0) + 0.5;\n",
       "    x1 = Math.floor(x1) + 0.5;\n",
       "    y1 = Math.floor(y1) + 0.5;\n",
       "    var min_x = Math.min(x0, x1);\n",
       "    var min_y = Math.min(y0, y1);\n",
       "    var width = Math.abs(x1 - x0);\n",
       "    var height = Math.abs(y1 - y0);\n",
       "\n",
       "    fig.rubberband_context.clearRect(\n",
       "        0, 0, fig.canvas.width / mpl.ratio, fig.canvas.height / mpl.ratio);\n",
       "\n",
       "    fig.rubberband_context.strokeRect(min_x, min_y, width, height);\n",
       "}\n",
       "\n",
       "mpl.figure.prototype.handle_figure_label = function(fig, msg) {\n",
       "    // Updates the figure title.\n",
       "    fig.header.textContent = msg['label'];\n",
       "}\n",
       "\n",
       "mpl.figure.prototype.handle_cursor = function(fig, msg) {\n",
       "    var cursor = msg['cursor'];\n",
       "    switch(cursor)\n",
       "    {\n",
       "    case 0:\n",
       "        cursor = 'pointer';\n",
       "        break;\n",
       "    case 1:\n",
       "        cursor = 'default';\n",
       "        break;\n",
       "    case 2:\n",
       "        cursor = 'crosshair';\n",
       "        break;\n",
       "    case 3:\n",
       "        cursor = 'move';\n",
       "        break;\n",
       "    }\n",
       "    fig.rubberband_canvas.style.cursor = cursor;\n",
       "}\n",
       "\n",
       "mpl.figure.prototype.handle_message = function(fig, msg) {\n",
       "    fig.message.textContent = msg['message'];\n",
       "}\n",
       "\n",
       "mpl.figure.prototype.handle_draw = function(fig, msg) {\n",
       "    // Request the server to send over a new figure.\n",
       "    fig.send_draw_message();\n",
       "}\n",
       "\n",
       "mpl.figure.prototype.handle_image_mode = function(fig, msg) {\n",
       "    fig.image_mode = msg['mode'];\n",
       "}\n",
       "\n",
       "mpl.figure.prototype.updated_canvas_event = function() {\n",
       "    // Called whenever the canvas gets updated.\n",
       "    this.send_message(\"ack\", {});\n",
       "}\n",
       "\n",
       "// A function to construct a web socket function for onmessage handling.\n",
       "// Called in the figure constructor.\n",
       "mpl.figure.prototype._make_on_message_function = function(fig) {\n",
       "    return function socket_on_message(evt) {\n",
       "        if (evt.data instanceof Blob) {\n",
       "            /* FIXME: We get \"Resource interpreted as Image but\n",
       "             * transferred with MIME type text/plain:\" errors on\n",
       "             * Chrome.  But how to set the MIME type?  It doesn't seem\n",
       "             * to be part of the websocket stream */\n",
       "            evt.data.type = \"image/png\";\n",
       "\n",
       "            /* Free the memory for the previous frames */\n",
       "            if (fig.imageObj.src) {\n",
       "                (window.URL || window.webkitURL).revokeObjectURL(\n",
       "                    fig.imageObj.src);\n",
       "            }\n",
       "\n",
       "            fig.imageObj.src = (window.URL || window.webkitURL).createObjectURL(\n",
       "                evt.data);\n",
       "            fig.updated_canvas_event();\n",
       "            fig.waiting = false;\n",
       "            return;\n",
       "        }\n",
       "        else if (typeof evt.data === 'string' && evt.data.slice(0, 21) == \"data:image/png;base64\") {\n",
       "            fig.imageObj.src = evt.data;\n",
       "            fig.updated_canvas_event();\n",
       "            fig.waiting = false;\n",
       "            return;\n",
       "        }\n",
       "\n",
       "        var msg = JSON.parse(evt.data);\n",
       "        var msg_type = msg['type'];\n",
       "\n",
       "        // Call the  \"handle_{type}\" callback, which takes\n",
       "        // the figure and JSON message as its only arguments.\n",
       "        try {\n",
       "            var callback = fig[\"handle_\" + msg_type];\n",
       "        } catch (e) {\n",
       "            console.log(\"No handler for the '\" + msg_type + \"' message type: \", msg);\n",
       "            return;\n",
       "        }\n",
       "\n",
       "        if (callback) {\n",
       "            try {\n",
       "                // console.log(\"Handling '\" + msg_type + \"' message: \", msg);\n",
       "                callback(fig, msg);\n",
       "            } catch (e) {\n",
       "                console.log(\"Exception inside the 'handler_\" + msg_type + \"' callback:\", e, e.stack, msg);\n",
       "            }\n",
       "        }\n",
       "    };\n",
       "}\n",
       "\n",
       "// from http://stackoverflow.com/questions/1114465/getting-mouse-location-in-canvas\n",
       "mpl.findpos = function(e) {\n",
       "    //this section is from http://www.quirksmode.org/js/events_properties.html\n",
       "    var targ;\n",
       "    if (!e)\n",
       "        e = window.event;\n",
       "    if (e.target)\n",
       "        targ = e.target;\n",
       "    else if (e.srcElement)\n",
       "        targ = e.srcElement;\n",
       "    if (targ.nodeType == 3) // defeat Safari bug\n",
       "        targ = targ.parentNode;\n",
       "\n",
       "    // jQuery normalizes the pageX and pageY\n",
       "    // pageX,Y are the mouse positions relative to the document\n",
       "    // offset() returns the position of the element relative to the document\n",
       "    var x = e.pageX - $(targ).offset().left;\n",
       "    var y = e.pageY - $(targ).offset().top;\n",
       "\n",
       "    return {\"x\": x, \"y\": y};\n",
       "};\n",
       "\n",
       "/*\n",
       " * return a copy of an object with only non-object keys\n",
       " * we need this to avoid circular references\n",
       " * http://stackoverflow.com/a/24161582/3208463\n",
       " */\n",
       "function simpleKeys (original) {\n",
       "  return Object.keys(original).reduce(function (obj, key) {\n",
       "    if (typeof original[key] !== 'object')\n",
       "        obj[key] = original[key]\n",
       "    return obj;\n",
       "  }, {});\n",
       "}\n",
       "\n",
       "mpl.figure.prototype.mouse_event = function(event, name) {\n",
       "    var canvas_pos = mpl.findpos(event)\n",
       "\n",
       "    if (name === 'button_press')\n",
       "    {\n",
       "        this.canvas.focus();\n",
       "        this.canvas_div.focus();\n",
       "    }\n",
       "\n",
       "    var x = canvas_pos.x * mpl.ratio;\n",
       "    var y = canvas_pos.y * mpl.ratio;\n",
       "\n",
       "    this.send_message(name, {x: x, y: y, button: event.button,\n",
       "                             step: event.step,\n",
       "                             guiEvent: simpleKeys(event)});\n",
       "\n",
       "    /* This prevents the web browser from automatically changing to\n",
       "     * the text insertion cursor when the button is pressed.  We want\n",
       "     * to control all of the cursor setting manually through the\n",
       "     * 'cursor' event from matplotlib */\n",
       "    event.preventDefault();\n",
       "    return false;\n",
       "}\n",
       "\n",
       "mpl.figure.prototype._key_event_extra = function(event, name) {\n",
       "    // Handle any extra behaviour associated with a key event\n",
       "}\n",
       "\n",
       "mpl.figure.prototype.key_event = function(event, name) {\n",
       "\n",
       "    // Prevent repeat events\n",
       "    if (name == 'key_press')\n",
       "    {\n",
       "        if (event.which === this._key)\n",
       "            return;\n",
       "        else\n",
       "            this._key = event.which;\n",
       "    }\n",
       "    if (name == 'key_release')\n",
       "        this._key = null;\n",
       "\n",
       "    var value = '';\n",
       "    if (event.ctrlKey && event.which != 17)\n",
       "        value += \"ctrl+\";\n",
       "    if (event.altKey && event.which != 18)\n",
       "        value += \"alt+\";\n",
       "    if (event.shiftKey && event.which != 16)\n",
       "        value += \"shift+\";\n",
       "\n",
       "    value += 'k';\n",
       "    value += event.which.toString();\n",
       "\n",
       "    this._key_event_extra(event, name);\n",
       "\n",
       "    this.send_message(name, {key: value,\n",
       "                             guiEvent: simpleKeys(event)});\n",
       "    return false;\n",
       "}\n",
       "\n",
       "mpl.figure.prototype.toolbar_button_onclick = function(name) {\n",
       "    if (name == 'download') {\n",
       "        this.handle_save(this, null);\n",
       "    } else {\n",
       "        this.send_message(\"toolbar_button\", {name: name});\n",
       "    }\n",
       "};\n",
       "\n",
       "mpl.figure.prototype.toolbar_button_onmouseover = function(tooltip) {\n",
       "    this.message.textContent = tooltip;\n",
       "};\n",
       "mpl.toolbar_items = [[\"Home\", \"Reset original view\", \"fa fa-home icon-home\", \"home\"], [\"Back\", \"Back to previous view\", \"fa fa-arrow-left icon-arrow-left\", \"back\"], [\"Forward\", \"Forward to next view\", \"fa fa-arrow-right icon-arrow-right\", \"forward\"], [\"\", \"\", \"\", \"\"], [\"Pan\", \"Pan axes with left mouse, zoom with right\", \"fa fa-arrows icon-move\", \"pan\"], [\"Zoom\", \"Zoom to rectangle\", \"fa fa-square-o icon-check-empty\", \"zoom\"], [\"\", \"\", \"\", \"\"], [\"Download\", \"Download plot\", \"fa fa-floppy-o icon-save\", \"download\"]];\n",
       "\n",
       "mpl.extensions = [\"eps\", \"jpeg\", \"pdf\", \"png\", \"ps\", \"raw\", \"svg\", \"tif\"];\n",
       "\n",
       "mpl.default_extension = \"png\";var comm_websocket_adapter = function(comm) {\n",
       "    // Create a \"websocket\"-like object which calls the given IPython comm\n",
       "    // object with the appropriate methods. Currently this is a non binary\n",
       "    // socket, so there is still some room for performance tuning.\n",
       "    var ws = {};\n",
       "\n",
       "    ws.close = function() {\n",
       "        comm.close()\n",
       "    };\n",
       "    ws.send = function(m) {\n",
       "        //console.log('sending', m);\n",
       "        comm.send(m);\n",
       "    };\n",
       "    // Register the callback with on_msg.\n",
       "    comm.on_msg(function(msg) {\n",
       "        //console.log('receiving', msg['content']['data'], msg);\n",
       "        // Pass the mpl event to the overridden (by mpl) onmessage function.\n",
       "        ws.onmessage(msg['content']['data'])\n",
       "    });\n",
       "    return ws;\n",
       "}\n",
       "\n",
       "mpl.mpl_figure_comm = function(comm, msg) {\n",
       "    // This is the function which gets called when the mpl process\n",
       "    // starts-up an IPython Comm through the \"matplotlib\" channel.\n",
       "\n",
       "    var id = msg.content.data.id;\n",
       "    // Get hold of the div created by the display call when the Comm\n",
       "    // socket was opened in Python.\n",
       "    var element = $(\"#\" + id);\n",
       "    var ws_proxy = comm_websocket_adapter(comm)\n",
       "\n",
       "    function ondownload(figure, format) {\n",
       "        window.open(figure.imageObj.src);\n",
       "    }\n",
       "\n",
       "    var fig = new mpl.figure(id, ws_proxy,\n",
       "                           ondownload,\n",
       "                           element.get(0));\n",
       "\n",
       "    // Call onopen now - mpl needs it, as it is assuming we've passed it a real\n",
       "    // web socket which is closed, not our websocket->open comm proxy.\n",
       "    ws_proxy.onopen();\n",
       "\n",
       "    fig.parent_element = element.get(0);\n",
       "    fig.cell_info = mpl.find_output_cell(\"<div id='\" + id + \"'></div>\");\n",
       "    if (!fig.cell_info) {\n",
       "        console.error(\"Failed to find cell for figure\", id, fig);\n",
       "        return;\n",
       "    }\n",
       "\n",
       "    var output_index = fig.cell_info[2]\n",
       "    var cell = fig.cell_info[0];\n",
       "\n",
       "};\n",
       "\n",
       "mpl.figure.prototype.handle_close = function(fig, msg) {\n",
       "    var width = fig.canvas.width/mpl.ratio\n",
       "    fig.root.unbind('remove')\n",
       "\n",
       "    // Update the output cell to use the data from the current canvas.\n",
       "    fig.push_to_output();\n",
       "    var dataURL = fig.canvas.toDataURL();\n",
       "    // Re-enable the keyboard manager in IPython - without this line, in FF,\n",
       "    // the notebook keyboard shortcuts fail.\n",
       "    IPython.keyboard_manager.enable()\n",
       "    $(fig.parent_element).html('<img src=\"' + dataURL + '\" width=\"' + width + '\">');\n",
       "    fig.close_ws(fig, msg);\n",
       "}\n",
       "\n",
       "mpl.figure.prototype.close_ws = function(fig, msg){\n",
       "    fig.send_message('closing', msg);\n",
       "    // fig.ws.close()\n",
       "}\n",
       "\n",
       "mpl.figure.prototype.push_to_output = function(remove_interactive) {\n",
       "    // Turn the data on the canvas into data in the output cell.\n",
       "    var width = this.canvas.width/mpl.ratio\n",
       "    var dataURL = this.canvas.toDataURL();\n",
       "    this.cell_info[1]['text/html'] = '<img src=\"' + dataURL + '\" width=\"' + width + '\">';\n",
       "}\n",
       "\n",
       "mpl.figure.prototype.updated_canvas_event = function() {\n",
       "    // Tell IPython that the notebook contents must change.\n",
       "    IPython.notebook.set_dirty(true);\n",
       "    this.send_message(\"ack\", {});\n",
       "    var fig = this;\n",
       "    // Wait a second, then push the new image to the DOM so\n",
       "    // that it is saved nicely (might be nice to debounce this).\n",
       "    setTimeout(function () { fig.push_to_output() }, 1000);\n",
       "}\n",
       "\n",
       "mpl.figure.prototype._init_toolbar = function() {\n",
       "    var fig = this;\n",
       "\n",
       "    var nav_element = $('<div/>');\n",
       "    nav_element.attr('style', 'width: 100%');\n",
       "    this.root.append(nav_element);\n",
       "\n",
       "    // Define a callback function for later on.\n",
       "    function toolbar_event(event) {\n",
       "        return fig.toolbar_button_onclick(event['data']);\n",
       "    }\n",
       "    function toolbar_mouse_event(event) {\n",
       "        return fig.toolbar_button_onmouseover(event['data']);\n",
       "    }\n",
       "\n",
       "    for(var toolbar_ind in mpl.toolbar_items){\n",
       "        var name = mpl.toolbar_items[toolbar_ind][0];\n",
       "        var tooltip = mpl.toolbar_items[toolbar_ind][1];\n",
       "        var image = mpl.toolbar_items[toolbar_ind][2];\n",
       "        var method_name = mpl.toolbar_items[toolbar_ind][3];\n",
       "\n",
       "        if (!name) { continue; };\n",
       "\n",
       "        var button = $('<button class=\"btn btn-default\" href=\"#\" title=\"' + name + '\"><i class=\"fa ' + image + ' fa-lg\"></i></button>');\n",
       "        button.click(method_name, toolbar_event);\n",
       "        button.mouseover(tooltip, toolbar_mouse_event);\n",
       "        nav_element.append(button);\n",
       "    }\n",
       "\n",
       "    // Add the status bar.\n",
       "    var status_bar = $('<span class=\"mpl-message\" style=\"text-align:right; float: right;\"/>');\n",
       "    nav_element.append(status_bar);\n",
       "    this.message = status_bar[0];\n",
       "\n",
       "    // Add the close button to the window.\n",
       "    var buttongrp = $('<div class=\"btn-group inline pull-right\"></div>');\n",
       "    var button = $('<button class=\"btn btn-mini btn-primary\" href=\"#\" title=\"Stop Interaction\"><i class=\"fa fa-power-off icon-remove icon-large\"></i></button>');\n",
       "    button.click(function (evt) { fig.handle_close(fig, {}); } );\n",
       "    button.mouseover('Stop Interaction', toolbar_mouse_event);\n",
       "    buttongrp.append(button);\n",
       "    var titlebar = this.root.find($('.ui-dialog-titlebar'));\n",
       "    titlebar.prepend(buttongrp);\n",
       "}\n",
       "\n",
       "mpl.figure.prototype._root_extra_style = function(el){\n",
       "    var fig = this\n",
       "    el.on(\"remove\", function(){\n",
       "\tfig.close_ws(fig, {});\n",
       "    });\n",
       "}\n",
       "\n",
       "mpl.figure.prototype._canvas_extra_style = function(el){\n",
       "    // this is important to make the div 'focusable\n",
       "    el.attr('tabindex', 0)\n",
       "    // reach out to IPython and tell the keyboard manager to turn it's self\n",
       "    // off when our div gets focus\n",
       "\n",
       "    // location in version 3\n",
       "    if (IPython.notebook.keyboard_manager) {\n",
       "        IPython.notebook.keyboard_manager.register_events(el);\n",
       "    }\n",
       "    else {\n",
       "        // location in version 2\n",
       "        IPython.keyboard_manager.register_events(el);\n",
       "    }\n",
       "\n",
       "}\n",
       "\n",
       "mpl.figure.prototype._key_event_extra = function(event, name) {\n",
       "    var manager = IPython.notebook.keyboard_manager;\n",
       "    if (!manager)\n",
       "        manager = IPython.keyboard_manager;\n",
       "\n",
       "    // Check for shift+enter\n",
       "    if (event.shiftKey && event.which == 13) {\n",
       "        this.canvas_div.blur();\n",
       "        // select the cell after this one\n",
       "        var index = IPython.notebook.find_cell_index(this.cell_info[0]);\n",
       "        IPython.notebook.select(index + 1);\n",
       "    }\n",
       "}\n",
       "\n",
       "mpl.figure.prototype.handle_save = function(fig, msg) {\n",
       "    fig.ondownload(fig, null);\n",
       "}\n",
       "\n",
       "\n",
       "mpl.find_output_cell = function(html_output) {\n",
       "    // Return the cell and output element which can be found *uniquely* in the notebook.\n",
       "    // Note - this is a bit hacky, but it is done because the \"notebook_saving.Notebook\"\n",
       "    // IPython event is triggered only after the cells have been serialised, which for\n",
       "    // our purposes (turning an active figure into a static one), is too late.\n",
       "    var cells = IPython.notebook.get_cells();\n",
       "    var ncells = cells.length;\n",
       "    for (var i=0; i<ncells; i++) {\n",
       "        var cell = cells[i];\n",
       "        if (cell.cell_type === 'code'){\n",
       "            for (var j=0; j<cell.output_area.outputs.length; j++) {\n",
       "                var data = cell.output_area.outputs[j];\n",
       "                if (data.data) {\n",
       "                    // IPython >= 3 moved mimebundle to data attribute of output\n",
       "                    data = data.data;\n",
       "                }\n",
       "                if (data['text/html'] == html_output) {\n",
       "                    return [cell, data, j];\n",
       "                }\n",
       "            }\n",
       "        }\n",
       "    }\n",
       "}\n",
       "\n",
       "// Register the function which deals with the matplotlib target/channel.\n",
       "// The kernel may be null if the page has been refreshed.\n",
       "if (IPython.notebook.kernel != null) {\n",
       "    IPython.notebook.kernel.comm_manager.register_target('matplotlib', mpl.mpl_figure_comm);\n",
       "}\n"
      ],
      "text/plain": [
       "<IPython.core.display.Javascript object>"
      ]
     },
     "metadata": {},
     "output_type": "display_data"
    },
    {
     "data": {
      "text/html": [
       "<img src=\"data:image/png;base64,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\" width=\"640\">"
      ],
      "text/plain": [
       "<IPython.core.display.HTML object>"
      ]
     },
     "metadata": {},
     "output_type": "display_data"
    }
   ],
   "source": [
    "fig,ax = plt.subplots(1,1)\n",
    "ax.imshow(imb)\n",
    "cax = ax.scatter(570+(570-top_centroid[0]),\n",
    "           top_centroid[1],\n",
    "           edgecolor = 'k',\n",
    "           s = 50)"
   ]
  },
  {
   "cell_type": "code",
   "execution_count": 37,
   "metadata": {},
   "outputs": [],
   "source": [
    "flat_centroid = get_flat_centroid_coord(x,y,z,avg.shape,fsize, 1000)"
   ]
  },
  {
   "cell_type": "code",
   "execution_count": 38,
   "metadata": {},
   "outputs": [
    {
     "data": {
      "text/plain": [
       "array([ 611, 1125])"
      ]
     },
     "execution_count": 38,
     "metadata": {},
     "output_type": "execute_result"
    }
   ],
   "source": [
    "flat_centroid"
   ]
  },
  {
   "cell_type": "code",
   "execution_count": 41,
   "metadata": {},
   "outputs": [],
   "source": [
    "img = Image.new('RGBA',(fsize[1],fsize[0]),(255,255,255,0))\n",
    "draw = ImageDraw.Draw(img)\n",
    "draw.ellipse((flat_centroid[0]-3,flat_centroid[1]-3,\n",
    "              flat_centroid[0]+3,flat_centroid[1]+3),\n",
    "             fill='black')\n",
    "img.show()"
   ]
  },
  {
   "cell_type": "code",
   "execution_count": 42,
   "metadata": {
    "scrolled": true
   },
   "outputs": [
    {
     "ename": "KeyboardInterrupt",
     "evalue": "",
     "output_type": "error",
     "traceback": [
      "\u001b[0;31m---------------------------------------------------------------------------\u001b[0m",
      "\u001b[0;31mKeyboardInterrupt\u001b[0m                         Traceback (most recent call last)",
      "\u001b[0;32m<ipython-input-42-6a59dd94563e>\u001b[0m in \u001b[0;36m<module>\u001b[0;34m\u001b[0m\n\u001b[1;32m     17\u001b[0m             \u001b[0mj\u001b[0m \u001b[0;34m+=\u001b[0m \u001b[0;36m1\u001b[0m\u001b[0;34m\u001b[0m\u001b[0;34m\u001b[0m\u001b[0m\n\u001b[1;32m     18\u001b[0m             \u001b[0;32mif\u001b[0m \u001b[0mj\u001b[0m \u001b[0;34m>\u001b[0m \u001b[0;36m10\u001b[0m\u001b[0;34m:\u001b[0m\u001b[0;34m\u001b[0m\u001b[0;34m\u001b[0m\u001b[0m\n\u001b[0;32m---> 19\u001b[0;31m                 \u001b[0mflat_centroid\u001b[0m \u001b[0;34m=\u001b[0m \u001b[0mget_flat_centroid_coord\u001b[0m\u001b[0;34m(\u001b[0m\u001b[0mx\u001b[0m\u001b[0;34m,\u001b[0m\u001b[0my\u001b[0m\u001b[0;34m,\u001b[0m\u001b[0mz\u001b[0m\u001b[0;34m,\u001b[0m\u001b[0mavg\u001b[0m\u001b[0;34m.\u001b[0m\u001b[0mshape\u001b[0m\u001b[0;34m,\u001b[0m\u001b[0mfsize\u001b[0m\u001b[0;34m,\u001b[0m \u001b[0mj\u001b[0m\u001b[0;34m*\u001b[0m\u001b[0;36m10\u001b[0m\u001b[0;34m)\u001b[0m\u001b[0;34m\u001b[0m\u001b[0;34m\u001b[0m\u001b[0m\n\u001b[0m\u001b[1;32m     20\u001b[0m             \u001b[0;32melse\u001b[0m\u001b[0;34m:\u001b[0m\u001b[0;34m\u001b[0m\u001b[0;34m\u001b[0m\u001b[0m\n\u001b[1;32m     21\u001b[0m                 \u001b[0mflat_centroid\u001b[0m \u001b[0;34m=\u001b[0m \u001b[0mget_flat_centroid_coord\u001b[0m\u001b[0;34m(\u001b[0m\u001b[0mx\u001b[0m\u001b[0;34m,\u001b[0m\u001b[0my\u001b[0m\u001b[0;34m,\u001b[0m\u001b[0mz\u001b[0m\u001b[0;34m,\u001b[0m\u001b[0mavg\u001b[0m\u001b[0;34m.\u001b[0m\u001b[0mshape\u001b[0m\u001b[0;34m,\u001b[0m\u001b[0mfsize\u001b[0m\u001b[0;34m,\u001b[0m \u001b[0mj\u001b[0m\u001b[0;34m)\u001b[0m\u001b[0;34m\u001b[0m\u001b[0;34m\u001b[0m\u001b[0m\n",
      "\u001b[0;32m<ipython-input-32-bd76fed382b8>\u001b[0m in \u001b[0;36mget_flat_centroid_coord\u001b[0;34m(x, y, z, volume_shape, flat_shape, radius)\u001b[0m\n\u001b[1;32m      7\u001b[0m \u001b[0;34m\u001b[0m\u001b[0m\n\u001b[1;32m      8\u001b[0m     \u001b[0;32mfor\u001b[0m \u001b[0mstreamline\u001b[0m \u001b[0;32min\u001b[0m \u001b[0mnp\u001b[0m\u001b[0;34m.\u001b[0m\u001b[0marange\u001b[0m\u001b[0;34m(\u001b[0m\u001b[0mflat_paths\u001b[0m\u001b[0;34m.\u001b[0m\u001b[0mshape\u001b[0m\u001b[0;34m[\u001b[0m\u001b[0;36m0\u001b[0m\u001b[0;34m]\u001b[0m\u001b[0;34m)\u001b[0m\u001b[0;34m:\u001b[0m\u001b[0;34m\u001b[0m\u001b[0;34m\u001b[0m\u001b[0m\n\u001b[0;32m----> 9\u001b[0;31m         \u001b[0mflat_blank\u001b[0m\u001b[0;34m.\u001b[0m\u001b[0mflat\u001b[0m\u001b[0;34m[\u001b[0m\u001b[0mflat_map\u001b[0m\u001b[0;34m[\u001b[0m\u001b[0mstreamline\u001b[0m\u001b[0;34m]\u001b[0m\u001b[0;34m]\u001b[0m \u001b[0;34m=\u001b[0m \u001b[0mmax\u001b[0m\u001b[0;34m(\u001b[0m\u001b[0mpoint_blank\u001b[0m\u001b[0;34m.\u001b[0m\u001b[0mflat\u001b[0m\u001b[0;34m[\u001b[0m\u001b[0mflat_paths\u001b[0m\u001b[0;34m[\u001b[0m\u001b[0mstreamline\u001b[0m\u001b[0;34m,\u001b[0m\u001b[0;34m:\u001b[0m\u001b[0;34m]\u001b[0m\u001b[0;34m]\u001b[0m\u001b[0;34m)\u001b[0m\u001b[0;34m\u001b[0m\u001b[0;34m\u001b[0m\u001b[0m\n\u001b[0m\u001b[1;32m     10\u001b[0m \u001b[0;34m\u001b[0m\u001b[0m\n\u001b[1;32m     11\u001b[0m     \u001b[0;32mreturn\u001b[0m \u001b[0mnp\u001b[0m\u001b[0;34m.\u001b[0m\u001b[0mround\u001b[0m\u001b[0;34m(\u001b[0m\u001b[0mnp\u001b[0m\u001b[0;34m.\u001b[0m\u001b[0mmean\u001b[0m\u001b[0;34m(\u001b[0m\u001b[0mnp\u001b[0m\u001b[0;34m.\u001b[0m\u001b[0mwhere\u001b[0m\u001b[0;34m(\u001b[0m\u001b[0mflat_blank\u001b[0m\u001b[0;34m)\u001b[0m\u001b[0;34m,\u001b[0m\u001b[0maxis\u001b[0m\u001b[0;34m=\u001b[0m\u001b[0;36m1\u001b[0m\u001b[0;34m)\u001b[0m\u001b[0;34m)\u001b[0m\u001b[0;34m.\u001b[0m\u001b[0mastype\u001b[0m\u001b[0;34m(\u001b[0m\u001b[0mint\u001b[0m\u001b[0;34m)\u001b[0m\u001b[0;34m\u001b[0m\u001b[0;34m\u001b[0m\u001b[0m\n",
      "\u001b[0;31mKeyboardInterrupt\u001b[0m: "
     ]
    }
   ],
   "source": [
    "centroids = []\n",
    "for i,row in subset.iterrows():\n",
    "    x,y,z = (row[['injection_x','injection_y','injection_z']]/10).astype(int)\n",
    "    top_centroid = get_top_centroid_coord(x,y,z,avg.shape,top_size, 1)\n",
    "    if top_centroid[0] < 0:\n",
    "        j = 1\n",
    "        while top_centroid[0] < 0:\n",
    "            j += 1\n",
    "            if j > 10:\n",
    "                top_centroid = get_top_centroid_coord(x,y,z,avg.shape,top_size, j*10)\n",
    "            else:\n",
    "                top_centroid = get_top_centroid_coord(x,y,z,avg.shape,top_size, j)\n",
    "    flat_centroid = get_flat_centroid_coord(x,y,z,avg.shape,fsize, 1)\n",
    "    if flat_centroid[0] < 0:\n",
    "        j = 1\n",
    "        while flat_centroid[0] < 0:\n",
    "            j += 1\n",
    "            if j > 10:\n",
    "                flat_centroid = get_flat_centroid_coord(x,y,z,avg.shape,fsize, j*10)\n",
    "            else:\n",
    "                flat_centroid = get_flat_centroid_coord(x,y,z,avg.shape,fsize, j)\n",
    "    centroids.append({'id':row['id'],\n",
    "                      'top_x':top_centroid[0],\n",
    "                      'top_y':top_centroid[1],\n",
    "                     'flat_x': flat_centroid[0],\n",
    "                     'flat_y': flat_centroid[1]})   \n",
    "cent_df = pd.DataFrame(centroids)"
   ]
  },
  {
   "cell_type": "code",
   "execution_count": 43,
   "metadata": {},
   "outputs": [
    {
     "data": {
      "text/plain": [
       "[{'id': 126861679, 'top_x': 187, 'top_y': 734, 'flat_x': 749, 'flat_y': 188},\n",
       " {'id': 146593590, 'top_x': 366, 'top_y': 1023, 'flat_x': 511, 'flat_y': 1226},\n",
       " {'id': 139426984, 'top_x': 354, 'top_y': 1026, 'flat_x': 577, 'flat_y': 1269},\n",
       " {'id': 100148503, 'top_x': 185, 'top_y': 742, 'flat_x': 754, 'flat_y': 190},\n",
       " {'id': 112229103, 'top_x': 566, 'top_y': 283, 'flat_x': 844, 'flat_y': 208},\n",
       " {'id': 307295727, 'top_x': 305, 'top_y': 930, 'flat_x': 1078, 'flat_y': 999},\n",
       " {'id': 112595376, 'top_x': 159, 'top_y': 833, 'flat_x': 825, 'flat_y': 113},\n",
       " {'id': 112423392, 'top_x': 315, 'top_y': 1026, 'flat_x': 373, 'flat_y': 1116},\n",
       " {'id': 112306316, 'top_x': 223, 'top_y': 361, 'flat_x': 332, 'flat_y': 1099},\n",
       " {'id': 157711748, 'top_x': 272, 'top_y': 1035, 'flat_x': 356, 'flat_y': 1112},\n",
       " {'id': 158435116, 'top_x': 200, 'top_y': 599, 'flat_x': 370, 'flat_y': 754},\n",
       " {'id': 307593747, 'top_x': 197, 'top_y': 909, 'flat_x': 635, 'flat_y': 207},\n",
       " {'id': 100141219, 'top_x': 240, 'top_y': 877, 'flat_x': 614, 'flat_y': 313},\n",
       " {'id': 100141599, 'top_x': 569, 'top_y': 372, 'flat_x': 766, 'flat_y': 300},\n",
       " {'id': 112424813, 'top_x': 565, 'top_y': 271, 'flat_x': 1048, 'flat_y': 324},\n",
       " {'id': 478376197, 'top_x': 445, 'top_y': 285, 'flat_x': 1081, 'flat_y': 412},\n",
       " {'id': 593018150, 'top_x': 408, 'top_y': 821, 'flat_x': 478, 'flat_y': 241},\n",
       " {'id': 526783054, 'top_x': 486, 'top_y': 448, 'flat_x': 1050, 'flat_y': 681},\n",
       " {'id': 518742338, 'top_x': 380, 'top_y': 778, 'flat_x': 387, 'flat_y': 585},\n",
       " {'id': 125833030, 'top_x': 341, 'top_y': 1019, 'flat_x': 574, 'flat_y': 1297},\n",
       " {'id': 480994108, 'top_x': 386, 'top_y': 230, 'flat_x': 1111, 'flat_y': 348},\n",
       " {'id': 287769286, 'top_x': 212, 'top_y': 357, 'flat_x': 355, 'flat_y': 750},\n",
       " {'id': 478491090, 'top_x': 487, 'top_y': 473, 'flat_x': 1048, 'flat_y': 705},\n",
       " {'id': 266250195, 'top_x': 206, 'top_y': 883, 'flat_x': 581, 'flat_y': 240},\n",
       " {'id': 584895127, 'top_x': 536, 'top_y': 844, 'flat_x': 438, 'flat_y': 324},\n",
       " {'id': 646525997, 'top_x': 411, 'top_y': 839, 'flat_x': 466, 'flat_y': 263},\n",
       " {'id': 576341623, 'top_x': 397, 'top_y': 802, 'flat_x': 502, 'flat_y': 219},\n",
       " {'id': 479755622, 'top_x': 293, 'top_y': 910, 'flat_x': 459, 'flat_y': 376},\n",
       " {'id': 571100135, 'top_x': 405, 'top_y': 819, 'flat_x': 514, 'flat_y': 259},\n",
       " {'id': 575782182, 'top_x': 424, 'top_y': 786, 'flat_x': 552, 'flat_y': 227},\n",
       " {'id': 524667618, 'top_x': 373, 'top_y': 754, 'flat_x': 387, 'flat_y': 555},\n",
       " {'id': 478376911, 'top_x': 493, 'top_y': 396, 'flat_x': 1049, 'flat_y': 635},\n",
       " {'id': 156741826, 'top_x': 212, 'top_y': 356, 'flat_x': 360, 'flat_y': 755},\n",
       " {'id': 159753308, 'top_x': 568, 'top_y': 379, 'flat_x': 730, 'flat_y': 292},\n",
       " {'id': 121510421, 'top_x': 252, 'top_y': 931, 'flat_x': 564, 'flat_y': 320},\n",
       " {'id': 646525156, 'top_x': 417, 'top_y': 756, 'flat_x': 559, 'flat_y': 217},\n",
       " {'id': 479673887, 'top_x': 176, 'top_y': 919, 'flat_x': 563, 'flat_y': 204},\n",
       " {'id': 482580380, 'top_x': 196, 'top_y': 854, 'flat_x': 578, 'flat_y': 230},\n",
       " {'id': 496576666, 'top_x': 492, 'top_y': 423, 'flat_x': 1047, 'flat_y': 656},\n",
       " {'id': 263106036, 'top_x': 260, 'top_y': 1036, 'flat_x': 355, 'flat_y': 1113},\n",
       " {'id': 562674923, 'top_x': 424, 'top_y': 786, 'flat_x': 552, 'flat_y': 227}]"
      ]
     },
     "execution_count": 43,
     "metadata": {},
     "output_type": "execute_result"
    }
   ],
   "source": [
    "centroids"
   ]
  },
  {
   "cell_type": "code",
   "execution_count": 44,
   "metadata": {},
   "outputs": [],
   "source": [
    "path = r'/Users/jenniferwh/Desktop/centroids'"
   ]
  },
  {
   "cell_type": "code",
   "execution_count": 48,
   "metadata": {},
   "outputs": [],
   "source": [
    "import json\n",
    "for centroid in centroids:\n",
    "    for key in centroid:\n",
    "        centroid[key] = float(centroid[key])\n",
    "    with open(os.path.join(path, \n",
    "                           '{}.json'.format(centroid['id'])), 'w') as outfile:\n",
    "        json.dump(centroid, outfile, sort_keys = False, indent = 4)"
   ]
  },
  {
   "cell_type": "code",
   "execution_count": null,
   "metadata": {},
   "outputs": [],
   "source": [
    "img = Image.new('RGBA',(fsize[1],fsize[0]),(255,255,255,0))\n",
    "draw = ImageDraw.Draw(img)\n",
    "for i,row in cent_df.iterrows():\n",
    "    centroid = row[['flat_x','flat_y']]\n",
    "\n",
    "\n",
    "    draw.ellipse((centroid[0]-3,centroid[1]-3,centroid[0]+3,centroid[1]+3),fill='black')"
   ]
  },
  {
   "cell_type": "code",
   "execution_count": 21,
   "metadata": {},
   "outputs": [
    {
     "data": {
      "text/plain": [
       "277"
      ]
     },
     "execution_count": 21,
     "metadata": {},
     "output_type": "execute_result"
    }
   ],
   "source": [
    "len(cent_df)"
   ]
  },
  {
   "cell_type": "code",
   "execution_count": 22,
   "metadata": {},
   "outputs": [
    {
     "data": {
      "text/plain": [
       "277"
      ]
     },
     "execution_count": 22,
     "metadata": {},
     "output_type": "execute_result"
    }
   ],
   "source": [
    "len(subset)"
   ]
  },
  {
   "cell_type": "markdown",
   "metadata": {},
   "source": [
    "centroids = []\n",
    "for i,row in subset.iterrows():\n",
    "    x,y,z = (row[['injection_x','injection_y','injection_z']]/10).astype(int)\n",
    "    top_centroid = get_top_centroid_coord(x,y,z,avg.shape,top_size)\n",
    "    flat_centroid = get_flat_centroid_coord(x,y,z,avg.shape,fsize)\n",
    "    centroids.append({'ID':row['id'],'top_x':top_centroid[0],\n",
    "                      'top_y':top_centroid[1],\n",
    "                      'flat_x':flat_centroid[0],\n",
    "                      'flat_y':flat_centroid[1]})   \n",
    "cent_df = pd.DataFrame(centroids)"
   ]
  },
  {
   "cell_type": "code",
   "execution_count": 23,
   "metadata": {
    "collapsed": true
   },
   "outputs": [],
   "source": [
    "subset = subset.merge(cent_df[['id', 'top_x', 'top_y', 'flat_x', 'flat_y']], \n",
    "                      on = 'id', how = 'left')"
   ]
  },
  {
   "cell_type": "code",
   "execution_count": 24,
   "metadata": {},
   "outputs": [
    {
     "data": {
      "text/plain": [
       "0"
      ]
     },
     "execution_count": 24,
     "metadata": {},
     "output_type": "execute_result"
    }
   ],
   "source": [
    "len(subset[subset['top_x'] < 0])"
   ]
  },
  {
   "cell_type": "code",
   "execution_count": 25,
   "metadata": {},
   "outputs": [
    {
     "data": {
      "text/plain": [
       "0"
      ]
     },
     "execution_count": 25,
     "metadata": {},
     "output_type": "execute_result"
    }
   ],
   "source": [
    "len(subset[subset['top_x'].isnull()])"
   ]
  },
  {
   "cell_type": "code",
   "execution_count": 26,
   "metadata": {
    "collapsed": true
   },
   "outputs": [],
   "source": [
    "wt_meta = pd.read_csv(os.path.join(savepath, 'wt_cre_ctx_injections_DMN_and_core_projections_coefficients.csv'))"
   ]
  },
  {
   "cell_type": "code",
   "execution_count": 27,
   "metadata": {},
   "outputs": [
    {
     "data": {
      "text/plain": [
       "277"
      ]
     },
     "execution_count": 27,
     "metadata": {},
     "output_type": "execute_result"
    }
   ],
   "source": [
    "len(wt_meta)"
   ]
  },
  {
   "cell_type": "code",
   "execution_count": 28,
   "metadata": {
    "collapsed": true
   },
   "outputs": [],
   "source": [
    "wt_meta = wt_meta.merge(subset[['id', 'top_x', 'top_y']], on='id', how = 'left')"
   ]
  },
  {
   "cell_type": "code",
   "execution_count": 29,
   "metadata": {
    "collapsed": true
   },
   "outputs": [],
   "source": [
    "wt_meta.to_csv(os.path.join(savepath, \n",
    "                            'wt_cre_ctx_injections_DMN_and_core_projections_coefficients_flat_coords.csv'),\n",
    "              index = False)"
   ]
  },
  {
   "cell_type": "markdown",
   "metadata": {},
   "source": [
    "# Fix missing values"
   ]
  },
  {
   "cell_type": "code",
   "execution_count": 30,
   "metadata": {
    "collapsed": true
   },
   "outputs": [],
   "source": [
    "def get_top_centroid_coord(x,y,z,volume_shape,flat_shape, radius):\n",
    "    point_blank = np.zeros(volume_shape,dtype=np.uint8)\n",
    "    flat_blank = np.zeros(flat_shape,dtype=np.uint8)\n",
    "    \n",
    "    point_blank[x-radius:x+(radius*2),y-radius:y+(radius*2),z-radius:z+(radius*2)] = 1\n",
    "    \n",
    "    for streamline in np.arange(top_paths.shape[0]):\n",
    "        flat_blank.flat[top_lookup[streamline,0]] = \\\n",
    "                max(point_blank.flat[top_paths[streamline,:]])\n",
    "    \n",
    "    return np.round(np.mean(np.where(flat_blank),axis=1)).astype(int)"
   ]
  },
  {
   "cell_type": "code",
   "execution_count": 61,
   "metadata": {},
   "outputs": [
    {
     "name": "stdout",
     "output_type": "stream",
     "text": [
      "114\n"
     ]
    }
   ],
   "source": [
    "# iterate with increasing window size in function above until all coordinates are filled in\n",
    "centroids = []\n",
    "for i,row in subset.iterrows():\n",
    "    if row['top_x'] < 0:\n",
    "        x,y,z = (row[['injection_x','injection_y','injection_z']]/10).astype(int)\n",
    "        top_centroid = get_top_centroid_coord(x,y,z,avg.shape,top_size, i)\n",
    "        subset.loc[subset['id'] == row['id'], 'top_x'] = top_centroid[0]\n",
    "        subset.loc[subset['id'] == row['id'], 'top_y'] = top_centroid[1]\n",
    "print(len(subset[subset['top_x'] < 0]))"
   ]
  },
  {
   "cell_type": "code",
   "execution_count": 62,
   "metadata": {},
   "outputs": [
    {
     "name": "stdout",
     "output_type": "stream",
     "text": [
      "114\n",
      "276\n"
     ]
    }
   ],
   "source": [
    "print(len(subset[subset['top_x'] < 0]))\n",
    "print(i)"
   ]
  },
  {
   "cell_type": "code",
   "execution_count": 63,
   "metadata": {
    "collapsed": true
   },
   "outputs": [],
   "source": [
    "# iterate with increasing window size in function above until all coordinates are filled in\n",
    "j=0\n",
    "for i,row in subset.iterrows():\n",
    "    while row['top_x'] < 0:\n",
    "        j+=1\n",
    "        x,y,z = (row[['injection_x','injection_y','injection_z']]/10).astype(int)\n",
    "        top_centroid = get_top_centroid_coord(x,y,z,avg.shape,top_size, j*100)\n",
    "        subset.loc[subset['id'] == row['id'], 'top_x'] = top_centroid[0]\n",
    "        subset.loc[subset['id'] == row['id'], 'top_y'] = top_centroid[1]"
   ]
  },
  {
   "cell_type": "code",
   "execution_count": 64,
   "metadata": {},
   "outputs": [
    {
     "name": "stdout",
     "output_type": "stream",
     "text": [
      "0\n",
      "128\n"
     ]
    }
   ],
   "source": [
    "print(len(subset[subset['top_x'] < 0]))\n",
    "print(j)"
   ]
  },
  {
   "cell_type": "code",
   "execution_count": 66,
   "metadata": {},
   "outputs": [
    {
     "data": {
      "text/html": [
       "<div>\n",
       "<style scoped>\n",
       "    .dataframe tbody tr th:only-of-type {\n",
       "        vertical-align: middle;\n",
       "    }\n",
       "\n",
       "    .dataframe tbody tr th {\n",
       "        vertical-align: top;\n",
       "    }\n",
       "\n",
       "    .dataframe thead th {\n",
       "        text-align: right;\n",
       "    }\n",
       "</style>\n",
       "<table border=\"1\" class=\"dataframe\">\n",
       "  <thead>\n",
       "    <tr style=\"text-align: right;\">\n",
       "      <th></th>\n",
       "      <th>id</th>\n",
       "      <th>injection_x</th>\n",
       "      <th>injection_y</th>\n",
       "      <th>injection_z</th>\n",
       "      <th>top_x</th>\n",
       "      <th>top_y</th>\n",
       "    </tr>\n",
       "  </thead>\n",
       "  <tbody>\n",
       "    <tr>\n",
       "      <th>272</th>\n",
       "      <td>598604288</td>\n",
       "      <td>3510</td>\n",
       "      <td>2210</td>\n",
       "      <td>7700</td>\n",
       "      <td>346</td>\n",
       "      <td>331</td>\n",
       "    </tr>\n",
       "    <tr>\n",
       "      <th>273</th>\n",
       "      <td>554421791</td>\n",
       "      <td>8470</td>\n",
       "      <td>2080</td>\n",
       "      <td>1810</td>\n",
       "      <td>335</td>\n",
       "      <td>633</td>\n",
       "    </tr>\n",
       "    <tr>\n",
       "      <th>274</th>\n",
       "      <td>479756361</td>\n",
       "      <td>9040</td>\n",
       "      <td>1450</td>\n",
       "      <td>3560</td>\n",
       "      <td>335</td>\n",
       "      <td>633</td>\n",
       "    </tr>\n",
       "    <tr>\n",
       "      <th>275</th>\n",
       "      <td>296048512</td>\n",
       "      <td>3660</td>\n",
       "      <td>4850</td>\n",
       "      <td>8700</td>\n",
       "      <td>335</td>\n",
       "      <td>633</td>\n",
       "    </tr>\n",
       "    <tr>\n",
       "      <th>276</th>\n",
       "      <td>503069254</td>\n",
       "      <td>8690</td>\n",
       "      <td>1440</td>\n",
       "      <td>3090</td>\n",
       "      <td>335</td>\n",
       "      <td>633</td>\n",
       "    </tr>\n",
       "  </tbody>\n",
       "</table>\n",
       "</div>"
      ],
      "text/plain": [
       "            id  injection_x  injection_y  injection_z  top_x  top_y\n",
       "272  598604288         3510         2210         7700    346    331\n",
       "273  554421791         8470         2080         1810    335    633\n",
       "274  479756361         9040         1450         3560    335    633\n",
       "275  296048512         3660         4850         8700    335    633\n",
       "276  503069254         8690         1440         3090    335    633"
      ]
     },
     "execution_count": 66,
     "metadata": {},
     "output_type": "execute_result"
    }
   ],
   "source": [
    "subset.tail()"
   ]
  },
  {
   "cell_type": "code",
   "execution_count": 39,
   "metadata": {},
   "outputs": [
    {
     "data": {
      "text/html": [
       "<div>\n",
       "<style scoped>\n",
       "    .dataframe tbody tr th:only-of-type {\n",
       "        vertical-align: middle;\n",
       "    }\n",
       "\n",
       "    .dataframe tbody tr th {\n",
       "        vertical-align: top;\n",
       "    }\n",
       "\n",
       "    .dataframe thead th {\n",
       "        text-align: right;\n",
       "    }\n",
       "</style>\n",
       "<table border=\"1\" class=\"dataframe\">\n",
       "  <thead>\n",
       "    <tr style=\"text-align: right;\">\n",
       "      <th></th>\n",
       "      <th>id</th>\n",
       "      <th>injection structure</th>\n",
       "      <th>injection dmn fraction</th>\n",
       "      <th>projection dmn fraction</th>\n",
       "      <th>distance coefficient</th>\n",
       "      <th>DMN coefficient</th>\n",
       "      <th>DMN t values</th>\n",
       "      <th>DMN p values</th>\n",
       "      <th>injection core fraction</th>\n",
       "      <th>projection core fraction</th>\n",
       "      <th>core distance coefficient</th>\n",
       "      <th>DMN core coefficient</th>\n",
       "      <th>core t values</th>\n",
       "      <th>core p values</th>\n",
       "    </tr>\n",
       "  </thead>\n",
       "  <tbody>\n",
       "    <tr>\n",
       "      <th>0</th>\n",
       "      <td>307297141</td>\n",
       "      <td>VISp</td>\n",
       "      <td>0.0</td>\n",
       "      <td>0.126831</td>\n",
       "      <td>-0.137688</td>\n",
       "      <td>0.180713</td>\n",
       "      <td>[-239.0178642     7.08477213  -63.88990698]</td>\n",
       "      <td>[0.0000000e+00 1.4001496e-12 0.0000000e+00]</td>\n",
       "      <td>0.0</td>\n",
       "      <td>0.076321</td>\n",
       "      <td>-0.137798</td>\n",
       "      <td>-0.004175</td>\n",
       "      <td>[-2.38724601e+02 -1.55272840e-01 -6.18889461e+01]</td>\n",
       "      <td>[0.         0.87660648 0.        ]</td>\n",
       "    </tr>\n",
       "  </tbody>\n",
       "</table>\n",
       "</div>"
      ],
      "text/plain": [
       "          id injection structure  injection dmn fraction  \\\n",
       "0  307297141                VISp                     0.0   \n",
       "\n",
       "   projection dmn fraction  distance coefficient  DMN coefficient  \\\n",
       "0                 0.126831             -0.137688         0.180713   \n",
       "\n",
       "                                  DMN t values  \\\n",
       "0  [-239.0178642     7.08477213  -63.88990698]   \n",
       "\n",
       "                                  DMN p values  injection core fraction  \\\n",
       "0  [0.0000000e+00 1.4001496e-12 0.0000000e+00]                      0.0   \n",
       "\n",
       "   projection core fraction  core distance coefficient  DMN core coefficient  \\\n",
       "0                  0.076321                  -0.137798             -0.004175   \n",
       "\n",
       "                                       core t values  \\\n",
       "0  [-2.38724601e+02 -1.55272840e-01 -6.18889461e+01]   \n",
       "\n",
       "                        core p values  \n",
       "0  [0.         0.87660648 0.        ]  "
      ]
     },
     "execution_count": 39,
     "metadata": {},
     "output_type": "execute_result"
    }
   ],
   "source": [
    "wt_meta.head(1)"
   ]
  },
  {
   "cell_type": "code",
   "execution_count": null,
   "metadata": {
    "collapsed": true
   },
   "outputs": [],
   "source": []
  },
  {
   "cell_type": "code",
   "execution_count": null,
   "metadata": {
    "collapsed": true
   },
   "outputs": [],
   "source": []
  },
  {
   "cell_type": "code",
   "execution_count": null,
   "metadata": {
    "collapsed": true
   },
   "outputs": [],
   "source": []
  },
  {
   "cell_type": "code",
   "execution_count": 40,
   "metadata": {},
   "outputs": [
    {
     "name": "stderr",
     "output_type": "stream",
     "text": [
      "/opt/anaconda3/lib/python3.7/site-packages/ipykernel_launcher.py:7: RuntimeWarning: overflow encountered in long_scalars\n",
      "  import sys\n"
     ]
    }
   ],
   "source": [
    "img = Image.new('RGBA',(fsize[1],fsize[0]),(255,255,255,0))\n",
    "draw = ImageDraw.Draw(img)\n",
    "for i,row in cent_df.iterrows():\n",
    "    centroid = row[['flat_x','flat_y']]\n",
    "\n",
    "\n",
    "    draw.ellipse((centroid[0]-3,centroid[1]-3,centroid[0]+3,centroid[1]+3),fill='black')\n",
    "#     img.save('./new_results_for_julie/{}f.png'.format(i))"
   ]
  },
  {
   "cell_type": "code",
   "execution_count": 41,
   "metadata": {
    "collapsed": true
   },
   "outputs": [],
   "source": [
    "img.save('./flat_map_results.png')"
   ]
  },
  {
   "cell_type": "code",
   "execution_count": 42,
   "metadata": {},
   "outputs": [
    {
     "name": "stderr",
     "output_type": "stream",
     "text": [
      "/opt/anaconda3/lib/python3.7/site-packages/ipykernel_launcher.py:7: RuntimeWarning: overflow encountered in long_scalars\n",
      "  import sys\n"
     ]
    }
   ],
   "source": [
    "img = Image.new('RGBA',(top_size[0],top_size[1]),(255,255,255,0))\n",
    "draw = ImageDraw.Draw(img)\n",
    "for i,row in cent_df.iterrows():\n",
    "    centroid = row[['top_x','top_y']]\n",
    "\n",
    "\n",
    "    draw.ellipse((centroid[0]-3,centroid[1]-3,centroid[0]+3,centroid[1]+3),fill='black')\n",
    "#     img.save('./new_results_for_julie/{}.png'.format(i))"
   ]
  },
  {
   "cell_type": "code",
   "execution_count": 43,
   "metadata": {
    "collapsed": true
   },
   "outputs": [],
   "source": [
    "img.save('./top_view_results.png')"
   ]
  },
  {
   "cell_type": "code",
   "execution_count": 45,
   "metadata": {
    "collapsed": true
   },
   "outputs": [],
   "source": [
    "cent_df.to_json('./top_flat_centroids.json')"
   ]
  },
  {
   "cell_type": "markdown",
   "metadata": {},
   "source": [
    "# Add labels"
   ]
  },
  {
   "cell_type": "code",
   "execution_count": 177,
   "metadata": {
    "collapsed": true
   },
   "outputs": [],
   "source": [
    "from PIL import ImageFont"
   ]
  },
  {
   "cell_type": "code",
   "execution_count": 196,
   "metadata": {
    "collapsed": true
   },
   "outputs": [],
   "source": [
    "font = ImageFont.truetype(\"arial\",size=15)"
   ]
  },
  {
   "cell_type": "code",
   "execution_count": 201,
   "metadata": {
    "collapsed": true
   },
   "outputs": [],
   "source": [
    "img = Image.new('RGBA',(fsize[1],fsize[0]),(255,255,255,0))\n",
    "draw = ImageDraw.Draw(img)\n",
    "for i,row in cent_df.iterrows():\n",
    "    centroid = row[['flat_x','flat_y']]\n",
    "\n",
    "\n",
    "    draw.text((centroid[0]-3,centroid[1]-3,centroid[0]+3,centroid[1]+3),\"{}\".format(i),fill='blue',font=font)\n",
    "#     img.save('./new_results_for_julie/{}f.png'.format(i))"
   ]
  },
  {
   "cell_type": "code",
   "execution_count": 190,
   "metadata": {
    "collapsed": true
   },
   "outputs": [],
   "source": [
    "img.show()"
   ]
  },
  {
   "cell_type": "code",
   "execution_count": 202,
   "metadata": {
    "collapsed": true
   },
   "outputs": [],
   "source": [
    "img.save('./flat_ids.png')"
   ]
  },
  {
   "cell_type": "code",
   "execution_count": 199,
   "metadata": {
    "collapsed": true
   },
   "outputs": [],
   "source": [
    "img = Image.new('RGBA',(top_size[0],top_size[1]),(255,255,255,0))\n",
    "draw = ImageDraw.Draw(img)\n",
    "for i,row in cent_df.iterrows():\n",
    "    centroid = row[['top_x','top_y']]\n",
    "\n",
    "\n",
    "    draw.text((centroid[0]-3,centroid[1]-3,centroid[0]+3,centroid[1]+3),\"{}\".format(i),fill='blue',font=font)\n",
    "#     img.save('./new_results_for_julie/{}.png'.format(i))"
   ]
  },
  {
   "cell_type": "code",
   "execution_count": 200,
   "metadata": {
    "collapsed": true
   },
   "outputs": [],
   "source": [
    "img.save('./top_ids.png')"
   ]
  },
  {
   "cell_type": "code",
   "execution_count": null,
   "metadata": {
    "collapsed": true
   },
   "outputs": [],
   "source": []
  }
 ],
 "metadata": {
  "kernelspec": {
   "display_name": "dmn-virtualenv",
   "language": "python",
   "name": "dmn-virtualenv"
  },
  "language_info": {
   "codemirror_mode": {
    "name": "ipython",
    "version": 3
   },
   "file_extension": ".py",
   "mimetype": "text/x-python",
   "name": "python",
   "nbconvert_exporter": "python",
   "pygments_lexer": "ipython3",
   "version": "3.7.4"
  }
 },
 "nbformat": 4,
 "nbformat_minor": 2
}
