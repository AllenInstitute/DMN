{
 "cells": [
  {
   "cell_type": "code",
   "execution_count": 1,
   "metadata": {},
   "outputs": [],
   "source": [
    "import pandas as pd\n",
    "import matplotlib.pyplot as plt\n",
    "import numpy as np\n",
    "import os\n",
    "import nrrd\n",
    "import json\n",
    "from allensdk.core.mouse_connectivity_cache import MouseConnectivityCache\n",
    "from allensdk.api.queries.ontologies_api import OntologiesApi\n",
    "import requests\n",
    "from anatomy.anatomy_api import AnatomyApi\n",
    "import scipy.stats as stats\n",
    "import statsmodels.api as sm\n",
    "from scipy.optimize import curve_fit\n",
    "from statsmodels.sandbox.regression.predstd import wls_prediction_std\n",
    "from statsmodels.graphics import utils\n",
    "from statsmodels.formula.api import ols\n",
    "\n",
    "import seaborn as sns\n",
    "sns.set_context('paper')\n",
    "sns.set_style('white')\n",
    "\n",
    "%matplotlib inline\n",
    "import matplotlib as mpl\n",
    "mpl.rcParams['pdf.fonttype'] = 42\n",
    "\n",
    "distance_threshold = 800\n",
    "overlap_threshold = 0.05"
   ]
  },
  {
   "cell_type": "code",
   "execution_count": 2,
   "metadata": {},
   "outputs": [],
   "source": [
    "basepath = r'../../../'\n",
    "datpath = (r'../data_files')\n",
    "# No savepath - this did not end up in the paper"
   ]
  },
  {
   "cell_type": "code",
   "execution_count": 3,
   "metadata": {},
   "outputs": [],
   "source": [
    "aapi = AnatomyApi()\n",
    "ss = aapi.get_summary_structure_data('id')\n",
    "mcc = MouseConnectivityCache(manifest_file = '../connectivity/mouse_connectivity_manifest.json')\n",
    "structure_tree = mcc.get_structure_tree()\n",
    "isocortex = structure_tree.get_structures_by_acronym(['Isocortex'])[0]\n",
    "HPF = structure_tree.get_structures_by_acronym(['HPF'])[0]\n",
    "iso = structure_tree.descendant_ids([isocortex['id']])[0]\n",
    "iso = [structure for structure in iso if structure in ss]\n",
    "hipp = structure_tree.descendant_ids([HPF['id']])[0]\n",
    "hipp = [structure for structure in hipp if structure in ss]\n",
    "ia_map = structure_tree.get_id_acronym_map()\n",
    "ai_map = {value:key for key, value in ia_map.items()}\n",
    "ctx_strs = [ai_map[structure] for structure in iso]\n",
    "hipp_strs = [ai_map[structure] for structure in hipp]\n",
    "valid_strs = ctx_strs+hipp_strs"
   ]
  },
  {
   "cell_type": "code",
   "execution_count": 4,
   "metadata": {},
   "outputs": [
    {
     "name": "stdout",
     "output_type": "stream",
     "text": [
      "586\n",
      "627\n"
     ]
    }
   ],
   "source": [
    "alldat = pd.read_csv(os.path.join(datpath, 'good_td_wt_correlations.csv'))\n",
    "print(len(alldat))\n",
    "c_by_source = pd.read_csv(os.path.join(datpath, 'good_wt_correlations.csv'))\n",
    "print(len(c_by_source))"
   ]
  },
  {
   "cell_type": "code",
   "execution_count": 5,
   "metadata": {},
   "outputs": [
    {
     "data": {
      "text/plain": [
       "69"
      ]
     },
     "execution_count": 5,
     "metadata": {},
     "output_type": "execute_result"
    }
   ],
   "source": [
    "len(c_by_source[c_by_source['same secondary for <60% primary'] == True])"
   ]
  },
  {
   "cell_type": "code",
   "execution_count": 6,
   "metadata": {},
   "outputs": [],
   "source": [
    "c_by_source.loc[c_by_source['transgenic_line_A'].isnull(), 'transgenic_line_A'] = 'C57Bl/6'\n",
    "c_by_source.loc[c_by_source['transgenic_line_B'].isnull(), 'transgenic_line_B'] = 'C57Bl/6'"
   ]
  },
  {
   "cell_type": "code",
   "execution_count": 7,
   "metadata": {},
   "outputs": [
    {
     "name": "stdout",
     "output_type": "stream",
     "text": [
      "wt:  88\n",
      "Emx1-Cre:  53\n",
      "Rbp4-Cre:  67\n",
      "other:  0\n"
     ]
    }
   ],
   "source": [
    "wt = c_by_source[c_by_source['transgenic_line_A'] == 'C57Bl/6']['match_A'].unique()\n",
    "wt2 = c_by_source[c_by_source['transgenic_line_B'] == 'C57Bl/6']['match_B'].unique()\n",
    "wt = np.append(wt, wt2)\n",
    "print('wt: ', len(np.unique(wt)))\n",
    "Emx = c_by_source[c_by_source['transgenic_line_A'] == 'Emx1-IRES-Cre']['match_A'].unique()\n",
    "Emx2 = c_by_source[c_by_source['transgenic_line_B'] == 'Emx1-IRES-Cre']['match_B'].unique()\n",
    "Emx = np.append(Emx, Emx2)\n",
    "print('Emx1-Cre: ', len(np.unique(Emx)))\n",
    "Rbp4 = c_by_source[c_by_source['transgenic_line_A'] == 'Rbp4-Cre_KL100']['match_A'].unique()\n",
    "Rbp42 = c_by_source[c_by_source['transgenic_line_B'] == 'Rbp4-Cre_KL100']['match_B'].unique()\n",
    "Rbp4 = np.append(Rbp4, Rbp42)\n",
    "print('Rbp4-Cre: ', len(np.unique(Rbp4)))\n",
    "other = c_by_source[(c_by_source['transgenic_line_A'] != 'C57Bl/6') & \n",
    "                    (~c_by_source['transgenic_line_A'].isin(['Emx1-IRES-Cre', \n",
    "                                                             'Rbp4-Cre_KL100']))]['match_A'].unique()\n",
    "other2 = c_by_source[(c_by_source['transgenic_line_B'] != 'C57Bl/6') & \n",
    "                    (~c_by_source['transgenic_line_B'].isin(['Emx1-IRES-Cre', \n",
    "                                                             'Rbp4-Cre_KL100']))]['match_B'].unique()\n",
    "other = np.append(other, other2)\n",
    "print('other: ', len(np.unique(other)))"
   ]
  },
  {
   "cell_type": "code",
   "execution_count": 8,
   "metadata": {},
   "outputs": [
    {
     "name": "stdout",
     "output_type": "stream",
     "text": [
      "Emx1-Cre:  27\n",
      "Rbp4-Cre:  13\n"
     ]
    }
   ],
   "source": [
    "Emx = c_by_source[(c_by_source['transgenic_line_A'] == 'Emx1-IRES-Cre') &\n",
    "                     (c_by_source['Virus_A'] == 'SypEGFP')]['match_A'].unique()\n",
    "Emx2 = c_by_source[(c_by_source['transgenic_line_B'] == 'Emx1-IRES-Cre') &\n",
    "                     (c_by_source['Virus_B'] == 'SypEGFP')]['match_B'].unique()\n",
    "Emx = np.append(Emx, Emx2)\n",
    "print('Emx1-Cre: ', len(np.unique(Emx)))\n",
    "Rbp4 = c_by_source[(c_by_source['transgenic_line_A'] == 'Rbp4-Cre_KL100') &\n",
    "                     (c_by_source['Virus_A'] == 'SypEGFP')]['match_A'].unique()\n",
    "Rbp42 = c_by_source[(c_by_source['transgenic_line_B'] == 'Rbp4-Cre_KL100') &\n",
    "                     (c_by_source['Virus_B'] == 'SypEGFP')]['match_B'].unique()\n",
    "Rbp4 = np.append(Rbp4, Rbp42)\n",
    "print('Rbp4-Cre: ', len(np.unique(Rbp4)))"
   ]
  },
  {
   "cell_type": "code",
   "execution_count": 9,
   "metadata": {},
   "outputs": [
    {
     "name": "stderr",
     "output_type": "stream",
     "text": [
      "/opt/anaconda3/lib/python3.7/site-packages/ipykernel_launcher.py:3: SettingWithCopyWarning: \n",
      "A value is trying to be set on a copy of a slice from a DataFrame.\n",
      "Try using .loc[row_indexer,col_indexer] = value instead\n",
      "\n",
      "See the caveats in the documentation: https://pandas.pydata.org/pandas-docs/stable/user_guide/indexing.html#returning-a-view-versus-a-copy\n",
      "  This is separate from the ipykernel package so we can avoid doing imports until\n",
      "/opt/anaconda3/lib/python3.7/site-packages/pandas/core/indexing.py:1765: SettingWithCopyWarning: \n",
      "A value is trying to be set on a copy of a slice from a DataFrame.\n",
      "Try using .loc[row_indexer,col_indexer] = value instead\n",
      "\n",
      "See the caveats in the documentation: https://pandas.pydata.org/pandas-docs/stable/user_guide/indexing.html#returning-a-view-versus-a-copy\n",
      "  isetter(loc, value)\n",
      "/opt/anaconda3/lib/python3.7/site-packages/pandas/core/indexing.py:1760: SettingWithCopyWarning: \n",
      "A value is trying to be set on a copy of a slice from a DataFrame.\n",
      "Try using .loc[row_indexer,col_indexer] = value instead\n",
      "\n",
      "See the caveats in the documentation: https://pandas.pydata.org/pandas-docs/stable/user_guide/indexing.html#returning-a-view-versus-a-copy\n",
      "  isetter(loc, v)\n",
      "/opt/anaconda3/lib/python3.7/site-packages/ipykernel_launcher.py:24: SettingWithCopyWarning: \n",
      "A value is trying to be set on a copy of a slice from a DataFrame.\n",
      "Try using .loc[row_indexer,col_indexer] = value instead\n",
      "\n",
      "See the caveats in the documentation: https://pandas.pydata.org/pandas-docs/stable/user_guide/indexing.html#returning-a-view-versus-a-copy\n"
     ]
    }
   ],
   "source": [
    "df = c_by_source[['match_A', 'match_B', 'transgenic_line_A', 'transgenic_line_B', 'Virus_A', 'Virus_B', \n",
    "                  'spearman_correlation']]\n",
    "df['tl'] = df[['transgenic_line_A', 'transgenic_line_B']].apply(lambda x: '_'.join(x), axis=1)\n",
    "\n",
    "for index, row in df.iterrows():\n",
    "    if(row['tl'] == 'Rbp4-Cre_KL100_C57Bl/6'):\n",
    "        df.loc[index, 'tl'] = 'C57Bl/6_Rbp4-Cre_KL100'\n",
    "        df.loc[index, ['match_A', 'match_B']] = df.loc[\n",
    "            index, ['match_B', 'match_A']].values\n",
    "        df.loc[index,['Virus_A','Virus_B']] = df.loc[\n",
    "                index,['Virus_B','Virus_A']].values\n",
    "    if(row['tl'] == 'Emx1-IRES-Cre_C57Bl/6'):\n",
    "        df.loc[index, 'tl'] = 'C57Bl/6_Emx1-IRES-Cre'\n",
    "        df.loc[index, ['match_A', 'match_B']] = df.loc[\n",
    "            index, ['match_B', 'match_A']].values\n",
    "        df.loc[index,['Virus_A','Virus_B']] = df.loc[\n",
    "                index,['Virus_B','Virus_A']].values\n",
    "    if(row['tl'] == 'Rbp4-Cre_KL100_Emx1-IRES-Cre'):\n",
    "        df.loc[index, 'tl'] = 'Emx1-IRES-Cre_Rbp4-Cre_KL100'\n",
    "        df.loc[index, ['match_A', 'match_B']] = df.loc[\n",
    "            index, ['match_B', 'match_A']].values\n",
    "        df.loc[index,['Virus_A','Virus_B']] = df.loc[\n",
    "                index,['Virus_B','Virus_A']].values\n",
    "df['v'] = df[['Virus_A', 'Virus_B']].apply(lambda x: '_'.join(x), axis=1)"
   ]
  },
  {
   "cell_type": "code",
   "execution_count": 10,
   "metadata": {
    "scrolled": false
   },
   "outputs": [
    {
     "data": {
      "text/plain": [
       "array(['Emx1-IRES-Cre_Rbp4-Cre_KL100', 'C57Bl/6_Rbp4-Cre_KL100',\n",
       "       'Rbp4-Cre_KL100_Rbp4-Cre_KL100', 'Emx1-IRES-Cre_Emx1-IRES-Cre',\n",
       "       'C57Bl/6_Emx1-IRES-Cre', 'C57Bl/6_C57Bl/6'], dtype=object)"
      ]
     },
     "execution_count": 10,
     "metadata": {},
     "output_type": "execute_result"
    }
   ],
   "source": [
    "df['tl'].unique()"
   ]
  },
  {
   "cell_type": "code",
   "execution_count": 11,
   "metadata": {
    "scrolled": true
   },
   "outputs": [
    {
     "data": {
      "text/plain": [
       "array(['SypEGFP_SypEGFP', 'EGFP_SypEGFP', 'SypEGFP_EGFP', 'EGFP_EGFP'],\n",
       "      dtype=object)"
      ]
     },
     "execution_count": 11,
     "metadata": {},
     "output_type": "execute_result"
    }
   ],
   "source": [
    "df['v'].unique()"
   ]
  },
  {
   "cell_type": "code",
   "execution_count": 12,
   "metadata": {
    "scrolled": false
   },
   "outputs": [
    {
     "data": {
      "text/html": [
       "<div>\n",
       "<style scoped>\n",
       "    .dataframe tbody tr th:only-of-type {\n",
       "        vertical-align: middle;\n",
       "    }\n",
       "\n",
       "    .dataframe tbody tr th {\n",
       "        vertical-align: top;\n",
       "    }\n",
       "\n",
       "    .dataframe thead th {\n",
       "        text-align: right;\n",
       "    }\n",
       "</style>\n",
       "<table border=\"1\" class=\"dataframe\">\n",
       "  <thead>\n",
       "    <tr style=\"text-align: right;\">\n",
       "      <th></th>\n",
       "      <th>tl</th>\n",
       "      <th>v</th>\n",
       "      <th>spearman_correlation</th>\n",
       "      <th>tln</th>\n",
       "      <th>vn</th>\n",
       "    </tr>\n",
       "  </thead>\n",
       "  <tbody>\n",
       "    <tr>\n",
       "      <th>0</th>\n",
       "      <td>Emx1-IRES-Cre_Rbp4-Cre_KL100</td>\n",
       "      <td>SypEGFP_SypEGFP</td>\n",
       "      <td>0.857022</td>\n",
       "      <td>4</td>\n",
       "      <td>4</td>\n",
       "    </tr>\n",
       "    <tr>\n",
       "      <th>1</th>\n",
       "      <td>C57Bl/6_Rbp4-Cre_KL100</td>\n",
       "      <td>EGFP_SypEGFP</td>\n",
       "      <td>0.806174</td>\n",
       "      <td>2</td>\n",
       "      <td>2</td>\n",
       "    </tr>\n",
       "    <tr>\n",
       "      <th>2</th>\n",
       "      <td>Emx1-IRES-Cre_Rbp4-Cre_KL100</td>\n",
       "      <td>SypEGFP_SypEGFP</td>\n",
       "      <td>0.974469</td>\n",
       "      <td>4</td>\n",
       "      <td>4</td>\n",
       "    </tr>\n",
       "    <tr>\n",
       "      <th>3</th>\n",
       "      <td>C57Bl/6_Rbp4-Cre_KL100</td>\n",
       "      <td>EGFP_SypEGFP</td>\n",
       "      <td>0.786528</td>\n",
       "      <td>2</td>\n",
       "      <td>2</td>\n",
       "    </tr>\n",
       "    <tr>\n",
       "      <th>4</th>\n",
       "      <td>C57Bl/6_Rbp4-Cre_KL100</td>\n",
       "      <td>EGFP_SypEGFP</td>\n",
       "      <td>0.891894</td>\n",
       "      <td>2</td>\n",
       "      <td>2</td>\n",
       "    </tr>\n",
       "  </tbody>\n",
       "</table>\n",
       "</div>"
      ],
      "text/plain": [
       "                             tl                v  spearman_correlation  tln  \\\n",
       "0  Emx1-IRES-Cre_Rbp4-Cre_KL100  SypEGFP_SypEGFP              0.857022    4   \n",
       "1        C57Bl/6_Rbp4-Cre_KL100     EGFP_SypEGFP              0.806174    2   \n",
       "2  Emx1-IRES-Cre_Rbp4-Cre_KL100  SypEGFP_SypEGFP              0.974469    4   \n",
       "3        C57Bl/6_Rbp4-Cre_KL100     EGFP_SypEGFP              0.786528    2   \n",
       "4        C57Bl/6_Rbp4-Cre_KL100     EGFP_SypEGFP              0.891894    2   \n",
       "\n",
       "   vn  \n",
       "0   4  \n",
       "1   2  \n",
       "2   4  \n",
       "3   2  \n",
       "4   2  "
      ]
     },
     "execution_count": 12,
     "metadata": {},
     "output_type": "execute_result"
    }
   ],
   "source": [
    "# Make categorical variables for anova\n",
    "df = df[['tl', 'v', 'spearman_correlation']]\n",
    "df['tln']=df.tl.map({'C57Bl/6_C57Bl/6':1,'C57Bl/6_Rbp4-Cre_KL100':2, 'C57Bl/6_Emx1-IRES-Cre':3,\n",
    "                    'Emx1-IRES-Cre_Rbp4-Cre_KL100':4, 'Emx1-IRES-Cre_Emx1-IRES-Cre':5,\n",
    "                    'Rbp4-Cre_KL100_Rbp4-Cre_KL100':6})\n",
    "df['vn']=df.v.map({'EGFP_EGFP':1,'EGFP_SypEGFP':2, 'SypEGFP_EGFP':3, 'SypEGFP_SypEGFP':4})\n",
    "df.head()"
   ]
  },
  {
   "cell_type": "code",
   "execution_count": 13,
   "metadata": {},
   "outputs": [],
   "source": [
    "results = ols('spearman_correlation ~ C(tln)*C(vn)', df).fit()"
   ]
  },
  {
   "cell_type": "code",
   "execution_count": 14,
   "metadata": {
    "scrolled": true
   },
   "outputs": [
    {
     "data": {
      "text/html": [
       "<div>\n",
       "<style scoped>\n",
       "    .dataframe tbody tr th:only-of-type {\n",
       "        vertical-align: middle;\n",
       "    }\n",
       "\n",
       "    .dataframe tbody tr th {\n",
       "        vertical-align: top;\n",
       "    }\n",
       "\n",
       "    .dataframe thead th {\n",
       "        text-align: right;\n",
       "    }\n",
       "</style>\n",
       "<table border=\"1\" class=\"dataframe\">\n",
       "  <thead>\n",
       "    <tr style=\"text-align: right;\">\n",
       "      <th></th>\n",
       "      <th>df</th>\n",
       "      <th>sum_sq</th>\n",
       "      <th>mean_sq</th>\n",
       "      <th>F</th>\n",
       "      <th>PR(&gt;F)</th>\n",
       "    </tr>\n",
       "  </thead>\n",
       "  <tbody>\n",
       "    <tr>\n",
       "      <th>C(tln)</th>\n",
       "      <td>5.0</td>\n",
       "      <td>0.131609</td>\n",
       "      <td>0.026322</td>\n",
       "      <td>5.381981</td>\n",
       "      <td>0.000075</td>\n",
       "    </tr>\n",
       "    <tr>\n",
       "      <th>C(vn)</th>\n",
       "      <td>3.0</td>\n",
       "      <td>0.027803</td>\n",
       "      <td>0.009268</td>\n",
       "      <td>1.894960</td>\n",
       "      <td>0.129198</td>\n",
       "    </tr>\n",
       "    <tr>\n",
       "      <th>C(tln):C(vn)</th>\n",
       "      <td>15.0</td>\n",
       "      <td>0.135963</td>\n",
       "      <td>0.009064</td>\n",
       "      <td>1.853338</td>\n",
       "      <td>0.025110</td>\n",
       "    </tr>\n",
       "    <tr>\n",
       "      <th>Residual</th>\n",
       "      <td>610.0</td>\n",
       "      <td>2.983354</td>\n",
       "      <td>0.004891</td>\n",
       "      <td>NaN</td>\n",
       "      <td>NaN</td>\n",
       "    </tr>\n",
       "  </tbody>\n",
       "</table>\n",
       "</div>"
      ],
      "text/plain": [
       "                 df    sum_sq   mean_sq         F    PR(>F)\n",
       "C(tln)          5.0  0.131609  0.026322  5.381981  0.000075\n",
       "C(vn)           3.0  0.027803  0.009268  1.894960  0.129198\n",
       "C(tln):C(vn)   15.0  0.135963  0.009064  1.853338  0.025110\n",
       "Residual      610.0  2.983354  0.004891       NaN       NaN"
      ]
     },
     "execution_count": 14,
     "metadata": {},
     "output_type": "execute_result"
    }
   ],
   "source": [
    "aov_table = sm.stats.anova_lm(results)\n",
    "aov_table"
   ]
  },
  {
   "cell_type": "code",
   "execution_count": 15,
   "metadata": {},
   "outputs": [],
   "source": [
    "# Remove interaction term because it was not significant and rerun\n",
    "results = ols('spearman_correlation ~ C(tln) + C(vn)', df).fit()"
   ]
  },
  {
   "cell_type": "code",
   "execution_count": 16,
   "metadata": {
    "scrolled": true
   },
   "outputs": [
    {
     "data": {
      "text/html": [
       "<div>\n",
       "<style scoped>\n",
       "    .dataframe tbody tr th:only-of-type {\n",
       "        vertical-align: middle;\n",
       "    }\n",
       "\n",
       "    .dataframe tbody tr th {\n",
       "        vertical-align: top;\n",
       "    }\n",
       "\n",
       "    .dataframe thead th {\n",
       "        text-align: right;\n",
       "    }\n",
       "</style>\n",
       "<table border=\"1\" class=\"dataframe\">\n",
       "  <thead>\n",
       "    <tr style=\"text-align: right;\">\n",
       "      <th></th>\n",
       "      <th>df</th>\n",
       "      <th>sum_sq</th>\n",
       "      <th>mean_sq</th>\n",
       "      <th>F</th>\n",
       "      <th>PR(&gt;F)</th>\n",
       "    </tr>\n",
       "  </thead>\n",
       "  <tbody>\n",
       "    <tr>\n",
       "      <th>C(tln)</th>\n",
       "      <td>5.0</td>\n",
       "      <td>0.131609</td>\n",
       "      <td>0.026322</td>\n",
       "      <td>5.378391</td>\n",
       "      <td>0.000075</td>\n",
       "    </tr>\n",
       "    <tr>\n",
       "      <th>C(vn)</th>\n",
       "      <td>3.0</td>\n",
       "      <td>0.027803</td>\n",
       "      <td>0.009268</td>\n",
       "      <td>1.893697</td>\n",
       "      <td>0.129392</td>\n",
       "    </tr>\n",
       "    <tr>\n",
       "      <th>Residual</th>\n",
       "      <td>618.0</td>\n",
       "      <td>3.024497</td>\n",
       "      <td>0.004894</td>\n",
       "      <td>NaN</td>\n",
       "      <td>NaN</td>\n",
       "    </tr>\n",
       "  </tbody>\n",
       "</table>\n",
       "</div>"
      ],
      "text/plain": [
       "             df    sum_sq   mean_sq         F    PR(>F)\n",
       "C(tln)      5.0  0.131609  0.026322  5.378391  0.000075\n",
       "C(vn)       3.0  0.027803  0.009268  1.893697  0.129392\n",
       "Residual  618.0  3.024497  0.004894       NaN       NaN"
      ]
     },
     "execution_count": 16,
     "metadata": {},
     "output_type": "execute_result"
    }
   ],
   "source": [
    "aov_table = sm.stats.anova_lm(results)\n",
    "aov_table"
   ]
  },
  {
   "cell_type": "code",
   "execution_count": 17,
   "metadata": {},
   "outputs": [],
   "source": [
    "# Only transgenic line is significant; virus is not"
   ]
  },
  {
   "cell_type": "code",
   "execution_count": 18,
   "metadata": {
    "scrolled": false
   },
   "outputs": [
    {
     "name": "stdout",
     "output_type": "stream",
     "text": [
      "                             OLS Regression Results                             \n",
      "================================================================================\n",
      "Dep. Variable:     spearman_correlation   R-squared:                       0.050\n",
      "Model:                              OLS   Adj. R-squared:                  0.038\n",
      "Method:                   Least Squares   F-statistic:                     4.072\n",
      "Date:                  Thu, 19 Nov 2020   Prob (F-statistic):           9.72e-05\n",
      "Time:                          19:58:34   Log-Likelihood:                 782.60\n",
      "No. Observations:                   627   AIC:                            -1547.\n",
      "Df Residuals:                       618   BIC:                            -1507.\n",
      "Df Model:                             8                                         \n",
      "Covariance Type:              nonrobust                                         \n",
      "===============================================================================\n",
      "                  coef    std err          t      P>|t|      [0.025      0.975]\n",
      "-------------------------------------------------------------------------------\n",
      "Intercept       0.8569      0.006    135.848      0.000       0.845       0.869\n",
      "C(tln)[T.2]    -0.0107      0.009     -1.242      0.215      -0.027       0.006\n",
      "C(tln)[T.3]     0.0228      0.009      2.427      0.015       0.004       0.041\n",
      "C(tln)[T.4]     0.0049      0.011      0.447      0.655      -0.017       0.026\n",
      "C(tln)[T.5]     0.0516      0.014      3.755      0.000       0.025       0.079\n",
      "C(tln)[T.6]     0.0152      0.012      1.273      0.203      -0.008       0.039\n",
      "C(vn)[T.2]     -0.0162      0.007     -2.177      0.030      -0.031      -0.002\n",
      "C(vn)[T.3]     -0.0169      0.012     -1.384      0.167      -0.041       0.007\n",
      "C(vn)[T.4]     -0.0127      0.017     -0.760      0.448      -0.046       0.020\n",
      "==============================================================================\n",
      "Omnibus:                       57.645   Durbin-Watson:                   1.526\n",
      "Prob(Omnibus):                  0.000   Jarque-Bera (JB):               72.219\n",
      "Skew:                          -0.764   Prob(JB):                     2.08e-16\n",
      "Kurtosis:                       3.656   Cond. No.                         8.55\n",
      "==============================================================================\n",
      "\n",
      "Notes:\n",
      "[1] Standard Errors assume that the covariance matrix of the errors is correctly specified.\n"
     ]
    }
   ],
   "source": [
    "print(results.summary())"
   ]
  },
  {
   "cell_type": "code",
   "execution_count": 19,
   "metadata": {
    "scrolled": true
   },
   "outputs": [
    {
     "data": {
      "text/plain": [
       "{'jb': 72.21904028466149,\n",
       " 'jbpv': 2.0789050681628424e-16,\n",
       " 'skew': -0.7639780305374182,\n",
       " 'kurtosis': 3.6555268520700883,\n",
       " 'omni': 57.645489527521384,\n",
       " 'omnipv': 3.0369734539975215e-13,\n",
       " 'condno': 8.552314518358136,\n",
       " 'mineigval': 10.751015032497305}"
      ]
     },
     "execution_count": 19,
     "metadata": {},
     "output_type": "execute_result"
    }
   ],
   "source": [
    "results.diagn"
   ]
  },
  {
   "cell_type": "code",
   "execution_count": 20,
   "metadata": {},
   "outputs": [
    {
     "data": {
      "text/plain": [
       "LeveneResult(statistic=0.7202965516284426, pvalue=0.7049707964194352)"
      ]
     },
     "execution_count": 20,
     "metadata": {},
     "output_type": "execute_result"
    }
   ],
   "source": [
    "#Test homogeneity of variance between groups\n",
    "stats.levene(df['spearman_correlation'][df['tln'] == 2][df['vn'] == 2],\n",
    "             df['spearman_correlation'][df['tln'] == 3][df['vn'] == 2],\n",
    "             df['spearman_correlation'][df['tln'] == 4][df['vn'] == 2],\n",
    "            df['spearman_correlation'][df['tln'] == 5][df['vn'] == 2],\n",
    "            df['spearman_correlation'][df['tln'] == 6][df['vn'] == 2],\n",
    "             df['spearman_correlation'][df['tln'] == 4][df['vn'] == 3],\n",
    "            df['spearman_correlation'][df['tln'] == 5][df['vn'] == 3],\n",
    "            df['spearman_correlation'][df['tln'] == 6][df['vn'] == 3],\n",
    "             df['spearman_correlation'][df['tln'] == 4][df['vn'] == 4],\n",
    "            df['spearman_correlation'][df['tln'] == 5][df['vn'] == 4],\n",
    "            df['spearman_correlation'][df['tln'] == 6][df['vn'] == 4])"
   ]
  },
  {
   "cell_type": "code",
   "execution_count": 21,
   "metadata": {},
   "outputs": [
    {
     "data": {
      "text/plain": [
       "(0.9609500169754028, 7.413594044214378e-12)"
      ]
     },
     "execution_count": 21,
     "metadata": {},
     "output_type": "execute_result"
    }
   ],
   "source": [
    "#test normality\n",
    "stats.shapiro(results.resid)"
   ]
  },
  {
   "cell_type": "code",
   "execution_count": 22,
   "metadata": {},
   "outputs": [
    {
     "data": {
      "image/png": "[encoded data removed]",
      "text/plain": [
       "<Figure size 432x288 with 1 Axes>"
      ]
     },
     "metadata": {
      "needs_background": "light"
     },
     "output_type": "display_data"
    }
   ],
   "source": [
    "res = results.resid \n",
    "fig = sm.qqplot(res, line='s')\n",
    "plt.show()"
   ]
  },
  {
   "cell_type": "code",
   "execution_count": 23,
   "metadata": {},
   "outputs": [
    {
     "data": {
      "text/plain": [
       "{'C57Bl/6_C57Bl/6': 1,\n",
       " 'C57Bl/6_Rbp4-Cre_KL100': 2,\n",
       " 'C57Bl/6_Emx1-IRES-Cre': 3,\n",
       " 'Emx1-IRES-Cre_Rbp4-Cre_KL100': 4,\n",
       " 'Emx1-IRES-Cre_Emx1-IRES-Cre': 5,\n",
       " 'Rbp4-Cre_KL100_Rbp4-Cre_KL100': 6}"
      ]
     },
     "execution_count": 23,
     "metadata": {},
     "output_type": "execute_result"
    }
   ],
   "source": [
    "{'C57Bl/6_C57Bl/6':1,'C57Bl/6_Rbp4-Cre_KL100':2, 'C57Bl/6_Emx1-IRES-Cre':3,\n",
    "                    'Emx1-IRES-Cre_Rbp4-Cre_KL100':4, 'Emx1-IRES-Cre_Emx1-IRES-Cre':5,\n",
    "                    'Rbp4-Cre_KL100_Rbp4-Cre_KL100':6}"
   ]
  },
  {
   "cell_type": "code",
   "execution_count": 24,
   "metadata": {},
   "outputs": [
    {
     "name": "stdout",
     "output_type": "stream",
     "text": [
      "Multiple Comparison of Means - Tukey HSD, FWER=0.05\n",
      "===================================================\n",
      "group1 group2 meandiff p-adj   lower  upper  reject\n",
      "---------------------------------------------------\n",
      "     1      2  -0.0142  0.541 -0.0383   0.01  False\n",
      "     1      3   0.0142 0.5479 -0.0102 0.0386  False\n",
      "     1      4  -0.0047    0.9 -0.0317 0.0223  False\n",
      "     1      5   0.0386  0.019  0.0039 0.0732   True\n",
      "     1      6   0.0084    0.9 -0.0248 0.0415  False\n",
      "     2      3   0.0284 0.0058  0.0055 0.0513   True\n",
      "     2      4   0.0095 0.8994 -0.0162 0.0351  False\n",
      "     2      5   0.0527  0.001  0.0191 0.0863   True\n",
      "     2      6   0.0225 0.3399 -0.0096 0.0546  False\n",
      "     3      4  -0.0189 0.2956 -0.0448  0.007  False\n",
      "     3      5   0.0244 0.3097 -0.0094 0.0582  False\n",
      "     3      6  -0.0059    0.9 -0.0381 0.0264  False\n",
      "     4      5   0.0433 0.0075  0.0076  0.079   True\n",
      "     4      6    0.013 0.8799 -0.0212 0.0473  False\n",
      "     5      6  -0.0302 0.2731 -0.0708 0.0103  False\n",
      "---------------------------------------------------\n"
     ]
    }
   ],
   "source": [
    "print(sm.stats.multicomp.pairwise_tukeyhsd(results.model.endog, df['tln'].values))"
   ]
  },
  {
   "cell_type": "code",
   "execution_count": 25,
   "metadata": {},
   "outputs": [
    {
     "data": {
      "text/plain": [
       "count    627.000000\n",
       "mean       0.859518\n",
       "std        0.071317\n",
       "min        0.596485\n",
       "25%        0.813910\n",
       "50%        0.867519\n",
       "75%        0.914891\n",
       "max        0.997767\n",
       "Name: spearman_correlation, dtype: float64"
      ]
     },
     "execution_count": 25,
     "metadata": {},
     "output_type": "execute_result"
    }
   ],
   "source": [
    "c_by_source['spearman_correlation'].describe()"
   ]
  },
  {
   "cell_type": "code",
   "execution_count": 26,
   "metadata": {},
   "outputs": [],
   "source": [
    "def corr(A,B):\n",
    "    inj_unionize_A = mcc.get_structure_unionizes(experiment_ids = A,\n",
    "                                               is_injection = True,\n",
    "                                               structure_ids = ss)\n",
    "    r_hemA = inj_unionize_A[inj_unionize_A['hemisphere_id'] == 2]['projection_volume'].sum()\n",
    "    l_hemA = inj_unionize_A[inj_unionize_A['hemisphere_id'] == 1]['projection_volume'].sum()\n",
    "    unionize_A = mcc.get_structure_unionizes(experiment_ids = A,\n",
    "                                            is_injection = False,\n",
    "                                            hemisphere_ids = [1,2],\n",
    "                                            structure_ids = ss)\n",
    "    if r_hemA > l_hemA:\n",
    "        unionize_A.loc[unionize_A['hemisphere_id'] == 1, 'hemisphere_id'] = 0\n",
    "        unionize_A.loc[unionize_A['hemisphere_id'] == 2, 'hemisphere_id'] = 1\n",
    "        unionize_A.loc[unionize_A['hemisphere_id'] == 0, 'hemisphere_id'] = 2\n",
    "    \n",
    "    inj_unionize_B = mcc.get_structure_unionizes(experiment_ids = B,\n",
    "                                               is_injection = True,\n",
    "                                               structure_ids = ss)\n",
    "    r_hemB = inj_unionize_B[inj_unionize_B['hemisphere_id'] == 2]['projection_volume'].sum()\n",
    "    l_hemB = inj_unionize_B[inj_unionize_B['hemisphere_id'] == 1]['projection_volume'].sum()\n",
    "    unionize_B = mcc.get_structure_unionizes(experiment_ids = B,\n",
    "                                            is_injection = False,\n",
    "                                            hemisphere_ids = [1,2],\n",
    "                                            structure_ids = ss)\n",
    "    if r_hemB > l_hemB:\n",
    "        unionize_B.loc[unionize_B['hemisphere_id'] == 1, 'hemisphere_id'] = 0\n",
    "        unionize_B.loc[unionize_B['hemisphere_id'] == 2, 'hemisphere_id'] = 1\n",
    "        unionize_B.loc[unionize_B['hemisphere_id'] == 0, 'hemisphere_id'] = 2\n",
    "        \n",
    "    unionizes = pd.concat([unionize_A, unionize_B])\n",
    "    unionizes.sort_values(by=['hemisphere_id', 'structure_id'], inplace = True)\n",
    "    unionizes = unionizes[unionizes['structure_id'].isin(iso)]\n",
    "    Avals = unionizes[unionizes['experiment_id'] == A[0]][\n",
    "            'normalized_projection_volume'].values\n",
    "    Bvals = unionizes[unionizes['experiment_id'] == B[0]][\n",
    "            'normalized_projection_volume'].values\n",
    "    return Avals, Bvals"
   ]
  },
  {
   "cell_type": "code",
   "execution_count": 27,
   "metadata": {},
   "outputs": [],
   "source": [
    "def find_nearest(array, value):\n",
    "    array = np.asarray(array)\n",
    "    idx = (np.abs(array - value)).argmin()\n",
    "    return array[idx]"
   ]
  },
  {
   "cell_type": "code",
   "execution_count": 28,
   "metadata": {},
   "outputs": [],
   "source": [
    "def plot_corrs(dat):\n",
    "    #min\n",
    "    A_min = dat[dat['spearman_correlation'] == dat['spearman_correlation'].min()]['match_A'].values\n",
    "    B_min = dat[dat['spearman_correlation'] == dat['spearman_correlation'].min()]['match_B'].values\n",
    "    minA, minB = corr(A_min,B_min)\n",
    "    min_source = dat[dat['spearman_correlation'] == dat['spearman_correlation'].min()]['source'].values[0]\n",
    "    print('min', 'A: ', A_min, 'B: ', B_min)\n",
    "    #median\n",
    "    A_med = dat[dat['spearman_correlation'] == dat['spearman_correlation'].median()]['match_A'].values\n",
    "    B_med = dat[dat['spearman_correlation'] == dat['spearman_correlation'].median()]['match_B'].values\n",
    "    if len(A_med) > 0:\n",
    "        medA, medB = corr(A_med,B_med)\n",
    "        med_source = dat[dat['spearman_correlation'] == dat['spearman_correlation'].median()]['source'].values[0]\n",
    "    else:\n",
    "        val = find_nearest(dat['spearman_correlation'].values, dat['spearman_correlation'].median())\n",
    "        A_med = dat[dat['spearman_correlation'] == val]['match_A'].values\n",
    "        B_med = dat[dat['spearman_correlation'] == val]['match_B'].values\n",
    "        medA, medB = corr(A_med,B_med)\n",
    "        med_source = dat[dat['spearman_correlation'] == val]['source'].values[0]\n",
    "    print('median', 'A: ', A_med, 'B: ', B_med)\n",
    "    #max\n",
    "    A_max = dat[dat['spearman_correlation'] == dat['spearman_correlation'].max()]['match_A'].values\n",
    "    B_max = dat[dat['spearman_correlation'] == dat['spearman_correlation'].max()]['match_B'].values\n",
    "    maxA, maxB = corr(A_max,B_max)\n",
    "    max_source = dat[dat['spearman_correlation'] == dat['spearman_correlation'].max()]['source'].values[0]\n",
    "    print('max', 'A: ', A_max, 'B: ', B_max)\n",
    "    \n",
    "    fig, ax = plt.subplots(1, 4, figsize = (8, 2.25))\n",
    "    ax[0].scatter(np.log10(minB), np.log10(minA))\n",
    "    ax[0].set_xlabel('{0}\\n{1}'.format(dat['transgenic_line_B'].unique()[0], B_min[0]))\n",
    "    ax[0].set_ylabel('{0}\\n{1}'.format(dat['transgenic_line_A'].unique()[0], A_min[0]))\n",
    "    ax[0].tick_params(top=False, right=False)\n",
    "    ax_min = min([ax[0].get_xlim()[0], ax[0].get_ylim()[0]])\n",
    "    ax_max = max([ax[0].get_xlim()[1], ax[0].get_ylim()[1]])\n",
    "    ax[0].set_xlim([ax_min, ax_max])\n",
    "    ax[0].set_ylim([ax_min, ax_max])\n",
    "    ax[0].plot([ax_min, ax_max], [ax_min, ax_max], c='k', zorder = -1)\n",
    "    ax[0].text((ax_min+1), (ax_max-1), 'r={0}'.format(dat['spearman_correlation'].min().round(2)), \n",
    "               style='italic')\n",
    "\n",
    "    ax[1].scatter(np.log10(medB), np.log10(medA))\n",
    "    ax[1].set_xlabel('{0}\\n{1}'.format(dat['transgenic_line_B'].unique()[0], B_med[0]))\n",
    "    ax[1].set_ylabel('{0}\\n{1}'.format(dat['transgenic_line_A'].unique()[0], A_med[0]))\n",
    "    ax[1].tick_params(top=False, right=False)\n",
    "    ax_min = min([ax[1].get_xlim()[0], ax[1].get_ylim()[0]])\n",
    "    ax_max = max([ax[1].get_xlim()[1], ax[1].get_ylim()[1]])\n",
    "    ax[1].set_xlim([ax_min, ax_max])\n",
    "    ax[1].set_ylim([ax_min, ax_max])\n",
    "    ax[1].plot([ax_min, ax_max], [ax_min, ax_max], c='k', zorder = -1)\n",
    "    ax[1].text((ax_min+1), (ax_max-1), 'r={0}'.format(round(dat['spearman_correlation'].median(), 2)), style='italic')\n",
    "\n",
    "\n",
    "    ax[2].scatter(np.log10(maxB), np.log10(maxA))\n",
    "    ax[2].set_xlabel('{0}\\n{1}'.format(dat['transgenic_line_B'].unique()[0], B_max[0]))\n",
    "    ax[2].set_ylabel('{0}\\n{1}'.format(dat['transgenic_line_A'].unique()[0], A_max[0]))\n",
    "    ax[2].tick_params(top=False, right=False)\n",
    "    ax_min = min([ax[2].get_xlim()[0], ax[2].get_ylim()[0]])\n",
    "    ax_max = max([ax[2].get_xlim()[1], ax[2].get_ylim()[1]])\n",
    "    ax[2].set_xlim([ax_min, ax_max])\n",
    "    ax[2].set_ylim([ax_min, ax_max])\n",
    "    ax[2].plot([ax_min, ax_max], [ax_min, ax_max], c='k', zorder = -1)\n",
    "    ax[2].text((ax_min+1), (ax_max-1), 'r={0}'.format(dat['spearman_correlation'].max().round(2)), style='italic')\n",
    "\n",
    "    sns.distplot(dat['spearman_correlation'], ax = ax[3], kde = False)\n",
    "    ax[3].tick_params(top=False, right=False)\n",
    "    ax[3].set_xlim([0.4, 1])\n",
    "    ax[3].set_xlabel('Spearman Correlation')\n",
    "    ax[3].set_ylabel('Number of Pairs')\n",
    "\n",
    "    sns.despine()\n",
    "\n",
    "    ax[0].set_title('Lowest ({0})'.format(min_source))\n",
    "    ax[1].set_title('Median ({0})'.format(med_source))\n",
    "    ax[2].set_title('Highest ({0})'.format(max_source))\n",
    "    ax[3].set_title('All (n={0} Pairs)'.format(len(dat)))\n",
    "    plt.tight_layout()\n",
    "    plt.savefig(os.path.join(figpath, 'corr_plots', '{0}.pdf'.format(dat.name)), \n",
    "            bbox_inches='tight', pad_inches=0.3, format='pdf', dpi=300)\n",
    "    return"
   ]
  },
  {
   "cell_type": "code",
   "execution_count": 29,
   "metadata": {},
   "outputs": [],
   "source": [
    "cr = c_by_source[((c_by_source['transgenic_line_A'] == 'C57Bl/6') & \n",
    "                 (c_by_source['transgenic_line_B'] == 'Rbp4-Cre_KL100')) |\n",
    "                ((c_by_source['transgenic_line_A'] == 'Rbp4-Cre_KL100') &\n",
    "                (c_by_source['transgenic_line_B'] == 'C57Bl/6'))]\n",
    "for index, row in cr.iterrows():\n",
    "    if(row['transgenic_line_B'] == 'Rbp4-Cre_KL100'):\n",
    "        cr.loc[index, ['match_A', 'match_B']] = cr.loc[index, ['match_B', 'match_A']]\n",
    "        cr.loc[index,['match_A_injection_size','match_B_injection_size']] = cr.loc[\n",
    "                index,['match_B_injection_size','match_A_injection_size']].values\n",
    "        cr.loc[index,['fraction of match covered by td injection','injection_overlap']] = cr.loc[\n",
    "                index,['injection_overlap','fraction of match covered by td injection']].values\n",
    "        cr.loc[index,['transgenic_line_A','transgenic_line_B']] = cr.loc[\n",
    "                index,['transgenic_line_B','transgenic_line_A']].values\n",
    "        cr.loc[index,['Virus_A','Virus_B']] = cr.loc[\n",
    "                index,['Virus_B','Virus_A']].values\n",
    "        cr.loc[index,['match_A_primary_source','match_B_primary_source']] = cr.loc[\n",
    "                index,['match_B_primary_source','match_A_primary_source']].values\n",
    "        cr.loc[index,['match_A_secondary_source','match_B_secondary_source']] = cr.loc[\n",
    "                index,['match_B_secondary_source','match_A_secondary_source']].values\n",
    "        cr.loc[index,['match_A_percent_primary','match_B_percent_primary']] = cr.loc[\n",
    "                index,['match_B_percent_primary','match_A_percent_primary']].values\n",
    "        cr.loc[index,['match_A_percent_secondary','match_B_percent_secondary']] = cr.loc[\n",
    "                index,['match_B_percent_secondary','match_A_percent_secondary']].values"
   ]
  },
  {
   "cell_type": "code",
   "execution_count": 30,
   "metadata": {},
   "outputs": [
    {
     "name": "stdout",
     "output_type": "stream",
     "text": [
      "['Rbp4-Cre_KL100']\n",
      "['C57Bl/6']\n"
     ]
    }
   ],
   "source": [
    "print(cr['transgenic_line_A'].unique())\n",
    "print(cr['transgenic_line_B'].unique())"
   ]
  },
  {
   "cell_type": "code",
   "execution_count": 31,
   "metadata": {
    "scrolled": false
   },
   "outputs": [
    {
     "name": "stdout",
     "output_type": "stream",
     "text": [
      "min A:  [183173527] B:  [277713580]\n",
      "median A:  [266250195] B:  [307558646]\n",
      "max A:  [585025284] B:  [166082128]\n"
     ]
    },
    {
     "name": "stderr",
     "output_type": "stream",
     "text": [
      "/Users/jenniferwh/Dropbox (Allen Institute)/Mesoscale Connectome Papers in Progress/2019 DMN/_new_figures/jupyter_notebooks/env/lib/python3.7/site-packages/ipykernel_launcher.py:41: RuntimeWarning: divide by zero encountered in log10\n",
      "/Users/jenniferwh/Dropbox (Allen Institute)/Mesoscale Connectome Papers in Progress/2019 DMN/_new_figures/jupyter_notebooks/env/lib/python3.7/site-packages/ipykernel_launcher.py:53: RuntimeWarning: divide by zero encountered in log10\n"
     ]
    },
    {
     "data": {
      "image/png": "[encoded data removed]",
      "text/plain": [
       "<Figure size 576x162 with 4 Axes>"
      ]
     },
     "metadata": {
      "needs_background": "light"
     },
     "output_type": "display_data"
    }
   ],
   "source": [
    "cr.name = 'cr'\n",
    "plot_corrs(cr)"
   ]
  },
  {
   "cell_type": "code",
   "execution_count": 32,
   "metadata": {},
   "outputs": [
    {
     "data": {
      "text/html": [
       "<div>\n",
       "<style scoped>\n",
       "    .dataframe tbody tr th:only-of-type {\n",
       "        vertical-align: middle;\n",
       "    }\n",
       "\n",
       "    .dataframe tbody tr th {\n",
       "        vertical-align: top;\n",
       "    }\n",
       "\n",
       "    .dataframe thead th {\n",
       "        text-align: right;\n",
       "    }\n",
       "</style>\n",
       "<table border=\"1\" class=\"dataframe\">\n",
       "  <thead>\n",
       "    <tr style=\"text-align: right;\">\n",
       "      <th></th>\n",
       "      <th>sum_NPV_A</th>\n",
       "      <th>sum_NPV_B</th>\n",
       "      <th>dice_coefficient</th>\n",
       "      <th>pearson_correlation</th>\n",
       "      <th>match_A</th>\n",
       "      <th>fraction of match covered by td injection</th>\n",
       "      <th>absolute_overlap</th>\n",
       "      <th>distance</th>\n",
       "      <th>absolute_overlap_lg_over_small</th>\n",
       "      <th>spearman_correlation</th>\n",
       "      <th>...</th>\n",
       "      <th>same_secondary</th>\n",
       "      <th>&lt;60% primary</th>\n",
       "      <th>same secondary for &lt;60% primary</th>\n",
       "      <th>index_original</th>\n",
       "      <th>log_inj_size</th>\n",
       "      <th>log_ol</th>\n",
       "      <th>exp_predicted</th>\n",
       "      <th>low_pred_band</th>\n",
       "      <th>high_pred_band</th>\n",
       "      <th>sig</th>\n",
       "    </tr>\n",
       "  </thead>\n",
       "  <tbody>\n",
       "  </tbody>\n",
       "</table>\n",
       "<p>0 rows × 38 columns</p>\n",
       "</div>"
      ],
      "text/plain": [
       "Empty DataFrame\n",
       "Columns: [sum_NPV_A, sum_NPV_B, dice_coefficient, pearson_correlation, match_A, fraction of match covered by td injection, absolute_overlap, distance, absolute_overlap_lg_over_small, spearman_correlation, injection_overlap, source, match_B, match_A_secondary_source, match_B_secondary_source, match_A_percent_secondary, match_B_percent_secondary, match_A_injection_size, match_B_injection_size, match_A_primary_source, match_B_primary_source, match_A_percent_primary, match_B_percent_primary, transgenic_line_A, transgenic_line_B, Virus_A, Virus_B, same_primary, same_secondary, <60% primary, same secondary for <60% primary, index_original, log_inj_size, log_ol, exp_predicted, low_pred_band, high_pred_band, sig]\n",
       "Index: []\n",
       "\n",
       "[0 rows x 38 columns]"
      ]
     },
     "execution_count": 32,
     "metadata": {},
     "output_type": "execute_result"
    }
   ],
   "source": [
    "cr[cr['spearman_correlation'] < 0.5]"
   ]
  },
  {
   "cell_type": "code",
   "execution_count": 33,
   "metadata": {},
   "outputs": [],
   "source": [
    "ce = c_by_source[((c_by_source['transgenic_line_A'] == 'C57Bl/6') & \n",
    "                 (c_by_source['transgenic_line_B'] == 'Emx1-IRES-Cre')) |\n",
    "                ((c_by_source['transgenic_line_A'] == 'Emx1-IRES-Cre') &\n",
    "                (c_by_source['transgenic_line_B'] == 'C57Bl/6'))]\n",
    "for index, row in ce.iterrows():\n",
    "    if(row['transgenic_line_B'] == 'Emx1-IRES-Cre'):\n",
    "        ce.loc[index, ['match_A', 'match_B']] = ce.loc[index, ['match_B', 'match_A']]\n",
    "        ce.loc[index,['match_A_injection_size','match_B_injection_size']] = ce.loc[\n",
    "                index,['match_B_injection_size','match_A_injection_size']].values\n",
    "        ce.loc[index,['fraction of match covered by td injection','injection_overlap']] = ce.loc[\n",
    "                index,['injection_overlap','fraction of match covered by td injection']].values\n",
    "        ce.loc[index,['transgenic_line_A','transgenic_line_B']] = ce.loc[\n",
    "                index,['transgenic_line_B','transgenic_line_A']].values\n",
    "        ce.loc[index,['Virus_A','Virus_B']] = ce.loc[\n",
    "                index,['Virus_B','Virus_A']].values\n",
    "        ce.loc[index,['match_A_primary_source','match_B_primary_source']] = ce.loc[\n",
    "                index,['match_B_primary_source','match_A_primary_source']].values\n",
    "        ce.loc[index,['match_A_secondary_source','match_B_secondary_source']] = ce.loc[\n",
    "                index,['match_B_secondary_source','match_A_secondary_source']].values\n",
    "        ce.loc[index,['match_A_percent_primary','match_B_percent_primary']] = ce.loc[\n",
    "                index,['match_B_percent_primary','match_A_percent_primary']].values\n",
    "        ce.loc[index,['match_A_percent_secondary','match_B_percent_secondary']] = ce.loc[\n",
    "                index,['match_B_percent_secondary','match_A_percent_secondary']].values"
   ]
  },
  {
   "cell_type": "code",
   "execution_count": 34,
   "metadata": {},
   "outputs": [
    {
     "name": "stdout",
     "output_type": "stream",
     "text": [
      "['Emx1-IRES-Cre']\n",
      "['C57Bl/6']\n"
     ]
    }
   ],
   "source": [
    "print(ce['transgenic_line_A'].unique())\n",
    "print(ce['transgenic_line_B'].unique())"
   ]
  },
  {
   "cell_type": "code",
   "execution_count": 35,
   "metadata": {},
   "outputs": [
    {
     "name": "stdout",
     "output_type": "stream",
     "text": [
      "min A:  [277713580] B:  [562061175]\n",
      "median A:  [479983421] B:  [307593747]\n",
      "max A:  [479701339] B:  [309113907]\n"
     ]
    },
    {
     "name": "stderr",
     "output_type": "stream",
     "text": [
      "/Users/jenniferwh/Dropbox (Allen Institute)/Mesoscale Connectome Papers in Progress/2019 DMN/_new_figures/jupyter_notebooks/env/lib/python3.7/site-packages/ipykernel_launcher.py:53: RuntimeWarning: divide by zero encountered in log10\n"
     ]
    },
    {
     "data": {
      "image/png": "[encoded data removed]",
      "text/plain": [
       "<Figure size 576x162 with 4 Axes>"
      ]
     },
     "metadata": {
      "needs_background": "light"
     },
     "output_type": "display_data"
    }
   ],
   "source": [
    "ce.name = 'ce'\n",
    "plot_corrs(ce)"
   ]
  },
  {
   "cell_type": "code",
   "execution_count": 36,
   "metadata": {},
   "outputs": [],
   "source": [
    "er = c_by_source[((c_by_source['transgenic_line_A'] == 'Rbp4-Cre_KL100') & \n",
    "                 (c_by_source['transgenic_line_B'] == 'Emx1-IRES-Cre')) |\n",
    "                ((c_by_source['transgenic_line_A'] == 'Emx1-IRES-Cre') &\n",
    "                (c_by_source['transgenic_line_B'] == 'Rbp4-Cre_KL100'))]\n",
    "for index, row in er.iterrows():\n",
    "    if(row['transgenic_line_B'] == 'Emx1-IRES-Cre'):\n",
    "        er.loc[index, ['match_A', 'match_B']] = er.loc[index, ['match_B', 'match_A']]\n",
    "        er.loc[index,['match_A_injection_size','match_B_injection_size']] = er.loc[\n",
    "                index,['match_B_injection_size','match_A_injection_size']].values\n",
    "        er.loc[index,['fraction of match covered by td injection','injection_overlap']] = er.loc[\n",
    "                index,['injection_overlap','fraction of match covered by td injection']].values\n",
    "        er.loc[index,['transgenic_line_A','transgenic_line_B']] = er.loc[\n",
    "                index,['transgenic_line_B','transgenic_line_A']].values\n",
    "        er.loc[index,['Virus_A','Virus_B']] = er.loc[\n",
    "                index,['Virus_B','Virus_A']].values\n",
    "        er.loc[index,['match_A_primary_source','match_B_primary_source']] = er.loc[\n",
    "                index,['match_B_primary_source','match_A_primary_source']].values\n",
    "        er.loc[index,['match_A_secondary_source','match_B_secondary_source']] = er.loc[\n",
    "                index,['match_B_secondary_source','match_A_secondary_source']].values\n",
    "        er.loc[index,['match_A_percent_primary','match_B_percent_primary']] = er.loc[\n",
    "                index,['match_B_percent_primary','match_A_percent_primary']].values\n",
    "        er.loc[index,['match_A_percent_secondary','match_B_percent_secondary']] = er.loc[\n",
    "                index,['match_B_percent_secondary','match_A_percent_secondary']].values"
   ]
  },
  {
   "cell_type": "code",
   "execution_count": 37,
   "metadata": {},
   "outputs": [
    {
     "name": "stdout",
     "output_type": "stream",
     "text": [
      "['Emx1-IRES-Cre']\n",
      "['Rbp4-Cre_KL100']\n"
     ]
    }
   ],
   "source": [
    "print(er['transgenic_line_A'].unique())\n",
    "print(er['transgenic_line_B'].unique())"
   ]
  },
  {
   "cell_type": "code",
   "execution_count": 38,
   "metadata": {},
   "outputs": [
    {
     "name": "stdout",
     "output_type": "stream",
     "text": [
      "min A:  [522409371] B:  [603479758]\n",
      "median A:  [503069254] B:  [479983421]\n",
      "max A:  [503809372] B:  [501004474]\n"
     ]
    },
    {
     "name": "stderr",
     "output_type": "stream",
     "text": [
      "/Users/jenniferwh/Dropbox (Allen Institute)/Mesoscale Connectome Papers in Progress/2019 DMN/_new_figures/jupyter_notebooks/env/lib/python3.7/site-packages/ipykernel_launcher.py:29: RuntimeWarning: divide by zero encountered in log10\n"
     ]
    },
    {
     "data": {
      "image/png": "[encoded data removed]",
      "text/plain": [
       "<Figure size 576x162 with 4 Axes>"
      ]
     },
     "metadata": {
      "needs_background": "light"
     },
     "output_type": "display_data"
    }
   ],
   "source": [
    "er.name = 'er'\n",
    "plot_corrs(er)"
   ]
  },
  {
   "cell_type": "code",
   "execution_count": 39,
   "metadata": {},
   "outputs": [
    {
     "name": "stdout",
     "output_type": "stream",
     "text": [
      "min A:  [277713580] B:  [113887162]\n",
      "median A:  [277616630] B:  [304586645]\n",
      "max A:  [309372716] B:  [307558646]\n"
     ]
    },
    {
     "data": {
      "image/png": "[encoded data removed]",
      "text/plain": [
       "<Figure size 576x162 with 4 Axes>"
      ]
     },
     "metadata": {
      "needs_background": "light"
     },
     "output_type": "display_data"
    }
   ],
   "source": [
    "cc = c_by_source[(c_by_source['transgenic_line_A'] == 'C57Bl/6') & \n",
    "                 (c_by_source['transgenic_line_B'] == 'C57Bl/6')]\n",
    "cc.name = 'cc'\n",
    "plot_corrs(cc)"
   ]
  },
  {
   "cell_type": "code",
   "execution_count": 40,
   "metadata": {},
   "outputs": [
    {
     "name": "stdout",
     "output_type": "stream",
     "text": [
      "['C57Bl/6']\n",
      "['C57Bl/6']\n"
     ]
    }
   ],
   "source": [
    "print(cc['transgenic_line_A'].unique())\n",
    "print(cc['transgenic_line_B'].unique())"
   ]
  },
  {
   "cell_type": "code",
   "execution_count": 41,
   "metadata": {},
   "outputs": [
    {
     "name": "stdout",
     "output_type": "stream",
     "text": [
      "min A:  [522409371] B:  [601476074]\n",
      "median A:  [562061175] B:  [501004474]\n",
      "max A:  [479755622] B:  [479983421]\n"
     ]
    },
    {
     "name": "stderr",
     "output_type": "stream",
     "text": [
      "/Users/jenniferwh/Dropbox (Allen Institute)/Mesoscale Connectome Papers in Progress/2019 DMN/_new_figures/jupyter_notebooks/env/lib/python3.7/site-packages/ipykernel_launcher.py:29: RuntimeWarning: divide by zero encountered in log10\n"
     ]
    },
    {
     "data": {
      "image/png": "[encoded data removed]",
      "text/plain": [
       "<Figure size 576x162 with 4 Axes>"
      ]
     },
     "metadata": {
      "needs_background": "light"
     },
     "output_type": "display_data"
    }
   ],
   "source": [
    "ee = c_by_source[(c_by_source['transgenic_line_A'] == 'Emx1-IRES-Cre') & \n",
    "                  (c_by_source['transgenic_line_B'] == 'Emx1-IRES-Cre')]\n",
    "ee.name = 'ee'\n",
    "plot_corrs(ee)"
   ]
  },
  {
   "cell_type": "code",
   "execution_count": 42,
   "metadata": {},
   "outputs": [
    {
     "name": "stdout",
     "output_type": "stream",
     "text": [
      "['Emx1-IRES-Cre']\n",
      "['Emx1-IRES-Cre']\n"
     ]
    }
   ],
   "source": [
    "print(ee['transgenic_line_A'].unique())\n",
    "print(ee['transgenic_line_B'].unique())"
   ]
  },
  {
   "cell_type": "code",
   "execution_count": 43,
   "metadata": {},
   "outputs": [
    {
     "name": "stdout",
     "output_type": "stream",
     "text": [
      "min A:  [503323656] B:  [530555292]\n",
      "median A:  [648252402] B:  [166083557]\n",
      "max A:  [125833030] B:  [496576666]\n"
     ]
    },
    {
     "data": {
      "image/png": "[encoded data removed]",
      "text/plain": [
       "<Figure size 576x162 with 4 Axes>"
      ]
     },
     "metadata": {
      "needs_background": "light"
     },
     "output_type": "display_data"
    }
   ],
   "source": [
    "rr = c_by_source[(c_by_source['transgenic_line_A'] == 'Rbp4-Cre_KL100') & \n",
    "                  (c_by_source['transgenic_line_B'] == 'Rbp4-Cre_KL100')]\n",
    "rr.name = 'rr'\n",
    "plot_corrs(rr)"
   ]
  },
  {
   "cell_type": "code",
   "execution_count": 44,
   "metadata": {},
   "outputs": [
    {
     "name": "stdout",
     "output_type": "stream",
     "text": [
      "['Rbp4-Cre_KL100']\n",
      "['Rbp4-Cre_KL100']\n"
     ]
    }
   ],
   "source": [
    "print(rr['transgenic_line_A'].unique())\n",
    "print(rr['transgenic_line_B'].unique())"
   ]
  },
  {
   "cell_type": "code",
   "execution_count": 45,
   "metadata": {},
   "outputs": [
    {
     "data": {
      "image/png": "[encoded data removed]",
      "text/plain": [
       "<Figure size 216x216 with 1 Axes>"
      ]
     },
     "metadata": {
      "needs_background": "light"
     },
     "output_type": "display_data"
    }
   ],
   "source": [
    "bins = np.linspace(0.1, 1, 20)\n",
    "fig, ax = plt.subplots(figsize = (3, 3))\n",
    "sns.distplot(cc['spearman_correlation'], bins = bins, hist = False, label = 'WT-WT',\n",
    "            color = 'k', kde_kws={\"linewidth\": 1})\n",
    "sns.distplot(ee['spearman_correlation'], bins = bins, hist = False, label = 'Emx1-Emx1', \n",
    "             color='r', kde_kws = {\"linewidth\": 1})\n",
    "sns.distplot(rr['spearman_correlation'], bins = bins, hist = False, label = 'Rbp4-Rbp4', \n",
    "             color='g', kde_kws = {\"linewidth\": 1, \"alpha\": 0.5})\n",
    "sns.distplot(ce['spearman_correlation'], bins = bins, hist = False, label = 'WT-Emx1', \n",
    "            color='m', kde_kws = {\"linewidth\": 1, \"alpha\": 0.5})\n",
    "sns.distplot(cr['spearman_correlation'], bins = bins, hist = False, label = 'WT-Rbp4', \n",
    "             color='c', kde_kws = {\"linewidth\": 1})\n",
    "sns.distplot(er['spearman_correlation'], bins = bins, hist = False, label = 'Rbp4-Emx1',\n",
    "            color='gray', kde_kws = {\"linewidth\": 1, \"alpha\": 0.7})\n",
    "ax.tick_params(top=False, right=False)\n",
    "ax.legend(loc = 2, frameon = False)\n",
    "ax.set_xlabel('Spearman Correlation')\n",
    "ax.set_ylabel('Density')\n",
    "sns.despine()"
   ]
  },
  {
   "cell_type": "code",
   "execution_count": 47,
   "metadata": {},
   "outputs": [
    {
     "data": {
      "text/plain": [
       "\"\\nplt.savefig(os.path.join(paperpath, 'kde_per_line_with_td.pdf'), \\n        bbox_inches='tight', pad_inches=0.3, format='pdf', dpi=300)\\nplt.savefig(os.path.join(paperpath, 'kde_per_line_with_td.png'), \\n        bbox_inches='tight', pad_inches=0.3, format='png', dpi=300)\\n\""
      ]
     },
     "execution_count": 47,
     "metadata": {},
     "output_type": "execute_result"
    },
    {
     "data": {
      "image/png": "[encoded data removed]",
      "text/plain": [
       "<Figure size 108x108 with 1 Axes>"
      ]
     },
     "metadata": {
      "needs_background": "light"
     },
     "output_type": "display_data"
    }
   ],
   "source": [
    "bins = np.linspace(0.1, 1, 20)\n",
    "fig, ax = plt.subplots(figsize = (1.5, 1.5))\n",
    "sns.distplot(cc['spearman_correlation'], bins = bins, hist = False, label = 'WT-WT',\n",
    "            color = 'k', kde_kws={\"linewidth\": 1})\n",
    "sns.distplot(ee['spearman_correlation'], bins = bins, hist = False, label = 'Emx1-Emx1', \n",
    "             color='m', kde_kws = {\"linewidth\": 1, \"alpha\": 0.5})\n",
    "sns.distplot(ce['spearman_correlation'], bins = bins, hist = False, label = 'WT-Emx1', \n",
    "            color='darkmagenta', kde_kws = {\"linewidth\": 1, \"alpha\": 0.7})\n",
    "sns.distplot(rr['spearman_correlation'], bins = bins, hist = False, label = 'Rbp4-Rbp4', \n",
    "             color='g', kde_kws = {\"linewidth\": 1, \"alpha\": 0.5})\n",
    "sns.distplot(cr['spearman_correlation'], bins = bins, hist = False, label = 'WT-Rbp4', \n",
    "             color='lightgreen', kde_kws = {\"linewidth\": 1, \"alpha\": 0.7})\n",
    "sns.distplot(er['spearman_correlation'], bins = bins, hist = False, label = 'Rbp4-Emx1',\n",
    "            color='c', kde_kws = {\"linewidth\": 1, \"alpha\": 0.7})\n",
    "sns.distplot(alldat['spearman_correlation'], bins = bins, hist = False, label = 'TD - WT',\n",
    "            color = 'r', kde_kws={\"linewidth\": 1})\n",
    "ax.tick_params(top=False, right=False, bottom=True, left=True)\n",
    "ax.legend(loc = 2, frameon = False, fontsize = 8, bbox_to_anchor = [1, 1])\n",
    "ax.set_xlabel('Spearman\\'s Rho')\n",
    "ax.set_ylabel('Density')\n",
    "sns.despine()"
   ]
  },
  {
   "cell_type": "code",
   "execution_count": 48,
   "metadata": {},
   "outputs": [
    {
     "name": "stderr",
     "output_type": "stream",
     "text": [
      "/Users/jenniferwh/Dropbox (Allen Institute)/Mesoscale Connectome Papers in Progress/2019 DMN/_new_figures/jupyter_notebooks/env/lib/python3.7/site-packages/ipykernel_launcher.py:2: SettingWithCopyWarning: \n",
      "A value is trying to be set on a copy of a slice from a DataFrame.\n",
      "Try using .loc[row_indexer,col_indexer] = value instead\n",
      "\n",
      "See the caveats in the documentation: http://pandas.pydata.org/pandas-docs/stable/user_guide/indexing.html#returning-a-view-versus-a-copy\n",
      "  \n"
     ]
    }
   ],
   "source": [
    "df = c_by_source[['match_A', 'match_B', 'transgenic_line_A', 'transgenic_line_B', 'spearman_correlation']]\n",
    "df['tl'] = df[['transgenic_line_A', 'transgenic_line_B']].apply(lambda x: '_'.join(x), axis=1)\n",
    "\n",
    "for index, row in df.iterrows():\n",
    "    if(row['tl'] == 'Rbp4-Cre_KL100_C57Bl/6'):\n",
    "        df.loc[index, 'tl'] = 'C57Bl/6_Rbp4-Cre_KL100'\n",
    "        df.loc[index, ['match_A', 'match_B']] = df.loc[\n",
    "            index, ['match_B', 'match_A']].values\n",
    "    if(row['tl'] == 'Emx1-IRES-Cre_C57Bl/6'):\n",
    "        df.loc[index, 'tl'] = 'C57Bl/6_Emx1-IRES-Cre'\n",
    "        df.loc[index, ['match_A', 'match_B']] = df.loc[\n",
    "            index, ['match_B', 'match_A']].values\n",
    "    if(row['tl'] == 'Rbp4-Cre_KL100_Emx1-IRES-Cre'):\n",
    "        df.loc[index, 'tl'] = 'Emx1-IRES-Cre_Rbp4-Cre_KL100'\n",
    "        df.loc[index, ['match_A', 'match_B']] = df.loc[\n",
    "            index, ['match_B', 'match_A']].values"
   ]
  },
  {
   "cell_type": "code",
   "execution_count": 49,
   "metadata": {},
   "outputs": [],
   "source": [
    "df = df[['match_A', 'match_B', 'spearman_correlation', 'tl']]"
   ]
  },
  {
   "cell_type": "code",
   "execution_count": 50,
   "metadata": {},
   "outputs": [
    {
     "name": "stderr",
     "output_type": "stream",
     "text": [
      "/Users/jenniferwh/Dropbox (Allen Institute)/Mesoscale Connectome Papers in Progress/2019 DMN/_new_figures/jupyter_notebooks/env/lib/python3.7/site-packages/pandas/core/frame.py:4238: SettingWithCopyWarning: \n",
      "A value is trying to be set on a copy of a slice from a DataFrame\n",
      "\n",
      "See the caveats in the documentation: http://pandas.pydata.org/pandas-docs/stable/user_guide/indexing.html#returning-a-view-versus-a-copy\n",
      "  return super().rename(**kwargs)\n",
      "/Users/jenniferwh/Dropbox (Allen Institute)/Mesoscale Connectome Papers in Progress/2019 DMN/_new_figures/jupyter_notebooks/env/lib/python3.7/site-packages/ipykernel_launcher.py:3: SettingWithCopyWarning: \n",
      "A value is trying to be set on a copy of a slice from a DataFrame.\n",
      "Try using .loc[row_indexer,col_indexer] = value instead\n",
      "\n",
      "See the caveats in the documentation: http://pandas.pydata.org/pandas-docs/stable/user_guide/indexing.html#returning-a-view-versus-a-copy\n",
      "  This is separate from the ipykernel package so we can avoid doing imports until\n"
     ]
    }
   ],
   "source": [
    "df1 = alldat[['image_series_id', 'match_id', 'spearman_correlation']]\n",
    "df1.rename(columns = {'image_series_id': 'match_A', 'match_id': 'match_B'}, inplace = True)\n",
    "df1['tl'] = 'target-defined'\n",
    "df = pd.concat([df, df1])"
   ]
  },
  {
   "cell_type": "code",
   "execution_count": 51,
   "metadata": {
    "scrolled": false
   },
   "outputs": [
    {
     "data": {
      "text/plain": [
       "array(['Emx1-IRES-Cre_Rbp4-Cre_KL100', 'C57Bl/6_Rbp4-Cre_KL100',\n",
       "       'Rbp4-Cre_KL100_Rbp4-Cre_KL100', 'Emx1-IRES-Cre_Emx1-IRES-Cre',\n",
       "       'C57Bl/6_Emx1-IRES-Cre', 'C57Bl/6_C57Bl/6', 'target-defined'],\n",
       "      dtype=object)"
      ]
     },
     "execution_count": 51,
     "metadata": {},
     "output_type": "execute_result"
    }
   ],
   "source": [
    "df['tl'].unique()"
   ]
  },
  {
   "cell_type": "code",
   "execution_count": 57,
   "metadata": {},
   "outputs": [
    {
     "data": {
      "text/html": [
       "<div>\n",
       "<style scoped>\n",
       "    .dataframe tbody tr th:only-of-type {\n",
       "        vertical-align: middle;\n",
       "    }\n",
       "\n",
       "    .dataframe tbody tr th {\n",
       "        vertical-align: top;\n",
       "    }\n",
       "\n",
       "    .dataframe thead tr th {\n",
       "        text-align: left;\n",
       "    }\n",
       "\n",
       "    .dataframe thead tr:last-of-type th {\n",
       "        text-align: right;\n",
       "    }\n",
       "</style>\n",
       "<table border=\"1\" class=\"dataframe\">\n",
       "  <thead>\n",
       "    <tr>\n",
       "      <th></th>\n",
       "      <th colspan=\"8\" halign=\"left\">spearman_correlation</th>\n",
       "    </tr>\n",
       "    <tr>\n",
       "      <th></th>\n",
       "      <th>count</th>\n",
       "      <th>mean</th>\n",
       "      <th>std</th>\n",
       "      <th>min</th>\n",
       "      <th>25%</th>\n",
       "      <th>50%</th>\n",
       "      <th>75%</th>\n",
       "      <th>max</th>\n",
       "    </tr>\n",
       "    <tr>\n",
       "      <th>tln</th>\n",
       "      <th></th>\n",
       "      <th></th>\n",
       "      <th></th>\n",
       "      <th></th>\n",
       "      <th></th>\n",
       "      <th></th>\n",
       "      <th></th>\n",
       "      <th></th>\n",
       "    </tr>\n",
       "  </thead>\n",
       "  <tbody>\n",
       "    <tr>\n",
       "      <th>1</th>\n",
       "      <td>123.0</td>\n",
       "      <td>0.856909</td>\n",
       "      <td>0.070165</td>\n",
       "      <td>0.596485</td>\n",
       "      <td>0.814276</td>\n",
       "      <td>0.855042</td>\n",
       "      <td>0.905867</td>\n",
       "      <td>0.997767</td>\n",
       "    </tr>\n",
       "    <tr>\n",
       "      <th>2</th>\n",
       "      <td>157.0</td>\n",
       "      <td>0.842754</td>\n",
       "      <td>0.072049</td>\n",
       "      <td>0.600291</td>\n",
       "      <td>0.788762</td>\n",
       "      <td>0.857977</td>\n",
       "      <td>0.897610</td>\n",
       "      <td>0.976025</td>\n",
       "    </tr>\n",
       "    <tr>\n",
       "      <th>3</th>\n",
       "      <td>149.0</td>\n",
       "      <td>0.871127</td>\n",
       "      <td>0.072858</td>\n",
       "      <td>0.605375</td>\n",
       "      <td>0.826451</td>\n",
       "      <td>0.880372</td>\n",
       "      <td>0.926837</td>\n",
       "      <td>0.993935</td>\n",
       "    </tr>\n",
       "    <tr>\n",
       "      <th>4</th>\n",
       "      <td>100.0</td>\n",
       "      <td>0.852215</td>\n",
       "      <td>0.071447</td>\n",
       "      <td>0.641079</td>\n",
       "      <td>0.798299</td>\n",
       "      <td>0.860610</td>\n",
       "      <td>0.909161</td>\n",
       "      <td>0.974469</td>\n",
       "    </tr>\n",
       "    <tr>\n",
       "      <th>5</th>\n",
       "      <td>46.0</td>\n",
       "      <td>0.895490</td>\n",
       "      <td>0.058389</td>\n",
       "      <td>0.755652</td>\n",
       "      <td>0.852316</td>\n",
       "      <td>0.895203</td>\n",
       "      <td>0.939885</td>\n",
       "      <td>0.995154</td>\n",
       "    </tr>\n",
       "    <tr>\n",
       "      <th>6</th>\n",
       "      <td>52.0</td>\n",
       "      <td>0.865261</td>\n",
       "      <td>0.062225</td>\n",
       "      <td>0.667222</td>\n",
       "      <td>0.817201</td>\n",
       "      <td>0.872873</td>\n",
       "      <td>0.915665</td>\n",
       "      <td>0.964012</td>\n",
       "    </tr>\n",
       "    <tr>\n",
       "      <th>7</th>\n",
       "      <td>586.0</td>\n",
       "      <td>0.777056</td>\n",
       "      <td>0.095607</td>\n",
       "      <td>0.208107</td>\n",
       "      <td>0.725525</td>\n",
       "      <td>0.783067</td>\n",
       "      <td>0.840576</td>\n",
       "      <td>0.995513</td>\n",
       "    </tr>\n",
       "  </tbody>\n",
       "</table>\n",
       "</div>"
      ],
      "text/plain": [
       "    spearman_correlation                                                    \\\n",
       "                   count      mean       std       min       25%       50%   \n",
       "tln                                                                          \n",
       "1                  123.0  0.856909  0.070165  0.596485  0.814276  0.855042   \n",
       "2                  157.0  0.842754  0.072049  0.600291  0.788762  0.857977   \n",
       "3                  149.0  0.871127  0.072858  0.605375  0.826451  0.880372   \n",
       "4                  100.0  0.852215  0.071447  0.641079  0.798299  0.860610   \n",
       "5                   46.0  0.895490  0.058389  0.755652  0.852316  0.895203   \n",
       "6                   52.0  0.865261  0.062225  0.667222  0.817201  0.872873   \n",
       "7                  586.0  0.777056  0.095607  0.208107  0.725525  0.783067   \n",
       "\n",
       "                         \n",
       "          75%       max  \n",
       "tln                      \n",
       "1    0.905867  0.997767  \n",
       "2    0.897610  0.976025  \n",
       "3    0.926837  0.993935  \n",
       "4    0.909161  0.974469  \n",
       "5    0.939885  0.995154  \n",
       "6    0.915665  0.964012  \n",
       "7    0.840576  0.995513  "
      ]
     },
     "execution_count": 57,
     "metadata": {},
     "output_type": "execute_result"
    }
   ],
   "source": [
    "# Make categorical variables for anova\n",
    "df = df[['tl', 'spearman_correlation']]\n",
    "df['tln']=df.tl.map({'C57Bl/6_C57Bl/6':1,'C57Bl/6_Rbp4-Cre_KL100':2, 'C57Bl/6_Emx1-IRES-Cre':3,\n",
    "                    'Emx1-IRES-Cre_Rbp4-Cre_KL100':4, 'Emx1-IRES-Cre_Emx1-IRES-Cre':5,\n",
    "                    'Rbp4-Cre_KL100_Rbp4-Cre_KL100':6, 'target-defined':7})\n",
    "df.groupby('tln').describe()"
   ]
  },
  {
   "cell_type": "code",
   "execution_count": 53,
   "metadata": {},
   "outputs": [],
   "source": [
    "results = ols('spearman_correlation ~ C(tln)', df).fit()"
   ]
  },
  {
   "cell_type": "code",
   "execution_count": 54,
   "metadata": {
    "scrolled": true
   },
   "outputs": [
    {
     "data": {
      "text/html": [
       "<div>\n",
       "<style scoped>\n",
       "    .dataframe tbody tr th:only-of-type {\n",
       "        vertical-align: middle;\n",
       "    }\n",
       "\n",
       "    .dataframe tbody tr th {\n",
       "        vertical-align: top;\n",
       "    }\n",
       "\n",
       "    .dataframe thead th {\n",
       "        text-align: right;\n",
       "    }\n",
       "</style>\n",
       "<table border=\"1\" class=\"dataframe\">\n",
       "  <thead>\n",
       "    <tr style=\"text-align: right;\">\n",
       "      <th></th>\n",
       "      <th>df</th>\n",
       "      <th>sum_sq</th>\n",
       "      <th>mean_sq</th>\n",
       "      <th>F</th>\n",
       "      <th>PR(&gt;F)</th>\n",
       "    </tr>\n",
       "  </thead>\n",
       "  <tbody>\n",
       "    <tr>\n",
       "      <th>C(tln)</th>\n",
       "      <td>6.0</td>\n",
       "      <td>2.191333</td>\n",
       "      <td>0.365222</td>\n",
       "      <td>52.437938</td>\n",
       "      <td>1.554013e-57</td>\n",
       "    </tr>\n",
       "    <tr>\n",
       "      <th>Residual</th>\n",
       "      <td>1206.0</td>\n",
       "      <td>8.399605</td>\n",
       "      <td>0.006965</td>\n",
       "      <td>NaN</td>\n",
       "      <td>NaN</td>\n",
       "    </tr>\n",
       "  </tbody>\n",
       "</table>\n",
       "</div>"
      ],
      "text/plain": [
       "              df    sum_sq   mean_sq          F        PR(>F)\n",
       "C(tln)       6.0  2.191333  0.365222  52.437938  1.554013e-57\n",
       "Residual  1206.0  8.399605  0.006965        NaN           NaN"
      ]
     },
     "execution_count": 54,
     "metadata": {},
     "output_type": "execute_result"
    }
   ],
   "source": [
    "aov_table = sm.stats.anova_lm(results)\n",
    "aov_table"
   ]
  },
  {
   "cell_type": "code",
   "execution_count": 55,
   "metadata": {},
   "outputs": [
    {
     "name": "stdout",
     "output_type": "stream",
     "text": [
      "Multiple Comparison of Means - Tukey HSD, FWER=0.05 \n",
      "====================================================\n",
      "group1 group2 meandiff p-adj   lower   upper  reject\n",
      "----------------------------------------------------\n",
      "  1      2    -0.0142  0.7711 -0.0438  0.0155 False \n",
      "  1      3     0.0142  0.777  -0.0158  0.0442 False \n",
      "  1      4    -0.0047   0.9   -0.0379  0.0285 False \n",
      "  1      5     0.0386  0.1056  -0.004  0.0812 False \n",
      "  1      6     0.0084   0.9   -0.0324  0.0491 False \n",
      "  1      7    -0.0799  0.001  -0.1043 -0.0554  True \n",
      "  2      3     0.0284  0.0473  0.0002  0.0566  True \n",
      "  2      4     0.0095   0.9   -0.0221  0.041  False \n",
      "  2      5     0.0527  0.0032  0.0114  0.0941  True \n",
      "  2      6     0.0225  0.6085 -0.0169  0.0619 False \n",
      "  2      7    -0.0657  0.001  -0.0878 -0.0435  True \n",
      "  3      4    -0.0189  0.5689 -0.0508  0.0129 False \n",
      "  3      5     0.0244  0.582  -0.0172  0.0659 False \n",
      "  3      6    -0.0059   0.9   -0.0456  0.0338 False \n",
      "  3      7    -0.0941  0.001  -0.1167 -0.0715  True \n",
      "  4      5     0.0433  0.0565 -0.0006  0.0872 False \n",
      "  4      6     0.013    0.9   -0.0291  0.0552 False \n",
      "  4      7    -0.0752  0.001  -0.1018 -0.0485  True \n",
      "  5      6    -0.0302  0.5475 -0.0801  0.0197 False \n",
      "  5      7    -0.1184  0.001  -0.1562 -0.0807  True \n",
      "  6      7    -0.0882  0.001  -0.1239 -0.0525  True \n",
      "----------------------------------------------------\n"
     ]
    }
   ],
   "source": [
    "print(sm.stats.multicomp.pairwise_tukeyhsd(results.model.endog, df['tln'].values))"
   ]
  },
  {
   "cell_type": "code",
   "execution_count": 55,
   "metadata": {},
   "outputs": [
    {
     "data": {
      "image/png": "[encoded data removed]",
      "text/plain": [
       "<Figure size 432x288 with 1 Axes>"
      ]
     },
     "metadata": {
      "needs_background": "light"
     },
     "output_type": "display_data"
    }
   ],
   "source": [
    "bins = np.linspace(0.1, 1, 20)\n",
    "fig, ax = plt.subplots()\n",
    "sns.distplot(cc['spearman_correlation'], bins = bins, hist = False, label = 'WT-WT Correlations',\n",
    "            color = 'k', kde_kws={\"linewidth\": 5})\n",
    "sns.distplot(ee['spearman_correlation'], bins = bins, hist = False, label = 'Emx1-Emx1 Correlations EGFP')\n",
    "sns.distplot(cr['spearman_correlation'], bins = bins, hist = False, label = 'WT-Rbp4 Correlations SypEGFP')\n",
    "ax.tick_params(top=False, right=False)\n",
    "plt.legend(loc = 2)\n",
    "sns.despine()"
   ]
  },
  {
   "cell_type": "code",
   "execution_count": 56,
   "metadata": {},
   "outputs": [
    {
     "data": {
      "image/png": "[encoded data removed]",
      "text/plain": [
       "<Figure size 432x288 with 1 Axes>"
      ]
     },
     "metadata": {
      "needs_background": "light"
     },
     "output_type": "display_data"
    }
   ],
   "source": [
    "bins = np.linspace(0.1, 1, 20)\n",
    "fig, ax = plt.subplots()\n",
    "sns.distplot(ee['spearman_correlation'], bins = bins, hist = False, label = 'Emx1-Emx1 Correlations')\n",
    "sns.distplot(rr['spearman_correlation'], bins = bins, hist = False, label = 'Rbp4-Rbp4 Correlations')\n",
    "sns.distplot(cr['spearman_correlation'], bins = bins, hist = False, label = 'WT-Rbp4 Correlations')\n",
    "sns.distplot(ce['spearman_correlation'], bins = bins, hist = False, label = 'WT-Emx1 Correlations')\n",
    "sns.distplot(er['spearman_correlation'], bins = bins, hist = False, label = 'Rbp4-Emx1 Correlations')\n",
    "ax.tick_params(top=False, right=False)\n",
    "plt.legend(loc = 2)\n",
    "sns.despine()"
   ]
  },
  {
   "cell_type": "code",
   "execution_count": 57,
   "metadata": {},
   "outputs": [
    {
     "data": {
      "image/png": "[encoded data removed]",
      "text/plain": [
       "<Figure size 432x288 with 1 Axes>"
      ]
     },
     "metadata": {
      "needs_background": "light"
     },
     "output_type": "display_data"
    }
   ],
   "source": [
    "bins = np.linspace(0.1, 1, 20)\n",
    "fig, ax = plt.subplots()\n",
    "sns.distplot(cc['spearman_correlation'], bins = bins, hist = False, label = 'WT-WT Correlations',\n",
    "            color = 'k', kde_kws={\"linewidth\": 5, 'alpha': 0.75, 'zorder': -1})\n",
    "sns.distplot(ee['spearman_correlation'], bins = bins, hist = False, label = 'Emx1-Emx1 Correlations')\n",
    "sns.distplot(rr['spearman_correlation'], bins = bins, hist = False, label = 'Rbp4-Rbp4 Correlations')\n",
    "sns.distplot(ce['spearman_correlation'], bins = bins, hist = False, label = 'WT-Emx1 Correlations')\n",
    "ax.tick_params(top=False, right=False)\n",
    "plt.legend(loc = 2)\n",
    "sns.despine()"
   ]
  }
 ],
 "metadata": {
  "kernelspec": {
   "display_name": "Python 3",
   "language": "python",
   "name": "python3"
  },
  "language_info": {
   "codemirror_mode": {
    "name": "ipython",
    "version": 3
   },
   "file_extension": ".py",
   "mimetype": "text/x-python",
   "name": "python",
   "nbconvert_exporter": "python",
   "pygments_lexer": "ipython3",
   "version": "3.7.4"
  }
 },
 "nbformat": 4,
 "nbformat_minor": 1
}
