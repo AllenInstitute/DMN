{
 "cells": [
  {
   "cell_type": "code",
   "execution_count": 1,
   "metadata": {},
   "outputs": [
    {
     "name": "stderr",
     "output_type": "stream",
     "text": [
      "/Users/jenniferwh/Dropbox (Allen Institute)/Mesoscale Connectome Papers in Progress/2019 DMN/_new_figures/jupyter_notebooks/env/lib/python3.7/site-packages/statsmodels/compat/pandas.py:23: FutureWarning: The Panel class is removed from pandas. Accessing it from the top-level namespace will also be removed in the next version\n",
      "  data_klasses = (pandas.Series, pandas.DataFrame, pandas.Panel)\n"
     ]
    }
   ],
   "source": [
    "import os\n",
    "import pandas as pd\n",
    "import numpy as np\n",
    "from allensdk.core.mouse_connectivity_cache import MouseConnectivityCache\n",
    "from anatomy.anatomy_api import AnatomyApi\n",
    "import nrrd\n",
    "from statsmodels.formula.api import ols\n",
    "from statsmodels.stats.anova import anova_lm\n",
    "import statsmodels.api as sm\n",
    "import scipy.stats as stats\n",
    "from statsmodels.stats.multicomp import MultiComparison\n",
    "import matplotlib.cm as cm\n",
    "import matplotlib.pyplot as plt\n",
    "import operator\n",
    "import scipy\n",
    "import seaborn as sns\n",
    "sns.set_context('paper')\n",
    "sns.set_style('white')\n",
    "\n",
    "%matplotlib inline\n",
    "import matplotlib as mpl\n",
    "mpl.rcParams['pdf.fonttype'] = 42"
   ]
  },
  {
   "cell_type": "code",
   "execution_count": 2,
   "metadata": {},
   "outputs": [],
   "source": [
    "import platform\n",
    "if platform.system() == 'Windows':\n",
    "    path = r'C:\\Users\\jenniferwh\\Dropbox (Allen Institute)/Mesoscale Connectome Papers in Progress/2019 DMN/_new_figures/Figure_3'\n",
    "    maskpath = r'C:\\Users\\jenniferwh\\Dropbox (Allen Institute)\\Mesoscale Connectome Papers in Progress\\2019 DMN\\fMRI_masks'\n",
    "elif platform.system() == 'Darwin':\n",
    "    basepath = r'/Users/jenniferwh/Dropbox (Allen Institute)/Mesoscale Connectome Papers in Progress/2019 DMN'\n",
    "\n",
    "datapath = os.path.join(basepath, 'data_files')\n",
    "savepath = os.path.join(basepath, '_new_figures', 'Figure_3')\n",
    "maskpath = os.path.join(basepath, 'fMRI_masks')"
   ]
  },
  {
   "cell_type": "code",
   "execution_count": 3,
   "metadata": {},
   "outputs": [],
   "source": [
    "dat = pd.read_csv(os.path.join(savepath, 'Ext Data Table 3_Corticocortical NPV matrices.csv'))"
   ]
  },
  {
   "cell_type": "code",
   "execution_count": 4,
   "metadata": {},
   "outputs": [
    {
     "data": {
      "text/plain": [
       "364"
      ]
     },
     "execution_count": 4,
     "metadata": {},
     "output_type": "execute_result"
    }
   ],
   "source": [
    "len(dat)"
   ]
  },
  {
   "cell_type": "code",
   "execution_count": 5,
   "metadata": {},
   "outputs": [],
   "source": [
    "dat.rename(columns = {'Exp image series ID': 'image_series_id', \n",
    "                      'Rbp4 anchor image series ID': 'Rbp4_anchor_id',\n",
    "                     'distance from anchor': 'distance', \n",
    "                      'Consensus Rbp4 anchor Source': 'Rbp4_source',\n",
    "                     'Exp Source': 'source'}, \n",
    "           inplace = True)"
   ]
  },
  {
   "cell_type": "code",
   "execution_count": 6,
   "metadata": {},
   "outputs": [
    {
     "name": "stdout",
     "output_type": "stream",
     "text": [
      "464\n"
     ]
    }
   ],
   "source": [
    "dmn_dat = pd.read_csv(os.path.join(datapath, \n",
    "                                   'wt_cre_matched_layer_injections_DMN_and_core_projections_coefficients.csv'))\n",
    "dmn_dat.rename(columns = {'id': 'image_series_id'}, inplace = True)\n",
    "print(len(dmn_dat))"
   ]
  },
  {
   "cell_type": "code",
   "execution_count": 7,
   "metadata": {},
   "outputs": [
    {
     "data": {
      "text/plain": [
       "100"
      ]
     },
     "execution_count": 7,
     "metadata": {},
     "output_type": "execute_result"
    }
   ],
   "source": [
    "len([isid for isid in dmn_dat['image_series_id'] if \n",
    "     isid not in dat['image_series_id'].unique()]) #C57Bl/6 experiments"
   ]
  },
  {
   "cell_type": "code",
   "execution_count": 8,
   "metadata": {},
   "outputs": [],
   "source": [
    "dat = dat.merge(dmn_dat[['image_series_id', 'injection dmn fraction',\n",
    "                   'projection dmn fraction', \n",
    "                   'distance coefficient', \n",
    "                   'DMN coefficient',\n",
    "                        'injection core fraction',\n",
    "                        'projection core fraction',\n",
    "                        'core distance coefficient',\n",
    "                        'DMN core coefficient']], \n",
    "          on = 'image_series_id', how = 'left')"
   ]
  },
  {
   "cell_type": "code",
   "execution_count": 9,
   "metadata": {},
   "outputs": [],
   "source": [
    "dat.rename(columns = {'DMN coefficient': 'dmn_coeff', \n",
    "                      'injection dmn fraction': 'inj_dmn_frac',\n",
    "                      'projection dmn fraction': 'proj_dmn_frac',\n",
    "                     'Exp Source': 'source'}, \n",
    "           inplace = True)"
   ]
  },
  {
   "cell_type": "code",
   "execution_count": 10,
   "metadata": {},
   "outputs": [
    {
     "name": "stdout",
     "output_type": "stream",
     "text": [
      "364\n"
     ]
    }
   ],
   "source": [
    "print(len(dat))"
   ]
  },
  {
   "cell_type": "code",
   "execution_count": 11,
   "metadata": {},
   "outputs": [
    {
     "data": {
      "text/plain": [
       "43"
      ]
     },
     "execution_count": 11,
     "metadata": {},
     "output_type": "execute_result"
    }
   ],
   "source": [
    "len(dat['Rbp4_anchor_id'].unique())"
   ]
  },
  {
   "cell_type": "code",
   "execution_count": 12,
   "metadata": {},
   "outputs": [],
   "source": [
    "dat.loc[dat['Mouse Line'] == 'C57BL/6J / Emx1', 'layer'] = 'all'\n",
    "dat.loc[dat['Mouse Line'].isin(['Cux2-IRES-Cre', 'Sepw1-Cre_NP39']), 'layer'] = '2/3'\n",
    "dat.loc[dat['Mouse Line'].isin(['Nr5a1-Cre', 'Scnn1a-Tg3-Cre', 'Rorb-IRES2-Cre']), 'layer'] = '4'\n",
    "dat.loc[dat['Mouse Line'].isin(['Tlx3-Cre_PL56', 'Rbp4-Cre_KL100']), 'layer'] = '5' #together\n",
    "dat.loc[dat['Mouse Line'].isin(['Chrna2-Cre_OE25', 'Efr3a-Cre_NO108', 'Sim1-Cre_KJ18',\n",
    "                               'A930038C07Rik-Tg1-Cre']), 'layer'] = '5 PT'\n",
    "dat.loc[dat['Mouse Line'].isin(['Ntsr1-Cre_GN220', 'Syt6-Cre_KI148']), 'layer'] = '6'"
   ]
  },
  {
   "cell_type": "code",
   "execution_count": 13,
   "metadata": {},
   "outputs": [
    {
     "data": {
      "text/plain": [
       "[]"
      ]
     },
     "execution_count": 13,
     "metadata": {},
     "output_type": "execute_result"
    }
   ],
   "source": [
    "# only include sources with at least one L2/3 and one L5 IT injection. This should be []\n",
    "drop_sources = []\n",
    "for source in dat['Rbp4_source'].unique():\n",
    "    if len(dat[(dat['Rbp4_source'] == source) & \n",
    "                  (dat['layer'] == '2/3')]) == 0 or len(dat[(dat['Rbp4_source'] == source) & \n",
    "                  (dat['layer'] == '5')]) == 0:\n",
    "        drop_sources.append(source)\n",
    "drop_sources"
   ]
  },
  {
   "cell_type": "code",
   "execution_count": 14,
   "metadata": {},
   "outputs": [
    {
     "name": "stdout",
     "output_type": "stream",
     "text": [
      "[]\n"
     ]
    }
   ],
   "source": [
    "# should be []\n",
    "dmn = ['ACAd', 'ACAv', 'PL', 'ILA', 'ORBl', 'ORBm',  'ORBvl', 'RSPagl', 'RSPd', 'RSPv', \n",
    "       'VISa', 'VISam', 'MOs', 'SSp-tr', 'SSp-ll']\n",
    "out = ['AId', 'AIv', 'MOp', 'SSp-m', 'SSp-n', 'SSp-bfd', 'SSp-un', 'SSp-ul', 'SSs', 'FRP', \n",
    "       'VISC', 'GU', 'AIp', 'VISal', 'VISl', 'VISp-1', 'VISp-2', 'VISp-3', 'VISp-4', \n",
    "       'VISp-5', 'VISp-6', 'VISpl', 'VISli', 'VISpor', 'AUDd', 'AUDp', 'AUDv', \n",
    "       'AUDpo', 'TEa', 'PERI', 'ECT', 'VISrl', 'VISpm']\n",
    "out_consolidated = ['AId', 'AIv', 'MOp', 'SSp-m', 'SSp-n', 'SSp-bfd', 'SSp-un', 'SSp-ul', \n",
    "                    'SSs', 'FRP', \n",
    "       'VISC', 'GU', 'AIp', 'VISal', 'VISl', 'VISp', \n",
    "      'VISpl', 'VISli', 'VISpor', 'AUDd', 'AUDp', 'AUDv', \n",
    "       'AUDpo', 'TEa', 'PERI', 'ECT', 'VISrl', 'VISpm']\n",
    "plot_order = dmn+out\n",
    "null_sources = [source for source in plot_order if \n",
    "                     len(dat[dat['Rbp4_source'] == source]) == 0]\n",
    "plot_order = [source for source in plot_order if source not in null_sources]\n",
    "print([source for source in dat['Rbp4_source'].unique() if source not in plot_order])"
   ]
  },
  {
   "cell_type": "code",
   "execution_count": 15,
   "metadata": {},
   "outputs": [],
   "source": [
    "cre_colors = ['k', 'c', 'c', 'm', 'm', 'm', 'lime', 'lightgray', 'b', 'b', 'b', 'b', 'yellow', 'yellow']"
   ]
  },
  {
   "cell_type": "code",
   "execution_count": 16,
   "metadata": {},
   "outputs": [],
   "source": [
    "cre_order = ['C57BL/6J / Emx1', 'Cux2-IRES-Cre','Sepw1-Cre_NP39', 'Nr5a1-Cre', 'Scnn1a-Tg3-Cre',\n",
    "            'Rorb-IRES2-Cre', 'Rbp4-Cre_KL100', 'Tlx3-Cre_PL56', 'A930038C07Rik-Tg1-Cre', 'Chrna2-Cre_OE25',\n",
    "            'Efr3a-Cre_NO108', 'Sim1-Cre_KJ18','Ntsr1-Cre_GN220', 'Syt6-Cre_KI148']"
   ]
  },
  {
   "cell_type": "code",
   "execution_count": 17,
   "metadata": {},
   "outputs": [
    {
     "data": {
      "text/plain": [
       "<matplotlib.legend.Legend at 0x12990f7d0>"
      ]
     },
     "execution_count": 17,
     "metadata": {},
     "output_type": "execute_result"
    },
    {
     "data": {
      "image/png": "[encoded data removed]",
      "text/plain": [
       "<Figure size 360x144 with 1 Axes>"
      ]
     },
     "metadata": {
      "needs_background": "light"
     },
     "output_type": "display_data"
    }
   ],
   "source": [
    "fig, ax = plt.subplots(figsize = (5, 2))\n",
    "sns.stripplot('Rbp4_source', 'inj_dmn_frac', data = dat, s=8, \n",
    "              order = plot_order, hue = 'Mouse Line', hue_order = cre_order, \n",
    "              palette = cre_colors, alpha = 0.6)\n",
    "plt.axhline(y=0.5, linestyle = '--', color = 'gray', alpha = 0.5)\n",
    "plt.xticks(rotation = 90);\n",
    "ax.set_ylabel('Injection DMN Fraction')\n",
    "ax.set_xlabel('Rbp4 Anchor Group Source')\n",
    "handles, labels = ax.get_legend_handles_labels()\n",
    "# sort both labels and handles by labels\n",
    "labels, handles = (cre_order, handles)\n",
    "ax.legend(handles, labels, bbox_to_anchor = [1,1])"
   ]
  },
  {
   "cell_type": "markdown",
   "metadata": {},
   "source": [
    "##### Revise text in manuscript to match what I actually do below: \n",
    "We eliminated the single MOs injection outside the DMN, the single SSp-bfd experiment outside the DMN, and the single VISp injection inside the DMN from our analysis. The following sources were eliminated because they did not contain both a L2/3 and an L5 experiment: ACAd, ORBm, ORBvl, RSPd, ILA, AUDd, VISli, RSPagl, VISpm. MOs and SSp-bfd were used only as in-DMN sources and VISp was used only as an out-DMN source."
   ]
  },
  {
   "cell_type": "code",
   "execution_count": 18,
   "metadata": {},
   "outputs": [
    {
     "data": {
      "text/plain": [
       "array([272821309, 300929973])"
      ]
     },
     "execution_count": 18,
     "metadata": {},
     "output_type": "execute_result"
    }
   ],
   "source": [
    "dat[(dat['Rbp4_source'] == 'VISp-2') & \n",
    "                      (dat['inj_dmn_frac'] > 0.5)]['image_series_id'].values"
   ]
  },
  {
   "cell_type": "code",
   "execution_count": 19,
   "metadata": {},
   "outputs": [
    {
     "data": {
      "text/plain": [
       "array([178487444])"
      ]
     },
     "execution_count": 19,
     "metadata": {},
     "output_type": "execute_result"
    }
   ],
   "source": [
    "dat[(dat['Rbp4_source'] == 'SSp-bfd') & \n",
    "                      (dat['inj_dmn_frac'] < 0.5)]['image_series_id'].values"
   ]
  },
  {
   "cell_type": "code",
   "execution_count": 20,
   "metadata": {},
   "outputs": [],
   "source": [
    "# make each source have only in or only out injections\n",
    "drop_expts = [477037203, #single MOs injection outside the DMN\n",
    "              141602484, #another MOs injection outside the DMN (barely: 46%)\n",
    "             300929973, #one VISp injection inside the DMN\n",
    "             272821309] #another VISp injection inside the DMN\n",
    "drop_expts += list(dat[(dat['Rbp4_source'] == 'VISp-2') & \n",
    "                      (dat['inj_dmn_frac'] > 0.5)]['image_series_id'].values)\n",
    "drop_expts += list(dat[(dat['Rbp4_source'] == 'SSp-bfd') & \n",
    "                      (dat['inj_dmn_frac'] < 0.5)]['image_series_id'].values)\n",
    "drop_expts += list(dat[dat['Rbp4_source'] == 'VISpm']['image_series_id'].values)\n",
    "plot_order.remove('VISpm')"
   ]
  },
  {
   "cell_type": "code",
   "execution_count": 21,
   "metadata": {},
   "outputs": [
    {
     "name": "stdout",
     "output_type": "stream",
     "text": [
      "351\n"
     ]
    }
   ],
   "source": [
    "dat = dat[~dat['image_series_id'].isin(drop_expts)]\n",
    "print(len(dat))"
   ]
  },
  {
   "cell_type": "code",
   "execution_count": 22,
   "metadata": {
    "scrolled": true
   },
   "outputs": [
    {
     "data": {
      "text/html": [
       "<div>\n",
       "<style scoped>\n",
       "    .dataframe tbody tr th:only-of-type {\n",
       "        vertical-align: middle;\n",
       "    }\n",
       "\n",
       "    .dataframe tbody tr th {\n",
       "        vertical-align: top;\n",
       "    }\n",
       "\n",
       "    .dataframe thead th {\n",
       "        text-align: right;\n",
       "    }\n",
       "</style>\n",
       "<table border=\"1\" class=\"dataframe\">\n",
       "  <thead>\n",
       "    <tr style=\"text-align: right;\">\n",
       "      <th></th>\n",
       "      <th>image_series_id</th>\n",
       "      <th>Rbp4_anchor_id</th>\n",
       "      <th>distance</th>\n",
       "      <th>Mouse Line</th>\n",
       "      <th>Manual PN class</th>\n",
       "      <th>layer</th>\n",
       "    </tr>\n",
       "  </thead>\n",
       "  <tbody>\n",
       "    <tr>\n",
       "      <th>173</th>\n",
       "      <td>297854981</td>\n",
       "      <td>182793477</td>\n",
       "      <td>29.904390</td>\n",
       "      <td>Sim1-Cre_KJ18</td>\n",
       "      <td>PT</td>\n",
       "      <td>5 PT</td>\n",
       "    </tr>\n",
       "    <tr>\n",
       "      <th>231</th>\n",
       "      <td>267659565</td>\n",
       "      <td>120814821</td>\n",
       "      <td>158.456719</td>\n",
       "      <td>Efr3a-Cre_NO108</td>\n",
       "      <td>PT</td>\n",
       "      <td>5 PT</td>\n",
       "    </tr>\n",
       "    <tr>\n",
       "      <th>171</th>\n",
       "      <td>292174974</td>\n",
       "      <td>182793477</td>\n",
       "      <td>166.782782</td>\n",
       "      <td>Chrna2-Cre_OE25</td>\n",
       "      <td>PT</td>\n",
       "      <td>5 PT</td>\n",
       "    </tr>\n",
       "    <tr>\n",
       "      <th>193</th>\n",
       "      <td>297947641</td>\n",
       "      <td>168162771</td>\n",
       "      <td>194.971888</td>\n",
       "      <td>Sim1-Cre_KJ18</td>\n",
       "      <td>PT</td>\n",
       "      <td>5 PT</td>\n",
       "    </tr>\n",
       "    <tr>\n",
       "      <th>172</th>\n",
       "      <td>278258073</td>\n",
       "      <td>182793477</td>\n",
       "      <td>226.635413</td>\n",
       "      <td>Efr3a-Cre_NO108</td>\n",
       "      <td>PT</td>\n",
       "      <td>5 PT</td>\n",
       "    </tr>\n",
       "    <tr>\n",
       "      <th>230</th>\n",
       "      <td>267750528</td>\n",
       "      <td>120814821</td>\n",
       "      <td>258.653026</td>\n",
       "      <td>Chrna2-Cre_OE25</td>\n",
       "      <td>PT</td>\n",
       "      <td>5 PT</td>\n",
       "    </tr>\n",
       "    <tr>\n",
       "      <th>227</th>\n",
       "      <td>156394513</td>\n",
       "      <td>120814821</td>\n",
       "      <td>273.490389</td>\n",
       "      <td>A930038C07Rik-Tg1-Cre</td>\n",
       "      <td>IT PT</td>\n",
       "      <td>5 PT</td>\n",
       "    </tr>\n",
       "    <tr>\n",
       "      <th>167</th>\n",
       "      <td>176433237</td>\n",
       "      <td>182793477</td>\n",
       "      <td>286.369573</td>\n",
       "      <td>A930038C07Rik-Tg1-Cre</td>\n",
       "      <td>IT PT</td>\n",
       "      <td>5 PT</td>\n",
       "    </tr>\n",
       "    <tr>\n",
       "      <th>232</th>\n",
       "      <td>287807030</td>\n",
       "      <td>120814821</td>\n",
       "      <td>291.761938</td>\n",
       "      <td>Sim1-Cre_KJ18</td>\n",
       "      <td>PT</td>\n",
       "      <td>5 PT</td>\n",
       "    </tr>\n",
       "    <tr>\n",
       "      <th>191</th>\n",
       "      <td>287995889</td>\n",
       "      <td>168162771</td>\n",
       "      <td>351.998613</td>\n",
       "      <td>Efr3a-Cre_NO108</td>\n",
       "      <td>IT PT CT</td>\n",
       "      <td>5 PT</td>\n",
       "    </tr>\n",
       "    <tr>\n",
       "      <th>189</th>\n",
       "      <td>286774770</td>\n",
       "      <td>168162771</td>\n",
       "      <td>417.764096</td>\n",
       "      <td>A930038C07Rik-Tg1-Cre</td>\n",
       "      <td>IT PT</td>\n",
       "      <td>5 PT</td>\n",
       "    </tr>\n",
       "  </tbody>\n",
       "</table>\n",
       "</div>"
      ],
      "text/plain": [
       "     image_series_id  Rbp4_anchor_id    distance             Mouse Line  \\\n",
       "173        297854981       182793477   29.904390          Sim1-Cre_KJ18   \n",
       "231        267659565       120814821  158.456719        Efr3a-Cre_NO108   \n",
       "171        292174974       182793477  166.782782        Chrna2-Cre_OE25   \n",
       "193        297947641       168162771  194.971888          Sim1-Cre_KJ18   \n",
       "172        278258073       182793477  226.635413        Efr3a-Cre_NO108   \n",
       "230        267750528       120814821  258.653026        Chrna2-Cre_OE25   \n",
       "227        156394513       120814821  273.490389  A930038C07Rik-Tg1-Cre   \n",
       "167        176433237       182793477  286.369573  A930038C07Rik-Tg1-Cre   \n",
       "232        287807030       120814821  291.761938          Sim1-Cre_KJ18   \n",
       "191        287995889       168162771  351.998613        Efr3a-Cre_NO108   \n",
       "189        286774770       168162771  417.764096  A930038C07Rik-Tg1-Cre   \n",
       "\n",
       "    Manual PN class  layer  \n",
       "173               PT  5 PT  \n",
       "231               PT  5 PT  \n",
       "171               PT  5 PT  \n",
       "193               PT  5 PT  \n",
       "172               PT  5 PT  \n",
       "230               PT  5 PT  \n",
       "227            IT PT  5 PT  \n",
       "167            IT PT  5 PT  \n",
       "232               PT  5 PT  \n",
       "191         IT PT CT  5 PT  \n",
       "189            IT PT  5 PT  "
      ]
     },
     "execution_count": 22,
     "metadata": {},
     "output_type": "execute_result"
    }
   ],
   "source": [
    "# Most sources have experiments relatively evenly distributed across layers\n",
    "# but MOs has a lot of L5 PT experiments.\n",
    "dat[(dat['Rbp4_source'] == 'MOs') &\n",
    "   (dat['layer'] == '5 PT')][['image_series_id',\n",
    "                                  'Rbp4_anchor_id',\n",
    "                                  'distance',\n",
    "                                    'Mouse Line',\n",
    "                                    'Manual PN class ',\n",
    "                                  'layer']].sort_values(by=['layer','distance'])"
   ]
  },
  {
   "cell_type": "markdown",
   "metadata": {},
   "source": [
    "# Take the 4 experiments with the smallest distance (all were manually classified PT)\n",
    "drop_5PT = [278258073, 267750528, 156394513, 176433237, 287807030, 287995889]\n",
    "dat = dat[~dat['image_series_id'].isin(drop_5PT)]\n",
    "print(len(dat))"
   ]
  },
  {
   "cell_type": "code",
   "execution_count": 23,
   "metadata": {},
   "outputs": [
    {
     "data": {
      "text/html": [
       "<div>\n",
       "<style scoped>\n",
       "    .dataframe tbody tr th:only-of-type {\n",
       "        vertical-align: middle;\n",
       "    }\n",
       "\n",
       "    .dataframe tbody tr th {\n",
       "        vertical-align: top;\n",
       "    }\n",
       "\n",
       "    .dataframe thead th {\n",
       "        text-align: right;\n",
       "    }\n",
       "</style>\n",
       "<table border=\"1\" class=\"dataframe\">\n",
       "  <thead>\n",
       "    <tr style=\"text-align: right;\">\n",
       "      <th></th>\n",
       "      <th>layer</th>\n",
       "      <th>Mouse Line</th>\n",
       "      <th>Manual PN class</th>\n",
       "      <th>Rbp4_source</th>\n",
       "    </tr>\n",
       "  </thead>\n",
       "  <tbody>\n",
       "    <tr>\n",
       "      <th>71</th>\n",
       "      <td>6</td>\n",
       "      <td>Syt6-Cre_KI148</td>\n",
       "      <td>PT</td>\n",
       "      <td>ACAv</td>\n",
       "    </tr>\n",
       "    <tr>\n",
       "      <th>100</th>\n",
       "      <td>6</td>\n",
       "      <td>Ntsr1-Cre_GN220</td>\n",
       "      <td>CT</td>\n",
       "      <td>ACAv</td>\n",
       "    </tr>\n",
       "    <tr>\n",
       "      <th>105</th>\n",
       "      <td>6</td>\n",
       "      <td>Syt6-Cre_KI148</td>\n",
       "      <td>IT PT CT</td>\n",
       "      <td>ACAv</td>\n",
       "    </tr>\n",
       "  </tbody>\n",
       "</table>\n",
       "</div>"
      ],
      "text/plain": [
       "    layer       Mouse Line Manual PN class  Rbp4_source\n",
       "71      6   Syt6-Cre_KI148               PT        ACAv\n",
       "100     6  Ntsr1-Cre_GN220               CT        ACAv\n",
       "105     6   Syt6-Cre_KI148         IT PT CT        ACAv"
      ]
     },
     "execution_count": 23,
     "metadata": {},
     "output_type": "execute_result"
    }
   ],
   "source": [
    "dat[(dat['Rbp4_source'] == 'ACAv') & \n",
    "    (dat['layer'] == '6')][['layer', \n",
    "                            'Mouse Line',\n",
    "                          'Manual PN class ', \n",
    "                          'Rbp4_source']]"
   ]
  },
  {
   "cell_type": "markdown",
   "metadata": {},
   "source": [
    "# Only keep CT experiments for L6\n",
    "drop_L6 = dat[(dat['layer'] == '6') &\n",
    "             (dat['Manual PN class '] != 'CT')]['image_series_id'].values\n",
    "print(len(drop_L6))\n",
    "dat = dat[~dat['image_series_id'].isin(drop_L6)]\n",
    "print(len(dat))"
   ]
  },
  {
   "cell_type": "markdown",
   "metadata": {},
   "source": [
    "# Only keep PT experiments for L5 PT\n",
    "drop_L5 = dat[(dat['layer'] == '5 PT') &\n",
    "             (~dat['Manual PN class '].isin(['PT', 'local']))]['image_series_id'].values\n",
    "print(len(drop_L5))\n",
    "dat = dat[~dat['image_series_id'].isin(drop_L5)]\n",
    "print(len(dat))"
   ]
  },
  {
   "cell_type": "code",
   "execution_count": 24,
   "metadata": {},
   "outputs": [
    {
     "data": {
      "text/plain": [
       "array([517072832])"
      ]
     },
     "execution_count": 24,
     "metadata": {},
     "output_type": "execute_result"
    }
   ],
   "source": [
    "dat[(dat['layer'] == '5') &\n",
    "             (dat['Manual PN class '] == 'PT')]['image_series_id'].values"
   ]
  },
  {
   "cell_type": "code",
   "execution_count": 25,
   "metadata": {},
   "outputs": [
    {
     "name": "stdout",
     "output_type": "stream",
     "text": [
      "1\n",
      "350\n"
     ]
    }
   ],
   "source": [
    "# One Rbp4 experiment was classified as PT\n",
    "drop_L5 = dat[(dat['layer'] == '5') &\n",
    "             (dat['Manual PN class '] == 'PT')]['image_series_id'].values\n",
    "print(len(drop_L5))\n",
    "dat = dat[~dat['image_series_id'].isin(drop_L5)]\n",
    "print(len(dat))"
   ]
  },
  {
   "cell_type": "code",
   "execution_count": 26,
   "metadata": {},
   "outputs": [
    {
     "data": {
      "text/plain": [
       "array(['6', '2/3', '4', '5', 'all', '5 PT'], dtype=object)"
      ]
     },
     "execution_count": 26,
     "metadata": {},
     "output_type": "execute_result"
    }
   ],
   "source": [
    "dat['layer'].unique()"
   ]
  },
  {
   "cell_type": "code",
   "execution_count": 27,
   "metadata": {},
   "outputs": [
    {
     "data": {
      "text/plain": [
       "array(['VISam', 'VISa', 'RSPv', 'RSPd', 'VISpm'], dtype=object)"
      ]
     },
     "execution_count": 27,
     "metadata": {},
     "output_type": "execute_result"
    }
   ],
   "source": [
    "dat[dat['Rbp4 Module'] == 'Medial']['source'].unique()"
   ]
  },
  {
   "cell_type": "code",
   "execution_count": 28,
   "metadata": {
    "scrolled": true
   },
   "outputs": [],
   "source": [
    "sources = []\n",
    "Lall = []\n",
    "L23 = []\n",
    "L4 = []\n",
    "L5 = []\n",
    "L5PT = []\n",
    "L6 = []\n",
    "for source in dat['Rbp4_source'].unique():\n",
    "    sources.append(source)\n",
    "    Lall.append(len(dat[(dat['Rbp4_source'] == source) &\n",
    "                       (dat['layer'] == 'all')]))\n",
    "    L23.append(len(dat[(dat['Rbp4_source'] == source) &\n",
    "                       (dat['layer'] == '2/3')]))\n",
    "    L4.append(len(dat[(dat['Rbp4_source'] == source) &\n",
    "                       (dat['layer'] == '4')]))\n",
    "    L5.append(len(dat[(dat['Rbp4_source'] == source) &\n",
    "                       (dat['layer'] == '5')]))\n",
    "    L5PT.append(len(dat[(dat['Rbp4_source'] == source) &\n",
    "                       (dat['layer'] == '5 PT')]))\n",
    "    L6.append(len(dat[(dat['Rbp4_source'] == source) &\n",
    "                       (dat['layer'] == '6')]))\n",
    "expcount = pd.DataFrame({'all': Lall,\n",
    "                        '2/3': L23,\n",
    "                        '4': L4,\n",
    "                        '5': L5,\n",
    "                        '5 PT': L5PT,\n",
    "                        '6': L6}, index = sources)"
   ]
  },
  {
   "cell_type": "code",
   "execution_count": 29,
   "metadata": {},
   "outputs": [],
   "source": [
    "expcount.T.to_csv(os.path.join(savepath, 'experiment_count_layer_data_L5combined.csv'))"
   ]
  },
  {
   "cell_type": "code",
   "execution_count": 30,
   "metadata": {},
   "outputs": [
    {
     "name": "stdout",
     "output_type": "stream",
     "text": [
      "6\n",
      "['CT' 'IT' 'PT' 'IT PT CT']\n",
      "2/3\n",
      "['IT']\n",
      "4\n",
      "['IT' 'local']\n",
      "5\n",
      "['IT' 'IT PT']\n",
      "all\n",
      "['IT PT CT']\n",
      "5 PT\n",
      "['PT' 'IT' 'local' 'IT PT' 'IT PT CT' 'CT']\n"
     ]
    }
   ],
   "source": [
    "for layer in dat['layer'].unique():\n",
    "    print(layer)\n",
    "    print(dat[dat['layer'] == layer]['Manual PN class '].unique())"
   ]
  },
  {
   "cell_type": "code",
   "execution_count": 31,
   "metadata": {},
   "outputs": [
    {
     "data": {
      "image/png": "[encoded data removed]",
      "text/plain": [
       "<Figure size 360x144 with 1 Axes>"
      ]
     },
     "metadata": {
      "needs_background": "light"
     },
     "output_type": "display_data"
    }
   ],
   "source": [
    "fig, ax = plt.subplots(figsize = (5, 2))\n",
    "sns.stripplot('Rbp4_source', 'inj_dmn_frac', data = dat, s=8, \n",
    "              order = plot_order, hue = 'Mouse Line', hue_order = cre_order, \n",
    "              palette = cre_colors, alpha = 0.6)\n",
    "plt.axhline(y=0.5, linestyle = '--', color = 'gray', alpha = 0.5)\n",
    "plt.xticks(rotation = 90);\n",
    "ax.set_ylabel('Injection DMN Fraction')\n",
    "ax.set_xlabel('Anchor Group Source')\n",
    "handles, labels = ax.get_legend_handles_labels()\n",
    "# sort both labels and handles by labels\n",
    "labels, handles = (cre_order, handles)\n",
    "ax.legend(handles, labels, bbox_to_anchor = [1,1])\n",
    "plt.savefig(os.path.join(savepath, 'Injection DMN Fraction per experiment.pdf'), \n",
    "            bbox_inches='tight', \n",
    "            pad_inches=0.3, format='pdf', transparent = True, dpi=300)"
   ]
  },
  {
   "cell_type": "code",
   "execution_count": 32,
   "metadata": {},
   "outputs": [
    {
     "data": {
      "text/plain": [
       "array(['6', '2/3', '5', '5 PT', 'all', '4'], dtype=object)"
      ]
     },
     "execution_count": 32,
     "metadata": {},
     "output_type": "execute_result"
    }
   ],
   "source": [
    "dat[dat['Rbp4_source'] == 'ACAd']['layer'].unique()"
   ]
  },
  {
   "cell_type": "code",
   "execution_count": 33,
   "metadata": {},
   "outputs": [],
   "source": [
    "layer_plot_order = ['all', '2/3', '4', '5', '5 PT', '6']"
   ]
  },
  {
   "cell_type": "code",
   "execution_count": 34,
   "metadata": {},
   "outputs": [],
   "source": [
    "layer_colors = ['k', 'c', 'm', 'gray', 'b', 'gold']"
   ]
  },
  {
   "cell_type": "code",
   "execution_count": 35,
   "metadata": {},
   "outputs": [
    {
     "name": "stdout",
     "output_type": "stream",
     "text": [
      "6\n",
      "(0.9813776956373559, 5.611587550254324e-44)\n",
      "2/3\n",
      "(0.959453623279162, 7.885441637155374e-26)\n",
      "4\n",
      "(0.9493297970404678, 3.1949282315794384e-22)\n",
      "5\n",
      "(0.9141349481182425, 9.725733429095664e-31)\n",
      "all\n",
      "(0.9519704422499229, 1.1955201141792254e-21)\n",
      "5 PT\n",
      "(0.9813742095769591, 8.33895384528991e-60)\n"
     ]
    }
   ],
   "source": [
    "rs = []\n",
    "pvals = []\n",
    "for layer in dat['layer'].unique():\n",
    "    print(layer)\n",
    "    x=dat[dat['layer'] == layer]['inj_dmn_frac']\n",
    "    y = dat[dat['layer'] == layer]['proj_dmn_frac']\n",
    "    corr = scipy.stats.pearsonr(y, x)\n",
    "    print(corr)\n",
    "    rs.append(corr[0])\n",
    "    pvals.append(corr[1])"
   ]
  },
  {
   "cell_type": "code",
   "execution_count": 36,
   "metadata": {},
   "outputs": [
    {
     "data": {
      "image/png": "[encoded data removed]",
      "text/plain": [
       "<Figure size 108x108 with 1 Axes>"
      ]
     },
     "metadata": {
      "needs_background": "light"
     },
     "output_type": "display_data"
    }
   ],
   "source": [
    "fig, ax = plt.subplots(figsize = (1.5, 1.5))\n",
    "#dat['inj_percent_dmn'] = dat['injection dmn fraction'] * 100\n",
    "#dat['percent_dmn'] = dat['projection dmn fraction'] * 100\n",
    "zorder = 7\n",
    "for ix, layer in enumerate(layer_plot_order):\n",
    "    zorder -= 1\n",
    "    ax1 = sns.regplot(x='inj_dmn_frac', \n",
    "                      y='proj_dmn_frac', \n",
    "                      data = dat[dat['layer'] == layer],\n",
    "                      ax = ax,\n",
    "                      label = layer,\n",
    "                      color = layer_colors[ix],\n",
    "                      ci = None,\n",
    "                      line_kws = {'zorder': zorder},\n",
    "                      scatter_kws={'s':10,\n",
    "                                  'alpha': 0.7})\n",
    "ax.set_ylabel('Projection DMN Fraction', fontsize = 8)\n",
    "ax.yaxis.labelpad = 1\n",
    "ax.xaxis.labelpad = 1\n",
    "ax.set_xlabel('Injection DMN Fraction', fontsize = 8)\n",
    "legend = plt.legend(loc = 2, fontsize = 6, frameon = False,\n",
    "          bbox_to_anchor = [0, 1.2], title = 'Layer', \n",
    "                    labelspacing = 0.2,\n",
    "                   labels = layer_plot_order)\n",
    "plt.setp(legend.get_title(),fontsize=8)\n",
    "ax.set_xlim([-0.1,1.1])\n",
    "ax.set_ylim([-0.1,1.1])\n",
    "plt.xticks([0, 0.5, 1], fontsize = 8)\n",
    "plt.yticks([0, 0.5, 1], fontsize = 8)\n",
    "ax.axhline(y = 0.5, xmin=0, xmax=1, color = 'gray', linestyle = 'dashed',\n",
    "          linewidth = 0.5)\n",
    "sns.despine()\n",
    "ax.tick_params(top = False, right = False, left = True, bottom = True)\n",
    "#everything on zorder -1 or lower will be rasterized\n",
    "ax.set_rasterization_zorder(0)\n",
    "plt.savefig(os.path.join(savepath, 'DMN_proj_fraction_by_layers.pdf'), \n",
    "            bbox_inches='tight', \n",
    "            pad_inches=0.3, format='pdf', transparent = True, dpi=300)"
   ]
  },
  {
   "cell_type": "code",
   "execution_count": 37,
   "metadata": {},
   "outputs": [
    {
     "name": "stdout",
     "output_type": "stream",
     "text": [
      "6\n",
      "(0.7097051249453579, 1.5197487585553e-10)\n",
      "2/3\n",
      "(0.5916088700782984, 1.4917353746470496e-05)\n",
      "4\n",
      "(0.48200805901724064, 0.0010645274696005245)\n",
      "5\n",
      "(0.5445056689048065, 3.6836493335116763e-07)\n",
      "all\n",
      "(0.6811196751345819, 9.523608666985629e-07)\n",
      "5 PT\n",
      "(0.45013693543001976, 1.957768129982559e-05)\n"
     ]
    }
   ],
   "source": [
    "rs = []\n",
    "pvals = []\n",
    "for layer in dat['layer'].unique():\n",
    "    print(layer)\n",
    "    x=dat[dat['layer'] == layer]['inj_dmn_frac']\n",
    "    y = dat[dat['layer'] == layer]['dmn_coeff']\n",
    "    corr = scipy.stats.pearsonr(y, x)\n",
    "    print(corr)\n",
    "    rs.append(corr[0])\n",
    "    pvals.append(corr[1])"
   ]
  },
  {
   "cell_type": "code",
   "execution_count": 38,
   "metadata": {},
   "outputs": [
    {
     "name": "stdout",
     "output_type": "stream",
     "text": [
      "-0.4227862658937338\n",
      "0.3920405971066395\n"
     ]
    }
   ],
   "source": [
    "print(dat['dmn_coeff'].min())\n",
    "print(dat['dmn_coeff'].max())"
   ]
  },
  {
   "cell_type": "code",
   "execution_count": 39,
   "metadata": {},
   "outputs": [
    {
     "data": {
      "image/png": "[encoded data removed]",
      "text/plain": [
       "<Figure size 108x108 with 1 Axes>"
      ]
     },
     "metadata": {
      "needs_background": "light"
     },
     "output_type": "display_data"
    }
   ],
   "source": [
    "fig, ax = plt.subplots(figsize = (1.5, 1.5))\n",
    "zorder = 7\n",
    "layer_colors = ['k', 'gray', 'c', 'gold', 'b', 'm']\n",
    "for ix, layer in enumerate(['all', '5', '2/3', '5 PT', '6', '4']):\n",
    "    zorder -= 1\n",
    "    ax1 = sns.regplot(x='inj_dmn_frac', \n",
    "                      y='dmn_coeff', \n",
    "                      data = dat[dat['layer'] == layer],\n",
    "                      ax = ax,\n",
    "                      label = layer,\n",
    "                      color = layer_colors[ix],\n",
    "                      ci = None,\n",
    "                      line_kws = {'zorder': zorder,\n",
    "                                 'alpha': 0.7},\n",
    "                      scatter_kws={'s':10,\n",
    "                                  'alpha': 0.7,\n",
    "                                   'edgecolors': 'k',\n",
    "                                  'linewidth':0.5})\n",
    "ax.set_ylabel('DMN Coefficient', fontsize = 7)\n",
    "ax.yaxis.labelpad = 1\n",
    "ax.xaxis.labelpad = 1\n",
    "ax.set_xlabel('Injection DMN Fraction', fontsize = 7)\n",
    "#ax.set_title('Ipsi and Contra')\n",
    "ax.set_xlim([-0.1,1.1])\n",
    "ax.set_ylim([-0.45, 0.45])\n",
    "plt.yticks([-0.4, 0, 0.4], fontsize = 7)\n",
    "plt.xticks([0, 0.5, 1], fontsize = 7)\n",
    "ax.axhline(y = 0, xmin=0, xmax=1, color = 'gray', linestyle = 'dashed',\n",
    "          linewidth = 0.5)\n",
    "sns.despine()\n",
    "ax.tick_params(top = False, right = False, left = True, bottom = True)\n",
    "#everything on zorder -1 or lower will be rasterized\n",
    "ax.set_rasterization_zorder(0)\n",
    "plt.savefig(os.path.join(savepath, 'DMN_coefficient_by_layers.pdf'), \n",
    "            bbox_inches='tight', \n",
    "            pad_inches=0.3, format='pdf', transparent = True, dpi=300)"
   ]
  },
  {
   "cell_type": "code",
   "execution_count": 40,
   "metadata": {},
   "outputs": [
    {
     "name": "stdout",
     "output_type": "stream",
     "text": [
      "-0.017539139968017838\n",
      "-5.214455524599898e-05\n"
     ]
    }
   ],
   "source": [
    "print(dat['distance coefficient'].min())\n",
    "print(dat['distance coefficient'].max())"
   ]
  },
  {
   "cell_type": "code",
   "execution_count": 41,
   "metadata": {},
   "outputs": [
    {
     "data": {
      "image/png": "[encoded data removed]",
      "text/plain": [
       "<Figure size 108x108 with 1 Axes>"
      ]
     },
     "metadata": {
      "needs_background": "light"
     },
     "output_type": "display_data"
    }
   ],
   "source": [
    "fig, ax = plt.subplots(figsize = (1.5, 1.5))\n",
    "zorder = 7\n",
    "layer_colors = ['k', 'c', 'gray', 'gold', 'b', 'm']\n",
    "for ix, layer in enumerate(['all', '2/3', '5', '6', '5 PT', '4']):\n",
    "    zorder -= 1\n",
    "    ax1 = sns.regplot(x='inj_dmn_frac', \n",
    "                      y='distance coefficient', \n",
    "                      data = dat[dat['layer'] == layer],\n",
    "                      ax = ax,\n",
    "                      label = layer,\n",
    "                      color = layer_colors[ix],\n",
    "                      ci = None,\n",
    "                      line_kws = {'zorder': zorder,\n",
    "                                 'alpha': 0.7},\n",
    "                      scatter_kws={'s':10,\n",
    "                                  'alpha': 0.7,\n",
    "                                  'edgecolors': 'k',\n",
    "                                  'linewidth':0.5})\n",
    "ax.set_ylabel('Distance Coefficient', fontsize = 7)\n",
    "ax.yaxis.labelpad = 1\n",
    "ax.xaxis.labelpad = 1\n",
    "ax.set_xlabel('Injection DMN Fraction', fontsize = 7)\n",
    "#ax.set_title('Ipsi and Contra')\n",
    "plt.setp(legend.get_title(),fontsize=7)\n",
    "ax.set_xlim([-0.1,1.1])\n",
    "ax.set_ylim([-0.02, 0.001])\n",
    "plt.xticks([0, 0.5, 1], fontsize = 7)\n",
    "plt.yticks([-0.02, -0.01, 0], fontsize = 7)\n",
    "ax.axhline(y = 0, xmin=0, xmax=1, color = 'gray', linestyle = 'dashed',\n",
    "          linewidth = 0.5)\n",
    "sns.despine()\n",
    "ax.tick_params(top = False, right = False, left = True, bottom = True)\n",
    "#everything on zorder -1 or lower will be rasterized\n",
    "ax.set_rasterization_zorder(0)\n",
    "plt.savefig(os.path.join(savepath, 'distance_coefficient_by_layers.pdf'), \n",
    "            bbox_inches='tight', \n",
    "            pad_inches=0.3, format='pdf', transparent = True, dpi=300)"
   ]
  },
  {
   "cell_type": "code",
   "execution_count": 42,
   "metadata": {},
   "outputs": [
    {
     "name": "stdout",
     "output_type": "stream",
     "text": [
      "                            OLS Regression Results                            \n",
      "==============================================================================\n",
      "Dep. Variable:          proj_dmn_frac   R-squared:                       0.905\n",
      "Model:                            OLS   Adj. R-squared:                  0.904\n",
      "Method:                 Least Squares   F-statistic:                     3297.\n",
      "Date:                Fri, 08 May 2020   Prob (F-statistic):          1.39e-179\n",
      "Time:                        01:18:42   Log-Likelihood:                 275.71\n",
      "No. Observations:                 350   AIC:                            -547.4\n",
      "Df Residuals:                     348   BIC:                            -539.7\n",
      "Df Model:                           1                                         \n",
      "Covariance Type:            nonrobust                                         \n",
      "================================================================================\n",
      "                   coef    std err          t      P>|t|      [0.025      0.975]\n",
      "--------------------------------------------------------------------------------\n",
      "const            0.1285      0.008     15.902      0.000       0.113       0.144\n",
      "inj_dmn_frac     0.7172      0.012     57.423      0.000       0.693       0.742\n",
      "==============================================================================\n",
      "Omnibus:                        4.542   Durbin-Watson:                   0.986\n",
      "Prob(Omnibus):                  0.103   Jarque-Bera (JB):                4.555\n",
      "Skew:                           0.278   Prob(JB):                        0.103\n",
      "Kurtosis:                       2.949   Cond. No.                         2.62\n",
      "==============================================================================\n",
      "\n",
      "Warnings:\n",
      "[1] Standard Errors assume that the covariance matrix of the errors is correctly specified.\n"
     ]
    },
    {
     "name": "stderr",
     "output_type": "stream",
     "text": [
      "/Users/jenniferwh/Dropbox (Allen Institute)/Mesoscale Connectome Papers in Progress/2019 DMN/_new_figures/jupyter_notebooks/env/lib/python3.7/site-packages/numpy/core/fromnumeric.py:2495: FutureWarning: Method .ptp is deprecated and will be removed in a future version. Use numpy.ptp instead.\n",
      "  return ptp(axis=axis, out=out, **kwargs)\n"
     ]
    }
   ],
   "source": [
    "x=dat['inj_dmn_frac']\n",
    "y = dat['proj_dmn_frac']\n",
    "fit = sm.OLS(y, sm.add_constant(x, prepend=True)).fit()\n",
    "print(fit.summary())"
   ]
  },
  {
   "cell_type": "code",
   "execution_count": 43,
   "metadata": {},
   "outputs": [
    {
     "data": {
      "image/png": "[encoded data removed]",
      "text/plain": [
       "<Figure size 108x108 with 1 Axes>"
      ]
     },
     "metadata": {
      "needs_background": "light"
     },
     "output_type": "display_data"
    }
   ],
   "source": [
    "layer_colors = ['k', 'c', 'gray']\n",
    "fig, ax = plt.subplots(figsize = (1.5, 1.5))\n",
    "zorder = 7\n",
    "for ix, layer in enumerate(['all', '2/3', '5']):\n",
    "    zorder -= 1\n",
    "    ax1 = sns.regplot(x='inj_dmn_frac', \n",
    "                      y='proj_dmn_frac', \n",
    "                      data = dat[dat['layer'] == layer],\n",
    "                      ax = ax,\n",
    "                      label = layer,\n",
    "                      color = layer_colors[ix],\n",
    "                      ci = None,\n",
    "                      line_kws = {'zorder': zorder},\n",
    "                      scatter_kws={'s':18,\n",
    "                                  'alpha': 0.7,\n",
    "                                  'edgecolors': 'k',\n",
    "                                  'linewidth':0.5})\n",
    "ax.set_ylabel('Projection DMN Fraction', fontsize = 7)\n",
    "ax.yaxis.labelpad = 1\n",
    "ax.xaxis.labelpad = 1\n",
    "ax.set_xlabel('Injection DMN Fraction', fontsize = 7)\n",
    "legend = plt.legend(loc = 2, fontsize = 5, frameon = False,\n",
    "          bbox_to_anchor = [0, 1], \n",
    "                    labelspacing = 0.2,\n",
    "                   labels = ['All, r=0.95', 'L2/3, r=0.96', 'L5, r=0.91'])\n",
    "plt.setp(legend.get_title(),fontsize=8)\n",
    "ax.set_xlim([-0.1,1.1])\n",
    "ax.set_ylim([-0.1,1.1])\n",
    "plt.xticks([0, 0.5, 1], fontsize = 7)\n",
    "plt.yticks([0, 0.5, 1], fontsize = 7)\n",
    "ax.axhline(y = 0.5, xmin=0, xmax=1, color = 'gray', linestyle = 'dashed',\n",
    "          linewidth = 0.5)\n",
    "sns.despine()\n",
    "ax.tick_params(top = False, right = False, left = True, bottom = True, pad=1)\n",
    "#everything on zorder -1 or lower will be rasterized\n",
    "ax.set_rasterization_zorder(0)\n",
    "plt.savefig(os.path.join(savepath, 'DMN_proj_fraction_by_layers_235_only.pdf'), \n",
    "            bbox_inches='tight', \n",
    "            pad_inches=0.3, format='pdf', transparent = True, dpi=300)"
   ]
  },
  {
   "cell_type": "code",
   "execution_count": 44,
   "metadata": {},
   "outputs": [
    {
     "data": {
      "image/png": "[encoded data removed]",
      "text/plain": [
       "<Figure size 108x108 with 1 Axes>"
      ]
     },
     "metadata": {
      "needs_background": "light"
     },
     "output_type": "display_data"
    }
   ],
   "source": [
    "layer_colors = ['k', 'c', 'gray']\n",
    "fig, ax = plt.subplots(figsize = (1.5, 1.5))\n",
    "zorder = 7\n",
    "for ix, layer in enumerate(['all', '2/3', '5']):\n",
    "    zorder -= 1\n",
    "    ax1 = sns.regplot(x='inj_dmn_frac', \n",
    "                      y='dmn_coeff', \n",
    "                      data = dat[dat['layer'] == layer],\n",
    "                      ax = ax,\n",
    "                      label = layer,\n",
    "                      color = layer_colors[ix],\n",
    "                      ci = None,\n",
    "                      line_kws = {'zorder': zorder},\n",
    "                      scatter_kws={'s':15,\n",
    "                                  'alpha': 0.7})\n",
    "ax.set_ylabel('DMN Coefficient', fontsize = 8)\n",
    "ax.yaxis.labelpad = -2\n",
    "ax.xaxis.labelpad = 1\n",
    "ax.set_xlabel('Injection DMN Fraction', fontsize = 8)\n",
    "legend = plt.legend(loc = 2, fontsize = 6, frameon = False,\n",
    "          bbox_to_anchor = [0, 1], \n",
    "                    labelspacing = 0.2,\n",
    "                   labels = ['All', 'L2/3', 'L5'])\n",
    "plt.setp(legend.get_title(),fontsize=8)\n",
    "ax.set_xlim([-0.1,1.1])\n",
    "ax.set_ylim([-0.45, 0.45])\n",
    "plt.yticks([-0.3, 0, 0.3], fontsize = 8)\n",
    "plt.xticks([0, 0.5, 1], fontsize = 8)\n",
    "ax.axhline(y = 0, xmin=0, xmax=11, color = 'gray', linestyle = 'dashed',\n",
    "          linewidth = 0.5)\n",
    "sns.despine()\n",
    "ax.tick_params(top = False, right = False, left = True, bottom = True, pad = -1)\n",
    "#everything on zorder -1 or lower will be rasterized\n",
    "ax.set_rasterization_zorder(0)\n",
    "plt.savefig(os.path.join(savepath, 'DMN_coefficient_by_layers_235_only.pdf'), \n",
    "            bbox_inches='tight', \n",
    "            pad_inches=0.3, format='pdf', transparent = True, dpi=300)"
   ]
  },
  {
   "cell_type": "code",
   "execution_count": 187,
   "metadata": {},
   "outputs": [
    {
     "data": {
      "image/png": "[encoded data removed]",
      "text/plain": [
       "<Figure size 108x108 with 1 Axes>"
      ]
     },
     "metadata": {
      "needs_background": "light"
     },
     "output_type": "display_data"
    }
   ],
   "source": [
    "layer_colors = ['m', 'b', 'gold']\n",
    "fig, ax = plt.subplots(figsize = (1.5, 1.5))\n",
    "zorder = 7\n",
    "for ix, layer in enumerate(['4', '5 PT', '6']):\n",
    "    zorder -= 1\n",
    "    ax1 = sns.regplot(x='inj_dmn_frac', \n",
    "                      y='proj_dmn_frac', \n",
    "                      data = dat[dat['layer'] == layer],\n",
    "                      ax = ax,\n",
    "                      label = layer,\n",
    "                      color = layer_colors[ix],\n",
    "                      ci = None,\n",
    "                      line_kws = {'zorder': zorder},\n",
    "                      scatter_kws={'s':10,\n",
    "                                  'alpha': 0.7,\n",
    "                                  'edgecolors': 'k',\n",
    "                                  'linewidth':0.5})\n",
    "ax.set_ylabel('Projection DMN Fraction', fontsize = 7)\n",
    "ax.yaxis.labelpad = 1\n",
    "ax.xaxis.labelpad = 1\n",
    "ax.set_xlabel('Injection DMN Fraction', fontsize = 7)\n",
    "handles, labels = plt.gca().get_legend_handles_labels()\n",
    "labels = ['L4', 'L5 PT', 'L6']\n",
    "order = [0,1,2]\n",
    "plt.legend([handles[idx] for idx in order],[labels[idx] for idx in order],\n",
    "          loc = 2, fontsize = 5, frameon = False,\n",
    "          bbox_to_anchor = [-0.03, 1.1], labelspacing = 0.2)\n",
    "ax.set_xlim([-0.1,1.1])\n",
    "ax.set_ylim([-0.1,1.1])\n",
    "plt.xticks([0, 0.5, 1], fontsize = 7)\n",
    "plt.yticks([0, 0.5, 1], fontsize = 7)\n",
    "ax.axhline(y = 0.5, xmin=0, xmax=100, color = 'gray', linestyle = 'dashed',\n",
    "          linewidth = 0.5)\n",
    "sns.despine()\n",
    "ax.tick_params(top = False, right = False, left = True, bottom = True, pad = 1)\n",
    "#everything on zorder -1 or lower will be rasterized\n",
    "ax.set_rasterization_zorder(0)\n",
    "plt.savefig(os.path.join(savepath, 'DMN_proj_fraction_by_layers_45PT6_only.pdf'), \n",
    "            bbox_inches='tight', \n",
    "            pad_inches=0.3, format='pdf', transparent = True, dpi=300)"
   ]
  },
  {
   "cell_type": "code",
   "execution_count": 46,
   "metadata": {},
   "outputs": [
    {
     "data": {
      "image/png": "[encoded data removed]",
      "text/plain": [
       "<Figure size 108x108 with 1 Axes>"
      ]
     },
     "metadata": {
      "needs_background": "light"
     },
     "output_type": "display_data"
    }
   ],
   "source": [
    "layer_colors = ['k', 'm', 'gold', 'b']\n",
    "fig, ax = plt.subplots(figsize = (1.5, 1.5))\n",
    "zorder = 7\n",
    "for ix, layer in enumerate(['all', '5', '6', '5 PT']):\n",
    "    zorder -= 1\n",
    "    ax1 = sns.regplot(x='inj_dmn_frac', \n",
    "                      y='dmn_coeff', \n",
    "                      data = dat[dat['layer'] == layer],\n",
    "                      ax = ax,\n",
    "                      label = layer,\n",
    "                      color = layer_colors[ix],\n",
    "                      ci = None,\n",
    "                      line_kws = {'zorder': zorder},\n",
    "                      scatter_kws={'s':10,\n",
    "                                  'alpha': 0.7,\n",
    "                                  'edgecolors': 'k',\n",
    "                                  'linewidth':0.5})\n",
    "ax.set_ylabel('DMN Coefficient', fontsize = 7)\n",
    "ax.yaxis.labelpad = -2\n",
    "ax.xaxis.labelpad = 1\n",
    "ax.set_xlabel('Injection DMN Fraction', fontsize = 7)\n",
    "legend = plt.legend(loc = 2, fontsize = 5, frameon = False,\n",
    "          bbox_to_anchor = [0, 1], \n",
    "                    labelspacing = 0.2,\n",
    "                   labels = ['All', 'L4', 'L6', 'L5 PT'])\n",
    "ax.set_xlim([-0.1,1.1])\n",
    "ax.set_ylim([-0.45, 0.45])\n",
    "plt.yticks([-0.4, 0, 0.4], fontsize = 7)\n",
    "plt.xticks([0, 0.5, 1], fontsize = 7)\n",
    "ax.axhline(y = 0, xmin=0, xmax=100, color = 'gray', linestyle = 'dashed',\n",
    "          linewidth = 0.5)\n",
    "sns.despine()\n",
    "ax.tick_params(top = False, right = False, left = True, bottom = True, pad = 1)\n",
    "#everything on zorder -1 or lower will be rasterized\n",
    "ax.set_rasterization_zorder(0)\n",
    "plt.savefig(os.path.join(savepath, 'DMN_coeff_by_layers_45PT6_only.pdf'), \n",
    "            bbox_inches='tight', \n",
    "            pad_inches=0.3, format='pdf', transparent = True, dpi=300)"
   ]
  },
  {
   "cell_type": "code",
   "execution_count": 47,
   "metadata": {},
   "outputs": [],
   "source": [
    "dat.to_csv(os.path.join(savepath, 'curated_layer_data.csv'))"
   ]
  },
  {
   "cell_type": "code",
   "execution_count": 48,
   "metadata": {},
   "outputs": [
    {
     "name": "stdout",
     "output_type": "stream",
     "text": [
      "['out' 'in']\n"
     ]
    }
   ],
   "source": [
    "dat.loc[dat['inj_dmn_frac']>0.5, 'dmn_by_ol'] = 'in'\n",
    "dat.loc[dat['inj_dmn_frac']<0.5, 'dmn_by_ol'] = 'out'\n",
    "print(dat['dmn_by_ol'].unique())"
   ]
  },
  {
   "cell_type": "code",
   "execution_count": 49,
   "metadata": {},
   "outputs": [],
   "source": [
    "pltdat = dat[['dmn_by_ol', 'layer', 'dmn_coeff']].melt(id_vars = ['dmn_by_ol', 'layer'],\n",
    "                                                       value_vars = 'dmn_coeff',\n",
    "                                                      var_name = 'coefficient')\n",
    "pltdat2 = dat[['dmn_by_ol', 'layer', 'distance coefficient']].melt(id_vars = \n",
    "                                                                   ['dmn_by_ol', 'layer'],\n",
    "                                                     value_vars = 'distance coefficient',\n",
    "                                                     var_name = 'coefficient')\n",
    "#pltdat2['dmn_by_ol'] = 'both'"
   ]
  },
  {
   "cell_type": "code",
   "execution_count": 50,
   "metadata": {},
   "outputs": [
    {
     "data": {
      "image/png": "[encoded data removed]",
      "text/plain": [
       "<Figure size 72x108 with 1 Axes>"
      ]
     },
     "metadata": {
      "needs_background": "light"
     },
     "output_type": "display_data"
    }
   ],
   "source": [
    "layer_plot_order = ['all', '5', '2/3', '6', '5 PT', '4']\n",
    "layer_colors = [ 'k', 'gray',  'c', 'gold', 'b','m']\n",
    "fig, ax = plt.subplots(figsize = (1,1.5))\n",
    "sns.boxplot(x='dmn_by_ol', \n",
    "                y='value', \n",
    "            order = ['out', 'in'],\n",
    "                data = pltdat2,\n",
    "                 hue = 'layer',\n",
    "                 hue_order = layer_plot_order,\n",
    "                 palette = layer_colors,\n",
    "                ax = ax,\n",
    "            linewidth = 0.5,\n",
    "           fliersize = 0.1)\n",
    "sns.despine(left = True)\n",
    "#ax.set_ylim([-5,6])\n",
    "#ax.set_yticks([-5.0, -2.5, 0.0, 2.5, 5.0])\n",
    "ax.set_xticklabels(['<0.5', '>0.5'], fontsize = 8)\n",
    "ax.set_yticklabels([None])\n",
    "ax.set_xlabel(\"Inj. DMN Frac.\", fontsize = 8)\n",
    "ax.set_ylabel(\"\")\n",
    "ax.tick_params(left = False, pad=1)\n",
    "ax.axhline(y = 0, xmin=0, xmax=1, color = 'gray', linestyle = 'dashed',\n",
    "          linewidth = 0.5, zorder = -1)\n",
    "ax.legend_.remove()\n",
    "plt.savefig(os.path.join(savepath, 'distance_coeff_boxplot_in-out_all_layers.pdf'), \n",
    "            bbox_inches='tight', \n",
    "            pad_inches=0.3, format='pdf', transparent = True, dpi=300)"
   ]
  },
  {
   "cell_type": "code",
   "execution_count": 51,
   "metadata": {},
   "outputs": [
    {
     "data": {
      "text/html": [
       "<div>\n",
       "<style scoped>\n",
       "    .dataframe tbody tr th:only-of-type {\n",
       "        vertical-align: middle;\n",
       "    }\n",
       "\n",
       "    .dataframe tbody tr th {\n",
       "        vertical-align: top;\n",
       "    }\n",
       "\n",
       "    .dataframe thead th {\n",
       "        text-align: right;\n",
       "    }\n",
       "</style>\n",
       "<table border=\"1\" class=\"dataframe\">\n",
       "  <thead>\n",
       "    <tr style=\"text-align: right;\">\n",
       "      <th></th>\n",
       "      <th>sum_sq</th>\n",
       "      <th>df</th>\n",
       "      <th>F</th>\n",
       "      <th>PR(&gt;F)</th>\n",
       "    </tr>\n",
       "  </thead>\n",
       "  <tbody>\n",
       "    <tr>\n",
       "      <th>Intercept</th>\n",
       "      <td>0.0005</td>\n",
       "      <td>1.0</td>\n",
       "      <td>91.0988</td>\n",
       "      <td>0.0000</td>\n",
       "    </tr>\n",
       "    <tr>\n",
       "      <th>C(layer)</th>\n",
       "      <td>0.0011</td>\n",
       "      <td>5.0</td>\n",
       "      <td>38.9481</td>\n",
       "      <td>0.0000</td>\n",
       "    </tr>\n",
       "    <tr>\n",
       "      <th>dmn_by_ol</th>\n",
       "      <td>0.0000</td>\n",
       "      <td>1.0</td>\n",
       "      <td>0.1197</td>\n",
       "      <td>0.7296</td>\n",
       "    </tr>\n",
       "    <tr>\n",
       "      <th>C(layer):dmn_by_ol</th>\n",
       "      <td>0.0001</td>\n",
       "      <td>5.0</td>\n",
       "      <td>2.8426</td>\n",
       "      <td>0.0157</td>\n",
       "    </tr>\n",
       "    <tr>\n",
       "      <th>Residual</th>\n",
       "      <td>0.0019</td>\n",
       "      <td>338.0</td>\n",
       "      <td>NaN</td>\n",
       "      <td>NaN</td>\n",
       "    </tr>\n",
       "  </tbody>\n",
       "</table>\n",
       "</div>"
      ],
      "text/plain": [
       "                    sum_sq     df        F  PR(>F)\n",
       "Intercept           0.0005    1.0  91.0988  0.0000\n",
       "C(layer)            0.0011    5.0  38.9481  0.0000\n",
       "dmn_by_ol           0.0000    1.0   0.1197  0.7296\n",
       "C(layer):dmn_by_ol  0.0001    5.0   2.8426  0.0157\n",
       "Residual            0.0019  338.0      NaN     NaN"
      ]
     },
     "execution_count": 51,
     "metadata": {},
     "output_type": "execute_result"
    }
   ],
   "source": [
    "formula = 'value~C(layer)*dmn_by_ol' \n",
    "model = ols(formula, pltdat2).fit()\n",
    "aov_table = anova_lm(model, typ=3)\n",
    "aov_table.round(4)"
   ]
  },
  {
   "cell_type": "code",
   "execution_count": 52,
   "metadata": {},
   "outputs": [
    {
     "data": {
      "image/png": "[encoded data removed]",
      "text/plain": [
       "<Figure size 36x108 with 1 Axes>"
      ]
     },
     "metadata": {
      "needs_background": "light"
     },
     "output_type": "display_data"
    }
   ],
   "source": [
    "pltdat2['dmn_by_ol'] = 'both'\n",
    "layer_plot_order = ['all', '5', '2/3', '4', '5 PT', '6']\n",
    "layer_colors = ['k', 'gray',  'c', 'm', 'b', 'gold']\n",
    "fig, ax = plt.subplots(figsize = (0.5,1.5))\n",
    "sns.boxplot(x='dmn_by_ol', \n",
    "                y='value', \n",
    "            order = ['both'],\n",
    "                data = pltdat2,\n",
    "                 hue = 'layer',\n",
    "                 hue_order = layer_plot_order,\n",
    "                 palette = layer_colors,\n",
    "                ax = ax,\n",
    "            linewidth = 0.5,\n",
    "           fliersize = 0.1)\n",
    "sns.despine(left = True)\n",
    "ax.set_ylim([-0.02, 0.001])\n",
    "ax.set_yticks([-0.02, -0.01, 0.0])\n",
    "ax.set_xticklabels(['All'], fontsize = 8)\n",
    "ax.set_yticklabels([None])\n",
    "ax.set_xlabel(\"\", fontsize = 8)\n",
    "ax.set_ylabel(\"\")\n",
    "ax.tick_params(left = False, pad=1)\n",
    "ax.axhline(y = 0, xmin=0, xmax=1, color = 'gray', linestyle = 'dashed',\n",
    "          linewidth = 0.5, zorder = -1)\n",
    "ax.legend_.remove()\n",
    "plt.savefig(os.path.join(savepath, 'distance_coeff_boxplot_all_layers.pdf'), \n",
    "            bbox_inches='tight', \n",
    "            pad_inches=0.3, format='pdf', transparent = True, dpi=300)"
   ]
  },
  {
   "cell_type": "code",
   "execution_count": 53,
   "metadata": {},
   "outputs": [
    {
     "data": {
      "text/html": [
       "<div>\n",
       "<style scoped>\n",
       "    .dataframe tbody tr th:only-of-type {\n",
       "        vertical-align: middle;\n",
       "    }\n",
       "\n",
       "    .dataframe tbody tr th {\n",
       "        vertical-align: top;\n",
       "    }\n",
       "\n",
       "    .dataframe thead th {\n",
       "        text-align: right;\n",
       "    }\n",
       "</style>\n",
       "<table border=\"1\" class=\"dataframe\">\n",
       "  <thead>\n",
       "    <tr style=\"text-align: right;\">\n",
       "      <th></th>\n",
       "      <th>sum_sq</th>\n",
       "      <th>df</th>\n",
       "      <th>F</th>\n",
       "      <th>PR(&gt;F)</th>\n",
       "    </tr>\n",
       "  </thead>\n",
       "  <tbody>\n",
       "    <tr>\n",
       "      <th>Intercept</th>\n",
       "      <td>0.0011</td>\n",
       "      <td>1.0</td>\n",
       "      <td>185.2262</td>\n",
       "      <td>0.0</td>\n",
       "    </tr>\n",
       "    <tr>\n",
       "      <th>C(layer)</th>\n",
       "      <td>0.0018</td>\n",
       "      <td>5.0</td>\n",
       "      <td>61.5857</td>\n",
       "      <td>0.0</td>\n",
       "    </tr>\n",
       "    <tr>\n",
       "      <th>Residual</th>\n",
       "      <td>0.0020</td>\n",
       "      <td>344.0</td>\n",
       "      <td>NaN</td>\n",
       "      <td>NaN</td>\n",
       "    </tr>\n",
       "  </tbody>\n",
       "</table>\n",
       "</div>"
      ],
      "text/plain": [
       "           sum_sq     df         F  PR(>F)\n",
       "Intercept  0.0011    1.0  185.2262     0.0\n",
       "C(layer)   0.0018    5.0   61.5857     0.0\n",
       "Residual   0.0020  344.0       NaN     NaN"
      ]
     },
     "execution_count": 53,
     "metadata": {},
     "output_type": "execute_result"
    }
   ],
   "source": [
    "formula = 'value~C(layer)' \n",
    "model = ols(formula, pltdat2).fit()\n",
    "aov_table = anova_lm(model, typ=3)\n",
    "aov_table.round(4)"
   ]
  },
  {
   "cell_type": "code",
   "execution_count": 54,
   "metadata": {},
   "outputs": [
    {
     "data": {
      "text/plain": [
       "F_onewayResult(statistic=61.58568553264476, pvalue=9.899497029659856e-46)"
      ]
     },
     "execution_count": 54,
     "metadata": {},
     "output_type": "execute_result"
    }
   ],
   "source": [
    "stats.f_oneway(pltdat2[pltdat2['layer'] == '6']['value'],\n",
    "               pltdat2[pltdat2['layer'] == '2/3']['value'],\n",
    "               pltdat2[pltdat2['layer'] == '4']['value'],\n",
    "               pltdat2[pltdat2['layer'] == '5']['value'],\n",
    "               pltdat2[pltdat2['layer'] == 'all']['value'],\n",
    "               pltdat2[pltdat2['layer'] == '5 PT']['value'])"
   ]
  },
  {
   "cell_type": "code",
   "execution_count": 55,
   "metadata": {},
   "outputs": [
    {
     "name": "stdout",
     "output_type": "stream",
     "text": [
      "Multiple Comparison of Means - Tukey HSD, FWER=0.05 \n",
      "====================================================\n",
      "group1 group2 meandiff p-adj   lower   upper  reject\n",
      "----------------------------------------------------\n",
      " 2/3     4     0.0019  0.0035  0.0004  0.0034  True \n",
      " 2/3     5    -0.0012  0.0846 -0.0025  0.0001 False \n",
      " 2/3    5 PT   0.0029  0.001   0.0016  0.0041  True \n",
      " 2/3     6     0.0034  0.001   0.002   0.0047  True \n",
      " 2/3    all   -0.0033  0.001  -0.0048 -0.0018  True \n",
      "  4      5    -0.0031  0.001  -0.0045 -0.0018  True \n",
      "  4     5 PT   0.001   0.2983 -0.0004  0.0023 False \n",
      "  4      6     0.0015  0.0308  0.0001  0.0029  True \n",
      "  4     all   -0.0052  0.001  -0.0067 -0.0037  True \n",
      "  5     5 PT   0.0041  0.001   0.003   0.0052  True \n",
      "  5      6     0.0046  0.001   0.0034  0.0058  True \n",
      "  5     all   -0.0021  0.001  -0.0034 -0.0007  True \n",
      " 5 PT    6     0.0005  0.7795 -0.0007  0.0017 False \n",
      " 5 PT   all   -0.0061  0.001  -0.0075 -0.0048  True \n",
      "  6     all   -0.0067  0.001  -0.0081 -0.0052  True \n",
      "----------------------------------------------------\n"
     ]
    }
   ],
   "source": [
    "mc = MultiComparison(pltdat2['value'], \n",
    "                     pltdat2['layer'])\n",
    "mc_results = mc.tukeyhsd()\n",
    "print(mc_results)"
   ]
  },
  {
   "cell_type": "code",
   "execution_count": 56,
   "metadata": {},
   "outputs": [
    {
     "data": {
      "image/png": "[encoded data removed]",
      "text/plain": [
       "<Figure size 36x108 with 1 Axes>"
      ]
     },
     "metadata": {
      "needs_background": "light"
     },
     "output_type": "display_data"
    }
   ],
   "source": [
    "layer_plot_order = ['all', '5', '2/3', '6', '5 PT', '4']\n",
    "layer_colors = [ 'k', 'gray',  'c', 'gold', 'b','m']\n",
    "pltdat['dmn_by_ol'] = 'both'\n",
    "\n",
    "fig, ax = plt.subplots(figsize = (0.5,1.5))\n",
    "sns.boxplot(x='dmn_by_ol', \n",
    "                y='value', \n",
    "            order = ['both'],\n",
    "                data = pltdat,\n",
    "                 hue = 'layer',\n",
    "                 hue_order = layer_plot_order,\n",
    "                 palette = layer_colors,\n",
    "                ax = ax,\n",
    "            linewidth = 0.5,\n",
    "           fliersize = 0.1)\n",
    "sns.despine(left = True)\n",
    "ax.set_ylim([-0.45, 0.45])\n",
    "plt.yticks([-0.4, 0, 0.4], fontsize = 8)\n",
    "ax.set_xticklabels(['All'], fontsize = 8)\n",
    "ax.set_yticklabels([None])\n",
    "ax.set_xlabel(\"\", fontsize = 8)\n",
    "ax.set_ylabel(\"\")\n",
    "ax.tick_params(left = False, pad=1)\n",
    "ax.axhline(y = 0, xmin=0, xmax=1, color = 'gray', linestyle = 'dashed',\n",
    "          linewidth = 0.5, zorder = -1)\n",
    "ax.legend_.remove()\n",
    "plt.savefig(os.path.join(savepath, 'DMN_coeffs_boxplot_all_layers.pdf'), \n",
    "            bbox_inches='tight', \n",
    "            pad_inches=0.3, format='pdf', transparent = True, dpi=300)"
   ]
  },
  {
   "cell_type": "code",
   "execution_count": 57,
   "metadata": {},
   "outputs": [
    {
     "data": {
      "text/html": [
       "<div>\n",
       "<style scoped>\n",
       "    .dataframe tbody tr th:only-of-type {\n",
       "        vertical-align: middle;\n",
       "    }\n",
       "\n",
       "    .dataframe tbody tr th {\n",
       "        vertical-align: top;\n",
       "    }\n",
       "\n",
       "    .dataframe thead th {\n",
       "        text-align: right;\n",
       "    }\n",
       "</style>\n",
       "<table border=\"1\" class=\"dataframe\">\n",
       "  <thead>\n",
       "    <tr style=\"text-align: right;\">\n",
       "      <th></th>\n",
       "      <th>sum_sq</th>\n",
       "      <th>df</th>\n",
       "      <th>F</th>\n",
       "      <th>PR(&gt;F)</th>\n",
       "    </tr>\n",
       "  </thead>\n",
       "  <tbody>\n",
       "    <tr>\n",
       "      <th>C(layer)</th>\n",
       "      <td>0.0268</td>\n",
       "      <td>5.0</td>\n",
       "      <td>0.6839</td>\n",
       "      <td>0.6359</td>\n",
       "    </tr>\n",
       "    <tr>\n",
       "      <th>Residual</th>\n",
       "      <td>2.6991</td>\n",
       "      <td>344.0</td>\n",
       "      <td>NaN</td>\n",
       "      <td>NaN</td>\n",
       "    </tr>\n",
       "  </tbody>\n",
       "</table>\n",
       "</div>"
      ],
      "text/plain": [
       "          sum_sq     df       F  PR(>F)\n",
       "C(layer)  0.0268    5.0  0.6839  0.6359\n",
       "Residual  2.6991  344.0     NaN     NaN"
      ]
     },
     "execution_count": 57,
     "metadata": {},
     "output_type": "execute_result"
    }
   ],
   "source": [
    "formula = 'value~C(layer)' \n",
    "model = ols(formula, pltdat).fit()\n",
    "aov_table = anova_lm(model, typ=2)\n",
    "aov_table.round(4)"
   ]
  },
  {
   "cell_type": "code",
   "execution_count": 58,
   "metadata": {},
   "outputs": [
    {
     "data": {
      "text/plain": [
       "F_onewayResult(statistic=0.6839097664049298, pvalue=0.6359114290263846)"
      ]
     },
     "execution_count": 58,
     "metadata": {},
     "output_type": "execute_result"
    }
   ],
   "source": [
    "stats.f_oneway(pltdat[pltdat['layer'] == '6']['value'],\n",
    "               pltdat[pltdat['layer'] == '2/3']['value'],\n",
    "               pltdat[pltdat['layer'] == '4']['value'],\n",
    "               pltdat[pltdat['layer'] == '5']['value'],\n",
    "               pltdat[pltdat['layer'] == 'all']['value'],\n",
    "               pltdat[pltdat['layer'] == '5 PT']['value'])"
   ]
  },
  {
   "cell_type": "code",
   "execution_count": 59,
   "metadata": {},
   "outputs": [
    {
     "data": {
      "image/png": "[encoded data removed]",
      "text/plain": [
       "<Figure size 36x28.8 with 1 Axes>"
      ]
     },
     "metadata": {
      "needs_background": "light"
     },
     "output_type": "display_data"
    }
   ],
   "source": [
    "fig, ax = plt.subplots(figsize = (0.5,0.4))\n",
    "sns.boxplot(x='dmn_by_ol', \n",
    "                y='dmn_coeff', \n",
    "            order = ['out', 'in'],\n",
    "                data = dat[dat['layer'].isin(['4', '5 PT', '6'])],\n",
    "                 hue = 'layer',\n",
    "                 hue_order = ['4', '5 PT', '6'],\n",
    "                 palette = ['m', 'b', 'gold'],\n",
    "                ax = ax,\n",
    "            linewidth = 0.5,\n",
    "           fliersize = 0.1)\n",
    "sns.despine()\n",
    "ax.set_ylim([-0.45, 0.45])\n",
    "plt.yticks([-0.4, 0, 0.4], fontsize = 5)\n",
    "ax.set_xticklabels(['<0.5', '>0.5'], fontsize = 5)\n",
    "ax.set_xlabel(\"\")\n",
    "ax.set_ylabel(\"\")\n",
    "ax.tick_params(bottom=False, left = False, pad=-3)\n",
    "ax.axhline(y = 0.5, xmin=0, xmax=1, color = 'gray', linestyle = 'dashed',\n",
    "          linewidth = 0.5)\n",
    "ax.legend_.remove()\n",
    "plt.savefig(os.path.join(savepath, 'DMN_coeff_boxplot_by_inj_frac_all_layers.pdf'), \n",
    "            bbox_inches='tight', \n",
    "            pad_inches=0.3, format='pdf', transparent = True, dpi=300)"
   ]
  },
  {
   "cell_type": "code",
   "execution_count": 60,
   "metadata": {
    "scrolled": true
   },
   "outputs": [
    {
     "name": "stdout",
     "output_type": "stream",
     "text": [
      "                            OLS Regression Results                            \n",
      "==============================================================================\n",
      "Dep. Variable:          proj_dmn_frac   R-squared:                       0.921\n",
      "Model:                            OLS   Adj. R-squared:                  0.919\n",
      "Method:                 Least Squares   F-statistic:                     509.8\n",
      "Date:                Fri, 08 May 2020   Prob (F-statistic):           7.89e-26\n",
      "Time:                        01:18:47   Log-Likelihood:                 42.272\n",
      "No. Observations:                  46   AIC:                            -80.54\n",
      "Df Residuals:                      44   BIC:                            -76.89\n",
      "Df Model:                           1                                         \n",
      "Covariance Type:            nonrobust                                         \n",
      "================================================================================\n",
      "                   coef    std err          t      P>|t|      [0.025      0.975]\n",
      "--------------------------------------------------------------------------------\n",
      "const            0.1547      0.021      7.253      0.000       0.112       0.198\n",
      "inj_dmn_frac     0.7161      0.032     22.579      0.000       0.652       0.780\n",
      "==============================================================================\n",
      "Omnibus:                        4.531   Durbin-Watson:                   1.722\n",
      "Prob(Omnibus):                  0.104   Jarque-Bera (JB):                3.371\n",
      "Skew:                          -0.510   Prob(JB):                        0.185\n",
      "Kurtosis:                       3.847   Cond. No.                         2.81\n",
      "==============================================================================\n",
      "\n",
      "Warnings:\n",
      "[1] Standard Errors assume that the covariance matrix of the errors is correctly specified.\n"
     ]
    },
    {
     "name": "stderr",
     "output_type": "stream",
     "text": [
      "/Users/jenniferwh/Dropbox (Allen Institute)/Mesoscale Connectome Papers in Progress/2019 DMN/_new_figures/jupyter_notebooks/env/lib/python3.7/site-packages/numpy/core/fromnumeric.py:2495: FutureWarning: Method .ptp is deprecated and will be removed in a future version. Use numpy.ptp instead.\n",
      "  return ptp(axis=axis, out=out, **kwargs)\n"
     ]
    }
   ],
   "source": [
    "layer = '2/3'\n",
    "x=dat[dat['layer'] == layer]['inj_dmn_frac']\n",
    "y = dat[dat['layer'] == layer]['proj_dmn_frac']\n",
    "fit = sm.OLS(y, sm.add_constant(x, prepend=True)).fit()\n",
    "print(fit.summary())"
   ]
  },
  {
   "cell_type": "code",
   "execution_count": 61,
   "metadata": {},
   "outputs": [
    {
     "data": {
      "text/plain": [
       "0.09560086011389148"
      ]
     },
     "execution_count": 61,
     "metadata": {},
     "output_type": "execute_result"
    }
   ],
   "source": [
    "np.std(rs)"
   ]
  },
  {
   "cell_type": "code",
   "execution_count": 62,
   "metadata": {},
   "outputs": [
    {
     "name": "stdout",
     "output_type": "stream",
     "text": [
      "6\n",
      "(0.7097051249453579, 1.5197487585553e-10)\n",
      "2/3\n",
      "(0.5916088700782984, 1.4917353746470496e-05)\n",
      "4\n",
      "(0.48200805901724064, 0.0010645274696005245)\n",
      "5\n",
      "(0.5445056689048065, 3.6836493335116763e-07)\n",
      "all\n",
      "(0.6811196751345819, 9.523608666985629e-07)\n",
      "5 PT\n",
      "(0.45013693543001976, 1.957768129982559e-05)\n"
     ]
    }
   ],
   "source": [
    "rs = []\n",
    "for layer in dat['layer'].unique():\n",
    "    print(layer)\n",
    "    x=dat[dat['layer'] == layer]['inj_dmn_frac']\n",
    "    y = dat[dat['layer'] == layer]['dmn_coeff']\n",
    "    corr = scipy.stats.pearsonr(y, x)\n",
    "    print(corr)\n",
    "    rs.append(corr[0])"
   ]
  },
  {
   "cell_type": "code",
   "execution_count": 63,
   "metadata": {},
   "outputs": [
    {
     "name": "stdout",
     "output_type": "stream",
     "text": [
      "6\n",
      "0.15217470565487146\n",
      "2/3\n",
      "0.018206841425159603\n",
      "4\n",
      "0.0030410888957730364\n",
      "5\n",
      "0.13657115001223352\n",
      "all\n",
      "0.05319810881988196\n",
      "5 PT\n",
      "0.05503505458730196\n"
     ]
    }
   ],
   "source": [
    "rs = []\n",
    "for layer in dat['layer'].unique():\n",
    "    print(layer)\n",
    "    x=dat[dat['layer'] == layer]['inj_dmn_frac']\n",
    "    y = dat[dat['layer'] == layer]['distance coefficient']\n",
    "    fit = sm.OLS(y, sm.add_constant(x, prepend=True)).fit()\n",
    "    print(fit.rsquared)\n",
    "    rs.append(fit.rsquared)"
   ]
  },
  {
   "cell_type": "code",
   "execution_count": 64,
   "metadata": {},
   "outputs": [
    {
     "name": "stdout",
     "output_type": "stream",
     "text": [
      "350\n",
      "29\n"
     ]
    }
   ],
   "source": [
    "print(len(dat))\n",
    "print(len(dat['Rbp4_source'].unique()))"
   ]
  },
  {
   "cell_type": "code",
   "execution_count": 65,
   "metadata": {},
   "outputs": [
    {
     "data": {
      "text/plain": [
       "[]"
      ]
     },
     "execution_count": 65,
     "metadata": {},
     "output_type": "execute_result"
    }
   ],
   "source": [
    "[source for source in dat['source'].unique() if source not in dmn and \n",
    " source not in out_consolidated]"
   ]
  },
  {
   "cell_type": "code",
   "execution_count": 66,
   "metadata": {},
   "outputs": [
    {
     "name": "stdout",
     "output_type": "stream",
     "text": [
      "layer      2/3   4   5  5 PT   6  all\n",
      "dmn_by_ol                            \n",
      "in          22  16  31    44  28   18\n",
      "out         24  27  45    39  33   23\n"
     ]
    }
   ],
   "source": [
    "data = dat[['dmn_by_ol', 'layer', 'dmn_coeff']]\n",
    "table = sm.stats.Table.from_data(data)\n",
    "print(table.table_orig)"
   ]
  },
  {
   "cell_type": "code",
   "execution_count": 67,
   "metadata": {},
   "outputs": [
    {
     "name": "stdout",
     "output_type": "stream",
     "text": [
      "['out' 'in']\n"
     ]
    }
   ],
   "source": [
    "dat.loc[dat['source'].isin(dmn), 'dmn_by_structure'] = 'in'\n",
    "dat.loc[dat['source'].isin(out_consolidated), 'dmn_by_structure'] = 'out'\n",
    "print(dat['dmn_by_structure'].unique())"
   ]
  },
  {
   "cell_type": "code",
   "execution_count": 68,
   "metadata": {},
   "outputs": [
    {
     "name": "stdout",
     "output_type": "stream",
     "text": [
      "layer             2/3   4   5  5 PT   6  all\n",
      "dmn_by_structure                            \n",
      "in                 18  10  26    35  25   14\n",
      "out                28  33  50    48  36   27\n"
     ]
    }
   ],
   "source": [
    "data = dat[['dmn_by_structure', 'layer', 'dmn_coeff']]\n",
    "table = sm.stats.Table.from_data(data)\n",
    "print(table.table_orig)"
   ]
  },
  {
   "cell_type": "code",
   "execution_count": 69,
   "metadata": {},
   "outputs": [
    {
     "data": {
      "image/png": "[encoded data removed]",
      "text/plain": [
       "<Figure size 36x28.8 with 1 Axes>"
      ]
     },
     "metadata": {
      "needs_background": "light"
     },
     "output_type": "display_data"
    }
   ],
   "source": [
    "fig, ax = plt.subplots(figsize = (0.5,0.4))\n",
    "sns.boxplot(x='dmn_by_ol', \n",
    "                y='proj_dmn_frac', \n",
    "            order = ['out', 'in'],\n",
    "                data = dat[dat['layer'].isin(['all', '2/3', '5'])],\n",
    "                 hue = 'layer',\n",
    "                 hue_order = ['all', '5', '2/3'],\n",
    "                 palette = ['k', 'gray', 'c'],\n",
    "                ax = ax,\n",
    "            linewidth = 0.5,\n",
    "           fliersize = 0.1)\n",
    "sns.despine()\n",
    "ax.set_ylim([0,1])\n",
    "ax.set_yticks([0, 0.5, 1])\n",
    "ax.set_xticklabels(['<0.5', '>0.5'], fontsize = 5)\n",
    "ax.set_yticklabels([0, 0.5, 1], fontsize = 5)\n",
    "ax.set_xlabel(\"\")\n",
    "ax.set_ylabel(\"\")\n",
    "ax.tick_params(bottom=False, left = False, pad=-3)\n",
    "ax.axhline(y = 0.5, xmin=0, xmax=1, color = 'gray', linestyle = 'dashed',\n",
    "          linewidth = 0.5)\n",
    "ax.legend_.remove()\n",
    "plt.savefig(os.path.join(savepath, 'DMN_proj_fraction_boxplot_by_inj_frac_in-out.pdf'), \n",
    "            bbox_inches='tight', \n",
    "            pad_inches=0.3, format='pdf', transparent = True, dpi=300)"
   ]
  },
  {
   "cell_type": "code",
   "execution_count": 70,
   "metadata": {},
   "outputs": [
    {
     "data": {
      "image/png": "[encoded data removed]",
      "text/plain": [
       "<Figure size 36x28.8 with 1 Axes>"
      ]
     },
     "metadata": {
      "needs_background": "light"
     },
     "output_type": "display_data"
    }
   ],
   "source": [
    "fig, ax = plt.subplots(figsize = (0.5,0.4))\n",
    "sns.boxplot(x='dmn_by_ol', \n",
    "                y='proj_dmn_frac', \n",
    "            order = ['out', 'in'],\n",
    "                data = dat[dat['layer'].isin(['4', '5 PT', '6'])],\n",
    "                 hue = 'layer',\n",
    "                 hue_order = ['4', '5 PT', '6'],\n",
    "                 palette = ['m', 'b', 'gold'],\n",
    "                ax = ax,\n",
    "            linewidth = 0.5,\n",
    "           fliersize = 0.1)\n",
    "sns.despine()\n",
    "ax.set_ylim([-0.1,1])\n",
    "ax.set_yticks([0, 0.5, 1])\n",
    "ax.set_xticklabels(['<0.5', '>0.5'], fontsize = 5)\n",
    "ax.set_yticklabels([0, 0.5, 1], fontsize = 5)\n",
    "ax.set_xlabel(\"\")\n",
    "ax.set_ylabel(\"\")\n",
    "ax.tick_params(bottom=False, left = False, pad=-3)\n",
    "ax.axhline(y = 0.5, xmin=0, xmax=1, color = 'gray', linestyle = 'dashed',\n",
    "          linewidth = 0.5)\n",
    "ax.legend_.remove()\n",
    "plt.savefig(os.path.join(savepath, 'DMN_proj_fraction_boxplot_by_inj_frac_L45PT6.pdf'), \n",
    "            bbox_inches='tight', \n",
    "            pad_inches=0.3, format='pdf', transparent = True, dpi=300)"
   ]
  },
  {
   "cell_type": "code",
   "execution_count": 71,
   "metadata": {},
   "outputs": [],
   "source": [
    "outdat = dat.groupby(['dmn_by_structure', 'layer']).count().reset_index()[['dmn_by_structure',\n",
    "                                                                        'layer',\n",
    "                                                                         'image_series_id']].T\n",
    "outdat.to_csv(os.path.join(savepath, 'counts_by_in_out.csv'), index = False)"
   ]
  },
  {
   "cell_type": "code",
   "execution_count": 72,
   "metadata": {},
   "outputs": [
    {
     "data": {
      "text/plain": [
       "<matplotlib.axes._subplots.AxesSubplot at 0x127619190>"
      ]
     },
     "execution_count": 72,
     "metadata": {},
     "output_type": "execute_result"
    },
    {
     "data": {
      "image/png": "[encoded data removed]",
      "text/plain": [
       "<Figure size 432x288 with 1 Axes>"
      ]
     },
     "metadata": {
      "needs_background": "light"
     },
     "output_type": "display_data"
    }
   ],
   "source": [
    "sns.distplot(dat[dat['layer'].isin(['all', '2/3', '5'])]['proj_dmn_frac'])"
   ]
  },
  {
   "cell_type": "code",
   "execution_count": 73,
   "metadata": {},
   "outputs": [],
   "source": [
    "formula = 'proj_dmn_frac~dmn_by_ol*C(layer)' \n",
    "model = ols(formula, dat).fit()\n",
    "aov_table = anova_lm(model, typ=2) #http://www.utstat.utoronto.ca/reid/sta442f/2009/typeSS.pdf"
   ]
  },
  {
   "cell_type": "code",
   "execution_count": 74,
   "metadata": {},
   "outputs": [
    {
     "data": {
      "text/html": [
       "<div>\n",
       "<style scoped>\n",
       "    .dataframe tbody tr th:only-of-type {\n",
       "        vertical-align: middle;\n",
       "    }\n",
       "\n",
       "    .dataframe tbody tr th {\n",
       "        vertical-align: top;\n",
       "    }\n",
       "\n",
       "    .dataframe thead th {\n",
       "        text-align: right;\n",
       "    }\n",
       "</style>\n",
       "<table border=\"1\" class=\"dataframe\">\n",
       "  <thead>\n",
       "    <tr style=\"text-align: right;\">\n",
       "      <th></th>\n",
       "      <th>sum_sq</th>\n",
       "      <th>df</th>\n",
       "      <th>F</th>\n",
       "      <th>PR(&gt;F)</th>\n",
       "    </tr>\n",
       "  </thead>\n",
       "  <tbody>\n",
       "    <tr>\n",
       "      <th>dmn_by_ol</th>\n",
       "      <td>37.5800</td>\n",
       "      <td>1.0</td>\n",
       "      <td>2549.7642</td>\n",
       "      <td>0.0000</td>\n",
       "    </tr>\n",
       "    <tr>\n",
       "      <th>C(layer)</th>\n",
       "      <td>0.1345</td>\n",
       "      <td>5.0</td>\n",
       "      <td>1.8251</td>\n",
       "      <td>0.1073</td>\n",
       "    </tr>\n",
       "    <tr>\n",
       "      <th>dmn_by_ol:C(layer)</th>\n",
       "      <td>1.2651</td>\n",
       "      <td>5.0</td>\n",
       "      <td>17.1668</td>\n",
       "      <td>0.0000</td>\n",
       "    </tr>\n",
       "    <tr>\n",
       "      <th>Residual</th>\n",
       "      <td>4.9817</td>\n",
       "      <td>338.0</td>\n",
       "      <td>NaN</td>\n",
       "      <td>NaN</td>\n",
       "    </tr>\n",
       "  </tbody>\n",
       "</table>\n",
       "</div>"
      ],
      "text/plain": [
       "                     sum_sq     df          F  PR(>F)\n",
       "dmn_by_ol           37.5800    1.0  2549.7642  0.0000\n",
       "C(layer)             0.1345    5.0     1.8251  0.1073\n",
       "dmn_by_ol:C(layer)   1.2651    5.0    17.1668  0.0000\n",
       "Residual             4.9817  338.0        NaN     NaN"
      ]
     },
     "execution_count": 74,
     "metadata": {},
     "output_type": "execute_result"
    }
   ],
   "source": [
    "aov_table.round(4)"
   ]
  },
  {
   "cell_type": "code",
   "execution_count": 75,
   "metadata": {},
   "outputs": [
    {
     "name": "stdout",
     "output_type": "stream",
     "text": [
      "Multiple Comparison of Means - Tukey HSD, FWER=0.05 \n",
      "====================================================\n",
      "group1 group2 meandiff p-adj   lower   upper  reject\n",
      "----------------------------------------------------\n",
      " 2/3     4    -0.0389   0.9   -0.1717  0.094  False \n",
      " 2/3     5    -0.1306  0.013  -0.2434 -0.0179  True \n",
      " 2/3    5 PT   0.0142   0.9   -0.0914  0.1198 False \n",
      " 2/3     6     0.0413   0.9   -0.0739  0.1565 False \n",
      " 2/3    all   -0.0759  0.5273 -0.2044  0.0527 False \n",
      "  4      5    -0.0918  0.2787 -0.2163  0.0327 False \n",
      "  4     5 PT   0.053   0.7602 -0.0651  0.1711 False \n",
      "  4      6     0.0801  0.4547 -0.0466  0.2069 False \n",
      "  4     all    -0.037   0.9    -0.176  0.102  False \n",
      "  5     5 PT   0.1448  0.001    0.05   0.2396  True \n",
      "  5      6     0.1719  0.001   0.0665  0.2774  True \n",
      "  5     all    0.0548  0.7467 -0.0651  0.1746 False \n",
      " 5 PT    6     0.0271   0.9   -0.0706  0.1249 False \n",
      " 5 PT   all    -0.09   0.2021 -0.2032  0.0231 False \n",
      "  6     all   -0.1171  0.0686 -0.2393  0.0051 False \n",
      "----------------------------------------------------\n"
     ]
    }
   ],
   "source": [
    "mc = MultiComparison(dat[(dat['dmn_by_ol'] == 'in')]['proj_dmn_frac'], \n",
    "                     dat[(dat['dmn_by_ol'] == 'in')]['layer'])\n",
    "mc_results = mc.tukeyhsd()\n",
    "print(mc_results)"
   ]
  },
  {
   "cell_type": "code",
   "execution_count": 76,
   "metadata": {},
   "outputs": [
    {
     "name": "stdout",
     "output_type": "stream",
     "text": [
      "Multiple Comparison of Means - Tukey HSD, FWER=0.05 \n",
      "====================================================\n",
      "group1 group2 meandiff p-adj   lower   upper  reject\n",
      "----------------------------------------------------\n",
      " 2/3     4    -0.0533  0.4452 -0.1369  0.0302 False \n",
      " 2/3     5     0.0014   0.9   -0.0738  0.0767 False \n",
      " 2/3    5 PT  -0.1184  0.001  -0.1956 -0.0412  True \n",
      " 2/3     6    -0.1644  0.001  -0.2443 -0.0845  True \n",
      " 2/3    all   -0.0132   0.9   -0.1001  0.0737 False \n",
      "  4      5     0.0548  0.2537 -0.0177  0.1273 False \n",
      "  4     5 PT  -0.0651  0.1251 -0.1396  0.0095 False \n",
      "  4      6    -0.1111  0.001  -0.1883 -0.0338  True \n",
      "  4     all    0.0402  0.7184 -0.0443  0.1246 False \n",
      "  5     5 PT  -0.1198  0.001   -0.185 -0.0547  True \n",
      "  5      6    -0.1658  0.001  -0.2341 -0.0976  True \n",
      "  5     all   -0.0146   0.9   -0.0909  0.0617 False \n",
      " 5 PT    6     -0.046  0.4188 -0.1164  0.0244 False \n",
      " 5 PT   all    0.1052  0.0021  0.0269  0.1835  True \n",
      "  6     all    0.1512  0.001   0.0704  0.2321  True \n",
      "----------------------------------------------------\n"
     ]
    }
   ],
   "source": [
    "mc = MultiComparison(dat[(dat['dmn_by_ol'] == 'out')]['proj_dmn_frac'], \n",
    "                     dat[(dat['dmn_by_ol'] == 'out')]['layer'])\n",
    "mc_results = mc.tukeyhsd()\n",
    "print(mc_results)"
   ]
  },
  {
   "cell_type": "code",
   "execution_count": 77,
   "metadata": {},
   "outputs": [],
   "source": [
    "formula = 'proj_dmn_frac~inj_dmn_frac*C(layer)' \n",
    "model = ols(formula, dat[dat['layer'].isin(['all', '2/3', '5'])]).fit()\n",
    "aov_table = anova_lm(model, typ=1) #http://www.utstat.utoronto.ca/reid/sta442f/2009/typeSS.pdf"
   ]
  },
  {
   "cell_type": "code",
   "execution_count": 78,
   "metadata": {},
   "outputs": [
    {
     "data": {
      "text/html": [
       "<div>\n",
       "<style scoped>\n",
       "    .dataframe tbody tr th:only-of-type {\n",
       "        vertical-align: middle;\n",
       "    }\n",
       "\n",
       "    .dataframe tbody tr th {\n",
       "        vertical-align: top;\n",
       "    }\n",
       "\n",
       "    .dataframe thead th {\n",
       "        text-align: right;\n",
       "    }\n",
       "</style>\n",
       "<table border=\"1\" class=\"dataframe\">\n",
       "  <thead>\n",
       "    <tr style=\"text-align: right;\">\n",
       "      <th></th>\n",
       "      <th>df</th>\n",
       "      <th>sum_sq</th>\n",
       "      <th>mean_sq</th>\n",
       "      <th>F</th>\n",
       "      <th>PR(&gt;F)</th>\n",
       "    </tr>\n",
       "  </thead>\n",
       "  <tbody>\n",
       "    <tr>\n",
       "      <th>C(layer)</th>\n",
       "      <td>2.0</td>\n",
       "      <td>0.2682</td>\n",
       "      <td>0.1341</td>\n",
       "      <td>12.0761</td>\n",
       "      <td>0.0000</td>\n",
       "    </tr>\n",
       "    <tr>\n",
       "      <th>inj_dmn_frac</th>\n",
       "      <td>1.0</td>\n",
       "      <td>13.1033</td>\n",
       "      <td>13.1033</td>\n",
       "      <td>1180.1095</td>\n",
       "      <td>0.0000</td>\n",
       "    </tr>\n",
       "    <tr>\n",
       "      <th>inj_dmn_frac:C(layer)</th>\n",
       "      <td>2.0</td>\n",
       "      <td>0.1838</td>\n",
       "      <td>0.0919</td>\n",
       "      <td>8.2779</td>\n",
       "      <td>0.0004</td>\n",
       "    </tr>\n",
       "    <tr>\n",
       "      <th>Residual</th>\n",
       "      <td>157.0</td>\n",
       "      <td>1.7432</td>\n",
       "      <td>0.0111</td>\n",
       "      <td>NaN</td>\n",
       "      <td>NaN</td>\n",
       "    </tr>\n",
       "  </tbody>\n",
       "</table>\n",
       "</div>"
      ],
      "text/plain": [
       "                          df   sum_sq  mean_sq          F  PR(>F)\n",
       "C(layer)                 2.0   0.2682   0.1341    12.0761  0.0000\n",
       "inj_dmn_frac             1.0  13.1033  13.1033  1180.1095  0.0000\n",
       "inj_dmn_frac:C(layer)    2.0   0.1838   0.0919     8.2779  0.0004\n",
       "Residual               157.0   1.7432   0.0111        NaN     NaN"
      ]
     },
     "execution_count": 78,
     "metadata": {},
     "output_type": "execute_result"
    }
   ],
   "source": [
    "aov_table.round(4)"
   ]
  },
  {
   "cell_type": "code",
   "execution_count": 79,
   "metadata": {},
   "outputs": [
    {
     "data": {
      "text/plain": [
       "(0.9857468008995056, 0.09435700625181198)"
      ]
     },
     "execution_count": 79,
     "metadata": {},
     "output_type": "execute_result"
    }
   ],
   "source": [
    "stats.shapiro(model.resid)"
   ]
  },
  {
   "cell_type": "code",
   "execution_count": 80,
   "metadata": {},
   "outputs": [
    {
     "data": {
      "image/png": "[encoded data removed]",
      "text/plain": [
       "<Figure size 432x288 with 1 Axes>"
      ]
     },
     "metadata": {
      "needs_background": "light"
     },
     "output_type": "display_data"
    }
   ],
   "source": [
    "res = model.resid \n",
    "fig = sm.qqplot(res, line='s')\n",
    "plt.show()"
   ]
  },
  {
   "cell_type": "code",
   "execution_count": 81,
   "metadata": {},
   "outputs": [
    {
     "name": "stdout",
     "output_type": "stream",
     "text": [
      "Multiple Comparison of Means - Tukey HSD, FWER=0.05\n",
      "===================================================\n",
      "group1 group2 meandiff p-adj   lower  upper  reject\n",
      "---------------------------------------------------\n",
      " 2/3     5    -0.0966  0.2135 -0.2321 0.0389 False \n",
      " 2/3    all   -0.0653  0.5771 -0.2211 0.0904 False \n",
      "  5     all    0.0313  0.8433 -0.1092 0.1718 False \n",
      "---------------------------------------------------\n"
     ]
    }
   ],
   "source": [
    "mc = MultiComparison(dat[(dat['layer'].isin(['all', '2/3', '5']))]['proj_dmn_frac'], \n",
    "                     dat[(dat['layer'].isin(['all', '2/3', '5']))]['layer'])\n",
    "mc_results = mc.tukeyhsd()\n",
    "print(mc_results)"
   ]
  },
  {
   "cell_type": "code",
   "execution_count": 82,
   "metadata": {},
   "outputs": [
    {
     "name": "stdout",
     "output_type": "stream",
     "text": [
      "Multiple Comparison of Means - Tukey HSD, FWER=0.05\n",
      "===================================================\n",
      "group1 group2 meandiff p-adj   lower  upper  reject\n",
      "---------------------------------------------------\n",
      " 2/3     5    -0.0995  0.2561 -0.2723 0.0732 False \n",
      "---------------------------------------------------\n"
     ]
    }
   ],
   "source": [
    "mc = MultiComparison(dat[(dat['layer'].isin(['2/3', '5']))]['inj_dmn_frac'], \n",
    "                     dat[(dat['layer'].isin(['2/3', '5']))]['layer'])\n",
    "mc_results = mc.tukeyhsd()\n",
    "print(mc_results)"
   ]
  },
  {
   "cell_type": "code",
   "execution_count": 83,
   "metadata": {},
   "outputs": [
    {
     "name": "stdout",
     "output_type": "stream",
     "text": [
      "Multiple Comparison of Means - Tukey HSD, FWER=0.05 \n",
      "====================================================\n",
      "group1 group2 meandiff p-adj   lower   upper  reject\n",
      "----------------------------------------------------\n",
      " 2/3     5    -0.1894  0.0026 -0.3087 -0.0702  True \n",
      "----------------------------------------------------\n"
     ]
    }
   ],
   "source": [
    "mc = MultiComparison(dat[(dat['dmn_by_structure'] == 'in') &\n",
    "                         (dat['layer'].isin(['2/3', '5']))]['proj_dmn_frac'], \n",
    "                     dat[(dat['dmn_by_structure'] == 'in') &\n",
    "                         (dat['layer'].isin(['2/3', '5']))]['layer'])\n",
    "mc_results = mc.tukeyhsd()\n",
    "print(mc_results)"
   ]
  },
  {
   "cell_type": "markdown",
   "metadata": {},
   "source": [
    "mc = MultiComparison(dat[(dat['dmn_by_structure'] == 'out') &\n",
    "                         (dat['layer'].isin(['2/3', '5']))]['percent_dmn'], \n",
    "                     dat[(dat['dmn_by_structure'] == 'out') &\n",
    "                         (dat['layer'].isin(['2/3', '5']))]['layer'])\n",
    "mc_results = mc.tukeyhsd()\n",
    "print(mc_results) #I'm not sure why this doesn't work but the code above for in-DMN structures does work. I'm sure there is not a significant difference, though"
   ]
  },
  {
   "cell_type": "code",
   "execution_count": 84,
   "metadata": {},
   "outputs": [],
   "source": [
    "import imageio\n",
    "imb = imageio.imread(os.path.join(savepath, 'DMN_cortical_projection_boundaries.png'))"
   ]
  },
  {
   "cell_type": "code",
   "execution_count": 85,
   "metadata": {},
   "outputs": [],
   "source": [
    "top_coords = pd.read_csv(os.path.join(basepath, \n",
    "                                       'data_files',\n",
    "                                       'cortical_flatmap_coordinates.csv'))\n",
    "top_coords.rename(columns = {'id': 'image_series_id'}, inplace = True)"
   ]
  },
  {
   "cell_type": "code",
   "execution_count": 86,
   "metadata": {},
   "outputs": [],
   "source": [
    "dat = dat.merge(top_coords[['image_series_id', \n",
    "                                      'top_x', \n",
    "                                       'top_y']], \n",
    "                on = 'image_series_id',\n",
    "               how = 'left')"
   ]
  },
  {
   "cell_type": "code",
   "execution_count": 87,
   "metadata": {},
   "outputs": [
    {
     "data": {
      "text/plain": [
       "0"
      ]
     },
     "execution_count": 87,
     "metadata": {},
     "output_type": "execute_result"
    }
   ],
   "source": [
    "len(dat[dat['top_x'].isnull()])"
   ]
  },
  {
   "cell_type": "code",
   "execution_count": 88,
   "metadata": {},
   "outputs": [
    {
     "data": {
      "text/plain": [
       "array([], dtype=int64)"
      ]
     },
     "execution_count": 88,
     "metadata": {},
     "output_type": "execute_result"
    }
   ],
   "source": [
    "dat[dat['top_x'].isnull()]['image_series_id'].values"
   ]
  },
  {
   "cell_type": "code",
   "execution_count": 89,
   "metadata": {},
   "outputs": [],
   "source": [
    "Rbp4_groups = pd.DataFrame({'image_series_id': dat['Rbp4_anchor_id'].unique()})\n",
    "Rbp4_groups = Rbp4_groups.merge(top_coords[['image_series_id', \n",
    "                                      'top_x', \n",
    "                                       'top_y']], \n",
    "                                on = 'image_series_id',\n",
    "                               how = 'left')"
   ]
  },
  {
   "cell_type": "code",
   "execution_count": 90,
   "metadata": {},
   "outputs": [],
   "source": [
    "mcc = MouseConnectivityCache(manifest_file = '../connectivity/mouse_connectivity_manifest.json')\n",
    "structure_tree = mcc.get_structure_tree()\n",
    "isocortex = structure_tree.get_structures_by_acronym(['Isocortex'])[0]\n",
    "wt_expts = mcc.get_experiments(cre=False, injection_structure_ids = [isocortex['id']])\n",
    "cre_expts = mcc.get_experiments(cre=['Syt6-Cre_KI148', 'Cux2-IRES-Cre', 'Scnn1a-Tg3-Cre',\n",
    "       'Tlx3-Cre_PL56', 'Emx1-IRES-Cre', 'Rbp4-Cre_KL100',\n",
    "       'A930038C07Rik-Tg1-Cre', 'Ntsr1-Cre_GN220', 'Nr5a1-Cre',\n",
    "       'Rorb-IRES2-Cre', 'Efr3a-Cre_NO108', 'Chrna2-Cre_OE25',\n",
    "       'Sepw1-Cre_NP39', 'Sim1-Cre_KJ18'],\n",
    "                                injection_structure_ids = [isocortex['id']])\n",
    "experiments = wt_expts + cre_expts\n",
    "experiments = pd.DataFrame(experiments)\n",
    "experiments.rename(columns = {'id': 'image_series_id'}, inplace = True)"
   ]
  },
  {
   "cell_type": "code",
   "execution_count": 91,
   "metadata": {},
   "outputs": [
    {
     "data": {
      "text/plain": [
       "0"
      ]
     },
     "execution_count": 91,
     "metadata": {},
     "output_type": "execute_result"
    }
   ],
   "source": [
    "len(Rbp4_groups[Rbp4_groups['top_x'].isnull()])"
   ]
  },
  {
   "cell_type": "code",
   "execution_count": 92,
   "metadata": {},
   "outputs": [],
   "source": [
    "dat = dat.merge(experiments[['image_series_id', 'injection_volume']], \n",
    "                on = 'image_series_id', how = 'left')\n",
    "Rbp4_groups = Rbp4_groups.merge(experiments[['image_series_id', 'injection_volume']], \n",
    "                on = 'image_series_id', how = 'left')"
   ]
  },
  {
   "cell_type": "code",
   "execution_count": 93,
   "metadata": {},
   "outputs": [
    {
     "data": {
      "text/html": [
       "<div>\n",
       "<style scoped>\n",
       "    .dataframe tbody tr th:only-of-type {\n",
       "        vertical-align: middle;\n",
       "    }\n",
       "\n",
       "    .dataframe tbody tr th {\n",
       "        vertical-align: top;\n",
       "    }\n",
       "\n",
       "    .dataframe thead th {\n",
       "        text-align: right;\n",
       "    }\n",
       "</style>\n",
       "<table border=\"1\" class=\"dataframe\">\n",
       "  <thead>\n",
       "    <tr style=\"text-align: right;\">\n",
       "      <th></th>\n",
       "      <th>image_series_id</th>\n",
       "      <th>top_x</th>\n",
       "      <th>top_y</th>\n",
       "      <th>injection_volume</th>\n",
       "    </tr>\n",
       "  </thead>\n",
       "  <tbody>\n",
       "    <tr>\n",
       "      <th>2</th>\n",
       "      <td>524667618</td>\n",
       "      <td>383.0</td>\n",
       "      <td>749.0</td>\n",
       "      <td>0.115642</td>\n",
       "    </tr>\n",
       "    <tr>\n",
       "      <th>6</th>\n",
       "      <td>159753308</td>\n",
       "      <td>394.0</td>\n",
       "      <td>785.0</td>\n",
       "      <td>0.124457</td>\n",
       "    </tr>\n",
       "  </tbody>\n",
       "</table>\n",
       "</div>"
      ],
      "text/plain": [
       "   image_series_id  top_x  top_y  injection_volume\n",
       "2        524667618  383.0  749.0          0.115642\n",
       "6        159753308  394.0  785.0          0.124457"
      ]
     },
     "execution_count": 93,
     "metadata": {},
     "output_type": "execute_result"
    }
   ],
   "source": [
    "Rbp4_groups[Rbp4_groups['image_series_id'].isin([159753308, 524667618])] #VISam group"
   ]
  },
  {
   "cell_type": "code",
   "execution_count": 94,
   "metadata": {},
   "outputs": [
    {
     "data": {
      "text/plain": [
       "42"
      ]
     },
     "execution_count": 94,
     "metadata": {},
     "output_type": "execute_result"
    }
   ],
   "source": [
    "len(Rbp4_groups)"
   ]
  },
  {
   "cell_type": "code",
   "execution_count": 95,
   "metadata": {},
   "outputs": [],
   "source": [
    "Rbp4_groups['flipped_x'] = 570+(570 - Rbp4_groups['top_x'])\n",
    "Rbp4_groups.loc[Rbp4_groups['top_x'] > 570, 'flipped_x'] = Rbp4_groups.loc[\n",
    "    Rbp4_groups['top_x'] > 570, 'top_x']\n",
    "dat['flipped_x'] = 570+(570 - dat['top_x'])\n",
    "dat.loc[dat['top_x'] > 570, 'flipped_x'] = dat.loc[dat['top_x'] > 570, 'top_x']"
   ]
  },
  {
   "cell_type": "code",
   "execution_count": 96,
   "metadata": {},
   "outputs": [
    {
     "data": {
      "image/png": "[encoded data removed]",
      "text/plain": [
       "<Figure size 180x180 with 2 Axes>"
      ]
     },
     "metadata": {
      "needs_background": "light"
     },
     "output_type": "display_data"
    }
   ],
   "source": [
    "fig,ax = plt.subplots(1,1)\n",
    "ax.imshow(imb)\n",
    "cax = ax.scatter(Rbp4_groups['flipped_x'],\n",
    "                Rbp4_groups['top_y'],\n",
    "                 marker = 'o',\n",
    "                 c = 'none',\n",
    "                edgecolor = 'k',\n",
    "                s = 170)\n",
    "cax = ax.scatter(Rbp4_groups[Rbp4_groups['image_series_id'] == 159753308]['flipped_x'],\n",
    "                Rbp4_groups[Rbp4_groups['image_series_id'] == 159753308]['top_y'],\n",
    "                 marker = 'o',\n",
    "                 c = 'none',\n",
    "                edgecolor = 'r',\n",
    "                s = 170)\n",
    "cax = ax.scatter(dat.flipped_x,\n",
    "           dat.top_y,\n",
    "           c = dat['proj_dmn_frac'],\n",
    "           edgecolor = 'k',\n",
    "           s = dat.injection_volume.values*100,\n",
    "           cmap = 'hot')\n",
    "cbar = plt.colorbar(cax, ax = ax, orientation='vertical', \n",
    "                    fraction=0.033, \n",
    "                    pad=0.01)\n",
    "\n",
    "cbar.solids.set_rasterized(True)\n",
    "cbar.solids.set_edgecolor(\"face\")\n",
    "cbar.set_alpha(1)\n",
    "cbar.draw_all()\n",
    "ax.set_aspect('equal')\n",
    "plt.axis('off')\n",
    "fig.set_size_inches(2.5,2.5)\n",
    "plt.savefig(os.path.join(savepath, 'cre_injections_on_DMN_ctx_DMN_fraction.pdf'), \n",
    "            bbox_inches='tight', pad_inches=0.3, format='pdf', transparent=True, dpi=300)"
   ]
  },
  {
   "cell_type": "code",
   "execution_count": 97,
   "metadata": {},
   "outputs": [
    {
     "name": "stdout",
     "output_type": "stream",
     "text": [
      "-0.4227862658937338\n",
      "0.3920405971066395\n"
     ]
    }
   ],
   "source": [
    "print(dat['dmn_coeff'].min())\n",
    "print(dat['dmn_coeff'].max())"
   ]
  },
  {
   "cell_type": "code",
   "execution_count": 98,
   "metadata": {},
   "outputs": [
    {
     "data": {
      "image/png": "[encoded data removed]",
      "text/plain": [
       "<Figure size 180x180 with 2 Axes>"
      ]
     },
     "metadata": {
      "needs_background": "light"
     },
     "output_type": "display_data"
    }
   ],
   "source": [
    "fig,ax = plt.subplots(1,1)\n",
    "ax.imshow(imb)\n",
    "cax = ax.scatter(Rbp4_groups['top_x'],\n",
    "                Rbp4_groups['top_y'],\n",
    "                 marker = 'o',\n",
    "                 c = 'none',\n",
    "                edgecolor = 'k',\n",
    "                 alpha = 0.7,\n",
    "                s = 170)\n",
    "cax = ax.scatter(Rbp4_groups[Rbp4_groups['image_series_id'] == 159753308]['top_x'],\n",
    "                Rbp4_groups[Rbp4_groups['image_series_id'] == 159753308]['top_y'],\n",
    "                 marker = 'o',\n",
    "                 c = 'none',\n",
    "                edgecolor = 'r',\n",
    "                s = 170)\n",
    "cax = ax.scatter(dat.top_x,\n",
    "           dat.top_y,\n",
    "           c = dat['dmn_coeff'],\n",
    "           edgecolor = 'k',\n",
    "           s = dat.injection_volume.values*100,\n",
    "           cmap = 'bwr',\n",
    "                 vmax = 0.45,\n",
    "                 vmin = -0.45)\n",
    "cbar = plt.colorbar(cax, ax = ax, orientation='vertical', \n",
    "                    fraction=0.033, \n",
    "                    pad=0.01)\n",
    "\n",
    "cbar.solids.set_rasterized(True)\n",
    "cbar.solids.set_edgecolor(\"face\")\n",
    "cbar.set_alpha(1)\n",
    "cbar.draw_all()\n",
    "ax.set_aspect('equal')\n",
    "plt.axis('off')\n",
    "fig.set_size_inches(2.5,2.5)\n",
    "plt.savefig(os.path.join(savepath, 'cre_injections_on_DMN_ctx_DMN_coeff.pdf'), \n",
    "            bbox_inches='tight', pad_inches=0.3, format='pdf', transparent=True, dpi=300)"
   ]
  },
  {
   "cell_type": "code",
   "execution_count": 99,
   "metadata": {},
   "outputs": [
    {
     "data": {
      "text/plain": [
       "array(['6', '2/3', '4', '5', 'all', '5 PT'], dtype=object)"
      ]
     },
     "execution_count": 99,
     "metadata": {},
     "output_type": "execute_result"
    }
   ],
   "source": [
    "dat['layer'].unique()"
   ]
  },
  {
   "cell_type": "code",
   "execution_count": 100,
   "metadata": {},
   "outputs": [
    {
     "data": {
      "text/plain": [
       "2    757.0\n",
       "6    746.0\n",
       "Name: flipped_x, dtype: float64"
      ]
     },
     "execution_count": 100,
     "metadata": {},
     "output_type": "execute_result"
    }
   ],
   "source": [
    "Rbp4_groups[Rbp4_groups['image_series_id'].isin([159753308, 524667618])]['flipped_x']"
   ]
  },
  {
   "cell_type": "code",
   "execution_count": 101,
   "metadata": {},
   "outputs": [
    {
     "data": {
      "image/png": "[encoded data removed]",
      "text/plain": [
       "<Figure size 180x180 with 1 Axes>"
      ]
     },
     "metadata": {
      "needs_background": "light"
     },
     "output_type": "display_data"
    }
   ],
   "source": [
    "dat.sort_values(by='injection_volume', ascending = False, inplace = True)\n",
    "fig,ax = plt.subplots(1,1)\n",
    "ax.imshow(imb)\n",
    "cax = ax.scatter(Rbp4_groups[\n",
    "    Rbp4_groups['image_series_id'].isin([159753308, 524667618])]['flipped_x'].mean(),\n",
    "                Rbp4_groups[\n",
    "                    Rbp4_groups['image_series_id'].isin([159753308, 524667618])]['top_y'].mean(),\n",
    "                 marker = 'o',\n",
    "                 c = 'none',\n",
    "                edgecolor = 'r',\n",
    "                s = 170)\n",
    "cax = ax.scatter(dat[dat['layer'] == '5'].flipped_x,\n",
    "           dat[dat['layer'] == '5'].top_y,\n",
    "           c = 'gray',\n",
    "           edgecolor = 'k',\n",
    "                 linewidth = 0.5,\n",
    "                 alpha = 0.7,\n",
    "                 zorder = 2,\n",
    "           s = 25,\n",
    "                label = 'L5')\n",
    "cax = ax.scatter(dat[dat['layer'] == '2/3'].flipped_x,\n",
    "           dat[dat['layer'] == '2/3'].top_y,\n",
    "           c = 'c',\n",
    "           edgecolor = 'k',\n",
    "                 linewidth = 0.5,\n",
    "                 alpha = 0.7,\n",
    "                 zorder = 3,\n",
    "           s = 25,\n",
    "                label = 'L2/3')\n",
    "cax = ax.scatter(dat[dat['layer'] == 'all'].flipped_x,\n",
    "           dat[dat['layer'] == 'all'].top_y,\n",
    "           c = 'k',\n",
    "           edgecolor = 'k',\n",
    "                 linewidth = 0.5,\n",
    "                 alpha = 0.8,\n",
    "                 zorder = 1,\n",
    "           s = 25,\n",
    "                label = 'All')\n",
    "handles, labels = ax.get_legend_handles_labels()\n",
    "legend = plt.legend(handles[::-1], labels[::-1],\n",
    "                    loc = 1, fontsize = 6, frameon = False,\n",
    "          bbox_to_anchor = [0.3, 1], \n",
    "                    labelspacing = 0.3)\n",
    "ax.set_aspect('equal')\n",
    "plt.axis('off')\n",
    "fig.set_size_inches(2.5,2.5)\n",
    "plt.savefig(os.path.join(savepath, 'cre_injections_on_DMN_ctx_L235.pdf'), \n",
    "            bbox_inches='tight', pad_inches=0.3, format='pdf', transparent=True, dpi=300)"
   ]
  },
  {
   "cell_type": "code",
   "execution_count": 102,
   "metadata": {},
   "outputs": [
    {
     "data": {
      "text/plain": [
       "['k', 'gray', 'c', 'gold', 'b', 'm']"
      ]
     },
     "execution_count": 102,
     "metadata": {},
     "output_type": "execute_result"
    }
   ],
   "source": [
    "layer_colors"
   ]
  },
  {
   "cell_type": "code",
   "execution_count": 103,
   "metadata": {},
   "outputs": [
    {
     "data": {
      "image/png": "[encoded data removed]",
      "text/plain": [
       "<Figure size 180x180 with 1 Axes>"
      ]
     },
     "metadata": {
      "needs_background": "light"
     },
     "output_type": "display_data"
    }
   ],
   "source": [
    "dat.sort_values(by='injection_volume', ascending = False, inplace = True)\n",
    "fig,ax = plt.subplots(1,1)\n",
    "ax.imshow(imb)\n",
    "cax = ax.scatter(Rbp4_groups[\n",
    "    Rbp4_groups['image_series_id'].isin([159753308, 524667618])]['flipped_x'].mean(),\n",
    "                Rbp4_groups[\n",
    "                    Rbp4_groups['image_series_id'].isin([159753308, 524667618])]['top_y'].mean(),\n",
    "                 marker = 'o',\n",
    "                 c = 'none',\n",
    "                edgecolor = 'r',\n",
    "                s = 170)\n",
    "cax = ax.scatter(dat[dat['layer'] == '4'].flipped_x,\n",
    "           dat[dat['layer'] == '4'].top_y,\n",
    "           c = 'm',\n",
    "           edgecolor = 'k',\n",
    "                 alpha = 0.7,\n",
    "           s = 25,\n",
    "                label = 'L4')\n",
    "cax = ax.scatter(dat[dat['layer'] == '5 PT'].flipped_x,\n",
    "           dat[dat['layer'] == '5 PT'].top_y,\n",
    "           c = 'b',\n",
    "           edgecolor = 'k',\n",
    "                 alpha = 0.7,\n",
    "           s = 25,\n",
    "                label = 'L5 PT')\n",
    "cax = ax.scatter(dat[dat['layer'] == '6'].flipped_x,\n",
    "           dat[dat['layer'] == '6'].top_y,\n",
    "           c = 'gold',\n",
    "           edgecolor = 'k',\n",
    "                 alpha = 0.7,\n",
    "           s = 25,\n",
    "                label = 'L6')\n",
    "legend = plt.legend(loc = 1, fontsize = 6, frameon = False,\n",
    "          bbox_to_anchor = [0.3, 1], \n",
    "                    labelspacing = 0.3)\n",
    "ax.set_aspect('equal')\n",
    "plt.axis('off')\n",
    "fig.set_size_inches(2.5,2.5)\n",
    "plt.savefig(os.path.join(savepath, 'cre_injections_on_DMN_ctx_L45PT6.pdf'), \n",
    "            bbox_inches='tight', pad_inches=0.3, format='pdf', transparent=True, dpi=300)"
   ]
  },
  {
   "cell_type": "code",
   "execution_count": 104,
   "metadata": {},
   "outputs": [],
   "source": [
    "dat['consolidated_layer'] = dat['layer']\n",
    "dat.loc[dat['layer'].isin(['5 IT PT', '5 IT']), 'consolidated_layer'] = '5'\n",
    "dat['consolidated_source'] = dat['Rbp4_source']\n",
    "dat.loc[dat['Rbp4_source'].isin(['VISp-1', 'VISp-2', 'VISp-3', 'VISp-4', 'VISp-5',\n",
    "                           'VISp-6']),\n",
    "       'consolidated_source'] = 'VISp'"
   ]
  },
  {
   "cell_type": "code",
   "execution_count": 105,
   "metadata": {},
   "outputs": [],
   "source": [
    "consolidated_plot_order = ['ACAd','ACAv','PL','ILA','ORBl', 'ORBvl',\n",
    "                           'RSPd','RSPv', 'VISam', 'MOs',\n",
    "                           'SSp-ll','MOp', 'SSp-m','SSp-n',\n",
    "                           'SSp-bfd','SSp-ul', 'SSs','AId', 'VISal','VISl', \n",
    "                           'VISp','VISpor','VISrl','AUDp']"
   ]
  },
  {
   "cell_type": "code",
   "execution_count": 106,
   "metadata": {},
   "outputs": [
    {
     "data": {
      "text/plain": [
       "[]"
      ]
     },
     "execution_count": 106,
     "metadata": {},
     "output_type": "execute_result"
    }
   ],
   "source": [
    "[source for source in dat['consolidated_source'].unique() if source not in consolidated_plot_order]"
   ]
  },
  {
   "cell_type": "code",
   "execution_count": 107,
   "metadata": {},
   "outputs": [],
   "source": [
    "layer_subset_order = ['2/3', '5']\n",
    "layer_subset_colors = ['c', 'gray']"
   ]
  },
  {
   "cell_type": "code",
   "execution_count": 108,
   "metadata": {},
   "outputs": [
    {
     "data": {
      "text/plain": [
       "array(['all', '5', '2/3', '5 PT', '4', '6'], dtype=object)"
      ]
     },
     "execution_count": 108,
     "metadata": {},
     "output_type": "execute_result"
    }
   ],
   "source": [
    "dat['layer'].unique()"
   ]
  },
  {
   "cell_type": "code",
   "execution_count": 109,
   "metadata": {},
   "outputs": [
    {
     "data": {
      "image/png": "[encoded data removed]",
      "text/plain": [
       "<Figure size 237.6x72 with 1 Axes>"
      ]
     },
     "metadata": {
      "needs_background": "light"
     },
     "output_type": "display_data"
    }
   ],
   "source": [
    "fig, ax = plt.subplots(figsize = (3.3, 1))\n",
    "sns.stripplot('consolidated_source', 'proj_dmn_frac', \n",
    "            data = dat[dat['layer'].isin(['2/3', '5'])], \n",
    "            hue = 'consolidated_layer',\n",
    "            order = consolidated_plot_order,\n",
    "            hue_order = layer_subset_order,\n",
    "           palette = layer_subset_colors,\n",
    "             alpha = 0.8,\n",
    "             jitter=False,\n",
    "              edgecolor = 'k',\n",
    "              linewidth = 0.5,\n",
    "            s=4)\n",
    "ax.axhline(y = 50, xmin=0, xmax=100, color = 'gray', linestyle = 'dashed',\n",
    "          linewidth = 0.5)\n",
    "ax.set_ylim([-0.1,1.1])\n",
    "ax.set_xlabel(None)\n",
    "ax.set_ylabel('Projection DMN Fraction', fontsize = 7, labelpad = 1)\n",
    "ax.tick_params(top = False, right = False, bottom = False, left = True)\n",
    "plt.xticks(rotation = 90, fontsize = 7)\n",
    "ax.tick_params(axis = 'y', pad=1)\n",
    "ax.tick_params(axis = 'x', pad = -3)\n",
    "legend = plt.legend(fontsize = 6, \n",
    "          loc = 3,\n",
    "            labelspacing = 0.2)\n",
    "legend.legendHandles[0]._sizes = [10]\n",
    "legend.legendHandles[1]._sizes = [10]\n",
    "sns.despine()\n",
    "fig.canvas.draw()\n",
    "ax.set_xticklabels(ax.get_xticklabels(), fontsize = 7)\n",
    "ax.set_yticklabels(ax.get_yticklabels(), fontsize = 7)\n",
    "plt.axhline(y=0.5, linestyle = '--', color = 'gray', alpha = 0.5, \n",
    "            linewidth = 0.5, zorder = -1)\n",
    "plt.savefig(os.path.join(savepath, 'DMN_proj_percent_by_layer_in_sources.pdf'), bbox_inches='tight', \n",
    "            pad_inches=0.3, \n",
    "            format='pdf', transparent = True, dpi=300)"
   ]
  },
  {
   "cell_type": "code",
   "execution_count": 110,
   "metadata": {},
   "outputs": [
    {
     "data": {
      "text/plain": [
       "array(['MOs', 'ORBvl', 'ILA', 'SSp-ll', 'ORBl', 'PL', 'ORBm', 'ACAv',\n",
       "       'RSPv', 'ACAd', 'VISam', 'RSPd', 'RSPagl', 'VISa'], dtype=object)"
      ]
     },
     "execution_count": 110,
     "metadata": {},
     "output_type": "execute_result"
    }
   ],
   "source": [
    "dat[dat['dmn_by_structure'] == 'in']['source'].unique()"
   ]
  },
  {
   "cell_type": "code",
   "execution_count": 111,
   "metadata": {},
   "outputs": [
    {
     "data": {
      "text/plain": [
       "array(['VISp', 'SSp-bfd', 'SSs', 'AId', 'AUDd', 'SSp-n', 'SSp-ul', 'MOp',\n",
       "       'SSp-m', 'VISli', 'AUDp', 'VISal', 'VISl', 'VISrl', 'VISpor',\n",
       "       'SSp-un', 'VISpm'], dtype=object)"
      ]
     },
     "execution_count": 111,
     "metadata": {},
     "output_type": "execute_result"
    }
   ],
   "source": [
    "dat[dat['dmn_by_structure'] == 'out']['source'].unique()"
   ]
  },
  {
   "cell_type": "code",
   "execution_count": 112,
   "metadata": {
    "scrolled": false
   },
   "outputs": [
    {
     "data": {
      "image/png": "[encoded data removed]",
      "text/plain": [
       "<Figure size 28.8x72 with 1 Axes>"
      ]
     },
     "metadata": {
      "needs_background": "light"
     },
     "output_type": "display_data"
    }
   ],
   "source": [
    "fig, ax = plt.subplots(1, figsize = (0.4, 1))\n",
    "sns.boxplot('dmn_by_structure', 'proj_dmn_frac',\n",
    "              data = dat[dat['layer'].isin(['2/3', '5'])], \n",
    "              order = ['in', 'out'], linewidth = 0.5,\n",
    "              ax = ax, hue = 'layer', palette = layer_subset_colors, \n",
    "              hue_order = layer_subset_order, fliersize = 1)\n",
    "ax.set_ylim([-0.1,1.1])\n",
    "plt.xticks([0, 1], fontsize = 7)\n",
    "plt.yticks([0, 0.5, 1], fontsize = 7)\n",
    "ax.axhline(y = 0.5, xmin=0, xmax=1, color = 'gray', linestyle = 'dashed',\n",
    "          linewidth = 0.5)\n",
    "sns.despine()\n",
    "ax.set_ylabel('Projection DMN Fraction', fontsize = 7)\n",
    "ax.tick_params(axis = 'y', pad=1)\n",
    "ax.set_xlabel('')\n",
    "ax.tick_params(top = False, right = False, left = True,\n",
    "               bottom = False)\n",
    "ax.legend_.remove()\n",
    "plt.savefig(os.path.join(savepath, 'Cre_DMN_proj_boxplot_in-out.pdf'), \n",
    "            bbox_inches='tight', pad_inches=0.3, format='pdf', transparent=True, dpi=300)"
   ]
  },
  {
   "cell_type": "code",
   "execution_count": 113,
   "metadata": {},
   "outputs": [
    {
     "data": {
      "image/png": "[encoded data removed]",
      "text/plain": [
       "<Figure size 72x72 with 1 Axes>"
      ]
     },
     "metadata": {
      "needs_background": "light"
     },
     "output_type": "display_data"
    }
   ],
   "source": [
    "fig, ax = plt.subplots(1, figsize = (1, 1))\n",
    "sns.boxplot('dmn_by_structure', 'dmn_coeff',\n",
    "              data = dat[dat['consolidated_layer'].isin(['2/3', '5'])], \n",
    "              order = ['in', 'out'], linewidth = 0.5,\n",
    "              ax = ax, hue = 'consolidated_layer', palette = layer_subset_colors, \n",
    "              hue_order = layer_subset_order, fliersize = 1)\n",
    "ax.axhline(y = 0, xmin=0, xmax=100, color = 'gray', linestyle = 'dashed',\n",
    "          linewidth = 0.5)\n",
    "ax.set_ylim([-0.45, 0.45])\n",
    "plt.yticks([-0.4, 0, 0.4], fontsize = 7)\n",
    "plt.xticks([0, 1], fontsize = 7)\n",
    "sns.despine()\n",
    "ax.tick_params(top = False, right = False)\n",
    "ax.set_xlabel(\"\")\n",
    "ax.set_ylabel(\"DMN Coefficient\", fontsize = 7)\n",
    "ax.yaxis.labelpad = -2\n",
    "ax.tick_params(top = False, right = False, \n",
    "               bottom = False, left = False, pad = -3)\n",
    "ax.legend_.remove()\n",
    "ax.axhline(y=0, xmin=0, xmax=100, color = 'grey', linestyle = 'dashed', zorder = -1)\n",
    "plt.savefig(os.path.join(savepath, 'Cre_DMN_coeff_boxplot_in-out.pdf'), \n",
    "            bbox_inches='tight', pad_inches=0.3, format='pdf', transparent=True, dpi=300)"
   ]
  },
  {
   "cell_type": "code",
   "execution_count": 114,
   "metadata": {},
   "outputs": [],
   "source": [
    "mcd = {'red': '#ff0000', 'orange': '#f9922b', 'yellow': '#ffff66', 'light_blue': '#90bff9',\n",
    "      'dark_blue': '#5252a9', 'purple': '#7c429b'}\n",
    "mod_order = ['PFC', 'Medial', 'Somatomotor', 'Lateral', 'Visual', 'Auditory']\n",
    "colors = [mcd['red'], mcd['dark_blue'], \n",
    "          mcd['orange'], mcd['yellow'],\n",
    "          mcd['light_blue'], mcd['purple']]"
   ]
  },
  {
   "cell_type": "code",
   "execution_count": 115,
   "metadata": {},
   "outputs": [],
   "source": [
    "pltdat = dat[dat['layer'].isin(['2/3', '5'])]"
   ]
  },
  {
   "cell_type": "code",
   "execution_count": 116,
   "metadata": {},
   "outputs": [],
   "source": [
    "mod_order = ['PFC', 'Medial', 'Somatomotor', 'Lateral', 'Visual', 'Auditory']"
   ]
  },
  {
   "cell_type": "code",
   "execution_count": 117,
   "metadata": {},
   "outputs": [
    {
     "data": {
      "text/plain": [
       "array(['RSPv', 'VISam', 'RSPd'], dtype=object)"
      ]
     },
     "execution_count": 117,
     "metadata": {},
     "output_type": "execute_result"
    }
   ],
   "source": [
    "pltdat[pltdat['Rbp4 Module'] == 'Medial']['source'].unique()"
   ]
  },
  {
   "cell_type": "code",
   "execution_count": 118,
   "metadata": {},
   "outputs": [
    {
     "data": {
      "text/html": [
       "<div>\n",
       "<style scoped>\n",
       "    .dataframe tbody tr th:only-of-type {\n",
       "        vertical-align: middle;\n",
       "    }\n",
       "\n",
       "    .dataframe tbody tr th {\n",
       "        vertical-align: top;\n",
       "    }\n",
       "\n",
       "    .dataframe thead th {\n",
       "        text-align: right;\n",
       "    }\n",
       "</style>\n",
       "<table border=\"1\" class=\"dataframe\">\n",
       "  <thead>\n",
       "    <tr style=\"text-align: right;\">\n",
       "      <th></th>\n",
       "      <th>image_series_id</th>\n",
       "      <th>Rbp4_anchor_id</th>\n",
       "      <th>distance</th>\n",
       "      <th>Rbp4_source</th>\n",
       "      <th>Rbp4 Module</th>\n",
       "      <th>Mouse Line</th>\n",
       "      <th>source</th>\n",
       "      <th>Exp Module</th>\n",
       "      <th>Selected anchor for Figures?</th>\n",
       "      <th>Manual PN class</th>\n",
       "      <th>...</th>\n",
       "      <th>DMN core coefficient</th>\n",
       "      <th>layer</th>\n",
       "      <th>dmn_by_ol</th>\n",
       "      <th>dmn_by_structure</th>\n",
       "      <th>top_x</th>\n",
       "      <th>top_y</th>\n",
       "      <th>injection_volume</th>\n",
       "      <th>flipped_x</th>\n",
       "      <th>consolidated_layer</th>\n",
       "      <th>consolidated_source</th>\n",
       "    </tr>\n",
       "  </thead>\n",
       "  <tbody>\n",
       "    <tr>\n",
       "      <th>28</th>\n",
       "      <td>168164230</td>\n",
       "      <td>168164230</td>\n",
       "      <td>0.000000</td>\n",
       "      <td>VISp-6</td>\n",
       "      <td>Visual</td>\n",
       "      <td>Rbp4-Cre_KL100</td>\n",
       "      <td>RSPagl</td>\n",
       "      <td>Medial</td>\n",
       "      <td>N</td>\n",
       "      <td>IT PT</td>\n",
       "      <td>...</td>\n",
       "      <td>-0.072702</td>\n",
       "      <td>5</td>\n",
       "      <td>out</td>\n",
       "      <td>in</td>\n",
       "      <td>438.0</td>\n",
       "      <td>992.0</td>\n",
       "      <td>0.104929</td>\n",
       "      <td>702.0</td>\n",
       "      <td>5</td>\n",
       "      <td>VISp</td>\n",
       "    </tr>\n",
       "    <tr>\n",
       "      <th>26</th>\n",
       "      <td>614094233</td>\n",
       "      <td>168164230</td>\n",
       "      <td>64.599138</td>\n",
       "      <td>VISp-6</td>\n",
       "      <td>Visual</td>\n",
       "      <td>Tlx3-Cre_PL56</td>\n",
       "      <td>RSPagl</td>\n",
       "      <td>Medial</td>\n",
       "      <td>N</td>\n",
       "      <td>IT</td>\n",
       "      <td>...</td>\n",
       "      <td>-0.032094</td>\n",
       "      <td>5</td>\n",
       "      <td>out</td>\n",
       "      <td>in</td>\n",
       "      <td>443.0</td>\n",
       "      <td>988.0</td>\n",
       "      <td>0.015257</td>\n",
       "      <td>697.0</td>\n",
       "      <td>5</td>\n",
       "      <td>VISp</td>\n",
       "    </tr>\n",
       "  </tbody>\n",
       "</table>\n",
       "<p>2 rows × 28 columns</p>\n",
       "</div>"
      ],
      "text/plain": [
       "    image_series_id  Rbp4_anchor_id   distance Rbp4_source Rbp4 Module  \\\n",
       "28        168164230       168164230   0.000000      VISp-6      Visual   \n",
       "26        614094233       168164230  64.599138      VISp-6      Visual   \n",
       "\n",
       "        Mouse Line  source Exp Module Selected anchor for Figures?  \\\n",
       "28  Rbp4-Cre_KL100  RSPagl     Medial                            N   \n",
       "26   Tlx3-Cre_PL56  RSPagl     Medial                            N   \n",
       "\n",
       "   Manual PN class   ... DMN core coefficient  layer  dmn_by_ol  \\\n",
       "28            IT PT  ...            -0.072702      5        out   \n",
       "26               IT  ...            -0.032094      5        out   \n",
       "\n",
       "    dmn_by_structure  top_x  top_y  injection_volume  flipped_x  \\\n",
       "28                in  438.0  992.0          0.104929      702.0   \n",
       "26                in  443.0  988.0          0.015257      697.0   \n",
       "\n",
       "    consolidated_layer consolidated_source  \n",
       "28                   5                VISp  \n",
       "26                   5                VISp  \n",
       "\n",
       "[2 rows x 28 columns]"
      ]
     },
     "execution_count": 118,
     "metadata": {},
     "output_type": "execute_result"
    }
   ],
   "source": [
    "pltdat[pltdat['source'] == 'RSPagl']"
   ]
  },
  {
   "cell_type": "code",
   "execution_count": 119,
   "metadata": {},
   "outputs": [
    {
     "data": {
      "image/png": "[encoded data removed]",
      "text/plain": [
       "<Figure size 54x72 with 1 Axes>"
      ]
     },
     "metadata": {
      "needs_background": "light"
     },
     "output_type": "display_data"
    }
   ],
   "source": [
    "fig, ax = plt.subplots(1, figsize = (0.75, 1))\n",
    "sns.boxplot('Rbp4 Module', 'proj_dmn_frac', data = pltdat, \n",
    "            order = ['PFC', 'Medial', 'Somatomotor', 'Visual'], ax = ax, \n",
    "            hue = 'layer', hue_order = ['2/3', '5'],\n",
    "            palette = ['c', 'gray'], fliersize = 0.1, linewidth = 0.5)\n",
    "ax.axhline(y = 0.5, xmin=0, xmax=1, color = 'gray', linestyle = 'dashed',\n",
    "          linewidth = 0.5, zorder = -1)\n",
    "sns.despine()\n",
    "ax.tick_params(top = False, right = False, bottom = False, left = True)\n",
    "ax.set_ylim([-0.1,1.1])\n",
    "plt.xticks(rotation = 90, fontsize = 7)\n",
    "ax.set_xticklabels(['Prefrontal', 'Medial', 'Somatomotor', 'Visual'], fontsize=7)\n",
    "plt.yticks([0, 0.5, 1])\n",
    "ax.set_ylabel('Projection DMN Fraction', fontsize = 7)\n",
    "ax.tick_params(axis = 'y', pad=1)\n",
    "ax.tick_params(axis = 'x', pad = -4)\n",
    "ax.set_xlabel(None)\n",
    "ax.legend_.remove()\n",
    "plt.savefig(os.path.join(savepath, 'DMN_fraction_by_module_and_layer_boxplot_horizontal.pdf'), \n",
    "            bbox_inches='tight', pad_inches=0.3, format='pdf', transparent=True, dpi=300)"
   ]
  },
  {
   "cell_type": "code",
   "execution_count": 120,
   "metadata": {},
   "outputs": [
    {
     "data": {
      "image/png": "[encoded data removed]",
      "text/plain": [
       "<Figure size 72x108 with 1 Axes>"
      ]
     },
     "metadata": {
      "needs_background": "light"
     },
     "output_type": "display_data"
    }
   ],
   "source": [
    "fig, ax = plt.subplots(1, figsize = (1, 1.5))\n",
    "sns.boxplot('Rbp4 Module', 'dmn_coeff', data = pltdat, \n",
    "            order = ['PFC', 'Medial', 'Somatomotor', 'Visual'], ax = ax, \n",
    "            hue = 'consolidated_layer', hue_order = ['2/3', '5'],\n",
    "            palette = ['c', 'gray'], fliersize = 0.1, linewidth = 0.5)\n",
    "ax.axhline(y = 0, xmin=0, xmax=100, color = 'gray', linestyle = 'dashed',\n",
    "          linewidth = 0.5)\n",
    "sns.despine()\n",
    "ax.tick_params(top = False, right = False)\n",
    "plt.yticks(fontsize = 8)\n",
    "plt.xticks(rotation = -90, fontsize = 8)\n",
    "ax.set_xlabel(\"\")\n",
    "ax.set_ylabel(\"DMN Coefficient\", fontsize = 8)\n",
    "ax.yaxis.labelpad = -2\n",
    "ax.tick_params(top = False, right = False, bottom = False, left = False, pad = -3)\n",
    "ax.legend_.remove()\n",
    "plt.savefig(os.path.join(savepath, 'DMN_coeff_by_module_and_layer_boxplot_horizontal.pdf'), \n",
    "            bbox_inches='tight', pad_inches=0.3, format='pdf', transparent=True, dpi=300)"
   ]
  },
  {
   "cell_type": "code",
   "execution_count": 121,
   "metadata": {},
   "outputs": [
    {
     "data": {
      "text/plain": [
       "array(['5', '2/3'], dtype=object)"
      ]
     },
     "execution_count": 121,
     "metadata": {},
     "output_type": "execute_result"
    }
   ],
   "source": [
    "pltdat['layer'].unique()"
   ]
  },
  {
   "cell_type": "code",
   "execution_count": 122,
   "metadata": {
    "scrolled": true
   },
   "outputs": [
    {
     "name": "stderr",
     "output_type": "stream",
     "text": [
      "/Users/jenniferwh/Dropbox (Allen Institute)/Mesoscale Connectome Papers in Progress/2019 DMN/_new_figures/jupyter_notebooks/env/lib/python3.7/site-packages/pandas/core/frame.py:4238: SettingWithCopyWarning: \n",
      "A value is trying to be set on a copy of a slice from a DataFrame\n",
      "\n",
      "See the caveats in the documentation: http://pandas.pydata.org/pandas-docs/stable/user_guide/indexing.html#returning-a-view-versus-a-copy\n",
      "  return super().rename(**kwargs)\n"
     ]
    }
   ],
   "source": [
    "pltdat.rename(columns = {'Rbp4 Module': 'module'}, inplace = True)\n",
    "formula = 'proj_dmn_frac~C(layer)*C(module)' \n",
    "model = ols(formula, pltdat).fit()\n",
    "aov_table = anova_lm(model, typ=1)"
   ]
  },
  {
   "cell_type": "code",
   "execution_count": 123,
   "metadata": {},
   "outputs": [
    {
     "data": {
      "text/html": [
       "<div>\n",
       "<style scoped>\n",
       "    .dataframe tbody tr th:only-of-type {\n",
       "        vertical-align: middle;\n",
       "    }\n",
       "\n",
       "    .dataframe tbody tr th {\n",
       "        vertical-align: top;\n",
       "    }\n",
       "\n",
       "    .dataframe thead th {\n",
       "        text-align: right;\n",
       "    }\n",
       "</style>\n",
       "<table border=\"1\" class=\"dataframe\">\n",
       "  <thead>\n",
       "    <tr style=\"text-align: right;\">\n",
       "      <th></th>\n",
       "      <th>df</th>\n",
       "      <th>sum_sq</th>\n",
       "      <th>mean_sq</th>\n",
       "      <th>F</th>\n",
       "      <th>PR(&gt;F)</th>\n",
       "    </tr>\n",
       "  </thead>\n",
       "  <tbody>\n",
       "    <tr>\n",
       "      <th>C(layer)</th>\n",
       "      <td>1.0</td>\n",
       "      <td>0.2674</td>\n",
       "      <td>0.2674</td>\n",
       "      <td>6.4015</td>\n",
       "      <td>0.0128</td>\n",
       "    </tr>\n",
       "    <tr>\n",
       "      <th>C(module)</th>\n",
       "      <td>5.0</td>\n",
       "      <td>6.4946</td>\n",
       "      <td>1.2989</td>\n",
       "      <td>31.1006</td>\n",
       "      <td>0.0000</td>\n",
       "    </tr>\n",
       "    <tr>\n",
       "      <th>C(layer):C(module)</th>\n",
       "      <td>5.0</td>\n",
       "      <td>0.1313</td>\n",
       "      <td>0.0263</td>\n",
       "      <td>0.6287</td>\n",
       "      <td>0.6782</td>\n",
       "    </tr>\n",
       "    <tr>\n",
       "      <th>Residual</th>\n",
       "      <td>110.0</td>\n",
       "      <td>4.5942</td>\n",
       "      <td>0.0418</td>\n",
       "      <td>NaN</td>\n",
       "      <td>NaN</td>\n",
       "    </tr>\n",
       "  </tbody>\n",
       "</table>\n",
       "</div>"
      ],
      "text/plain": [
       "                       df  sum_sq  mean_sq        F  PR(>F)\n",
       "C(layer)              1.0  0.2674   0.2674   6.4015  0.0128\n",
       "C(module)             5.0  6.4946   1.2989  31.1006  0.0000\n",
       "C(layer):C(module)    5.0  0.1313   0.0263   0.6287  0.6782\n",
       "Residual            110.0  4.5942   0.0418      NaN     NaN"
      ]
     },
     "execution_count": 123,
     "metadata": {},
     "output_type": "execute_result"
    }
   ],
   "source": [
    "aov_table.round(4)"
   ]
  },
  {
   "cell_type": "code",
   "execution_count": 124,
   "metadata": {},
   "outputs": [
    {
     "data": {
      "text/plain": [
       "(0.9805707335472107, 0.07571496814489365)"
      ]
     },
     "execution_count": 124,
     "metadata": {},
     "output_type": "execute_result"
    }
   ],
   "source": [
    "stats.shapiro(model.resid)"
   ]
  },
  {
   "cell_type": "code",
   "execution_count": 125,
   "metadata": {},
   "outputs": [
    {
     "data": {
      "image/png": "[encoded data removed]",
      "text/plain": [
       "<Figure size 432x288 with 1 Axes>"
      ]
     },
     "metadata": {
      "needs_background": "light"
     },
     "output_type": "display_data"
    }
   ],
   "source": [
    "res = model.resid \n",
    "fig = sm.qqplot(res, line='s')\n",
    "plt.show()"
   ]
  },
  {
   "cell_type": "code",
   "execution_count": 126,
   "metadata": {},
   "outputs": [
    {
     "name": "stdout",
     "output_type": "stream",
     "text": [
      "Multiple Comparison of Means - Tukey HSD, FWER=0.05\n",
      "===================================================\n",
      "group1 group2 meandiff p-adj   lower  upper  reject\n",
      "---------------------------------------------------\n",
      " 2/3     5    -0.0966  0.0934 -0.2097 0.0165 False \n",
      "---------------------------------------------------\n"
     ]
    }
   ],
   "source": [
    "mc = MultiComparison(pltdat['proj_dmn_frac'], \n",
    "                     pltdat['layer'])\n",
    "mc_results = mc.tukeyhsd()\n",
    "print(mc_results)"
   ]
  },
  {
   "cell_type": "code",
   "execution_count": 127,
   "metadata": {},
   "outputs": [
    {
     "name": "stdout",
     "output_type": "stream",
     "text": [
      "     Multiple Comparison of Means - Tukey HSD, FWER=0.05      \n",
      "==============================================================\n",
      "   group1      group2   meandiff p-adj   lower   upper  reject\n",
      "--------------------------------------------------------------\n",
      "  Auditory    Lateral    0.2519  0.5725 -0.1973  0.7012 False \n",
      "  Auditory     Medial    0.4931  0.001   0.1496  0.8365  True \n",
      "  Auditory      PFC      0.5974  0.001   0.2722  0.9225  True \n",
      "  Auditory  Somatomotor  0.1609  0.6452 -0.1505  0.4724 False \n",
      "  Auditory     Visual   -0.0307   0.9   -0.3357  0.2743 False \n",
      "  Lateral      Medial    0.2411  0.4563  -0.142  0.6243 False \n",
      "  Lateral       PFC      0.3454  0.0775 -0.0214  0.7122 False \n",
      "  Lateral   Somatomotor  -0.091   0.9   -0.4457  0.2637 False \n",
      "  Lateral      Visual   -0.2826  0.1843 -0.6317  0.0665 False \n",
      "   Medial       PFC      0.1043  0.7336 -0.1208  0.3294 False \n",
      "   Medial   Somatomotor -0.3321  0.001  -0.5369 -0.1273  True \n",
      "   Medial      Visual   -0.5237  0.001  -0.7186 -0.3288  True \n",
      "    PFC     Somatomotor -0.4364  0.001  -0.6088 -0.2641  True \n",
      "    PFC        Visual    -0.628  0.001  -0.7885 -0.4676  True \n",
      "Somatomotor    Visual   -0.1916  0.001   -0.322 -0.0612  True \n",
      "--------------------------------------------------------------\n"
     ]
    }
   ],
   "source": [
    "mc = MultiComparison(pltdat['proj_dmn_frac'], \n",
    "                     pltdat['module'])\n",
    "mc_results = mc.tukeyhsd()\n",
    "print(mc_results)"
   ]
  },
  {
   "cell_type": "code",
   "execution_count": 128,
   "metadata": {},
   "outputs": [
    {
     "name": "stdout",
     "output_type": "stream",
     "text": [
      "PFC\n",
      "Multiple Comparison of Means - Tukey HSD, FWER=0.05 \n",
      "====================================================\n",
      "group1 group2 meandiff p-adj   lower   upper  reject\n",
      "----------------------------------------------------\n",
      " 2/3     5    -0.0795  0.0135 -0.1401 -0.0188  True \n",
      "----------------------------------------------------\n",
      "Somatomotor\n",
      "Multiple Comparison of Means - Tukey HSD, FWER=0.05\n",
      "===================================================\n",
      "group1 group2 meandiff p-adj   lower  upper  reject\n",
      "---------------------------------------------------\n",
      " 2/3     5    -0.0737  0.5252 -0.3058 0.1585 False \n",
      "---------------------------------------------------\n",
      "Medial\n",
      "Multiple Comparison of Means - Tukey HSD, FWER=0.05 \n",
      "====================================================\n",
      "group1 group2 meandiff p-adj   lower   upper  reject\n",
      "----------------------------------------------------\n",
      " 2/3     5    -0.1678  0.0377 -0.3237 -0.0119  True \n",
      "----------------------------------------------------\n",
      "Visual\n",
      "Multiple Comparison of Means - Tukey HSD, FWER=0.05\n",
      "===================================================\n",
      "group1 group2 meandiff p-adj   lower  upper  reject\n",
      "---------------------------------------------------\n",
      " 2/3     5     0.013   0.7976 -0.0847 0.1108 False \n",
      "---------------------------------------------------\n",
      "Auditory\n",
      "Multiple Comparison of Means - Tukey HSD, FWER=0.05\n",
      "==================================================\n",
      "group1 group2 meandiff p-adj  lower  upper  reject\n",
      "--------------------------------------------------\n",
      " 2/3     5    -0.1402  0.3959 -0.703 0.4226 False \n",
      "--------------------------------------------------\n"
     ]
    }
   ],
   "source": [
    "for module in pltdat['module'].unique():\n",
    "    if module != 'Lateral': #not enough points\n",
    "        print(module)\n",
    "        mc = MultiComparison(pltdat[pltdat['module'] == module]['proj_dmn_frac'], \n",
    "                         pltdat[pltdat['module'] == module]['layer'])\n",
    "        mc_results = mc.tukeyhsd()\n",
    "        print(mc_results)"
   ]
  },
  {
   "cell_type": "code",
   "execution_count": 129,
   "metadata": {
    "scrolled": true
   },
   "outputs": [
    {
     "data": {
      "text/html": [
       "<div>\n",
       "<style scoped>\n",
       "    .dataframe tbody tr th:only-of-type {\n",
       "        vertical-align: middle;\n",
       "    }\n",
       "\n",
       "    .dataframe tbody tr th {\n",
       "        vertical-align: top;\n",
       "    }\n",
       "\n",
       "    .dataframe thead th {\n",
       "        text-align: right;\n",
       "    }\n",
       "</style>\n",
       "<table border=\"1\" class=\"dataframe\">\n",
       "  <thead>\n",
       "    <tr style=\"text-align: right;\">\n",
       "      <th></th>\n",
       "      <th>image_series_id</th>\n",
       "      <th>source</th>\n",
       "      <th>module_proj_frac</th>\n",
       "    </tr>\n",
       "  </thead>\n",
       "  <tbody>\n",
       "    <tr>\n",
       "      <th>0</th>\n",
       "      <td>299820770</td>\n",
       "      <td>VISrl</td>\n",
       "      <td>0.587828</td>\n",
       "    </tr>\n",
       "  </tbody>\n",
       "</table>\n",
       "</div>"
      ],
      "text/plain": [
       "   image_series_id source  module_proj_frac\n",
       "0        299820770  VISrl          0.587828"
      ]
     },
     "execution_count": 129,
     "metadata": {},
     "output_type": "execute_result"
    }
   ],
   "source": [
    "mod_proj_dat = pd.read_csv(os.path.join(savepath, 'module_projection_fractions.csv'))\n",
    "mod_proj_dat.head(1)"
   ]
  },
  {
   "cell_type": "code",
   "execution_count": 130,
   "metadata": {},
   "outputs": [],
   "source": [
    "dat = dat.merge(mod_proj_dat[['image_series_id', 'module_proj_frac']],\n",
    "               on = 'image_series_id', how = 'left')"
   ]
  },
  {
   "cell_type": "markdown",
   "metadata": {},
   "source": [
    "dat.drop(columns = {'module_proj_frac_y'}, inplace = True)\n",
    "dat.rename(columns = {'module_proj_frac_x': 'module_proj_frac'}, inplace = True)"
   ]
  },
  {
   "cell_type": "code",
   "execution_count": 131,
   "metadata": {},
   "outputs": [
    {
     "data": {
      "image/png": "[encoded data removed]",
      "text/plain": [
       "<Figure size 54x72 with 1 Axes>"
      ]
     },
     "metadata": {
      "needs_background": "light"
     },
     "output_type": "display_data"
    }
   ],
   "source": [
    "pltdat = dat[dat['consolidated_layer'].isin(['2/3', '5'])]\n",
    "fig, ax = plt.subplots(1, figsize = (0.75, 1))\n",
    "sns.boxplot('Exp Module', 'module_proj_frac', data = pltdat, \n",
    "            order = ['PFC', 'Medial', 'Somatomotor', 'Visual'], ax = ax, \n",
    "            hue = 'consolidated_layer', hue_order = ['2/3', '5'],\n",
    "            palette = ['c', 'gray'], fliersize = 0.1, linewidth = 0.5)\n",
    "ax.axhline(y = 0.5, xmin=0, xmax=100, color = 'gray', linestyle = 'dashed',\n",
    "          linewidth = 0.5, zorder = -1)\n",
    "ax.set_ylim([-0.1,1.1])\n",
    "ax.set_yticks([0, 0.5, 1])\n",
    "ax.set_xticklabels(['Prefrontal', 'Medial', 'Somatomotor', 'Visual'])\n",
    "sns.despine()\n",
    "plt.yticks(fontsize = 7)\n",
    "plt.xticks(rotation = 90, fontsize = 7)\n",
    "ax.set_xlabel(\"\")\n",
    "ax.set_ylabel(\"Intra-Mod Proj Fraction\", fontsize = 7)\n",
    "ax.tick_params(top = False, right = False, bottom = False, left = True)\n",
    "ax.tick_params('y', pad=1)\n",
    "ax.tick_params('x', pad=-3)\n",
    "ax.legend_.remove()\n",
    "plt.savefig(os.path.join(savepath, 'DMN_module_proj_fraction_by_layer_boxplot_horizontal.pdf'), \n",
    "            bbox_inches='tight', pad_inches=0.3, format='pdf', transparent=True, dpi=300)"
   ]
  },
  {
   "cell_type": "code",
   "execution_count": 132,
   "metadata": {},
   "outputs": [
    {
     "name": "stderr",
     "output_type": "stream",
     "text": [
      "/Users/jenniferwh/Dropbox (Allen Institute)/Mesoscale Connectome Papers in Progress/2019 DMN/_new_figures/jupyter_notebooks/env/lib/python3.7/site-packages/pandas/core/frame.py:4238: SettingWithCopyWarning: \n",
      "A value is trying to be set on a copy of a slice from a DataFrame\n",
      "\n",
      "See the caveats in the documentation: http://pandas.pydata.org/pandas-docs/stable/user_guide/indexing.html#returning-a-view-versus-a-copy\n",
      "  return super().rename(**kwargs)\n"
     ]
    }
   ],
   "source": [
    "pltdat.rename(columns = {'Exp Module': 'module'}, inplace = True)\n",
    "formula = 'module_proj_frac~C(layer)*C(module)' \n",
    "model = ols(formula, pltdat).fit()\n",
    "aov_table = anova_lm(model, typ=1)"
   ]
  },
  {
   "cell_type": "code",
   "execution_count": 133,
   "metadata": {},
   "outputs": [
    {
     "data": {
      "text/html": [
       "<div>\n",
       "<style scoped>\n",
       "    .dataframe tbody tr th:only-of-type {\n",
       "        vertical-align: middle;\n",
       "    }\n",
       "\n",
       "    .dataframe tbody tr th {\n",
       "        vertical-align: top;\n",
       "    }\n",
       "\n",
       "    .dataframe thead th {\n",
       "        text-align: right;\n",
       "    }\n",
       "</style>\n",
       "<table border=\"1\" class=\"dataframe\">\n",
       "  <thead>\n",
       "    <tr style=\"text-align: right;\">\n",
       "      <th></th>\n",
       "      <th>df</th>\n",
       "      <th>sum_sq</th>\n",
       "      <th>mean_sq</th>\n",
       "      <th>F</th>\n",
       "      <th>PR(&gt;F)</th>\n",
       "    </tr>\n",
       "  </thead>\n",
       "  <tbody>\n",
       "    <tr>\n",
       "      <th>C(layer)</th>\n",
       "      <td>1.0</td>\n",
       "      <td>0.1855</td>\n",
       "      <td>0.1855</td>\n",
       "      <td>9.5936</td>\n",
       "      <td>0.0025</td>\n",
       "    </tr>\n",
       "    <tr>\n",
       "      <th>C(module)</th>\n",
       "      <td>5.0</td>\n",
       "      <td>1.0171</td>\n",
       "      <td>0.2034</td>\n",
       "      <td>10.5196</td>\n",
       "      <td>0.0000</td>\n",
       "    </tr>\n",
       "    <tr>\n",
       "      <th>C(layer):C(module)</th>\n",
       "      <td>5.0</td>\n",
       "      <td>0.1269</td>\n",
       "      <td>0.0254</td>\n",
       "      <td>1.3129</td>\n",
       "      <td>0.2638</td>\n",
       "    </tr>\n",
       "    <tr>\n",
       "      <th>Residual</th>\n",
       "      <td>110.0</td>\n",
       "      <td>2.1271</td>\n",
       "      <td>0.0193</td>\n",
       "      <td>NaN</td>\n",
       "      <td>NaN</td>\n",
       "    </tr>\n",
       "  </tbody>\n",
       "</table>\n",
       "</div>"
      ],
      "text/plain": [
       "                       df  sum_sq  mean_sq        F  PR(>F)\n",
       "C(layer)              1.0  0.1855   0.1855   9.5936  0.0025\n",
       "C(module)             5.0  1.0171   0.2034  10.5196  0.0000\n",
       "C(layer):C(module)    5.0  0.1269   0.0254   1.3129  0.2638\n",
       "Residual            110.0  2.1271   0.0193      NaN     NaN"
      ]
     },
     "execution_count": 133,
     "metadata": {},
     "output_type": "execute_result"
    }
   ],
   "source": [
    "aov_table.round(4)"
   ]
  },
  {
   "cell_type": "code",
   "execution_count": 134,
   "metadata": {},
   "outputs": [
    {
     "name": "stdout",
     "output_type": "stream",
     "text": [
      "PFC\n",
      "Multiple Comparison of Means - Tukey HSD, FWER=0.05 \n",
      "====================================================\n",
      "group1 group2 meandiff p-adj   lower   upper  reject\n",
      "----------------------------------------------------\n",
      " 2/3     5    -0.1416  0.0345 -0.2716 -0.0117  True \n",
      "----------------------------------------------------\n",
      "Somatomotor\n",
      "Multiple Comparison of Means - Tukey HSD, FWER=0.05 \n",
      "====================================================\n",
      "group1 group2 meandiff p-adj   lower   upper  reject\n",
      "----------------------------------------------------\n",
      " 2/3     5    -0.0995  0.0433 -0.1958 -0.0032  True \n",
      "----------------------------------------------------\n",
      "Auditory\n",
      "Multiple Comparison of Means - Tukey HSD, FWER=0.05\n",
      "===================================================\n",
      "group1 group2 meandiff p-adj   lower  upper  reject\n",
      "---------------------------------------------------\n",
      " 2/3     5     0.0928  0.4847 -0.2786 0.4641 False \n",
      "---------------------------------------------------\n",
      "Medial\n",
      "Multiple Comparison of Means - Tukey HSD, FWER=0.05 \n",
      "====================================================\n",
      "group1 group2 meandiff p-adj   lower   upper  reject\n",
      "----------------------------------------------------\n",
      " 2/3     5    -0.1966  0.0435 -0.3864 -0.0069  True \n",
      "----------------------------------------------------\n",
      "Visual\n",
      "Multiple Comparison of Means - Tukey HSD, FWER=0.05\n",
      "===================================================\n",
      "group1 group2 meandiff p-adj  lower   upper  reject\n",
      "---------------------------------------------------\n",
      " 2/3     5    -0.0891  0.046 -0.1766 -0.0016  True \n",
      "---------------------------------------------------\n"
     ]
    }
   ],
   "source": [
    "for module in pltdat['module'].unique():\n",
    "    if module != 'Lateral': #not enough points\n",
    "        print(module)\n",
    "        mc = MultiComparison(pltdat[pltdat['module'] == module]['module_proj_frac'], \n",
    "                         pltdat[pltdat['module'] == module]['layer'])\n",
    "        mc_results = mc.tukeyhsd()\n",
    "        print(mc_results)"
   ]
  },
  {
   "cell_type": "code",
   "execution_count": null,
   "metadata": {},
   "outputs": [],
   "source": []
  },
  {
   "cell_type": "code",
   "execution_count": null,
   "metadata": {},
   "outputs": [],
   "source": []
  },
  {
   "cell_type": "markdown",
   "metadata": {},
   "source": [
    "## Ipsilateral vs contralateral projections"
   ]
  },
  {
   "cell_type": "code",
   "execution_count": 135,
   "metadata": {},
   "outputs": [
    {
     "name": "stdout",
     "output_type": "stream",
     "text": [
      "350\n"
     ]
    }
   ],
   "source": [
    "ipsi_dat = pd.read_csv(os.path.join(basepath, 'data_files',\n",
    "                                   'wt_cre_matched_layer_injections_DMN_and_core_projections_coefficients_ipsi.csv'))\n",
    "ipsi_dat = ipsi_dat[ipsi_dat['id'].isin(dat['image_series_id'])]\n",
    "ipsi_dat.rename(columns = {'id': 'image_series_id',\n",
    "                          'DMN coefficient': 'dmn_coeff_ipsi',\n",
    "                          'projection dmn fraction': 'dmn_proj_frac_ipsi',\n",
    "                          'distance coefficient': 'distance_coeff_ipsi'}, inplace=True)\n",
    "print(len(ipsi_dat))"
   ]
  },
  {
   "cell_type": "markdown",
   "metadata": {},
   "source": [
    "dat.drop(columns = {'dmn_coeff_ipsi', 'dmn_proj_frac_ipsi'},\n",
    "        inplace = True)"
   ]
  },
  {
   "cell_type": "code",
   "execution_count": 136,
   "metadata": {},
   "outputs": [
    {
     "name": "stdout",
     "output_type": "stream",
     "text": [
      "-0.6106876505495265\n",
      "0.5011403399397816\n"
     ]
    }
   ],
   "source": [
    "print(ipsi_dat['dmn_coeff_ipsi'].min())\n",
    "print(ipsi_dat['dmn_coeff_ipsi'].max())"
   ]
  },
  {
   "cell_type": "code",
   "execution_count": 137,
   "metadata": {},
   "outputs": [],
   "source": [
    "dat = dat.merge(ipsi_dat[['image_series_id', 'dmn_coeff_ipsi', 'distance_coeff_ipsi',\n",
    "                          'dmn_proj_frac_ipsi']], \n",
    "               on = 'image_series_id', how = 'left')"
   ]
  },
  {
   "cell_type": "code",
   "execution_count": 138,
   "metadata": {},
   "outputs": [
    {
     "data": {
      "image/png": "[encoded data removed]",
      "text/plain": [
       "<Figure size 108x108 with 1 Axes>"
      ]
     },
     "metadata": {
      "needs_background": "light"
     },
     "output_type": "display_data"
    }
   ],
   "source": [
    "fig, ax = plt.subplots(figsize = (1.5, 1.5))\n",
    "sns.scatterplot('proj_dmn_frac', 'dmn_proj_frac_ipsi', data = dat,\n",
    "               color = 'k', linewidth = 0, alpha = 0.7)\n",
    "ax.set_ylabel('Ipsi Projections', fontsize = 8)\n",
    "ax.yaxis.labelpad = 1\n",
    "ax.xaxis.labelpad = 1\n",
    "ax.set_xlabel('Ipsi and Contra Projections', fontsize = 8)\n",
    "ax.set_title('DMN Projection Fraction')\n",
    "ax.set_xlim([-0.1, 1.1])\n",
    "ax.set_ylim([-0.1, 1.1])\n",
    "#plt.xticks([0, 50, 100], fontsize = 8)\n",
    "plt.yticks([0, 0.5, 1], fontsize = 8)\n",
    "x = [-0.1, 1.1]\n",
    "y = [-0.1, 1.1]\n",
    "ax.plot(x,y, color = 'gray', linestyle = 'dashed',\n",
    "          linewidth = 0.5)\n",
    "sns.despine()\n",
    "ax.tick_params(top = False, right = False, pad = 1)\n",
    "#everything on zorder -1 or lower will be rasterized\n",
    "ax.set_rasterization_zorder(0)\n",
    "plt.savefig(os.path.join(savepath, 'ipsi_proj_frac.pdf'), \n",
    "            bbox_inches='tight', \n",
    "            pad_inches=0.3, format='pdf', transparent = True, dpi=300)"
   ]
  },
  {
   "cell_type": "code",
   "execution_count": 139,
   "metadata": {},
   "outputs": [
    {
     "data": {
      "image/png": "[encoded data removed]",
      "text/plain": [
       "<Figure size 108x108 with 1 Axes>"
      ]
     },
     "metadata": {
      "needs_background": "light"
     },
     "output_type": "display_data"
    }
   ],
   "source": [
    "fig, ax = plt.subplots(figsize = (1.5, 1.5))\n",
    "sns.scatterplot('dmn_coeff', 'dmn_coeff_ipsi', data = dat,\n",
    "                              color = 'k', linewidth = 0, alpha = 0.7)\n",
    "ax.set_ylabel('Ipsi Projections', fontsize = 8)\n",
    "ax.yaxis.labelpad = 1\n",
    "ax.xaxis.labelpad = 1\n",
    "ax.set_xlabel('Ipsi and Contra Projections', fontsize = 8)\n",
    "ax.set_title('DMN Coefficient')\n",
    "x = [-0.05, 0.05]\n",
    "y = [-0.05, 0.05]\n",
    "ax.plot(x,y, color = 'gray', linestyle = 'dashed',\n",
    "          linewidth = 0.5)\n",
    "sns.despine()\n",
    "ax.tick_params(top = False, right = False, pad = 1)\n",
    "#everything on zorder -1 or lower will be rasterized\n",
    "ax.set_rasterization_zorder(0)\n",
    "plt.savefig(os.path.join(savepath, 'ipsi_dmn_coeff.pdf'), \n",
    "            bbox_inches='tight', \n",
    "            pad_inches=0.3, format='pdf', transparent = True, dpi=300)"
   ]
  },
  {
   "cell_type": "code",
   "execution_count": 140,
   "metadata": {},
   "outputs": [
    {
     "data": {
      "image/png": "[encoded data removed]",
      "text/plain": [
       "<Figure size 108x108 with 1 Axes>"
      ]
     },
     "metadata": {
      "needs_background": "light"
     },
     "output_type": "display_data"
    }
   ],
   "source": [
    "fig, ax = plt.subplots(figsize = (1.5, 1.5))\n",
    "sns.scatterplot('distance coefficient', 'distance_coeff_ipsi', data = dat,\n",
    "                              color = 'k', linewidth = 0, alpha = 0.7)\n",
    "ax.set_ylabel('Ipsi Projections', fontsize = 8)\n",
    "ax.yaxis.labelpad = 1\n",
    "ax.xaxis.labelpad = 1\n",
    "ax.set_xlabel('Ipsi and Contra Projections', fontsize = 8)\n",
    "ax.set_title('Distance Coefficient')\n",
    "#ax.set_xlim([-7, 7])\n",
    "#ax.set_ylim([-7, 7])\n",
    "plt.xticks([-0.3, -0.1, 0.1], fontsize = 8)\n",
    "plt.yticks([-0.3, -0.1, 0.1], fontsize = 8)\n",
    "x = [-0.3, 0.1]\n",
    "y = [-0.3, 0.1]\n",
    "ax.plot(x,y, color = 'gray', linestyle = 'dashed',\n",
    "          linewidth = 0.5)\n",
    "sns.despine()\n",
    "ax.tick_params(top = False, right = False)\n",
    "ax.yaxis.labelpad = -1\n",
    "ax.tick_params('y', pad=1)\n",
    "#everything on zorder -1 or lower will be rasterized\n",
    "ax.set_rasterization_zorder(0)\n",
    "plt.savefig(os.path.join(savepath, 'ipsi_distance_coeff.pdf'), \n",
    "            bbox_inches='tight', \n",
    "            pad_inches=0.3, format='pdf', transparent = True, dpi=300)"
   ]
  },
  {
   "cell_type": "code",
   "execution_count": 141,
   "metadata": {},
   "outputs": [
    {
     "data": {
      "text/plain": [
       "['all', '5', '2/3', '6', '5 PT', '4']"
      ]
     },
     "execution_count": 141,
     "metadata": {},
     "output_type": "execute_result"
    }
   ],
   "source": [
    "layer_plot_order"
   ]
  },
  {
   "cell_type": "code",
   "execution_count": 142,
   "metadata": {},
   "outputs": [
    {
     "data": {
      "text/plain": [
       "array(['all', '5', '2/3', '5 PT', '4', '6'], dtype=object)"
      ]
     },
     "execution_count": 142,
     "metadata": {},
     "output_type": "execute_result"
    }
   ],
   "source": [
    "dat['layer'].unique()"
   ]
  },
  {
   "cell_type": "code",
   "execution_count": 190,
   "metadata": {},
   "outputs": [
    {
     "data": {
      "image/png": "[encoded data removed]",
      "text/plain": [
       "<Figure size 108x108 with 1 Axes>"
      ]
     },
     "metadata": {
      "needs_background": "light"
     },
     "output_type": "display_data"
    }
   ],
   "source": [
    "layer_plot_order = ['6', '5 PT', '2/3', '4', 'all', '5']\n",
    "layer_colors = ['gold', 'b', 'c', 'm', 'k', 'gray']\n",
    "fig, ax = plt.subplots(figsize = (1.5, 1.5))\n",
    "zorder = 7\n",
    "for ix, layer in enumerate(layer_plot_order):\n",
    "    zorder -= 1\n",
    "    ax1 = sns.regplot(x='inj_dmn_frac', \n",
    "                      y='dmn_proj_frac_ipsi', \n",
    "                      data = dat[dat['layer'] == layer],\n",
    "                      ax = ax,\n",
    "                      label = layer,\n",
    "                      color = layer_colors[ix],\n",
    "                      ci = None,\n",
    "                      line_kws = {'zorder': zorder},\n",
    "                      scatter_kws={'s':10,\n",
    "                                  'alpha': 0.7,\n",
    "                                  'linewidth':0.5,\n",
    "                                  'edgecolor':'k'})\n",
    "ax.set_ylabel('Projection DMN Fraction', fontsize = 7)\n",
    "ax.yaxis.labelpad = 1\n",
    "ax.xaxis.labelpad = 1\n",
    "ax.set_xlabel('Injection DMN Fraction', fontsize = 7)\n",
    "ax.set_xlim([-0.1,1.1])\n",
    "ax.set_ylim([-0.1,1.1])\n",
    "#plt.xticks([0, 50, 100], fontsize = 8)\n",
    "#plt.yticks([0, 50, 100], fontsize = 8)\n",
    "ax.axhline(y = 0.5, xmin=-0.1, xmax=1.1, color = 'gray', linestyle = 'dashed',\n",
    "          linewidth = 0.5)\n",
    "\n",
    "handles, labels = plt.gca().get_legend_handles_labels()\n",
    "labels = ['L6', 'L5 PT', 'L2/3', 'L4', 'All', 'L5 IT']\n",
    "order = [4,2,5,3,1,0]\n",
    "plt.legend([handles[idx] for idx in order],[labels[idx] for idx in order],\n",
    "          loc = 2, fontsize = 5, frameon = False,\n",
    "          bbox_to_anchor = [-0.05, 1.1], labelspacing = 0.2)\n",
    "plt.setp(legend.get_title(),fontsize=7)\n",
    "sns.despine()\n",
    "ax.tick_params(top = False, right = False, left = True, bottom = True, pad = 1)\n",
    "#everything on zorder -1 or lower will be rasterized\n",
    "ax.set_rasterization_zorder(0)\n",
    "plt.savefig(os.path.join(savepath, 'ipsi_DMN_proj_frac_by_layers.pdf'), \n",
    "            bbox_inches='tight', \n",
    "            pad_inches=0.3, format='pdf', transparent = True, dpi=300)"
   ]
  },
  {
   "cell_type": "code",
   "execution_count": 144,
   "metadata": {},
   "outputs": [
    {
     "data": {
      "image/png": "[encoded data removed]",
      "text/plain": [
       "<Figure size 36x28.8 with 1 Axes>"
      ]
     },
     "metadata": {
      "needs_background": "light"
     },
     "output_type": "display_data"
    }
   ],
   "source": [
    "layer_plot_order = ['all', '5', '2/3', '4', '5 PT', '6']\n",
    "layer_colors = ['k', 'gray', 'c', 'm', 'b', 'gold']\n",
    "fig, ax = plt.subplots(figsize = (0.5,0.4))\n",
    "sns.boxplot(x='dmn_by_ol', \n",
    "            y='dmn_proj_frac_ipsi', \n",
    "            order = ['out', 'in'],\n",
    "                data = dat,\n",
    "                 hue = 'layer',\n",
    "                 hue_order = layer_plot_order,\n",
    "                 palette = layer_colors,\n",
    "                ax = ax,\n",
    "            linewidth = 0.5,\n",
    "           fliersize = 0.1)\n",
    "sns.despine()\n",
    "ax.set_ylim([-0.1,1.1])\n",
    "ax.set_yticks([0, 0.5, 1])\n",
    "ax.set_xticklabels(['<0.5', '>0.5'], fontsize = 5)\n",
    "ax.set_yticklabels([0, 0.5, 1], fontsize = 5)\n",
    "ax.set_xlabel(\"\")\n",
    "ax.set_ylabel(\"\")\n",
    "ax.tick_params(bottom=False, left = False, pad=-3)\n",
    "ax.axhline(y = 0.5, xmin=0, xmax=1, color = 'gray', linestyle = 'dashed',\n",
    "          linewidth = 0.5, zorder = -1)\n",
    "ax.legend_.remove()\n",
    "plt.savefig(os.path.join(savepath, 'DMN_proj_fraction_boxplot_by_inj_frac_ipsi_all_layers.pdf'), \n",
    "            bbox_inches='tight', \n",
    "            pad_inches=0.3, format='pdf', transparent = True, dpi=300)"
   ]
  },
  {
   "cell_type": "code",
   "execution_count": 145,
   "metadata": {},
   "outputs": [],
   "source": [
    "formula = 'dmn_proj_frac_ipsi~dmn_by_ol*C(layer)' \n",
    "model = ols(formula, dat).fit()\n",
    "aov_table = anova_lm(model, typ=2) #http://www.utstat.utoronto.ca/reid/sta442f/2009/typeSS.pdf"
   ]
  },
  {
   "cell_type": "code",
   "execution_count": 146,
   "metadata": {},
   "outputs": [
    {
     "data": {
      "text/html": [
       "<div>\n",
       "<style scoped>\n",
       "    .dataframe tbody tr th:only-of-type {\n",
       "        vertical-align: middle;\n",
       "    }\n",
       "\n",
       "    .dataframe tbody tr th {\n",
       "        vertical-align: top;\n",
       "    }\n",
       "\n",
       "    .dataframe thead th {\n",
       "        text-align: right;\n",
       "    }\n",
       "</style>\n",
       "<table border=\"1\" class=\"dataframe\">\n",
       "  <thead>\n",
       "    <tr style=\"text-align: right;\">\n",
       "      <th></th>\n",
       "      <th>sum_sq</th>\n",
       "      <th>df</th>\n",
       "      <th>F</th>\n",
       "      <th>PR(&gt;F)</th>\n",
       "    </tr>\n",
       "  </thead>\n",
       "  <tbody>\n",
       "    <tr>\n",
       "      <th>dmn_by_ol</th>\n",
       "      <td>38.1618</td>\n",
       "      <td>1.0</td>\n",
       "      <td>2643.0190</td>\n",
       "      <td>0.0000</td>\n",
       "    </tr>\n",
       "    <tr>\n",
       "      <th>C(layer)</th>\n",
       "      <td>0.1208</td>\n",
       "      <td>5.0</td>\n",
       "      <td>1.6734</td>\n",
       "      <td>0.1404</td>\n",
       "    </tr>\n",
       "    <tr>\n",
       "      <th>dmn_by_ol:C(layer)</th>\n",
       "      <td>1.4302</td>\n",
       "      <td>5.0</td>\n",
       "      <td>19.8103</td>\n",
       "      <td>0.0000</td>\n",
       "    </tr>\n",
       "    <tr>\n",
       "      <th>Residual</th>\n",
       "      <td>4.8803</td>\n",
       "      <td>338.0</td>\n",
       "      <td>NaN</td>\n",
       "      <td>NaN</td>\n",
       "    </tr>\n",
       "  </tbody>\n",
       "</table>\n",
       "</div>"
      ],
      "text/plain": [
       "                     sum_sq     df          F  PR(>F)\n",
       "dmn_by_ol           38.1618    1.0  2643.0190  0.0000\n",
       "C(layer)             0.1208    5.0     1.6734  0.1404\n",
       "dmn_by_ol:C(layer)   1.4302    5.0    19.8103  0.0000\n",
       "Residual             4.8803  338.0        NaN     NaN"
      ]
     },
     "execution_count": 146,
     "metadata": {},
     "output_type": "execute_result"
    }
   ],
   "source": [
    "aov_table.round(4)"
   ]
  },
  {
   "cell_type": "code",
   "execution_count": 147,
   "metadata": {
    "scrolled": true
   },
   "outputs": [
    {
     "name": "stdout",
     "output_type": "stream",
     "text": [
      "Multiple Comparison of Means - Tukey HSD, FWER=0.05 \n",
      "====================================================\n",
      "group1 group2 meandiff p-adj   lower   upper  reject\n",
      "----------------------------------------------------\n",
      " 2/3     4    -0.0266   0.9   -0.1541  0.1009 False \n",
      " 2/3     5    -0.1255  0.0129 -0.2337 -0.0173  True \n",
      " 2/3    5 PT   0.023    0.9   -0.0784  0.1243 False \n",
      " 2/3     6     0.0555  0.6723  -0.055  0.1661 False \n",
      " 2/3    all   -0.0785  0.448  -0.2018  0.0449 False \n",
      "  4      5    -0.0989  0.1669 -0.2184  0.0206 False \n",
      "  4     5 PT   0.0496  0.7791 -0.0637  0.1629 False \n",
      "  4      6     0.0821  0.3781 -0.0395  0.2038 False \n",
      "  4     all   -0.0519  0.8593 -0.1852  0.0815 False \n",
      "  5     5 PT   0.1485  0.001   0.0575  0.2395  True \n",
      "  5      6     0.181   0.001   0.0798  0.2822  True \n",
      "  5     all    0.047   0.8267  -0.068  0.162  False \n",
      " 5 PT    6     0.0325   0.9   -0.0613  0.1264 False \n",
      " 5 PT   all   -0.1015  0.0821 -0.2101  0.0071 False \n",
      "  6     all    -0.134  0.0151 -0.2513 -0.0167  True \n",
      "----------------------------------------------------\n"
     ]
    }
   ],
   "source": [
    "mc = MultiComparison(dat[(dat['dmn_by_ol'] == 'in')]['dmn_proj_frac_ipsi'], \n",
    "                     dat[(dat['dmn_by_ol'] == 'in')]['layer'])\n",
    "mc_results = mc.tukeyhsd()\n",
    "print(mc_results)"
   ]
  },
  {
   "cell_type": "code",
   "execution_count": 148,
   "metadata": {
    "scrolled": true
   },
   "outputs": [
    {
     "name": "stdout",
     "output_type": "stream",
     "text": [
      "Multiple Comparison of Means - Tukey HSD, FWER=0.05 \n",
      "====================================================\n",
      "group1 group2 meandiff p-adj   lower   upper  reject\n",
      "----------------------------------------------------\n",
      " 2/3     4    -0.0528  0.4927 -0.1392  0.0335 False \n",
      " 2/3     5     0.0047   0.9   -0.0731  0.0825 False \n",
      " 2/3    5 PT  -0.1249  0.001  -0.2048 -0.0451  True \n",
      " 2/3     6     -0.17   0.001  -0.2526 -0.0875  True \n",
      " 2/3    all   -0.0111   0.9   -0.1009  0.0787 False \n",
      "  4      5     0.0576  0.2368 -0.0173  0.1325 False \n",
      "  4     5 PT  -0.0721  0.0816 -0.1491  0.005  False \n",
      "  4      6    -0.1172  0.001  -0.1971 -0.0373  True \n",
      "  4     all    0.0417  0.7143 -0.0456  0.1291 False \n",
      "  5     5 PT  -0.1296  0.001   -0.197 -0.0623  True \n",
      "  5      6    -0.1748  0.001  -0.2453 -0.1042  True \n",
      "  5     all   -0.0158   0.9   -0.0947  0.063  False \n",
      " 5 PT    6    -0.0451  0.4785 -0.1179  0.0277 False \n",
      " 5 PT   all    0.1138  0.001   0.0329  0.1947  True \n",
      "  6     all    0.1589  0.001   0.0753  0.2425  True \n",
      "----------------------------------------------------\n"
     ]
    }
   ],
   "source": [
    "mc = MultiComparison(dat[(dat['dmn_by_ol'] == 'out')]['dmn_proj_frac_ipsi'], \n",
    "                     dat[(dat['dmn_by_ol'] == 'out')]['layer'])\n",
    "mc_results = mc.tukeyhsd()\n",
    "print(mc_results)"
   ]
  },
  {
   "cell_type": "code",
   "execution_count": 149,
   "metadata": {},
   "outputs": [
    {
     "data": {
      "text/plain": [
       "-0.6106876505495265"
      ]
     },
     "execution_count": 149,
     "metadata": {},
     "output_type": "execute_result"
    }
   ],
   "source": [
    "dat['dmn_coeff_ipsi'].min()"
   ]
  },
  {
   "cell_type": "code",
   "execution_count": 191,
   "metadata": {},
   "outputs": [
    {
     "data": {
      "image/png": "[encoded data removed]",
      "text/plain": [
       "<Figure size 108x108 with 1 Axes>"
      ]
     },
     "metadata": {
      "needs_background": "light"
     },
     "output_type": "display_data"
    }
   ],
   "source": [
    "layer_plot_order = ['all', '2/3', '4', '5', '5 PT', '6']\n",
    "layer_colors = ['k', 'c', 'm', 'gray', 'b', 'gold']\n",
    "fig, ax = plt.subplots(figsize = (1.5, 1.5))\n",
    "zorder = 7\n",
    "for ix, layer in enumerate(layer_plot_order):\n",
    "    zorder -= 1\n",
    "    ax1 = sns.regplot(x='inj_dmn_frac', \n",
    "                      y='dmn_coeff_ipsi', \n",
    "                      data = dat[dat['layer'] == layer],\n",
    "                      ax = ax,\n",
    "                      label = layer,\n",
    "                      color = layer_colors[ix],\n",
    "                      ci = None,\n",
    "                      line_kws = {'zorder': zorder},\n",
    "                      scatter_kws={'s':10,\n",
    "                                  'alpha': 0.7,\n",
    "                                  'linewidth':0.5,\n",
    "                                  'edgecolor':'k'})\n",
    "ax.set_ylabel('DMN Coefficient', fontsize = 7)\n",
    "ax.yaxis.labelpad = 1\n",
    "ax.xaxis.labelpad = 1\n",
    "ax.set_xlabel('Injection DMN Fraction', fontsize = 7)\n",
    "ax.set_xlim([-0.1,1.1])\n",
    "ax.set_ylim([-0.65, 0.65])\n",
    "plt.yticks([-0.5, 0, 0.5], fontsize = 7)\n",
    "plt.xticks([0, 0.5, 1], fontsize = 7)\n",
    "#ax.set_title('Ipsi')\n",
    "#plt.yticks([0, 50, 100], fontsize = 8)\n",
    "ax.axhline(y = 0, xmin=0, xmax=1, color = 'gray', linestyle = 'dashed',\n",
    "          linewidth = 0.5, zorder = -1)\n",
    "sns.despine()\n",
    "ax.tick_params(top = False, right = False, left = True, bottom = True, pad = 1)\n",
    "#everything on zorder -1 or lower will be rasterized\n",
    "ax.set_rasterization_zorder(0)\n",
    "plt.savefig(os.path.join(savepath, 'ipsi_DMN_coeff_by_layers.pdf'), \n",
    "            bbox_inches='tight', \n",
    "            pad_inches=0.3, format='pdf', transparent = True, dpi=300)"
   ]
  },
  {
   "cell_type": "code",
   "execution_count": 151,
   "metadata": {},
   "outputs": [
    {
     "data": {
      "text/plain": [
       "F_onewayResult(statistic=1.492445350624586, pvalue=0.19159151199101537)"
      ]
     },
     "execution_count": 151,
     "metadata": {},
     "output_type": "execute_result"
    }
   ],
   "source": [
    "stats.f_oneway(dat[dat['layer'] == '6']['dmn_coeff_ipsi'],\n",
    "               dat[dat['layer'] == '2/3']['dmn_coeff_ipsi'],\n",
    "               dat[dat['layer'] == '4']['dmn_coeff_ipsi'],\n",
    "               dat[dat['layer'] == '5']['dmn_coeff_ipsi'],\n",
    "               dat[dat['layer'] == 'all']['dmn_coeff_ipsi'],\n",
    "               dat[dat['layer'] == '5 PT']['dmn_coeff_ipsi'])"
   ]
  },
  {
   "cell_type": "code",
   "execution_count": 152,
   "metadata": {},
   "outputs": [
    {
     "name": "stdout",
     "output_type": "stream",
     "text": [
      "-0.02703230604244651\n",
      "0.009151184327772085\n"
     ]
    }
   ],
   "source": [
    "print(dat['distance_coeff_ipsi'].min())\n",
    "print(dat['distance_coeff_ipsi'].max())"
   ]
  },
  {
   "cell_type": "code",
   "execution_count": 192,
   "metadata": {},
   "outputs": [
    {
     "data": {
      "image/png": "[encoded data removed]",
      "text/plain": [
       "<Figure size 108x108 with 1 Axes>"
      ]
     },
     "metadata": {
      "needs_background": "light"
     },
     "output_type": "display_data"
    }
   ],
   "source": [
    "layer_plot_order = ['all', '2/3', '4', '5', '5 PT', '6']\n",
    "layer_colors = ['k', 'c', 'm', 'gray', 'b', 'gold']\n",
    "fig, ax = plt.subplots(figsize = (1.5, 1.5))\n",
    "zorder = 7\n",
    "for ix, layer in enumerate(layer_plot_order):\n",
    "    zorder -= 1\n",
    "    ax1 = sns.regplot(x='inj_dmn_frac', \n",
    "                      y='distance_coeff_ipsi', \n",
    "                      data = dat[dat['layer'] == layer],\n",
    "                      ax = ax,\n",
    "                      label = layer,\n",
    "                      color = layer_colors[ix],\n",
    "                      ci = None,\n",
    "                      line_kws = {'zorder': zorder},\n",
    "                      scatter_kws={'s':10,\n",
    "                                  'alpha': 0.7,\n",
    "                                  'linewidth':0.5,\n",
    "                                  'edgecolor':'k'})\n",
    "ax.set_ylabel('Distance Coefficient', fontsize = 7)\n",
    "ax.yaxis.labelpad = 1\n",
    "ax.xaxis.labelpad = 1\n",
    "ax.set_xlabel('Injection DMN Fraction', fontsize = 7)\n",
    "ax.set_xlim([-0.1,1.1])\n",
    "ax.set_ylim([-0.03, 0.01])\n",
    "plt.xticks([0, 0.5, 1], fontsize = 7)\n",
    "plt.yticks([-0.03, -0.01, 0.01], fontsize = 7)\n",
    "plt.xticks([0, 0.5, 1], fontsize = 7)\n",
    "#plt.yticks([0, 50, 100], fontsize = 8)\n",
    "#ax.set_title('Ipsi')\n",
    "ax.axhline(y = 0, xmin=0, xmax=100, color = 'gray', linestyle = 'dashed',\n",
    "          linewidth = 0.5)\n",
    "sns.despine()\n",
    "ax.tick_params(top = False, right = False, left = True, bottom = True, pad = 1)\n",
    "#everything on zorder -1 or lower will be rasterized\n",
    "ax.set_rasterization_zorder(0)\n",
    "plt.savefig(os.path.join(savepath, 'ipsi_distance_coeff_by_layers.pdf'), \n",
    "            bbox_inches='tight', \n",
    "            pad_inches=0.3, format='pdf', transparent = True, dpi=300)"
   ]
  },
  {
   "cell_type": "code",
   "execution_count": 154,
   "metadata": {},
   "outputs": [],
   "source": [
    "pltdat = dat[['dmn_by_ol', 'layer', 'dmn_coeff_ipsi']].melt(id_vars = ['dmn_by_ol', 'layer'],\n",
    "                                                       value_vars = 'dmn_coeff_ipsi',\n",
    "                                                      var_name = 'coefficient')\n",
    "pltdat2 = dat[['dmn_by_ol', 'layer', 'distance_coeff_ipsi']].melt(id_vars = \n",
    "                                                                   ['dmn_by_ol', 'layer'],\n",
    "                                                     value_vars = 'distance_coeff_ipsi',\n",
    "                                                     var_name = 'coefficient')\n",
    "#pltdat2['dmn_by_ol'] = 'both'"
   ]
  },
  {
   "cell_type": "code",
   "execution_count": 155,
   "metadata": {},
   "outputs": [
    {
     "data": {
      "text/html": [
       "<div>\n",
       "<style scoped>\n",
       "    .dataframe tbody tr th:only-of-type {\n",
       "        vertical-align: middle;\n",
       "    }\n",
       "\n",
       "    .dataframe tbody tr th {\n",
       "        vertical-align: top;\n",
       "    }\n",
       "\n",
       "    .dataframe thead th {\n",
       "        text-align: right;\n",
       "    }\n",
       "</style>\n",
       "<table border=\"1\" class=\"dataframe\">\n",
       "  <thead>\n",
       "    <tr style=\"text-align: right;\">\n",
       "      <th></th>\n",
       "      <th>sum_sq</th>\n",
       "      <th>df</th>\n",
       "      <th>F</th>\n",
       "      <th>PR(&gt;F)</th>\n",
       "    </tr>\n",
       "  </thead>\n",
       "  <tbody>\n",
       "    <tr>\n",
       "      <th>Intercept</th>\n",
       "      <td>0.0009</td>\n",
       "      <td>1.0</td>\n",
       "      <td>36.9111</td>\n",
       "      <td>0.0000</td>\n",
       "    </tr>\n",
       "    <tr>\n",
       "      <th>C(layer)</th>\n",
       "      <td>0.0013</td>\n",
       "      <td>5.0</td>\n",
       "      <td>11.1482</td>\n",
       "      <td>0.0000</td>\n",
       "    </tr>\n",
       "    <tr>\n",
       "      <th>dmn_by_ol</th>\n",
       "      <td>0.0000</td>\n",
       "      <td>1.0</td>\n",
       "      <td>0.1462</td>\n",
       "      <td>0.7025</td>\n",
       "    </tr>\n",
       "    <tr>\n",
       "      <th>C(layer):dmn_by_ol</th>\n",
       "      <td>0.0001</td>\n",
       "      <td>5.0</td>\n",
       "      <td>0.7446</td>\n",
       "      <td>0.5906</td>\n",
       "    </tr>\n",
       "    <tr>\n",
       "      <th>Residual</th>\n",
       "      <td>0.0080</td>\n",
       "      <td>338.0</td>\n",
       "      <td>NaN</td>\n",
       "      <td>NaN</td>\n",
       "    </tr>\n",
       "  </tbody>\n",
       "</table>\n",
       "</div>"
      ],
      "text/plain": [
       "                    sum_sq     df        F  PR(>F)\n",
       "Intercept           0.0009    1.0  36.9111  0.0000\n",
       "C(layer)            0.0013    5.0  11.1482  0.0000\n",
       "dmn_by_ol           0.0000    1.0   0.1462  0.7025\n",
       "C(layer):dmn_by_ol  0.0001    5.0   0.7446  0.5906\n",
       "Residual            0.0080  338.0      NaN     NaN"
      ]
     },
     "execution_count": 155,
     "metadata": {},
     "output_type": "execute_result"
    }
   ],
   "source": [
    "formula = 'value~C(layer)*dmn_by_ol' \n",
    "model = ols(formula, pltdat2).fit()\n",
    "aov_table = anova_lm(model, typ=3)\n",
    "aov_table.round(4)"
   ]
  },
  {
   "cell_type": "code",
   "execution_count": 156,
   "metadata": {},
   "outputs": [
    {
     "data": {
      "text/html": [
       "<div>\n",
       "<style scoped>\n",
       "    .dataframe tbody tr th:only-of-type {\n",
       "        vertical-align: middle;\n",
       "    }\n",
       "\n",
       "    .dataframe tbody tr th {\n",
       "        vertical-align: top;\n",
       "    }\n",
       "\n",
       "    .dataframe thead th {\n",
       "        text-align: right;\n",
       "    }\n",
       "</style>\n",
       "<table border=\"1\" class=\"dataframe\">\n",
       "  <thead>\n",
       "    <tr style=\"text-align: right;\">\n",
       "      <th></th>\n",
       "      <th>sum_sq</th>\n",
       "      <th>df</th>\n",
       "      <th>F</th>\n",
       "      <th>PR(&gt;F)</th>\n",
       "    </tr>\n",
       "  </thead>\n",
       "  <tbody>\n",
       "    <tr>\n",
       "      <th>C(layer)</th>\n",
       "      <td>0.0034</td>\n",
       "      <td>5.0</td>\n",
       "      <td>28.7904</td>\n",
       "      <td>0.0</td>\n",
       "    </tr>\n",
       "    <tr>\n",
       "      <th>Residual</th>\n",
       "      <td>0.0081</td>\n",
       "      <td>344.0</td>\n",
       "      <td>NaN</td>\n",
       "      <td>NaN</td>\n",
       "    </tr>\n",
       "  </tbody>\n",
       "</table>\n",
       "</div>"
      ],
      "text/plain": [
       "          sum_sq     df        F  PR(>F)\n",
       "C(layer)  0.0034    5.0  28.7904     0.0\n",
       "Residual  0.0081  344.0      NaN     NaN"
      ]
     },
     "execution_count": 156,
     "metadata": {},
     "output_type": "execute_result"
    }
   ],
   "source": [
    "formula = 'value~C(layer)' \n",
    "model = ols(formula, pltdat2).fit()\n",
    "aov_table = anova_lm(model, typ=2)\n",
    "aov_table.round(4)"
   ]
  },
  {
   "cell_type": "code",
   "execution_count": 157,
   "metadata": {},
   "outputs": [
    {
     "name": "stdout",
     "output_type": "stream",
     "text": [
      "Multiple Comparison of Means - Tukey HSD, FWER=0.05 \n",
      "====================================================\n",
      "group1 group2 meandiff p-adj   lower   upper  reject\n",
      "----------------------------------------------------\n",
      " 2/3     4     0.0032  0.0236  0.0003  0.0062  True \n",
      " 2/3     5    -0.0017  0.4167 -0.0043  0.0009 False \n",
      " 2/3    5 PT   0.0036  0.001   0.0011  0.0062  True \n",
      " 2/3     6     0.0044  0.001   0.0017  0.0071  True \n",
      " 2/3    all   -0.0047  0.001  -0.0077 -0.0017  True \n",
      "  4      5    -0.0049  0.001  -0.0076 -0.0023  True \n",
      "  4     5 PT   0.0004   0.9   -0.0022  0.003  False \n",
      "  4      6     0.0012  0.8095 -0.0016  0.0039 False \n",
      "  4     all   -0.0079  0.001  -0.0109 -0.0049  True \n",
      "  5     5 PT   0.0053  0.001   0.0031  0.0075  True \n",
      "  5      6     0.0061  0.001   0.0037  0.0085  True \n",
      "  5     all    -0.003  0.022  -0.0057 -0.0003  True \n",
      " 5 PT    6     0.0008   0.9   -0.0016  0.0031 False \n",
      " 5 PT   all   -0.0083  0.001  -0.0109 -0.0056  True \n",
      "  6     all   -0.0091  0.001  -0.0119 -0.0062  True \n",
      "----------------------------------------------------\n"
     ]
    }
   ],
   "source": [
    "mc = MultiComparison(pltdat2['value'], \n",
    "                     pltdat2['layer'])\n",
    "mc_results = mc.tukeyhsd()\n",
    "print(mc_results)"
   ]
  },
  {
   "cell_type": "code",
   "execution_count": 158,
   "metadata": {},
   "outputs": [
    {
     "data": {
      "image/png": "[encoded data removed]",
      "text/plain": [
       "<Figure size 36x108 with 1 Axes>"
      ]
     },
     "metadata": {
      "needs_background": "light"
     },
     "output_type": "display_data"
    }
   ],
   "source": [
    "layer_plot_order = ['all', '5', '2/3', '4', '5 PT', '6']\n",
    "layer_colors = ['k', 'gray',  'c', 'm', 'b', 'gold']\n",
    "pltdat2['dmn_by_ol'] = 'both'\n",
    "fig, ax = plt.subplots(figsize = (0.5,1.5))\n",
    "sns.boxplot(x='dmn_by_ol', \n",
    "                y='value', \n",
    "            order = ['both'],\n",
    "                data = pltdat2,\n",
    "                 hue = 'layer',\n",
    "                 hue_order = layer_plot_order,\n",
    "                 palette = layer_colors,\n",
    "                ax = ax,\n",
    "            linewidth = 0.5,\n",
    "           fliersize = 0.1)\n",
    "sns.despine(left = True)\n",
    "ax.set_ylim([-0.03, 0.01])\n",
    "plt.yticks([-0.03, -0.01, 0.01], fontsize = 8)\n",
    "ax.set_xticklabels(['All'], fontsize = 8)\n",
    "ax.set_yticklabels([None])\n",
    "ax.set_xlabel(\"\", fontsize = 8)\n",
    "ax.set_ylabel(\"\")\n",
    "ax.tick_params(left = False, pad=1)\n",
    "ax.axhline(y = 0, xmin=0, xmax=1, color = 'gray', linestyle = 'dashed',\n",
    "          linewidth = 0.5, zorder = -1)\n",
    "ax.legend_.remove()\n",
    "plt.savefig(os.path.join(savepath, 'distance_coeff_ipsi_boxplot_all_layers.pdf'), \n",
    "            bbox_inches='tight', \n",
    "            pad_inches=0.3, format='pdf', transparent = True, dpi=300)"
   ]
  },
  {
   "cell_type": "code",
   "execution_count": 159,
   "metadata": {},
   "outputs": [
    {
     "data": {
      "text/plain": [
       "0.5011403399397816"
      ]
     },
     "execution_count": 159,
     "metadata": {},
     "output_type": "execute_result"
    }
   ],
   "source": [
    "pltdat['value'].max()"
   ]
  },
  {
   "cell_type": "code",
   "execution_count": 160,
   "metadata": {},
   "outputs": [
    {
     "data": {
      "image/png": "[encoded data removed]",
      "text/plain": [
       "<Figure size 72x108 with 1 Axes>"
      ]
     },
     "metadata": {
      "needs_background": "light"
     },
     "output_type": "display_data"
    }
   ],
   "source": [
    "layer_plot_order = ['all', '5', '2/3', '6', '5 PT', '4']\n",
    "layer_colors = [ 'k', 'gray',  'c', 'gold', 'b','m']\n",
    "fig, ax = plt.subplots(figsize = (1,1.5))\n",
    "sns.boxplot(x='dmn_by_ol', \n",
    "                y='value', \n",
    "            order = ['out', 'in'],\n",
    "                data = pltdat,\n",
    "                 hue = 'layer',\n",
    "                 hue_order = layer_plot_order,\n",
    "                 palette = layer_colors,\n",
    "                ax = ax,\n",
    "            linewidth = 0.5,\n",
    "           fliersize = 0.1)\n",
    "sns.despine(left = True)\n",
    "ax.set_ylim([-0.65, 0.65])\n",
    "plt.yticks([-0.5, 0, 0.5], fontsize = 8)\n",
    "ax.set_xticklabels(['<0.5', '>0.5'], fontsize = 8)\n",
    "ax.set_yticklabels([None])\n",
    "ax.set_xlabel(\"Inj. DMN Frac.\", fontsize = 8)\n",
    "ax.set_ylabel(\"\")\n",
    "ax.tick_params(left = False, pad=1)\n",
    "ax.axhline(y = 0, xmin=0, xmax=1, color = 'gray', linestyle = 'dashed',\n",
    "          linewidth = 0.5, zorder = -1)\n",
    "ax.legend_.remove()\n",
    "plt.savefig(os.path.join(savepath, 'DMN_coeff_ipsi_boxplot_all_layers.pdf'), \n",
    "            bbox_inches='tight', \n",
    "            pad_inches=0.3, format='pdf', transparent = True, dpi=300)"
   ]
  },
  {
   "cell_type": "code",
   "execution_count": 161,
   "metadata": {},
   "outputs": [
    {
     "data": {
      "image/png": "[encoded data removed]",
      "text/plain": [
       "<Figure size 36x108 with 1 Axes>"
      ]
     },
     "metadata": {
      "needs_background": "light"
     },
     "output_type": "display_data"
    }
   ],
   "source": [
    "formula = 'value~dmn_by_ol+C(layer)' \n",
    "layer_plot_order = ['all', '5', '2/3', '4', '5 PT', '6']\n",
    "layer_colors = ['k', 'gray',  'c', 'm', 'b', 'gold']\n",
    "pltdat['dmn_by_ol'] = 'both'\n",
    "fig, ax = plt.subplots(figsize = (0.5,1.5))\n",
    "sns.boxplot(x='dmn_by_ol', \n",
    "                y='value', \n",
    "            order = ['both'],\n",
    "                data = pltdat,\n",
    "                 hue = 'layer',\n",
    "                 hue_order = layer_plot_order,\n",
    "                 palette = layer_colors,\n",
    "                ax = ax,\n",
    "            linewidth = 0.5,\n",
    "           fliersize = 0.1)\n",
    "sns.despine(left = True)\n",
    "ax.set_ylim([-0.65, 0.65])\n",
    "plt.yticks([-0.5, 0, 0.5], fontsize = 8)\n",
    "ax.set_xticklabels(['All'], fontsize = 8)\n",
    "ax.set_yticklabels([None])\n",
    "ax.set_xlabel(\"\", fontsize = 8)\n",
    "ax.set_ylabel(\"\")\n",
    "ax.tick_params(left = False, pad=1)\n",
    "ax.axhline(y = 0, xmin=0, xmax=1, color = 'gray', linestyle = 'dashed',\n",
    "          linewidth = 0.5, zorder = -1)\n",
    "ax.legend_.remove()\n",
    "plt.savefig(os.path.join(savepath, 'DMN_coeff_ipsi_boxplot_all_layers.pdf'), \n",
    "            bbox_inches='tight', \n",
    "            pad_inches=0.3, format='pdf', transparent = True, dpi=300)"
   ]
  },
  {
   "cell_type": "code",
   "execution_count": 162,
   "metadata": {},
   "outputs": [
    {
     "data": {
      "text/html": [
       "<div>\n",
       "<style scoped>\n",
       "    .dataframe tbody tr th:only-of-type {\n",
       "        vertical-align: middle;\n",
       "    }\n",
       "\n",
       "    .dataframe tbody tr th {\n",
       "        vertical-align: top;\n",
       "    }\n",
       "\n",
       "    .dataframe thead th {\n",
       "        text-align: right;\n",
       "    }\n",
       "</style>\n",
       "<table border=\"1\" class=\"dataframe\">\n",
       "  <thead>\n",
       "    <tr style=\"text-align: right;\">\n",
       "      <th></th>\n",
       "      <th>sum_sq</th>\n",
       "      <th>df</th>\n",
       "      <th>F</th>\n",
       "      <th>PR(&gt;F)</th>\n",
       "    </tr>\n",
       "  </thead>\n",
       "  <tbody>\n",
       "    <tr>\n",
       "      <th>Intercept</th>\n",
       "      <td>0.0004</td>\n",
       "      <td>1.0</td>\n",
       "      <td>0.0140</td>\n",
       "      <td>0.9060</td>\n",
       "    </tr>\n",
       "    <tr>\n",
       "      <th>C(layer)</th>\n",
       "      <td>0.1907</td>\n",
       "      <td>5.0</td>\n",
       "      <td>1.4924</td>\n",
       "      <td>0.1916</td>\n",
       "    </tr>\n",
       "    <tr>\n",
       "      <th>Residual</th>\n",
       "      <td>8.7927</td>\n",
       "      <td>344.0</td>\n",
       "      <td>NaN</td>\n",
       "      <td>NaN</td>\n",
       "    </tr>\n",
       "  </tbody>\n",
       "</table>\n",
       "</div>"
      ],
      "text/plain": [
       "           sum_sq     df       F  PR(>F)\n",
       "Intercept  0.0004    1.0  0.0140  0.9060\n",
       "C(layer)   0.1907    5.0  1.4924  0.1916\n",
       "Residual   8.7927  344.0     NaN     NaN"
      ]
     },
     "execution_count": 162,
     "metadata": {},
     "output_type": "execute_result"
    }
   ],
   "source": [
    "formula = 'value~C(layer)' \n",
    "model = ols(formula, pltdat).fit()\n",
    "aov_table = anova_lm(model, typ=3)\n",
    "aov_table.round(4)"
   ]
  },
  {
   "cell_type": "code",
   "execution_count": 163,
   "metadata": {},
   "outputs": [
    {
     "data": {
      "text/plain": [
       "0.9067915787933425"
      ]
     },
     "execution_count": 163,
     "metadata": {},
     "output_type": "execute_result"
    }
   ],
   "source": [
    "dat[(dat['dmn_by_structure'] == 'in') &\n",
    "    (dat['layer'] == '2/3')]['proj_dmn_frac'].median()"
   ]
  },
  {
   "cell_type": "code",
   "execution_count": 164,
   "metadata": {},
   "outputs": [
    {
     "data": {
      "text/plain": [
       "0.7314230938078603"
      ]
     },
     "execution_count": 164,
     "metadata": {},
     "output_type": "execute_result"
    }
   ],
   "source": [
    "dat[(dat['dmn_by_structure'] == 'in') &\n",
    "    (dat['layer'] == '5')]['proj_dmn_frac'].median()"
   ]
  },
  {
   "cell_type": "code",
   "execution_count": 165,
   "metadata": {},
   "outputs": [
    {
     "data": {
      "text/plain": [
       "array(['C57BL/6J / Emx1', 'Rbp4-Cre_KL100', 'Cux2-IRES-Cre',\n",
       "       'Efr3a-Cre_NO108', 'A930038C07Rik-Tg1-Cre', 'Sim1-Cre_KJ18',\n",
       "       'Scnn1a-Tg3-Cre', 'Syt6-Cre_KI148', 'Chrna2-Cre_OE25',\n",
       "       'Ntsr1-Cre_GN220', 'Rorb-IRES2-Cre', 'Tlx3-Cre_PL56', 'Nr5a1-Cre',\n",
       "       'Sepw1-Cre_NP39'], dtype=object)"
      ]
     },
     "execution_count": 165,
     "metadata": {},
     "output_type": "execute_result"
    }
   ],
   "source": [
    "dat['Mouse Line'].unique()"
   ]
  },
  {
   "cell_type": "code",
   "execution_count": 166,
   "metadata": {},
   "outputs": [
    {
     "name": "stdout",
     "output_type": "stream",
     "text": [
      "41\n"
     ]
    }
   ],
   "source": [
    "print(len(dat[dat['Mouse Line'] == 'C57BL/6J / Emx1']))"
   ]
  },
  {
   "cell_type": "code",
   "execution_count": 167,
   "metadata": {},
   "outputs": [
    {
     "name": "stdout",
     "output_type": "stream",
     "text": [
      "46\n"
     ]
    }
   ],
   "source": [
    "print(len(dat[dat['Mouse Line'].isin(['Sepw1-Cre_NP39', 'Cux2-IRES-Cre'])]))"
   ]
  },
  {
   "cell_type": "code",
   "execution_count": 168,
   "metadata": {},
   "outputs": [
    {
     "name": "stdout",
     "output_type": "stream",
     "text": [
      "76\n"
     ]
    }
   ],
   "source": [
    "print(len(dat[dat['Mouse Line'].isin(['Rbp4-Cre_KL100', 'Tlx3-Cre_PL56'])]))"
   ]
  },
  {
   "cell_type": "code",
   "execution_count": null,
   "metadata": {},
   "outputs": [],
   "source": []
  },
  {
   "cell_type": "code",
   "execution_count": null,
   "metadata": {},
   "outputs": [],
   "source": []
  }
 ],
 "metadata": {
  "kernelspec": {
   "display_name": "dmn-virtualenv",
   "language": "python",
   "name": "dmn-virtualenv"
  },
  "language_info": {
   "codemirror_mode": {
    "name": "ipython",
    "version": 3
   },
   "file_extension": ".py",
   "mimetype": "text/x-python",
   "name": "python",
   "nbconvert_exporter": "python",
   "pygments_lexer": "ipython3",
   "version": "3.7.4"
  }
 },
 "nbformat": 4,
 "nbformat_minor": 2
}
