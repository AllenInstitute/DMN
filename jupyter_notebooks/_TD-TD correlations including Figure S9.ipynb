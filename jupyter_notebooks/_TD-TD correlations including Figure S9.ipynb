{
 "cells": [
  {
   "cell_type": "code",
   "execution_count": 1,
   "metadata": {},
   "outputs": [
    {
     "name": "stderr",
     "output_type": "stream",
     "text": [
      "/Users/jenniferwh/Dropbox (Allen Institute)/Mesoscale Connectome Papers in Progress/2019 DMN/_new_figures/jupyter_notebooks/env/lib/python3.7/site-packages/statsmodels/compat/pandas.py:23: FutureWarning: The Panel class is removed from pandas. Accessing it from the top-level namespace will also be removed in the next version\n",
      "  data_klasses = (pandas.Series, pandas.DataFrame, pandas.Panel)\n"
     ]
    }
   ],
   "source": [
    "import pandas as pd\n",
    "import matplotlib.pyplot as plt\n",
    "import numpy as np\n",
    "import os\n",
    "import nrrd\n",
    "import json\n",
    "from allensdk.core.mouse_connectivity_cache import MouseConnectivityCache\n",
    "from allensdk.api.queries.ontologies_api import OntologiesApi\n",
    "import requests\n",
    "from anatomy.anatomy_api import AnatomyApi\n",
    "import scipy.stats as stats\n",
    "import statsmodels.api as sm\n",
    "from scipy.optimize import curve_fit\n",
    "from statsmodels.sandbox.regression.predstd import wls_prediction_std\n",
    "from statsmodels.graphics import utils\n",
    "from statsmodels.formula.api import ols\n",
    "import scipy\n",
    "\n",
    "import seaborn as sns\n",
    "sns.set_context('paper')\n",
    "sns.set_style('white')\n",
    "\n",
    "%matplotlib inline\n",
    "import matplotlib as mpl\n",
    "mpl.rcParams['pdf.fonttype'] = 42\n",
    "\n",
    "distance_threshold = 800\n",
    "overlap_threshold = 0.05"
   ]
  },
  {
   "cell_type": "code",
   "execution_count": 2,
   "metadata": {},
   "outputs": [],
   "source": [
    "aapi = AnatomyApi()\n",
    "ss = aapi.get_summary_structure_data('id')\n",
    "mcc = MouseConnectivityCache(manifest_file = '../connectivity/mouse_connectivity_manifest.json')\n",
    "structure_tree = mcc.get_structure_tree()\n",
    "isocortex = structure_tree.get_structures_by_acronym(['Isocortex'])[0]\n",
    "cla = structure_tree.get_structures_by_acronym(['CLA'])[0]['id']\n",
    "HPF = structure_tree.get_structures_by_acronym(['HPF'])[0]\n",
    "iso = structure_tree.descendant_ids([isocortex['id']])[0]\n",
    "iso = [structure for structure in iso if structure in ss]\n",
    "hipp = structure_tree.descendant_ids([HPF['id']])[0]\n",
    "hipp = [structure for structure in hipp if structure in ss]\n",
    "ia_map = structure_tree.get_id_acronym_map()\n",
    "ai_map = {value:key for key, value in ia_map.items()}\n",
    "ctx_strs = [ai_map[structure] for structure in iso]\n",
    "hipp_strs = [ai_map[structure] for structure in hipp]\n",
    "valid_strs = ctx_strs#+hipp_strs #No Cla"
   ]
  },
  {
   "cell_type": "code",
   "execution_count": 3,
   "metadata": {},
   "outputs": [
    {
     "name": "stdout",
     "output_type": "stream",
     "text": [
      "121\n"
     ]
    }
   ],
   "source": [
    "import platform\n",
    "if platform.system() == 'Darwin':\n",
    "    path = '/Users/jenniferwh/Dropbox/DMN data/correlations/_final'\n",
    "    full_td_dataset = pd.read_csv(r'/Users/jenniferwh/Dropbox (Allen Institute)/Mesoscale Connectome Papers in Progress/2019 DMN/target_defined_dataset.csv')\n",
    "    savepath = r'/Users/jenniferwh/Dropbox (Allen Institute)/Mesoscale Connectome Papers in Progress/2019 DMN/_new_figures/Figure_5/model_fit'\n",
    "elif platform.system() == 'Windows':\n",
    "    path = r'C:\\Users\\jenniferwh\\Dropbox\\DMN data\\correlations\\_final'\n",
    "    full_td_dataset = pd.read_csv(r\"C:\\Users\\jenniferwh\\Dropbox (Allen Institute)\\Mesoscale Connectome Papers in Progress\\2019 DMN\\target_defined_dataset.csv\")\n",
    "td_dataset = full_td_dataset[full_td_dataset['include'] == 'yes']\n",
    "td_dataset = td_dataset[td_dataset['source'].isin(valid_strs)]\n",
    "td_dataset = td_dataset[td_dataset['target_by_polygon'] != 'POST']\n",
    "print(len(td_dataset))"
   ]
  },
  {
   "cell_type": "code",
   "execution_count": 4,
   "metadata": {},
   "outputs": [
    {
     "name": "stdout",
     "output_type": "stream",
     "text": [
      "1397\n",
      "973\n"
     ]
    }
   ],
   "source": [
    "# including primary/secondary switch matches within 500 um, all others no distance or overlap constraint\n",
    "dat = pd.read_csv(os.path.join(path, 'td_matched_correlations.csv'))\n",
    "print(len(dat))\n",
    "dat = dat[dat['image_series_id'].isin(td_dataset['image_series_id'].unique())]\n",
    "dat = dat[dat['match_id'].isin(td_dataset['image_series_id'].unique())]\n",
    "dat = dat[dat['same_primary'] == True]\n",
    "dat = dat[dat['same secondary for <60% primary'] != False]\n",
    "print(len(dat))\n"
   ]
  },
  {
   "cell_type": "code",
   "execution_count": 5,
   "metadata": {},
   "outputs": [],
   "source": [
    "dat = dat.merge(td_dataset[['image_series_id', 'target_by_polygon', 'CAV_percent_DMN']],\n",
    "               on = 'image_series_id', how = 'left')\n",
    "dat.rename(columns = {'CAV_percent_DMN': 'td_CAV_percent_DMN',\n",
    "                     'target_by_polygon': 'td_target'}, inplace = True)\n",
    "td_dataset['match_id'] = td_dataset['image_series_id']\n",
    "dat = dat.merge(td_dataset[['match_id', 'target_by_polygon', 'CAV_percent_DMN']],\n",
    "               on = 'match_id', how = 'left')\n",
    "dat.rename(columns = {'CAV_percent_DMN': 'match_CAV_percent_DMN',\n",
    "                     'target_by_polygon': 'match_target'}, inplace = True)"
   ]
  },
  {
   "cell_type": "code",
   "execution_count": 6,
   "metadata": {
    "scrolled": true
   },
   "outputs": [
    {
     "name": "stdout",
     "output_type": "stream",
     "text": [
      "495\n"
     ]
    }
   ],
   "source": [
    "# check for duplicates\n",
    "dat['index_original'] = dat.groupby(['image_series_id', 'match_id']).image_series_id.transform('idxmin')    \n",
    "dat = dat[~dat.duplicated(subset=['image_series_id', 'match_id'], keep='first')]\n",
    "for isid in dat['image_series_id'].unique():\n",
    "    matches = dat[dat['image_series_id'] == isid]['match_id'].values\n",
    "    for match in matches:\n",
    "        index = dat[(dat['image_series_id'] == match) &\n",
    "                        (dat['match_id'] == isid)].index\n",
    "        dat = dat.drop(index)\n",
    "print(len(dat))"
   ]
  },
  {
   "cell_type": "code",
   "execution_count": 7,
   "metadata": {},
   "outputs": [
    {
     "name": "stdout",
     "output_type": "stream",
     "text": [
      "357\n",
      "241\n"
     ]
    }
   ],
   "source": [
    "# Clearly distance is the most important factor. Apply distance threshold\n",
    "dat = dat[dat['distance'] < distance_threshold]\n",
    "print(len(dat))\n",
    "dat = dat[dat['dice_coefficient'] > overlap_threshold]\n",
    "print(len(dat))"
   ]
  },
  {
   "cell_type": "code",
   "execution_count": 8,
   "metadata": {},
   "outputs": [
    {
     "name": "stdout",
     "output_type": "stream",
     "text": [
      "241\n",
      "76\n"
     ]
    }
   ],
   "source": [
    "print(len(dat))\n",
    "print(len(dat['match_id'].unique()))"
   ]
  },
  {
   "cell_type": "code",
   "execution_count": 9,
   "metadata": {},
   "outputs": [],
   "source": [
    "plot_order = ['ACAd', 'ACAv', 'PL', 'ILA', 'ORBl','ORBvl', \n",
    "              'VISam', 'RSPd', 'RSPv', 'RSPagl', \n",
    "              'MOs', 'ECT', 'VISl', 'VISp', 'VISpm']"
   ]
  },
  {
   "cell_type": "code",
   "execution_count": 10,
   "metadata": {},
   "outputs": [
    {
     "name": "stdout",
     "output_type": "stream",
     "text": [
      "[]\n",
      "[]\n"
     ]
    }
   ],
   "source": [
    "print([source for source in dat['source'].unique() if source not in plot_order])\n",
    "print([source for source in plot_order if source not in dat['source'].unique()])"
   ]
  },
  {
   "cell_type": "code",
   "execution_count": 11,
   "metadata": {},
   "outputs": [
    {
     "data": {
      "text/html": [
       "<div>\n",
       "<style scoped>\n",
       "    .dataframe tbody tr th:only-of-type {\n",
       "        vertical-align: middle;\n",
       "    }\n",
       "\n",
       "    .dataframe tbody tr th {\n",
       "        vertical-align: top;\n",
       "    }\n",
       "\n",
       "    .dataframe thead th {\n",
       "        text-align: right;\n",
       "    }\n",
       "</style>\n",
       "<table border=\"1\" class=\"dataframe\">\n",
       "  <thead>\n",
       "    <tr style=\"text-align: right;\">\n",
       "      <th></th>\n",
       "      <th>source</th>\n",
       "      <th>match_id</th>\n",
       "    </tr>\n",
       "  </thead>\n",
       "  <tbody>\n",
       "    <tr>\n",
       "      <th>0</th>\n",
       "      <td>ACAd</td>\n",
       "      <td>17</td>\n",
       "    </tr>\n",
       "    <tr>\n",
       "      <th>1</th>\n",
       "      <td>ACAv</td>\n",
       "      <td>6</td>\n",
       "    </tr>\n",
       "    <tr>\n",
       "      <th>2</th>\n",
       "      <td>ECT</td>\n",
       "      <td>1</td>\n",
       "    </tr>\n",
       "    <tr>\n",
       "      <th>3</th>\n",
       "      <td>ILA</td>\n",
       "      <td>1</td>\n",
       "    </tr>\n",
       "    <tr>\n",
       "      <th>4</th>\n",
       "      <td>MOs</td>\n",
       "      <td>2</td>\n",
       "    </tr>\n",
       "    <tr>\n",
       "      <th>5</th>\n",
       "      <td>ORBl</td>\n",
       "      <td>6</td>\n",
       "    </tr>\n",
       "    <tr>\n",
       "      <th>6</th>\n",
       "      <td>ORBvl</td>\n",
       "      <td>22</td>\n",
       "    </tr>\n",
       "    <tr>\n",
       "      <th>7</th>\n",
       "      <td>PL</td>\n",
       "      <td>3</td>\n",
       "    </tr>\n",
       "    <tr>\n",
       "      <th>8</th>\n",
       "      <td>RSPagl</td>\n",
       "      <td>2</td>\n",
       "    </tr>\n",
       "    <tr>\n",
       "      <th>9</th>\n",
       "      <td>RSPd</td>\n",
       "      <td>1</td>\n",
       "    </tr>\n",
       "    <tr>\n",
       "      <th>10</th>\n",
       "      <td>RSPv</td>\n",
       "      <td>32</td>\n",
       "    </tr>\n",
       "    <tr>\n",
       "      <th>11</th>\n",
       "      <td>VISam</td>\n",
       "      <td>15</td>\n",
       "    </tr>\n",
       "    <tr>\n",
       "      <th>12</th>\n",
       "      <td>VISl</td>\n",
       "      <td>52</td>\n",
       "    </tr>\n",
       "    <tr>\n",
       "      <th>13</th>\n",
       "      <td>VISp</td>\n",
       "      <td>80</td>\n",
       "    </tr>\n",
       "    <tr>\n",
       "      <th>14</th>\n",
       "      <td>VISpm</td>\n",
       "      <td>1</td>\n",
       "    </tr>\n",
       "  </tbody>\n",
       "</table>\n",
       "</div>"
      ],
      "text/plain": [
       "    source  match_id\n",
       "0     ACAd        17\n",
       "1     ACAv         6\n",
       "2      ECT         1\n",
       "3      ILA         1\n",
       "4      MOs         2\n",
       "5     ORBl         6\n",
       "6    ORBvl        22\n",
       "7       PL         3\n",
       "8   RSPagl         2\n",
       "9     RSPd         1\n",
       "10    RSPv        32\n",
       "11   VISam        15\n",
       "12    VISl        52\n",
       "13    VISp        80\n",
       "14   VISpm         1"
      ]
     },
     "execution_count": 11,
     "metadata": {},
     "output_type": "execute_result"
    }
   ],
   "source": [
    "dat.groupby('source').count().reset_index()[['source', 'match_id']]"
   ]
  },
  {
   "cell_type": "markdown",
   "metadata": {},
   "source": [
    "## Proceed with the best model"
   ]
  },
  {
   "cell_type": "markdown",
   "metadata": {},
   "source": [
    "#### model fit parameters = [-1.49862876e-01, 8.48657022e-02, -3.46958054e-05,  4.37213721e-02, 8.75721400e-01]\n",
    " "
   ]
  },
  {
   "cell_type": "code",
   "execution_count": 12,
   "metadata": {},
   "outputs": [],
   "source": [
    "def exp(X, a, b, c, d, e):\n",
    "    x,y,z = X\n",
    "    return a * 10**(-x / b) + (c * y) + (d * z) + e\n",
    "popt = [-1.49862876e-01, 8.48657022e-02, -3.46958054e-05, 4.37213721e-02, 8.75721400e-01]"
   ]
  },
  {
   "cell_type": "code",
   "execution_count": 13,
   "metadata": {},
   "outputs": [],
   "source": [
    "dat['exp_predicted'] = exp((dat['td_injection_size'],\n",
    "                               dat['distance'].values,\n",
    "                              dat['dice_coefficient'].values), *popt)"
   ]
  },
  {
   "cell_type": "code",
   "execution_count": 14,
   "metadata": {},
   "outputs": [],
   "source": [
    "def predband(x, xd, yd, f_vars, conf=0.95):\n",
    "    \"\"\"\n",
    "    Code adapted from Rodrigo Nemmen's post:\n",
    "    http://astropython.blogspot.com.ar/2011/12/calculating-prediction-band-\n",
    "    of-linear.html\n",
    "\n",
    "    Calculates the prediction band of the regression model at the\n",
    "    desired confidence level.\n",
    "\n",
    "    Clarification of the difference between confidence and prediction bands:\n",
    "\n",
    "    \"The prediction bands are further from the best-fit line than the\n",
    "    confidence bands, a lot further if you have many data points. The 95%\n",
    "    prediction band is the area in which you expect 95% of all data points\n",
    "    to fall. In contrast, the 95% confidence band is the area that has a\n",
    "    95% chance of containing the true regression line.\"\n",
    "    (from http://www.graphpad.com/guides/prism/6/curve-fitting/index.htm?\n",
    "    reg_graphing_tips_linear_regressio.htm)\n",
    "\n",
    "    Arguments:\n",
    "    - x: array with x values to calculate the confidence band.\n",
    "    - xd, yd: data arrays.\n",
    "    - a, b, c: linear fit parameters.\n",
    "    - conf: desired confidence level, by default 0.95 (2 sigma)\n",
    "\n",
    "    References:\n",
    "    1. http://www.JerryDallal.com/LHSP/slr.htm, Introduction to Simple Linear\n",
    "    Regression, Gerard E. Dallal, Ph.D.\n",
    "    \"\"\"\n",
    "    for ix, val in enumerate(xd):\n",
    "        if all(x == val):\n",
    "            index = ix\n",
    "    alpha = 1. - conf    # Significance\n",
    "    N = len(xd) * len(xd[index])          # data sample size\n",
    "    var_n = len(f_vars)  # Number of variables used by the fitted function.\n",
    "\n",
    "    # Quantile of Student's t distribution for p=(1 - alpha/2)\n",
    "    q = stats.t.ppf(1. - alpha / 2., N - var_n)\n",
    "\n",
    "    # Std. deviation of an individual measurement (Bevington, eq. 6.15)\n",
    "    se = np.sqrt(1. / (N - var_n) * np.sum((yd - exp(xd, *f_vars)) ** 2))\n",
    "\n",
    "    # Auxiliary definitions\n",
    "    sx = (x - xd[0].mean()) ** 2\n",
    "    sxd = np.sum((xd[0] - xd[index].mean()) ** 2)\n",
    "\n",
    "    # Predicted values (best-fit model)\n",
    "    yp = exp(xd, *f_vars)\n",
    "    # Prediction band\n",
    "    dy = q * se * np.sqrt(1. + (1. / N) + (sx / sxd))\n",
    "\n",
    "    # Upper & lower prediction bands.\n",
    "    lpb, upb = yp - dy, yp + dy\n",
    "\n",
    "    return lpb, upb"
   ]
  },
  {
   "cell_type": "code",
   "execution_count": 15,
   "metadata": {},
   "outputs": [],
   "source": [
    "low_pred_band = pd.DataFrame()\n",
    "high_pred_band = pd.DataFrame()\n",
    "for key in ['td_injection_size', 'distance', 'dice_coefficient']:\n",
    "    low_pred_band[key] = predband(dat[key].values, \n",
    "                                       (dat['td_injection_size'].values, \n",
    "                                        dat['distance'].values,\n",
    "                                        dat['dice_coefficient'].values), \n",
    "                                       dat['spearman_correlation'].values, popt)[0]\n",
    "    high_pred_band[key] = predband(dat[key].values, \n",
    "                                       (dat['td_injection_size'].values, \n",
    "                                        dat['distance'].values,\n",
    "                                        dat['dice_coefficient'].values), \n",
    "                                       dat['spearman_correlation'].values, popt)[1]"
   ]
  },
  {
   "cell_type": "code",
   "execution_count": 16,
   "metadata": {},
   "outputs": [],
   "source": [
    "dat['low_pred_band'] = low_pred_band.min(axis = 1).values\n",
    "dat['high_pred_band'] = high_pred_band.max(axis = 1).values"
   ]
  },
  {
   "cell_type": "code",
   "execution_count": 17,
   "metadata": {},
   "outputs": [
    {
     "name": "stdout",
     "output_type": "stream",
     "text": [
      "118\n",
      "14\n",
      "241\n"
     ]
    },
    {
     "data": {
      "text/plain": [
       "array(['VISp', 'ORBvl', 'ORBl', 'RSPv'], dtype=object)"
      ]
     },
     "execution_count": 17,
     "metadata": {},
     "output_type": "execute_result"
    }
   ],
   "source": [
    "print(len(dat[dat['spearman_correlation'] < dat['exp_predicted']]))\n",
    "print(len(dat[dat['spearman_correlation'] < dat['low_pred_band']]['image_series_id'].unique()))\n",
    "print(len(dat))\n",
    "dat[dat['spearman_correlation'] < dat['low_pred_band']]['source'].unique()"
   ]
  },
  {
   "cell_type": "code",
   "execution_count": 18,
   "metadata": {},
   "outputs": [
    {
     "data": {
      "text/plain": [
       "0.11618257261410789"
      ]
     },
     "execution_count": 18,
     "metadata": {},
     "output_type": "execute_result"
    }
   ],
   "source": [
    "float(len(dat[dat['spearman_correlation'] < dat['low_pred_band']][[\n",
    "    'source', 'image_series_id', 'spearman_correlation']]))/len(dat)"
   ]
  },
  {
   "cell_type": "markdown",
   "metadata": {},
   "source": [
    "## Find mean per experiment for target-defined data"
   ]
  },
  {
   "cell_type": "code",
   "execution_count": 19,
   "metadata": {},
   "outputs": [],
   "source": [
    "all_isids = np.unique(np.concatenate(\n",
    "    (dat['image_series_id'].unique(), dat['match_id'].unique())))\n",
    "num_comparisons = []\n",
    "corr = []\n",
    "predicted_corr = []\n",
    "sources = []\n",
    "inj_sizes = []\n",
    "mean_ol = []\n",
    "mean_dist = []\n",
    "mean_low_pred = []\n",
    "mean_high_pred = []\n",
    "frac_low_corr = []\n",
    "for isid in all_isids:\n",
    "    if len(dat[dat['image_series_id'] == isid]['td_primary_source'].values) > 0:\n",
    "        sources.append(dat[dat['image_series_id'] == isid][\n",
    "            'td_primary_source'].values[0])\n",
    "        inj_sizes.append(dat[dat['image_series_id'] == isid][\n",
    "            'td_injection_size'].values[0])\n",
    "    else:\n",
    "        sources.append(dat[dat['match_id'] == isid][\n",
    "            'match_primary_source'].values[0])\n",
    "        inj_sizes.append(dat[dat['match_id'] == isid][\n",
    "            'match_injection_size'].values[0])\n",
    "    dataset = dat[(dat['image_series_id'] == isid) | (\n",
    "        dat['match_id'] == isid)]\n",
    "    \n",
    "    num_comparisons.append(len(dataset))\n",
    "    frac_low_corr.append(\n",
    "        len(dataset[dataset['spearman_correlation'] < dataset['low_pred_band']])/len(dataset))\n",
    "    corr.append(dataset['spearman_correlation'].mean())\n",
    "    predicted_corr.append(dataset['exp_predicted'].mean())\n",
    "    mean_ol.append(dataset['dice_coefficient'].mean())\n",
    "    mean_dist.append(dataset['distance'].mean())\n",
    "    mean_low_pred.append(dataset['low_pred_band'].min())\n",
    "    mean_high_pred.append(dataset['high_pred_band'].max())"
   ]
  },
  {
   "cell_type": "code",
   "execution_count": 20,
   "metadata": {
    "scrolled": false
   },
   "outputs": [
    {
     "name": "stdout",
     "output_type": "stream",
     "text": [
      "98\n"
     ]
    }
   ],
   "source": [
    "meandat = pd.DataFrame({'image_series_id': all_isids, 'source': sources, \n",
    "                       'injection_size': inj_sizes, 'number_comparisons': num_comparisons, \n",
    "                       'fraction_low_corr': frac_low_corr,\n",
    "                       'spearman_correlation': corr, 'exp_predicted': predicted_corr,\n",
    "                      'mean_overlap': mean_ol, 'mean_distance': mean_dist, \n",
    "                       'low_pred': mean_low_pred})\n",
    "print(len(meandat))"
   ]
  },
  {
   "cell_type": "code",
   "execution_count": 21,
   "metadata": {},
   "outputs": [],
   "source": [
    "meansig = meandat[meandat['fraction_low_corr'] > 0.5]"
   ]
  },
  {
   "cell_type": "code",
   "execution_count": 22,
   "metadata": {},
   "outputs": [
    {
     "data": {
      "text/plain": [
       "8"
      ]
     },
     "execution_count": 22,
     "metadata": {},
     "output_type": "execute_result"
    }
   ],
   "source": [
    "len(meansig)"
   ]
  },
  {
   "cell_type": "code",
   "execution_count": 23,
   "metadata": {
    "scrolled": true
   },
   "outputs": [
    {
     "data": {
      "text/plain": [
       "array(['VISp', 'ORBvl', 'ORBl', 'RSPv'], dtype=object)"
      ]
     },
     "execution_count": 23,
     "metadata": {},
     "output_type": "execute_result"
    }
   ],
   "source": [
    "meansig['source'].unique()"
   ]
  },
  {
   "cell_type": "code",
   "execution_count": 24,
   "metadata": {},
   "outputs": [],
   "source": [
    "meandat.loc[meandat['image_series_id'].isin(meansig['image_series_id'].values), \n",
    "            'low_corr_experiment'] = True"
   ]
  },
  {
   "cell_type": "markdown",
   "metadata": {},
   "source": [
    "## Boxplots by source"
   ]
  },
  {
   "cell_type": "code",
   "execution_count": 25,
   "metadata": {},
   "outputs": [],
   "source": [
    "plot_order = ['ACAd', 'ACAv', 'PL', 'ILA', 'ORBl', 'ORBvl', \n",
    "              'VISam', 'RSPd', 'RSPv', 'RSPagl', \n",
    "              'MOs', 'ECT', 'VISl', 'VISp', 'VISpm']"
   ]
  },
  {
   "cell_type": "code",
   "execution_count": 26,
   "metadata": {},
   "outputs": [
    {
     "name": "stdout",
     "output_type": "stream",
     "text": [
      "[]\n",
      "[]\n"
     ]
    }
   ],
   "source": [
    "print([source for source in dat['source'].unique() if source not in plot_order])\n",
    "print([source for source in plot_order if source not in dat['source'].unique()])"
   ]
  },
  {
   "cell_type": "code",
   "execution_count": 27,
   "metadata": {},
   "outputs": [],
   "source": [
    "dat.loc[(dat['td_CAV_percent_DMN'] > 50) &\n",
    "        (dat['match_CAV_percent_DMN'] > 50), 'experiment_type'] = 'both in'\n",
    "dat.loc[(dat['td_CAV_percent_DMN'] < 50) &\n",
    "        (dat['match_CAV_percent_DMN'] < 50), 'experiment_type'] = 'both out'\n",
    "dat.loc[(dat['td_CAV_percent_DMN'] < 50) &\n",
    "        (dat['match_CAV_percent_DMN'] > 50), 'experiment_type'] = 'in-out'\n",
    "dat.loc[(dat['td_CAV_percent_DMN'] > 50) &\n",
    "        (dat['match_CAV_percent_DMN'] < 50), 'experiment_type'] = 'in-out'"
   ]
  },
  {
   "cell_type": "code",
   "execution_count": 28,
   "metadata": {},
   "outputs": [
    {
     "data": {
      "text/plain": [
       "array(['both out', 'in-out', 'both in', nan], dtype=object)"
      ]
     },
     "execution_count": 28,
     "metadata": {},
     "output_type": "execute_result"
    }
   ],
   "source": [
    "dat['experiment_type'].unique()"
   ]
  },
  {
   "cell_type": "code",
   "execution_count": 29,
   "metadata": {},
   "outputs": [],
   "source": [
    "pltdat = dat[['source', 'exp_predicted', \n",
    "                             'spearman_correlation', 'experiment_type']]\n",
    "pltdat_sig = meandat[meandat['fraction_low_corr'] > 0.5][\n",
    "    ['source', 'exp_predicted', 'spearman_correlation']]"
   ]
  },
  {
   "cell_type": "code",
   "execution_count": 30,
   "metadata": {},
   "outputs": [
    {
     "data": {
      "text/plain": [
       "\"\\nplt.savefig(os.path.join(savepath, \\n                         'WT_TD_observed_corr_all_sources.pdf'), \\n            bbox_inches='tight',  pad_inches=0.3, format='pdf', transparent = True, dpi=300)\\n            \""
      ]
     },
     "execution_count": 30,
     "metadata": {},
     "output_type": "execute_result"
    },
    {
     "data": {
      "image/png": "[encoded data removed]",
      "text/plain": [
       "<Figure size 288x158.4 with 1 Axes>"
      ]
     },
     "metadata": {
      "needs_background": "light"
     },
     "output_type": "display_data"
    }
   ],
   "source": [
    "fig, ax = plt.subplots(figsize = (4, 2.2))\n",
    "sns.boxplot('source', 'spearman_correlation', data = dat, order = plot_order, \n",
    "            hue = 'experiment_type',\n",
    "            palette = ['gray', 'mediumpurple', 'w'], \n",
    "            hue_order = ['in-out', 'both in', 'both out'],\n",
    "            fliersize = 0.1, linewidth = 0.5)\n",
    "ax.axhline(y=dat['spearman_correlation'].mean(), \n",
    "           c='mediumpurple', alpha = 0.5, \n",
    "           linestyle = '--', zorder = -1)\n",
    "plt.xticks(rotation = 90);\n",
    "ax.tick_params(top=False, right=False, left=True, pad=1)\n",
    "ax.tick_params('x', pad = -3)\n",
    "sns.despine()\n",
    "ax.set_ylim([0, 1]);\n",
    "ax.set_ylabel('Spearman Correlation')\n",
    "ax.set_xlabel(None)\n",
    "ax.legend_.remove()\n",
    "plt.tight_layout()\n",
    "'''\n",
    "plt.savefig(os.path.join(savepath, \n",
    "                         'WT_TD_observed_corr_all_sources.pdf'), \n",
    "            bbox_inches='tight',  pad_inches=0.3, format='pdf', transparent = True, dpi=300)\n",
    "            '''"
   ]
  },
  {
   "cell_type": "code",
   "execution_count": 31,
   "metadata": {},
   "outputs": [
    {
     "name": "stdout",
     "output_type": "stream",
     "text": [
      "['ACAd', 'ACAv', 'PL', 'ILA', 'ORBl', 'ORBvl', 'VISam', 'RSPd', 'RSPv', 'RSPagl', 'MOs', 'ECT', 'VISl', 'VISp', 'VISpm']\n"
     ]
    }
   ],
   "source": [
    "plot_order = [region for region in plot_order if region in dat['source'].unique()]\n",
    "\n",
    "print(plot_order)"
   ]
  },
  {
   "cell_type": "code",
   "execution_count": 32,
   "metadata": {},
   "outputs": [
    {
     "data": {
      "text/plain": [
       "array(['both out', 'in-out', 'both in', nan], dtype=object)"
      ]
     },
     "execution_count": 32,
     "metadata": {},
     "output_type": "execute_result"
    }
   ],
   "source": [
    "pltdat['experiment_type'].unique()"
   ]
  },
  {
   "cell_type": "code",
   "execution_count": 33,
   "metadata": {},
   "outputs": [
    {
     "name": "stdout",
     "output_type": "stream",
     "text": [
      "9\n",
      "28\n"
     ]
    }
   ],
   "source": [
    "print(len(dat[dat['spearman_correlation'] > dat['high_pred_band']]))\n",
    "print(len(dat[dat['spearman_correlation'] < dat['low_pred_band']]))"
   ]
  },
  {
   "cell_type": "code",
   "execution_count": 34,
   "metadata": {},
   "outputs": [
    {
     "data": {
      "text/plain": [
       "8"
      ]
     },
     "execution_count": 34,
     "metadata": {},
     "output_type": "execute_result"
    }
   ],
   "source": [
    "len(meandat[meandat['fraction_low_corr'] > 0.5])"
   ]
  },
  {
   "cell_type": "code",
   "execution_count": 35,
   "metadata": {},
   "outputs": [
    {
     "data": {
      "text/plain": [
       "array(['VISp', 'ORBvl', 'ORBl', 'RSPv'], dtype=object)"
      ]
     },
     "execution_count": 35,
     "metadata": {},
     "output_type": "execute_result"
    }
   ],
   "source": [
    "meandat[meandat['fraction_low_corr'] > 0.5]['source'].unique()"
   ]
  },
  {
   "cell_type": "code",
   "execution_count": 36,
   "metadata": {},
   "outputs": [
    {
     "data": {
      "image/png": "[encoded data removed]",
      "text/plain": [
       "<Figure size 180x144 with 1 Axes>"
      ]
     },
     "metadata": {
      "needs_background": "light"
     },
     "output_type": "display_data"
    }
   ],
   "source": [
    "fig, ax = plt.subplots(figsize = (2.5, 2))\n",
    "sns.boxplot('source', 'spearman_correlation', data = dat, order = plot_order, \n",
    "            color = 'w', linewidth = 0.5, fliersize = 1)\n",
    "sns.stripplot('source', 'spearman_correlation', \n",
    "              data = dat[dat['spearman_correlation'] < dat['low_pred_band']], \n",
    "              order = plot_order, \n",
    "            hue = 'experiment_type',\n",
    "            palette = ['gray', 'mediumpurple', 'w'], \n",
    "            hue_order = ['in-out', 'both in', 'both out'], edgecolor = 'k',\n",
    "            linewidth = 0.5, s=3, alpha = 0.8)\n",
    "\n",
    "plt.xticks(rotation = 90, fontsize = 8);\n",
    "ax.tick_params(top=False, right=False, left=True, pad=1)\n",
    "ax.tick_params('x', pad = -3)\n",
    "sns.despine()\n",
    "ax.set_ylim([-0.1,1.1])\n",
    "ax.yaxis.labelpad = -1\n",
    "plt.yticks([0, 0.5, 1], fontsize = 8)\n",
    "ax.set_ylabel('Spearman Correlation', fontsize = 8, labelpad=1)\n",
    "ax.set_xlabel(None)\n",
    "plt.title('TD-TD Pairs (Injection Matched)', fontsize = 10, y=0.96)\n",
    "ax.legend_.remove()\n",
    "plt.tight_layout()\n",
    "\n",
    "plt.savefig(os.path.join(savepath, \n",
    "                         'TD-TD correlation boxplots.pdf'), \n",
    "            bbox_inches='tight', format='pdf', transparent = True, dpi=300)"
   ]
  },
  {
   "cell_type": "code",
   "execution_count": 37,
   "metadata": {},
   "outputs": [
    {
     "data": {
      "image/png": "[encoded data removed]",
      "text/plain": [
       "<Figure size 50.4x108 with 1 Axes>"
      ]
     },
     "metadata": {
      "needs_background": "light"
     },
     "output_type": "display_data"
    }
   ],
   "source": [
    "in_strs = ['ACAd', 'ACAv', 'PL', 'ILA', 'ORBl', 'ORBm', 'ORBvl', 'VISa', 'VISam', 'RSPagl',\n",
    "    'RSPd', 'RSPv', 'SSp-tr', 'SSp-ll', 'MOs']\n",
    "dat.loc[dat['source'].isin(in_strs), 'in-out'] = 'in'\n",
    "dat.loc[~dat['source'].isin(in_strs), 'in-out'] = 'out'\n",
    "type_order = ['in', 'out']\n",
    "fig, ax = plt.subplots(1, figsize = (0.7, 1.5))\n",
    "sns.boxplot('in-out', 'spearman_correlation',\n",
    "              data = dat[dat['source'].isin(plot_order)], order = type_order,\n",
    "              hue = 'experiment_type', hue_order = ['in-out', 'both in', 'both out'],\n",
    "              linewidth = 0.5, palette = ['gray','mediumpurple', 'w'],\n",
    "             fliersize = 0.5, dodge = True)\n",
    "ax.set_xlim([-0.5, 1.5])\n",
    "ax.set_ylim([-0.1,1.1])\n",
    "plt.xticks([0, 1], fontsize = 8, labels = ['in', 'out'])\n",
    "plt.yticks([0, 0.5, 1], fontsize = 8)\n",
    "ax.set_ylabel(\"Spearman Correlation\", fontsize = 8)\n",
    "ax.yaxis.labelpad = 1\n",
    "sns.despine()\n",
    "ax.set_xlabel(\"Source\\nType\", fontsize = 8)\n",
    "ax.legend_.remove()\n",
    "ax.tick_params(top = False, right = False, left = True, pad = 1)\n",
    "\n",
    "plt.savefig(os.path.join(savepath, 'TD-TD_corr_boxplot_in-out.pdf'), \n",
    "            bbox_inches='tight', format='pdf', transparent=True, dpi=300)"
   ]
  },
  {
   "cell_type": "code",
   "execution_count": 38,
   "metadata": {},
   "outputs": [],
   "source": [
    "def assign_module(df):\n",
    "    df.loc[df['source'].isin(['ACAd', 'ACAv', 'ORBl','ORBm', 'ORBvl', \n",
    "                                                    'ILA', 'PL', 'FRP']), 'module'] = 'Prefrontal'\n",
    "    df.loc[df['source'].isin(['VISam', 'RSPagl', 'RSPv', 'VISpm',\n",
    "                                                    'VISa', 'RSPd']), 'module'] = 'Medial'\n",
    "    df.loc[df['source'].isin(['SSp-tr', 'SSp-ll', 'SSp-bfd', 'SSp-un',\n",
    "                                                    'SSp-ul', 'MOs', 'MOp', 'SSs', 'SSp-n',\n",
    "                                                    'SSp-m']), 'module'] = 'Somatomotor'\n",
    "    df.loc[df['source'].isin(['VISal', 'VISl', 'VISli', 'VISp', 'VISpl',\n",
    "                                                    'VISpor', 'VISrl']), 'module'] = 'Visual'\n",
    "    df.loc[df['source'].isin(['AUDpo', 'AUDd', 'AUDp', 'AUDv']), \n",
    "                    'module'] = 'Auditory'\n",
    "    df.loc[df['source'].isin(['TEa', 'PERI', 'ECT', 'GU', 'AId', 'AIv',\n",
    "                                                    'AIp', 'VISC']), 'module'] = 'Lateral'\n",
    "    print(len(df[df['module'].isnull()]))\n",
    "    return df"
   ]
  },
  {
   "cell_type": "code",
   "execution_count": 39,
   "metadata": {},
   "outputs": [
    {
     "name": "stdout",
     "output_type": "stream",
     "text": [
      "0\n"
     ]
    },
    {
     "data": {
      "image/png": "[encoded data removed]",
      "text/plain": [
       "<Figure size 50.4x108 with 1 Axes>"
      ]
     },
     "metadata": {
      "needs_background": "light"
     },
     "output_type": "display_data"
    }
   ],
   "source": [
    "dat = assign_module(dat)\n",
    "mod_order = ['Prefrontal', 'Medial', 'Visual']\n",
    "fig, ax = plt.subplots(1, figsize = (0.7, 1.5))\n",
    "sns.boxplot('module', 'spearman_correlation', data = dat, \n",
    "            order = mod_order, ax = ax, \n",
    "            hue = 'experiment_type', hue_order = ['in-out', 'both in', 'both out'],\n",
    "            palette = ['gray', 'mediumpurple', 'w'],\n",
    "            fliersize = 0.1, linewidth = 0.5)\n",
    "ax.tick_params(top = False, right = False)\n",
    "ax.set_ylim([-0.1, 1.1])\n",
    "plt.yticks([0, 0.5, 1], fontsize = 8)\n",
    "plt.xticks(rotation = 90, fontsize = 8)\n",
    "ax.set_xlabel(\"Source Module\", fontsize = 10)\n",
    "ax.set_ylabel(\"Spearman Correlation\", fontsize = 8)\n",
    "ax.yaxis.labelpad = 1\n",
    "ax.xaxis.labelpad = 8\n",
    "ax.tick_params(top = False, right = False, left = True, bottom = False, pad = 1)\n",
    "ax.tick_params(axis = 'x', pad=-3)\n",
    "ax.legend_.remove()\n",
    "sns.despine()\n",
    "ax.axhline(y=1, xmin=0, xmax=1, color = 'grey', linestyle = 'dashed', \n",
    "           linewidth = 0.5, zorder = -1)\n",
    "plt.savefig(os.path.join(savepath, 'TD-TD_corr_by_module_and_target_boxplot_horizontal.pdf'), \n",
    "            bbox_inches='tight', pad_inches=0.3, format='pdf', transparent=True, dpi=300)"
   ]
  },
  {
   "cell_type": "code",
   "execution_count": 40,
   "metadata": {},
   "outputs": [
    {
     "data": {
      "text/html": [
       "<div>\n",
       "<style scoped>\n",
       "    .dataframe tbody tr th:only-of-type {\n",
       "        vertical-align: middle;\n",
       "    }\n",
       "\n",
       "    .dataframe tbody tr th {\n",
       "        vertical-align: top;\n",
       "    }\n",
       "\n",
       "    .dataframe thead th {\n",
       "        text-align: right;\n",
       "    }\n",
       "</style>\n",
       "<table border=\"1\" class=\"dataframe\">\n",
       "  <thead>\n",
       "    <tr style=\"text-align: right;\">\n",
       "      <th></th>\n",
       "      <th>sum_sq</th>\n",
       "      <th>df</th>\n",
       "      <th>F</th>\n",
       "      <th>PR(&gt;F)</th>\n",
       "    </tr>\n",
       "  </thead>\n",
       "  <tbody>\n",
       "    <tr>\n",
       "      <th>C(in_out)</th>\n",
       "      <td>0.0491</td>\n",
       "      <td>1.0</td>\n",
       "      <td>3.8734</td>\n",
       "      <td>0.0503</td>\n",
       "    </tr>\n",
       "    <tr>\n",
       "      <th>C(experiment_type)</th>\n",
       "      <td>0.0258</td>\n",
       "      <td>2.0</td>\n",
       "      <td>1.0165</td>\n",
       "      <td>0.3636</td>\n",
       "    </tr>\n",
       "    <tr>\n",
       "      <th>C(in_out):C(experiment_type)</th>\n",
       "      <td>0.0060</td>\n",
       "      <td>2.0</td>\n",
       "      <td>0.2353</td>\n",
       "      <td>0.7906</td>\n",
       "    </tr>\n",
       "    <tr>\n",
       "      <th>Residual</th>\n",
       "      <td>2.7903</td>\n",
       "      <td>220.0</td>\n",
       "      <td>NaN</td>\n",
       "      <td>NaN</td>\n",
       "    </tr>\n",
       "  </tbody>\n",
       "</table>\n",
       "</div>"
      ],
      "text/plain": [
       "                              sum_sq     df       F  PR(>F)\n",
       "C(in_out)                     0.0491    1.0  3.8734  0.0503\n",
       "C(experiment_type)            0.0258    2.0  1.0165  0.3636\n",
       "C(in_out):C(experiment_type)  0.0060    2.0  0.2353  0.7906\n",
       "Residual                      2.7903  220.0     NaN     NaN"
      ]
     },
     "execution_count": 40,
     "metadata": {},
     "output_type": "execute_result"
    }
   ],
   "source": [
    "from statsmodels.stats.anova import anova_lm\n",
    "dat['in_out'] = dat['in-out'].values\n",
    "formula = 'spearman_correlation~C(in_out)*C(experiment_type)' \n",
    "model = ols(formula, dat).fit()\n",
    "aov_table = anova_lm(model, typ=2) #http://www.utstat.utoronto.ca/reid/sta442f/2009/typeSS.pdf\n",
    "aov_table.round(4)"
   ]
  },
  {
   "cell_type": "code",
   "execution_count": 41,
   "metadata": {},
   "outputs": [
    {
     "name": "stdout",
     "output_type": "stream",
     "text": [
      "(0.9519688487052917, 7.700013497924374e-07)\n"
     ]
    },
    {
     "data": {
      "image/png": "[encoded data removed]",
      "text/plain": [
       "<Figure size 432x288 with 1 Axes>"
      ]
     },
     "metadata": {
      "needs_background": "light"
     },
     "output_type": "display_data"
    }
   ],
   "source": [
    "print(stats.shapiro(model.resid))\n",
    "res = model.resid \n",
    "fig = sm.qqplot(res, line='s')\n",
    "plt.show()"
   ]
  },
  {
   "cell_type": "code",
   "execution_count": 42,
   "metadata": {},
   "outputs": [
    {
     "ename": "TypeError",
     "evalue": "'<' not supported between instances of 'str' and 'float'",
     "output_type": "error",
     "traceback": [
      "\u001b[0;31m---------------------------------------------------------------------------\u001b[0m",
      "\u001b[0;31mTypeError\u001b[0m                                 Traceback (most recent call last)",
      "\u001b[0;32m<ipython-input-42-36cc2769f9a4>\u001b[0m in \u001b[0;36m<module>\u001b[0;34m\u001b[0m\n\u001b[1;32m      1\u001b[0m \u001b[0;32mfrom\u001b[0m \u001b[0mstatsmodels\u001b[0m\u001b[0;34m.\u001b[0m\u001b[0mstats\u001b[0m\u001b[0;34m.\u001b[0m\u001b[0mmulticomp\u001b[0m \u001b[0;32mimport\u001b[0m \u001b[0mMultiComparison\u001b[0m\u001b[0;34m\u001b[0m\u001b[0;34m\u001b[0m\u001b[0m\n\u001b[1;32m      2\u001b[0m mc = MultiComparison(dat[dat['in_out'] == 'in']['spearman_correlation'], \n\u001b[0;32m----> 3\u001b[0;31m                     dat[dat['in_out'] == 'in']['experiment_type'])\n\u001b[0m\u001b[1;32m      4\u001b[0m \u001b[0mmc_results\u001b[0m \u001b[0;34m=\u001b[0m \u001b[0mmc\u001b[0m\u001b[0;34m.\u001b[0m\u001b[0mtukeyhsd\u001b[0m\u001b[0;34m(\u001b[0m\u001b[0;34m)\u001b[0m\u001b[0;34m\u001b[0m\u001b[0;34m\u001b[0m\u001b[0m\n\u001b[1;32m      5\u001b[0m \u001b[0mprint\u001b[0m\u001b[0;34m(\u001b[0m\u001b[0mmc_results\u001b[0m\u001b[0;34m)\u001b[0m\u001b[0;34m\u001b[0m\u001b[0;34m\u001b[0m\u001b[0m\n",
      "\u001b[0;32m~/Dropbox (Allen Institute)/Mesoscale Connectome Papers in Progress/2019 DMN/_new_figures/jupyter_notebooks/env/lib/python3.7/site-packages/statsmodels/sandbox/stats/multicomp.py\u001b[0m in \u001b[0;36m__init__\u001b[0;34m(self, data, groups, group_order)\u001b[0m\n\u001b[1;32m    825\u001b[0m         \u001b[0;32mif\u001b[0m \u001b[0mgroup_order\u001b[0m \u001b[0;32mis\u001b[0m \u001b[0;32mNone\u001b[0m\u001b[0;34m:\u001b[0m\u001b[0;34m\u001b[0m\u001b[0;34m\u001b[0m\u001b[0m\n\u001b[1;32m    826\u001b[0m             self.groupsunique, self.groupintlab = np.unique(groups,\n\u001b[0;32m--> 827\u001b[0;31m                                                             return_inverse=True)\n\u001b[0m\u001b[1;32m    828\u001b[0m         \u001b[0;32melse\u001b[0m\u001b[0;34m:\u001b[0m\u001b[0;34m\u001b[0m\u001b[0;34m\u001b[0m\u001b[0m\n\u001b[1;32m    829\u001b[0m             \u001b[0;31m#check if group_order has any names not in groups\u001b[0m\u001b[0;34m\u001b[0m\u001b[0;34m\u001b[0m\u001b[0;34m\u001b[0m\u001b[0m\n",
      "\u001b[0;32m<__array_function__ internals>\u001b[0m in \u001b[0;36munique\u001b[0;34m(*args, **kwargs)\u001b[0m\n",
      "\u001b[0;32m~/Dropbox (Allen Institute)/Mesoscale Connectome Papers in Progress/2019 DMN/_new_figures/jupyter_notebooks/env/lib/python3.7/site-packages/numpy/lib/arraysetops.py\u001b[0m in \u001b[0;36munique\u001b[0;34m(ar, return_index, return_inverse, return_counts, axis)\u001b[0m\n\u001b[1;32m    260\u001b[0m     \u001b[0mar\u001b[0m \u001b[0;34m=\u001b[0m \u001b[0mnp\u001b[0m\u001b[0;34m.\u001b[0m\u001b[0masanyarray\u001b[0m\u001b[0;34m(\u001b[0m\u001b[0mar\u001b[0m\u001b[0;34m)\u001b[0m\u001b[0;34m\u001b[0m\u001b[0;34m\u001b[0m\u001b[0m\n\u001b[1;32m    261\u001b[0m     \u001b[0;32mif\u001b[0m \u001b[0maxis\u001b[0m \u001b[0;32mis\u001b[0m \u001b[0;32mNone\u001b[0m\u001b[0;34m:\u001b[0m\u001b[0;34m\u001b[0m\u001b[0;34m\u001b[0m\u001b[0m\n\u001b[0;32m--> 262\u001b[0;31m         \u001b[0mret\u001b[0m \u001b[0;34m=\u001b[0m \u001b[0m_unique1d\u001b[0m\u001b[0;34m(\u001b[0m\u001b[0mar\u001b[0m\u001b[0;34m,\u001b[0m \u001b[0mreturn_index\u001b[0m\u001b[0;34m,\u001b[0m \u001b[0mreturn_inverse\u001b[0m\u001b[0;34m,\u001b[0m \u001b[0mreturn_counts\u001b[0m\u001b[0;34m)\u001b[0m\u001b[0;34m\u001b[0m\u001b[0;34m\u001b[0m\u001b[0m\n\u001b[0m\u001b[1;32m    263\u001b[0m         \u001b[0;32mreturn\u001b[0m \u001b[0m_unpack_tuple\u001b[0m\u001b[0;34m(\u001b[0m\u001b[0mret\u001b[0m\u001b[0;34m)\u001b[0m\u001b[0;34m\u001b[0m\u001b[0;34m\u001b[0m\u001b[0m\n\u001b[1;32m    264\u001b[0m \u001b[0;34m\u001b[0m\u001b[0m\n",
      "\u001b[0;32m~/Dropbox (Allen Institute)/Mesoscale Connectome Papers in Progress/2019 DMN/_new_figures/jupyter_notebooks/env/lib/python3.7/site-packages/numpy/lib/arraysetops.py\u001b[0m in \u001b[0;36m_unique1d\u001b[0;34m(ar, return_index, return_inverse, return_counts)\u001b[0m\n\u001b[1;32m    305\u001b[0m \u001b[0;34m\u001b[0m\u001b[0m\n\u001b[1;32m    306\u001b[0m     \u001b[0;32mif\u001b[0m \u001b[0moptional_indices\u001b[0m\u001b[0;34m:\u001b[0m\u001b[0;34m\u001b[0m\u001b[0;34m\u001b[0m\u001b[0m\n\u001b[0;32m--> 307\u001b[0;31m         \u001b[0mperm\u001b[0m \u001b[0;34m=\u001b[0m \u001b[0mar\u001b[0m\u001b[0;34m.\u001b[0m\u001b[0margsort\u001b[0m\u001b[0;34m(\u001b[0m\u001b[0mkind\u001b[0m\u001b[0;34m=\u001b[0m\u001b[0;34m'mergesort'\u001b[0m \u001b[0;32mif\u001b[0m \u001b[0mreturn_index\u001b[0m \u001b[0;32melse\u001b[0m \u001b[0;34m'quicksort'\u001b[0m\u001b[0;34m)\u001b[0m\u001b[0;34m\u001b[0m\u001b[0;34m\u001b[0m\u001b[0m\n\u001b[0m\u001b[1;32m    308\u001b[0m         \u001b[0maux\u001b[0m \u001b[0;34m=\u001b[0m \u001b[0mar\u001b[0m\u001b[0;34m[\u001b[0m\u001b[0mperm\u001b[0m\u001b[0;34m]\u001b[0m\u001b[0;34m\u001b[0m\u001b[0;34m\u001b[0m\u001b[0m\n\u001b[1;32m    309\u001b[0m     \u001b[0;32melse\u001b[0m\u001b[0;34m:\u001b[0m\u001b[0;34m\u001b[0m\u001b[0;34m\u001b[0m\u001b[0m\n",
      "\u001b[0;31mTypeError\u001b[0m: '<' not supported between instances of 'str' and 'float'"
     ]
    }
   ],
   "source": [
    "from statsmodels.stats.multicomp import MultiComparison\n",
    "mc = MultiComparison(dat[dat['in_out'] == 'in']['spearman_correlation'], \n",
    "                    dat[dat['in_out'] == 'in']['experiment_type'])\n",
    "mc_results = mc.tukeyhsd()\n",
    "print(mc_results)"
   ]
  },
  {
   "cell_type": "code",
   "execution_count": 43,
   "metadata": {},
   "outputs": [
    {
     "data": {
      "text/html": [
       "<div>\n",
       "<style scoped>\n",
       "    .dataframe tbody tr th:only-of-type {\n",
       "        vertical-align: middle;\n",
       "    }\n",
       "\n",
       "    .dataframe tbody tr th {\n",
       "        vertical-align: top;\n",
       "    }\n",
       "\n",
       "    .dataframe thead th {\n",
       "        text-align: right;\n",
       "    }\n",
       "</style>\n",
       "<table border=\"1\" class=\"dataframe\">\n",
       "  <thead>\n",
       "    <tr style=\"text-align: right;\">\n",
       "      <th></th>\n",
       "      <th>sum_sq</th>\n",
       "      <th>df</th>\n",
       "      <th>F</th>\n",
       "      <th>PR(&gt;F)</th>\n",
       "    </tr>\n",
       "  </thead>\n",
       "  <tbody>\n",
       "    <tr>\n",
       "      <th>C(module)</th>\n",
       "      <td>0.0482</td>\n",
       "      <td>2.0</td>\n",
       "      <td>1.9036</td>\n",
       "      <td>0.1515</td>\n",
       "    </tr>\n",
       "    <tr>\n",
       "      <th>C(experiment_type)</th>\n",
       "      <td>0.0239</td>\n",
       "      <td>2.0</td>\n",
       "      <td>0.9423</td>\n",
       "      <td>0.3913</td>\n",
       "    </tr>\n",
       "    <tr>\n",
       "      <th>C(module):C(experiment_type)</th>\n",
       "      <td>0.0447</td>\n",
       "      <td>4.0</td>\n",
       "      <td>0.8821</td>\n",
       "      <td>0.4755</td>\n",
       "    </tr>\n",
       "    <tr>\n",
       "      <th>Residual</th>\n",
       "      <td>2.7210</td>\n",
       "      <td>215.0</td>\n",
       "      <td>NaN</td>\n",
       "      <td>NaN</td>\n",
       "    </tr>\n",
       "  </tbody>\n",
       "</table>\n",
       "</div>"
      ],
      "text/plain": [
       "                              sum_sq     df       F  PR(>F)\n",
       "C(module)                     0.0482    2.0  1.9036  0.1515\n",
       "C(experiment_type)            0.0239    2.0  0.9423  0.3913\n",
       "C(module):C(experiment_type)  0.0447    4.0  0.8821  0.4755\n",
       "Residual                      2.7210  215.0     NaN     NaN"
      ]
     },
     "execution_count": 43,
     "metadata": {},
     "output_type": "execute_result"
    }
   ],
   "source": [
    "formula = 'spearman_correlation~C(module)*C(experiment_type)' \n",
    "model = ols(formula, dat[dat['module'].isin(['Prefrontal', 'Medial', 'Visual'])]).fit()\n",
    "aov_table = anova_lm(model, typ=2)\n",
    "aov_table.round(4)"
   ]
  },
  {
   "cell_type": "code",
   "execution_count": 44,
   "metadata": {},
   "outputs": [
    {
     "name": "stdout",
     "output_type": "stream",
     "text": [
      "(0.9543882608413696, 1.5338194998548715e-06)\n"
     ]
    },
    {
     "data": {
      "image/png": "[encoded data removed]",
      "text/plain": [
       "<Figure size 432x288 with 1 Axes>"
      ]
     },
     "metadata": {
      "needs_background": "light"
     },
     "output_type": "display_data"
    }
   ],
   "source": [
    "print(stats.shapiro(model.resid))\n",
    "res = model.resid \n",
    "fig = sm.qqplot(res, line='s')\n",
    "plt.show()"
   ]
  },
  {
   "cell_type": "code",
   "execution_count": 45,
   "metadata": {},
   "outputs": [
    {
     "name": "stdout",
     "output_type": "stream",
     "text": [
      "Visual\n",
      "  Multiple Comparison of Means - Tukey HSD, FWER=0.05  \n",
      "=======================================================\n",
      " group1   group2  meandiff p-adj   lower  upper  reject\n",
      "-------------------------------------------------------\n",
      "both in  both out -0.0293  0.5544 -0.0966 0.038  False \n",
      "both in   in-out  -0.0296  0.5154 -0.0934 0.0342 False \n",
      "both out  in-out  -0.0003   0.9   -0.0505 0.0498 False \n",
      "-------------------------------------------------------\n",
      "Medial\n"
     ]
    },
    {
     "ename": "TypeError",
     "evalue": "'<' not supported between instances of 'str' and 'float'",
     "output_type": "error",
     "traceback": [
      "\u001b[0;31m---------------------------------------------------------------------------\u001b[0m",
      "\u001b[0;31mTypeError\u001b[0m                                 Traceback (most recent call last)",
      "\u001b[0;32m<ipython-input-45-ae0f4bfd49c7>\u001b[0m in \u001b[0;36m<module>\u001b[0;34m\u001b[0m\n\u001b[1;32m      2\u001b[0m     \u001b[0mprint\u001b[0m\u001b[0;34m(\u001b[0m\u001b[0mmodule\u001b[0m\u001b[0;34m)\u001b[0m\u001b[0;34m\u001b[0m\u001b[0;34m\u001b[0m\u001b[0m\n\u001b[1;32m      3\u001b[0m     mc = MultiComparison(dat[dat['module'] == module]['spearman_correlation'], \n\u001b[0;32m----> 4\u001b[0;31m                      dat[dat['module'] == module]['experiment_type'])\n\u001b[0m\u001b[1;32m      5\u001b[0m     \u001b[0mmc_results\u001b[0m \u001b[0;34m=\u001b[0m \u001b[0mmc\u001b[0m\u001b[0;34m.\u001b[0m\u001b[0mtukeyhsd\u001b[0m\u001b[0;34m(\u001b[0m\u001b[0;34m)\u001b[0m\u001b[0;34m\u001b[0m\u001b[0;34m\u001b[0m\u001b[0m\n\u001b[1;32m      6\u001b[0m     \u001b[0mprint\u001b[0m\u001b[0;34m(\u001b[0m\u001b[0mmc_results\u001b[0m\u001b[0;34m)\u001b[0m\u001b[0;34m\u001b[0m\u001b[0;34m\u001b[0m\u001b[0m\n",
      "\u001b[0;32m~/Dropbox (Allen Institute)/Mesoscale Connectome Papers in Progress/2019 DMN/_new_figures/jupyter_notebooks/env/lib/python3.7/site-packages/statsmodels/sandbox/stats/multicomp.py\u001b[0m in \u001b[0;36m__init__\u001b[0;34m(self, data, groups, group_order)\u001b[0m\n\u001b[1;32m    825\u001b[0m         \u001b[0;32mif\u001b[0m \u001b[0mgroup_order\u001b[0m \u001b[0;32mis\u001b[0m \u001b[0;32mNone\u001b[0m\u001b[0;34m:\u001b[0m\u001b[0;34m\u001b[0m\u001b[0;34m\u001b[0m\u001b[0m\n\u001b[1;32m    826\u001b[0m             self.groupsunique, self.groupintlab = np.unique(groups,\n\u001b[0;32m--> 827\u001b[0;31m                                                             return_inverse=True)\n\u001b[0m\u001b[1;32m    828\u001b[0m         \u001b[0;32melse\u001b[0m\u001b[0;34m:\u001b[0m\u001b[0;34m\u001b[0m\u001b[0;34m\u001b[0m\u001b[0m\n\u001b[1;32m    829\u001b[0m             \u001b[0;31m#check if group_order has any names not in groups\u001b[0m\u001b[0;34m\u001b[0m\u001b[0;34m\u001b[0m\u001b[0;34m\u001b[0m\u001b[0m\n",
      "\u001b[0;32m<__array_function__ internals>\u001b[0m in \u001b[0;36munique\u001b[0;34m(*args, **kwargs)\u001b[0m\n",
      "\u001b[0;32m~/Dropbox (Allen Institute)/Mesoscale Connectome Papers in Progress/2019 DMN/_new_figures/jupyter_notebooks/env/lib/python3.7/site-packages/numpy/lib/arraysetops.py\u001b[0m in \u001b[0;36munique\u001b[0;34m(ar, return_index, return_inverse, return_counts, axis)\u001b[0m\n\u001b[1;32m    260\u001b[0m     \u001b[0mar\u001b[0m \u001b[0;34m=\u001b[0m \u001b[0mnp\u001b[0m\u001b[0;34m.\u001b[0m\u001b[0masanyarray\u001b[0m\u001b[0;34m(\u001b[0m\u001b[0mar\u001b[0m\u001b[0;34m)\u001b[0m\u001b[0;34m\u001b[0m\u001b[0;34m\u001b[0m\u001b[0m\n\u001b[1;32m    261\u001b[0m     \u001b[0;32mif\u001b[0m \u001b[0maxis\u001b[0m \u001b[0;32mis\u001b[0m \u001b[0;32mNone\u001b[0m\u001b[0;34m:\u001b[0m\u001b[0;34m\u001b[0m\u001b[0;34m\u001b[0m\u001b[0m\n\u001b[0;32m--> 262\u001b[0;31m         \u001b[0mret\u001b[0m \u001b[0;34m=\u001b[0m \u001b[0m_unique1d\u001b[0m\u001b[0;34m(\u001b[0m\u001b[0mar\u001b[0m\u001b[0;34m,\u001b[0m \u001b[0mreturn_index\u001b[0m\u001b[0;34m,\u001b[0m \u001b[0mreturn_inverse\u001b[0m\u001b[0;34m,\u001b[0m \u001b[0mreturn_counts\u001b[0m\u001b[0;34m)\u001b[0m\u001b[0;34m\u001b[0m\u001b[0;34m\u001b[0m\u001b[0m\n\u001b[0m\u001b[1;32m    263\u001b[0m         \u001b[0;32mreturn\u001b[0m \u001b[0m_unpack_tuple\u001b[0m\u001b[0;34m(\u001b[0m\u001b[0mret\u001b[0m\u001b[0;34m)\u001b[0m\u001b[0;34m\u001b[0m\u001b[0;34m\u001b[0m\u001b[0m\n\u001b[1;32m    264\u001b[0m \u001b[0;34m\u001b[0m\u001b[0m\n",
      "\u001b[0;32m~/Dropbox (Allen Institute)/Mesoscale Connectome Papers in Progress/2019 DMN/_new_figures/jupyter_notebooks/env/lib/python3.7/site-packages/numpy/lib/arraysetops.py\u001b[0m in \u001b[0;36m_unique1d\u001b[0;34m(ar, return_index, return_inverse, return_counts)\u001b[0m\n\u001b[1;32m    305\u001b[0m \u001b[0;34m\u001b[0m\u001b[0m\n\u001b[1;32m    306\u001b[0m     \u001b[0;32mif\u001b[0m \u001b[0moptional_indices\u001b[0m\u001b[0;34m:\u001b[0m\u001b[0;34m\u001b[0m\u001b[0;34m\u001b[0m\u001b[0m\n\u001b[0;32m--> 307\u001b[0;31m         \u001b[0mperm\u001b[0m \u001b[0;34m=\u001b[0m \u001b[0mar\u001b[0m\u001b[0;34m.\u001b[0m\u001b[0margsort\u001b[0m\u001b[0;34m(\u001b[0m\u001b[0mkind\u001b[0m\u001b[0;34m=\u001b[0m\u001b[0;34m'mergesort'\u001b[0m \u001b[0;32mif\u001b[0m \u001b[0mreturn_index\u001b[0m \u001b[0;32melse\u001b[0m \u001b[0;34m'quicksort'\u001b[0m\u001b[0;34m)\u001b[0m\u001b[0;34m\u001b[0m\u001b[0;34m\u001b[0m\u001b[0m\n\u001b[0m\u001b[1;32m    308\u001b[0m         \u001b[0maux\u001b[0m \u001b[0;34m=\u001b[0m \u001b[0mar\u001b[0m\u001b[0;34m[\u001b[0m\u001b[0mperm\u001b[0m\u001b[0;34m]\u001b[0m\u001b[0;34m\u001b[0m\u001b[0;34m\u001b[0m\u001b[0m\n\u001b[1;32m    309\u001b[0m     \u001b[0;32melse\u001b[0m\u001b[0;34m:\u001b[0m\u001b[0;34m\u001b[0m\u001b[0;34m\u001b[0m\u001b[0m\n",
      "\u001b[0;31mTypeError\u001b[0m: '<' not supported between instances of 'str' and 'float'"
     ]
    }
   ],
   "source": [
    "for module in dat[dat['module'].isin(['Prefrontal', 'Medial', 'Visual'])]['module'].unique():\n",
    "    print(module)\n",
    "    mc = MultiComparison(dat[dat['module'] == module]['spearman_correlation'], \n",
    "                     dat[dat['module'] == module]['experiment_type'])\n",
    "    mc_results = mc.tukeyhsd()\n",
    "    print(mc_results)"
   ]
  },
  {
   "cell_type": "code",
   "execution_count": null,
   "metadata": {},
   "outputs": [],
   "source": [
    "dat[dat['module'].isnull()]['source'].unique()"
   ]
  },
  {
   "cell_type": "code",
   "execution_count": 46,
   "metadata": {},
   "outputs": [],
   "source": [
    "dat['diff'] = dat['spearman_correlation'] - dat['exp_predicted']"
   ]
  },
  {
   "cell_type": "code",
   "execution_count": 47,
   "metadata": {},
   "outputs": [
    {
     "data": {
      "text/plain": [
       "\"\\nplt.savefig(os.path.join(savepath, 'TD-TD_pred_err_boxplot_in-out.pdf'), \\n            bbox_inches='tight', format='pdf', transparent=True, dpi=300)\\n            \""
      ]
     },
     "execution_count": 47,
     "metadata": {},
     "output_type": "execute_result"
    },
    {
     "data": {
      "image/png": "[encoded data removed]",
      "text/plain": [
       "<Figure size 36x108 with 1 Axes>"
      ]
     },
     "metadata": {
      "needs_background": "light"
     },
     "output_type": "display_data"
    }
   ],
   "source": [
    "in_strs = ['ACAd', 'ACAv', 'PL', 'ILA', 'ORBl', 'ORBm', 'ORBvl', 'VISa', 'VISam', 'RSPagl',\n",
    "    'RSPd', 'RSPv', 'SSp-tr', 'SSp-ll', 'MOs']\n",
    "dat.loc[dat['source'].isin(in_strs), 'in-out'] = 'in'\n",
    "dat.loc[~dat['source'].isin(in_strs), 'in-out'] = 'out'\n",
    "type_order = ['in', 'out']\n",
    "fig, ax = plt.subplots(1, figsize = (0.5, 1.5))\n",
    "sns.boxplot('in-out', 'diff',\n",
    "              data = dat[dat['source'].isin(plot_order)], order = type_order,\n",
    "              hue = 'experiment_type', hue_order = ['in-out', 'both in', 'both out'],\n",
    "              linewidth = 0.5, palette = ['gray', 'mediumpurple', 'w'],\n",
    "             fliersize = 0.1, dodge = True)\n",
    "ax.set_xlim([-0.5, 1.5])\n",
    "#ax.set_ylim([-0.1,1.1])\n",
    "plt.xticks([0, 1], fontsize = 8, labels = ['in', 'out'])\n",
    "plt.yticks(fontsize = 8)\n",
    "ax.set_ylabel(\"Prediction Error\", fontsize = 8)\n",
    "ax.yaxis.labelpad = 1\n",
    "sns.despine()\n",
    "ax.set_xlabel(\"Source\\nType\", fontsize = 8)\n",
    "ax.legend_.remove()\n",
    "ax.tick_params(top = False, right = False, left = True, pad = 1)\n",
    "'''\n",
    "plt.savefig(os.path.join(savepath, 'TD-TD_pred_err_boxplot_in-out.pdf'), \n",
    "            bbox_inches='tight', format='pdf', transparent=True, dpi=300)\n",
    "            '''"
   ]
  },
  {
   "cell_type": "code",
   "execution_count": 48,
   "metadata": {},
   "outputs": [
    {
     "data": {
      "text/plain": [
       "\"\\nplt.savefig(os.path.join(savepath, 'TD-TD_prediction_err_by_module_and_target_boxplot.pdf'), \\n            bbox_inches='tight', pad_inches=0.3, format='pdf', transparent=True, dpi=300)\\n            \""
      ]
     },
     "execution_count": 48,
     "metadata": {},
     "output_type": "execute_result"
    },
    {
     "data": {
      "image/png": "[encoded data removed]",
      "text/plain": [
       "<Figure size 72x108 with 1 Axes>"
      ]
     },
     "metadata": {
      "needs_background": "light"
     },
     "output_type": "display_data"
    }
   ],
   "source": [
    "mod_order = ['Prefrontal', 'Medial', 'Visual']\n",
    "fig, ax = plt.subplots(1, figsize = (1, 1.5))\n",
    "sns.boxplot('module', 'diff', data = dat[~dat['module'].isnull()], # no ENTl or ENTm\n",
    "            order = mod_order, ax = ax, \n",
    "            hue = 'experiment_type', hue_order = ['in-out', 'both in', 'both out'],\n",
    "            palette = ['gray', 'mediumpurple', 'w'],\n",
    "            fliersize = 0.1, linewidth = 0.5)\n",
    "ax.tick_params(top = False, right = False)\n",
    "#ax.set_ylim([-0.1, 1.1])\n",
    "#plt.yticks([0, 0.5, 1], fontsize = 8)\n",
    "plt.xticks(rotation = 90, fontsize = 8)\n",
    "ax.set_xlabel(None)\n",
    "ax.set_ylabel(\"Prediction Error\", fontsize = 8)\n",
    "ax.yaxis.labelpad = -3\n",
    "ax.xaxis.labelpad = 5\n",
    "ax.tick_params(top = False, right = False, left = True, bottom = False, pad = 1)\n",
    "ax.tick_params(axis = 'x', pad=-3)\n",
    "ax.legend_.remove()\n",
    "sns.despine()\n",
    "'''\n",
    "plt.savefig(os.path.join(savepath, 'TD-TD_prediction_err_by_module_and_target_boxplot.pdf'), \n",
    "            bbox_inches='tight', pad_inches=0.3, format='pdf', transparent=True, dpi=300)\n",
    "            '''"
   ]
  },
  {
   "cell_type": "code",
   "execution_count": 49,
   "metadata": {},
   "outputs": [
    {
     "data": {
      "text/plain": [
       "0.8296590212352941"
      ]
     },
     "execution_count": 49,
     "metadata": {},
     "output_type": "execute_result"
    }
   ],
   "source": [
    "dat[dat['source'] == 'ACAd']['spearman_correlation'].mean()"
   ]
  },
  {
   "cell_type": "code",
   "execution_count": 50,
   "metadata": {},
   "outputs": [
    {
     "data": {
      "text/html": [
       "<div>\n",
       "<style scoped>\n",
       "    .dataframe tbody tr th:only-of-type {\n",
       "        vertical-align: middle;\n",
       "    }\n",
       "\n",
       "    .dataframe tbody tr th {\n",
       "        vertical-align: top;\n",
       "    }\n",
       "\n",
       "    .dataframe thead th {\n",
       "        text-align: right;\n",
       "    }\n",
       "</style>\n",
       "<table border=\"1\" class=\"dataframe\">\n",
       "  <thead>\n",
       "    <tr style=\"text-align: right;\">\n",
       "      <th></th>\n",
       "      <th>image_series_id</th>\n",
       "      <th>match_id</th>\n",
       "      <th>spearman_correlation</th>\n",
       "      <th>distance</th>\n",
       "      <th>dice_coefficient</th>\n",
       "      <th>experiment_type</th>\n",
       "    </tr>\n",
       "  </thead>\n",
       "  <tbody>\n",
       "    <tr>\n",
       "      <th>2</th>\n",
       "      <td>515920693</td>\n",
       "      <td>501837158</td>\n",
       "      <td>0.432731</td>\n",
       "      <td>214.496235</td>\n",
       "      <td>0.199958</td>\n",
       "      <td>both out</td>\n",
       "    </tr>\n",
       "    <tr>\n",
       "      <th>165</th>\n",
       "      <td>502592260</td>\n",
       "      <td>501837158</td>\n",
       "      <td>0.610649</td>\n",
       "      <td>355.903507</td>\n",
       "      <td>0.130211</td>\n",
       "      <td>in-out</td>\n",
       "    </tr>\n",
       "    <tr>\n",
       "      <th>250</th>\n",
       "      <td>546389260</td>\n",
       "      <td>501837158</td>\n",
       "      <td>0.697143</td>\n",
       "      <td>116.746584</td>\n",
       "      <td>0.200506</td>\n",
       "      <td>both out</td>\n",
       "    </tr>\n",
       "    <tr>\n",
       "      <th>267</th>\n",
       "      <td>526784559</td>\n",
       "      <td>501837158</td>\n",
       "      <td>0.590127</td>\n",
       "      <td>273.971511</td>\n",
       "      <td>0.105668</td>\n",
       "      <td>in-out</td>\n",
       "    </tr>\n",
       "    <tr>\n",
       "      <th>286</th>\n",
       "      <td>574637452</td>\n",
       "      <td>501837158</td>\n",
       "      <td>0.648089</td>\n",
       "      <td>80.135133</td>\n",
       "      <td>0.554591</td>\n",
       "      <td>in-out</td>\n",
       "    </tr>\n",
       "    <tr>\n",
       "      <th>486</th>\n",
       "      <td>501837158</td>\n",
       "      <td>485553574</td>\n",
       "      <td>0.569199</td>\n",
       "      <td>214.210440</td>\n",
       "      <td>0.122247</td>\n",
       "      <td>both out</td>\n",
       "    </tr>\n",
       "    <tr>\n",
       "      <th>491</th>\n",
       "      <td>501837158</td>\n",
       "      <td>501786400</td>\n",
       "      <td>0.585101</td>\n",
       "      <td>62.647480</td>\n",
       "      <td>0.336047</td>\n",
       "      <td>in-out</td>\n",
       "    </tr>\n",
       "    <tr>\n",
       "      <th>492</th>\n",
       "      <td>501837158</td>\n",
       "      <td>501787135</td>\n",
       "      <td>0.518765</td>\n",
       "      <td>131.484774</td>\n",
       "      <td>0.341723</td>\n",
       "      <td>in-out</td>\n",
       "    </tr>\n",
       "    <tr>\n",
       "      <th>496</th>\n",
       "      <td>501837158</td>\n",
       "      <td>563352720</td>\n",
       "      <td>0.592957</td>\n",
       "      <td>305.097060</td>\n",
       "      <td>0.066579</td>\n",
       "      <td>in-out</td>\n",
       "    </tr>\n",
       "    <tr>\n",
       "      <th>498</th>\n",
       "      <td>501837158</td>\n",
       "      <td>501711996</td>\n",
       "      <td>0.649123</td>\n",
       "      <td>173.172831</td>\n",
       "      <td>0.173748</td>\n",
       "      <td>in-out</td>\n",
       "    </tr>\n",
       "    <tr>\n",
       "      <th>499</th>\n",
       "      <td>501837158</td>\n",
       "      <td>565146821</td>\n",
       "      <td>0.597014</td>\n",
       "      <td>278.453195</td>\n",
       "      <td>0.218449</td>\n",
       "      <td>both out</td>\n",
       "    </tr>\n",
       "  </tbody>\n",
       "</table>\n",
       "</div>"
      ],
      "text/plain": [
       "     image_series_id   match_id  spearman_correlation    distance  \\\n",
       "2          515920693  501837158              0.432731  214.496235   \n",
       "165        502592260  501837158              0.610649  355.903507   \n",
       "250        546389260  501837158              0.697143  116.746584   \n",
       "267        526784559  501837158              0.590127  273.971511   \n",
       "286        574637452  501837158              0.648089   80.135133   \n",
       "486        501837158  485553574              0.569199  214.210440   \n",
       "491        501837158  501786400              0.585101   62.647480   \n",
       "492        501837158  501787135              0.518765  131.484774   \n",
       "496        501837158  563352720              0.592957  305.097060   \n",
       "498        501837158  501711996              0.649123  173.172831   \n",
       "499        501837158  565146821              0.597014  278.453195   \n",
       "\n",
       "     dice_coefficient experiment_type  \n",
       "2            0.199958        both out  \n",
       "165          0.130211          in-out  \n",
       "250          0.200506        both out  \n",
       "267          0.105668          in-out  \n",
       "286          0.554591          in-out  \n",
       "486          0.122247        both out  \n",
       "491          0.336047          in-out  \n",
       "492          0.341723          in-out  \n",
       "496          0.066579          in-out  \n",
       "498          0.173748          in-out  \n",
       "499          0.218449        both out  "
      ]
     },
     "execution_count": 50,
     "metadata": {},
     "output_type": "execute_result"
    }
   ],
   "source": [
    "dat[(dat['image_series_id'] == 501837158) | (dat['match_id'] == 501837158)][['image_series_id',\n",
    "                                                                    'match_id',\n",
    "                                                                    'spearman_correlation',\n",
    "                                                                    'distance',\n",
    "                                                                    'dice_coefficient',\n",
    "                                                                    'experiment_type']]"
   ]
  },
  {
   "cell_type": "code",
   "execution_count": 51,
   "metadata": {},
   "outputs": [
    {
     "data": {
      "text/html": [
       "<div>\n",
       "<style scoped>\n",
       "    .dataframe tbody tr th:only-of-type {\n",
       "        vertical-align: middle;\n",
       "    }\n",
       "\n",
       "    .dataframe tbody tr th {\n",
       "        vertical-align: top;\n",
       "    }\n",
       "\n",
       "    .dataframe thead th {\n",
       "        text-align: right;\n",
       "    }\n",
       "</style>\n",
       "<table border=\"1\" class=\"dataframe\">\n",
       "  <thead>\n",
       "    <tr style=\"text-align: right;\">\n",
       "      <th></th>\n",
       "      <th>image_series_id</th>\n",
       "      <th>match_id</th>\n",
       "      <th>spearman_correlation</th>\n",
       "      <th>distance</th>\n",
       "      <th>dice_coefficient</th>\n",
       "      <th>experiment_type</th>\n",
       "    </tr>\n",
       "  </thead>\n",
       "  <tbody>\n",
       "    <tr>\n",
       "      <th>2</th>\n",
       "      <td>515920693</td>\n",
       "      <td>501837158</td>\n",
       "      <td>0.432731</td>\n",
       "      <td>214.496235</td>\n",
       "      <td>0.199958</td>\n",
       "      <td>both out</td>\n",
       "    </tr>\n",
       "    <tr>\n",
       "      <th>492</th>\n",
       "      <td>501837158</td>\n",
       "      <td>501787135</td>\n",
       "      <td>0.518765</td>\n",
       "      <td>131.484774</td>\n",
       "      <td>0.341723</td>\n",
       "      <td>in-out</td>\n",
       "    </tr>\n",
       "    <tr>\n",
       "      <th>486</th>\n",
       "      <td>501837158</td>\n",
       "      <td>485553574</td>\n",
       "      <td>0.569199</td>\n",
       "      <td>214.210440</td>\n",
       "      <td>0.122247</td>\n",
       "      <td>both out</td>\n",
       "    </tr>\n",
       "    <tr>\n",
       "      <th>491</th>\n",
       "      <td>501837158</td>\n",
       "      <td>501786400</td>\n",
       "      <td>0.585101</td>\n",
       "      <td>62.647480</td>\n",
       "      <td>0.336047</td>\n",
       "      <td>in-out</td>\n",
       "    </tr>\n",
       "    <tr>\n",
       "      <th>267</th>\n",
       "      <td>526784559</td>\n",
       "      <td>501837158</td>\n",
       "      <td>0.590127</td>\n",
       "      <td>273.971511</td>\n",
       "      <td>0.105668</td>\n",
       "      <td>in-out</td>\n",
       "    </tr>\n",
       "    <tr>\n",
       "      <th>...</th>\n",
       "      <td>...</td>\n",
       "      <td>...</td>\n",
       "      <td>...</td>\n",
       "      <td>...</td>\n",
       "      <td>...</td>\n",
       "      <td>...</td>\n",
       "    </tr>\n",
       "    <tr>\n",
       "      <th>774</th>\n",
       "      <td>501786400</td>\n",
       "      <td>495346667</td>\n",
       "      <td>0.906037</td>\n",
       "      <td>519.819799</td>\n",
       "      <td>0.058612</td>\n",
       "      <td>in-out</td>\n",
       "    </tr>\n",
       "    <tr>\n",
       "      <th>783</th>\n",
       "      <td>501786400</td>\n",
       "      <td>501787135</td>\n",
       "      <td>0.913529</td>\n",
       "      <td>118.437010</td>\n",
       "      <td>0.522049</td>\n",
       "      <td>both in</td>\n",
       "    </tr>\n",
       "    <tr>\n",
       "      <th>658</th>\n",
       "      <td>565146821</td>\n",
       "      <td>501786400</td>\n",
       "      <td>0.915652</td>\n",
       "      <td>267.164386</td>\n",
       "      <td>0.689176</td>\n",
       "      <td>in-out</td>\n",
       "    </tr>\n",
       "    <tr>\n",
       "      <th>801</th>\n",
       "      <td>501711996</td>\n",
       "      <td>495346667</td>\n",
       "      <td>0.919887</td>\n",
       "      <td>350.894059</td>\n",
       "      <td>0.202741</td>\n",
       "      <td>in-out</td>\n",
       "    </tr>\n",
       "    <tr>\n",
       "      <th>789</th>\n",
       "      <td>501786400</td>\n",
       "      <td>501711996</td>\n",
       "      <td>0.947256</td>\n",
       "      <td>212.571621</td>\n",
       "      <td>0.490326</td>\n",
       "      <td>both in</td>\n",
       "    </tr>\n",
       "  </tbody>\n",
       "</table>\n",
       "<p>80 rows × 6 columns</p>\n",
       "</div>"
      ],
      "text/plain": [
       "     image_series_id   match_id  spearman_correlation    distance  \\\n",
       "2          515920693  501837158              0.432731  214.496235   \n",
       "492        501837158  501787135              0.518765  131.484774   \n",
       "486        501837158  485553574              0.569199  214.210440   \n",
       "491        501837158  501786400              0.585101   62.647480   \n",
       "267        526784559  501837158              0.590127  273.971511   \n",
       "..               ...        ...                   ...         ...   \n",
       "774        501786400  495346667              0.906037  519.819799   \n",
       "783        501786400  501787135              0.913529  118.437010   \n",
       "658        565146821  501786400              0.915652  267.164386   \n",
       "801        501711996  495346667              0.919887  350.894059   \n",
       "789        501786400  501711996              0.947256  212.571621   \n",
       "\n",
       "     dice_coefficient experiment_type  \n",
       "2            0.199958        both out  \n",
       "492          0.341723          in-out  \n",
       "486          0.122247        both out  \n",
       "491          0.336047          in-out  \n",
       "267          0.105668          in-out  \n",
       "..                ...             ...  \n",
       "774          0.058612          in-out  \n",
       "783          0.522049         both in  \n",
       "658          0.689176          in-out  \n",
       "801          0.202741          in-out  \n",
       "789          0.490326         both in  \n",
       "\n",
       "[80 rows x 6 columns]"
      ]
     },
     "execution_count": 51,
     "metadata": {},
     "output_type": "execute_result"
    }
   ],
   "source": [
    "dat[dat['source'] == 'VISp'].sort_values(by='spearman_correlation')[['image_series_id',\n",
    "                                                                    'match_id',\n",
    "                                                                    'spearman_correlation',\n",
    "                                                                    'distance',\n",
    "                                                                    'dice_coefficient',\n",
    "                                                                    'experiment_type']]"
   ]
  },
  {
   "cell_type": "code",
   "execution_count": 52,
   "metadata": {},
   "outputs": [],
   "source": [
    "vis = dat[(dat['source'] == 'VISp')]"
   ]
  },
  {
   "cell_type": "code",
   "execution_count": 53,
   "metadata": {},
   "outputs": [
    {
     "data": {
      "text/plain": [
       "10"
      ]
     },
     "execution_count": 53,
     "metadata": {},
     "output_type": "execute_result"
    }
   ],
   "source": [
    "len(vis[vis['spearman_correlation'] < vis['low_pred_band']])"
   ]
  },
  {
   "cell_type": "code",
   "execution_count": 54,
   "metadata": {},
   "outputs": [
    {
     "data": {
      "text/plain": [
       "80"
      ]
     },
     "execution_count": 54,
     "metadata": {},
     "output_type": "execute_result"
    }
   ],
   "source": [
    "len(vis)"
   ]
  },
  {
   "cell_type": "code",
   "execution_count": 55,
   "metadata": {},
   "outputs": [
    {
     "data": {
      "text/plain": [
       "0.125"
      ]
     },
     "execution_count": 55,
     "metadata": {},
     "output_type": "execute_result"
    }
   ],
   "source": [
    "len(vis[vis['spearman_correlation'] < vis['low_pred_band']])/len(vis)"
   ]
  },
  {
   "cell_type": "code",
   "execution_count": 56,
   "metadata": {},
   "outputs": [],
   "source": [
    "all_isids = np.unique(np.concatenate(\n",
    "    (vis['image_series_id'].unique(), vis['match_id'].unique())))"
   ]
  },
  {
   "cell_type": "markdown",
   "metadata": {},
   "source": [
    "## Plot projections from various VISp injections"
   ]
  },
  {
   "cell_type": "code",
   "execution_count": 57,
   "metadata": {},
   "outputs": [],
   "source": [
    "unionize_dat = pd.DataFrame( mcc.get_structure_unionizes(experiment_ids = all_isids,\n",
    "                                                is_injection = False,\n",
    "                                                hemisphere_ids = [1],\n",
    "                                                structure_ids = ss))"
   ]
  },
  {
   "cell_type": "code",
   "execution_count": 58,
   "metadata": {},
   "outputs": [
    {
     "name": "stderr",
     "output_type": "stream",
     "text": [
      "/Users/jenniferwh/Dropbox (Allen Institute)/Mesoscale Connectome Papers in Progress/2019 DMN/_new_figures/jupyter_notebooks/env/lib/python3.7/site-packages/pandas/core/indexing.py:494: SettingWithCopyWarning: \n",
      "A value is trying to be set on a copy of a slice from a DataFrame.\n",
      "Try using .loc[row_indexer,col_indexer] = value instead\n",
      "\n",
      "See the caveats in the documentation: http://pandas.pydata.org/pandas-docs/stable/user_guide/indexing.html#returning-a-view-versus-a-copy\n",
      "  self.obj[item] = s\n"
     ]
    }
   ],
   "source": [
    "vis_targets = ['VISli', 'VISl', 'VISal', 'VISpm', 'VISam', 'VISrl']\n",
    "structures = [ia_map[structure] for structure in vis_targets]\n",
    "pltdat = unionize_dat[unionize_dat['structure_id'].isin(structures)]\n",
    "pltdat.loc[np.log10(pltdat['normalized_projection_volume']) < -2.5,\n",
    "                          'normalized_projection_volume'] = 0.005"
   ]
  },
  {
   "cell_type": "code",
   "execution_count": 63,
   "metadata": {},
   "outputs": [
    {
     "data": {
      "image/png": "[encoded data removed]",
      "text/plain": [
       "<Figure size 216x144 with 1 Axes>"
      ]
     },
     "metadata": {
      "needs_background": "light"
     },
     "output_type": "display_data"
    }
   ],
   "source": [
    "fig, ax = plt.subplots(figsize = (3, 2))\n",
    "for isid in pltdat['experiment_id'].unique():\n",
    "    sns.pointplot('structure_id', 'normalized_projection_volume', \n",
    "              data = pltdat[pltdat['experiment_id'] == isid],\n",
    "             order = structures, color = 'lightgray', zorder = 1)\n",
    "sns.pointplot('structure_id', 'normalized_projection_volume', \n",
    "          data = pltdat[pltdat['experiment_id'] == 501837158], #VISpAUDp\n",
    "         order = structures, color='#7c429b', ax = ax, zorder = 2)\n",
    "sns.pointplot('structure_id', 'normalized_projection_volume', \n",
    "          data = pltdat[pltdat['experiment_id'] == 501787135], #VISpRSPagl\n",
    "         order = structures, color='#5252a9', ax = ax, zorder = 3)\n",
    "sns.pointplot('structure_id', 'normalized_projection_volume', \n",
    "          data = pltdat[pltdat['experiment_id'] == 539323512], #VISpSSp-bfd\n",
    "         order = structures, color='#f9922b', ax = ax, zorder = 4)\n",
    "ax.set_xticklabels(vis_targets)\n",
    "ax.set_ylim([0.003, 5])\n",
    "ax.set_yscale('log')\n",
    "sns.despine()\n",
    "ax.set_ylabel('Log$_{10}$ NPV', fontsize = 10)\n",
    "ax.set_xlabel('Structure', fontsize = 10)\n",
    "ax.tick_params(left = True, pad = 1)\n",
    "ax.yaxis.labelpad = -1\n",
    "plt.savefig(os.path.join(savepath, 'VISual_targets_NPV.pdf'), \n",
    "            bbox_inches='tight', pad_inches=0.3, format='pdf', transparent=True, dpi=300)"
   ]
  },
  {
   "cell_type": "code",
   "execution_count": 64,
   "metadata": {},
   "outputs": [
    {
     "name": "stdout",
     "output_type": "stream",
     "text": [
      "563205064\n"
     ]
    }
   ],
   "source": [
    "vis_examples = [485553574, 495346667, 501837158, 515920693, 546389260, 561918178, 563205064]\n",
    "for isid in vis_examples:\n",
    "    dataset = dat[(dat['image_series_id'] == isid) | (dat['match_id'] == isid)]\n",
    "    if len(dataset[(dataset['image_series_id'].isin(vis_examples)) |\n",
    "                  (dataset['match_id'].isin(vis_examples))]) < 3:\n",
    "        print(isid)"
   ]
  },
  {
   "cell_type": "code",
   "execution_count": 65,
   "metadata": {},
   "outputs": [],
   "source": [
    "dat = dat.merge(td_dataset[['image_series_id', 'target_by_polygon']],\n",
    "                     on = 'image_series_id', how = 'left')"
   ]
  },
  {
   "cell_type": "code",
   "execution_count": 66,
   "metadata": {},
   "outputs": [],
   "source": [
    "vis_examples = dat[(dat['source'] == 'VISp') & (dat['target_by_polygon'] == 'VISl')][\n",
    "    'image_series_id'].unique()\n",
    "pltdat = pltdat[pltdat['experiment_id'].isin(vis_examples)]"
   ]
  },
  {
   "cell_type": "code",
   "execution_count": 67,
   "metadata": {},
   "outputs": [
    {
     "data": {
      "text/plain": [
       "array([515920693, 561918178, 485553574])"
      ]
     },
     "execution_count": 67,
     "metadata": {},
     "output_type": "execute_result"
    }
   ],
   "source": [
    "vis_examples"
   ]
  },
  {
   "cell_type": "code",
   "execution_count": 68,
   "metadata": {},
   "outputs": [
    {
     "data": {
      "image/png": "[encoded data removed]",
      "text/plain": [
       "<Figure size 216x144 with 1 Axes>"
      ]
     },
     "metadata": {
      "needs_background": "light"
     },
     "output_type": "display_data"
    }
   ],
   "source": [
    "fig, ax = plt.subplots(figsize = (3, 2))\n",
    "for isid in vis_examples:\n",
    "    sns.pointplot('structure_id', 'normalized_projection_volume', \n",
    "              data = pltdat[pltdat['experiment_id'] == isid],\n",
    "             order = structures, color = 'lightgray')\n",
    "sns.pointplot('structure_id', 'normalized_projection_volume', \n",
    "          data = pltdat[pltdat['experiment_id'] == 515920693], \n",
    "         order = structures, color='k', ax = ax)\n",
    "ax.set_xticklabels(vis_targets)\n",
    "ax.set_ylim([0.003, 5])\n",
    "ax.set_yscale('log')\n",
    "sns.despine()\n",
    "ax.set_ylabel('Log Norm. Projection Volume', fontsize = 10)\n",
    "ax.set_xlabel('Structure', fontsize = 10)\n",
    "ax.tick_params(left = True, pad = 1)\n",
    "ax.yaxis.labelpad = -1\n",
    "plt.savefig(os.path.join(savepath, 'VISp_VISl_projections.pdf'), \n",
    "            bbox_inches='tight', pad_inches=0.3, format='pdf', transparent=True, dpi=300)"
   ]
  },
  {
   "cell_type": "code",
   "execution_count": 69,
   "metadata": {},
   "outputs": [],
   "source": [
    "pltdat = unionize_dat[unionize_dat['structure_id'].isin(structures)]\n",
    "pltdat.loc[np.log10(pltdat['normalized_projection_volume']) < -2.5,\n",
    "                          'normalized_projection_volume'] = 0.02\n",
    "rsp_examples = [501786400, 501787135, 563352720]\n",
    "pltdat = pltdat[pltdat['experiment_id'].isin(rsp_examples)]"
   ]
  },
  {
   "cell_type": "code",
   "execution_count": 70,
   "metadata": {},
   "outputs": [
    {
     "data": {
      "image/png": "[encoded data removed]",
      "text/plain": [
       "<Figure size 216x144 with 1 Axes>"
      ]
     },
     "metadata": {
      "needs_background": "light"
     },
     "output_type": "display_data"
    }
   ],
   "source": [
    "fig, ax = plt.subplots(figsize = (3, 2))\n",
    "for isid in pltdat['experiment_id'].unique():\n",
    "    sns.pointplot('structure_id', 'normalized_projection_volume', \n",
    "              data = pltdat[pltdat['experiment_id'] == isid],\n",
    "             order = structures, color = 'lightgray')\n",
    "sns.pointplot('structure_id', 'normalized_projection_volume', \n",
    "          data = pltdat[pltdat['experiment_id'] == 515920693], \n",
    "         order = structures, color='r', ax = ax)\n",
    "ax.set_xticklabels(vis_targets)\n",
    "ax.set_ylim([0.003, 5])\n",
    "ax.set_yscale('log')\n",
    "sns.despine()\n",
    "ax.set_ylabel('Log Norm. Projection Volume', fontsize = 10)\n",
    "ax.set_xlabel('Structure', fontsize = 10)\n",
    "ax.tick_params(left = True, pad = 1)\n",
    "ax.yaxis.labelpad = -1\n",
    "plt.savefig(os.path.join(savepath, 'VISp_RSP_projections.pdf'), \n",
    "            bbox_inches='tight', pad_inches=0.3, format='pdf', transparent=True, dpi=300)"
   ]
  },
  {
   "cell_type": "code",
   "execution_count": 71,
   "metadata": {},
   "outputs": [
    {
     "data": {
      "text/html": [
       "<div>\n",
       "<style scoped>\n",
       "    .dataframe tbody tr th:only-of-type {\n",
       "        vertical-align: middle;\n",
       "    }\n",
       "\n",
       "    .dataframe tbody tr th {\n",
       "        vertical-align: top;\n",
       "    }\n",
       "\n",
       "    .dataframe thead th {\n",
       "        text-align: right;\n",
       "    }\n",
       "</style>\n",
       "<table border=\"1\" class=\"dataframe\">\n",
       "  <thead>\n",
       "    <tr style=\"text-align: right;\">\n",
       "      <th></th>\n",
       "      <th>match_id</th>\n",
       "      <th>fraction of match covered by td exclusion zone</th>\n",
       "      <th>pearson_correlation</th>\n",
       "      <th>fraction of match covered by td injection</th>\n",
       "      <th>distance</th>\n",
       "      <th>dice_coefficient</th>\n",
       "      <th>spearman_correlation</th>\n",
       "      <th>injection_overlap</th>\n",
       "      <th>image_series_id</th>\n",
       "      <th>source</th>\n",
       "      <th>...</th>\n",
       "      <th>index_original</th>\n",
       "      <th>exp_predicted</th>\n",
       "      <th>low_pred_band</th>\n",
       "      <th>high_pred_band</th>\n",
       "      <th>experiment_type</th>\n",
       "      <th>in-out</th>\n",
       "      <th>module</th>\n",
       "      <th>in_out</th>\n",
       "      <th>diff</th>\n",
       "      <th>target_by_polygon</th>\n",
       "    </tr>\n",
       "  </thead>\n",
       "  <tbody>\n",
       "    <tr>\n",
       "      <th>91</th>\n",
       "      <td>479115470</td>\n",
       "      <td>0.517488</td>\n",
       "      <td>0.892690</td>\n",
       "      <td>0.226711</td>\n",
       "      <td>268.343057</td>\n",
       "      <td>0.340603</td>\n",
       "      <td>0.720992</td>\n",
       "      <td>0.304218</td>\n",
       "      <td>617898760</td>\n",
       "      <td>ORBvl</td>\n",
       "      <td>...</td>\n",
       "      <td>237</td>\n",
       "      <td>0.755725</td>\n",
       "      <td>0.617425</td>\n",
       "      <td>0.894025</td>\n",
       "      <td>both in</td>\n",
       "      <td>in</td>\n",
       "      <td>Prefrontal</td>\n",
       "      <td>in</td>\n",
       "      <td>-0.034733</td>\n",
       "      <td>VISam</td>\n",
       "    </tr>\n",
       "    <tr>\n",
       "      <th>92</th>\n",
       "      <td>617900105</td>\n",
       "      <td>0.630849</td>\n",
       "      <td>0.950919</td>\n",
       "      <td>0.267995</td>\n",
       "      <td>319.582587</td>\n",
       "      <td>0.080839</td>\n",
       "      <td>0.702002</td>\n",
       "      <td>0.044220</td>\n",
       "      <td>617898760</td>\n",
       "      <td>ORBvl</td>\n",
       "      <td>...</td>\n",
       "      <td>238</td>\n",
       "      <td>0.742590</td>\n",
       "      <td>0.604155</td>\n",
       "      <td>0.881025</td>\n",
       "      <td>in-out</td>\n",
       "      <td>in</td>\n",
       "      <td>Prefrontal</td>\n",
       "      <td>in</td>\n",
       "      <td>-0.040588</td>\n",
       "      <td>VISam</td>\n",
       "    </tr>\n",
       "    <tr>\n",
       "      <th>93</th>\n",
       "      <td>521955016</td>\n",
       "      <td>0.795439</td>\n",
       "      <td>0.919721</td>\n",
       "      <td>0.368440</td>\n",
       "      <td>297.858213</td>\n",
       "      <td>0.324035</td>\n",
       "      <td>0.780707</td>\n",
       "      <td>0.231792</td>\n",
       "      <td>617898760</td>\n",
       "      <td>ORBvl</td>\n",
       "      <td>...</td>\n",
       "      <td>239</td>\n",
       "      <td>0.753977</td>\n",
       "      <td>0.615601</td>\n",
       "      <td>0.892352</td>\n",
       "      <td>both in</td>\n",
       "      <td>in</td>\n",
       "      <td>Prefrontal</td>\n",
       "      <td>in</td>\n",
       "      <td>0.026730</td>\n",
       "      <td>VISam</td>\n",
       "    </tr>\n",
       "    <tr>\n",
       "      <th>94</th>\n",
       "      <td>523177830</td>\n",
       "      <td>0.960000</td>\n",
       "      <td>0.715402</td>\n",
       "      <td>0.540364</td>\n",
       "      <td>256.341683</td>\n",
       "      <td>0.597117</td>\n",
       "      <td>0.756833</td>\n",
       "      <td>0.396149</td>\n",
       "      <td>617898760</td>\n",
       "      <td>ORBvl</td>\n",
       "      <td>...</td>\n",
       "      <td>240</td>\n",
       "      <td>0.767357</td>\n",
       "      <td>0.628726</td>\n",
       "      <td>0.905988</td>\n",
       "      <td>both in</td>\n",
       "      <td>in</td>\n",
       "      <td>Prefrontal</td>\n",
       "      <td>in</td>\n",
       "      <td>-0.010524</td>\n",
       "      <td>VISam</td>\n",
       "    </tr>\n",
       "    <tr>\n",
       "      <th>95</th>\n",
       "      <td>532005897</td>\n",
       "      <td>0.803022</td>\n",
       "      <td>0.920538</td>\n",
       "      <td>0.309390</td>\n",
       "      <td>275.807457</td>\n",
       "      <td>0.365151</td>\n",
       "      <td>0.550897</td>\n",
       "      <td>0.334388</td>\n",
       "      <td>617898760</td>\n",
       "      <td>ORBvl</td>\n",
       "      <td>...</td>\n",
       "      <td>242</td>\n",
       "      <td>0.756539</td>\n",
       "      <td>0.618221</td>\n",
       "      <td>0.894858</td>\n",
       "      <td>both in</td>\n",
       "      <td>in</td>\n",
       "      <td>Prefrontal</td>\n",
       "      <td>in</td>\n",
       "      <td>-0.205643</td>\n",
       "      <td>VISam</td>\n",
       "    </tr>\n",
       "    <tr>\n",
       "      <th>165</th>\n",
       "      <td>479115470</td>\n",
       "      <td>0.592426</td>\n",
       "      <td>0.817603</td>\n",
       "      <td>0.195777</td>\n",
       "      <td>252.071724</td>\n",
       "      <td>0.307000</td>\n",
       "      <td>0.643117</td>\n",
       "      <td>0.220682</td>\n",
       "      <td>532005897</td>\n",
       "      <td>ORBvl</td>\n",
       "      <td>...</td>\n",
       "      <td>438</td>\n",
       "      <td>0.750781</td>\n",
       "      <td>0.612519</td>\n",
       "      <td>0.889043</td>\n",
       "      <td>both in</td>\n",
       "      <td>in</td>\n",
       "      <td>Prefrontal</td>\n",
       "      <td>in</td>\n",
       "      <td>-0.107664</td>\n",
       "      <td>VISam</td>\n",
       "    </tr>\n",
       "    <tr>\n",
       "      <th>166</th>\n",
       "      <td>521955016</td>\n",
       "      <td>0.966748</td>\n",
       "      <td>0.905859</td>\n",
       "      <td>0.812083</td>\n",
       "      <td>53.102107</td>\n",
       "      <td>0.554175</td>\n",
       "      <td>0.665550</td>\n",
       "      <td>0.387755</td>\n",
       "      <td>532005897</td>\n",
       "      <td>ORBvl</td>\n",
       "      <td>...</td>\n",
       "      <td>440</td>\n",
       "      <td>0.768491</td>\n",
       "      <td>0.629956</td>\n",
       "      <td>0.907027</td>\n",
       "      <td>both in</td>\n",
       "      <td>in</td>\n",
       "      <td>Prefrontal</td>\n",
       "      <td>in</td>\n",
       "      <td>-0.102941</td>\n",
       "      <td>VISam</td>\n",
       "    </tr>\n",
       "    <tr>\n",
       "      <th>167</th>\n",
       "      <td>523177830</td>\n",
       "      <td>0.900114</td>\n",
       "      <td>0.627265</td>\n",
       "      <td>0.614690</td>\n",
       "      <td>122.265483</td>\n",
       "      <td>0.734640</td>\n",
       "      <td>0.546604</td>\n",
       "      <td>0.443769</td>\n",
       "      <td>532005897</td>\n",
       "      <td>ORBvl</td>\n",
       "      <td>...</td>\n",
       "      <td>441</td>\n",
       "      <td>0.773982</td>\n",
       "      <td>0.634994</td>\n",
       "      <td>0.912970</td>\n",
       "      <td>both in</td>\n",
       "      <td>in</td>\n",
       "      <td>Prefrontal</td>\n",
       "      <td>in</td>\n",
       "      <td>-0.227377</td>\n",
       "      <td>VISam</td>\n",
       "    </tr>\n",
       "    <tr>\n",
       "      <th>176</th>\n",
       "      <td>479115470</td>\n",
       "      <td>0.602877</td>\n",
       "      <td>0.879872</td>\n",
       "      <td>0.049704</td>\n",
       "      <td>288.277990</td>\n",
       "      <td>0.086998</td>\n",
       "      <td>0.748621</td>\n",
       "      <td>0.145624</td>\n",
       "      <td>521955016</td>\n",
       "      <td>ORBvl</td>\n",
       "      <td>...</td>\n",
       "      <td>477</td>\n",
       "      <td>0.730501</td>\n",
       "      <td>0.592151</td>\n",
       "      <td>0.868851</td>\n",
       "      <td>both in</td>\n",
       "      <td>in</td>\n",
       "      <td>Prefrontal</td>\n",
       "      <td>in</td>\n",
       "      <td>0.018120</td>\n",
       "      <td>VISam</td>\n",
       "    </tr>\n",
       "    <tr>\n",
       "      <th>177</th>\n",
       "      <td>523177830</td>\n",
       "      <td>0.975444</td>\n",
       "      <td>0.812323</td>\n",
       "      <td>0.255545</td>\n",
       "      <td>104.462649</td>\n",
       "      <td>0.378923</td>\n",
       "      <td>0.808155</td>\n",
       "      <td>0.470474</td>\n",
       "      <td>521955016</td>\n",
       "      <td>ORBvl</td>\n",
       "      <td>...</td>\n",
       "      <td>479</td>\n",
       "      <td>0.749642</td>\n",
       "      <td>0.611419</td>\n",
       "      <td>0.887865</td>\n",
       "      <td>both in</td>\n",
       "      <td>in</td>\n",
       "      <td>Prefrontal</td>\n",
       "      <td>in</td>\n",
       "      <td>0.058513</td>\n",
       "      <td>VISam</td>\n",
       "    </tr>\n",
       "  </tbody>\n",
       "</table>\n",
       "<p>10 rows × 41 columns</p>\n",
       "</div>"
      ],
      "text/plain": [
       "      match_id  fraction of match covered by td exclusion zone  \\\n",
       "91   479115470                                        0.517488   \n",
       "92   617900105                                        0.630849   \n",
       "93   521955016                                        0.795439   \n",
       "94   523177830                                        0.960000   \n",
       "95   532005897                                        0.803022   \n",
       "165  479115470                                        0.592426   \n",
       "166  521955016                                        0.966748   \n",
       "167  523177830                                        0.900114   \n",
       "176  479115470                                        0.602877   \n",
       "177  523177830                                        0.975444   \n",
       "\n",
       "     pearson_correlation  fraction of match covered by td injection  \\\n",
       "91              0.892690                                   0.226711   \n",
       "92              0.950919                                   0.267995   \n",
       "93              0.919721                                   0.368440   \n",
       "94              0.715402                                   0.540364   \n",
       "95              0.920538                                   0.309390   \n",
       "165             0.817603                                   0.195777   \n",
       "166             0.905859                                   0.812083   \n",
       "167             0.627265                                   0.614690   \n",
       "176             0.879872                                   0.049704   \n",
       "177             0.812323                                   0.255545   \n",
       "\n",
       "       distance  dice_coefficient  spearman_correlation  injection_overlap  \\\n",
       "91   268.343057          0.340603              0.720992           0.304218   \n",
       "92   319.582587          0.080839              0.702002           0.044220   \n",
       "93   297.858213          0.324035              0.780707           0.231792   \n",
       "94   256.341683          0.597117              0.756833           0.396149   \n",
       "95   275.807457          0.365151              0.550897           0.334388   \n",
       "165  252.071724          0.307000              0.643117           0.220682   \n",
       "166   53.102107          0.554175              0.665550           0.387755   \n",
       "167  122.265483          0.734640              0.546604           0.443769   \n",
       "176  288.277990          0.086998              0.748621           0.145624   \n",
       "177  104.462649          0.378923              0.808155           0.470474   \n",
       "\n",
       "     image_series_id source  ...  index_original exp_predicted  low_pred_band  \\\n",
       "91         617898760  ORBvl  ...             237      0.755725       0.617425   \n",
       "92         617898760  ORBvl  ...             238      0.742590       0.604155   \n",
       "93         617898760  ORBvl  ...             239      0.753977       0.615601   \n",
       "94         617898760  ORBvl  ...             240      0.767357       0.628726   \n",
       "95         617898760  ORBvl  ...             242      0.756539       0.618221   \n",
       "165        532005897  ORBvl  ...             438      0.750781       0.612519   \n",
       "166        532005897  ORBvl  ...             440      0.768491       0.629956   \n",
       "167        532005897  ORBvl  ...             441      0.773982       0.634994   \n",
       "176        521955016  ORBvl  ...             477      0.730501       0.592151   \n",
       "177        521955016  ORBvl  ...             479      0.749642       0.611419   \n",
       "\n",
       "     high_pred_band experiment_type  in-out      module  in_out      diff  \\\n",
       "91         0.894025         both in      in  Prefrontal      in -0.034733   \n",
       "92         0.881025          in-out      in  Prefrontal      in -0.040588   \n",
       "93         0.892352         both in      in  Prefrontal      in  0.026730   \n",
       "94         0.905988         both in      in  Prefrontal      in -0.010524   \n",
       "95         0.894858         both in      in  Prefrontal      in -0.205643   \n",
       "165        0.889043         both in      in  Prefrontal      in -0.107664   \n",
       "166        0.907027         both in      in  Prefrontal      in -0.102941   \n",
       "167        0.912970         both in      in  Prefrontal      in -0.227377   \n",
       "176        0.868851         both in      in  Prefrontal      in  0.018120   \n",
       "177        0.887865         both in      in  Prefrontal      in  0.058513   \n",
       "\n",
       "    target_by_polygon  \n",
       "91              VISam  \n",
       "92              VISam  \n",
       "93              VISam  \n",
       "94              VISam  \n",
       "95              VISam  \n",
       "165             VISam  \n",
       "166             VISam  \n",
       "167             VISam  \n",
       "176             VISam  \n",
       "177             VISam  \n",
       "\n",
       "[10 rows x 41 columns]"
      ]
     },
     "execution_count": 71,
     "metadata": {},
     "output_type": "execute_result"
    }
   ],
   "source": [
    "dat[(dat['source'] == 'ORBvl') & (dat['target_by_polygon'] == 'VISam')]"
   ]
  },
  {
   "cell_type": "code",
   "execution_count": 72,
   "metadata": {},
   "outputs": [],
   "source": [
    "dat.to_csv(os.path.join(path, 'good_td_td_correlations.csv'), index = False)"
   ]
  },
  {
   "cell_type": "code",
   "execution_count": 73,
   "metadata": {},
   "outputs": [
    {
     "data": {
      "text/plain": [
       "241"
      ]
     },
     "execution_count": 73,
     "metadata": {},
     "output_type": "execute_result"
    }
   ],
   "source": [
    "len(dat)"
   ]
  },
  {
   "cell_type": "code",
   "execution_count": 74,
   "metadata": {},
   "outputs": [],
   "source": [
    "all_isids = np.unique(np.concatenate(\n",
    "    (dat['image_series_id'].unique(), dat['match_id'].unique())))"
   ]
  },
  {
   "cell_type": "code",
   "execution_count": 75,
   "metadata": {},
   "outputs": [],
   "source": [
    "td_matches = []\n",
    "for isid in full_td_dataset['image_series_id'].unique():\n",
    "    if isid in all_isids:\n",
    "        dataset = np.unique(np.concatenate(\n",
    "            (dat[dat['image_series_id'] == isid]['match_id'].unique(),\n",
    "             dat[dat['match_id'] == isid]['image_series_id'].unique())))\n",
    "        td_matches.append(dataset)\n",
    "    else:\n",
    "        td_matches.append([np.nan])"
   ]
  },
  {
   "cell_type": "code",
   "execution_count": 76,
   "metadata": {},
   "outputs": [],
   "source": [
    "full_td_dataset['TD_matches'] = full_td_dataset['TD_matches'].astype('object')\n",
    "full_td_dataset['TD_matches'] = td_matches"
   ]
  },
  {
   "cell_type": "code",
   "execution_count": 77,
   "metadata": {},
   "outputs": [],
   "source": [
    "#full_td_dataset.to_csv(r'/Users/jenniferwh/Dropbox (Allen Institute)/Mesoscale Connectome Papers in Progress/2019 DMN/target_defined_dataset.csv',\n",
    "#                      index = False)"
   ]
  },
  {
   "cell_type": "markdown",
   "metadata": {},
   "source": [
    "## Compare NPV value with p(obs)"
   ]
  },
  {
   "cell_type": "code",
   "execution_count": 78,
   "metadata": {},
   "outputs": [],
   "source": [
    "basepath = r'/Users/jenniferwh/Dropbox (Allen Institute)/Mesoscale Connectome Papers in Progress/2019 DMN'\n",
    "datpath = os.path.join(basepath, 'data_files')\n",
    "savepath = os.path.join(basepath, '_new_figures', 'Figure_5')"
   ]
  },
  {
   "cell_type": "code",
   "execution_count": 79,
   "metadata": {},
   "outputs": [
    {
     "name": "stdout",
     "output_type": "stream",
     "text": [
      "586\n"
     ]
    }
   ],
   "source": [
    "alldat = pd.read_csv(os.path.join(datpath, 'good_td_wt_correlations.csv'))\n",
    "print(len(alldat))"
   ]
  },
  {
   "cell_type": "code",
   "execution_count": 80,
   "metadata": {},
   "outputs": [],
   "source": [
    "alldat = alldat.merge(td_dataset[['image_series_id', 'target_by_polygon']])"
   ]
  },
  {
   "cell_type": "code",
   "execution_count": 81,
   "metadata": {},
   "outputs": [
    {
     "data": {
      "text/plain": [
       "2"
      ]
     },
     "execution_count": 81,
     "metadata": {},
     "output_type": "execute_result"
    }
   ],
   "source": [
    "len(alldat[(alldat['source'] == 'RSPv') &\n",
    "      (alldat['target_by_polygon'] == 'PL')])"
   ]
  },
  {
   "cell_type": "code",
   "execution_count": 82,
   "metadata": {},
   "outputs": [
    {
     "data": {
      "text/plain": [
       "460    0.527093\n",
       "494    0.700694\n",
       "Name: spearman_correlation, dtype: float64"
      ]
     },
     "execution_count": 82,
     "metadata": {},
     "output_type": "execute_result"
    }
   ],
   "source": [
    "alldat[(alldat['source'] == 'RSPv') &\n",
    "      (alldat['target_by_polygon'] == 'PL')]['spearman_correlation']"
   ]
  },
  {
   "cell_type": "code",
   "execution_count": 83,
   "metadata": {},
   "outputs": [],
   "source": [
    "isids = alldat['image_series_id'].unique()\n",
    "valid_str_ids = [ia_map[structure] for structure in valid_strs]\n",
    "new_expts = [868641659, 900250452]\n",
    "#isids = alldat[alldat['source'] == 'RSPv']['image_series_id'].unique()\n",
    "isids = [isid for isid in isids if isid not in new_expts]\n",
    "match_isids = alldat['match_id'].unique()\n",
    "unionize_dat = pd.DataFrame( mcc.get_structure_unionizes(experiment_ids = isids,\n",
    "                                                is_injection = False,\n",
    "                                                hemisphere_ids = [1,2],\n",
    "                                                structure_ids = valid_str_ids))\n",
    "wt_unionize = pd.DataFrame( mcc.get_structure_unionizes(experiment_ids = match_isids,\n",
    "                                                is_injection = False,\n",
    "                                                hemisphere_ids = [1,2],\n",
    "                                                structure_ids = valid_str_ids))"
   ]
  },
  {
   "cell_type": "code",
   "execution_count": 84,
   "metadata": {},
   "outputs": [],
   "source": [
    "for isid in match_isids:\n",
    "    inj_hem = aapi.get_hemisphere(isid)\n",
    "    if inj_hem == 2:\n",
    "        wt_unionize.loc[(wt_unionize['experiment_id'] == isid) &\n",
    "                        (wt_unionize['hemisphere_id'] == 2), 'hemisphere_id'] = 0\n",
    "        wt_unionize.loc[(wt_unionize['experiment_id'] == isid) &\n",
    "                        (wt_unionize['hemisphere_id'] == 1), 'hemisphere_id'] = 2\n",
    "        wt_unionize.loc[(wt_unionize['experiment_id'] == isid) &\n",
    "                        (wt_unionize['hemisphere_id'] == 0), 'hemisphere_id'] = 1"
   ]
  },
  {
   "cell_type": "code",
   "execution_count": 85,
   "metadata": {},
   "outputs": [],
   "source": [
    "mean_npv = wt_unionize.groupby(['structure_id',\n",
    "                                'hemisphere_id'])['normalized_projection_volume'].mean()"
   ]
  },
  {
   "cell_type": "code",
   "execution_count": 86,
   "metadata": {},
   "outputs": [],
   "source": [
    "unionize_dat['thresholded_npv'] = unionize_dat['normalized_projection_volume']\n",
    "unionize_dat.loc[np.log10(unionize_dat['normalized_projection_volume']+0.0001) < -1.5, \n",
    "                 'thresholded_npv'] = 0"
   ]
  },
  {
   "cell_type": "code",
   "execution_count": 87,
   "metadata": {},
   "outputs": [],
   "source": [
    "detected = unionize_dat[unionize_dat['thresholded_npv'] != 0].groupby(\n",
    "    ['structure_id', 'hemisphere_id']).count().reset_index()[[\n",
    "    'structure_id', 'hemisphere_id', 'thresholded_npv']]\n",
    "detected = unionize_dat.groupby(['structure_id', 'hemisphere_id']).count().reset_index()[[\n",
    "    'structure_id', 'hemisphere_id', 'normalized_projection_volume']].merge(\n",
    "    detected, on = ['structure_id', 'hemisphere_id'], how = 'left')\n",
    "detected.loc[detected['thresholded_npv'].isnull(), 'thresholded_npv'] = 0 # this will be count\n",
    "detected['pobs'] = detected['thresholded_npv']/detected['normalized_projection_volume']\n",
    "detected = detected[['structure_id', 'hemisphere_id', 'pobs']]"
   ]
  },
  {
   "cell_type": "code",
   "execution_count": 88,
   "metadata": {},
   "outputs": [],
   "source": [
    "mean_npv = pd.DataFrame(mean_npv).reset_index()"
   ]
  },
  {
   "cell_type": "code",
   "execution_count": 89,
   "metadata": {},
   "outputs": [],
   "source": [
    "detected = detected.merge(mean_npv, on=['structure_id', 'hemisphere_id'])\n",
    "detected['log_npv'] = np.log10(detected['normalized_projection_volume']+0.0001)"
   ]
  },
  {
   "cell_type": "code",
   "execution_count": 90,
   "metadata": {},
   "outputs": [
    {
     "data": {
      "text/plain": [
       "86"
      ]
     },
     "execution_count": 90,
     "metadata": {},
     "output_type": "execute_result"
    }
   ],
   "source": [
    "len(detected)"
   ]
  },
  {
   "cell_type": "code",
   "execution_count": 91,
   "metadata": {},
   "outputs": [
    {
     "data": {
      "image/png": "[encoded data removed]",
      "text/plain": [
       "<Figure size 108x108 with 1 Axes>"
      ]
     },
     "metadata": {
      "needs_background": "light"
     },
     "output_type": "display_data"
    }
   ],
   "source": [
    "fig, ax = plt.subplots(figsize = (1.5, 1.5))\n",
    "sns.regplot('log_npv', 'pobs', data = detected, ci = False, color = 'w',\n",
    "           scatter_kws={'s': 10,\n",
    "                        'edgecolor': 'k',\n",
    "                        'linewidth':0.5},\n",
    "           line_kws={'color': 'k',\n",
    "                    'linewidth': 0.5})\n",
    "sns.despine()\n",
    "ax.set_ylim([-0.1, 1.1])\n",
    "ax.set_xlim([-3, 1])\n",
    "ax.tick_params(bottom=True, left=True)\n",
    "ax.set_xlabel('Log10 NPV (WT)', fontsize = 8)\n",
    "ax.set_ylabel('Fraction Observed (TD)', fontsize = 8)\n",
    "plt.savefig(os.path.join(savepath, 'NPV_mean_fraction_observed.pdf'), \n",
    "            bbox_inches='tight', pad_inches=0.3, format='pdf', transparent=True, dpi=300)"
   ]
  },
  {
   "cell_type": "code",
   "execution_count": 92,
   "metadata": {},
   "outputs": [
    {
     "data": {
      "text/plain": [
       "0.01834862385321101"
      ]
     },
     "execution_count": 92,
     "metadata": {},
     "output_type": "execute_result"
    }
   ],
   "source": [
    "detected[detected['log_npv'] < -2]['pobs'].mean()"
   ]
  },
  {
   "cell_type": "code",
   "execution_count": 93,
   "metadata": {},
   "outputs": [
    {
     "name": "stdout",
     "output_type": "stream",
     "text": [
      "(0.9145347625043367, 9.081154472299087e-35)\n"
     ]
    }
   ],
   "source": [
    "x = detected['log_npv']\n",
    "y = detected['pobs']\n",
    "corr = scipy.stats.pearsonr(x, y)\n",
    "print(corr)"
   ]
  },
  {
   "cell_type": "code",
   "execution_count": 94,
   "metadata": {},
   "outputs": [],
   "source": [
    "isids = alldat[alldat['source'] == 'RSPv']['image_series_id'].unique()\n",
    "new_expts = [868641659, 900250452]\n",
    "isids = [isid for isid in isids if isid not in new_expts]\n",
    "match_isids = alldat[alldat['source'] == 'RSPv']['match_id'].unique()\n",
    "unionize_dat = pd.DataFrame( mcc.get_structure_unionizes(experiment_ids = isids,\n",
    "                                                is_injection = False,\n",
    "                                                hemisphere_ids = [1,2],\n",
    "                                                structure_ids = valid_str_ids))\n",
    "wt_unionize = pd.DataFrame( mcc.get_structure_unionizes(experiment_ids = match_isids,\n",
    "                                                is_injection = False,\n",
    "                                                hemisphere_ids = [1,2],\n",
    "                                                structure_ids = valid_str_ids))\n",
    "for isid in match_isids:\n",
    "    inj_hem = aapi.get_hemisphere(isid)\n",
    "    if inj_hem == 2:\n",
    "        wt_unionize.loc[(wt_unionize['experiment_id'] == isid) &\n",
    "                        (wt_unionize['hemisphere_id'] == 2), 'hemisphere_id'] = 0\n",
    "        wt_unionize.loc[(wt_unionize['experiment_id'] == isid) &\n",
    "                        (wt_unionize['hemisphere_id'] == 1), 'hemisphere_id'] = 2\n",
    "        wt_unionize.loc[(wt_unionize['experiment_id'] == isid) &\n",
    "                        (wt_unionize['hemisphere_id'] == 0), 'hemisphere_id'] = 1\n",
    "mean_npv = wt_unionize.groupby(['structure_id',\n",
    "                                'hemisphere_id'])['normalized_projection_volume'].mean()\n",
    "unionize_dat['thresholded_npv'] = unionize_dat['normalized_projection_volume']\n",
    "unionize_dat.loc[np.log10(unionize_dat['normalized_projection_volume']+0.0001) < -1.5, \n",
    "                 'thresholded_npv'] = 0"
   ]
  },
  {
   "cell_type": "code",
   "execution_count": 95,
   "metadata": {},
   "outputs": [],
   "source": [
    "rspv = unionize_dat[unionize_dat['thresholded_npv'] != 0].groupby(\n",
    "    ['structure_id', 'hemisphere_id']).count().reset_index()[[\n",
    "    'structure_id', 'hemisphere_id', 'thresholded_npv']]\n",
    "rspv = unionize_dat.groupby(['structure_id', 'hemisphere_id']).count().reset_index()[[\n",
    "    'structure_id', 'hemisphere_id', 'normalized_projection_volume']].merge(\n",
    "    rspv, on = ['structure_id', 'hemisphere_id'], how = 'left')\n",
    "rspv.loc[rspv['thresholded_npv'].isnull(), 'thresholded_npv'] = 0 # this will be count\n",
    "rspv['pobs'] = rspv['thresholded_npv']/rspv['normalized_projection_volume']\n",
    "rspv = rspv[['structure_id', 'hemisphere_id', 'pobs']]\n",
    "rspv = rspv.merge(mean_npv, on=['structure_id', 'hemisphere_id'])\n",
    "rspv['log_npv'] = np.log10(rspv['normalized_projection_volume']+0.0001)"
   ]
  },
  {
   "cell_type": "code",
   "execution_count": 96,
   "metadata": {},
   "outputs": [],
   "source": [
    "isids = alldat[alldat['source'] == 'ACAd']['image_series_id'].unique()\n",
    "new_expts = [868641659, 900250452]\n",
    "isids = [isid for isid in isids if isid not in new_expts]\n",
    "match_isids = alldat[alldat['source'] == 'ACAd']['match_id'].unique()\n",
    "unionize_dat = pd.DataFrame( mcc.get_structure_unionizes(experiment_ids = isids,\n",
    "                                                is_injection = False,\n",
    "                                                hemisphere_ids = [1,2],\n",
    "                                                structure_ids = valid_str_ids))\n",
    "wt_unionize = pd.DataFrame( mcc.get_structure_unionizes(experiment_ids = match_isids,\n",
    "                                                is_injection = False,\n",
    "                                                hemisphere_ids = [1,2],\n",
    "                                                structure_ids = valid_str_ids))\n",
    "for isid in match_isids:\n",
    "    inj_hem = aapi.get_hemisphere(isid)\n",
    "    if inj_hem == 2:\n",
    "        wt_unionize.loc[(wt_unionize['experiment_id'] == isid) &\n",
    "                        (wt_unionize['hemisphere_id'] == 2), 'hemisphere_id'] = 0\n",
    "        wt_unionize.loc[(wt_unionize['experiment_id'] == isid) &\n",
    "                        (wt_unionize['hemisphere_id'] == 1), 'hemisphere_id'] = 2\n",
    "        wt_unionize.loc[(wt_unionize['experiment_id'] == isid) &\n",
    "                        (wt_unionize['hemisphere_id'] == 0), 'hemisphere_id'] = 1\n",
    "mean_npv = wt_unionize.groupby(['structure_id',\n",
    "                                'hemisphere_id'])['normalized_projection_volume'].mean()\n",
    "unionize_dat['thresholded_npv'] = unionize_dat['normalized_projection_volume']\n",
    "unionize_dat.loc[np.log10(unionize_dat['normalized_projection_volume']+0.0001) < -1.5, \n",
    "                 'thresholded_npv'] = 0"
   ]
  },
  {
   "cell_type": "code",
   "execution_count": 97,
   "metadata": {},
   "outputs": [],
   "source": [
    "acad = unionize_dat[unionize_dat['thresholded_npv'] != 0].groupby(\n",
    "    ['structure_id', 'hemisphere_id']).count().reset_index()[[\n",
    "    'structure_id', 'hemisphere_id', 'thresholded_npv']]\n",
    "acad = unionize_dat.groupby(['structure_id', 'hemisphere_id']).count().reset_index()[[\n",
    "    'structure_id', 'hemisphere_id', 'normalized_projection_volume']].merge(\n",
    "    acad, on = ['structure_id', 'hemisphere_id'], how = 'left')\n",
    "acad.loc[acad['thresholded_npv'].isnull(), 'thresholded_npv'] = 0 # this will be count\n",
    "acad['pobs'] = acad['thresholded_npv']/acad['normalized_projection_volume']\n",
    "acad = acad[['structure_id', 'hemisphere_id', 'pobs']]\n",
    "acad = acad.merge(mean_npv, on=['structure_id', 'hemisphere_id'])\n",
    "acad['log_npv'] = np.log10(acad['normalized_projection_volume']+0.0001)"
   ]
  },
  {
   "cell_type": "code",
   "execution_count": 98,
   "metadata": {},
   "outputs": [],
   "source": [
    "isids = alldat[alldat['source'] == 'VISp']['image_series_id'].unique()\n",
    "new_expts = [868641659, 900250452]\n",
    "isids = [isid for isid in isids if isid not in new_expts]\n",
    "match_isids = alldat[alldat['source'] == 'VISp']['match_id'].unique()\n",
    "unionize_dat = pd.DataFrame( mcc.get_structure_unionizes(experiment_ids = isids,\n",
    "                                                is_injection = False,\n",
    "                                                hemisphere_ids = [1,2],\n",
    "                                                structure_ids = valid_str_ids))\n",
    "wt_unionize = pd.DataFrame( mcc.get_structure_unionizes(experiment_ids = match_isids,\n",
    "                                                is_injection = False,\n",
    "                                                hemisphere_ids = [1,2],\n",
    "                                                structure_ids = valid_str_ids))\n",
    "for isid in match_isids:\n",
    "    inj_hem = aapi.get_hemisphere(isid)\n",
    "    if inj_hem == 2:\n",
    "        wt_unionize.loc[(wt_unionize['experiment_id'] == isid) &\n",
    "                        (wt_unionize['hemisphere_id'] == 2), 'hemisphere_id'] = 0\n",
    "        wt_unionize.loc[(wt_unionize['experiment_id'] == isid) &\n",
    "                        (wt_unionize['hemisphere_id'] == 1), 'hemisphere_id'] = 2\n",
    "        wt_unionize.loc[(wt_unionize['experiment_id'] == isid) &\n",
    "                        (wt_unionize['hemisphere_id'] == 0), 'hemisphere_id'] = 1\n",
    "mean_npv = wt_unionize.groupby(['structure_id',\n",
    "                                'hemisphere_id'])['normalized_projection_volume'].mean()\n",
    "unionize_dat['thresholded_npv'] = unionize_dat['normalized_projection_volume']\n",
    "unionize_dat.loc[np.log10(unionize_dat['normalized_projection_volume']+0.0001) < -1.5, \n",
    "                 'thresholded_npv'] = 0"
   ]
  },
  {
   "cell_type": "code",
   "execution_count": 99,
   "metadata": {},
   "outputs": [],
   "source": [
    "visp = unionize_dat[unionize_dat['thresholded_npv'] != 0].groupby(\n",
    "    ['structure_id', 'hemisphere_id']).count().reset_index()[[\n",
    "    'structure_id', 'hemisphere_id', 'thresholded_npv']]\n",
    "visp = unionize_dat.groupby(['structure_id', 'hemisphere_id']).count().reset_index()[[\n",
    "    'structure_id', 'hemisphere_id', 'normalized_projection_volume']].merge(\n",
    "    visp, on = ['structure_id', 'hemisphere_id'], how = 'left')\n",
    "visp.loc[visp['thresholded_npv'].isnull(), 'thresholded_npv'] = 0 # this will be count\n",
    "visp['pobs'] = visp['thresholded_npv']/visp['normalized_projection_volume']\n",
    "visp = visp[['structure_id', 'hemisphere_id', 'pobs']]\n",
    "visp = visp.merge(mean_npv, on=['structure_id', 'hemisphere_id'])\n",
    "visp['log_npv'] = np.log10(visp['normalized_projection_volume']+0.0001)"
   ]
  },
  {
   "cell_type": "code",
   "execution_count": 100,
   "metadata": {},
   "outputs": [],
   "source": [
    "isids = alldat[alldat['source'].isin(['ORBvl', 'ORBl'])]['image_series_id'].unique()\n",
    "new_expts = [868641659, 900250452]\n",
    "isids = [isid for isid in isids if isid not in new_expts]\n",
    "match_isids = alldat[alldat['source'].isin(['ORBvl', 'ORBl'])]['match_id'].unique()\n",
    "unionize_dat = pd.DataFrame( mcc.get_structure_unionizes(experiment_ids = isids,\n",
    "                                                is_injection = False,\n",
    "                                                hemisphere_ids = [1,2],\n",
    "                                                structure_ids = valid_str_ids))\n",
    "wt_unionize = pd.DataFrame( mcc.get_structure_unionizes(experiment_ids = match_isids,\n",
    "                                                is_injection = False,\n",
    "                                                hemisphere_ids = [1,2],\n",
    "                                                structure_ids = valid_str_ids))\n",
    "for isid in match_isids:\n",
    "    inj_hem = aapi.get_hemisphere(isid)\n",
    "    if inj_hem == 2:\n",
    "        wt_unionize.loc[(wt_unionize['experiment_id'] == isid) &\n",
    "                        (wt_unionize['hemisphere_id'] == 2), 'hemisphere_id'] = 0\n",
    "        wt_unionize.loc[(wt_unionize['experiment_id'] == isid) &\n",
    "                        (wt_unionize['hemisphere_id'] == 1), 'hemisphere_id'] = 2\n",
    "        wt_unionize.loc[(wt_unionize['experiment_id'] == isid) &\n",
    "                        (wt_unionize['hemisphere_id'] == 0), 'hemisphere_id'] = 1\n",
    "mean_npv = wt_unionize.groupby(['structure_id',\n",
    "                                'hemisphere_id'])['normalized_projection_volume'].mean()\n",
    "unionize_dat['thresholded_npv'] = unionize_dat['normalized_projection_volume']\n",
    "unionize_dat.loc[np.log10(unionize_dat['normalized_projection_volume']+0.0001) < -1.5, \n",
    "                 'thresholded_npv'] = 0"
   ]
  },
  {
   "cell_type": "code",
   "execution_count": 101,
   "metadata": {},
   "outputs": [],
   "source": [
    "orb = unionize_dat[unionize_dat['thresholded_npv'] != 0].groupby(\n",
    "    ['structure_id', 'hemisphere_id']).count().reset_index()[[\n",
    "    'structure_id', 'hemisphere_id', 'thresholded_npv']]\n",
    "orb = unionize_dat.groupby(['structure_id', 'hemisphere_id']).count().reset_index()[[\n",
    "    'structure_id', 'hemisphere_id', 'normalized_projection_volume']].merge(\n",
    "    orb, on = ['structure_id', 'hemisphere_id'], how = 'left')\n",
    "orb.loc[orb['thresholded_npv'].isnull(), 'thresholded_npv'] = 0 # this will be count\n",
    "orb['pobs'] = orb['thresholded_npv']/orb['normalized_projection_volume']\n",
    "orb = orb[['structure_id', 'hemisphere_id', 'pobs']]\n",
    "orb = orb.merge(mean_npv, on=['structure_id', 'hemisphere_id'])\n",
    "orb['log_npv'] = np.log10(orb['normalized_projection_volume']+0.0001)"
   ]
  },
  {
   "cell_type": "code",
   "execution_count": 102,
   "metadata": {},
   "outputs": [
    {
     "data": {
      "image/png": "[encoded data removed]",
      "text/plain": [
       "<Figure size 72x108 with 1 Axes>"
      ]
     },
     "metadata": {
      "needs_background": "light"
     },
     "output_type": "display_data"
    }
   ],
   "source": [
    "fig, ax = plt.subplots(figsize = (1, 1.5))\n",
    "sns.regplot('log_npv', 'pobs', data = acad, fit_reg = False, color = 'r',\n",
    "           scatter_kws={'s': 10,\n",
    "                        'linewidth':0.5,\n",
    "                       'alpha': 0.7}, label = 'ACAd')\n",
    "sns.regplot('log_npv', 'pobs', data = acad, \n",
    "            scatter = False, ci = False, color = 'r', line_kws={'linewidth': 0.5})\n",
    "\n",
    "sns.regplot('log_npv', 'pobs', data = rspv, fit_reg = False, color = '#5252a9',\n",
    "           scatter_kws={'s': 10,\n",
    "                        'linewidth':0.5,\n",
    "                       'alpha': 0.7}, label = 'RSPv')\n",
    "sns.regplot('log_npv', 'pobs', data = rspv, \n",
    "            scatter = False, ci = False, color = '#525289', line_kws={'linewidth': 0.5})\n",
    "\n",
    "sns.regplot('log_npv', 'pobs', data = visp, fit_reg = False, color = '#90bff9',\n",
    "           scatter_kws={'s': 10,\n",
    "                        'linewidth':0.5,\n",
    "                       'alpha': 0.7}, label = 'VISp')\n",
    "sns.regplot('log_npv', 'pobs', data = visp, \n",
    "            scatter = False, ci = False, color = '#90bff9', line_kws={'linewidth': 0.5})\n",
    "sns.despine()\n",
    "ax.set_ylim([-0.1, 1.1])\n",
    "ax.set_xlim([-5, 1])\n",
    "ax.set_xticks([-5, -2.5, 0])\n",
    "ax.tick_params(bottom=True, left=True)\n",
    "ax.set_xlabel('Log10 NPV (WT)', fontsize = 8)\n",
    "ax.set_ylabel('Fraction Observed (TD)', fontsize = 8)\n",
    "plt.axvline(x=-2.5, color = 'gray', linestyle = '--', linewidth = 0.5)\n",
    "plt.legend(loc = 2, fontsize = 6, labelspacing = 0.1, handletextpad = 0)\n",
    "plt.savefig(os.path.join(savepath, 'NPV_fraction_observed_RSPv_ACAd_VISp.pdf'), \n",
    "            bbox_inches='tight', pad_inches=0.3, format='pdf', transparent=True, dpi=300)"
   ]
  },
  {
   "cell_type": "code",
   "execution_count": 103,
   "metadata": {},
   "outputs": [],
   "source": [
    "sources = []\n",
    "npvs = []\n",
    "fr_det = []\n",
    "valid_str_ids = [ia_map[structure] for structure in valid_strs]\n",
    "for source in alldat['source'].unique():\n",
    "    isids = alldat[alldat['source'] == source]['image_series_id'].unique()\n",
    "    if len(isids) > 1:\n",
    "        new_expts = [868641659, 900250452]\n",
    "        isids = [isid for isid in isids if isid not in new_expts]\n",
    "        match_isids = alldat[alldat['source'] == source]['match_id'].unique()\n",
    "        unionize_dat = pd.DataFrame( mcc.get_structure_unionizes(experiment_ids = isids,\n",
    "                                                    is_injection = False,\n",
    "                                                    hemisphere_ids = [1,2],\n",
    "                                                    structure_ids = valid_str_ids))\n",
    "        wt_unionize = pd.DataFrame( mcc.get_structure_unionizes(experiment_ids = match_isids,\n",
    "                                                    is_injection = False,\n",
    "                                                    hemisphere_ids = [1,2],\n",
    "                                                    structure_ids = valid_str_ids))\n",
    "        for isid in match_isids:\n",
    "            inj_hem = aapi.get_hemisphere(isid)\n",
    "            if inj_hem == 2:\n",
    "                wt_unionize.loc[(wt_unionize['experiment_id'] == isid) &\n",
    "                                (wt_unionize['hemisphere_id'] == 2), 'hemisphere_id'] = 0\n",
    "                wt_unionize.loc[(wt_unionize['experiment_id'] == isid) &\n",
    "                                (wt_unionize['hemisphere_id'] == 1), 'hemisphere_id'] = 2\n",
    "                wt_unionize.loc[(wt_unionize['experiment_id'] == isid) &\n",
    "                                (wt_unionize['hemisphere_id'] == 0), 'hemisphere_id'] = 1\n",
    "        mean_npv = wt_unionize.groupby(['structure_id',\n",
    "                                        'hemisphere_id'])['normalized_projection_volume'].mean()\n",
    "        unionize_dat['thresholded_npv'] = unionize_dat['normalized_projection_volume']\n",
    "        unionize_dat.loc[np.log10(unionize_dat['normalized_projection_volume']+0.0001) < -1.5, \n",
    "                         'thresholded_npv'] = 0\n",
    "\n",
    "        det = unionize_dat[unionize_dat['thresholded_npv'] != 0].groupby(\n",
    "            ['structure_id', 'hemisphere_id']).count().reset_index()[[\n",
    "            'structure_id', 'hemisphere_id', 'thresholded_npv']]\n",
    "        det = unionize_dat.groupby(['structure_id', 'hemisphere_id']).count().reset_index()[[\n",
    "            'structure_id', 'hemisphere_id', 'normalized_projection_volume']].merge(\n",
    "            det, on = ['structure_id', 'hemisphere_id'], how = 'left')\n",
    "        det.loc[det['thresholded_npv'].isnull(), 'thresholded_npv'] = 0 # this will be count\n",
    "        det['pobs'] = det['thresholded_npv']/det['normalized_projection_volume']\n",
    "        det = det[['structure_id', 'hemisphere_id', 'pobs']]\n",
    "        det = det.merge(mean_npv, on=['structure_id', 'hemisphere_id'])\n",
    "        det['log_npv'] = np.log10(det['normalized_projection_volume']+0.0001)\n",
    "        npvs.append(det['log_npv'])\n",
    "        fr_det.append(det['pobs'])\n",
    "        sources.append(source)"
   ]
  },
  {
   "cell_type": "code",
   "execution_count": 104,
   "metadata": {},
   "outputs": [
    {
     "data": {
      "text/plain": [
       "['VISp',\n",
       " 'VISl',\n",
       " 'ORBvl',\n",
       " 'ACAd',\n",
       " 'MOs',\n",
       " 'ACAv',\n",
       " 'ORBl',\n",
       " 'RSPv',\n",
       " 'VISpor',\n",
       " 'RSPagl',\n",
       " 'VISam',\n",
       " 'ORBm',\n",
       " 'RSPd',\n",
       " 'VISpm',\n",
       " 'PL',\n",
       " 'ECT']"
      ]
     },
     "execution_count": 104,
     "metadata": {},
     "output_type": "execute_result"
    }
   ],
   "source": [
    "sources"
   ]
  },
  {
   "cell_type": "code",
   "execution_count": 105,
   "metadata": {},
   "outputs": [],
   "source": [
    "df = pd.DataFrame(columns = ['source', 'log_NPV', 'fraction_det'])\n",
    "for ix, source in enumerate(sources):\n",
    "    newdf = pd.DataFrame(columns = ['source', 'log_NPV', 'fraction_det'])\n",
    "    newdf['log_NPV'] = npvs[ix]\n",
    "    newdf['fraction_det'] = fr_det[ix]\n",
    "    newdf['source'] = source\n",
    "    df = pd.concat([df, newdf])"
   ]
  },
  {
   "cell_type": "code",
   "execution_count": 106,
   "metadata": {},
   "outputs": [
    {
     "data": {
      "text/html": [
       "<div>\n",
       "<style scoped>\n",
       "    .dataframe tbody tr th:only-of-type {\n",
       "        vertical-align: middle;\n",
       "    }\n",
       "\n",
       "    .dataframe tbody tr th {\n",
       "        vertical-align: top;\n",
       "    }\n",
       "\n",
       "    .dataframe thead th {\n",
       "        text-align: right;\n",
       "    }\n",
       "</style>\n",
       "<table border=\"1\" class=\"dataframe\">\n",
       "  <thead>\n",
       "    <tr style=\"text-align: right;\">\n",
       "      <th></th>\n",
       "      <th>sum_sq</th>\n",
       "      <th>df</th>\n",
       "      <th>F</th>\n",
       "      <th>PR(&gt;F)</th>\n",
       "    </tr>\n",
       "  </thead>\n",
       "  <tbody>\n",
       "    <tr>\n",
       "      <th>C(source)</th>\n",
       "      <td>8.6226</td>\n",
       "      <td>15.0</td>\n",
       "      <td>11.7789</td>\n",
       "      <td>0.0</td>\n",
       "    </tr>\n",
       "    <tr>\n",
       "      <th>log_NPV</th>\n",
       "      <td>128.8616</td>\n",
       "      <td>1.0</td>\n",
       "      <td>2640.4803</td>\n",
       "      <td>0.0</td>\n",
       "    </tr>\n",
       "    <tr>\n",
       "      <th>log_NPV:C(source)</th>\n",
       "      <td>7.3186</td>\n",
       "      <td>15.0</td>\n",
       "      <td>9.9977</td>\n",
       "      <td>0.0</td>\n",
       "    </tr>\n",
       "    <tr>\n",
       "      <th>Residual</th>\n",
       "      <td>65.5903</td>\n",
       "      <td>1344.0</td>\n",
       "      <td>NaN</td>\n",
       "      <td>NaN</td>\n",
       "    </tr>\n",
       "  </tbody>\n",
       "</table>\n",
       "</div>"
      ],
      "text/plain": [
       "                     sum_sq      df          F  PR(>F)\n",
       "C(source)            8.6226    15.0    11.7789     0.0\n",
       "log_NPV            128.8616     1.0  2640.4803     0.0\n",
       "log_NPV:C(source)    7.3186    15.0     9.9977     0.0\n",
       "Residual            65.5903  1344.0        NaN     NaN"
      ]
     },
     "execution_count": 106,
     "metadata": {},
     "output_type": "execute_result"
    }
   ],
   "source": [
    "formula = 'fraction_det~log_NPV*C(source)' \n",
    "model = ols(formula, df).fit()\n",
    "aov_table = anova_lm(model, typ=2) #http://www.utstat.utoronto.ca/reid/sta442f/2009/typeSS.pdf\n",
    "aov_table.round(4)"
   ]
  },
  {
   "cell_type": "code",
   "execution_count": 107,
   "metadata": {},
   "outputs": [],
   "source": [
    "corrs = []\n",
    "pvals = []\n",
    "for ix in np.arange(len(npvs)):\n",
    "    x = npvs[ix]\n",
    "    y = fr_det[ix]\n",
    "    corrs.append(scipy.stats.spearmanr(x, y)[0])\n",
    "    pvals.append(scipy.stats.spearmanr(x, y)[1])"
   ]
  },
  {
   "cell_type": "code",
   "execution_count": 108,
   "metadata": {},
   "outputs": [
    {
     "name": "stdout",
     "output_type": "stream",
     "text": [
      "VISp\n",
      "0.825871372900852\n",
      "True\n",
      "VISl\n",
      "0.896313584745748\n",
      "True\n",
      "ORBvl\n",
      "0.8907474541184908\n",
      "True\n",
      "ACAd\n",
      "0.8999096621513775\n",
      "True\n",
      "MOs\n",
      "0.8446839019397201\n",
      "True\n",
      "ACAv\n",
      "0.7247649692469548\n",
      "True\n",
      "ORBl\n",
      "0.7354699362989645\n",
      "True\n",
      "RSPv\n",
      "0.8939093836223111\n",
      "True\n",
      "VISpor\n",
      "0.8221707934109475\n",
      "True\n",
      "RSPagl\n",
      "0.891925220057002\n",
      "True\n",
      "VISam\n",
      "0.8957869145578533\n",
      "True\n",
      "VISa\n",
      "0.8510384157508695\n",
      "True\n",
      "VISrl\n",
      "0.7656055924858219\n",
      "True\n",
      "ORBm\n",
      "0.8699409356579778\n",
      "True\n",
      "RSPd\n",
      "0.7609534652695419\n",
      "True\n",
      "VISpm\n",
      "0.6514421292837475\n",
      "True\n"
     ]
    }
   ],
   "source": [
    "fdrcorr = sm.stats.fdrcorrection(pvals, alpha=0.05, method='indep')\n",
    "for ix in np.arange(len(npvs)):\n",
    "    print(alldat['source'].unique()[ix])\n",
    "    print(corrs[ix])\n",
    "    print(fdrcorr[0][ix])"
   ]
  },
  {
   "cell_type": "code",
   "execution_count": 109,
   "metadata": {},
   "outputs": [
    {
     "data": {
      "image/png": "[encoded data removed]",
      "text/plain": [
       "<Figure size 108x108 with 1 Axes>"
      ]
     },
     "metadata": {
      "needs_background": "light"
     },
     "output_type": "display_data"
    }
   ],
   "source": [
    "fig, ax = plt.subplots(figsize = (1.5, 1.5))\n",
    "sns.regplot('log_NPV', 'fraction_det', fit_reg = True, ci=False, data = df, color = 'w',\n",
    "           scatter_kws={'s': 10,\n",
    "                        'edgecolor': 'k',\n",
    "                        'linewidth':0.5},\n",
    "           line_kws={'color': 'k',\n",
    "                    'linewidth':0.5})\n",
    "sns.despine()\n",
    "ax.set_ylim([-0.1, 1.1])\n",
    "#ax.set_xlim([-3, 1])\n",
    "ax.tick_params(bottom=True, left=True)\n",
    "ax.set_xlabel('Log10 NPV (WT)', fontsize = 8)\n",
    "ax.set_ylabel('Fraction Observed (TD)', fontsize = 8)\n",
    "plt.axvline(x=df[df['fraction_det'] == 0]['log_NPV'].max(),\n",
    "            color = 'gray', linestyle = '--', linewidth = 0.5, zorder = -1)\n",
    "plt.axvline(x=df[df['fraction_det'] == 1]['log_NPV'].min(),\n",
    "           color = 'gray', linestyle = '--', linewidth = 0.5, zorder = -1)\n",
    "plt.savefig(os.path.join(savepath, 'NPV_fraction_observed.pdf'), \n",
    "            bbox_inches='tight', pad_inches=0.3, format='pdf', transparent=True, dpi=300)"
   ]
  },
  {
   "cell_type": "code",
   "execution_count": 110,
   "metadata": {},
   "outputs": [
    {
     "name": "stdout",
     "output_type": "stream",
     "text": [
      "0.0229388783949394\n",
      "5.471033559239708\n"
     ]
    }
   ],
   "source": [
    "print(10**(df[df['fraction_det'] == 1]['log_NPV'].min()))\n",
    "print(10**(df[df['fraction_det'] == 1]['log_NPV'].max()))"
   ]
  },
  {
   "cell_type": "code",
   "execution_count": 111,
   "metadata": {},
   "outputs": [
    {
     "name": "stdout",
     "output_type": "stream",
     "text": [
      "0.00010572631075430462\n",
      "0.3750948963564172\n"
     ]
    }
   ],
   "source": [
    "print(10**(df[df['fraction_det'] == 0]['log_NPV'].min()))\n",
    "print(10**(df[df['fraction_det'] == 0]['log_NPV'].max()))"
   ]
  },
  {
   "cell_type": "code",
   "execution_count": 112,
   "metadata": {},
   "outputs": [
    {
     "name": "stdout",
     "output_type": "stream",
     "text": [
      "0.3521560179614778\n"
     ]
    }
   ],
   "source": [
    "print(10**(df[df['fraction_det'] == 0]['log_NPV'].max()) - 10**(df[df['fraction_det'] == 1]['log_NPV'].min()))"
   ]
  },
  {
   "cell_type": "code",
   "execution_count": 113,
   "metadata": {},
   "outputs": [
    {
     "data": {
      "image/png": "[encoded data removed]",
      "text/plain": [
       "<Figure size 108x108 with 1 Axes>"
      ]
     },
     "metadata": {
      "needs_background": "light"
     },
     "output_type": "display_data"
    }
   ],
   "source": [
    "fig, ax = plt.subplots(figsize = (1.5, 1.5))\n",
    "sns.regplot('log_NPV', 'fraction_det', \n",
    "            fit_reg = True, ci=False, data = df[df['source'].isin(['ORBl', 'ORBvl'])], \n",
    "            color = 'darkred',\n",
    "           scatter_kws={'s': 10,\n",
    "                        'linewidth':0.5},\n",
    "           line_kws={'linewidth':0.5})\n",
    "sns.regplot('log_NPV', 'fraction_det', \n",
    "            fit_reg = True, ci=False, data = df[df['source'] == 'ACAd'], color = 'r',\n",
    "           scatter_kws={'s': 10,\n",
    "                        'linewidth':0.5},\n",
    "           line_kws={'linewidth':0.5})\n",
    "sns.despine()\n",
    "ax.set_ylim([-0.1, 1.1])\n",
    "#ax.set_xlim([-3, 1])\n",
    "ax.tick_params(bottom=True, left=True)\n",
    "ax.set_xlabel('Log10 NPV (WT)', fontsize = 8)\n",
    "ax.set_ylabel('Fraction Observed (TD)', fontsize = 8)\n",
    "plt.savefig(os.path.join(savepath, 'NPV_fraction_observed_ACAd_ORBlvl.pdf'), \n",
    "            bbox_inches='tight', pad_inches=0.3, format='pdf', transparent=True, dpi=300)"
   ]
  },
  {
   "cell_type": "code",
   "execution_count": 114,
   "metadata": {},
   "outputs": [
    {
     "data": {
      "text/plain": [
       "(0.7911209833131474, 1.2560155320517777e-295)"
      ]
     },
     "execution_count": 114,
     "metadata": {},
     "output_type": "execute_result"
    }
   ],
   "source": [
    "scipy.stats.pearsonr(df['log_NPV'], df['fraction_det'])"
   ]
  },
  {
   "cell_type": "code",
   "execution_count": 115,
   "metadata": {},
   "outputs": [
    {
     "data": {
      "text/html": [
       "<div>\n",
       "<style scoped>\n",
       "    .dataframe tbody tr th:only-of-type {\n",
       "        vertical-align: middle;\n",
       "    }\n",
       "\n",
       "    .dataframe tbody tr th {\n",
       "        vertical-align: top;\n",
       "    }\n",
       "\n",
       "    .dataframe thead th {\n",
       "        text-align: right;\n",
       "    }\n",
       "</style>\n",
       "<table border=\"1\" class=\"dataframe\">\n",
       "  <thead>\n",
       "    <tr style=\"text-align: right;\">\n",
       "      <th></th>\n",
       "      <th>sum_sq</th>\n",
       "      <th>df</th>\n",
       "      <th>F</th>\n",
       "      <th>PR(&gt;F)</th>\n",
       "    </tr>\n",
       "  </thead>\n",
       "  <tbody>\n",
       "    <tr>\n",
       "      <th>C(source)</th>\n",
       "      <td>8.6226</td>\n",
       "      <td>15.0</td>\n",
       "      <td>11.7789</td>\n",
       "      <td>0.0</td>\n",
       "    </tr>\n",
       "    <tr>\n",
       "      <th>log_NPV</th>\n",
       "      <td>128.8616</td>\n",
       "      <td>1.0</td>\n",
       "      <td>2640.4803</td>\n",
       "      <td>0.0</td>\n",
       "    </tr>\n",
       "    <tr>\n",
       "      <th>log_NPV:C(source)</th>\n",
       "      <td>7.3186</td>\n",
       "      <td>15.0</td>\n",
       "      <td>9.9977</td>\n",
       "      <td>0.0</td>\n",
       "    </tr>\n",
       "    <tr>\n",
       "      <th>Residual</th>\n",
       "      <td>65.5903</td>\n",
       "      <td>1344.0</td>\n",
       "      <td>NaN</td>\n",
       "      <td>NaN</td>\n",
       "    </tr>\n",
       "  </tbody>\n",
       "</table>\n",
       "</div>"
      ],
      "text/plain": [
       "                     sum_sq      df          F  PR(>F)\n",
       "C(source)            8.6226    15.0    11.7789     0.0\n",
       "log_NPV            128.8616     1.0  2640.4803     0.0\n",
       "log_NPV:C(source)    7.3186    15.0     9.9977     0.0\n",
       "Residual            65.5903  1344.0        NaN     NaN"
      ]
     },
     "execution_count": 115,
     "metadata": {},
     "output_type": "execute_result"
    }
   ],
   "source": [
    "formula = 'fraction_det~log_NPV*C(source)' \n",
    "model = ols(formula, df).fit()\n",
    "aov_table = anova_lm(model, typ=2) #http://www.utstat.utoronto.ca/reid/sta442f/2009/typeSS.pdf\n",
    "aov_table.round(4)"
   ]
  },
  {
   "cell_type": "code",
   "execution_count": null,
   "metadata": {},
   "outputs": [],
   "source": []
  },
  {
   "cell_type": "code",
   "execution_count": null,
   "metadata": {},
   "outputs": [],
   "source": []
  }
 ],
 "metadata": {
  "kernelspec": {
   "display_name": "dmn-virtualenv",
   "language": "python",
   "name": "dmn-virtualenv"
  },
  "language_info": {
   "codemirror_mode": {
    "name": "ipython",
    "version": 3
   },
   "file_extension": ".py",
   "mimetype": "text/x-python",
   "name": "python",
   "nbconvert_exporter": "python",
   "pygments_lexer": "ipython3",
   "version": "3.7.4"
  }
 },
 "nbformat": 4,
 "nbformat_minor": 1
}
